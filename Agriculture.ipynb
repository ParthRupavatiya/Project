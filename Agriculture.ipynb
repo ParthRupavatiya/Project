{
 "cells": [
  {
   "cell_type": "markdown",
   "metadata": {},
   "source": [
    "# Agriculture"
   ]
  },
  {
   "cell_type": "code",
   "execution_count": 1,
   "metadata": {},
   "outputs": [],
   "source": [
    "import pandas as pd\n",
    "import numpy as np\n",
    "import matplotlib.pyplot as plt\n",
    "import seaborn as sns\n",
    "import warnings\n",
    "warnings.filterwarnings('ignore')"
   ]
  },
  {
   "cell_type": "code",
   "execution_count": 2,
   "metadata": {},
   "outputs": [],
   "source": [
    "# Load train and test dataset\n",
    "df_train = pd.read_csv(\"agriculture_train.csv\")\n",
    "df_test = pd.read_csv(\"agriculture_test.csv\")"
   ]
  },
  {
   "cell_type": "code",
   "execution_count": 3,
   "metadata": {},
   "outputs": [
    {
     "name": "stdout",
     "output_type": "stream",
     "text": [
      "Train data: (4599, 10)\n",
      "Test data: (1199, 9)\n"
     ]
    }
   ],
   "source": [
    "#check shape of the dataset\n",
    "print(\"Train data:\",df_train.shape)\n",
    "print(\"Test data:\",df_test.shape)"
   ]
  },
  {
   "cell_type": "code",
   "execution_count": 4,
   "metadata": {},
   "outputs": [
    {
     "data": {
      "text/html": [
       "<div>\n",
       "<style scoped>\n",
       "    .dataframe tbody tr th:only-of-type {\n",
       "        vertical-align: middle;\n",
       "    }\n",
       "\n",
       "    .dataframe tbody tr th {\n",
       "        vertical-align: top;\n",
       "    }\n",
       "\n",
       "    .dataframe thead th {\n",
       "        text-align: right;\n",
       "    }\n",
       "</style>\n",
       "<table border=\"1\" class=\"dataframe\">\n",
       "  <thead>\n",
       "    <tr style=\"text-align: right;\">\n",
       "      <th></th>\n",
       "      <th>ID</th>\n",
       "      <th>Estimated_Insects_Count</th>\n",
       "      <th>Crop_Type</th>\n",
       "      <th>Soil_Type</th>\n",
       "      <th>Pesticide_Use_Category</th>\n",
       "      <th>Number_Doses_Week</th>\n",
       "      <th>Number_Weeks_Used</th>\n",
       "      <th>Number_Weeks_Quit</th>\n",
       "      <th>Season</th>\n",
       "      <th>Crop_Damage</th>\n",
       "    </tr>\n",
       "  </thead>\n",
       "  <tbody>\n",
       "    <tr>\n",
       "      <th>0</th>\n",
       "      <td>F00000001</td>\n",
       "      <td>188</td>\n",
       "      <td>1</td>\n",
       "      <td>0</td>\n",
       "      <td>1</td>\n",
       "      <td>0</td>\n",
       "      <td>0.0</td>\n",
       "      <td>0</td>\n",
       "      <td>1</td>\n",
       "      <td>0</td>\n",
       "    </tr>\n",
       "    <tr>\n",
       "      <th>1</th>\n",
       "      <td>F00000003</td>\n",
       "      <td>209</td>\n",
       "      <td>1</td>\n",
       "      <td>0</td>\n",
       "      <td>1</td>\n",
       "      <td>0</td>\n",
       "      <td>0.0</td>\n",
       "      <td>0</td>\n",
       "      <td>2</td>\n",
       "      <td>1</td>\n",
       "    </tr>\n",
       "    <tr>\n",
       "      <th>2</th>\n",
       "      <td>F00000004</td>\n",
       "      <td>257</td>\n",
       "      <td>1</td>\n",
       "      <td>0</td>\n",
       "      <td>1</td>\n",
       "      <td>0</td>\n",
       "      <td>0.0</td>\n",
       "      <td>0</td>\n",
       "      <td>2</td>\n",
       "      <td>1</td>\n",
       "    </tr>\n",
       "    <tr>\n",
       "      <th>3</th>\n",
       "      <td>F00000005</td>\n",
       "      <td>257</td>\n",
       "      <td>1</td>\n",
       "      <td>1</td>\n",
       "      <td>1</td>\n",
       "      <td>0</td>\n",
       "      <td>0.0</td>\n",
       "      <td>0</td>\n",
       "      <td>2</td>\n",
       "      <td>1</td>\n",
       "    </tr>\n",
       "    <tr>\n",
       "      <th>4</th>\n",
       "      <td>F00000006</td>\n",
       "      <td>342</td>\n",
       "      <td>1</td>\n",
       "      <td>0</td>\n",
       "      <td>1</td>\n",
       "      <td>0</td>\n",
       "      <td>0.0</td>\n",
       "      <td>0</td>\n",
       "      <td>2</td>\n",
       "      <td>1</td>\n",
       "    </tr>\n",
       "  </tbody>\n",
       "</table>\n",
       "</div>"
      ],
      "text/plain": [
       "          ID  Estimated_Insects_Count  Crop_Type  Soil_Type  \\\n",
       "0  F00000001                      188          1          0   \n",
       "1  F00000003                      209          1          0   \n",
       "2  F00000004                      257          1          0   \n",
       "3  F00000005                      257          1          1   \n",
       "4  F00000006                      342          1          0   \n",
       "\n",
       "   Pesticide_Use_Category  Number_Doses_Week  Number_Weeks_Used  \\\n",
       "0                       1                  0                0.0   \n",
       "1                       1                  0                0.0   \n",
       "2                       1                  0                0.0   \n",
       "3                       1                  0                0.0   \n",
       "4                       1                  0                0.0   \n",
       "\n",
       "   Number_Weeks_Quit  Season  Crop_Damage  \n",
       "0                  0       1            0  \n",
       "1                  0       2            1  \n",
       "2                  0       2            1  \n",
       "3                  0       2            1  \n",
       "4                  0       2            1  "
      ]
     },
     "execution_count": 4,
     "metadata": {},
     "output_type": "execute_result"
    }
   ],
   "source": [
    "df_train.head()"
   ]
  },
  {
   "cell_type": "code",
   "execution_count": 5,
   "metadata": {},
   "outputs": [
    {
     "data": {
      "text/plain": [
       "ID                         4599\n",
       "Estimated_Insects_Count      71\n",
       "Crop_Type                     2\n",
       "Soil_Type                     2\n",
       "Pesticide_Use_Category        3\n",
       "Number_Doses_Week            20\n",
       "Number_Weeks_Used            63\n",
       "Number_Weeks_Quit            47\n",
       "Season                        3\n",
       "Crop_Damage                   3\n",
       "dtype: int64"
      ]
     },
     "execution_count": 5,
     "metadata": {},
     "output_type": "execute_result"
    }
   ],
   "source": [
    "#check unique values present in each attributes.\n",
    "df_train.nunique()"
   ]
  },
  {
   "cell_type": "code",
   "execution_count": 6,
   "metadata": {},
   "outputs": [
    {
     "name": "stdout",
     "output_type": "stream",
     "text": [
      "<class 'pandas.core.frame.DataFrame'>\n",
      "RangeIndex: 4599 entries, 0 to 4598\n",
      "Data columns (total 10 columns):\n",
      " #   Column                   Non-Null Count  Dtype  \n",
      "---  ------                   --------------  -----  \n",
      " 0   ID                       4599 non-null   object \n",
      " 1   Estimated_Insects_Count  4599 non-null   int64  \n",
      " 2   Crop_Type                4599 non-null   int64  \n",
      " 3   Soil_Type                4599 non-null   int64  \n",
      " 4   Pesticide_Use_Category   4599 non-null   int64  \n",
      " 5   Number_Doses_Week        4599 non-null   int64  \n",
      " 6   Number_Weeks_Used        4157 non-null   float64\n",
      " 7   Number_Weeks_Quit        4599 non-null   int64  \n",
      " 8   Season                   4599 non-null   int64  \n",
      " 9   Crop_Damage              4599 non-null   int64  \n",
      "dtypes: float64(1), int64(8), object(1)\n",
      "memory usage: 359.4+ KB\n"
     ]
    }
   ],
   "source": [
    "#check datatypes and null values present in data\n",
    "df_train.info()"
   ]
  },
  {
   "cell_type": "markdown",
   "metadata": {},
   "source": [
    "Null value present in Number_Weeks_Used attribue and need to fill this null value."
   ]
  },
  {
   "cell_type": "code",
   "execution_count": 7,
   "metadata": {},
   "outputs": [],
   "source": [
    "#fill null value of Number_Weeks_Used column with it's most frequent value.\n",
    "df_train[\"Number_Weeks_Used\"] = df_train[\"Number_Weeks_Used\"].fillna(df_train[\"Number_Weeks_Used\"].mode()[0])"
   ]
  },
  {
   "cell_type": "code",
   "execution_count": 8,
   "metadata": {},
   "outputs": [
    {
     "data": {
      "text/plain": [
       "ID                         0\n",
       "Estimated_Insects_Count    0\n",
       "Crop_Type                  0\n",
       "Soil_Type                  0\n",
       "Pesticide_Use_Category     0\n",
       "Number_Doses_Week          0\n",
       "Number_Weeks_Used          0\n",
       "Number_Weeks_Quit          0\n",
       "Season                     0\n",
       "Crop_Damage                0\n",
       "dtype: int64"
      ]
     },
     "execution_count": 8,
     "metadata": {},
     "output_type": "execute_result"
    }
   ],
   "source": [
    "#check null value\n",
    "df_train.isnull().sum()"
   ]
  },
  {
   "cell_type": "code",
   "execution_count": 9,
   "metadata": {},
   "outputs": [
    {
     "data": {
      "text/html": [
       "<div>\n",
       "<style scoped>\n",
       "    .dataframe tbody tr th:only-of-type {\n",
       "        vertical-align: middle;\n",
       "    }\n",
       "\n",
       "    .dataframe tbody tr th {\n",
       "        vertical-align: top;\n",
       "    }\n",
       "\n",
       "    .dataframe thead th {\n",
       "        text-align: right;\n",
       "    }\n",
       "</style>\n",
       "<table border=\"1\" class=\"dataframe\">\n",
       "  <thead>\n",
       "    <tr style=\"text-align: right;\">\n",
       "      <th></th>\n",
       "      <th>Estimated_Insects_Count</th>\n",
       "      <th>Crop_Type</th>\n",
       "      <th>Soil_Type</th>\n",
       "      <th>Pesticide_Use_Category</th>\n",
       "      <th>Number_Doses_Week</th>\n",
       "      <th>Number_Weeks_Used</th>\n",
       "      <th>Number_Weeks_Quit</th>\n",
       "      <th>Season</th>\n",
       "      <th>Crop_Damage</th>\n",
       "    </tr>\n",
       "  </thead>\n",
       "  <tbody>\n",
       "    <tr>\n",
       "      <th>0</th>\n",
       "      <td>188</td>\n",
       "      <td>1</td>\n",
       "      <td>0</td>\n",
       "      <td>1</td>\n",
       "      <td>0</td>\n",
       "      <td>0.0</td>\n",
       "      <td>0</td>\n",
       "      <td>1</td>\n",
       "      <td>0</td>\n",
       "    </tr>\n",
       "    <tr>\n",
       "      <th>1</th>\n",
       "      <td>209</td>\n",
       "      <td>1</td>\n",
       "      <td>0</td>\n",
       "      <td>1</td>\n",
       "      <td>0</td>\n",
       "      <td>0.0</td>\n",
       "      <td>0</td>\n",
       "      <td>2</td>\n",
       "      <td>1</td>\n",
       "    </tr>\n",
       "    <tr>\n",
       "      <th>2</th>\n",
       "      <td>257</td>\n",
       "      <td>1</td>\n",
       "      <td>0</td>\n",
       "      <td>1</td>\n",
       "      <td>0</td>\n",
       "      <td>0.0</td>\n",
       "      <td>0</td>\n",
       "      <td>2</td>\n",
       "      <td>1</td>\n",
       "    </tr>\n",
       "    <tr>\n",
       "      <th>3</th>\n",
       "      <td>257</td>\n",
       "      <td>1</td>\n",
       "      <td>1</td>\n",
       "      <td>1</td>\n",
       "      <td>0</td>\n",
       "      <td>0.0</td>\n",
       "      <td>0</td>\n",
       "      <td>2</td>\n",
       "      <td>1</td>\n",
       "    </tr>\n",
       "    <tr>\n",
       "      <th>4</th>\n",
       "      <td>342</td>\n",
       "      <td>1</td>\n",
       "      <td>0</td>\n",
       "      <td>1</td>\n",
       "      <td>0</td>\n",
       "      <td>0.0</td>\n",
       "      <td>0</td>\n",
       "      <td>2</td>\n",
       "      <td>1</td>\n",
       "    </tr>\n",
       "  </tbody>\n",
       "</table>\n",
       "</div>"
      ],
      "text/plain": [
       "   Estimated_Insects_Count  Crop_Type  Soil_Type  Pesticide_Use_Category  \\\n",
       "0                      188          1          0                       1   \n",
       "1                      209          1          0                       1   \n",
       "2                      257          1          0                       1   \n",
       "3                      257          1          1                       1   \n",
       "4                      342          1          0                       1   \n",
       "\n",
       "   Number_Doses_Week  Number_Weeks_Used  Number_Weeks_Quit  Season  \\\n",
       "0                  0                0.0                  0       1   \n",
       "1                  0                0.0                  0       2   \n",
       "2                  0                0.0                  0       2   \n",
       "3                  0                0.0                  0       2   \n",
       "4                  0                0.0                  0       2   \n",
       "\n",
       "   Crop_Damage  \n",
       "0            0  \n",
       "1            1  \n",
       "2            1  \n",
       "3            1  \n",
       "4            1  "
      ]
     },
     "execution_count": 9,
     "metadata": {},
     "output_type": "execute_result"
    }
   ],
   "source": [
    "# Drop ID column because it is not useful for our model.\n",
    "df_train.drop([\"ID\"],axis=1,inplace=True)\n",
    "df_train.head()"
   ]
  },
  {
   "cell_type": "markdown",
   "metadata": {},
   "source": [
    "## Univariate Analysis"
   ]
  },
  {
   "cell_type": "code",
   "execution_count": 10,
   "metadata": {},
   "outputs": [
    {
     "data": {
      "text/plain": [
       "<AxesSubplot:xlabel='Crop_Type', ylabel='count'>"
      ]
     },
     "execution_count": 10,
     "metadata": {},
     "output_type": "execute_result"
    },
    {
     "data": {
      "image/png": "[encoded data removed]",
      "text/plain": [
       "<Figure size 432x288 with 1 Axes>"
      ]
     },
     "metadata": {
      "needs_background": "light"
     },
     "output_type": "display_data"
    }
   ],
   "source": [
    "sns.countplot(df_train[\"Crop_Type\"])"
   ]
  },
  {
   "cell_type": "markdown",
   "metadata": {},
   "source": [
    "Crop type zero is more preferd by farmers compared to crop type one in our dataset. "
   ]
  },
  {
   "cell_type": "code",
   "execution_count": 11,
   "metadata": {},
   "outputs": [
    {
     "data": {
      "text/plain": [
       "<AxesSubplot:xlabel='Pesticide_Use_Category', ylabel='count'>"
      ]
     },
     "execution_count": 11,
     "metadata": {},
     "output_type": "execute_result"
    },
    {
     "data": {
      "image/png": "[encoded data removed]",
      "text/plain": [
       "<Figure size 432x288 with 1 Axes>"
      ]
     },
     "metadata": {
      "needs_background": "light"
     },
     "output_type": "display_data"
    }
   ],
   "source": [
    "sns.countplot(df_train[\"Pesticide_Use_Category\"])"
   ]
  },
  {
   "cell_type": "markdown",
   "metadata": {},
   "source": [
    "Maximum farmers used Pesticide previously(category=2) for farming compared to another two categories.while, very few farmers never used pesticides(category=1). "
   ]
  },
  {
   "cell_type": "code",
   "execution_count": 12,
   "metadata": {},
   "outputs": [
    {
     "data": {
      "text/plain": [
       "<AxesSubplot:xlabel='Number_Doses_Week', ylabel='count'>"
      ]
     },
     "execution_count": 12,
     "metadata": {},
     "output_type": "execute_result"
    },
    {
     "data": {
      "image/png": "[encoded data removed]",
      "text/plain": [
       "<Figure size 432x288 with 1 Axes>"
      ]
     },
     "metadata": {
      "needs_background": "light"
     },
     "output_type": "display_data"
    }
   ],
   "source": [
    "sns.countplot(df_train[\"Number_Doses_Week\"])"
   ]
  },
  {
   "cell_type": "markdown",
   "metadata": {},
   "source": [
    "Pesticides maximum number of doses per week is approx. 1200. "
   ]
  },
  {
   "cell_type": "code",
   "execution_count": 13,
   "metadata": {},
   "outputs": [
    {
     "data": {
      "image/png": "[encoded data removed]",
      "text/plain": [
       "<Figure size 1152x432 with 1 Axes>"
      ]
     },
     "metadata": {
      "needs_background": "light"
     },
     "output_type": "display_data"
    }
   ],
   "source": [
    "plt.figure(figsize=(16,6))\n",
    "sns.countplot(df_train[\"Number_Weeks_Used\"])\n",
    "plt.xticks(rotation=\"vertical\")\n",
    "plt.show()"
   ]
  },
  {
   "cell_type": "markdown",
   "metadata": {},
   "source": [
    "Pesticides maximum use is around 650 weeks."
   ]
  },
  {
   "cell_type": "code",
   "execution_count": 14,
   "metadata": {},
   "outputs": [
    {
     "data": {
      "text/plain": [
       "<AxesSubplot:xlabel='Crop_Damage', ylabel='count'>"
      ]
     },
     "execution_count": 14,
     "metadata": {},
     "output_type": "execute_result"
    },
    {
     "data": {
      "image/png": "[encoded data removed]",
      "text/plain": [
       "<Figure size 432x288 with 1 Axes>"
      ]
     },
     "metadata": {
      "needs_background": "light"
     },
     "output_type": "display_data"
    }
   ],
   "source": [
    "sns.countplot(df_train[\"Crop_Damage\"])"
   ]
  },
  {
   "cell_type": "markdown",
   "metadata": {},
   "source": [
    "1. Most of the crop is healthy and Crop is damage due to pesticide is very low in our dataset.(0=alive,1=Damage due to other reason,2=Damage due to pesticides)\n",
    "2. Our target variable is crop damage. This distribution is imbalanced so, we use oversampling method in our model training in order to equally distribute crop damage data. "
   ]
  },
  {
   "cell_type": "markdown",
   "metadata": {},
   "source": [
    "## Bivariate Analysis"
   ]
  },
  {
   "cell_type": "code",
   "execution_count": 15,
   "metadata": {},
   "outputs": [
    {
     "data": {
      "text/plain": [
       "<AxesSubplot:xlabel='Crop_Type', ylabel='Estimated_Insects_Count'>"
      ]
     },
     "execution_count": 15,
     "metadata": {},
     "output_type": "execute_result"
    },
    {
     "data": {
      "image/png": "[encoded data removed]",
      "text/plain": [
       "<Figure size 432x288 with 1 Axes>"
      ]
     },
     "metadata": {
      "needs_background": "light"
     },
     "output_type": "display_data"
    }
   ],
   "source": [
    "sns.barplot(x=\"Crop_Type\",y=\"Estimated_Insects_Count\",data=df_train)"
   ]
  },
  {
   "cell_type": "markdown",
   "metadata": {},
   "source": [
    "Insects is almost equally present in both types of crop."
   ]
  },
  {
   "cell_type": "code",
   "execution_count": 16,
   "metadata": {},
   "outputs": [
    {
     "data": {
      "text/plain": [
       "<AxesSubplot:xlabel='Soil_Type', ylabel='Estimated_Insects_Count'>"
      ]
     },
     "execution_count": 16,
     "metadata": {},
     "output_type": "execute_result"
    },
    {
     "data": {
      "image/png": "[encoded data removed]",
      "text/plain": [
       "<Figure size 432x288 with 1 Axes>"
      ]
     },
     "metadata": {
      "needs_background": "light"
     },
     "output_type": "display_data"
    }
   ],
   "source": [
    "sns.barplot(x=\"Soil_Type\",y=\"Estimated_Insects_Count\",data=df_train)"
   ]
  },
  {
   "cell_type": "markdown",
   "metadata": {},
   "source": [
    "Insects are slightly more present in zero type of soil."
   ]
  },
  {
   "cell_type": "code",
   "execution_count": 17,
   "metadata": {},
   "outputs": [
    {
     "data": {
      "text/plain": [
       "<AxesSubplot:xlabel='Pesticide_Use_Category', ylabel='Estimated_Insects_Count'>"
      ]
     },
     "execution_count": 17,
     "metadata": {},
     "output_type": "execute_result"
    },
    {
     "data": {
      "image/png": "[encoded data removed]",
      "text/plain": [
       "<Figure size 432x288 with 1 Axes>"
      ]
     },
     "metadata": {
      "needs_background": "light"
     },
     "output_type": "display_data"
    }
   ],
   "source": [
    "sns.barplot(x=\"Pesticide_Use_Category\",y=\"Estimated_Insects_Count\",data=df_train)"
   ]
  },
  {
   "cell_type": "markdown",
   "metadata": {},
   "source": [
    "Insects count are more, where pesticieds is never used.while,insects count are equal where,pesticides is previously used and currently using.  "
   ]
  },
  {
   "cell_type": "code",
   "execution_count": 18,
   "metadata": {},
   "outputs": [
    {
     "data": {
      "text/plain": [
       "<AxesSubplot:xlabel='Number_Doses_Week', ylabel='Estimated_Insects_Count'>"
      ]
     },
     "execution_count": 18,
     "metadata": {},
     "output_type": "execute_result"
    },
    {
     "data": {
      "image/png": "[encoded data removed]",
      "text/plain": [
       "<Figure size 432x288 with 1 Axes>"
      ]
     },
     "metadata": {
      "needs_background": "light"
     },
     "output_type": "display_data"
    }
   ],
   "source": [
    "sns.barplot(x=\"Number_Doses_Week\",y=\"Estimated_Insects_Count\",data=df_train)"
   ]
  },
  {
   "cell_type": "markdown",
   "metadata": {},
   "source": [
    "Insects count is high Where pesticides no. of doses per week is high. "
   ]
  },
  {
   "cell_type": "code",
   "execution_count": 19,
   "metadata": {},
   "outputs": [
    {
     "data": {
      "text/plain": [
       "<AxesSubplot:xlabel='Crop_Damage', ylabel='Estimated_Insects_Count'>"
      ]
     },
     "execution_count": 19,
     "metadata": {},
     "output_type": "execute_result"
    },
    {
     "data": {
      "image/png": "[encoded data removed]",
      "text/plain": [
       "<Figure size 432x288 with 1 Axes>"
      ]
     },
     "metadata": {
      "needs_background": "light"
     },
     "output_type": "display_data"
    }
   ],
   "source": [
    "sns.barplot(x=\"Crop_Damage\",y=\"Estimated_Insects_Count\",data=df_train)"
   ]
  },
  {
   "cell_type": "markdown",
   "metadata": {},
   "source": [
    "1. Insects count are less where,crops is healthy.\n",
    "2. Insects count are high where,crop is damaged due to other reasons and damaged due to pesticides. "
   ]
  },
  {
   "cell_type": "code",
   "execution_count": 20,
   "metadata": {},
   "outputs": [
    {
     "data": {
      "text/plain": [
       "<seaborn.axisgrid.FacetGrid at 0x22af11a1970>"
      ]
     },
     "execution_count": 20,
     "metadata": {},
     "output_type": "execute_result"
    },
    {
     "data": {
      "image/png": "[encoded data removed]",
      "text/plain": [
       "<Figure size 360x360 with 1 Axes>"
      ]
     },
     "metadata": {
      "needs_background": "light"
     },
     "output_type": "display_data"
    }
   ],
   "source": [
    "sns.factorplot(x=\"Crop_Damage\",y=\"Number_Doses_Week\",data=df_train,kind=\"bar\")"
   ]
  },
  {
   "cell_type": "markdown",
   "metadata": {},
   "source": [
    "Crop damage due to pesticides is high where number of doses per week is high."
   ]
  },
  {
   "cell_type": "code",
   "execution_count": 21,
   "metadata": {},
   "outputs": [
    {
     "data": {
      "text/plain": [
       "<seaborn.axisgrid.FacetGrid at 0x22af0f17400>"
      ]
     },
     "execution_count": 21,
     "metadata": {},
     "output_type": "execute_result"
    },
    {
     "data": {
      "image/png": "[encoded data removed]",
      "text/plain": [
       "<Figure size 360x360 with 1 Axes>"
      ]
     },
     "metadata": {
      "needs_background": "light"
     },
     "output_type": "display_data"
    }
   ],
   "source": [
    "sns.factorplot(x=\"Crop_Damage\",y=\"Number_Weeks_Quit\",data=df_train,kind=\"bar\")"
   ]
  },
  {
   "cell_type": "markdown",
   "metadata": {},
   "source": [
    "Crop is healthy, where pesticides quits per week is high."
   ]
  },
  {
   "cell_type": "code",
   "execution_count": 22,
   "metadata": {},
   "outputs": [
    {
     "data": {
      "text/plain": [
       "<seaborn.axisgrid.FacetGrid at 0x22af0f676d0>"
      ]
     },
     "execution_count": 22,
     "metadata": {},
     "output_type": "execute_result"
    },
    {
     "data": {
      "image/png": "[encoded data removed]",
      "text/plain": [
       "<Figure size 360x360 with 1 Axes>"
      ]
     },
     "metadata": {
      "needs_background": "light"
     },
     "output_type": "display_data"
    }
   ],
   "source": [
    "sns.factorplot(x=\"Crop_Damage\",y=\"Crop_Type\",data=df_train,kind=\"bar\")"
   ]
  },
  {
   "cell_type": "markdown",
   "metadata": {},
   "source": [
    "Crop damage due to other reasons is more prone to crop type 1."
   ]
  },
  {
   "cell_type": "code",
   "execution_count": 23,
   "metadata": {},
   "outputs": [
    {
     "data": {
      "text/plain": [
       "<seaborn.axisgrid.FacetGrid at 0x22af0f67d90>"
      ]
     },
     "execution_count": 23,
     "metadata": {},
     "output_type": "execute_result"
    },
    {
     "data": {
      "image/png": "[encoded data removed]",
      "text/plain": [
       "<Figure size 360x360 with 1 Axes>"
      ]
     },
     "metadata": {
      "needs_background": "light"
     },
     "output_type": "display_data"
    }
   ],
   "source": [
    "sns.factorplot(x=\"Crop_Damage\",y=\"Soil_Type\",data=df_train,kind=\"bar\")"
   ]
  },
  {
   "cell_type": "markdown",
   "metadata": {},
   "source": [
    "Healthy type of crop is more prone to soil type 1."
   ]
  },
  {
   "cell_type": "code",
   "execution_count": 24,
   "metadata": {},
   "outputs": [
    {
     "data": {
      "text/html": [
       "<div>\n",
       "<style scoped>\n",
       "    .dataframe tbody tr th:only-of-type {\n",
       "        vertical-align: middle;\n",
       "    }\n",
       "\n",
       "    .dataframe tbody tr th {\n",
       "        vertical-align: top;\n",
       "    }\n",
       "\n",
       "    .dataframe thead th {\n",
       "        text-align: right;\n",
       "    }\n",
       "</style>\n",
       "<table border=\"1\" class=\"dataframe\">\n",
       "  <thead>\n",
       "    <tr style=\"text-align: right;\">\n",
       "      <th></th>\n",
       "      <th>Estimated_Insects_Count</th>\n",
       "      <th>Number_Doses_Week</th>\n",
       "      <th>Number_Weeks_Used</th>\n",
       "      <th>Number_Weeks_Quit</th>\n",
       "    </tr>\n",
       "  </thead>\n",
       "  <tbody>\n",
       "    <tr>\n",
       "      <th>count</th>\n",
       "      <td>4599.000000</td>\n",
       "      <td>4599.000000</td>\n",
       "      <td>4599.000000</td>\n",
       "      <td>4599.000000</td>\n",
       "    </tr>\n",
       "    <tr>\n",
       "      <th>mean</th>\n",
       "      <td>1363.000435</td>\n",
       "      <td>26.477495</td>\n",
       "      <td>28.036530</td>\n",
       "      <td>9.205479</td>\n",
       "    </tr>\n",
       "    <tr>\n",
       "      <th>std</th>\n",
       "      <td>814.439120</td>\n",
       "      <td>15.524647</td>\n",
       "      <td>12.249436</td>\n",
       "      <td>9.713253</td>\n",
       "    </tr>\n",
       "    <tr>\n",
       "      <th>min</th>\n",
       "      <td>150.000000</td>\n",
       "      <td>0.000000</td>\n",
       "      <td>0.000000</td>\n",
       "      <td>0.000000</td>\n",
       "    </tr>\n",
       "    <tr>\n",
       "      <th>25%</th>\n",
       "      <td>731.000000</td>\n",
       "      <td>15.000000</td>\n",
       "      <td>20.000000</td>\n",
       "      <td>0.000000</td>\n",
       "    </tr>\n",
       "    <tr>\n",
       "      <th>50%</th>\n",
       "      <td>1212.000000</td>\n",
       "      <td>20.000000</td>\n",
       "      <td>26.000000</td>\n",
       "      <td>7.000000</td>\n",
       "    </tr>\n",
       "    <tr>\n",
       "      <th>75%</th>\n",
       "      <td>1786.000000</td>\n",
       "      <td>40.000000</td>\n",
       "      <td>36.000000</td>\n",
       "      <td>16.000000</td>\n",
       "    </tr>\n",
       "    <tr>\n",
       "      <th>max</th>\n",
       "      <td>4097.000000</td>\n",
       "      <td>95.000000</td>\n",
       "      <td>66.000000</td>\n",
       "      <td>47.000000</td>\n",
       "    </tr>\n",
       "  </tbody>\n",
       "</table>\n",
       "</div>"
      ],
      "text/plain": [
       "       Estimated_Insects_Count  Number_Doses_Week  Number_Weeks_Used  \\\n",
       "count              4599.000000        4599.000000        4599.000000   \n",
       "mean               1363.000435          26.477495          28.036530   \n",
       "std                 814.439120          15.524647          12.249436   \n",
       "min                 150.000000           0.000000           0.000000   \n",
       "25%                 731.000000          15.000000          20.000000   \n",
       "50%                1212.000000          20.000000          26.000000   \n",
       "75%                1786.000000          40.000000          36.000000   \n",
       "max                4097.000000          95.000000          66.000000   \n",
       "\n",
       "       Number_Weeks_Quit  \n",
       "count        4599.000000  \n",
       "mean            9.205479  \n",
       "std             9.713253  \n",
       "min             0.000000  \n",
       "25%             0.000000  \n",
       "50%             7.000000  \n",
       "75%            16.000000  \n",
       "max            47.000000  "
      ]
     },
     "execution_count": 24,
     "metadata": {},
     "output_type": "execute_result"
    }
   ],
   "source": [
    "categorical_col = df_train.drop([\"Estimated_Insects_Count\",\"Number_Doses_Week\",\"Number_Weeks_Used\",\"Number_Weeks_Quit\"],axis=1)\n",
    "numeric_col = df_train.drop([\"Crop_Type\",\"Soil_Type\",\"Pesticide_Use_Category\",\"Season\",\"Crop_Damage\"],axis=1)\n",
    "numeric_col.describe()"
   ]
  },
  {
   "cell_type": "markdown",
   "metadata": {},
   "source": [
    "1. There is large difference between mean and standard deviation in every columns except Number_Weeks_Quit.It depicts that skewness is present in data and need to remove.\n",
    "2. There is large difference between 75 percent of the data and maximum value of the data in every attributes.It represents that outliers present in data and need to remove."
   ]
  },
  {
   "cell_type": "markdown",
   "metadata": {},
   "source": [
    "## Handling Outliers"
   ]
  },
  {
   "cell_type": "code",
   "execution_count": 25,
   "metadata": {},
   "outputs": [
    {
     "data": {
      "text/plain": [
       "<AxesSubplot:xlabel='Estimated_Insects_Count'>"
      ]
     },
     "execution_count": 25,
     "metadata": {},
     "output_type": "execute_result"
    },
    {
     "data": {
      "image/png": "[encoded data removed]",
      "text/plain": [
       "<Figure size 432x288 with 1 Axes>"
      ]
     },
     "metadata": {
      "needs_background": "light"
     },
     "output_type": "display_data"
    }
   ],
   "source": [
    "sns.boxplot(df_train[\"Estimated_Insects_Count\"])"
   ]
  },
  {
   "cell_type": "code",
   "execution_count": 26,
   "metadata": {},
   "outputs": [
    {
     "data": {
      "text/plain": [
       "<AxesSubplot:xlabel='Number_Doses_Week'>"
      ]
     },
     "execution_count": 26,
     "metadata": {},
     "output_type": "execute_result"
    },
    {
     "data": {
      "image/png": "[encoded data removed]",
      "text/plain": [
       "<Figure size 432x288 with 1 Axes>"
      ]
     },
     "metadata": {
      "needs_background": "light"
     },
     "output_type": "display_data"
    }
   ],
   "source": [
    "sns.boxplot(df_train[\"Number_Doses_Week\"])"
   ]
  },
  {
   "cell_type": "code",
   "execution_count": 27,
   "metadata": {},
   "outputs": [
    {
     "data": {
      "text/plain": [
       "<AxesSubplot:xlabel='Number_Weeks_Used'>"
      ]
     },
     "execution_count": 27,
     "metadata": {},
     "output_type": "execute_result"
    },
    {
     "data": {
      "image/png": "[encoded data removed]",
      "text/plain": [
       "<Figure size 432x288 with 1 Axes>"
      ]
     },
     "metadata": {
      "needs_background": "light"
     },
     "output_type": "display_data"
    }
   ],
   "source": [
    "sns.boxplot(df_train[\"Number_Weeks_Used\"])"
   ]
  },
  {
   "cell_type": "code",
   "execution_count": 28,
   "metadata": {},
   "outputs": [
    {
     "data": {
      "text/plain": [
       "<AxesSubplot:xlabel='Number_Weeks_Quit'>"
      ]
     },
     "execution_count": 28,
     "metadata": {},
     "output_type": "execute_result"
    },
    {
     "data": {
      "image/png": "[encoded data removed]",
      "text/plain": [
       "<Figure size 432x288 with 1 Axes>"
      ]
     },
     "metadata": {
      "needs_background": "light"
     },
     "output_type": "display_data"
    }
   ],
   "source": [
    "sns.boxplot(df_train[\"Number_Weeks_Quit\"])"
   ]
  },
  {
   "cell_type": "markdown",
   "metadata": {},
   "source": [
    "From the above plots we can see that outliers present in data and need to remove."
   ]
  },
  {
   "cell_type": "code",
   "execution_count": 29,
   "metadata": {},
   "outputs": [
    {
     "name": "stdout",
     "output_type": "stream",
     "text": [
      "(array([  22,   23,  100,  185,  252,  325,  346,  375,  384,  702,  703,\n",
      "        704,  705,  706,  807,  855,  856,  911,  978,  998, 1017, 1019,\n",
      "       1097, 1212, 1291, 1307, 1324, 1326, 1329, 1337, 1341, 1342, 1343,\n",
      "       1344, 1345, 1346, 1347, 1347, 1348, 1349, 1406, 1443, 1457, 1489,\n",
      "       1523, 1589, 1652, 1654, 1868, 2019, 2090, 2136, 2140, 2165, 2174,\n",
      "       2183, 2185, 2188, 2190, 2190, 2191, 2192, 2193, 2194, 2392, 2553,\n",
      "       2565, 2589, 2590, 2591, 2615, 2702, 2714, 2779, 2928, 2929, 2940,\n",
      "       2942, 2944, 2945, 3048, 3241, 3252, 3253, 3254, 3255, 3256, 3257,\n",
      "       3336, 3388, 3526, 3682, 3718, 3766, 3830, 3840, 3841, 3856, 3894,\n",
      "       3902, 3915, 3919, 3932, 3932, 3933, 3934, 3935, 3936, 3937, 3938,\n",
      "       3939, 3940, 3940, 4024, 4186, 4213, 4274, 4375, 4376, 4436, 4516],\n",
      "      dtype=int64), array([0, 0, 1, 1, 1, 1, 1, 2, 0, 0, 0, 0, 0, 0, 1, 1, 1, 1, 1, 1, 1, 1,\n",
      "       1, 3, 3, 3, 3, 3, 3, 3, 0, 0, 0, 0, 0, 0, 0, 3, 0, 0, 1, 1, 1, 1,\n",
      "       1, 1, 1, 1, 1, 1, 3, 1, 3, 3, 3, 3, 3, 3, 0, 3, 0, 0, 0, 0, 1, 3,\n",
      "       3, 0, 0, 0, 1, 1, 1, 1, 2, 2, 2, 2, 0, 0, 1, 2, 0, 0, 0, 0, 0, 0,\n",
      "       1, 1, 1, 1, 1, 1, 1, 3, 3, 3, 3, 3, 1, 3, 0, 3, 0, 0, 0, 0, 0, 0,\n",
      "       0, 0, 3, 1, 1, 1, 1, 1, 1, 1, 1], dtype=int64))\n"
     ]
    }
   ],
   "source": [
    "#check and remove outliers of numerical data using zscore\n",
    "from scipy.stats import zscore\n",
    "z = np.abs(zscore(numeric_col))\n",
    "threshold=3\n",
    "print(np.where(z>3))"
   ]
  },
  {
   "cell_type": "code",
   "execution_count": 30,
   "metadata": {},
   "outputs": [
    {
     "data": {
      "text/html": [
       "<div>\n",
       "<style scoped>\n",
       "    .dataframe tbody tr th:only-of-type {\n",
       "        vertical-align: middle;\n",
       "    }\n",
       "\n",
       "    .dataframe tbody tr th {\n",
       "        vertical-align: top;\n",
       "    }\n",
       "\n",
       "    .dataframe thead th {\n",
       "        text-align: right;\n",
       "    }\n",
       "</style>\n",
       "<table border=\"1\" class=\"dataframe\">\n",
       "  <thead>\n",
       "    <tr style=\"text-align: right;\">\n",
       "      <th></th>\n",
       "      <th>Estimated_Insects_Count</th>\n",
       "      <th>Number_Doses_Week</th>\n",
       "      <th>Number_Weeks_Used</th>\n",
       "      <th>Number_Weeks_Quit</th>\n",
       "    </tr>\n",
       "  </thead>\n",
       "  <tbody>\n",
       "    <tr>\n",
       "      <th>0</th>\n",
       "      <td>188</td>\n",
       "      <td>0</td>\n",
       "      <td>0.0</td>\n",
       "      <td>0</td>\n",
       "    </tr>\n",
       "    <tr>\n",
       "      <th>1</th>\n",
       "      <td>209</td>\n",
       "      <td>0</td>\n",
       "      <td>0.0</td>\n",
       "      <td>0</td>\n",
       "    </tr>\n",
       "    <tr>\n",
       "      <th>2</th>\n",
       "      <td>257</td>\n",
       "      <td>0</td>\n",
       "      <td>0.0</td>\n",
       "      <td>0</td>\n",
       "    </tr>\n",
       "    <tr>\n",
       "      <th>3</th>\n",
       "      <td>257</td>\n",
       "      <td>0</td>\n",
       "      <td>0.0</td>\n",
       "      <td>0</td>\n",
       "    </tr>\n",
       "    <tr>\n",
       "      <th>4</th>\n",
       "      <td>342</td>\n",
       "      <td>0</td>\n",
       "      <td>0.0</td>\n",
       "      <td>0</td>\n",
       "    </tr>\n",
       "    <tr>\n",
       "      <th>...</th>\n",
       "      <td>...</td>\n",
       "      <td>...</td>\n",
       "      <td>...</td>\n",
       "      <td>...</td>\n",
       "    </tr>\n",
       "    <tr>\n",
       "      <th>4594</th>\n",
       "      <td>2138</td>\n",
       "      <td>20</td>\n",
       "      <td>20.0</td>\n",
       "      <td>1</td>\n",
       "    </tr>\n",
       "    <tr>\n",
       "      <th>4595</th>\n",
       "      <td>2139</td>\n",
       "      <td>30</td>\n",
       "      <td>47.0</td>\n",
       "      <td>2</td>\n",
       "    </tr>\n",
       "    <tr>\n",
       "      <th>4596</th>\n",
       "      <td>2267</td>\n",
       "      <td>10</td>\n",
       "      <td>7.0</td>\n",
       "      <td>27</td>\n",
       "    </tr>\n",
       "    <tr>\n",
       "      <th>4597</th>\n",
       "      <td>2267</td>\n",
       "      <td>10</td>\n",
       "      <td>20.0</td>\n",
       "      <td>24</td>\n",
       "    </tr>\n",
       "    <tr>\n",
       "      <th>4598</th>\n",
       "      <td>2267</td>\n",
       "      <td>10</td>\n",
       "      <td>33.0</td>\n",
       "      <td>17</td>\n",
       "    </tr>\n",
       "  </tbody>\n",
       "</table>\n",
       "<p>4482 rows × 4 columns</p>\n",
       "</div>"
      ],
      "text/plain": [
       "      Estimated_Insects_Count  Number_Doses_Week  Number_Weeks_Used  \\\n",
       "0                         188                  0                0.0   \n",
       "1                         209                  0                0.0   \n",
       "2                         257                  0                0.0   \n",
       "3                         257                  0                0.0   \n",
       "4                         342                  0                0.0   \n",
       "...                       ...                ...                ...   \n",
       "4594                     2138                 20               20.0   \n",
       "4595                     2139                 30               47.0   \n",
       "4596                     2267                 10                7.0   \n",
       "4597                     2267                 10               20.0   \n",
       "4598                     2267                 10               33.0   \n",
       "\n",
       "      Number_Weeks_Quit  \n",
       "0                     0  \n",
       "1                     0  \n",
       "2                     0  \n",
       "3                     0  \n",
       "4                     0  \n",
       "...                 ...  \n",
       "4594                  1  \n",
       "4595                  2  \n",
       "4596                 27  \n",
       "4597                 24  \n",
       "4598                 17  \n",
       "\n",
       "[4482 rows x 4 columns]"
      ]
     },
     "execution_count": 30,
     "metadata": {},
     "output_type": "execute_result"
    }
   ],
   "source": [
    "df_train_1 = numeric_col[(z<3).all(axis=1)]\n",
    "df_train_1"
   ]
  },
  {
   "cell_type": "code",
   "execution_count": 31,
   "metadata": {},
   "outputs": [
    {
     "data": {
      "text/plain": [
       "2.5440313111545985"
      ]
     },
     "execution_count": 31,
     "metadata": {},
     "output_type": "execute_result"
    }
   ],
   "source": [
    "#check loss of outliers data \n",
    "percentage_loss = ((4599-4482)/4599)*100\n",
    "percentage_loss"
   ]
  },
  {
   "cell_type": "markdown",
   "metadata": {},
   "source": [
    "## Prepare data for model training"
   ]
  },
  {
   "cell_type": "code",
   "execution_count": 32,
   "metadata": {},
   "outputs": [],
   "source": [
    "#remove rows from categorical data which is removed from numerical data\n",
    "categorical_col_1 = categorical_col.drop([22,   23,  100,  185,  252,  325,  346,  375,  384,  702,  703,\n",
    "        704,  705,  706,  807,  855,  856,  911,  978,  998, 1017, 1019,\n",
    "       1097, 1212, 1291, 1307, 1324, 1326, 1329, 1337, 1341, 1342, 1343,\n",
    "       1344, 1345, 1346, 1347, 1347, 1348, 1349, 1406, 1443, 1457, 1489,\n",
    "       1523, 1589, 1652, 1654, 1868, 2019, 2090, 2136, 2140, 2165, 2174,\n",
    "       2183, 2185, 2188, 2190, 2190, 2191, 2192, 2193, 2194, 2392, 2553,\n",
    "       2565, 2589, 2590, 2591, 2615, 2702, 2714, 2779, 2928, 2929, 2940,\n",
    "       2942, 2944, 2945, 3048, 3241, 3252, 3253, 3254, 3255, 3256, 3257,\n",
    "       3336, 3388, 3526, 3682, 3718, 3766, 3830, 3840, 3841, 3856, 3894,\n",
    "       3902, 3915, 3919, 3932, 3932, 3933, 3934, 3935, 3936, 3937, 3938,\n",
    "       3939, 3940, 3940, 4024, 4186, 4213, 4274, 4375, 4376, 4436, 4516],axis=0)"
   ]
  },
  {
   "cell_type": "code",
   "execution_count": 33,
   "metadata": {},
   "outputs": [],
   "source": [
    "#merge numerical and categorical data\n",
    "df_train_new = pd.concat([df_train_1,categorical_col_1],axis=1)"
   ]
  },
  {
   "cell_type": "code",
   "execution_count": 34,
   "metadata": {},
   "outputs": [
    {
     "data": {
      "text/html": [
       "<div>\n",
       "<style scoped>\n",
       "    .dataframe tbody tr th:only-of-type {\n",
       "        vertical-align: middle;\n",
       "    }\n",
       "\n",
       "    .dataframe tbody tr th {\n",
       "        vertical-align: top;\n",
       "    }\n",
       "\n",
       "    .dataframe thead th {\n",
       "        text-align: right;\n",
       "    }\n",
       "</style>\n",
       "<table border=\"1\" class=\"dataframe\">\n",
       "  <thead>\n",
       "    <tr style=\"text-align: right;\">\n",
       "      <th></th>\n",
       "      <th>Estimated_Insects_Count</th>\n",
       "      <th>Number_Doses_Week</th>\n",
       "      <th>Number_Weeks_Used</th>\n",
       "      <th>Number_Weeks_Quit</th>\n",
       "      <th>Crop_Type</th>\n",
       "      <th>Soil_Type</th>\n",
       "      <th>Pesticide_Use_Category</th>\n",
       "      <th>Season</th>\n",
       "      <th>Crop_Damage</th>\n",
       "    </tr>\n",
       "  </thead>\n",
       "  <tbody>\n",
       "    <tr>\n",
       "      <th>0</th>\n",
       "      <td>188</td>\n",
       "      <td>0</td>\n",
       "      <td>0.0</td>\n",
       "      <td>0</td>\n",
       "      <td>1</td>\n",
       "      <td>0</td>\n",
       "      <td>1</td>\n",
       "      <td>1</td>\n",
       "      <td>0</td>\n",
       "    </tr>\n",
       "    <tr>\n",
       "      <th>1</th>\n",
       "      <td>209</td>\n",
       "      <td>0</td>\n",
       "      <td>0.0</td>\n",
       "      <td>0</td>\n",
       "      <td>1</td>\n",
       "      <td>0</td>\n",
       "      <td>1</td>\n",
       "      <td>2</td>\n",
       "      <td>1</td>\n",
       "    </tr>\n",
       "    <tr>\n",
       "      <th>2</th>\n",
       "      <td>257</td>\n",
       "      <td>0</td>\n",
       "      <td>0.0</td>\n",
       "      <td>0</td>\n",
       "      <td>1</td>\n",
       "      <td>0</td>\n",
       "      <td>1</td>\n",
       "      <td>2</td>\n",
       "      <td>1</td>\n",
       "    </tr>\n",
       "    <tr>\n",
       "      <th>3</th>\n",
       "      <td>257</td>\n",
       "      <td>0</td>\n",
       "      <td>0.0</td>\n",
       "      <td>0</td>\n",
       "      <td>1</td>\n",
       "      <td>1</td>\n",
       "      <td>1</td>\n",
       "      <td>2</td>\n",
       "      <td>1</td>\n",
       "    </tr>\n",
       "    <tr>\n",
       "      <th>4</th>\n",
       "      <td>342</td>\n",
       "      <td>0</td>\n",
       "      <td>0.0</td>\n",
       "      <td>0</td>\n",
       "      <td>1</td>\n",
       "      <td>0</td>\n",
       "      <td>1</td>\n",
       "      <td>2</td>\n",
       "      <td>1</td>\n",
       "    </tr>\n",
       "  </tbody>\n",
       "</table>\n",
       "</div>"
      ],
      "text/plain": [
       "   Estimated_Insects_Count  Number_Doses_Week  Number_Weeks_Used  \\\n",
       "0                      188                  0                0.0   \n",
       "1                      209                  0                0.0   \n",
       "2                      257                  0                0.0   \n",
       "3                      257                  0                0.0   \n",
       "4                      342                  0                0.0   \n",
       "\n",
       "   Number_Weeks_Quit  Crop_Type  Soil_Type  Pesticide_Use_Category  Season  \\\n",
       "0                  0          1          0                       1       1   \n",
       "1                  0          1          0                       1       2   \n",
       "2                  0          1          0                       1       2   \n",
       "3                  0          1          1                       1       2   \n",
       "4                  0          1          0                       1       2   \n",
       "\n",
       "   Crop_Damage  \n",
       "0            0  \n",
       "1            1  \n",
       "2            1  \n",
       "3            1  \n",
       "4            1  "
      ]
     },
     "execution_count": 34,
     "metadata": {},
     "output_type": "execute_result"
    }
   ],
   "source": [
    "df_train_new.head()"
   ]
  },
  {
   "cell_type": "code",
   "execution_count": 35,
   "metadata": {},
   "outputs": [],
   "source": [
    "#our target variable is crop damage so, we take our target variable as y and it is classification problem.\n",
    "x = df_train_new.drop([\"Crop_Damage\"],axis=1)\n",
    "y = df_train_new[\"Crop_Damage\"]"
   ]
  },
  {
   "cell_type": "code",
   "execution_count": 36,
   "metadata": {},
   "outputs": [
    {
     "name": "stdout",
     "output_type": "stream",
     "text": [
      "(4482, 8)\n",
      "(4482,)\n"
     ]
    }
   ],
   "source": [
    "print(x.shape)\n",
    "print(y.shape)"
   ]
  },
  {
   "cell_type": "code",
   "execution_count": 37,
   "metadata": {},
   "outputs": [],
   "source": [
    "# Here,we use oversampling technique because of imbalanced classification of our target variable.\n",
    "# Oversampling technique generate new samples of the minority classes.\n",
    "from imblearn.over_sampling import RandomOverSampler\n",
    "ros = RandomOverSampler(random_state=42)\n",
    "x_ros,y_ros = ros.fit_resample(x,y)"
   ]
  },
  {
   "cell_type": "code",
   "execution_count": 38,
   "metadata": {},
   "outputs": [
    {
     "name": "stdout",
     "output_type": "stream",
     "text": [
      "(11193, 8)\n",
      "(11193,)\n"
     ]
    }
   ],
   "source": [
    "print(x_ros.shape)\n",
    "print(y_ros.shape)"
   ]
  },
  {
   "cell_type": "markdown",
   "metadata": {},
   "source": [
    "## Handling Skewness"
   ]
  },
  {
   "cell_type": "code",
   "execution_count": 39,
   "metadata": {},
   "outputs": [
    {
     "data": {
      "text/plain": [
       "<AxesSubplot:xlabel='Estimated_Insects_Count', ylabel='Density'>"
      ]
     },
     "execution_count": 39,
     "metadata": {},
     "output_type": "execute_result"
    },
    {
     "data": {
      "image/png": "[encoded data removed]",
      "text/plain": [
       "<Figure size 432x288 with 1 Axes>"
      ]
     },
     "metadata": {
      "needs_background": "light"
     },
     "output_type": "display_data"
    }
   ],
   "source": [
    "sns.distplot(df_train_new[\"Estimated_Insects_Count\"])"
   ]
  },
  {
   "cell_type": "code",
   "execution_count": 40,
   "metadata": {},
   "outputs": [
    {
     "data": {
      "text/plain": [
       "<AxesSubplot:xlabel='Number_Doses_Week', ylabel='Density'>"
      ]
     },
     "execution_count": 40,
     "metadata": {},
     "output_type": "execute_result"
    },
    {
     "data": {
      "image/png": "[encoded data removed]",
      "text/plain": [
       "<Figure size 432x288 with 1 Axes>"
      ]
     },
     "metadata": {
      "needs_background": "light"
     },
     "output_type": "display_data"
    }
   ],
   "source": [
    "sns.distplot(df_train_new[\"Number_Doses_Week\"])"
   ]
  },
  {
   "cell_type": "code",
   "execution_count": 41,
   "metadata": {},
   "outputs": [
    {
     "data": {
      "text/plain": [
       "<AxesSubplot:xlabel='Number_Weeks_Used', ylabel='Density'>"
      ]
     },
     "execution_count": 41,
     "metadata": {},
     "output_type": "execute_result"
    },
    {
     "data": {
      "image/png": "[encoded data removed]",
      "text/plain": [
       "<Figure size 432x288 with 1 Axes>"
      ]
     },
     "metadata": {
      "needs_background": "light"
     },
     "output_type": "display_data"
    }
   ],
   "source": [
    "sns.distplot(df_train_new[\"Number_Weeks_Used\"])"
   ]
  },
  {
   "cell_type": "code",
   "execution_count": 42,
   "metadata": {},
   "outputs": [
    {
     "data": {
      "text/plain": [
       "<AxesSubplot:xlabel='Number_Weeks_Quit', ylabel='Density'>"
      ]
     },
     "execution_count": 42,
     "metadata": {},
     "output_type": "execute_result"
    },
    {
     "data": {
      "image/png": "[encoded data removed]",
      "text/plain": [
       "<Figure size 432x288 with 1 Axes>"
      ]
     },
     "metadata": {
      "needs_background": "light"
     },
     "output_type": "display_data"
    }
   ],
   "source": [
    "sns.distplot(df_train_new[\"Number_Weeks_Quit\"])"
   ]
  },
  {
   "cell_type": "markdown",
   "metadata": {},
   "source": [
    "From the above distribution plots we can see that skewness present in data and need to remove. "
   ]
  },
  {
   "cell_type": "code",
   "execution_count": 43,
   "metadata": {},
   "outputs": [],
   "source": [
    "#remove skewness by power transform method\n",
    "from sklearn.preprocessing import power_transform\n",
    "x_ros = power_transform(x_ros,method='yeo-johnson')"
   ]
  },
  {
   "cell_type": "markdown",
   "metadata": {},
   "source": [
    "## Scaling data"
   ]
  },
  {
   "cell_type": "code",
   "execution_count": 44,
   "metadata": {},
   "outputs": [],
   "source": [
    "#scaling data with mean=0 and unit variance\n",
    "from sklearn.preprocessing import StandardScaler\n",
    "sc = StandardScaler()\n",
    "x_t = sc.fit_transform(x_ros)"
   ]
  },
  {
   "cell_type": "code",
   "execution_count": 45,
   "metadata": {},
   "outputs": [],
   "source": [
    "#split train and test data\n",
    "from sklearn.model_selection import train_test_split\n",
    "x_train,x_test,y_train,y_test = train_test_split(x_t,y_ros,test_size=0.20,random_state=42)"
   ]
  },
  {
   "cell_type": "markdown",
   "metadata": {},
   "source": [
    "## Find Best Model"
   ]
  },
  {
   "cell_type": "code",
   "execution_count": 46,
   "metadata": {},
   "outputs": [
    {
     "name": "stdout",
     "output_type": "stream",
     "text": [
      "Accuracy of LogisticRegression() is:\n",
      "Accuracy of training model is: 0.5217779763234308\n",
      "Accuracy score: 52.389459580169714\n",
      "Confusion matrix: \n",
      " [[524 136 132]\n",
      " [172 237 307]\n",
      " [163 156 412]]\n",
      "Classification report: \n",
      "               precision    recall  f1-score   support\n",
      "\n",
      "           0       0.61      0.66      0.63       792\n",
      "           1       0.45      0.33      0.38       716\n",
      "           2       0.48      0.56      0.52       731\n",
      "\n",
      "    accuracy                           0.52      2239\n",
      "   macro avg       0.51      0.52      0.51      2239\n",
      "weighted avg       0.52      0.52      0.52      2239\n",
      "\n",
      "**************************************************************\n",
      "\n",
      "\n",
      "Accuracy of DecisionTreeClassifier() is:\n",
      "Accuracy of training model is: 0.9974313156131338\n",
      "Accuracy score: 93.1219294327825\n",
      "Confusion matrix: \n",
      " [[641 128  23]\n",
      " [  3 713   0]\n",
      " [  0   0 731]]\n",
      "Classification report: \n",
      "               precision    recall  f1-score   support\n",
      "\n",
      "           0       1.00      0.81      0.89       792\n",
      "           1       0.85      1.00      0.92       716\n",
      "           2       0.97      1.00      0.98       731\n",
      "\n",
      "    accuracy                           0.93      2239\n",
      "   macro avg       0.94      0.94      0.93      2239\n",
      "weighted avg       0.94      0.93      0.93      2239\n",
      "\n",
      "**************************************************************\n",
      "\n",
      "\n",
      "Accuracy of SVC() is:\n",
      "Accuracy of training model is: 0.6614920705829797\n",
      "Accuracy score: 65.74363555158553\n",
      "Confusion matrix: \n",
      " [[530 131 131]\n",
      " [166 299 251]\n",
      " [ 44  44 643]]\n",
      "Classification report: \n",
      "               precision    recall  f1-score   support\n",
      "\n",
      "           0       0.72      0.67      0.69       792\n",
      "           1       0.63      0.42      0.50       716\n",
      "           2       0.63      0.88      0.73       731\n",
      "\n",
      "    accuracy                           0.66      2239\n",
      "   macro avg       0.66      0.66      0.64      2239\n",
      "weighted avg       0.66      0.66      0.64      2239\n",
      "\n",
      "**************************************************************\n",
      "\n",
      "\n",
      "Accuracy of GaussianNB() is:\n",
      "Accuracy of training model is: 0.5230064775519321\n",
      "Accuracy score: 53.148727110317104\n",
      "Confusion matrix: \n",
      " [[553  89 150]\n",
      " [228 139 349]\n",
      " [151  82 498]]\n",
      "Classification report: \n",
      "               precision    recall  f1-score   support\n",
      "\n",
      "           0       0.59      0.70      0.64       792\n",
      "           1       0.45      0.19      0.27       716\n",
      "           2       0.50      0.68      0.58       731\n",
      "\n",
      "    accuracy                           0.53      2239\n",
      "   macro avg       0.51      0.52      0.50      2239\n",
      "weighted avg       0.52      0.53      0.50      2239\n",
      "\n",
      "**************************************************************\n",
      "\n",
      "\n",
      "Accuracy of KNeighborsClassifier() is:\n",
      "Accuracy of training model is: 0.9028367210185392\n",
      "Accuracy score: 85.8865564984368\n",
      "Confusion matrix: \n",
      " [[521 230  41]\n",
      " [ 33 671  12]\n",
      " [  0   0 731]]\n",
      "Classification report: \n",
      "               precision    recall  f1-score   support\n",
      "\n",
      "           0       0.94      0.66      0.77       792\n",
      "           1       0.74      0.94      0.83       716\n",
      "           2       0.93      1.00      0.97       731\n",
      "\n",
      "    accuracy                           0.86      2239\n",
      "   macro avg       0.87      0.86      0.86      2239\n",
      "weighted avg       0.88      0.86      0.85      2239\n",
      "\n",
      "**************************************************************\n",
      "\n",
      "\n"
     ]
    }
   ],
   "source": [
    "from sklearn.linear_model import LogisticRegression\n",
    "from sklearn.tree import DecisionTreeClassifier\n",
    "from sklearn.svm import SVC\n",
    "from sklearn.naive_bayes import GaussianNB\n",
    "from sklearn.neighbors import KNeighborsClassifier\n",
    "from sklearn.metrics import accuracy_score,confusion_matrix,classification_report\n",
    "\n",
    "model = [LogisticRegression(),DecisionTreeClassifier(),SVC(),GaussianNB(),KNeighborsClassifier()]\n",
    "\n",
    "for m in model:\n",
    "    m.fit(x_train,y_train)\n",
    "    train = m.score(x_train,y_train)\n",
    "    predm = m.predict(x_test)\n",
    "    print(\"Accuracy of\",m,\"is:\")\n",
    "    print(\"Accuracy of training model is:\",train)\n",
    "    print(\"Accuracy score:\",accuracy_score(y_test,predm)*100)\n",
    "    print(\"Confusion matrix:\",\"\\n\",confusion_matrix(y_test,predm))\n",
    "    print(\"Classification report:\",\"\\n\",classification_report(y_test,predm))\n",
    "    print(\"**************************************************************\")\n",
    "    print(\"\\n\")"
   ]
  },
  {
   "cell_type": "markdown",
   "metadata": {},
   "source": [
    "## Bagging and Boosting methods"
   ]
  },
  {
   "cell_type": "code",
   "execution_count": 47,
   "metadata": {},
   "outputs": [
    {
     "name": "stdout",
     "output_type": "stream",
     "text": [
      "Accuracy of RandomForestClassifier() is:\n",
      "Accuracy of training model is: 0.9974313156131338\n",
      "Accuracy score: 96.33765073693613\n",
      "Confusion matrix: \n",
      " [[711  70  11]\n",
      " [  1 715   0]\n",
      " [  0   0 731]]\n",
      "Classification report: \n",
      "               precision    recall  f1-score   support\n",
      "\n",
      "           0       1.00      0.90      0.95       792\n",
      "           1       0.91      1.00      0.95       716\n",
      "           2       0.99      1.00      0.99       731\n",
      "\n",
      "    accuracy                           0.96      2239\n",
      "   macro avg       0.96      0.97      0.96      2239\n",
      "weighted avg       0.97      0.96      0.96      2239\n",
      "\n",
      "**************************************************************\n",
      "\n",
      "\n",
      "Accuracy of AdaBoostClassifier() is:\n",
      "Accuracy of training model is: 0.5503685503685504\n",
      "Accuracy score: 56.00714604734256\n",
      "Confusion matrix: \n",
      " [[550 128 114]\n",
      " [200 242 274]\n",
      " [ 95 174 462]]\n",
      "Classification report: \n",
      "               precision    recall  f1-score   support\n",
      "\n",
      "           0       0.65      0.69      0.67       792\n",
      "           1       0.44      0.34      0.38       716\n",
      "           2       0.54      0.63      0.58       731\n",
      "\n",
      "    accuracy                           0.56      2239\n",
      "   macro avg       0.55      0.55      0.55      2239\n",
      "weighted avg       0.55      0.56      0.55      2239\n",
      "\n",
      "**************************************************************\n",
      "\n",
      "\n",
      "Accuracy of GradientBoostingClassifier() is:\n",
      "Accuracy of training model is: 0.7393343756980121\n",
      "Accuracy score: 72.35372934345689\n",
      "Confusion matrix: \n",
      " [[568 145  79]\n",
      " [152 400 164]\n",
      " [ 25  54 652]]\n",
      "Classification report: \n",
      "               precision    recall  f1-score   support\n",
      "\n",
      "           0       0.76      0.72      0.74       792\n",
      "           1       0.67      0.56      0.61       716\n",
      "           2       0.73      0.89      0.80       731\n",
      "\n",
      "    accuracy                           0.72      2239\n",
      "   macro avg       0.72      0.72      0.72      2239\n",
      "weighted avg       0.72      0.72      0.72      2239\n",
      "\n",
      "**************************************************************\n",
      "\n",
      "\n",
      "[23:44:29] WARNING: C:/Users/Administrator/workspace/xgboost-win64_release_1.3.0/src/learner.cc:1061: Starting in XGBoost 1.3.0, the default evaluation metric used with the objective 'multi:softprob' was changed from 'merror' to 'mlogloss'. Explicitly set eval_metric if you'd like to restore the old behavior.\n",
      "Accuracy of XGBClassifier(base_score=0.5, booster='gbtree', colsample_bylevel=1,\n",
      "              colsample_bynode=1, colsample_bytree=1, gamma=0, gpu_id=-1,\n",
      "              importance_type='gain', interaction_constraints='',\n",
      "              learning_rate=0.300000012, max_delta_step=0, max_depth=6,\n",
      "              min_child_weight=1, missing=nan, monotone_constraints='()',\n",
      "              n_estimators=100, n_jobs=4, num_parallel_tree=1,\n",
      "              objective='multi:softprob', random_state=0, reg_alpha=0,\n",
      "              reg_lambda=1, scale_pos_weight=None, subsample=1,\n",
      "              tree_method='exact', validate_parameters=1, verbosity=None) is:\n",
      "Accuracy of training model is: 0.974313156131338\n",
      "Accuracy score: 92.3626619026351\n",
      "Confusion matrix: \n",
      " [[646 126  20]\n",
      " [ 22 691   3]\n",
      " [  0   0 731]]\n",
      "Classification report: \n",
      "               precision    recall  f1-score   support\n",
      "\n",
      "           0       0.97      0.82      0.88       792\n",
      "           1       0.85      0.97      0.90       716\n",
      "           2       0.97      1.00      0.98       731\n",
      "\n",
      "    accuracy                           0.92      2239\n",
      "   macro avg       0.93      0.93      0.92      2239\n",
      "weighted avg       0.93      0.92      0.92      2239\n",
      "\n",
      "**************************************************************\n",
      "\n",
      "\n",
      "Accuracy of ExtraTreesClassifier() is:\n",
      "Accuracy of training model is: 0.9974313156131338\n",
      "Accuracy score: 97.4542206342117\n",
      "Confusion matrix: \n",
      " [[736  52   4]\n",
      " [  1 715   0]\n",
      " [  0   0 731]]\n",
      "Classification report: \n",
      "               precision    recall  f1-score   support\n",
      "\n",
      "           0       1.00      0.93      0.96       792\n",
      "           1       0.93      1.00      0.96       716\n",
      "           2       0.99      1.00      1.00       731\n",
      "\n",
      "    accuracy                           0.97      2239\n",
      "   macro avg       0.98      0.98      0.97      2239\n",
      "weighted avg       0.98      0.97      0.97      2239\n",
      "\n",
      "**************************************************************\n",
      "\n",
      "\n",
      "Learning rate set to 0.088486\n",
      "0:\tlearn: 1.0692846\ttotal: 151ms\tremaining: 2m 31s\n",
      "1:\tlearn: 1.0456460\ttotal: 159ms\tremaining: 1m 19s\n",
      "2:\tlearn: 1.0241517\ttotal: 166ms\tremaining: 55.3s\n",
      "3:\tlearn: 1.0059164\ttotal: 174ms\tremaining: 43.2s\n",
      "4:\tlearn: 0.9894527\ttotal: 181ms\tremaining: 35.9s\n",
      "5:\tlearn: 0.9750010\ttotal: 187ms\tremaining: 31s\n",
      "6:\tlearn: 0.9630811\ttotal: 194ms\tremaining: 27.5s\n",
      "7:\tlearn: 0.9522628\ttotal: 201ms\tremaining: 24.9s\n",
      "8:\tlearn: 0.9396947\ttotal: 207ms\tremaining: 22.8s\n",
      "9:\tlearn: 0.9262688\ttotal: 214ms\tremaining: 21.2s\n",
      "10:\tlearn: 0.9172592\ttotal: 221ms\tremaining: 19.8s\n",
      "11:\tlearn: 0.9080753\ttotal: 227ms\tremaining: 18.7s\n",
      "12:\tlearn: 0.8998223\ttotal: 234ms\tremaining: 17.8s\n",
      "13:\tlearn: 0.8924915\ttotal: 241ms\tremaining: 16.9s\n",
      "14:\tlearn: 0.8825712\ttotal: 247ms\tremaining: 16.2s\n",
      "15:\tlearn: 0.8752893\ttotal: 254ms\tremaining: 15.6s\n",
      "16:\tlearn: 0.8689895\ttotal: 260ms\tremaining: 15s\n",
      "17:\tlearn: 0.8629247\ttotal: 266ms\tremaining: 14.5s\n",
      "18:\tlearn: 0.8582330\ttotal: 273ms\tremaining: 14.1s\n",
      "19:\tlearn: 0.8523616\ttotal: 279ms\tremaining: 13.7s\n",
      "20:\tlearn: 0.8480809\ttotal: 286ms\tremaining: 13.3s\n",
      "21:\tlearn: 0.8431089\ttotal: 292ms\tremaining: 13s\n",
      "22:\tlearn: 0.8375265\ttotal: 298ms\tremaining: 12.7s\n",
      "23:\tlearn: 0.8322487\ttotal: 305ms\tremaining: 12.4s\n",
      "24:\tlearn: 0.8283007\ttotal: 311ms\tremaining: 12.1s\n",
      "25:\tlearn: 0.8234618\ttotal: 318ms\tremaining: 11.9s\n",
      "26:\tlearn: 0.8208080\ttotal: 324ms\tremaining: 11.7s\n",
      "27:\tlearn: 0.8168370\ttotal: 333ms\tremaining: 11.6s\n",
      "28:\tlearn: 0.8132902\ttotal: 342ms\tremaining: 11.4s\n",
      "29:\tlearn: 0.8110438\ttotal: 350ms\tremaining: 11.3s\n",
      "30:\tlearn: 0.8081440\ttotal: 357ms\tremaining: 11.2s\n",
      "31:\tlearn: 0.8053528\ttotal: 364ms\tremaining: 11s\n",
      "32:\tlearn: 0.7998808\ttotal: 370ms\tremaining: 10.9s\n",
      "33:\tlearn: 0.7955110\ttotal: 377ms\tremaining: 10.7s\n",
      "34:\tlearn: 0.7931506\ttotal: 384ms\tremaining: 10.6s\n",
      "35:\tlearn: 0.7905393\ttotal: 390ms\tremaining: 10.4s\n",
      "36:\tlearn: 0.7838784\ttotal: 397ms\tremaining: 10.3s\n",
      "37:\tlearn: 0.7817620\ttotal: 403ms\tremaining: 10.2s\n",
      "38:\tlearn: 0.7790707\ttotal: 409ms\tremaining: 10.1s\n",
      "39:\tlearn: 0.7760580\ttotal: 415ms\tremaining: 9.97s\n",
      "40:\tlearn: 0.7745929\ttotal: 421ms\tremaining: 9.86s\n",
      "41:\tlearn: 0.7715662\ttotal: 428ms\tremaining: 9.76s\n",
      "42:\tlearn: 0.7680039\ttotal: 435ms\tremaining: 9.67s\n",
      "43:\tlearn: 0.7657801\ttotal: 442ms\tremaining: 9.6s\n",
      "44:\tlearn: 0.7631929\ttotal: 449ms\tremaining: 9.53s\n",
      "45:\tlearn: 0.7608341\ttotal: 456ms\tremaining: 9.46s\n",
      "46:\tlearn: 0.7592302\ttotal: 463ms\tremaining: 9.38s\n",
      "47:\tlearn: 0.7570549\ttotal: 470ms\tremaining: 9.32s\n",
      "48:\tlearn: 0.7547671\ttotal: 477ms\tremaining: 9.26s\n",
      "49:\tlearn: 0.7516271\ttotal: 484ms\tremaining: 9.19s\n",
      "50:\tlearn: 0.7494432\ttotal: 490ms\tremaining: 9.12s\n",
      "51:\tlearn: 0.7450838\ttotal: 497ms\tremaining: 9.06s\n",
      "52:\tlearn: 0.7429240\ttotal: 506ms\tremaining: 9.03s\n",
      "53:\tlearn: 0.7400700\ttotal: 514ms\tremaining: 9.01s\n",
      "54:\tlearn: 0.7383794\ttotal: 522ms\tremaining: 8.97s\n",
      "55:\tlearn: 0.7339472\ttotal: 531ms\tremaining: 8.94s\n",
      "56:\tlearn: 0.7297528\ttotal: 537ms\tremaining: 8.89s\n",
      "57:\tlearn: 0.7265424\ttotal: 544ms\tremaining: 8.84s\n",
      "58:\tlearn: 0.7240934\ttotal: 550ms\tremaining: 8.78s\n",
      "59:\tlearn: 0.7217227\ttotal: 557ms\tremaining: 8.72s\n",
      "60:\tlearn: 0.7196749\ttotal: 563ms\tremaining: 8.67s\n",
      "61:\tlearn: 0.7155740\ttotal: 570ms\tremaining: 8.62s\n",
      "62:\tlearn: 0.7137524\ttotal: 576ms\tremaining: 8.57s\n",
      "63:\tlearn: 0.7121592\ttotal: 583ms\tremaining: 8.52s\n",
      "64:\tlearn: 0.7106944\ttotal: 589ms\tremaining: 8.47s\n",
      "65:\tlearn: 0.7071735\ttotal: 595ms\tremaining: 8.43s\n",
      "66:\tlearn: 0.7048627\ttotal: 604ms\tremaining: 8.41s\n",
      "67:\tlearn: 0.7023863\ttotal: 610ms\tremaining: 8.36s\n",
      "68:\tlearn: 0.6999400\ttotal: 617ms\tremaining: 8.32s\n",
      "69:\tlearn: 0.6977881\ttotal: 623ms\tremaining: 8.28s\n",
      "70:\tlearn: 0.6965362\ttotal: 630ms\tremaining: 8.24s\n",
      "71:\tlearn: 0.6942368\ttotal: 636ms\tremaining: 8.2s\n",
      "72:\tlearn: 0.6899802\ttotal: 643ms\tremaining: 8.16s\n",
      "73:\tlearn: 0.6881210\ttotal: 649ms\tremaining: 8.12s\n",
      "74:\tlearn: 0.6866355\ttotal: 655ms\tremaining: 8.08s\n",
      "75:\tlearn: 0.6855547\ttotal: 662ms\tremaining: 8.04s\n",
      "76:\tlearn: 0.6832158\ttotal: 668ms\tremaining: 8.01s\n",
      "77:\tlearn: 0.6816605\ttotal: 676ms\tremaining: 8s\n",
      "78:\tlearn: 0.6793574\ttotal: 685ms\tremaining: 7.98s\n",
      "79:\tlearn: 0.6775557\ttotal: 696ms\tremaining: 8s\n",
      "80:\tlearn: 0.6749350\ttotal: 705ms\tremaining: 8s\n",
      "81:\tlearn: 0.6730767\ttotal: 713ms\tremaining: 7.98s\n",
      "82:\tlearn: 0.6694294\ttotal: 720ms\tremaining: 7.96s\n",
      "83:\tlearn: 0.6675510\ttotal: 727ms\tremaining: 7.93s\n",
      "84:\tlearn: 0.6661077\ttotal: 734ms\tremaining: 7.9s\n",
      "85:\tlearn: 0.6646812\ttotal: 740ms\tremaining: 7.86s\n",
      "86:\tlearn: 0.6628144\ttotal: 746ms\tremaining: 7.83s\n",
      "87:\tlearn: 0.6603202\ttotal: 753ms\tremaining: 7.8s\n",
      "88:\tlearn: 0.6583556\ttotal: 760ms\tremaining: 7.78s\n",
      "89:\tlearn: 0.6570000\ttotal: 766ms\tremaining: 7.75s\n",
      "90:\tlearn: 0.6552770\ttotal: 772ms\tremaining: 7.72s\n",
      "91:\tlearn: 0.6545673\ttotal: 779ms\tremaining: 7.68s\n",
      "92:\tlearn: 0.6526935\ttotal: 785ms\tremaining: 7.66s\n",
      "93:\tlearn: 0.6507734\ttotal: 791ms\tremaining: 7.63s\n",
      "94:\tlearn: 0.6483341\ttotal: 798ms\tremaining: 7.6s\n",
      "95:\tlearn: 0.6476658\ttotal: 804ms\tremaining: 7.57s\n",
      "96:\tlearn: 0.6457933\ttotal: 810ms\tremaining: 7.54s\n",
      "97:\tlearn: 0.6446634\ttotal: 817ms\tremaining: 7.52s\n",
      "98:\tlearn: 0.6434993\ttotal: 823ms\tremaining: 7.49s\n",
      "99:\tlearn: 0.6422539\ttotal: 829ms\tremaining: 7.46s\n",
      "100:\tlearn: 0.6406980\ttotal: 836ms\tremaining: 7.44s\n",
      "101:\tlearn: 0.6391652\ttotal: 842ms\tremaining: 7.41s\n"
     ]
    },
    {
     "name": "stdout",
     "output_type": "stream",
     "text": [
      "102:\tlearn: 0.6365672\ttotal: 854ms\tremaining: 7.43s\n",
      "103:\tlearn: 0.6346774\ttotal: 862ms\tremaining: 7.43s\n",
      "104:\tlearn: 0.6332640\ttotal: 870ms\tremaining: 7.42s\n",
      "105:\tlearn: 0.6304405\ttotal: 878ms\tremaining: 7.41s\n",
      "106:\tlearn: 0.6281909\ttotal: 885ms\tremaining: 7.39s\n",
      "107:\tlearn: 0.6261666\ttotal: 892ms\tremaining: 7.36s\n",
      "108:\tlearn: 0.6237435\ttotal: 898ms\tremaining: 7.34s\n",
      "109:\tlearn: 0.6219856\ttotal: 905ms\tremaining: 7.32s\n",
      "110:\tlearn: 0.6211670\ttotal: 912ms\tremaining: 7.3s\n",
      "111:\tlearn: 0.6203655\ttotal: 918ms\tremaining: 7.28s\n",
      "112:\tlearn: 0.6194235\ttotal: 924ms\tremaining: 7.25s\n",
      "113:\tlearn: 0.6187080\ttotal: 931ms\tremaining: 7.24s\n",
      "114:\tlearn: 0.6177498\ttotal: 938ms\tremaining: 7.21s\n",
      "115:\tlearn: 0.6161945\ttotal: 945ms\tremaining: 7.2s\n",
      "116:\tlearn: 0.6150924\ttotal: 951ms\tremaining: 7.18s\n",
      "117:\tlearn: 0.6138234\ttotal: 958ms\tremaining: 7.16s\n",
      "118:\tlearn: 0.6123493\ttotal: 964ms\tremaining: 7.14s\n",
      "119:\tlearn: 0.6113679\ttotal: 971ms\tremaining: 7.12s\n",
      "120:\tlearn: 0.6086313\ttotal: 978ms\tremaining: 7.11s\n",
      "121:\tlearn: 0.6076356\ttotal: 985ms\tremaining: 7.08s\n",
      "122:\tlearn: 0.6066057\ttotal: 991ms\tremaining: 7.06s\n",
      "123:\tlearn: 0.6053167\ttotal: 998ms\tremaining: 7.05s\n",
      "124:\tlearn: 0.6041170\ttotal: 1s\tremaining: 7.04s\n",
      "125:\tlearn: 0.6030828\ttotal: 1.01s\tremaining: 7.04s\n",
      "126:\tlearn: 0.6006679\ttotal: 1.02s\tremaining: 7.04s\n",
      "127:\tlearn: 0.5986539\ttotal: 1.03s\tremaining: 7.04s\n",
      "128:\tlearn: 0.5977260\ttotal: 1.04s\tremaining: 7.05s\n",
      "129:\tlearn: 0.5958102\ttotal: 1.05s\tremaining: 7.06s\n",
      "130:\tlearn: 0.5952479\ttotal: 1.06s\tremaining: 7.06s\n",
      "131:\tlearn: 0.5924023\ttotal: 1.07s\tremaining: 7.06s\n",
      "132:\tlearn: 0.5915500\ttotal: 1.08s\tremaining: 7.04s\n",
      "133:\tlearn: 0.5895300\ttotal: 1.09s\tremaining: 7.03s\n",
      "134:\tlearn: 0.5886416\ttotal: 1.09s\tremaining: 7.02s\n",
      "135:\tlearn: 0.5868814\ttotal: 1.11s\tremaining: 7.06s\n",
      "136:\tlearn: 0.5852684\ttotal: 1.12s\tremaining: 7.07s\n",
      "137:\tlearn: 0.5833790\ttotal: 1.13s\tremaining: 7.07s\n",
      "138:\tlearn: 0.5819978\ttotal: 1.14s\tremaining: 7.06s\n",
      "139:\tlearn: 0.5806883\ttotal: 1.15s\tremaining: 7.05s\n",
      "140:\tlearn: 0.5794507\ttotal: 1.16s\tremaining: 7.04s\n",
      "141:\tlearn: 0.5790887\ttotal: 1.16s\tremaining: 7.01s\n",
      "142:\tlearn: 0.5774319\ttotal: 1.17s\tremaining: 7s\n",
      "143:\tlearn: 0.5748397\ttotal: 1.17s\tremaining: 6.98s\n",
      "144:\tlearn: 0.5732033\ttotal: 1.18s\tremaining: 6.97s\n",
      "145:\tlearn: 0.5711883\ttotal: 1.19s\tremaining: 6.95s\n",
      "146:\tlearn: 0.5699415\ttotal: 1.2s\tremaining: 6.93s\n",
      "147:\tlearn: 0.5684635\ttotal: 1.21s\tremaining: 6.94s\n",
      "148:\tlearn: 0.5679298\ttotal: 1.22s\tremaining: 6.94s\n",
      "149:\tlearn: 0.5670418\ttotal: 1.23s\tremaining: 6.95s\n",
      "150:\tlearn: 0.5653827\ttotal: 1.23s\tremaining: 6.94s\n",
      "151:\tlearn: 0.5643435\ttotal: 1.24s\tremaining: 6.92s\n",
      "152:\tlearn: 0.5635963\ttotal: 1.25s\tremaining: 6.91s\n",
      "153:\tlearn: 0.5630911\ttotal: 1.25s\tremaining: 6.88s\n",
      "154:\tlearn: 0.5625598\ttotal: 1.26s\tremaining: 6.87s\n",
      "155:\tlearn: 0.5608805\ttotal: 1.27s\tremaining: 6.85s\n",
      "156:\tlearn: 0.5599660\ttotal: 1.27s\tremaining: 6.83s\n",
      "157:\tlearn: 0.5592175\ttotal: 1.28s\tremaining: 6.81s\n",
      "158:\tlearn: 0.5583252\ttotal: 1.28s\tremaining: 6.8s\n",
      "159:\tlearn: 0.5568467\ttotal: 1.29s\tremaining: 6.78s\n",
      "160:\tlearn: 0.5560773\ttotal: 1.3s\tremaining: 6.77s\n",
      "161:\tlearn: 0.5542173\ttotal: 1.3s\tremaining: 6.75s\n",
      "162:\tlearn: 0.5533798\ttotal: 1.31s\tremaining: 6.74s\n",
      "163:\tlearn: 0.5518062\ttotal: 1.32s\tremaining: 6.72s\n",
      "164:\tlearn: 0.5508811\ttotal: 1.32s\tremaining: 6.71s\n",
      "165:\tlearn: 0.5487612\ttotal: 1.33s\tremaining: 6.69s\n",
      "166:\tlearn: 0.5472157\ttotal: 1.34s\tremaining: 6.68s\n",
      "167:\tlearn: 0.5447956\ttotal: 1.34s\tremaining: 6.66s\n",
      "168:\tlearn: 0.5437340\ttotal: 1.35s\tremaining: 6.64s\n",
      "169:\tlearn: 0.5430418\ttotal: 1.36s\tremaining: 6.63s\n",
      "170:\tlearn: 0.5415615\ttotal: 1.36s\tremaining: 6.61s\n",
      "171:\tlearn: 0.5400294\ttotal: 1.37s\tremaining: 6.6s\n",
      "172:\tlearn: 0.5391088\ttotal: 1.38s\tremaining: 6.59s\n",
      "173:\tlearn: 0.5383296\ttotal: 1.38s\tremaining: 6.57s\n",
      "174:\tlearn: 0.5365190\ttotal: 1.39s\tremaining: 6.57s\n",
      "175:\tlearn: 0.5357335\ttotal: 1.4s\tremaining: 6.55s\n",
      "176:\tlearn: 0.5341868\ttotal: 1.41s\tremaining: 6.54s\n",
      "177:\tlearn: 0.5330015\ttotal: 1.41s\tremaining: 6.53s\n",
      "178:\tlearn: 0.5319620\ttotal: 1.42s\tremaining: 6.51s\n",
      "179:\tlearn: 0.5311585\ttotal: 1.43s\tremaining: 6.49s\n",
      "180:\tlearn: 0.5303552\ttotal: 1.43s\tremaining: 6.48s\n",
      "181:\tlearn: 0.5297651\ttotal: 1.44s\tremaining: 6.46s\n",
      "182:\tlearn: 0.5293858\ttotal: 1.44s\tremaining: 6.45s\n",
      "183:\tlearn: 0.5278182\ttotal: 1.45s\tremaining: 6.44s\n",
      "184:\tlearn: 0.5272451\ttotal: 1.46s\tremaining: 6.42s\n",
      "185:\tlearn: 0.5259748\ttotal: 1.46s\tremaining: 6.41s\n",
      "186:\tlearn: 0.5250807\ttotal: 1.47s\tremaining: 6.39s\n",
      "187:\tlearn: 0.5234953\ttotal: 1.48s\tremaining: 6.38s\n",
      "188:\tlearn: 0.5228777\ttotal: 1.48s\tremaining: 6.36s\n",
      "189:\tlearn: 0.5224126\ttotal: 1.49s\tremaining: 6.35s\n",
      "190:\tlearn: 0.5202607\ttotal: 1.5s\tremaining: 6.33s\n",
      "191:\tlearn: 0.5193438\ttotal: 1.5s\tremaining: 6.32s\n",
      "192:\tlearn: 0.5181760\ttotal: 1.51s\tremaining: 6.31s\n",
      "193:\tlearn: 0.5166186\ttotal: 1.51s\tremaining: 6.29s\n",
      "194:\tlearn: 0.5154804\ttotal: 1.52s\tremaining: 6.28s\n",
      "195:\tlearn: 0.5141273\ttotal: 1.53s\tremaining: 6.28s\n",
      "196:\tlearn: 0.5127727\ttotal: 1.54s\tremaining: 6.27s\n",
      "197:\tlearn: 0.5114673\ttotal: 1.55s\tremaining: 6.26s\n",
      "198:\tlearn: 0.5106552\ttotal: 1.55s\tremaining: 6.26s\n",
      "199:\tlearn: 0.5103328\ttotal: 1.56s\tremaining: 6.25s\n",
      "200:\tlearn: 0.5093909\ttotal: 1.57s\tremaining: 6.24s\n",
      "201:\tlearn: 0.5089726\ttotal: 1.58s\tremaining: 6.23s\n",
      "202:\tlearn: 0.5079593\ttotal: 1.58s\tremaining: 6.22s\n",
      "203:\tlearn: 0.5074727\ttotal: 1.59s\tremaining: 6.2s\n",
      "204:\tlearn: 0.5059455\ttotal: 1.6s\tremaining: 6.19s\n",
      "205:\tlearn: 0.5048810\ttotal: 1.6s\tremaining: 6.18s\n",
      "206:\tlearn: 0.5041448\ttotal: 1.61s\tremaining: 6.17s\n",
      "207:\tlearn: 0.5034059\ttotal: 1.61s\tremaining: 6.15s\n",
      "208:\tlearn: 0.5021813\ttotal: 1.62s\tremaining: 6.14s\n",
      "209:\tlearn: 0.5012778\ttotal: 1.63s\tremaining: 6.13s\n",
      "210:\tlearn: 0.4997834\ttotal: 1.64s\tremaining: 6.12s\n",
      "211:\tlearn: 0.4992112\ttotal: 1.64s\tremaining: 6.1s\n",
      "212:\tlearn: 0.4979534\ttotal: 1.65s\tremaining: 6.09s\n",
      "213:\tlearn: 0.4970756\ttotal: 1.65s\tremaining: 6.08s\n",
      "214:\tlearn: 0.4958201\ttotal: 1.66s\tremaining: 6.07s\n",
      "215:\tlearn: 0.4952988\ttotal: 1.67s\tremaining: 6.05s\n",
      "216:\tlearn: 0.4937673\ttotal: 1.67s\tremaining: 6.04s\n",
      "217:\tlearn: 0.4923823\ttotal: 1.68s\tremaining: 6.03s\n",
      "218:\tlearn: 0.4918557\ttotal: 1.69s\tremaining: 6.01s\n",
      "219:\tlearn: 0.4906273\ttotal: 1.69s\tremaining: 6s\n",
      "220:\tlearn: 0.4900532\ttotal: 1.7s\tremaining: 5.99s\n",
      "221:\tlearn: 0.4891145\ttotal: 1.71s\tremaining: 5.98s\n",
      "222:\tlearn: 0.4887578\ttotal: 1.71s\tremaining: 5.97s\n",
      "223:\tlearn: 0.4881712\ttotal: 1.72s\tremaining: 5.96s\n",
      "224:\tlearn: 0.4872119\ttotal: 1.73s\tremaining: 5.95s\n",
      "225:\tlearn: 0.4869400\ttotal: 1.73s\tremaining: 5.94s\n",
      "226:\tlearn: 0.4864732\ttotal: 1.74s\tremaining: 5.93s\n",
      "227:\tlearn: 0.4850781\ttotal: 1.75s\tremaining: 5.92s\n",
      "228:\tlearn: 0.4845380\ttotal: 1.75s\tremaining: 5.91s\n",
      "229:\tlearn: 0.4831562\ttotal: 1.76s\tremaining: 5.9s\n",
      "230:\tlearn: 0.4829556\ttotal: 1.77s\tremaining: 5.89s\n",
      "231:\tlearn: 0.4822853\ttotal: 1.77s\tremaining: 5.88s\n",
      "232:\tlearn: 0.4813072\ttotal: 1.78s\tremaining: 5.86s\n",
      "233:\tlearn: 0.4803374\ttotal: 1.79s\tremaining: 5.85s\n",
      "234:\tlearn: 0.4786812\ttotal: 1.79s\tremaining: 5.84s\n",
      "235:\tlearn: 0.4782995\ttotal: 1.8s\tremaining: 5.83s\n",
      "236:\tlearn: 0.4776581\ttotal: 1.81s\tremaining: 5.82s\n",
      "237:\tlearn: 0.4773721\ttotal: 1.81s\tremaining: 5.81s\n",
      "238:\tlearn: 0.4765206\ttotal: 1.82s\tremaining: 5.79s\n",
      "239:\tlearn: 0.4761483\ttotal: 1.82s\tremaining: 5.78s\n",
      "240:\tlearn: 0.4753051\ttotal: 1.83s\tremaining: 5.77s\n",
      "241:\tlearn: 0.4749861\ttotal: 1.84s\tremaining: 5.76s\n",
      "242:\tlearn: 0.4741617\ttotal: 1.84s\tremaining: 5.75s\n",
      "243:\tlearn: 0.4735308\ttotal: 1.85s\tremaining: 5.74s\n",
      "244:\tlearn: 0.4725974\ttotal: 1.86s\tremaining: 5.73s\n",
      "245:\tlearn: 0.4716353\ttotal: 1.86s\tremaining: 5.72s\n",
      "246:\tlearn: 0.4703999\ttotal: 1.87s\tremaining: 5.71s\n",
      "247:\tlearn: 0.4700497\ttotal: 1.88s\tremaining: 5.69s\n",
      "248:\tlearn: 0.4695779\ttotal: 1.88s\tremaining: 5.68s\n",
      "249:\tlearn: 0.4687293\ttotal: 1.89s\tremaining: 5.67s\n",
      "250:\tlearn: 0.4676455\ttotal: 1.9s\tremaining: 5.67s\n",
      "251:\tlearn: 0.4668888\ttotal: 1.91s\tremaining: 5.66s\n",
      "252:\tlearn: 0.4665078\ttotal: 1.91s\tremaining: 5.65s\n",
      "253:\tlearn: 0.4661764\ttotal: 1.92s\tremaining: 5.64s\n",
      "254:\tlearn: 0.4656473\ttotal: 1.93s\tremaining: 5.63s\n",
      "255:\tlearn: 0.4648913\ttotal: 1.93s\tremaining: 5.62s\n",
      "256:\tlearn: 0.4637464\ttotal: 1.94s\tremaining: 5.61s\n",
      "257:\tlearn: 0.4630478\ttotal: 1.95s\tremaining: 5.6s\n",
      "258:\tlearn: 0.4618139\ttotal: 1.95s\tremaining: 5.59s\n",
      "259:\tlearn: 0.4610332\ttotal: 1.96s\tremaining: 5.58s\n",
      "260:\tlearn: 0.4604763\ttotal: 1.97s\tremaining: 5.57s\n",
      "261:\tlearn: 0.4600583\ttotal: 1.97s\tremaining: 5.56s\n",
      "262:\tlearn: 0.4594298\ttotal: 1.98s\tremaining: 5.55s\n",
      "263:\tlearn: 0.4586322\ttotal: 1.99s\tremaining: 5.54s\n",
      "264:\tlearn: 0.4577070\ttotal: 1.99s\tremaining: 5.53s\n",
      "265:\tlearn: 0.4566218\ttotal: 2s\tremaining: 5.52s\n",
      "266:\tlearn: 0.4557877\ttotal: 2.01s\tremaining: 5.51s\n",
      "267:\tlearn: 0.4550555\ttotal: 2.01s\tremaining: 5.5s\n",
      "268:\tlearn: 0.4540337\ttotal: 2.02s\tremaining: 5.49s\n",
      "269:\tlearn: 0.4534572\ttotal: 2.03s\tremaining: 5.48s\n",
      "270:\tlearn: 0.4529377\ttotal: 2.03s\tremaining: 5.47s\n",
      "271:\tlearn: 0.4522345\ttotal: 2.04s\tremaining: 5.46s\n",
      "272:\tlearn: 0.4518461\ttotal: 2.04s\tremaining: 5.45s\n",
      "273:\tlearn: 0.4507852\ttotal: 2.05s\tremaining: 5.44s\n",
      "274:\tlearn: 0.4501979\ttotal: 2.06s\tremaining: 5.43s\n",
      "275:\tlearn: 0.4494082\ttotal: 2.06s\tremaining: 5.42s\n"
     ]
    },
    {
     "name": "stdout",
     "output_type": "stream",
     "text": [
      "276:\tlearn: 0.4481338\ttotal: 2.07s\tremaining: 5.42s\n",
      "277:\tlearn: 0.4472723\ttotal: 2.08s\tremaining: 5.41s\n",
      "278:\tlearn: 0.4463096\ttotal: 2.09s\tremaining: 5.4s\n",
      "279:\tlearn: 0.4453548\ttotal: 2.1s\tremaining: 5.39s\n",
      "280:\tlearn: 0.4450435\ttotal: 2.1s\tremaining: 5.39s\n",
      "281:\tlearn: 0.4443217\ttotal: 2.11s\tremaining: 5.38s\n",
      "282:\tlearn: 0.4440511\ttotal: 2.12s\tremaining: 5.36s\n",
      "283:\tlearn: 0.4434601\ttotal: 2.12s\tremaining: 5.35s\n",
      "284:\tlearn: 0.4425821\ttotal: 2.13s\tremaining: 5.34s\n",
      "285:\tlearn: 0.4410839\ttotal: 2.14s\tremaining: 5.34s\n",
      "286:\tlearn: 0.4396971\ttotal: 2.14s\tremaining: 5.33s\n",
      "287:\tlearn: 0.4394934\ttotal: 2.15s\tremaining: 5.32s\n",
      "288:\tlearn: 0.4392606\ttotal: 2.16s\tremaining: 5.31s\n",
      "289:\tlearn: 0.4387975\ttotal: 2.16s\tremaining: 5.29s\n",
      "290:\tlearn: 0.4378198\ttotal: 2.17s\tremaining: 5.29s\n",
      "291:\tlearn: 0.4369515\ttotal: 2.18s\tremaining: 5.28s\n",
      "292:\tlearn: 0.4365109\ttotal: 2.18s\tremaining: 5.26s\n",
      "293:\tlearn: 0.4350980\ttotal: 2.19s\tremaining: 5.26s\n",
      "294:\tlearn: 0.4344241\ttotal: 2.19s\tremaining: 5.25s\n",
      "295:\tlearn: 0.4335071\ttotal: 2.2s\tremaining: 5.24s\n",
      "296:\tlearn: 0.4329350\ttotal: 2.21s\tremaining: 5.23s\n",
      "297:\tlearn: 0.4319152\ttotal: 2.21s\tremaining: 5.22s\n",
      "298:\tlearn: 0.4305119\ttotal: 2.22s\tremaining: 5.21s\n",
      "299:\tlearn: 0.4302384\ttotal: 2.23s\tremaining: 5.2s\n",
      "300:\tlearn: 0.4289413\ttotal: 2.23s\tremaining: 5.19s\n",
      "301:\tlearn: 0.4282543\ttotal: 2.24s\tremaining: 5.18s\n",
      "302:\tlearn: 0.4278901\ttotal: 2.25s\tremaining: 5.18s\n",
      "303:\tlearn: 0.4271583\ttotal: 2.26s\tremaining: 5.17s\n",
      "304:\tlearn: 0.4263767\ttotal: 2.27s\tremaining: 5.17s\n",
      "305:\tlearn: 0.4258198\ttotal: 2.27s\tremaining: 5.16s\n",
      "306:\tlearn: 0.4250607\ttotal: 2.28s\tremaining: 5.15s\n",
      "307:\tlearn: 0.4240655\ttotal: 2.29s\tremaining: 5.14s\n",
      "308:\tlearn: 0.4230311\ttotal: 2.3s\tremaining: 5.13s\n",
      "309:\tlearn: 0.4221780\ttotal: 2.3s\tremaining: 5.13s\n",
      "310:\tlearn: 0.4214511\ttotal: 2.31s\tremaining: 5.12s\n",
      "311:\tlearn: 0.4202660\ttotal: 2.32s\tremaining: 5.11s\n",
      "312:\tlearn: 0.4201224\ttotal: 2.33s\tremaining: 5.11s\n",
      "313:\tlearn: 0.4195765\ttotal: 2.34s\tremaining: 5.12s\n",
      "314:\tlearn: 0.4191956\ttotal: 2.35s\tremaining: 5.12s\n",
      "315:\tlearn: 0.4182180\ttotal: 2.36s\tremaining: 5.12s\n",
      "316:\tlearn: 0.4176197\ttotal: 2.37s\tremaining: 5.11s\n",
      "317:\tlearn: 0.4166629\ttotal: 2.38s\tremaining: 5.11s\n",
      "318:\tlearn: 0.4162875\ttotal: 2.39s\tremaining: 5.1s\n",
      "319:\tlearn: 0.4157542\ttotal: 2.4s\tremaining: 5.1s\n",
      "320:\tlearn: 0.4147846\ttotal: 2.41s\tremaining: 5.1s\n",
      "321:\tlearn: 0.4143270\ttotal: 2.42s\tremaining: 5.1s\n",
      "322:\tlearn: 0.4141064\ttotal: 2.43s\tremaining: 5.09s\n",
      "323:\tlearn: 0.4136924\ttotal: 2.44s\tremaining: 5.09s\n",
      "324:\tlearn: 0.4124458\ttotal: 2.45s\tremaining: 5.09s\n",
      "325:\tlearn: 0.4112909\ttotal: 2.46s\tremaining: 5.1s\n",
      "326:\tlearn: 0.4107114\ttotal: 2.47s\tremaining: 5.09s\n",
      "327:\tlearn: 0.4102457\ttotal: 2.48s\tremaining: 5.08s\n",
      "328:\tlearn: 0.4095690\ttotal: 2.49s\tremaining: 5.08s\n",
      "329:\tlearn: 0.4087458\ttotal: 2.5s\tremaining: 5.07s\n",
      "330:\tlearn: 0.4085279\ttotal: 2.51s\tremaining: 5.08s\n",
      "331:\tlearn: 0.4080284\ttotal: 2.52s\tremaining: 5.07s\n",
      "332:\tlearn: 0.4068415\ttotal: 2.53s\tremaining: 5.07s\n",
      "333:\tlearn: 0.4060935\ttotal: 2.54s\tremaining: 5.06s\n",
      "334:\tlearn: 0.4056610\ttotal: 2.55s\tremaining: 5.06s\n",
      "335:\tlearn: 0.4047407\ttotal: 2.56s\tremaining: 5.05s\n",
      "336:\tlearn: 0.4038008\ttotal: 2.56s\tremaining: 5.04s\n",
      "337:\tlearn: 0.4029921\ttotal: 2.57s\tremaining: 5.03s\n",
      "338:\tlearn: 0.4028055\ttotal: 2.58s\tremaining: 5.03s\n",
      "339:\tlearn: 0.4023869\ttotal: 2.59s\tremaining: 5.02s\n",
      "340:\tlearn: 0.4016222\ttotal: 2.6s\tremaining: 5.02s\n",
      "341:\tlearn: 0.4013360\ttotal: 2.6s\tremaining: 5.01s\n",
      "342:\tlearn: 0.4007440\ttotal: 2.62s\tremaining: 5.01s\n",
      "343:\tlearn: 0.4004510\ttotal: 2.63s\tremaining: 5.01s\n",
      "344:\tlearn: 0.4000900\ttotal: 2.63s\tremaining: 5s\n",
      "345:\tlearn: 0.3994713\ttotal: 2.64s\tremaining: 5s\n",
      "346:\tlearn: 0.3990689\ttotal: 2.65s\tremaining: 4.99s\n",
      "347:\tlearn: 0.3986912\ttotal: 2.66s\tremaining: 4.98s\n",
      "348:\tlearn: 0.3981682\ttotal: 2.67s\tremaining: 4.97s\n",
      "349:\tlearn: 0.3975634\ttotal: 2.67s\tremaining: 4.96s\n",
      "350:\tlearn: 0.3965531\ttotal: 2.68s\tremaining: 4.96s\n",
      "351:\tlearn: 0.3962231\ttotal: 2.69s\tremaining: 4.95s\n",
      "352:\tlearn: 0.3957223\ttotal: 2.69s\tremaining: 4.94s\n",
      "353:\tlearn: 0.3952312\ttotal: 2.7s\tremaining: 4.93s\n",
      "354:\tlearn: 0.3945297\ttotal: 2.71s\tremaining: 4.92s\n",
      "355:\tlearn: 0.3940583\ttotal: 2.72s\tremaining: 4.92s\n",
      "356:\tlearn: 0.3934162\ttotal: 2.72s\tremaining: 4.91s\n",
      "357:\tlearn: 0.3922891\ttotal: 2.73s\tremaining: 4.9s\n",
      "358:\tlearn: 0.3917619\ttotal: 2.74s\tremaining: 4.89s\n",
      "359:\tlearn: 0.3910528\ttotal: 2.75s\tremaining: 4.88s\n",
      "360:\tlearn: 0.3905829\ttotal: 2.75s\tremaining: 4.87s\n",
      "361:\tlearn: 0.3901262\ttotal: 2.76s\tremaining: 4.86s\n",
      "362:\tlearn: 0.3896456\ttotal: 2.77s\tremaining: 4.86s\n",
      "363:\tlearn: 0.3895111\ttotal: 2.77s\tremaining: 4.85s\n",
      "364:\tlearn: 0.3893405\ttotal: 2.78s\tremaining: 4.84s\n",
      "365:\tlearn: 0.3885679\ttotal: 2.79s\tremaining: 4.83s\n",
      "366:\tlearn: 0.3878307\ttotal: 2.8s\tremaining: 4.83s\n",
      "367:\tlearn: 0.3874592\ttotal: 2.81s\tremaining: 4.82s\n",
      "368:\tlearn: 0.3872995\ttotal: 2.81s\tremaining: 4.81s\n",
      "369:\tlearn: 0.3869070\ttotal: 2.82s\tremaining: 4.81s\n",
      "370:\tlearn: 0.3865754\ttotal: 2.83s\tremaining: 4.8s\n",
      "371:\tlearn: 0.3861933\ttotal: 2.84s\tremaining: 4.79s\n",
      "372:\tlearn: 0.3854231\ttotal: 2.85s\tremaining: 4.78s\n",
      "373:\tlearn: 0.3848360\ttotal: 2.85s\tremaining: 4.78s\n",
      "374:\tlearn: 0.3843702\ttotal: 2.86s\tremaining: 4.77s\n",
      "375:\tlearn: 0.3839293\ttotal: 2.87s\tremaining: 4.77s\n",
      "376:\tlearn: 0.3836032\ttotal: 2.88s\tremaining: 4.77s\n",
      "377:\tlearn: 0.3832421\ttotal: 2.89s\tremaining: 4.76s\n",
      "378:\tlearn: 0.3828867\ttotal: 2.9s\tremaining: 4.76s\n",
      "379:\tlearn: 0.3825732\ttotal: 2.91s\tremaining: 4.75s\n",
      "380:\tlearn: 0.3819055\ttotal: 2.92s\tremaining: 4.75s\n",
      "381:\tlearn: 0.3815810\ttotal: 2.93s\tremaining: 4.75s\n",
      "382:\tlearn: 0.3804762\ttotal: 2.95s\tremaining: 4.75s\n",
      "383:\tlearn: 0.3800359\ttotal: 2.96s\tremaining: 4.75s\n",
      "384:\tlearn: 0.3792978\ttotal: 2.97s\tremaining: 4.75s\n",
      "385:\tlearn: 0.3789860\ttotal: 2.98s\tremaining: 4.74s\n",
      "386:\tlearn: 0.3785604\ttotal: 2.99s\tremaining: 4.73s\n",
      "387:\tlearn: 0.3781065\ttotal: 3s\tremaining: 4.73s\n",
      "388:\tlearn: 0.3771449\ttotal: 3.01s\tremaining: 4.73s\n",
      "389:\tlearn: 0.3760391\ttotal: 3.02s\tremaining: 4.72s\n",
      "390:\tlearn: 0.3752015\ttotal: 3.03s\tremaining: 4.72s\n",
      "391:\tlearn: 0.3750210\ttotal: 3.04s\tremaining: 4.71s\n",
      "392:\tlearn: 0.3744409\ttotal: 3.04s\tremaining: 4.7s\n",
      "393:\tlearn: 0.3737608\ttotal: 3.05s\tremaining: 4.7s\n",
      "394:\tlearn: 0.3732262\ttotal: 3.06s\tremaining: 4.69s\n",
      "395:\tlearn: 0.3727394\ttotal: 3.07s\tremaining: 4.68s\n",
      "396:\tlearn: 0.3726226\ttotal: 3.07s\tremaining: 4.67s\n",
      "397:\tlearn: 0.3720210\ttotal: 3.08s\tremaining: 4.66s\n",
      "398:\tlearn: 0.3714420\ttotal: 3.09s\tremaining: 4.65s\n",
      "399:\tlearn: 0.3709787\ttotal: 3.09s\tremaining: 4.64s\n",
      "400:\tlearn: 0.3703889\ttotal: 3.1s\tremaining: 4.63s\n",
      "401:\tlearn: 0.3699805\ttotal: 3.11s\tremaining: 4.63s\n",
      "402:\tlearn: 0.3697154\ttotal: 3.12s\tremaining: 4.62s\n",
      "403:\tlearn: 0.3692911\ttotal: 3.13s\tremaining: 4.61s\n",
      "404:\tlearn: 0.3691600\ttotal: 3.13s\tremaining: 4.61s\n",
      "405:\tlearn: 0.3686070\ttotal: 3.14s\tremaining: 4.6s\n",
      "406:\tlearn: 0.3682765\ttotal: 3.15s\tremaining: 4.59s\n",
      "407:\tlearn: 0.3676422\ttotal: 3.16s\tremaining: 4.58s\n",
      "408:\tlearn: 0.3674507\ttotal: 3.16s\tremaining: 4.57s\n",
      "409:\tlearn: 0.3671175\ttotal: 3.17s\tremaining: 4.56s\n",
      "410:\tlearn: 0.3664658\ttotal: 3.18s\tremaining: 4.56s\n",
      "411:\tlearn: 0.3662149\ttotal: 3.19s\tremaining: 4.55s\n",
      "412:\tlearn: 0.3659455\ttotal: 3.19s\tremaining: 4.54s\n",
      "413:\tlearn: 0.3657283\ttotal: 3.2s\tremaining: 4.53s\n",
      "414:\tlearn: 0.3651811\ttotal: 3.21s\tremaining: 4.52s\n",
      "415:\tlearn: 0.3648604\ttotal: 3.21s\tremaining: 4.51s\n",
      "416:\tlearn: 0.3645256\ttotal: 3.22s\tremaining: 4.51s\n",
      "417:\tlearn: 0.3642026\ttotal: 3.23s\tremaining: 4.5s\n",
      "418:\tlearn: 0.3633041\ttotal: 3.24s\tremaining: 4.5s\n",
      "419:\tlearn: 0.3631298\ttotal: 3.26s\tremaining: 4.5s\n",
      "420:\tlearn: 0.3626711\ttotal: 3.26s\tremaining: 4.49s\n",
      "421:\tlearn: 0.3623922\ttotal: 3.27s\tremaining: 4.48s\n",
      "422:\tlearn: 0.3620915\ttotal: 3.29s\tremaining: 4.48s\n",
      "423:\tlearn: 0.3615050\ttotal: 3.3s\tremaining: 4.48s\n",
      "424:\tlearn: 0.3611616\ttotal: 3.31s\tremaining: 4.49s\n",
      "425:\tlearn: 0.3608933\ttotal: 3.32s\tremaining: 4.48s\n",
      "426:\tlearn: 0.3599612\ttotal: 3.33s\tremaining: 4.47s\n",
      "427:\tlearn: 0.3596978\ttotal: 3.34s\tremaining: 4.46s\n",
      "428:\tlearn: 0.3594356\ttotal: 3.35s\tremaining: 4.46s\n",
      "429:\tlearn: 0.3588603\ttotal: 3.36s\tremaining: 4.46s\n",
      "430:\tlearn: 0.3584711\ttotal: 3.37s\tremaining: 4.45s\n",
      "431:\tlearn: 0.3576864\ttotal: 3.39s\tremaining: 4.46s\n",
      "432:\tlearn: 0.3573686\ttotal: 3.4s\tremaining: 4.45s\n",
      "433:\tlearn: 0.3565461\ttotal: 3.4s\tremaining: 4.44s\n",
      "434:\tlearn: 0.3559005\ttotal: 3.41s\tremaining: 4.43s\n",
      "435:\tlearn: 0.3550045\ttotal: 3.42s\tremaining: 4.43s\n",
      "436:\tlearn: 0.3548551\ttotal: 3.43s\tremaining: 4.42s\n",
      "437:\tlearn: 0.3542476\ttotal: 3.44s\tremaining: 4.41s\n",
      "438:\tlearn: 0.3539408\ttotal: 3.44s\tremaining: 4.4s\n",
      "439:\tlearn: 0.3535452\ttotal: 3.46s\tremaining: 4.4s\n",
      "440:\tlearn: 0.3530687\ttotal: 3.46s\tremaining: 4.39s\n"
     ]
    },
    {
     "name": "stdout",
     "output_type": "stream",
     "text": [
      "441:\tlearn: 0.3523043\ttotal: 3.47s\tremaining: 4.38s\n",
      "442:\tlearn: 0.3517485\ttotal: 3.48s\tremaining: 4.38s\n",
      "443:\tlearn: 0.3511687\ttotal: 3.49s\tremaining: 4.37s\n",
      "444:\tlearn: 0.3508247\ttotal: 3.5s\tremaining: 4.36s\n",
      "445:\tlearn: 0.3504964\ttotal: 3.51s\tremaining: 4.36s\n",
      "446:\tlearn: 0.3503105\ttotal: 3.52s\tremaining: 4.35s\n",
      "447:\tlearn: 0.3501355\ttotal: 3.52s\tremaining: 4.34s\n",
      "448:\tlearn: 0.3499103\ttotal: 3.53s\tremaining: 4.33s\n",
      "449:\tlearn: 0.3496602\ttotal: 3.54s\tremaining: 4.33s\n",
      "450:\tlearn: 0.3492170\ttotal: 3.55s\tremaining: 4.32s\n",
      "451:\tlearn: 0.3488513\ttotal: 3.56s\tremaining: 4.31s\n",
      "452:\tlearn: 0.3481145\ttotal: 3.56s\tremaining: 4.3s\n",
      "453:\tlearn: 0.3477310\ttotal: 3.57s\tremaining: 4.3s\n",
      "454:\tlearn: 0.3475753\ttotal: 3.58s\tremaining: 4.29s\n",
      "455:\tlearn: 0.3468496\ttotal: 3.59s\tremaining: 4.28s\n",
      "456:\tlearn: 0.3464818\ttotal: 3.6s\tremaining: 4.27s\n",
      "457:\tlearn: 0.3459111\ttotal: 3.6s\tremaining: 4.26s\n",
      "458:\tlearn: 0.3452265\ttotal: 3.61s\tremaining: 4.26s\n",
      "459:\tlearn: 0.3445848\ttotal: 3.62s\tremaining: 4.25s\n",
      "460:\tlearn: 0.3444813\ttotal: 3.63s\tremaining: 4.24s\n",
      "461:\tlearn: 0.3440518\ttotal: 3.63s\tremaining: 4.23s\n",
      "462:\tlearn: 0.3433244\ttotal: 3.65s\tremaining: 4.23s\n",
      "463:\tlearn: 0.3429572\ttotal: 3.66s\tremaining: 4.23s\n",
      "464:\tlearn: 0.3424754\ttotal: 3.67s\tremaining: 4.22s\n",
      "465:\tlearn: 0.3421365\ttotal: 3.68s\tremaining: 4.21s\n",
      "466:\tlearn: 0.3418229\ttotal: 3.69s\tremaining: 4.21s\n",
      "467:\tlearn: 0.3415189\ttotal: 3.69s\tremaining: 4.2s\n",
      "468:\tlearn: 0.3412220\ttotal: 3.7s\tremaining: 4.19s\n",
      "469:\tlearn: 0.3408458\ttotal: 3.71s\tremaining: 4.18s\n",
      "470:\tlearn: 0.3405069\ttotal: 3.71s\tremaining: 4.17s\n",
      "471:\tlearn: 0.3401105\ttotal: 3.72s\tremaining: 4.16s\n",
      "472:\tlearn: 0.3393554\ttotal: 3.73s\tremaining: 4.16s\n",
      "473:\tlearn: 0.3388887\ttotal: 3.74s\tremaining: 4.15s\n",
      "474:\tlearn: 0.3386686\ttotal: 3.74s\tremaining: 4.14s\n",
      "475:\tlearn: 0.3383848\ttotal: 3.75s\tremaining: 4.13s\n",
      "476:\tlearn: 0.3378906\ttotal: 3.76s\tremaining: 4.12s\n",
      "477:\tlearn: 0.3376276\ttotal: 3.77s\tremaining: 4.11s\n",
      "478:\tlearn: 0.3371573\ttotal: 3.77s\tremaining: 4.11s\n",
      "479:\tlearn: 0.3363057\ttotal: 3.78s\tremaining: 4.1s\n",
      "480:\tlearn: 0.3360741\ttotal: 3.79s\tremaining: 4.09s\n",
      "481:\tlearn: 0.3357669\ttotal: 3.8s\tremaining: 4.08s\n",
      "482:\tlearn: 0.3350023\ttotal: 3.81s\tremaining: 4.07s\n",
      "483:\tlearn: 0.3348210\ttotal: 3.81s\tremaining: 4.07s\n",
      "484:\tlearn: 0.3344016\ttotal: 3.82s\tremaining: 4.06s\n",
      "485:\tlearn: 0.3337433\ttotal: 3.83s\tremaining: 4.05s\n",
      "486:\tlearn: 0.3334497\ttotal: 3.84s\tremaining: 4.05s\n",
      "487:\tlearn: 0.3332113\ttotal: 3.85s\tremaining: 4.04s\n",
      "488:\tlearn: 0.3326678\ttotal: 3.85s\tremaining: 4.03s\n",
      "489:\tlearn: 0.3321818\ttotal: 3.86s\tremaining: 4.02s\n",
      "490:\tlearn: 0.3315989\ttotal: 3.87s\tremaining: 4.01s\n",
      "491:\tlearn: 0.3313550\ttotal: 3.88s\tremaining: 4s\n",
      "492:\tlearn: 0.3311640\ttotal: 3.88s\tremaining: 3.99s\n",
      "493:\tlearn: 0.3310109\ttotal: 3.89s\tremaining: 3.98s\n",
      "494:\tlearn: 0.3308381\ttotal: 3.9s\tremaining: 3.98s\n",
      "495:\tlearn: 0.3303828\ttotal: 3.9s\tremaining: 3.97s\n",
      "496:\tlearn: 0.3298903\ttotal: 3.91s\tremaining: 3.96s\n",
      "497:\tlearn: 0.3292935\ttotal: 3.92s\tremaining: 3.95s\n",
      "498:\tlearn: 0.3290299\ttotal: 3.93s\tremaining: 3.94s\n",
      "499:\tlearn: 0.3288432\ttotal: 3.93s\tremaining: 3.93s\n",
      "500:\tlearn: 0.3283461\ttotal: 3.94s\tremaining: 3.93s\n",
      "501:\tlearn: 0.3281265\ttotal: 3.96s\tremaining: 3.92s\n",
      "502:\tlearn: 0.3277620\ttotal: 3.96s\tremaining: 3.92s\n",
      "503:\tlearn: 0.3275291\ttotal: 3.97s\tremaining: 3.91s\n",
      "504:\tlearn: 0.3273208\ttotal: 3.98s\tremaining: 3.9s\n",
      "505:\tlearn: 0.3270845\ttotal: 4s\tremaining: 3.9s\n",
      "506:\tlearn: 0.3265203\ttotal: 4.01s\tremaining: 3.9s\n",
      "507:\tlearn: 0.3263138\ttotal: 4.01s\tremaining: 3.89s\n",
      "508:\tlearn: 0.3255334\ttotal: 4.02s\tremaining: 3.88s\n",
      "509:\tlearn: 0.3252813\ttotal: 4.03s\tremaining: 3.87s\n",
      "510:\tlearn: 0.3249746\ttotal: 4.04s\tremaining: 3.86s\n",
      "511:\tlearn: 0.3247553\ttotal: 4.04s\tremaining: 3.85s\n",
      "512:\tlearn: 0.3245946\ttotal: 4.05s\tremaining: 3.85s\n",
      "513:\tlearn: 0.3243909\ttotal: 4.06s\tremaining: 3.84s\n",
      "514:\tlearn: 0.3237260\ttotal: 4.07s\tremaining: 3.83s\n",
      "515:\tlearn: 0.3228865\ttotal: 4.08s\tremaining: 3.83s\n",
      "516:\tlearn: 0.3222333\ttotal: 4.09s\tremaining: 3.82s\n",
      "517:\tlearn: 0.3214488\ttotal: 4.1s\tremaining: 3.81s\n",
      "518:\tlearn: 0.3211388\ttotal: 4.11s\tremaining: 3.81s\n",
      "519:\tlearn: 0.3210455\ttotal: 4.11s\tremaining: 3.8s\n",
      "520:\tlearn: 0.3204974\ttotal: 4.12s\tremaining: 3.79s\n",
      "521:\tlearn: 0.3202758\ttotal: 4.13s\tremaining: 3.78s\n",
      "522:\tlearn: 0.3200290\ttotal: 4.13s\tremaining: 3.77s\n",
      "523:\tlearn: 0.3198161\ttotal: 4.14s\tremaining: 3.76s\n",
      "524:\tlearn: 0.3195886\ttotal: 4.15s\tremaining: 3.75s\n",
      "525:\tlearn: 0.3192990\ttotal: 4.16s\tremaining: 3.74s\n",
      "526:\tlearn: 0.3191170\ttotal: 4.17s\tremaining: 3.74s\n",
      "527:\tlearn: 0.3186329\ttotal: 4.17s\tremaining: 3.73s\n",
      "528:\tlearn: 0.3179457\ttotal: 4.18s\tremaining: 3.72s\n",
      "529:\tlearn: 0.3176688\ttotal: 4.19s\tremaining: 3.72s\n",
      "530:\tlearn: 0.3173908\ttotal: 4.2s\tremaining: 3.71s\n",
      "531:\tlearn: 0.3171043\ttotal: 4.21s\tremaining: 3.7s\n",
      "532:\tlearn: 0.3169543\ttotal: 4.22s\tremaining: 3.69s\n",
      "533:\tlearn: 0.3167896\ttotal: 4.22s\tremaining: 3.69s\n",
      "534:\tlearn: 0.3161589\ttotal: 4.24s\tremaining: 3.68s\n",
      "535:\tlearn: 0.3152244\ttotal: 4.24s\tremaining: 3.67s\n",
      "536:\tlearn: 0.3150520\ttotal: 4.25s\tremaining: 3.67s\n",
      "537:\tlearn: 0.3146154\ttotal: 4.26s\tremaining: 3.66s\n",
      "538:\tlearn: 0.3142895\ttotal: 4.27s\tremaining: 3.65s\n",
      "539:\tlearn: 0.3139992\ttotal: 4.28s\tremaining: 3.64s\n",
      "540:\tlearn: 0.3137325\ttotal: 4.29s\tremaining: 3.64s\n",
      "541:\tlearn: 0.3134231\ttotal: 4.3s\tremaining: 3.63s\n",
      "542:\tlearn: 0.3131707\ttotal: 4.31s\tremaining: 3.63s\n",
      "543:\tlearn: 0.3128067\ttotal: 4.32s\tremaining: 3.62s\n",
      "544:\tlearn: 0.3122170\ttotal: 4.33s\tremaining: 3.62s\n",
      "545:\tlearn: 0.3119813\ttotal: 4.34s\tremaining: 3.61s\n",
      "546:\tlearn: 0.3117312\ttotal: 4.35s\tremaining: 3.6s\n",
      "547:\tlearn: 0.3115181\ttotal: 4.36s\tremaining: 3.6s\n",
      "548:\tlearn: 0.3110649\ttotal: 4.38s\tremaining: 3.6s\n",
      "549:\tlearn: 0.3105457\ttotal: 4.38s\tremaining: 3.59s\n",
      "550:\tlearn: 0.3104584\ttotal: 4.39s\tremaining: 3.58s\n",
      "551:\tlearn: 0.3099970\ttotal: 4.4s\tremaining: 3.57s\n",
      "552:\tlearn: 0.3096796\ttotal: 4.41s\tremaining: 3.57s\n",
      "553:\tlearn: 0.3095416\ttotal: 4.42s\tremaining: 3.56s\n",
      "554:\tlearn: 0.3091750\ttotal: 4.43s\tremaining: 3.55s\n",
      "555:\tlearn: 0.3084013\ttotal: 4.44s\tremaining: 3.54s\n",
      "556:\tlearn: 0.3081516\ttotal: 4.45s\tremaining: 3.54s\n",
      "557:\tlearn: 0.3078612\ttotal: 4.45s\tremaining: 3.53s\n",
      "558:\tlearn: 0.3074435\ttotal: 4.46s\tremaining: 3.52s\n",
      "559:\tlearn: 0.3071754\ttotal: 4.47s\tremaining: 3.51s\n",
      "560:\tlearn: 0.3068125\ttotal: 4.47s\tremaining: 3.5s\n",
      "561:\tlearn: 0.3063012\ttotal: 4.48s\tremaining: 3.49s\n",
      "562:\tlearn: 0.3055644\ttotal: 4.49s\tremaining: 3.48s\n",
      "563:\tlearn: 0.3054192\ttotal: 4.5s\tremaining: 3.48s\n",
      "564:\tlearn: 0.3052011\ttotal: 4.5s\tremaining: 3.47s\n",
      "565:\tlearn: 0.3048884\ttotal: 4.51s\tremaining: 3.46s\n",
      "566:\tlearn: 0.3043791\ttotal: 4.52s\tremaining: 3.45s\n",
      "567:\tlearn: 0.3041725\ttotal: 4.53s\tremaining: 3.44s\n",
      "568:\tlearn: 0.3040286\ttotal: 4.54s\tremaining: 3.44s\n",
      "569:\tlearn: 0.3038163\ttotal: 4.54s\tremaining: 3.43s\n",
      "570:\tlearn: 0.3036848\ttotal: 4.55s\tremaining: 3.42s\n",
      "571:\tlearn: 0.3027855\ttotal: 4.56s\tremaining: 3.41s\n",
      "572:\tlearn: 0.3022682\ttotal: 4.57s\tremaining: 3.4s\n",
      "573:\tlearn: 0.3021174\ttotal: 4.57s\tremaining: 3.39s\n",
      "574:\tlearn: 0.3019604\ttotal: 4.58s\tremaining: 3.38s\n",
      "575:\tlearn: 0.3016837\ttotal: 4.59s\tremaining: 3.38s\n",
      "576:\tlearn: 0.3014176\ttotal: 4.6s\tremaining: 3.37s\n",
      "577:\tlearn: 0.3008143\ttotal: 4.6s\tremaining: 3.36s\n",
      "578:\tlearn: 0.3005092\ttotal: 4.61s\tremaining: 3.35s\n",
      "579:\tlearn: 0.3000345\ttotal: 4.62s\tremaining: 3.34s\n",
      "580:\tlearn: 0.2999187\ttotal: 4.62s\tremaining: 3.33s\n",
      "581:\tlearn: 0.2998665\ttotal: 4.63s\tremaining: 3.33s\n",
      "582:\tlearn: 0.2996850\ttotal: 4.64s\tremaining: 3.32s\n",
      "583:\tlearn: 0.2993008\ttotal: 4.64s\tremaining: 3.31s\n",
      "584:\tlearn: 0.2989955\ttotal: 4.65s\tremaining: 3.3s\n",
      "585:\tlearn: 0.2984345\ttotal: 4.66s\tremaining: 3.29s\n",
      "586:\tlearn: 0.2981863\ttotal: 4.67s\tremaining: 3.28s\n",
      "587:\tlearn: 0.2980108\ttotal: 4.67s\tremaining: 3.27s\n",
      "588:\tlearn: 0.2976945\ttotal: 4.68s\tremaining: 3.27s\n",
      "589:\tlearn: 0.2973154\ttotal: 4.69s\tremaining: 3.26s\n",
      "590:\tlearn: 0.2967269\ttotal: 4.7s\tremaining: 3.25s\n",
      "591:\tlearn: 0.2963713\ttotal: 4.71s\tremaining: 3.24s\n",
      "592:\tlearn: 0.2962243\ttotal: 4.71s\tremaining: 3.23s\n",
      "593:\tlearn: 0.2959713\ttotal: 4.72s\tremaining: 3.23s\n",
      "594:\tlearn: 0.2955470\ttotal: 4.73s\tremaining: 3.22s\n",
      "595:\tlearn: 0.2953445\ttotal: 4.74s\tremaining: 3.21s\n",
      "596:\tlearn: 0.2951134\ttotal: 4.74s\tremaining: 3.2s\n",
      "597:\tlearn: 0.2947735\ttotal: 4.75s\tremaining: 3.19s\n",
      "598:\tlearn: 0.2944859\ttotal: 4.76s\tremaining: 3.18s\n",
      "599:\tlearn: 0.2940099\ttotal: 4.76s\tremaining: 3.18s\n",
      "600:\tlearn: 0.2936403\ttotal: 4.77s\tremaining: 3.17s\n",
      "601:\tlearn: 0.2933104\ttotal: 4.78s\tremaining: 3.16s\n",
      "602:\tlearn: 0.2931981\ttotal: 4.79s\tremaining: 3.15s\n",
      "603:\tlearn: 0.2927776\ttotal: 4.8s\tremaining: 3.15s\n",
      "604:\tlearn: 0.2923795\ttotal: 4.81s\tremaining: 3.14s\n",
      "605:\tlearn: 0.2918624\ttotal: 4.82s\tremaining: 3.13s\n",
      "606:\tlearn: 0.2915503\ttotal: 4.83s\tremaining: 3.13s\n",
      "607:\tlearn: 0.2913614\ttotal: 4.84s\tremaining: 3.12s\n",
      "608:\tlearn: 0.2910340\ttotal: 4.85s\tremaining: 3.11s\n",
      "609:\tlearn: 0.2908211\ttotal: 4.86s\tremaining: 3.1s\n"
     ]
    },
    {
     "name": "stdout",
     "output_type": "stream",
     "text": [
      "610:\tlearn: 0.2903549\ttotal: 4.87s\tremaining: 3.1s\n",
      "611:\tlearn: 0.2901606\ttotal: 4.88s\tremaining: 3.1s\n",
      "612:\tlearn: 0.2897591\ttotal: 4.89s\tremaining: 3.09s\n",
      "613:\tlearn: 0.2895393\ttotal: 4.9s\tremaining: 3.08s\n",
      "614:\tlearn: 0.2892703\ttotal: 4.91s\tremaining: 3.07s\n",
      "615:\tlearn: 0.2890765\ttotal: 4.92s\tremaining: 3.06s\n",
      "616:\tlearn: 0.2886677\ttotal: 4.92s\tremaining: 3.06s\n",
      "617:\tlearn: 0.2884583\ttotal: 4.93s\tremaining: 3.05s\n",
      "618:\tlearn: 0.2882460\ttotal: 4.95s\tremaining: 3.05s\n",
      "619:\tlearn: 0.2876454\ttotal: 4.96s\tremaining: 3.04s\n",
      "620:\tlearn: 0.2875051\ttotal: 4.97s\tremaining: 3.03s\n",
      "621:\tlearn: 0.2874015\ttotal: 4.97s\tremaining: 3.02s\n",
      "622:\tlearn: 0.2870771\ttotal: 4.98s\tremaining: 3.02s\n",
      "623:\tlearn: 0.2869169\ttotal: 4.99s\tremaining: 3.01s\n",
      "624:\tlearn: 0.2864737\ttotal: 5s\tremaining: 3s\n",
      "625:\tlearn: 0.2863903\ttotal: 5.01s\tremaining: 2.99s\n",
      "626:\tlearn: 0.2860870\ttotal: 5.02s\tremaining: 2.98s\n",
      "627:\tlearn: 0.2857175\ttotal: 5.02s\tremaining: 2.98s\n",
      "628:\tlearn: 0.2851692\ttotal: 5.03s\tremaining: 2.97s\n",
      "629:\tlearn: 0.2846071\ttotal: 5.04s\tremaining: 2.96s\n",
      "630:\tlearn: 0.2844906\ttotal: 5.06s\tremaining: 2.96s\n",
      "631:\tlearn: 0.2840941\ttotal: 5.06s\tremaining: 2.95s\n",
      "632:\tlearn: 0.2836404\ttotal: 5.07s\tremaining: 2.94s\n",
      "633:\tlearn: 0.2831845\ttotal: 5.08s\tremaining: 2.93s\n",
      "634:\tlearn: 0.2830093\ttotal: 5.09s\tremaining: 2.92s\n",
      "635:\tlearn: 0.2824292\ttotal: 5.1s\tremaining: 2.92s\n",
      "636:\tlearn: 0.2821769\ttotal: 5.11s\tremaining: 2.91s\n",
      "637:\tlearn: 0.2820064\ttotal: 5.12s\tremaining: 2.9s\n",
      "638:\tlearn: 0.2815153\ttotal: 5.13s\tremaining: 2.9s\n",
      "639:\tlearn: 0.2813750\ttotal: 5.14s\tremaining: 2.89s\n",
      "640:\tlearn: 0.2808778\ttotal: 5.14s\tremaining: 2.88s\n",
      "641:\tlearn: 0.2806085\ttotal: 5.15s\tremaining: 2.87s\n",
      "642:\tlearn: 0.2803502\ttotal: 5.16s\tremaining: 2.86s\n",
      "643:\tlearn: 0.2802428\ttotal: 5.17s\tremaining: 2.85s\n",
      "644:\tlearn: 0.2799755\ttotal: 5.17s\tremaining: 2.85s\n",
      "645:\tlearn: 0.2797000\ttotal: 5.18s\tremaining: 2.84s\n",
      "646:\tlearn: 0.2795675\ttotal: 5.19s\tremaining: 2.83s\n",
      "647:\tlearn: 0.2792115\ttotal: 5.19s\tremaining: 2.82s\n",
      "648:\tlearn: 0.2791417\ttotal: 5.2s\tremaining: 2.81s\n",
      "649:\tlearn: 0.2789013\ttotal: 5.21s\tremaining: 2.8s\n",
      "650:\tlearn: 0.2788081\ttotal: 5.21s\tremaining: 2.79s\n",
      "651:\tlearn: 0.2785897\ttotal: 5.22s\tremaining: 2.79s\n",
      "652:\tlearn: 0.2784908\ttotal: 5.23s\tremaining: 2.78s\n",
      "653:\tlearn: 0.2783200\ttotal: 5.24s\tremaining: 2.77s\n",
      "654:\tlearn: 0.2782531\ttotal: 5.25s\tremaining: 2.77s\n",
      "655:\tlearn: 0.2777926\ttotal: 5.26s\tremaining: 2.76s\n",
      "656:\tlearn: 0.2776328\ttotal: 5.27s\tremaining: 2.75s\n",
      "657:\tlearn: 0.2774346\ttotal: 5.28s\tremaining: 2.74s\n",
      "658:\tlearn: 0.2771597\ttotal: 5.28s\tremaining: 2.73s\n",
      "659:\tlearn: 0.2768922\ttotal: 5.29s\tremaining: 2.73s\n",
      "660:\tlearn: 0.2766545\ttotal: 5.3s\tremaining: 2.72s\n",
      "661:\tlearn: 0.2764641\ttotal: 5.3s\tremaining: 2.71s\n",
      "662:\tlearn: 0.2760567\ttotal: 5.31s\tremaining: 2.7s\n",
      "663:\tlearn: 0.2758467\ttotal: 5.32s\tremaining: 2.69s\n",
      "664:\tlearn: 0.2753622\ttotal: 5.33s\tremaining: 2.68s\n",
      "665:\tlearn: 0.2751234\ttotal: 5.34s\tremaining: 2.68s\n",
      "666:\tlearn: 0.2748926\ttotal: 5.34s\tremaining: 2.67s\n",
      "667:\tlearn: 0.2747395\ttotal: 5.35s\tremaining: 2.66s\n",
      "668:\tlearn: 0.2745338\ttotal: 5.36s\tremaining: 2.65s\n",
      "669:\tlearn: 0.2742220\ttotal: 5.37s\tremaining: 2.64s\n",
      "670:\tlearn: 0.2739847\ttotal: 5.37s\tremaining: 2.63s\n",
      "671:\tlearn: 0.2736461\ttotal: 5.38s\tremaining: 2.63s\n",
      "672:\tlearn: 0.2732906\ttotal: 5.39s\tremaining: 2.62s\n",
      "673:\tlearn: 0.2730800\ttotal: 5.4s\tremaining: 2.61s\n",
      "674:\tlearn: 0.2729217\ttotal: 5.41s\tremaining: 2.6s\n",
      "675:\tlearn: 0.2727406\ttotal: 5.42s\tremaining: 2.6s\n",
      "676:\tlearn: 0.2725253\ttotal: 5.42s\tremaining: 2.59s\n",
      "677:\tlearn: 0.2723198\ttotal: 5.43s\tremaining: 2.58s\n",
      "678:\tlearn: 0.2718581\ttotal: 5.44s\tremaining: 2.57s\n",
      "679:\tlearn: 0.2717591\ttotal: 5.45s\tremaining: 2.56s\n",
      "680:\tlearn: 0.2714369\ttotal: 5.45s\tremaining: 2.56s\n",
      "681:\tlearn: 0.2711238\ttotal: 5.46s\tremaining: 2.55s\n",
      "682:\tlearn: 0.2709706\ttotal: 5.47s\tremaining: 2.54s\n",
      "683:\tlearn: 0.2707328\ttotal: 5.48s\tremaining: 2.53s\n",
      "684:\tlearn: 0.2705952\ttotal: 5.48s\tremaining: 2.52s\n",
      "685:\tlearn: 0.2702976\ttotal: 5.49s\tremaining: 2.51s\n",
      "686:\tlearn: 0.2698754\ttotal: 5.5s\tremaining: 2.51s\n",
      "687:\tlearn: 0.2697015\ttotal: 5.51s\tremaining: 2.5s\n",
      "688:\tlearn: 0.2692802\ttotal: 5.52s\tremaining: 2.49s\n",
      "689:\tlearn: 0.2689245\ttotal: 5.53s\tremaining: 2.48s\n",
      "690:\tlearn: 0.2685356\ttotal: 5.54s\tremaining: 2.48s\n",
      "691:\tlearn: 0.2683265\ttotal: 5.54s\tremaining: 2.47s\n",
      "692:\tlearn: 0.2678436\ttotal: 5.55s\tremaining: 2.46s\n",
      "693:\tlearn: 0.2676745\ttotal: 5.56s\tremaining: 2.45s\n",
      "694:\tlearn: 0.2675304\ttotal: 5.57s\tremaining: 2.44s\n",
      "695:\tlearn: 0.2674195\ttotal: 5.58s\tremaining: 2.44s\n",
      "696:\tlearn: 0.2671985\ttotal: 5.59s\tremaining: 2.43s\n",
      "697:\tlearn: 0.2670002\ttotal: 5.59s\tremaining: 2.42s\n",
      "698:\tlearn: 0.2667283\ttotal: 5.6s\tremaining: 2.41s\n",
      "699:\tlearn: 0.2666182\ttotal: 5.61s\tremaining: 2.4s\n",
      "700:\tlearn: 0.2662147\ttotal: 5.62s\tremaining: 2.4s\n",
      "701:\tlearn: 0.2659540\ttotal: 5.63s\tremaining: 2.39s\n",
      "702:\tlearn: 0.2656601\ttotal: 5.64s\tremaining: 2.38s\n",
      "703:\tlearn: 0.2653418\ttotal: 5.65s\tremaining: 2.37s\n",
      "704:\tlearn: 0.2651400\ttotal: 5.66s\tremaining: 2.37s\n",
      "705:\tlearn: 0.2647708\ttotal: 5.66s\tremaining: 2.36s\n",
      "706:\tlearn: 0.2646904\ttotal: 5.67s\tremaining: 2.35s\n",
      "707:\tlearn: 0.2645902\ttotal: 5.68s\tremaining: 2.34s\n",
      "708:\tlearn: 0.2643718\ttotal: 5.69s\tremaining: 2.33s\n",
      "709:\tlearn: 0.2642960\ttotal: 5.69s\tremaining: 2.33s\n",
      "710:\tlearn: 0.2641453\ttotal: 5.7s\tremaining: 2.32s\n",
      "711:\tlearn: 0.2640068\ttotal: 5.71s\tremaining: 2.31s\n",
      "712:\tlearn: 0.2637352\ttotal: 5.71s\tremaining: 2.3s\n",
      "713:\tlearn: 0.2635269\ttotal: 5.72s\tremaining: 2.29s\n",
      "714:\tlearn: 0.2632695\ttotal: 5.72s\tremaining: 2.28s\n",
      "715:\tlearn: 0.2630907\ttotal: 5.74s\tremaining: 2.28s\n",
      "716:\tlearn: 0.2629358\ttotal: 5.75s\tremaining: 2.27s\n",
      "717:\tlearn: 0.2625948\ttotal: 5.76s\tremaining: 2.26s\n",
      "718:\tlearn: 0.2622807\ttotal: 5.77s\tremaining: 2.25s\n",
      "719:\tlearn: 0.2619751\ttotal: 5.78s\tremaining: 2.25s\n",
      "720:\tlearn: 0.2618480\ttotal: 5.79s\tremaining: 2.24s\n",
      "721:\tlearn: 0.2612987\ttotal: 5.79s\tremaining: 2.23s\n",
      "722:\tlearn: 0.2608100\ttotal: 5.8s\tremaining: 2.22s\n",
      "723:\tlearn: 0.2606632\ttotal: 5.81s\tremaining: 2.21s\n",
      "724:\tlearn: 0.2602674\ttotal: 5.82s\tremaining: 2.21s\n",
      "725:\tlearn: 0.2599780\ttotal: 5.82s\tremaining: 2.2s\n",
      "726:\tlearn: 0.2594882\ttotal: 5.83s\tremaining: 2.19s\n",
      "727:\tlearn: 0.2591001\ttotal: 5.84s\tremaining: 2.18s\n",
      "728:\tlearn: 0.2588274\ttotal: 5.84s\tremaining: 2.17s\n",
      "729:\tlearn: 0.2586132\ttotal: 5.85s\tremaining: 2.16s\n",
      "730:\tlearn: 0.2583243\ttotal: 5.86s\tremaining: 2.16s\n",
      "731:\tlearn: 0.2581643\ttotal: 5.87s\tremaining: 2.15s\n",
      "732:\tlearn: 0.2579550\ttotal: 5.87s\tremaining: 2.14s\n",
      "733:\tlearn: 0.2578501\ttotal: 5.88s\tremaining: 2.13s\n",
      "734:\tlearn: 0.2577481\ttotal: 5.88s\tremaining: 2.12s\n",
      "735:\tlearn: 0.2575484\ttotal: 5.89s\tremaining: 2.11s\n",
      "736:\tlearn: 0.2573619\ttotal: 5.9s\tremaining: 2.1s\n",
      "737:\tlearn: 0.2570727\ttotal: 5.91s\tremaining: 2.1s\n",
      "738:\tlearn: 0.2568592\ttotal: 5.91s\tremaining: 2.09s\n",
      "739:\tlearn: 0.2566373\ttotal: 5.92s\tremaining: 2.08s\n",
      "740:\tlearn: 0.2561915\ttotal: 5.93s\tremaining: 2.07s\n",
      "741:\tlearn: 0.2558029\ttotal: 5.94s\tremaining: 2.06s\n",
      "742:\tlearn: 0.2555920\ttotal: 5.95s\tremaining: 2.06s\n",
      "743:\tlearn: 0.2552325\ttotal: 5.96s\tremaining: 2.05s\n",
      "744:\tlearn: 0.2551349\ttotal: 5.96s\tremaining: 2.04s\n",
      "745:\tlearn: 0.2547285\ttotal: 5.97s\tremaining: 2.03s\n",
      "746:\tlearn: 0.2545570\ttotal: 5.98s\tremaining: 2.03s\n",
      "747:\tlearn: 0.2542265\ttotal: 5.99s\tremaining: 2.02s\n",
      "748:\tlearn: 0.2539517\ttotal: 6s\tremaining: 2.01s\n",
      "749:\tlearn: 0.2537287\ttotal: 6.01s\tremaining: 2s\n",
      "750:\tlearn: 0.2535648\ttotal: 6.02s\tremaining: 2s\n",
      "751:\tlearn: 0.2532214\ttotal: 6.03s\tremaining: 1.99s\n",
      "752:\tlearn: 0.2527946\ttotal: 6.04s\tremaining: 1.98s\n",
      "753:\tlearn: 0.2523116\ttotal: 6.05s\tremaining: 1.97s\n",
      "754:\tlearn: 0.2521967\ttotal: 6.06s\tremaining: 1.97s\n",
      "755:\tlearn: 0.2518889\ttotal: 6.07s\tremaining: 1.96s\n",
      "756:\tlearn: 0.2516962\ttotal: 6.08s\tremaining: 1.95s\n",
      "757:\tlearn: 0.2514651\ttotal: 6.09s\tremaining: 1.94s\n",
      "758:\tlearn: 0.2514040\ttotal: 6.1s\tremaining: 1.94s\n",
      "759:\tlearn: 0.2511558\ttotal: 6.11s\tremaining: 1.93s\n",
      "760:\tlearn: 0.2510096\ttotal: 6.11s\tremaining: 1.92s\n",
      "761:\tlearn: 0.2509414\ttotal: 6.12s\tremaining: 1.91s\n",
      "762:\tlearn: 0.2506939\ttotal: 6.13s\tremaining: 1.9s\n",
      "763:\tlearn: 0.2504973\ttotal: 6.13s\tremaining: 1.9s\n",
      "764:\tlearn: 0.2503591\ttotal: 6.14s\tremaining: 1.89s\n",
      "765:\tlearn: 0.2501654\ttotal: 6.15s\tremaining: 1.88s\n",
      "766:\tlearn: 0.2499239\ttotal: 6.16s\tremaining: 1.87s\n",
      "767:\tlearn: 0.2497163\ttotal: 6.16s\tremaining: 1.86s\n",
      "768:\tlearn: 0.2494685\ttotal: 6.17s\tremaining: 1.85s\n",
      "769:\tlearn: 0.2491291\ttotal: 6.18s\tremaining: 1.84s\n",
      "770:\tlearn: 0.2487517\ttotal: 6.18s\tremaining: 1.84s\n",
      "771:\tlearn: 0.2485933\ttotal: 6.19s\tremaining: 1.83s\n",
      "772:\tlearn: 0.2484230\ttotal: 6.2s\tremaining: 1.82s\n",
      "773:\tlearn: 0.2481729\ttotal: 6.2s\tremaining: 1.81s\n",
      "774:\tlearn: 0.2478983\ttotal: 6.21s\tremaining: 1.8s\n",
      "775:\tlearn: 0.2475341\ttotal: 6.22s\tremaining: 1.79s\n",
      "776:\tlearn: 0.2474039\ttotal: 6.22s\tremaining: 1.79s\n",
      "777:\tlearn: 0.2472757\ttotal: 6.23s\tremaining: 1.78s\n",
      "778:\tlearn: 0.2468669\ttotal: 6.24s\tremaining: 1.77s\n",
      "779:\tlearn: 0.2464095\ttotal: 6.24s\tremaining: 1.76s\n",
      "780:\tlearn: 0.2461866\ttotal: 6.25s\tremaining: 1.75s\n"
     ]
    },
    {
     "name": "stdout",
     "output_type": "stream",
     "text": [
      "781:\tlearn: 0.2460415\ttotal: 6.26s\tremaining: 1.74s\n",
      "782:\tlearn: 0.2458991\ttotal: 6.27s\tremaining: 1.74s\n",
      "783:\tlearn: 0.2457766\ttotal: 6.28s\tremaining: 1.73s\n",
      "784:\tlearn: 0.2454605\ttotal: 6.28s\tremaining: 1.72s\n",
      "785:\tlearn: 0.2452275\ttotal: 6.29s\tremaining: 1.71s\n",
      "786:\tlearn: 0.2450055\ttotal: 6.3s\tremaining: 1.7s\n",
      "787:\tlearn: 0.2446704\ttotal: 6.3s\tremaining: 1.7s\n",
      "788:\tlearn: 0.2443870\ttotal: 6.31s\tremaining: 1.69s\n",
      "789:\tlearn: 0.2442786\ttotal: 6.32s\tremaining: 1.68s\n",
      "790:\tlearn: 0.2440155\ttotal: 6.33s\tremaining: 1.67s\n",
      "791:\tlearn: 0.2437405\ttotal: 6.34s\tremaining: 1.67s\n",
      "792:\tlearn: 0.2436628\ttotal: 6.35s\tremaining: 1.66s\n",
      "793:\tlearn: 0.2434887\ttotal: 6.36s\tremaining: 1.65s\n",
      "794:\tlearn: 0.2431504\ttotal: 6.37s\tremaining: 1.64s\n",
      "795:\tlearn: 0.2430617\ttotal: 6.38s\tremaining: 1.63s\n",
      "796:\tlearn: 0.2426837\ttotal: 6.39s\tremaining: 1.63s\n",
      "797:\tlearn: 0.2424745\ttotal: 6.39s\tremaining: 1.62s\n",
      "798:\tlearn: 0.2422366\ttotal: 6.4s\tremaining: 1.61s\n",
      "799:\tlearn: 0.2421545\ttotal: 6.41s\tremaining: 1.6s\n",
      "800:\tlearn: 0.2420586\ttotal: 6.42s\tremaining: 1.59s\n",
      "801:\tlearn: 0.2417758\ttotal: 6.43s\tremaining: 1.59s\n",
      "802:\tlearn: 0.2415778\ttotal: 6.44s\tremaining: 1.58s\n",
      "803:\tlearn: 0.2412041\ttotal: 6.45s\tremaining: 1.57s\n",
      "804:\tlearn: 0.2410395\ttotal: 6.46s\tremaining: 1.56s\n",
      "805:\tlearn: 0.2408527\ttotal: 6.47s\tremaining: 1.56s\n",
      "806:\tlearn: 0.2407721\ttotal: 6.48s\tremaining: 1.55s\n",
      "807:\tlearn: 0.2407011\ttotal: 6.49s\tremaining: 1.54s\n",
      "808:\tlearn: 0.2406285\ttotal: 6.49s\tremaining: 1.53s\n",
      "809:\tlearn: 0.2403599\ttotal: 6.5s\tremaining: 1.52s\n",
      "810:\tlearn: 0.2402080\ttotal: 6.5s\tremaining: 1.51s\n",
      "811:\tlearn: 0.2399288\ttotal: 6.51s\tremaining: 1.51s\n",
      "812:\tlearn: 0.2398210\ttotal: 6.52s\tremaining: 1.5s\n",
      "813:\tlearn: 0.2396362\ttotal: 6.52s\tremaining: 1.49s\n",
      "814:\tlearn: 0.2395010\ttotal: 6.53s\tremaining: 1.48s\n",
      "815:\tlearn: 0.2391535\ttotal: 6.54s\tremaining: 1.47s\n",
      "816:\tlearn: 0.2387205\ttotal: 6.54s\tremaining: 1.47s\n",
      "817:\tlearn: 0.2384600\ttotal: 6.55s\tremaining: 1.46s\n",
      "818:\tlearn: 0.2383121\ttotal: 6.56s\tremaining: 1.45s\n",
      "819:\tlearn: 0.2380817\ttotal: 6.56s\tremaining: 1.44s\n",
      "820:\tlearn: 0.2379502\ttotal: 6.57s\tremaining: 1.43s\n",
      "821:\tlearn: 0.2378232\ttotal: 6.58s\tremaining: 1.42s\n",
      "822:\tlearn: 0.2376446\ttotal: 6.58s\tremaining: 1.42s\n",
      "823:\tlearn: 0.2374590\ttotal: 6.59s\tremaining: 1.41s\n",
      "824:\tlearn: 0.2372115\ttotal: 6.6s\tremaining: 1.4s\n",
      "825:\tlearn: 0.2371095\ttotal: 6.61s\tremaining: 1.39s\n",
      "826:\tlearn: 0.2367965\ttotal: 6.62s\tremaining: 1.38s\n",
      "827:\tlearn: 0.2367282\ttotal: 6.62s\tremaining: 1.38s\n",
      "828:\tlearn: 0.2365326\ttotal: 6.63s\tremaining: 1.37s\n",
      "829:\tlearn: 0.2362804\ttotal: 6.65s\tremaining: 1.36s\n",
      "830:\tlearn: 0.2360448\ttotal: 6.66s\tremaining: 1.35s\n",
      "831:\tlearn: 0.2360052\ttotal: 6.67s\tremaining: 1.35s\n",
      "832:\tlearn: 0.2359313\ttotal: 6.67s\tremaining: 1.34s\n",
      "833:\tlearn: 0.2355127\ttotal: 6.69s\tremaining: 1.33s\n",
      "834:\tlearn: 0.2351274\ttotal: 6.69s\tremaining: 1.32s\n",
      "835:\tlearn: 0.2348920\ttotal: 6.7s\tremaining: 1.31s\n",
      "836:\tlearn: 0.2346824\ttotal: 6.71s\tremaining: 1.31s\n",
      "837:\tlearn: 0.2345934\ttotal: 6.72s\tremaining: 1.3s\n",
      "838:\tlearn: 0.2344420\ttotal: 6.73s\tremaining: 1.29s\n",
      "839:\tlearn: 0.2342743\ttotal: 6.73s\tremaining: 1.28s\n",
      "840:\tlearn: 0.2341145\ttotal: 6.74s\tremaining: 1.27s\n",
      "841:\tlearn: 0.2338504\ttotal: 6.75s\tremaining: 1.27s\n",
      "842:\tlearn: 0.2337877\ttotal: 6.76s\tremaining: 1.26s\n",
      "843:\tlearn: 0.2336662\ttotal: 6.76s\tremaining: 1.25s\n",
      "844:\tlearn: 0.2335555\ttotal: 6.77s\tremaining: 1.24s\n",
      "845:\tlearn: 0.2332039\ttotal: 6.78s\tremaining: 1.23s\n",
      "846:\tlearn: 0.2330900\ttotal: 6.79s\tremaining: 1.23s\n",
      "847:\tlearn: 0.2328552\ttotal: 6.8s\tremaining: 1.22s\n",
      "848:\tlearn: 0.2325129\ttotal: 6.81s\tremaining: 1.21s\n",
      "849:\tlearn: 0.2324501\ttotal: 6.81s\tremaining: 1.2s\n",
      "850:\tlearn: 0.2319829\ttotal: 6.82s\tremaining: 1.19s\n",
      "851:\tlearn: 0.2316583\ttotal: 6.83s\tremaining: 1.19s\n",
      "852:\tlearn: 0.2314481\ttotal: 6.83s\tremaining: 1.18s\n",
      "853:\tlearn: 0.2312910\ttotal: 6.84s\tremaining: 1.17s\n",
      "854:\tlearn: 0.2309639\ttotal: 6.85s\tremaining: 1.16s\n",
      "855:\tlearn: 0.2306815\ttotal: 6.86s\tremaining: 1.15s\n",
      "856:\tlearn: 0.2304710\ttotal: 6.86s\tremaining: 1.14s\n",
      "857:\tlearn: 0.2302111\ttotal: 6.87s\tremaining: 1.14s\n",
      "858:\tlearn: 0.2300949\ttotal: 6.87s\tremaining: 1.13s\n",
      "859:\tlearn: 0.2299964\ttotal: 6.88s\tremaining: 1.12s\n",
      "860:\tlearn: 0.2298035\ttotal: 6.89s\tremaining: 1.11s\n",
      "861:\tlearn: 0.2296910\ttotal: 6.89s\tremaining: 1.1s\n",
      "862:\tlearn: 0.2294545\ttotal: 6.9s\tremaining: 1.09s\n",
      "863:\tlearn: 0.2291974\ttotal: 6.91s\tremaining: 1.09s\n",
      "864:\tlearn: 0.2291419\ttotal: 6.92s\tremaining: 1.08s\n",
      "865:\tlearn: 0.2289970\ttotal: 6.92s\tremaining: 1.07s\n",
      "866:\tlearn: 0.2289003\ttotal: 6.93s\tremaining: 1.06s\n",
      "867:\tlearn: 0.2288192\ttotal: 6.94s\tremaining: 1.05s\n",
      "868:\tlearn: 0.2285106\ttotal: 6.95s\tremaining: 1.05s\n",
      "869:\tlearn: 0.2282555\ttotal: 6.96s\tremaining: 1.04s\n",
      "870:\tlearn: 0.2281409\ttotal: 6.97s\tremaining: 1.03s\n",
      "871:\tlearn: 0.2279091\ttotal: 6.98s\tremaining: 1.02s\n",
      "872:\tlearn: 0.2278499\ttotal: 6.98s\tremaining: 1.02s\n",
      "873:\tlearn: 0.2275105\ttotal: 6.99s\tremaining: 1.01s\n",
      "874:\tlearn: 0.2273830\ttotal: 7s\tremaining: 1000ms\n",
      "875:\tlearn: 0.2273342\ttotal: 7.01s\tremaining: 992ms\n",
      "876:\tlearn: 0.2270308\ttotal: 7.02s\tremaining: 984ms\n",
      "877:\tlearn: 0.2268932\ttotal: 7.03s\tremaining: 976ms\n",
      "878:\tlearn: 0.2267624\ttotal: 7.04s\tremaining: 968ms\n",
      "879:\tlearn: 0.2265836\ttotal: 7.04s\tremaining: 961ms\n",
      "880:\tlearn: 0.2264541\ttotal: 7.05s\tremaining: 953ms\n",
      "881:\tlearn: 0.2261301\ttotal: 7.06s\tremaining: 945ms\n",
      "882:\tlearn: 0.2259432\ttotal: 7.07s\tremaining: 937ms\n",
      "883:\tlearn: 0.2256196\ttotal: 7.08s\tremaining: 929ms\n",
      "884:\tlearn: 0.2253516\ttotal: 7.09s\tremaining: 921ms\n",
      "885:\tlearn: 0.2251727\ttotal: 7.1s\tremaining: 913ms\n",
      "886:\tlearn: 0.2249627\ttotal: 7.11s\tremaining: 905ms\n",
      "887:\tlearn: 0.2246124\ttotal: 7.12s\tremaining: 897ms\n",
      "888:\tlearn: 0.2243462\ttotal: 7.12s\tremaining: 889ms\n",
      "889:\tlearn: 0.2243005\ttotal: 7.13s\tremaining: 881ms\n",
      "890:\tlearn: 0.2241962\ttotal: 7.14s\tremaining: 873ms\n",
      "891:\tlearn: 0.2238497\ttotal: 7.15s\tremaining: 865ms\n",
      "892:\tlearn: 0.2235492\ttotal: 7.16s\tremaining: 858ms\n",
      "893:\tlearn: 0.2234422\ttotal: 7.17s\tremaining: 850ms\n",
      "894:\tlearn: 0.2233198\ttotal: 7.17s\tremaining: 842ms\n",
      "895:\tlearn: 0.2231626\ttotal: 7.18s\tremaining: 834ms\n",
      "896:\tlearn: 0.2230484\ttotal: 7.19s\tremaining: 825ms\n",
      "897:\tlearn: 0.2228183\ttotal: 7.2s\tremaining: 817ms\n",
      "898:\tlearn: 0.2225308\ttotal: 7.2s\tremaining: 809ms\n",
      "899:\tlearn: 0.2223083\ttotal: 7.21s\tremaining: 802ms\n",
      "900:\tlearn: 0.2221458\ttotal: 7.22s\tremaining: 794ms\n",
      "901:\tlearn: 0.2220109\ttotal: 7.23s\tremaining: 786ms\n",
      "902:\tlearn: 0.2218037\ttotal: 7.24s\tremaining: 778ms\n",
      "903:\tlearn: 0.2217444\ttotal: 7.24s\tremaining: 769ms\n",
      "904:\tlearn: 0.2215533\ttotal: 7.25s\tremaining: 761ms\n",
      "905:\tlearn: 0.2213821\ttotal: 7.26s\tremaining: 753ms\n",
      "906:\tlearn: 0.2210765\ttotal: 7.26s\tremaining: 745ms\n",
      "907:\tlearn: 0.2209677\ttotal: 7.27s\tremaining: 737ms\n",
      "908:\tlearn: 0.2208022\ttotal: 7.28s\tremaining: 729ms\n",
      "909:\tlearn: 0.2204855\ttotal: 7.29s\tremaining: 721ms\n",
      "910:\tlearn: 0.2202012\ttotal: 7.29s\tremaining: 712ms\n",
      "911:\tlearn: 0.2200701\ttotal: 7.3s\tremaining: 704ms\n",
      "912:\tlearn: 0.2197640\ttotal: 7.31s\tremaining: 696ms\n",
      "913:\tlearn: 0.2195664\ttotal: 7.32s\tremaining: 688ms\n",
      "914:\tlearn: 0.2194689\ttotal: 7.33s\tremaining: 680ms\n",
      "915:\tlearn: 0.2191403\ttotal: 7.33s\tremaining: 672ms\n",
      "916:\tlearn: 0.2190201\ttotal: 7.34s\tremaining: 664ms\n",
      "917:\tlearn: 0.2187298\ttotal: 7.35s\tremaining: 656ms\n",
      "918:\tlearn: 0.2186327\ttotal: 7.35s\tremaining: 648ms\n",
      "919:\tlearn: 0.2185698\ttotal: 7.36s\tremaining: 640ms\n",
      "920:\tlearn: 0.2184523\ttotal: 7.37s\tremaining: 632ms\n",
      "921:\tlearn: 0.2182312\ttotal: 7.37s\tremaining: 624ms\n",
      "922:\tlearn: 0.2181798\ttotal: 7.38s\tremaining: 616ms\n",
      "923:\tlearn: 0.2181067\ttotal: 7.38s\tremaining: 607ms\n",
      "924:\tlearn: 0.2179829\ttotal: 7.39s\tremaining: 599ms\n",
      "925:\tlearn: 0.2177930\ttotal: 7.4s\tremaining: 591ms\n",
      "926:\tlearn: 0.2176997\ttotal: 7.4s\tremaining: 583ms\n",
      "927:\tlearn: 0.2175244\ttotal: 7.41s\tremaining: 575ms\n",
      "928:\tlearn: 0.2172368\ttotal: 7.42s\tremaining: 567ms\n",
      "929:\tlearn: 0.2169233\ttotal: 7.42s\tremaining: 559ms\n",
      "930:\tlearn: 0.2168177\ttotal: 7.43s\tremaining: 551ms\n",
      "931:\tlearn: 0.2164516\ttotal: 7.44s\tremaining: 543ms\n",
      "932:\tlearn: 0.2161995\ttotal: 7.44s\tremaining: 535ms\n",
      "933:\tlearn: 0.2161417\ttotal: 7.45s\tremaining: 526ms\n",
      "934:\tlearn: 0.2160689\ttotal: 7.46s\tremaining: 518ms\n",
      "935:\tlearn: 0.2159681\ttotal: 7.46s\tremaining: 510ms\n",
      "936:\tlearn: 0.2158915\ttotal: 7.47s\tremaining: 502ms\n",
      "937:\tlearn: 0.2158281\ttotal: 7.48s\tremaining: 494ms\n",
      "938:\tlearn: 0.2156024\ttotal: 7.49s\tremaining: 486ms\n",
      "939:\tlearn: 0.2152917\ttotal: 7.49s\tremaining: 478ms\n",
      "940:\tlearn: 0.2151112\ttotal: 7.5s\tremaining: 471ms\n",
      "941:\tlearn: 0.2149006\ttotal: 7.51s\tremaining: 462ms\n",
      "942:\tlearn: 0.2145647\ttotal: 7.52s\tremaining: 454ms\n",
      "943:\tlearn: 0.2143805\ttotal: 7.53s\tremaining: 446ms\n",
      "944:\tlearn: 0.2142196\ttotal: 7.53s\tremaining: 438ms\n",
      "945:\tlearn: 0.2140545\ttotal: 7.54s\tremaining: 430ms\n",
      "946:\tlearn: 0.2140177\ttotal: 7.54s\tremaining: 422ms\n",
      "947:\tlearn: 0.2137833\ttotal: 7.55s\tremaining: 414ms\n",
      "948:\tlearn: 0.2135115\ttotal: 7.56s\tremaining: 406ms\n",
      "949:\tlearn: 0.2133620\ttotal: 7.57s\tremaining: 398ms\n",
      "950:\tlearn: 0.2132262\ttotal: 7.57s\tremaining: 390ms\n",
      "951:\tlearn: 0.2131708\ttotal: 7.58s\tremaining: 382ms\n",
      "952:\tlearn: 0.2129876\ttotal: 7.58s\tremaining: 374ms\n",
      "953:\tlearn: 0.2129085\ttotal: 7.59s\tremaining: 366ms\n",
      "954:\tlearn: 0.2128280\ttotal: 7.6s\tremaining: 358ms\n",
      "955:\tlearn: 0.2125724\ttotal: 7.61s\tremaining: 350ms\n",
      "956:\tlearn: 0.2123971\ttotal: 7.61s\tremaining: 342ms\n",
      "957:\tlearn: 0.2123338\ttotal: 7.62s\tremaining: 334ms\n",
      "958:\tlearn: 0.2121851\ttotal: 7.63s\tremaining: 326ms\n",
      "959:\tlearn: 0.2118879\ttotal: 7.63s\tremaining: 318ms\n",
      "960:\tlearn: 0.2117022\ttotal: 7.64s\tremaining: 310ms\n",
      "961:\tlearn: 0.2113743\ttotal: 7.64s\tremaining: 302ms\n"
     ]
    },
    {
     "name": "stdout",
     "output_type": "stream",
     "text": [
      "962:\tlearn: 0.2112275\ttotal: 7.65s\tremaining: 294ms\n",
      "963:\tlearn: 0.2111049\ttotal: 7.67s\tremaining: 286ms\n",
      "964:\tlearn: 0.2109509\ttotal: 7.67s\tremaining: 278ms\n",
      "965:\tlearn: 0.2108533\ttotal: 7.68s\tremaining: 270ms\n",
      "966:\tlearn: 0.2107905\ttotal: 7.69s\tremaining: 262ms\n",
      "967:\tlearn: 0.2105751\ttotal: 7.69s\tremaining: 254ms\n",
      "968:\tlearn: 0.2104885\ttotal: 7.7s\tremaining: 246ms\n",
      "969:\tlearn: 0.2103131\ttotal: 7.71s\tremaining: 238ms\n",
      "970:\tlearn: 0.2101594\ttotal: 7.71s\tremaining: 230ms\n",
      "971:\tlearn: 0.2099350\ttotal: 7.72s\tremaining: 222ms\n",
      "972:\tlearn: 0.2097310\ttotal: 7.73s\tremaining: 214ms\n",
      "973:\tlearn: 0.2096865\ttotal: 7.73s\tremaining: 206ms\n",
      "974:\tlearn: 0.2094119\ttotal: 7.74s\tremaining: 198ms\n",
      "975:\tlearn: 0.2093472\ttotal: 7.75s\tremaining: 191ms\n",
      "976:\tlearn: 0.2091345\ttotal: 7.75s\tremaining: 183ms\n",
      "977:\tlearn: 0.2090480\ttotal: 7.76s\tremaining: 175ms\n",
      "978:\tlearn: 0.2088962\ttotal: 7.77s\tremaining: 167ms\n",
      "979:\tlearn: 0.2087308\ttotal: 7.77s\tremaining: 159ms\n",
      "980:\tlearn: 0.2086441\ttotal: 7.78s\tremaining: 151ms\n",
      "981:\tlearn: 0.2084154\ttotal: 7.79s\tremaining: 143ms\n",
      "982:\tlearn: 0.2082748\ttotal: 7.79s\tremaining: 135ms\n",
      "983:\tlearn: 0.2081005\ttotal: 7.8s\tremaining: 127ms\n",
      "984:\tlearn: 0.2079941\ttotal: 7.81s\tremaining: 119ms\n",
      "985:\tlearn: 0.2078798\ttotal: 7.81s\tremaining: 111ms\n",
      "986:\tlearn: 0.2077468\ttotal: 7.82s\tremaining: 103ms\n",
      "987:\tlearn: 0.2076789\ttotal: 7.83s\tremaining: 95.1ms\n",
      "988:\tlearn: 0.2075941\ttotal: 7.83s\tremaining: 87.1ms\n",
      "989:\tlearn: 0.2074306\ttotal: 7.84s\tremaining: 79.2ms\n",
      "990:\tlearn: 0.2072154\ttotal: 7.85s\tremaining: 71.3ms\n",
      "991:\tlearn: 0.2070420\ttotal: 7.86s\tremaining: 63.4ms\n",
      "992:\tlearn: 0.2069829\ttotal: 7.86s\tremaining: 55.4ms\n",
      "993:\tlearn: 0.2067766\ttotal: 7.87s\tremaining: 47.5ms\n",
      "994:\tlearn: 0.2064627\ttotal: 7.88s\tremaining: 39.6ms\n",
      "995:\tlearn: 0.2063344\ttotal: 7.88s\tremaining: 31.7ms\n",
      "996:\tlearn: 0.2061995\ttotal: 7.89s\tremaining: 23.7ms\n",
      "997:\tlearn: 0.2060698\ttotal: 7.89s\tremaining: 15.8ms\n",
      "998:\tlearn: 0.2059327\ttotal: 7.9s\tremaining: 7.91ms\n",
      "999:\tlearn: 0.2057694\ttotal: 7.91s\tremaining: 0us\n",
      "Accuracy of <catboost.core.CatBoostClassifier object at 0x0000022AFA8EA3D0> is:\n",
      "Accuracy of training model is: 0.9618047799865982\n",
      "Accuracy score: 92.58597588209022\n",
      "Confusion matrix: \n",
      " [[647 128  17]\n",
      " [ 19 695   2]\n",
      " [  0   0 731]]\n",
      "Classification report: \n",
      "               precision    recall  f1-score   support\n",
      "\n",
      "           0       0.97      0.82      0.89       792\n",
      "           1       0.84      0.97      0.90       716\n",
      "           2       0.97      1.00      0.99       731\n",
      "\n",
      "    accuracy                           0.93      2239\n",
      "   macro avg       0.93      0.93      0.93      2239\n",
      "weighted avg       0.93      0.93      0.93      2239\n",
      "\n",
      "**************************************************************\n",
      "\n",
      "\n"
     ]
    }
   ],
   "source": [
    "from sklearn.ensemble import RandomForestClassifier\n",
    "from sklearn.ensemble import AdaBoostClassifier\n",
    "from sklearn.ensemble import GradientBoostingClassifier\n",
    "from sklearn.ensemble import ExtraTreesClassifier\n",
    "from catboost import CatBoostClassifier\n",
    "from xgboost import XGBClassifier\n",
    "\n",
    "model = [RandomForestClassifier(),AdaBoostClassifier(),GradientBoostingClassifier(),XGBClassifier(),ExtraTreesClassifier(),CatBoostClassifier()]\n",
    "\n",
    "for i in model:\n",
    "    i.fit(x_train,y_train)\n",
    "    train = i.score(x_train,y_train)\n",
    "    predi = i.predict(x_test)\n",
    "    print(\"Accuracy of\",i,\"is:\")\n",
    "    print(\"Accuracy of training model is:\",train)\n",
    "    print(\"Accuracy score:\",accuracy_score(y_test,predi)*100)\n",
    "    print(\"Confusion matrix:\",\"\\n\",confusion_matrix(y_test,predi))\n",
    "    print(\"Classification report:\",\"\\n\",classification_report(y_test,predi))\n",
    "    print(\"**************************************************************\")\n",
    "    print(\"\\n\")"
   ]
  },
  {
   "cell_type": "markdown",
   "metadata": {},
   "source": [
    "## Hyperparameter Tuning"
   ]
  },
  {
   "cell_type": "code",
   "execution_count": 48,
   "metadata": {},
   "outputs": [
    {
     "name": "stdout",
     "output_type": "stream",
     "text": [
      "{'ccp_alpha': 0.0, 'criterion': 'gini', 'max_depth': 4, 'random_state': 0}\n"
     ]
    }
   ],
   "source": [
    "from sklearn.model_selection import GridSearchCV\n",
    "dtc = DecisionTreeClassifier()\n",
    "parameters = {'criterion':['gini','entropy'],'max_depth':[1,2,3,4],'random_state':list(range(0,15)),'ccp_alpha':[0.0,0.1,0.2]}\n",
    "clf = GridSearchCV(dtc,parameters)\n",
    "clf.fit(x_train,y_train)\n",
    "print(clf.best_params_)"
   ]
  },
  {
   "cell_type": "code",
   "execution_count": 49,
   "metadata": {},
   "outputs": [
    {
     "name": "stdout",
     "output_type": "stream",
     "text": [
      "Accuracy of training model is: 0.5627652445834264\n",
      "Accuracy score: 57.07905314872711\n",
      "Confusion matrix: \n",
      " [[577  92 123]\n",
      " [221 193 302]\n",
      " [155  68 508]]\n",
      "Classification report: \n",
      "               precision    recall  f1-score   support\n",
      "\n",
      "           0       0.61      0.73      0.66       792\n",
      "           1       0.55      0.27      0.36       716\n",
      "           2       0.54      0.69      0.61       731\n",
      "\n",
      "    accuracy                           0.57      2239\n",
      "   macro avg       0.57      0.56      0.54      2239\n",
      "weighted avg       0.57      0.57      0.55      2239\n",
      "\n"
     ]
    }
   ],
   "source": [
    "dtc = DecisionTreeClassifier(ccp_alpha=0.0,criterion='gini',max_depth=4,random_state=0)\n",
    "dtc.fit(x_train,y_train)\n",
    "train = dtc.score(x_train,y_train)\n",
    "preddtc = dtc.predict(x_test)\n",
    "print(\"Accuracy of training model is:\",train)\n",
    "print(\"Accuracy score:\",accuracy_score(y_test,preddtc)*100)\n",
    "print(\"Confusion matrix:\",\"\\n\",confusion_matrix(y_test,preddtc))\n",
    "print(\"Classification report:\",\"\\n\",classification_report(y_test,preddtc))"
   ]
  },
  {
   "cell_type": "code",
   "execution_count": 50,
   "metadata": {},
   "outputs": [
    {
     "name": "stdout",
     "output_type": "stream",
     "text": [
      "{'algorithm': 'auto', 'n_neighbors': 4, 'weights': 'distance'}\n"
     ]
    }
   ],
   "source": [
    "knc = KNeighborsClassifier()\n",
    "parameters = {'n_neighbors':[4,5,6,7,8,9,10],'weights':['uniform','distance'],'algorithm':['auto','ball_tree','kd_tree','brute']}\n",
    "clf = GridSearchCV(knc,parameters)\n",
    "clf.fit(x_train,y_train)\n",
    "print(clf.best_params_)"
   ]
  },
  {
   "cell_type": "code",
   "execution_count": 51,
   "metadata": {},
   "outputs": [
    {
     "name": "stdout",
     "output_type": "stream",
     "text": [
      "Accuracy of training model is: 0.9974313156131338\n",
      "Accuracy score: 90.5761500669942\n",
      "Confusion matrix: \n",
      " [[582 179  31]\n",
      " [  1 715   0]\n",
      " [  0   0 731]]\n",
      "Classification report: \n",
      "               precision    recall  f1-score   support\n",
      "\n",
      "           0       1.00      0.73      0.85       792\n",
      "           1       0.80      1.00      0.89       716\n",
      "           2       0.96      1.00      0.98       731\n",
      "\n",
      "    accuracy                           0.91      2239\n",
      "   macro avg       0.92      0.91      0.90      2239\n",
      "weighted avg       0.92      0.91      0.90      2239\n",
      "\n"
     ]
    }
   ],
   "source": [
    "knc = KNeighborsClassifier(algorithm='auto',n_neighbors=4,weights='distance')\n",
    "knc.fit(x_train,y_train)\n",
    "train = knc.score(x_train,y_train)\n",
    "predknc = knc.predict(x_test)\n",
    "print(\"Accuracy of training model is:\",train)\n",
    "print(\"Accuracy score:\",accuracy_score(y_test,predknc)*100)\n",
    "print(\"Confusion matrix:\",\"\\n\",confusion_matrix(y_test,predknc))\n",
    "print(\"Classification report:\",\"\\n\",classification_report(y_test,predknc))"
   ]
  },
  {
   "cell_type": "code",
   "execution_count": 52,
   "metadata": {},
   "outputs": [
    {
     "name": "stdout",
     "output_type": "stream",
     "text": [
      "{'criterion': 'gini', 'max_depth': 4, 'n_estimators': 120, 'random_state': 6}\n"
     ]
    }
   ],
   "source": [
    "rfc = RandomForestClassifier()\n",
    "parameters = {'n_estimators':[50,100,120],'criterion':['gini','entropy'],'max_depth':[2,3,4],'random_state':list(range(0,10))}\n",
    "clf = GridSearchCV(rfc,parameters)\n",
    "clf.fit(x_train,y_train)\n",
    "print(clf.best_params_)"
   ]
  },
  {
   "cell_type": "code",
   "execution_count": 54,
   "metadata": {},
   "outputs": [
    {
     "name": "stdout",
     "output_type": "stream",
     "text": [
      "Accuracy of training model is: 0.6048693321420594\n",
      "Accuracy score: 60.74140241179098\n",
      "Confusion matrix: \n",
      " [[584 110  98]\n",
      " [216 217 283]\n",
      " [136  36 559]]\n",
      "Classification report: \n",
      "               precision    recall  f1-score   support\n",
      "\n",
      "           0       0.62      0.74      0.68       792\n",
      "           1       0.60      0.30      0.40       716\n",
      "           2       0.59      0.76      0.67       731\n",
      "\n",
      "    accuracy                           0.61      2239\n",
      "   macro avg       0.61      0.60      0.58      2239\n",
      "weighted avg       0.61      0.61      0.59      2239\n",
      "\n"
     ]
    }
   ],
   "source": [
    "rfc = RandomForestClassifier(criterion='gini',max_depth=4,n_estimators=120,random_state=6)\n",
    "rfc.fit(x_train,y_train)\n",
    "train = rfc.score(x_train,y_train)\n",
    "predrfc = rfc.predict(x_test)\n",
    "print(\"Accuracy of training model is:\",train)\n",
    "print(\"Accuracy score:\",accuracy_score(y_test,predrfc)*100)\n",
    "print(\"Confusion matrix:\",\"\\n\",confusion_matrix(y_test,predrfc))\n",
    "print(\"Classification report:\",\"\\n\",classification_report(y_test,predrfc))"
   ]
  },
  {
   "cell_type": "code",
   "execution_count": 53,
   "metadata": {},
   "outputs": [
    {
     "name": "stdout",
     "output_type": "stream",
     "text": [
      "[23:53:33] WARNING: C:/Users/Administrator/workspace/xgboost-win64_release_1.3.0/src/learner.cc:1061: Starting in XGBoost 1.3.0, the default evaluation metric used with the objective 'multi:softprob' was changed from 'merror' to 'mlogloss'. Explicitly set eval_metric if you'd like to restore the old behavior.\n",
      "[23:53:33] WARNING: C:/Users/Administrator/workspace/xgboost-win64_release_1.3.0/src/learner.cc:1061: Starting in XGBoost 1.3.0, the default evaluation metric used with the objective 'multi:softprob' was changed from 'merror' to 'mlogloss'. Explicitly set eval_metric if you'd like to restore the old behavior.\n",
      "[23:53:34] WARNING: C:/Users/Administrator/workspace/xgboost-win64_release_1.3.0/src/learner.cc:1061: Starting in XGBoost 1.3.0, the default evaluation metric used with the objective 'multi:softprob' was changed from 'merror' to 'mlogloss'. Explicitly set eval_metric if you'd like to restore the old behavior.\n",
      "[23:53:35] WARNING: C:/Users/Administrator/workspace/xgboost-win64_release_1.3.0/src/learner.cc:1061: Starting in XGBoost 1.3.0, the default evaluation metric used with the objective 'multi:softprob' was changed from 'merror' to 'mlogloss'. Explicitly set eval_metric if you'd like to restore the old behavior.\n",
      "[23:53:35] WARNING: C:/Users/Administrator/workspace/xgboost-win64_release_1.3.0/src/learner.cc:1061: Starting in XGBoost 1.3.0, the default evaluation metric used with the objective 'multi:softprob' was changed from 'merror' to 'mlogloss'. Explicitly set eval_metric if you'd like to restore the old behavior.\n",
      "[23:53:36] WARNING: C:/Users/Administrator/workspace/xgboost-win64_release_1.3.0/src/learner.cc:1061: Starting in XGBoost 1.3.0, the default evaluation metric used with the objective 'multi:softprob' was changed from 'merror' to 'mlogloss'. Explicitly set eval_metric if you'd like to restore the old behavior.\n",
      "[23:53:38] WARNING: C:/Users/Administrator/workspace/xgboost-win64_release_1.3.0/src/learner.cc:1061: Starting in XGBoost 1.3.0, the default evaluation metric used with the objective 'multi:softprob' was changed from 'merror' to 'mlogloss'. Explicitly set eval_metric if you'd like to restore the old behavior.\n",
      "[23:53:39] WARNING: C:/Users/Administrator/workspace/xgboost-win64_release_1.3.0/src/learner.cc:1061: Starting in XGBoost 1.3.0, the default evaluation metric used with the objective 'multi:softprob' was changed from 'merror' to 'mlogloss'. Explicitly set eval_metric if you'd like to restore the old behavior.\n",
      "[23:53:41] WARNING: C:/Users/Administrator/workspace/xgboost-win64_release_1.3.0/src/learner.cc:1061: Starting in XGBoost 1.3.0, the default evaluation metric used with the objective 'multi:softprob' was changed from 'merror' to 'mlogloss'. Explicitly set eval_metric if you'd like to restore the old behavior.\n",
      "[23:53:42] WARNING: C:/Users/Administrator/workspace/xgboost-win64_release_1.3.0/src/learner.cc:1061: Starting in XGBoost 1.3.0, the default evaluation metric used with the objective 'multi:softprob' was changed from 'merror' to 'mlogloss'. Explicitly set eval_metric if you'd like to restore the old behavior.\n",
      "[23:53:44] WARNING: C:/Users/Administrator/workspace/xgboost-win64_release_1.3.0/src/learner.cc:1061: Starting in XGBoost 1.3.0, the default evaluation metric used with the objective 'multi:softprob' was changed from 'merror' to 'mlogloss'. Explicitly set eval_metric if you'd like to restore the old behavior.\n",
      "[23:53:45] WARNING: C:/Users/Administrator/workspace/xgboost-win64_release_1.3.0/src/learner.cc:1061: Starting in XGBoost 1.3.0, the default evaluation metric used with the objective 'multi:softprob' was changed from 'merror' to 'mlogloss'. Explicitly set eval_metric if you'd like to restore the old behavior.\n",
      "[23:53:47] WARNING: C:/Users/Administrator/workspace/xgboost-win64_release_1.3.0/src/learner.cc:1061: Starting in XGBoost 1.3.0, the default evaluation metric used with the objective 'multi:softprob' was changed from 'merror' to 'mlogloss'. Explicitly set eval_metric if you'd like to restore the old behavior.\n",
      "[23:53:48] WARNING: C:/Users/Administrator/workspace/xgboost-win64_release_1.3.0/src/learner.cc:1061: Starting in XGBoost 1.3.0, the default evaluation metric used with the objective 'multi:softprob' was changed from 'merror' to 'mlogloss'. Explicitly set eval_metric if you'd like to restore the old behavior.\n",
      "[23:53:50] WARNING: C:/Users/Administrator/workspace/xgboost-win64_release_1.3.0/src/learner.cc:1061: Starting in XGBoost 1.3.0, the default evaluation metric used with the objective 'multi:softprob' was changed from 'merror' to 'mlogloss'. Explicitly set eval_metric if you'd like to restore the old behavior.\n",
      "[23:53:52] WARNING: C:/Users/Administrator/workspace/xgboost-win64_release_1.3.0/src/learner.cc:1061: Starting in XGBoost 1.3.0, the default evaluation metric used with the objective 'multi:softprob' was changed from 'merror' to 'mlogloss'. Explicitly set eval_metric if you'd like to restore the old behavior.\n",
      "[23:53:52] WARNING: C:/Users/Administrator/workspace/xgboost-win64_release_1.3.0/src/learner.cc:1061: Starting in XGBoost 1.3.0, the default evaluation metric used with the objective 'multi:softprob' was changed from 'merror' to 'mlogloss'. Explicitly set eval_metric if you'd like to restore the old behavior.\n",
      "[23:53:53] WARNING: C:/Users/Administrator/workspace/xgboost-win64_release_1.3.0/src/learner.cc:1061: Starting in XGBoost 1.3.0, the default evaluation metric used with the objective 'multi:softprob' was changed from 'merror' to 'mlogloss'. Explicitly set eval_metric if you'd like to restore the old behavior.\n",
      "[23:53:54] WARNING: C:/Users/Administrator/workspace/xgboost-win64_release_1.3.0/src/learner.cc:1061: Starting in XGBoost 1.3.0, the default evaluation metric used with the objective 'multi:softprob' was changed from 'merror' to 'mlogloss'. Explicitly set eval_metric if you'd like to restore the old behavior.\n",
      "[23:53:54] WARNING: C:/Users/Administrator/workspace/xgboost-win64_release_1.3.0/src/learner.cc:1061: Starting in XGBoost 1.3.0, the default evaluation metric used with the objective 'multi:softprob' was changed from 'merror' to 'mlogloss'. Explicitly set eval_metric if you'd like to restore the old behavior.\n",
      "[23:53:55] WARNING: C:/Users/Administrator/workspace/xgboost-win64_release_1.3.0/src/learner.cc:1061: Starting in XGBoost 1.3.0, the default evaluation metric used with the objective 'multi:softprob' was changed from 'merror' to 'mlogloss'. Explicitly set eval_metric if you'd like to restore the old behavior.\n",
      "[23:53:57] WARNING: C:/Users/Administrator/workspace/xgboost-win64_release_1.3.0/src/learner.cc:1061: Starting in XGBoost 1.3.0, the default evaluation metric used with the objective 'multi:softprob' was changed from 'merror' to 'mlogloss'. Explicitly set eval_metric if you'd like to restore the old behavior.\n",
      "[23:53:58] WARNING: C:/Users/Administrator/workspace/xgboost-win64_release_1.3.0/src/learner.cc:1061: Starting in XGBoost 1.3.0, the default evaluation metric used with the objective 'multi:softprob' was changed from 'merror' to 'mlogloss'. Explicitly set eval_metric if you'd like to restore the old behavior.\n",
      "[23:53:59] WARNING: C:/Users/Administrator/workspace/xgboost-win64_release_1.3.0/src/learner.cc:1061: Starting in XGBoost 1.3.0, the default evaluation metric used with the objective 'multi:softprob' was changed from 'merror' to 'mlogloss'. Explicitly set eval_metric if you'd like to restore the old behavior.\n",
      "[23:54:00] WARNING: C:/Users/Administrator/workspace/xgboost-win64_release_1.3.0/src/learner.cc:1061: Starting in XGBoost 1.3.0, the default evaluation metric used with the objective 'multi:softprob' was changed from 'merror' to 'mlogloss'. Explicitly set eval_metric if you'd like to restore the old behavior.\n",
      "[23:54:02] WARNING: C:/Users/Administrator/workspace/xgboost-win64_release_1.3.0/src/learner.cc:1061: Starting in XGBoost 1.3.0, the default evaluation metric used with the objective 'multi:softprob' was changed from 'merror' to 'mlogloss'. Explicitly set eval_metric if you'd like to restore the old behavior.\n",
      "[23:54:03] WARNING: C:/Users/Administrator/workspace/xgboost-win64_release_1.3.0/src/learner.cc:1061: Starting in XGBoost 1.3.0, the default evaluation metric used with the objective 'multi:softprob' was changed from 'merror' to 'mlogloss'. Explicitly set eval_metric if you'd like to restore the old behavior.\n"
     ]
    },
    {
     "name": "stdout",
     "output_type": "stream",
     "text": [
      "[23:54:04] WARNING: C:/Users/Administrator/workspace/xgboost-win64_release_1.3.0/src/learner.cc:1061: Starting in XGBoost 1.3.0, the default evaluation metric used with the objective 'multi:softprob' was changed from 'merror' to 'mlogloss'. Explicitly set eval_metric if you'd like to restore the old behavior.\n",
      "[23:54:06] WARNING: C:/Users/Administrator/workspace/xgboost-win64_release_1.3.0/src/learner.cc:1061: Starting in XGBoost 1.3.0, the default evaluation metric used with the objective 'multi:softprob' was changed from 'merror' to 'mlogloss'. Explicitly set eval_metric if you'd like to restore the old behavior.\n",
      "[23:54:07] WARNING: C:/Users/Administrator/workspace/xgboost-win64_release_1.3.0/src/learner.cc:1061: Starting in XGBoost 1.3.0, the default evaluation metric used with the objective 'multi:softprob' was changed from 'merror' to 'mlogloss'. Explicitly set eval_metric if you'd like to restore the old behavior.\n",
      "[23:54:09] WARNING: C:/Users/Administrator/workspace/xgboost-win64_release_1.3.0/src/learner.cc:1061: Starting in XGBoost 1.3.0, the default evaluation metric used with the objective 'multi:softprob' was changed from 'merror' to 'mlogloss'. Explicitly set eval_metric if you'd like to restore the old behavior.\n",
      "[23:54:09] WARNING: C:/Users/Administrator/workspace/xgboost-win64_release_1.3.0/src/learner.cc:1061: Starting in XGBoost 1.3.0, the default evaluation metric used with the objective 'multi:softprob' was changed from 'merror' to 'mlogloss'. Explicitly set eval_metric if you'd like to restore the old behavior.\n",
      "[23:54:10] WARNING: C:/Users/Administrator/workspace/xgboost-win64_release_1.3.0/src/learner.cc:1061: Starting in XGBoost 1.3.0, the default evaluation metric used with the objective 'multi:softprob' was changed from 'merror' to 'mlogloss'. Explicitly set eval_metric if you'd like to restore the old behavior.\n",
      "[23:54:11] WARNING: C:/Users/Administrator/workspace/xgboost-win64_release_1.3.0/src/learner.cc:1061: Starting in XGBoost 1.3.0, the default evaluation metric used with the objective 'multi:softprob' was changed from 'merror' to 'mlogloss'. Explicitly set eval_metric if you'd like to restore the old behavior.\n",
      "[23:54:12] WARNING: C:/Users/Administrator/workspace/xgboost-win64_release_1.3.0/src/learner.cc:1061: Starting in XGBoost 1.3.0, the default evaluation metric used with the objective 'multi:softprob' was changed from 'merror' to 'mlogloss'. Explicitly set eval_metric if you'd like to restore the old behavior.\n",
      "[23:54:12] WARNING: C:/Users/Administrator/workspace/xgboost-win64_release_1.3.0/src/learner.cc:1061: Starting in XGBoost 1.3.0, the default evaluation metric used with the objective 'multi:softprob' was changed from 'merror' to 'mlogloss'. Explicitly set eval_metric if you'd like to restore the old behavior.\n",
      "[23:54:14] WARNING: C:/Users/Administrator/workspace/xgboost-win64_release_1.3.0/src/learner.cc:1061: Starting in XGBoost 1.3.0, the default evaluation metric used with the objective 'multi:softprob' was changed from 'merror' to 'mlogloss'. Explicitly set eval_metric if you'd like to restore the old behavior.\n",
      "[23:54:15] WARNING: C:/Users/Administrator/workspace/xgboost-win64_release_1.3.0/src/learner.cc:1061: Starting in XGBoost 1.3.0, the default evaluation metric used with the objective 'multi:softprob' was changed from 'merror' to 'mlogloss'. Explicitly set eval_metric if you'd like to restore the old behavior.\n",
      "[23:54:16] WARNING: C:/Users/Administrator/workspace/xgboost-win64_release_1.3.0/src/learner.cc:1061: Starting in XGBoost 1.3.0, the default evaluation metric used with the objective 'multi:softprob' was changed from 'merror' to 'mlogloss'. Explicitly set eval_metric if you'd like to restore the old behavior.\n",
      "[23:54:17] WARNING: C:/Users/Administrator/workspace/xgboost-win64_release_1.3.0/src/learner.cc:1061: Starting in XGBoost 1.3.0, the default evaluation metric used with the objective 'multi:softprob' was changed from 'merror' to 'mlogloss'. Explicitly set eval_metric if you'd like to restore the old behavior.\n",
      "[23:54:18] WARNING: C:/Users/Administrator/workspace/xgboost-win64_release_1.3.0/src/learner.cc:1061: Starting in XGBoost 1.3.0, the default evaluation metric used with the objective 'multi:softprob' was changed from 'merror' to 'mlogloss'. Explicitly set eval_metric if you'd like to restore the old behavior.\n",
      "[23:54:20] WARNING: C:/Users/Administrator/workspace/xgboost-win64_release_1.3.0/src/learner.cc:1061: Starting in XGBoost 1.3.0, the default evaluation metric used with the objective 'multi:softprob' was changed from 'merror' to 'mlogloss'. Explicitly set eval_metric if you'd like to restore the old behavior.\n",
      "[23:54:21] WARNING: C:/Users/Administrator/workspace/xgboost-win64_release_1.3.0/src/learner.cc:1061: Starting in XGBoost 1.3.0, the default evaluation metric used with the objective 'multi:softprob' was changed from 'merror' to 'mlogloss'. Explicitly set eval_metric if you'd like to restore the old behavior.\n",
      "[23:54:22] WARNING: C:/Users/Administrator/workspace/xgboost-win64_release_1.3.0/src/learner.cc:1061: Starting in XGBoost 1.3.0, the default evaluation metric used with the objective 'multi:softprob' was changed from 'merror' to 'mlogloss'. Explicitly set eval_metric if you'd like to restore the old behavior.\n",
      "[23:54:24] WARNING: C:/Users/Administrator/workspace/xgboost-win64_release_1.3.0/src/learner.cc:1061: Starting in XGBoost 1.3.0, the default evaluation metric used with the objective 'multi:softprob' was changed from 'merror' to 'mlogloss'. Explicitly set eval_metric if you'd like to restore the old behavior.\n",
      "[23:54:25] WARNING: C:/Users/Administrator/workspace/xgboost-win64_release_1.3.0/src/learner.cc:1061: Starting in XGBoost 1.3.0, the default evaluation metric used with the objective 'multi:softprob' was changed from 'merror' to 'mlogloss'. Explicitly set eval_metric if you'd like to restore the old behavior.\n",
      "[23:54:26] WARNING: C:/Users/Administrator/workspace/xgboost-win64_release_1.3.0/src/learner.cc:1061: Starting in XGBoost 1.3.0, the default evaluation metric used with the objective 'multi:softprob' was changed from 'merror' to 'mlogloss'. Explicitly set eval_metric if you'd like to restore the old behavior.\n",
      "[23:54:27] WARNING: C:/Users/Administrator/workspace/xgboost-win64_release_1.3.0/src/learner.cc:1061: Starting in XGBoost 1.3.0, the default evaluation metric used with the objective 'multi:softprob' was changed from 'merror' to 'mlogloss'. Explicitly set eval_metric if you'd like to restore the old behavior.\n",
      "[23:54:28] WARNING: C:/Users/Administrator/workspace/xgboost-win64_release_1.3.0/src/learner.cc:1061: Starting in XGBoost 1.3.0, the default evaluation metric used with the objective 'multi:softprob' was changed from 'merror' to 'mlogloss'. Explicitly set eval_metric if you'd like to restore the old behavior.\n",
      "[23:54:28] WARNING: C:/Users/Administrator/workspace/xgboost-win64_release_1.3.0/src/learner.cc:1061: Starting in XGBoost 1.3.0, the default evaluation metric used with the objective 'multi:softprob' was changed from 'merror' to 'mlogloss'. Explicitly set eval_metric if you'd like to restore the old behavior.\n",
      "[23:54:29] WARNING: C:/Users/Administrator/workspace/xgboost-win64_release_1.3.0/src/learner.cc:1061: Starting in XGBoost 1.3.0, the default evaluation metric used with the objective 'multi:softprob' was changed from 'merror' to 'mlogloss'. Explicitly set eval_metric if you'd like to restore the old behavior.\n",
      "[23:54:30] WARNING: C:/Users/Administrator/workspace/xgboost-win64_release_1.3.0/src/learner.cc:1061: Starting in XGBoost 1.3.0, the default evaluation metric used with the objective 'multi:softprob' was changed from 'merror' to 'mlogloss'. Explicitly set eval_metric if you'd like to restore the old behavior.\n",
      "[23:54:32] WARNING: C:/Users/Administrator/workspace/xgboost-win64_release_1.3.0/src/learner.cc:1061: Starting in XGBoost 1.3.0, the default evaluation metric used with the objective 'multi:softprob' was changed from 'merror' to 'mlogloss'. Explicitly set eval_metric if you'd like to restore the old behavior.\n",
      "[23:54:33] WARNING: C:/Users/Administrator/workspace/xgboost-win64_release_1.3.0/src/learner.cc:1061: Starting in XGBoost 1.3.0, the default evaluation metric used with the objective 'multi:softprob' was changed from 'merror' to 'mlogloss'. Explicitly set eval_metric if you'd like to restore the old behavior.\n"
     ]
    },
    {
     "name": "stdout",
     "output_type": "stream",
     "text": [
      "[23:54:34] WARNING: C:/Users/Administrator/workspace/xgboost-win64_release_1.3.0/src/learner.cc:1061: Starting in XGBoost 1.3.0, the default evaluation metric used with the objective 'multi:softprob' was changed from 'merror' to 'mlogloss'. Explicitly set eval_metric if you'd like to restore the old behavior.\n",
      "[23:54:36] WARNING: C:/Users/Administrator/workspace/xgboost-win64_release_1.3.0/src/learner.cc:1061: Starting in XGBoost 1.3.0, the default evaluation metric used with the objective 'multi:softprob' was changed from 'merror' to 'mlogloss'. Explicitly set eval_metric if you'd like to restore the old behavior.\n",
      "[23:54:37] WARNING: C:/Users/Administrator/workspace/xgboost-win64_release_1.3.0/src/learner.cc:1061: Starting in XGBoost 1.3.0, the default evaluation metric used with the objective 'multi:softprob' was changed from 'merror' to 'mlogloss'. Explicitly set eval_metric if you'd like to restore the old behavior.\n",
      "[23:54:39] WARNING: C:/Users/Administrator/workspace/xgboost-win64_release_1.3.0/src/learner.cc:1061: Starting in XGBoost 1.3.0, the default evaluation metric used with the objective 'multi:softprob' was changed from 'merror' to 'mlogloss'. Explicitly set eval_metric if you'd like to restore the old behavior.\n",
      "[23:54:41] WARNING: C:/Users/Administrator/workspace/xgboost-win64_release_1.3.0/src/learner.cc:1061: Starting in XGBoost 1.3.0, the default evaluation metric used with the objective 'multi:softprob' was changed from 'merror' to 'mlogloss'. Explicitly set eval_metric if you'd like to restore the old behavior.\n",
      "[23:54:42] WARNING: C:/Users/Administrator/workspace/xgboost-win64_release_1.3.0/src/learner.cc:1061: Starting in XGBoost 1.3.0, the default evaluation metric used with the objective 'multi:softprob' was changed from 'merror' to 'mlogloss'. Explicitly set eval_metric if you'd like to restore the old behavior.\n",
      "[23:54:44] WARNING: C:/Users/Administrator/workspace/xgboost-win64_release_1.3.0/src/learner.cc:1061: Starting in XGBoost 1.3.0, the default evaluation metric used with the objective 'multi:softprob' was changed from 'merror' to 'mlogloss'. Explicitly set eval_metric if you'd like to restore the old behavior.\n",
      "[23:54:45] WARNING: C:/Users/Administrator/workspace/xgboost-win64_release_1.3.0/src/learner.cc:1061: Starting in XGBoost 1.3.0, the default evaluation metric used with the objective 'multi:softprob' was changed from 'merror' to 'mlogloss'. Explicitly set eval_metric if you'd like to restore the old behavior.\n",
      "[23:54:46] WARNING: C:/Users/Administrator/workspace/xgboost-win64_release_1.3.0/src/learner.cc:1061: Starting in XGBoost 1.3.0, the default evaluation metric used with the objective 'multi:softprob' was changed from 'merror' to 'mlogloss'. Explicitly set eval_metric if you'd like to restore the old behavior.\n",
      "[23:54:46] WARNING: C:/Users/Administrator/workspace/xgboost-win64_release_1.3.0/src/learner.cc:1061: Starting in XGBoost 1.3.0, the default evaluation metric used with the objective 'multi:softprob' was changed from 'merror' to 'mlogloss'. Explicitly set eval_metric if you'd like to restore the old behavior.\n",
      "[23:54:47] WARNING: C:/Users/Administrator/workspace/xgboost-win64_release_1.3.0/src/learner.cc:1061: Starting in XGBoost 1.3.0, the default evaluation metric used with the objective 'multi:softprob' was changed from 'merror' to 'mlogloss'. Explicitly set eval_metric if you'd like to restore the old behavior.\n",
      "[23:54:47] WARNING: C:/Users/Administrator/workspace/xgboost-win64_release_1.3.0/src/learner.cc:1061: Starting in XGBoost 1.3.0, the default evaluation metric used with the objective 'multi:softprob' was changed from 'merror' to 'mlogloss'. Explicitly set eval_metric if you'd like to restore the old behavior.\n",
      "[23:54:49] WARNING: C:/Users/Administrator/workspace/xgboost-win64_release_1.3.0/src/learner.cc:1061: Starting in XGBoost 1.3.0, the default evaluation metric used with the objective 'multi:softprob' was changed from 'merror' to 'mlogloss'. Explicitly set eval_metric if you'd like to restore the old behavior.\n",
      "[23:54:50] WARNING: C:/Users/Administrator/workspace/xgboost-win64_release_1.3.0/src/learner.cc:1061: Starting in XGBoost 1.3.0, the default evaluation metric used with the objective 'multi:softprob' was changed from 'merror' to 'mlogloss'. Explicitly set eval_metric if you'd like to restore the old behavior.\n",
      "[23:54:51] WARNING: C:/Users/Administrator/workspace/xgboost-win64_release_1.3.0/src/learner.cc:1061: Starting in XGBoost 1.3.0, the default evaluation metric used with the objective 'multi:softprob' was changed from 'merror' to 'mlogloss'. Explicitly set eval_metric if you'd like to restore the old behavior.\n",
      "[23:54:52] WARNING: C:/Users/Administrator/workspace/xgboost-win64_release_1.3.0/src/learner.cc:1061: Starting in XGBoost 1.3.0, the default evaluation metric used with the objective 'multi:softprob' was changed from 'merror' to 'mlogloss'. Explicitly set eval_metric if you'd like to restore the old behavior.\n",
      "[23:54:53] WARNING: C:/Users/Administrator/workspace/xgboost-win64_release_1.3.0/src/learner.cc:1061: Starting in XGBoost 1.3.0, the default evaluation metric used with the objective 'multi:softprob' was changed from 'merror' to 'mlogloss'. Explicitly set eval_metric if you'd like to restore the old behavior.\n",
      "[23:54:55] WARNING: C:/Users/Administrator/workspace/xgboost-win64_release_1.3.0/src/learner.cc:1061: Starting in XGBoost 1.3.0, the default evaluation metric used with the objective 'multi:softprob' was changed from 'merror' to 'mlogloss'. Explicitly set eval_metric if you'd like to restore the old behavior.\n",
      "[23:54:56] WARNING: C:/Users/Administrator/workspace/xgboost-win64_release_1.3.0/src/learner.cc:1061: Starting in XGBoost 1.3.0, the default evaluation metric used with the objective 'multi:softprob' was changed from 'merror' to 'mlogloss'. Explicitly set eval_metric if you'd like to restore the old behavior.\n",
      "[23:54:58] WARNING: C:/Users/Administrator/workspace/xgboost-win64_release_1.3.0/src/learner.cc:1061: Starting in XGBoost 1.3.0, the default evaluation metric used with the objective 'multi:softprob' was changed from 'merror' to 'mlogloss'. Explicitly set eval_metric if you'd like to restore the old behavior.\n",
      "[23:54:59] WARNING: C:/Users/Administrator/workspace/xgboost-win64_release_1.3.0/src/learner.cc:1061: Starting in XGBoost 1.3.0, the default evaluation metric used with the objective 'multi:softprob' was changed from 'merror' to 'mlogloss'. Explicitly set eval_metric if you'd like to restore the old behavior.\n",
      "[23:55:01] WARNING: C:/Users/Administrator/workspace/xgboost-win64_release_1.3.0/src/learner.cc:1061: Starting in XGBoost 1.3.0, the default evaluation metric used with the objective 'multi:softprob' was changed from 'merror' to 'mlogloss'. Explicitly set eval_metric if you'd like to restore the old behavior.\n",
      "[23:55:02] WARNING: C:/Users/Administrator/workspace/xgboost-win64_release_1.3.0/src/learner.cc:1061: Starting in XGBoost 1.3.0, the default evaluation metric used with the objective 'multi:softprob' was changed from 'merror' to 'mlogloss'. Explicitly set eval_metric if you'd like to restore the old behavior.\n",
      "[23:55:02] WARNING: C:/Users/Administrator/workspace/xgboost-win64_release_1.3.0/src/learner.cc:1061: Starting in XGBoost 1.3.0, the default evaluation metric used with the objective 'multi:softprob' was changed from 'merror' to 'mlogloss'. Explicitly set eval_metric if you'd like to restore the old behavior.\n",
      "[23:55:03] WARNING: C:/Users/Administrator/workspace/xgboost-win64_release_1.3.0/src/learner.cc:1061: Starting in XGBoost 1.3.0, the default evaluation metric used with the objective 'multi:softprob' was changed from 'merror' to 'mlogloss'. Explicitly set eval_metric if you'd like to restore the old behavior.\n",
      "[23:55:03] WARNING: C:/Users/Administrator/workspace/xgboost-win64_release_1.3.0/src/learner.cc:1061: Starting in XGBoost 1.3.0, the default evaluation metric used with the objective 'multi:softprob' was changed from 'merror' to 'mlogloss'. Explicitly set eval_metric if you'd like to restore the old behavior.\n",
      "[23:55:04] WARNING: C:/Users/Administrator/workspace/xgboost-win64_release_1.3.0/src/learner.cc:1061: Starting in XGBoost 1.3.0, the default evaluation metric used with the objective 'multi:softprob' was changed from 'merror' to 'mlogloss'. Explicitly set eval_metric if you'd like to restore the old behavior.\n"
     ]
    },
    {
     "name": "stdout",
     "output_type": "stream",
     "text": [
      "[23:55:05] WARNING: C:/Users/Administrator/workspace/xgboost-win64_release_1.3.0/src/learner.cc:1061: Starting in XGBoost 1.3.0, the default evaluation metric used with the objective 'multi:softprob' was changed from 'merror' to 'mlogloss'. Explicitly set eval_metric if you'd like to restore the old behavior.\n",
      "[23:55:06] WARNING: C:/Users/Administrator/workspace/xgboost-win64_release_1.3.0/src/learner.cc:1061: Starting in XGBoost 1.3.0, the default evaluation metric used with the objective 'multi:softprob' was changed from 'merror' to 'mlogloss'. Explicitly set eval_metric if you'd like to restore the old behavior.\n",
      "[23:55:08] WARNING: C:/Users/Administrator/workspace/xgboost-win64_release_1.3.0/src/learner.cc:1061: Starting in XGBoost 1.3.0, the default evaluation metric used with the objective 'multi:softprob' was changed from 'merror' to 'mlogloss'. Explicitly set eval_metric if you'd like to restore the old behavior.\n",
      "[23:55:09] WARNING: C:/Users/Administrator/workspace/xgboost-win64_release_1.3.0/src/learner.cc:1061: Starting in XGBoost 1.3.0, the default evaluation metric used with the objective 'multi:softprob' was changed from 'merror' to 'mlogloss'. Explicitly set eval_metric if you'd like to restore the old behavior.\n",
      "[23:55:10] WARNING: C:/Users/Administrator/workspace/xgboost-win64_release_1.3.0/src/learner.cc:1061: Starting in XGBoost 1.3.0, the default evaluation metric used with the objective 'multi:softprob' was changed from 'merror' to 'mlogloss'. Explicitly set eval_metric if you'd like to restore the old behavior.\n",
      "[23:55:11] WARNING: C:/Users/Administrator/workspace/xgboost-win64_release_1.3.0/src/learner.cc:1061: Starting in XGBoost 1.3.0, the default evaluation metric used with the objective 'multi:softprob' was changed from 'merror' to 'mlogloss'. Explicitly set eval_metric if you'd like to restore the old behavior.\n",
      "[23:55:13] WARNING: C:/Users/Administrator/workspace/xgboost-win64_release_1.3.0/src/learner.cc:1061: Starting in XGBoost 1.3.0, the default evaluation metric used with the objective 'multi:softprob' was changed from 'merror' to 'mlogloss'. Explicitly set eval_metric if you'd like to restore the old behavior.\n",
      "[23:55:14] WARNING: C:/Users/Administrator/workspace/xgboost-win64_release_1.3.0/src/learner.cc:1061: Starting in XGBoost 1.3.0, the default evaluation metric used with the objective 'multi:softprob' was changed from 'merror' to 'mlogloss'. Explicitly set eval_metric if you'd like to restore the old behavior.\n",
      "[23:55:16] WARNING: C:/Users/Administrator/workspace/xgboost-win64_release_1.3.0/src/learner.cc:1061: Starting in XGBoost 1.3.0, the default evaluation metric used with the objective 'multi:softprob' was changed from 'merror' to 'mlogloss'. Explicitly set eval_metric if you'd like to restore the old behavior.\n",
      "[23:55:18] WARNING: C:/Users/Administrator/workspace/xgboost-win64_release_1.3.0/src/learner.cc:541: \n",
      "Parameters: { gamma } might not be used.\n",
      "\n",
      "  This may not be accurate due to some parameters are only used in language bindings but\n",
      "  passed down to XGBoost core.  Or some parameters are not used but slip through this\n",
      "  verification. Please open an issue if you find above cases.\n",
      "\n",
      "\n",
      "[23:55:18] WARNING: C:/Users/Administrator/workspace/xgboost-win64_release_1.3.0/src/learner.cc:1061: Starting in XGBoost 1.3.0, the default evaluation metric used with the objective 'multi:softprob' was changed from 'merror' to 'mlogloss'. Explicitly set eval_metric if you'd like to restore the old behavior.\n",
      "[23:55:18] WARNING: C:/Users/Administrator/workspace/xgboost-win64_release_1.3.0/src/learner.cc:541: \n",
      "Parameters: { gamma } might not be used.\n",
      "\n",
      "  This may not be accurate due to some parameters are only used in language bindings but\n",
      "  passed down to XGBoost core.  Or some parameters are not used but slip through this\n",
      "  verification. Please open an issue if you find above cases.\n",
      "\n",
      "\n",
      "[23:55:18] WARNING: C:/Users/Administrator/workspace/xgboost-win64_release_1.3.0/src/learner.cc:1061: Starting in XGBoost 1.3.0, the default evaluation metric used with the objective 'multi:softprob' was changed from 'merror' to 'mlogloss'. Explicitly set eval_metric if you'd like to restore the old behavior.\n",
      "[23:55:18] WARNING: C:/Users/Administrator/workspace/xgboost-win64_release_1.3.0/src/learner.cc:541: \n",
      "Parameters: { gamma } might not be used.\n",
      "\n",
      "  This may not be accurate due to some parameters are only used in language bindings but\n",
      "  passed down to XGBoost core.  Or some parameters are not used but slip through this\n",
      "  verification. Please open an issue if you find above cases.\n",
      "\n",
      "\n",
      "[23:55:18] WARNING: C:/Users/Administrator/workspace/xgboost-win64_release_1.3.0/src/learner.cc:1061: Starting in XGBoost 1.3.0, the default evaluation metric used with the objective 'multi:softprob' was changed from 'merror' to 'mlogloss'. Explicitly set eval_metric if you'd like to restore the old behavior.\n",
      "[23:55:18] WARNING: C:/Users/Administrator/workspace/xgboost-win64_release_1.3.0/src/learner.cc:541: \n",
      "Parameters: { gamma } might not be used.\n",
      "\n",
      "  This may not be accurate due to some parameters are only used in language bindings but\n",
      "  passed down to XGBoost core.  Or some parameters are not used but slip through this\n",
      "  verification. Please open an issue if you find above cases.\n",
      "\n",
      "\n",
      "[23:55:18] WARNING: C:/Users/Administrator/workspace/xgboost-win64_release_1.3.0/src/learner.cc:1061: Starting in XGBoost 1.3.0, the default evaluation metric used with the objective 'multi:softprob' was changed from 'merror' to 'mlogloss'. Explicitly set eval_metric if you'd like to restore the old behavior.\n",
      "[23:55:18] WARNING: C:/Users/Administrator/workspace/xgboost-win64_release_1.3.0/src/learner.cc:541: \n",
      "Parameters: { gamma } might not be used.\n",
      "\n",
      "  This may not be accurate due to some parameters are only used in language bindings but\n",
      "  passed down to XGBoost core.  Or some parameters are not used but slip through this\n",
      "  verification. Please open an issue if you find above cases.\n",
      "\n",
      "\n",
      "[23:55:18] WARNING: C:/Users/Administrator/workspace/xgboost-win64_release_1.3.0/src/learner.cc:1061: Starting in XGBoost 1.3.0, the default evaluation metric used with the objective 'multi:softprob' was changed from 'merror' to 'mlogloss'. Explicitly set eval_metric if you'd like to restore the old behavior.\n",
      "[23:55:18] WARNING: C:/Users/Administrator/workspace/xgboost-win64_release_1.3.0/src/learner.cc:541: \n",
      "Parameters: { gamma } might not be used.\n",
      "\n",
      "  This may not be accurate due to some parameters are only used in language bindings but\n",
      "  passed down to XGBoost core.  Or some parameters are not used but slip through this\n",
      "  verification. Please open an issue if you find above cases.\n",
      "\n",
      "\n",
      "[23:55:18] WARNING: C:/Users/Administrator/workspace/xgboost-win64_release_1.3.0/src/learner.cc:1061: Starting in XGBoost 1.3.0, the default evaluation metric used with the objective 'multi:softprob' was changed from 'merror' to 'mlogloss'. Explicitly set eval_metric if you'd like to restore the old behavior.\n",
      "[23:55:19] WARNING: C:/Users/Administrator/workspace/xgboost-win64_release_1.3.0/src/learner.cc:541: \n",
      "Parameters: { gamma } might not be used.\n",
      "\n",
      "  This may not be accurate due to some parameters are only used in language bindings but\n",
      "  passed down to XGBoost core.  Or some parameters are not used but slip through this\n",
      "  verification. Please open an issue if you find above cases.\n",
      "\n",
      "\n",
      "[23:55:19] WARNING: C:/Users/Administrator/workspace/xgboost-win64_release_1.3.0/src/learner.cc:1061: Starting in XGBoost 1.3.0, the default evaluation metric used with the objective 'multi:softprob' was changed from 'merror' to 'mlogloss'. Explicitly set eval_metric if you'd like to restore the old behavior.\n",
      "[23:55:19] WARNING: C:/Users/Administrator/workspace/xgboost-win64_release_1.3.0/src/learner.cc:541: \n",
      "Parameters: { gamma } might not be used.\n",
      "\n",
      "  This may not be accurate due to some parameters are only used in language bindings but\n",
      "  passed down to XGBoost core.  Or some parameters are not used but slip through this\n",
      "  verification. Please open an issue if you find above cases.\n",
      "\n",
      "\n",
      "[23:55:19] WARNING: C:/Users/Administrator/workspace/xgboost-win64_release_1.3.0/src/learner.cc:1061: Starting in XGBoost 1.3.0, the default evaluation metric used with the objective 'multi:softprob' was changed from 'merror' to 'mlogloss'. Explicitly set eval_metric if you'd like to restore the old behavior.\n"
     ]
    },
    {
     "name": "stdout",
     "output_type": "stream",
     "text": [
      "[23:55:19] WARNING: C:/Users/Administrator/workspace/xgboost-win64_release_1.3.0/src/learner.cc:541: \n",
      "Parameters: { gamma } might not be used.\n",
      "\n",
      "  This may not be accurate due to some parameters are only used in language bindings but\n",
      "  passed down to XGBoost core.  Or some parameters are not used but slip through this\n",
      "  verification. Please open an issue if you find above cases.\n",
      "\n",
      "\n",
      "[23:55:19] WARNING: C:/Users/Administrator/workspace/xgboost-win64_release_1.3.0/src/learner.cc:1061: Starting in XGBoost 1.3.0, the default evaluation metric used with the objective 'multi:softprob' was changed from 'merror' to 'mlogloss'. Explicitly set eval_metric if you'd like to restore the old behavior.\n",
      "[23:55:19] WARNING: C:/Users/Administrator/workspace/xgboost-win64_release_1.3.0/src/learner.cc:541: \n",
      "Parameters: { gamma } might not be used.\n",
      "\n",
      "  This may not be accurate due to some parameters are only used in language bindings but\n",
      "  passed down to XGBoost core.  Or some parameters are not used but slip through this\n",
      "  verification. Please open an issue if you find above cases.\n",
      "\n",
      "\n",
      "[23:55:19] WARNING: C:/Users/Administrator/workspace/xgboost-win64_release_1.3.0/src/learner.cc:1061: Starting in XGBoost 1.3.0, the default evaluation metric used with the objective 'multi:softprob' was changed from 'merror' to 'mlogloss'. Explicitly set eval_metric if you'd like to restore the old behavior.\n",
      "[23:55:20] WARNING: C:/Users/Administrator/workspace/xgboost-win64_release_1.3.0/src/learner.cc:541: \n",
      "Parameters: { gamma } might not be used.\n",
      "\n",
      "  This may not be accurate due to some parameters are only used in language bindings but\n",
      "  passed down to XGBoost core.  Or some parameters are not used but slip through this\n",
      "  verification. Please open an issue if you find above cases.\n",
      "\n",
      "\n",
      "[23:55:20] WARNING: C:/Users/Administrator/workspace/xgboost-win64_release_1.3.0/src/learner.cc:1061: Starting in XGBoost 1.3.0, the default evaluation metric used with the objective 'multi:softprob' was changed from 'merror' to 'mlogloss'. Explicitly set eval_metric if you'd like to restore the old behavior.\n",
      "[23:55:20] WARNING: C:/Users/Administrator/workspace/xgboost-win64_release_1.3.0/src/learner.cc:541: \n",
      "Parameters: { gamma } might not be used.\n",
      "\n",
      "  This may not be accurate due to some parameters are only used in language bindings but\n",
      "  passed down to XGBoost core.  Or some parameters are not used but slip through this\n",
      "  verification. Please open an issue if you find above cases.\n",
      "\n",
      "\n",
      "[23:55:20] WARNING: C:/Users/Administrator/workspace/xgboost-win64_release_1.3.0/src/learner.cc:1061: Starting in XGBoost 1.3.0, the default evaluation metric used with the objective 'multi:softprob' was changed from 'merror' to 'mlogloss'. Explicitly set eval_metric if you'd like to restore the old behavior.\n",
      "[23:55:20] WARNING: C:/Users/Administrator/workspace/xgboost-win64_release_1.3.0/src/learner.cc:541: \n",
      "Parameters: { gamma } might not be used.\n",
      "\n",
      "  This may not be accurate due to some parameters are only used in language bindings but\n",
      "  passed down to XGBoost core.  Or some parameters are not used but slip through this\n",
      "  verification. Please open an issue if you find above cases.\n",
      "\n",
      "\n",
      "[23:55:20] WARNING: C:/Users/Administrator/workspace/xgboost-win64_release_1.3.0/src/learner.cc:1061: Starting in XGBoost 1.3.0, the default evaluation metric used with the objective 'multi:softprob' was changed from 'merror' to 'mlogloss'. Explicitly set eval_metric if you'd like to restore the old behavior.\n",
      "[23:55:21] WARNING: C:/Users/Administrator/workspace/xgboost-win64_release_1.3.0/src/learner.cc:541: \n",
      "Parameters: { gamma } might not be used.\n",
      "\n",
      "  This may not be accurate due to some parameters are only used in language bindings but\n",
      "  passed down to XGBoost core.  Or some parameters are not used but slip through this\n",
      "  verification. Please open an issue if you find above cases.\n",
      "\n",
      "\n",
      "[23:55:21] WARNING: C:/Users/Administrator/workspace/xgboost-win64_release_1.3.0/src/learner.cc:1061: Starting in XGBoost 1.3.0, the default evaluation metric used with the objective 'multi:softprob' was changed from 'merror' to 'mlogloss'. Explicitly set eval_metric if you'd like to restore the old behavior.\n",
      "[23:55:21] WARNING: C:/Users/Administrator/workspace/xgboost-win64_release_1.3.0/src/learner.cc:541: \n",
      "Parameters: { gamma } might not be used.\n",
      "\n",
      "  This may not be accurate due to some parameters are only used in language bindings but\n",
      "  passed down to XGBoost core.  Or some parameters are not used but slip through this\n",
      "  verification. Please open an issue if you find above cases.\n",
      "\n",
      "\n",
      "[23:55:21] WARNING: C:/Users/Administrator/workspace/xgboost-win64_release_1.3.0/src/learner.cc:1061: Starting in XGBoost 1.3.0, the default evaluation metric used with the objective 'multi:softprob' was changed from 'merror' to 'mlogloss'. Explicitly set eval_metric if you'd like to restore the old behavior.\n",
      "[23:55:21] WARNING: C:/Users/Administrator/workspace/xgboost-win64_release_1.3.0/src/learner.cc:541: \n",
      "Parameters: { gamma } might not be used.\n",
      "\n",
      "  This may not be accurate due to some parameters are only used in language bindings but\n",
      "  passed down to XGBoost core.  Or some parameters are not used but slip through this\n",
      "  verification. Please open an issue if you find above cases.\n",
      "\n",
      "\n",
      "[23:55:21] WARNING: C:/Users/Administrator/workspace/xgboost-win64_release_1.3.0/src/learner.cc:1061: Starting in XGBoost 1.3.0, the default evaluation metric used with the objective 'multi:softprob' was changed from 'merror' to 'mlogloss'. Explicitly set eval_metric if you'd like to restore the old behavior.\n",
      "[23:55:21] WARNING: C:/Users/Administrator/workspace/xgboost-win64_release_1.3.0/src/learner.cc:541: \n",
      "Parameters: { gamma } might not be used.\n",
      "\n",
      "  This may not be accurate due to some parameters are only used in language bindings but\n",
      "  passed down to XGBoost core.  Or some parameters are not used but slip through this\n",
      "  verification. Please open an issue if you find above cases.\n",
      "\n",
      "\n",
      "[23:55:21] WARNING: C:/Users/Administrator/workspace/xgboost-win64_release_1.3.0/src/learner.cc:1061: Starting in XGBoost 1.3.0, the default evaluation metric used with the objective 'multi:softprob' was changed from 'merror' to 'mlogloss'. Explicitly set eval_metric if you'd like to restore the old behavior.\n",
      "[23:55:22] WARNING: C:/Users/Administrator/workspace/xgboost-win64_release_1.3.0/src/learner.cc:541: \n",
      "Parameters: { gamma } might not be used.\n",
      "\n",
      "  This may not be accurate due to some parameters are only used in language bindings but\n",
      "  passed down to XGBoost core.  Or some parameters are not used but slip through this\n",
      "  verification. Please open an issue if you find above cases.\n",
      "\n",
      "\n",
      "[23:55:22] WARNING: C:/Users/Administrator/workspace/xgboost-win64_release_1.3.0/src/learner.cc:1061: Starting in XGBoost 1.3.0, the default evaluation metric used with the objective 'multi:softprob' was changed from 'merror' to 'mlogloss'. Explicitly set eval_metric if you'd like to restore the old behavior.\n",
      "[23:55:22] WARNING: C:/Users/Administrator/workspace/xgboost-win64_release_1.3.0/src/learner.cc:541: \n",
      "Parameters: { gamma } might not be used.\n",
      "\n",
      "  This may not be accurate due to some parameters are only used in language bindings but\n",
      "  passed down to XGBoost core.  Or some parameters are not used but slip through this\n",
      "  verification. Please open an issue if you find above cases.\n",
      "\n",
      "\n",
      "[23:55:22] WARNING: C:/Users/Administrator/workspace/xgboost-win64_release_1.3.0/src/learner.cc:1061: Starting in XGBoost 1.3.0, the default evaluation metric used with the objective 'multi:softprob' was changed from 'merror' to 'mlogloss'. Explicitly set eval_metric if you'd like to restore the old behavior.\n",
      "[23:55:22] WARNING: C:/Users/Administrator/workspace/xgboost-win64_release_1.3.0/src/learner.cc:541: \n",
      "Parameters: { gamma } might not be used.\n",
      "\n",
      "  This may not be accurate due to some parameters are only used in language bindings but\n",
      "  passed down to XGBoost core.  Or some parameters are not used but slip through this\n",
      "  verification. Please open an issue if you find above cases.\n",
      "\n",
      "\n",
      "[23:55:22] WARNING: C:/Users/Administrator/workspace/xgboost-win64_release_1.3.0/src/learner.cc:1061: Starting in XGBoost 1.3.0, the default evaluation metric used with the objective 'multi:softprob' was changed from 'merror' to 'mlogloss'. Explicitly set eval_metric if you'd like to restore the old behavior.\n",
      "[23:55:22] WARNING: C:/Users/Administrator/workspace/xgboost-win64_release_1.3.0/src/learner.cc:541: \n",
      "Parameters: { gamma } might not be used.\n",
      "\n",
      "  This may not be accurate due to some parameters are only used in language bindings but\n",
      "  passed down to XGBoost core.  Or some parameters are not used but slip through this\n",
      "  verification. Please open an issue if you find above cases.\n",
      "\n",
      "\n",
      "[23:55:22] WARNING: C:/Users/Administrator/workspace/xgboost-win64_release_1.3.0/src/learner.cc:1061: Starting in XGBoost 1.3.0, the default evaluation metric used with the objective 'multi:softprob' was changed from 'merror' to 'mlogloss'. Explicitly set eval_metric if you'd like to restore the old behavior.\n"
     ]
    },
    {
     "name": "stdout",
     "output_type": "stream",
     "text": [
      "[23:55:22] WARNING: C:/Users/Administrator/workspace/xgboost-win64_release_1.3.0/src/learner.cc:541: \n",
      "Parameters: { gamma } might not be used.\n",
      "\n",
      "  This may not be accurate due to some parameters are only used in language bindings but\n",
      "  passed down to XGBoost core.  Or some parameters are not used but slip through this\n",
      "  verification. Please open an issue if you find above cases.\n",
      "\n",
      "\n",
      "[23:55:22] WARNING: C:/Users/Administrator/workspace/xgboost-win64_release_1.3.0/src/learner.cc:1061: Starting in XGBoost 1.3.0, the default evaluation metric used with the objective 'multi:softprob' was changed from 'merror' to 'mlogloss'. Explicitly set eval_metric if you'd like to restore the old behavior.\n",
      "[23:55:23] WARNING: C:/Users/Administrator/workspace/xgboost-win64_release_1.3.0/src/learner.cc:541: \n",
      "Parameters: { gamma } might not be used.\n",
      "\n",
      "  This may not be accurate due to some parameters are only used in language bindings but\n",
      "  passed down to XGBoost core.  Or some parameters are not used but slip through this\n",
      "  verification. Please open an issue if you find above cases.\n",
      "\n",
      "\n",
      "[23:55:23] WARNING: C:/Users/Administrator/workspace/xgboost-win64_release_1.3.0/src/learner.cc:1061: Starting in XGBoost 1.3.0, the default evaluation metric used with the objective 'multi:softprob' was changed from 'merror' to 'mlogloss'. Explicitly set eval_metric if you'd like to restore the old behavior.\n",
      "[23:55:23] WARNING: C:/Users/Administrator/workspace/xgboost-win64_release_1.3.0/src/learner.cc:541: \n",
      "Parameters: { gamma } might not be used.\n",
      "\n",
      "  This may not be accurate due to some parameters are only used in language bindings but\n",
      "  passed down to XGBoost core.  Or some parameters are not used but slip through this\n",
      "  verification. Please open an issue if you find above cases.\n",
      "\n",
      "\n",
      "[23:55:23] WARNING: C:/Users/Administrator/workspace/xgboost-win64_release_1.3.0/src/learner.cc:1061: Starting in XGBoost 1.3.0, the default evaluation metric used with the objective 'multi:softprob' was changed from 'merror' to 'mlogloss'. Explicitly set eval_metric if you'd like to restore the old behavior.\n",
      "[23:55:23] WARNING: C:/Users/Administrator/workspace/xgboost-win64_release_1.3.0/src/learner.cc:541: \n",
      "Parameters: { gamma } might not be used.\n",
      "\n",
      "  This may not be accurate due to some parameters are only used in language bindings but\n",
      "  passed down to XGBoost core.  Or some parameters are not used but slip through this\n",
      "  verification. Please open an issue if you find above cases.\n",
      "\n",
      "\n",
      "[23:55:23] WARNING: C:/Users/Administrator/workspace/xgboost-win64_release_1.3.0/src/learner.cc:1061: Starting in XGBoost 1.3.0, the default evaluation metric used with the objective 'multi:softprob' was changed from 'merror' to 'mlogloss'. Explicitly set eval_metric if you'd like to restore the old behavior.\n",
      "[23:55:23] WARNING: C:/Users/Administrator/workspace/xgboost-win64_release_1.3.0/src/learner.cc:541: \n",
      "Parameters: { gamma } might not be used.\n",
      "\n",
      "  This may not be accurate due to some parameters are only used in language bindings but\n",
      "  passed down to XGBoost core.  Or some parameters are not used but slip through this\n",
      "  verification. Please open an issue if you find above cases.\n",
      "\n",
      "\n",
      "[23:55:23] WARNING: C:/Users/Administrator/workspace/xgboost-win64_release_1.3.0/src/learner.cc:1061: Starting in XGBoost 1.3.0, the default evaluation metric used with the objective 'multi:softprob' was changed from 'merror' to 'mlogloss'. Explicitly set eval_metric if you'd like to restore the old behavior.\n",
      "[23:55:24] WARNING: C:/Users/Administrator/workspace/xgboost-win64_release_1.3.0/src/learner.cc:541: \n",
      "Parameters: { gamma } might not be used.\n",
      "\n",
      "  This may not be accurate due to some parameters are only used in language bindings but\n",
      "  passed down to XGBoost core.  Or some parameters are not used but slip through this\n",
      "  verification. Please open an issue if you find above cases.\n",
      "\n",
      "\n",
      "[23:55:24] WARNING: C:/Users/Administrator/workspace/xgboost-win64_release_1.3.0/src/learner.cc:1061: Starting in XGBoost 1.3.0, the default evaluation metric used with the objective 'multi:softprob' was changed from 'merror' to 'mlogloss'. Explicitly set eval_metric if you'd like to restore the old behavior.\n",
      "[23:55:24] WARNING: C:/Users/Administrator/workspace/xgboost-win64_release_1.3.0/src/learner.cc:541: \n",
      "Parameters: { gamma } might not be used.\n",
      "\n",
      "  This may not be accurate due to some parameters are only used in language bindings but\n",
      "  passed down to XGBoost core.  Or some parameters are not used but slip through this\n",
      "  verification. Please open an issue if you find above cases.\n",
      "\n",
      "\n",
      "[23:55:24] WARNING: C:/Users/Administrator/workspace/xgboost-win64_release_1.3.0/src/learner.cc:1061: Starting in XGBoost 1.3.0, the default evaluation metric used with the objective 'multi:softprob' was changed from 'merror' to 'mlogloss'. Explicitly set eval_metric if you'd like to restore the old behavior.\n",
      "[23:55:24] WARNING: C:/Users/Administrator/workspace/xgboost-win64_release_1.3.0/src/learner.cc:541: \n",
      "Parameters: { gamma } might not be used.\n",
      "\n",
      "  This may not be accurate due to some parameters are only used in language bindings but\n",
      "  passed down to XGBoost core.  Or some parameters are not used but slip through this\n",
      "  verification. Please open an issue if you find above cases.\n",
      "\n",
      "\n",
      "[23:55:24] WARNING: C:/Users/Administrator/workspace/xgboost-win64_release_1.3.0/src/learner.cc:1061: Starting in XGBoost 1.3.0, the default evaluation metric used with the objective 'multi:softprob' was changed from 'merror' to 'mlogloss'. Explicitly set eval_metric if you'd like to restore the old behavior.\n",
      "[23:55:25] WARNING: C:/Users/Administrator/workspace/xgboost-win64_release_1.3.0/src/learner.cc:541: \n",
      "Parameters: { gamma } might not be used.\n",
      "\n",
      "  This may not be accurate due to some parameters are only used in language bindings but\n",
      "  passed down to XGBoost core.  Or some parameters are not used but slip through this\n",
      "  verification. Please open an issue if you find above cases.\n",
      "\n",
      "\n",
      "[23:55:25] WARNING: C:/Users/Administrator/workspace/xgboost-win64_release_1.3.0/src/learner.cc:1061: Starting in XGBoost 1.3.0, the default evaluation metric used with the objective 'multi:softprob' was changed from 'merror' to 'mlogloss'. Explicitly set eval_metric if you'd like to restore the old behavior.\n",
      "[23:55:25] WARNING: C:/Users/Administrator/workspace/xgboost-win64_release_1.3.0/src/learner.cc:541: \n",
      "Parameters: { gamma } might not be used.\n",
      "\n",
      "  This may not be accurate due to some parameters are only used in language bindings but\n",
      "  passed down to XGBoost core.  Or some parameters are not used but slip through this\n",
      "  verification. Please open an issue if you find above cases.\n",
      "\n",
      "\n",
      "[23:55:25] WARNING: C:/Users/Administrator/workspace/xgboost-win64_release_1.3.0/src/learner.cc:1061: Starting in XGBoost 1.3.0, the default evaluation metric used with the objective 'multi:softprob' was changed from 'merror' to 'mlogloss'. Explicitly set eval_metric if you'd like to restore the old behavior.\n",
      "[23:55:25] WARNING: C:/Users/Administrator/workspace/xgboost-win64_release_1.3.0/src/learner.cc:541: \n",
      "Parameters: { gamma } might not be used.\n",
      "\n",
      "  This may not be accurate due to some parameters are only used in language bindings but\n",
      "  passed down to XGBoost core.  Or some parameters are not used but slip through this\n",
      "  verification. Please open an issue if you find above cases.\n",
      "\n",
      "\n",
      "[23:55:25] WARNING: C:/Users/Administrator/workspace/xgboost-win64_release_1.3.0/src/learner.cc:1061: Starting in XGBoost 1.3.0, the default evaluation metric used with the objective 'multi:softprob' was changed from 'merror' to 'mlogloss'. Explicitly set eval_metric if you'd like to restore the old behavior.\n",
      "[23:55:25] WARNING: C:/Users/Administrator/workspace/xgboost-win64_release_1.3.0/src/learner.cc:541: \n",
      "Parameters: { gamma } might not be used.\n",
      "\n",
      "  This may not be accurate due to some parameters are only used in language bindings but\n",
      "  passed down to XGBoost core.  Or some parameters are not used but slip through this\n",
      "  verification. Please open an issue if you find above cases.\n",
      "\n",
      "\n",
      "[23:55:25] WARNING: C:/Users/Administrator/workspace/xgboost-win64_release_1.3.0/src/learner.cc:1061: Starting in XGBoost 1.3.0, the default evaluation metric used with the objective 'multi:softprob' was changed from 'merror' to 'mlogloss'. Explicitly set eval_metric if you'd like to restore the old behavior.\n",
      "[23:55:26] WARNING: C:/Users/Administrator/workspace/xgboost-win64_release_1.3.0/src/learner.cc:541: \n",
      "Parameters: { gamma } might not be used.\n",
      "\n",
      "  This may not be accurate due to some parameters are only used in language bindings but\n",
      "  passed down to XGBoost core.  Or some parameters are not used but slip through this\n",
      "  verification. Please open an issue if you find above cases.\n",
      "\n",
      "\n",
      "[23:55:26] WARNING: C:/Users/Administrator/workspace/xgboost-win64_release_1.3.0/src/learner.cc:1061: Starting in XGBoost 1.3.0, the default evaluation metric used with the objective 'multi:softprob' was changed from 'merror' to 'mlogloss'. Explicitly set eval_metric if you'd like to restore the old behavior.\n"
     ]
    },
    {
     "name": "stdout",
     "output_type": "stream",
     "text": [
      "[23:55:26] WARNING: C:/Users/Administrator/workspace/xgboost-win64_release_1.3.0/src/learner.cc:541: \n",
      "Parameters: { gamma } might not be used.\n",
      "\n",
      "  This may not be accurate due to some parameters are only used in language bindings but\n",
      "  passed down to XGBoost core.  Or some parameters are not used but slip through this\n",
      "  verification. Please open an issue if you find above cases.\n",
      "\n",
      "\n",
      "[23:55:26] WARNING: C:/Users/Administrator/workspace/xgboost-win64_release_1.3.0/src/learner.cc:1061: Starting in XGBoost 1.3.0, the default evaluation metric used with the objective 'multi:softprob' was changed from 'merror' to 'mlogloss'. Explicitly set eval_metric if you'd like to restore the old behavior.\n",
      "[23:55:26] WARNING: C:/Users/Administrator/workspace/xgboost-win64_release_1.3.0/src/learner.cc:541: \n",
      "Parameters: { gamma } might not be used.\n",
      "\n",
      "  This may not be accurate due to some parameters are only used in language bindings but\n",
      "  passed down to XGBoost core.  Or some parameters are not used but slip through this\n",
      "  verification. Please open an issue if you find above cases.\n",
      "\n",
      "\n",
      "[23:55:26] WARNING: C:/Users/Administrator/workspace/xgboost-win64_release_1.3.0/src/learner.cc:1061: Starting in XGBoost 1.3.0, the default evaluation metric used with the objective 'multi:softprob' was changed from 'merror' to 'mlogloss'. Explicitly set eval_metric if you'd like to restore the old behavior.\n",
      "[23:55:26] WARNING: C:/Users/Administrator/workspace/xgboost-win64_release_1.3.0/src/learner.cc:541: \n",
      "Parameters: { gamma } might not be used.\n",
      "\n",
      "  This may not be accurate due to some parameters are only used in language bindings but\n",
      "  passed down to XGBoost core.  Or some parameters are not used but slip through this\n",
      "  verification. Please open an issue if you find above cases.\n",
      "\n",
      "\n",
      "[23:55:26] WARNING: C:/Users/Administrator/workspace/xgboost-win64_release_1.3.0/src/learner.cc:1061: Starting in XGBoost 1.3.0, the default evaluation metric used with the objective 'multi:softprob' was changed from 'merror' to 'mlogloss'. Explicitly set eval_metric if you'd like to restore the old behavior.\n",
      "[23:55:26] WARNING: C:/Users/Administrator/workspace/xgboost-win64_release_1.3.0/src/learner.cc:541: \n",
      "Parameters: { gamma } might not be used.\n",
      "\n",
      "  This may not be accurate due to some parameters are only used in language bindings but\n",
      "  passed down to XGBoost core.  Or some parameters are not used but slip through this\n",
      "  verification. Please open an issue if you find above cases.\n",
      "\n",
      "\n",
      "[23:55:26] WARNING: C:/Users/Administrator/workspace/xgboost-win64_release_1.3.0/src/learner.cc:1061: Starting in XGBoost 1.3.0, the default evaluation metric used with the objective 'multi:softprob' was changed from 'merror' to 'mlogloss'. Explicitly set eval_metric if you'd like to restore the old behavior.\n",
      "[23:55:27] WARNING: C:/Users/Administrator/workspace/xgboost-win64_release_1.3.0/src/learner.cc:541: \n",
      "Parameters: { gamma } might not be used.\n",
      "\n",
      "  This may not be accurate due to some parameters are only used in language bindings but\n",
      "  passed down to XGBoost core.  Or some parameters are not used but slip through this\n",
      "  verification. Please open an issue if you find above cases.\n",
      "\n",
      "\n",
      "[23:55:27] WARNING: C:/Users/Administrator/workspace/xgboost-win64_release_1.3.0/src/learner.cc:1061: Starting in XGBoost 1.3.0, the default evaluation metric used with the objective 'multi:softprob' was changed from 'merror' to 'mlogloss'. Explicitly set eval_metric if you'd like to restore the old behavior.\n",
      "[23:55:27] WARNING: C:/Users/Administrator/workspace/xgboost-win64_release_1.3.0/src/learner.cc:541: \n",
      "Parameters: { gamma } might not be used.\n",
      "\n",
      "  This may not be accurate due to some parameters are only used in language bindings but\n",
      "  passed down to XGBoost core.  Or some parameters are not used but slip through this\n",
      "  verification. Please open an issue if you find above cases.\n",
      "\n",
      "\n",
      "[23:55:27] WARNING: C:/Users/Administrator/workspace/xgboost-win64_release_1.3.0/src/learner.cc:1061: Starting in XGBoost 1.3.0, the default evaluation metric used with the objective 'multi:softprob' was changed from 'merror' to 'mlogloss'. Explicitly set eval_metric if you'd like to restore the old behavior.\n",
      "[23:55:27] WARNING: C:/Users/Administrator/workspace/xgboost-win64_release_1.3.0/src/learner.cc:541: \n",
      "Parameters: { gamma } might not be used.\n",
      "\n",
      "  This may not be accurate due to some parameters are only used in language bindings but\n",
      "  passed down to XGBoost core.  Or some parameters are not used but slip through this\n",
      "  verification. Please open an issue if you find above cases.\n",
      "\n",
      "\n",
      "[23:55:27] WARNING: C:/Users/Administrator/workspace/xgboost-win64_release_1.3.0/src/learner.cc:1061: Starting in XGBoost 1.3.0, the default evaluation metric used with the objective 'multi:softprob' was changed from 'merror' to 'mlogloss'. Explicitly set eval_metric if you'd like to restore the old behavior.\n",
      "[23:55:28] WARNING: C:/Users/Administrator/workspace/xgboost-win64_release_1.3.0/src/learner.cc:541: \n",
      "Parameters: { gamma } might not be used.\n",
      "\n",
      "  This may not be accurate due to some parameters are only used in language bindings but\n",
      "  passed down to XGBoost core.  Or some parameters are not used but slip through this\n",
      "  verification. Please open an issue if you find above cases.\n",
      "\n",
      "\n",
      "[23:55:28] WARNING: C:/Users/Administrator/workspace/xgboost-win64_release_1.3.0/src/learner.cc:1061: Starting in XGBoost 1.3.0, the default evaluation metric used with the objective 'multi:softprob' was changed from 'merror' to 'mlogloss'. Explicitly set eval_metric if you'd like to restore the old behavior.\n",
      "[23:55:28] WARNING: C:/Users/Administrator/workspace/xgboost-win64_release_1.3.0/src/learner.cc:541: \n",
      "Parameters: { gamma } might not be used.\n",
      "\n",
      "  This may not be accurate due to some parameters are only used in language bindings but\n",
      "  passed down to XGBoost core.  Or some parameters are not used but slip through this\n",
      "  verification. Please open an issue if you find above cases.\n",
      "\n",
      "\n",
      "[23:55:28] WARNING: C:/Users/Administrator/workspace/xgboost-win64_release_1.3.0/src/learner.cc:1061: Starting in XGBoost 1.3.0, the default evaluation metric used with the objective 'multi:softprob' was changed from 'merror' to 'mlogloss'. Explicitly set eval_metric if you'd like to restore the old behavior.\n",
      "[23:55:28] WARNING: C:/Users/Administrator/workspace/xgboost-win64_release_1.3.0/src/learner.cc:541: \n",
      "Parameters: { gamma } might not be used.\n",
      "\n",
      "  This may not be accurate due to some parameters are only used in language bindings but\n",
      "  passed down to XGBoost core.  Or some parameters are not used but slip through this\n",
      "  verification. Please open an issue if you find above cases.\n",
      "\n",
      "\n",
      "[23:55:28] WARNING: C:/Users/Administrator/workspace/xgboost-win64_release_1.3.0/src/learner.cc:1061: Starting in XGBoost 1.3.0, the default evaluation metric used with the objective 'multi:softprob' was changed from 'merror' to 'mlogloss'. Explicitly set eval_metric if you'd like to restore the old behavior.\n",
      "[23:55:29] WARNING: C:/Users/Administrator/workspace/xgboost-win64_release_1.3.0/src/learner.cc:541: \n",
      "Parameters: { gamma } might not be used.\n",
      "\n",
      "  This may not be accurate due to some parameters are only used in language bindings but\n",
      "  passed down to XGBoost core.  Or some parameters are not used but slip through this\n",
      "  verification. Please open an issue if you find above cases.\n",
      "\n",
      "\n",
      "[23:55:29] WARNING: C:/Users/Administrator/workspace/xgboost-win64_release_1.3.0/src/learner.cc:1061: Starting in XGBoost 1.3.0, the default evaluation metric used with the objective 'multi:softprob' was changed from 'merror' to 'mlogloss'. Explicitly set eval_metric if you'd like to restore the old behavior.\n",
      "[23:55:29] WARNING: C:/Users/Administrator/workspace/xgboost-win64_release_1.3.0/src/learner.cc:541: \n",
      "Parameters: { gamma } might not be used.\n",
      "\n",
      "  This may not be accurate due to some parameters are only used in language bindings but\n",
      "  passed down to XGBoost core.  Or some parameters are not used but slip through this\n",
      "  verification. Please open an issue if you find above cases.\n",
      "\n",
      "\n",
      "[23:55:29] WARNING: C:/Users/Administrator/workspace/xgboost-win64_release_1.3.0/src/learner.cc:1061: Starting in XGBoost 1.3.0, the default evaluation metric used with the objective 'multi:softprob' was changed from 'merror' to 'mlogloss'. Explicitly set eval_metric if you'd like to restore the old behavior.\n",
      "[23:55:29] WARNING: C:/Users/Administrator/workspace/xgboost-win64_release_1.3.0/src/learner.cc:541: \n",
      "Parameters: { gamma } might not be used.\n",
      "\n",
      "  This may not be accurate due to some parameters are only used in language bindings but\n",
      "  passed down to XGBoost core.  Or some parameters are not used but slip through this\n",
      "  verification. Please open an issue if you find above cases.\n",
      "\n",
      "\n",
      "[23:55:29] WARNING: C:/Users/Administrator/workspace/xgboost-win64_release_1.3.0/src/learner.cc:1061: Starting in XGBoost 1.3.0, the default evaluation metric used with the objective 'multi:softprob' was changed from 'merror' to 'mlogloss'. Explicitly set eval_metric if you'd like to restore the old behavior.\n"
     ]
    },
    {
     "name": "stdout",
     "output_type": "stream",
     "text": [
      "[23:55:29] WARNING: C:/Users/Administrator/workspace/xgboost-win64_release_1.3.0/src/learner.cc:541: \n",
      "Parameters: { gamma } might not be used.\n",
      "\n",
      "  This may not be accurate due to some parameters are only used in language bindings but\n",
      "  passed down to XGBoost core.  Or some parameters are not used but slip through this\n",
      "  verification. Please open an issue if you find above cases.\n",
      "\n",
      "\n",
      "[23:55:29] WARNING: C:/Users/Administrator/workspace/xgboost-win64_release_1.3.0/src/learner.cc:1061: Starting in XGBoost 1.3.0, the default evaluation metric used with the objective 'multi:softprob' was changed from 'merror' to 'mlogloss'. Explicitly set eval_metric if you'd like to restore the old behavior.\n",
      "[23:55:29] WARNING: C:/Users/Administrator/workspace/xgboost-win64_release_1.3.0/src/learner.cc:541: \n",
      "Parameters: { gamma } might not be used.\n",
      "\n",
      "  This may not be accurate due to some parameters are only used in language bindings but\n",
      "  passed down to XGBoost core.  Or some parameters are not used but slip through this\n",
      "  verification. Please open an issue if you find above cases.\n",
      "\n",
      "\n",
      "[23:55:29] WARNING: C:/Users/Administrator/workspace/xgboost-win64_release_1.3.0/src/learner.cc:1061: Starting in XGBoost 1.3.0, the default evaluation metric used with the objective 'multi:softprob' was changed from 'merror' to 'mlogloss'. Explicitly set eval_metric if you'd like to restore the old behavior.\n",
      "[23:55:29] WARNING: C:/Users/Administrator/workspace/xgboost-win64_release_1.3.0/src/learner.cc:541: \n",
      "Parameters: { gamma } might not be used.\n",
      "\n",
      "  This may not be accurate due to some parameters are only used in language bindings but\n",
      "  passed down to XGBoost core.  Or some parameters are not used but slip through this\n",
      "  verification. Please open an issue if you find above cases.\n",
      "\n",
      "\n",
      "[23:55:29] WARNING: C:/Users/Administrator/workspace/xgboost-win64_release_1.3.0/src/learner.cc:1061: Starting in XGBoost 1.3.0, the default evaluation metric used with the objective 'multi:softprob' was changed from 'merror' to 'mlogloss'. Explicitly set eval_metric if you'd like to restore the old behavior.\n",
      "[23:55:30] WARNING: C:/Users/Administrator/workspace/xgboost-win64_release_1.3.0/src/learner.cc:541: \n",
      "Parameters: { gamma } might not be used.\n",
      "\n",
      "  This may not be accurate due to some parameters are only used in language bindings but\n",
      "  passed down to XGBoost core.  Or some parameters are not used but slip through this\n",
      "  verification. Please open an issue if you find above cases.\n",
      "\n",
      "\n",
      "[23:55:30] WARNING: C:/Users/Administrator/workspace/xgboost-win64_release_1.3.0/src/learner.cc:1061: Starting in XGBoost 1.3.0, the default evaluation metric used with the objective 'multi:softprob' was changed from 'merror' to 'mlogloss'. Explicitly set eval_metric if you'd like to restore the old behavior.\n",
      "[23:55:30] WARNING: C:/Users/Administrator/workspace/xgboost-win64_release_1.3.0/src/learner.cc:541: \n",
      "Parameters: { gamma } might not be used.\n",
      "\n",
      "  This may not be accurate due to some parameters are only used in language bindings but\n",
      "  passed down to XGBoost core.  Or some parameters are not used but slip through this\n",
      "  verification. Please open an issue if you find above cases.\n",
      "\n",
      "\n",
      "[23:55:30] WARNING: C:/Users/Administrator/workspace/xgboost-win64_release_1.3.0/src/learner.cc:1061: Starting in XGBoost 1.3.0, the default evaluation metric used with the objective 'multi:softprob' was changed from 'merror' to 'mlogloss'. Explicitly set eval_metric if you'd like to restore the old behavior.\n",
      "[23:55:30] WARNING: C:/Users/Administrator/workspace/xgboost-win64_release_1.3.0/src/learner.cc:541: \n",
      "Parameters: { gamma } might not be used.\n",
      "\n",
      "  This may not be accurate due to some parameters are only used in language bindings but\n",
      "  passed down to XGBoost core.  Or some parameters are not used but slip through this\n",
      "  verification. Please open an issue if you find above cases.\n",
      "\n",
      "\n",
      "[23:55:30] WARNING: C:/Users/Administrator/workspace/xgboost-win64_release_1.3.0/src/learner.cc:1061: Starting in XGBoost 1.3.0, the default evaluation metric used with the objective 'multi:softprob' was changed from 'merror' to 'mlogloss'. Explicitly set eval_metric if you'd like to restore the old behavior.\n",
      "[23:55:30] WARNING: C:/Users/Administrator/workspace/xgboost-win64_release_1.3.0/src/learner.cc:541: \n",
      "Parameters: { gamma } might not be used.\n",
      "\n",
      "  This may not be accurate due to some parameters are only used in language bindings but\n",
      "  passed down to XGBoost core.  Or some parameters are not used but slip through this\n",
      "  verification. Please open an issue if you find above cases.\n",
      "\n",
      "\n",
      "[23:55:30] WARNING: C:/Users/Administrator/workspace/xgboost-win64_release_1.3.0/src/learner.cc:1061: Starting in XGBoost 1.3.0, the default evaluation metric used with the objective 'multi:softprob' was changed from 'merror' to 'mlogloss'. Explicitly set eval_metric if you'd like to restore the old behavior.\n",
      "[23:55:31] WARNING: C:/Users/Administrator/workspace/xgboost-win64_release_1.3.0/src/learner.cc:541: \n",
      "Parameters: { gamma } might not be used.\n",
      "\n",
      "  This may not be accurate due to some parameters are only used in language bindings but\n",
      "  passed down to XGBoost core.  Or some parameters are not used but slip through this\n",
      "  verification. Please open an issue if you find above cases.\n",
      "\n",
      "\n",
      "[23:55:31] WARNING: C:/Users/Administrator/workspace/xgboost-win64_release_1.3.0/src/learner.cc:1061: Starting in XGBoost 1.3.0, the default evaluation metric used with the objective 'multi:softprob' was changed from 'merror' to 'mlogloss'. Explicitly set eval_metric if you'd like to restore the old behavior.\n",
      "[23:55:31] WARNING: C:/Users/Administrator/workspace/xgboost-win64_release_1.3.0/src/learner.cc:541: \n",
      "Parameters: { gamma } might not be used.\n",
      "\n",
      "  This may not be accurate due to some parameters are only used in language bindings but\n",
      "  passed down to XGBoost core.  Or some parameters are not used but slip through this\n",
      "  verification. Please open an issue if you find above cases.\n",
      "\n",
      "\n",
      "[23:55:31] WARNING: C:/Users/Administrator/workspace/xgboost-win64_release_1.3.0/src/learner.cc:1061: Starting in XGBoost 1.3.0, the default evaluation metric used with the objective 'multi:softprob' was changed from 'merror' to 'mlogloss'. Explicitly set eval_metric if you'd like to restore the old behavior.\n",
      "[23:55:32] WARNING: C:/Users/Administrator/workspace/xgboost-win64_release_1.3.0/src/learner.cc:541: \n",
      "Parameters: { gamma } might not be used.\n",
      "\n",
      "  This may not be accurate due to some parameters are only used in language bindings but\n",
      "  passed down to XGBoost core.  Or some parameters are not used but slip through this\n",
      "  verification. Please open an issue if you find above cases.\n",
      "\n",
      "\n",
      "[23:55:32] WARNING: C:/Users/Administrator/workspace/xgboost-win64_release_1.3.0/src/learner.cc:1061: Starting in XGBoost 1.3.0, the default evaluation metric used with the objective 'multi:softprob' was changed from 'merror' to 'mlogloss'. Explicitly set eval_metric if you'd like to restore the old behavior.\n",
      "[23:55:32] WARNING: C:/Users/Administrator/workspace/xgboost-win64_release_1.3.0/src/learner.cc:541: \n",
      "Parameters: { gamma } might not be used.\n",
      "\n",
      "  This may not be accurate due to some parameters are only used in language bindings but\n",
      "  passed down to XGBoost core.  Or some parameters are not used but slip through this\n",
      "  verification. Please open an issue if you find above cases.\n",
      "\n",
      "\n",
      "[23:55:32] WARNING: C:/Users/Administrator/workspace/xgboost-win64_release_1.3.0/src/learner.cc:1061: Starting in XGBoost 1.3.0, the default evaluation metric used with the objective 'multi:softprob' was changed from 'merror' to 'mlogloss'. Explicitly set eval_metric if you'd like to restore the old behavior.\n",
      "[23:55:33] WARNING: C:/Users/Administrator/workspace/xgboost-win64_release_1.3.0/src/learner.cc:541: \n",
      "Parameters: { gamma } might not be used.\n",
      "\n",
      "  This may not be accurate due to some parameters are only used in language bindings but\n",
      "  passed down to XGBoost core.  Or some parameters are not used but slip through this\n",
      "  verification. Please open an issue if you find above cases.\n",
      "\n",
      "\n",
      "[23:55:33] WARNING: C:/Users/Administrator/workspace/xgboost-win64_release_1.3.0/src/learner.cc:1061: Starting in XGBoost 1.3.0, the default evaluation metric used with the objective 'multi:softprob' was changed from 'merror' to 'mlogloss'. Explicitly set eval_metric if you'd like to restore the old behavior.\n"
     ]
    },
    {
     "name": "stdout",
     "output_type": "stream",
     "text": [
      "[23:55:33] WARNING: C:/Users/Administrator/workspace/xgboost-win64_release_1.3.0/src/learner.cc:541: \n",
      "Parameters: { gamma } might not be used.\n",
      "\n",
      "  This may not be accurate due to some parameters are only used in language bindings but\n",
      "  passed down to XGBoost core.  Or some parameters are not used but slip through this\n",
      "  verification. Please open an issue if you find above cases.\n",
      "\n",
      "\n",
      "[23:55:33] WARNING: C:/Users/Administrator/workspace/xgboost-win64_release_1.3.0/src/learner.cc:1061: Starting in XGBoost 1.3.0, the default evaluation metric used with the objective 'multi:softprob' was changed from 'merror' to 'mlogloss'. Explicitly set eval_metric if you'd like to restore the old behavior.\n",
      "[23:55:33] WARNING: C:/Users/Administrator/workspace/xgboost-win64_release_1.3.0/src/learner.cc:541: \n",
      "Parameters: { gamma } might not be used.\n",
      "\n",
      "  This may not be accurate due to some parameters are only used in language bindings but\n",
      "  passed down to XGBoost core.  Or some parameters are not used but slip through this\n",
      "  verification. Please open an issue if you find above cases.\n",
      "\n",
      "\n",
      "[23:55:33] WARNING: C:/Users/Administrator/workspace/xgboost-win64_release_1.3.0/src/learner.cc:1061: Starting in XGBoost 1.3.0, the default evaluation metric used with the objective 'multi:softprob' was changed from 'merror' to 'mlogloss'. Explicitly set eval_metric if you'd like to restore the old behavior.\n",
      "[23:55:33] WARNING: C:/Users/Administrator/workspace/xgboost-win64_release_1.3.0/src/learner.cc:541: \n",
      "Parameters: { gamma } might not be used.\n",
      "\n",
      "  This may not be accurate due to some parameters are only used in language bindings but\n",
      "  passed down to XGBoost core.  Or some parameters are not used but slip through this\n",
      "  verification. Please open an issue if you find above cases.\n",
      "\n",
      "\n",
      "[23:55:33] WARNING: C:/Users/Administrator/workspace/xgboost-win64_release_1.3.0/src/learner.cc:1061: Starting in XGBoost 1.3.0, the default evaluation metric used with the objective 'multi:softprob' was changed from 'merror' to 'mlogloss'. Explicitly set eval_metric if you'd like to restore the old behavior.\n",
      "[23:55:33] WARNING: C:/Users/Administrator/workspace/xgboost-win64_release_1.3.0/src/learner.cc:541: \n",
      "Parameters: { gamma } might not be used.\n",
      "\n",
      "  This may not be accurate due to some parameters are only used in language bindings but\n",
      "  passed down to XGBoost core.  Or some parameters are not used but slip through this\n",
      "  verification. Please open an issue if you find above cases.\n",
      "\n",
      "\n",
      "[23:55:33] WARNING: C:/Users/Administrator/workspace/xgboost-win64_release_1.3.0/src/learner.cc:1061: Starting in XGBoost 1.3.0, the default evaluation metric used with the objective 'multi:softprob' was changed from 'merror' to 'mlogloss'. Explicitly set eval_metric if you'd like to restore the old behavior.\n",
      "[23:55:34] WARNING: C:/Users/Administrator/workspace/xgboost-win64_release_1.3.0/src/learner.cc:541: \n",
      "Parameters: { gamma } might not be used.\n",
      "\n",
      "  This may not be accurate due to some parameters are only used in language bindings but\n",
      "  passed down to XGBoost core.  Or some parameters are not used but slip through this\n",
      "  verification. Please open an issue if you find above cases.\n",
      "\n",
      "\n",
      "[23:55:34] WARNING: C:/Users/Administrator/workspace/xgboost-win64_release_1.3.0/src/learner.cc:1061: Starting in XGBoost 1.3.0, the default evaluation metric used with the objective 'multi:softprob' was changed from 'merror' to 'mlogloss'. Explicitly set eval_metric if you'd like to restore the old behavior.\n",
      "[23:55:34] WARNING: C:/Users/Administrator/workspace/xgboost-win64_release_1.3.0/src/learner.cc:541: \n",
      "Parameters: { gamma } might not be used.\n",
      "\n",
      "  This may not be accurate due to some parameters are only used in language bindings but\n",
      "  passed down to XGBoost core.  Or some parameters are not used but slip through this\n",
      "  verification. Please open an issue if you find above cases.\n",
      "\n",
      "\n",
      "[23:55:34] WARNING: C:/Users/Administrator/workspace/xgboost-win64_release_1.3.0/src/learner.cc:1061: Starting in XGBoost 1.3.0, the default evaluation metric used with the objective 'multi:softprob' was changed from 'merror' to 'mlogloss'. Explicitly set eval_metric if you'd like to restore the old behavior.\n",
      "[23:55:34] WARNING: C:/Users/Administrator/workspace/xgboost-win64_release_1.3.0/src/learner.cc:541: \n",
      "Parameters: { gamma } might not be used.\n",
      "\n",
      "  This may not be accurate due to some parameters are only used in language bindings but\n",
      "  passed down to XGBoost core.  Or some parameters are not used but slip through this\n",
      "  verification. Please open an issue if you find above cases.\n",
      "\n",
      "\n",
      "[23:55:34] WARNING: C:/Users/Administrator/workspace/xgboost-win64_release_1.3.0/src/learner.cc:1061: Starting in XGBoost 1.3.0, the default evaluation metric used with the objective 'multi:softprob' was changed from 'merror' to 'mlogloss'. Explicitly set eval_metric if you'd like to restore the old behavior.\n",
      "[23:55:34] WARNING: C:/Users/Administrator/workspace/xgboost-win64_release_1.3.0/src/learner.cc:541: \n",
      "Parameters: { gamma } might not be used.\n",
      "\n",
      "  This may not be accurate due to some parameters are only used in language bindings but\n",
      "  passed down to XGBoost core.  Or some parameters are not used but slip through this\n",
      "  verification. Please open an issue if you find above cases.\n",
      "\n",
      "\n",
      "[23:55:34] WARNING: C:/Users/Administrator/workspace/xgboost-win64_release_1.3.0/src/learner.cc:1061: Starting in XGBoost 1.3.0, the default evaluation metric used with the objective 'multi:softprob' was changed from 'merror' to 'mlogloss'. Explicitly set eval_metric if you'd like to restore the old behavior.\n",
      "[23:55:34] WARNING: C:/Users/Administrator/workspace/xgboost-win64_release_1.3.0/src/learner.cc:541: \n",
      "Parameters: { gamma } might not be used.\n",
      "\n",
      "  This may not be accurate due to some parameters are only used in language bindings but\n",
      "  passed down to XGBoost core.  Or some parameters are not used but slip through this\n",
      "  verification. Please open an issue if you find above cases.\n",
      "\n",
      "\n",
      "[23:55:34] WARNING: C:/Users/Administrator/workspace/xgboost-win64_release_1.3.0/src/learner.cc:1061: Starting in XGBoost 1.3.0, the default evaluation metric used with the objective 'multi:softprob' was changed from 'merror' to 'mlogloss'. Explicitly set eval_metric if you'd like to restore the old behavior.\n",
      "[23:55:35] WARNING: C:/Users/Administrator/workspace/xgboost-win64_release_1.3.0/src/learner.cc:541: \n",
      "Parameters: { gamma } might not be used.\n",
      "\n",
      "  This may not be accurate due to some parameters are only used in language bindings but\n",
      "  passed down to XGBoost core.  Or some parameters are not used but slip through this\n",
      "  verification. Please open an issue if you find above cases.\n",
      "\n",
      "\n",
      "[23:55:35] WARNING: C:/Users/Administrator/workspace/xgboost-win64_release_1.3.0/src/learner.cc:1061: Starting in XGBoost 1.3.0, the default evaluation metric used with the objective 'multi:softprob' was changed from 'merror' to 'mlogloss'. Explicitly set eval_metric if you'd like to restore the old behavior.\n",
      "[23:55:35] WARNING: C:/Users/Administrator/workspace/xgboost-win64_release_1.3.0/src/learner.cc:541: \n",
      "Parameters: { gamma } might not be used.\n",
      "\n",
      "  This may not be accurate due to some parameters are only used in language bindings but\n",
      "  passed down to XGBoost core.  Or some parameters are not used but slip through this\n",
      "  verification. Please open an issue if you find above cases.\n",
      "\n",
      "\n",
      "[23:55:35] WARNING: C:/Users/Administrator/workspace/xgboost-win64_release_1.3.0/src/learner.cc:1061: Starting in XGBoost 1.3.0, the default evaluation metric used with the objective 'multi:softprob' was changed from 'merror' to 'mlogloss'. Explicitly set eval_metric if you'd like to restore the old behavior.\n",
      "[23:55:35] WARNING: C:/Users/Administrator/workspace/xgboost-win64_release_1.3.0/src/learner.cc:541: \n",
      "Parameters: { gamma } might not be used.\n",
      "\n",
      "  This may not be accurate due to some parameters are only used in language bindings but\n",
      "  passed down to XGBoost core.  Or some parameters are not used but slip through this\n",
      "  verification. Please open an issue if you find above cases.\n",
      "\n",
      "\n",
      "[23:55:35] WARNING: C:/Users/Administrator/workspace/xgboost-win64_release_1.3.0/src/learner.cc:1061: Starting in XGBoost 1.3.0, the default evaluation metric used with the objective 'multi:softprob' was changed from 'merror' to 'mlogloss'. Explicitly set eval_metric if you'd like to restore the old behavior.\n"
     ]
    },
    {
     "name": "stdout",
     "output_type": "stream",
     "text": [
      "[23:55:36] WARNING: C:/Users/Administrator/workspace/xgboost-win64_release_1.3.0/src/learner.cc:541: \n",
      "Parameters: { gamma } might not be used.\n",
      "\n",
      "  This may not be accurate due to some parameters are only used in language bindings but\n",
      "  passed down to XGBoost core.  Or some parameters are not used but slip through this\n",
      "  verification. Please open an issue if you find above cases.\n",
      "\n",
      "\n",
      "[23:55:36] WARNING: C:/Users/Administrator/workspace/xgboost-win64_release_1.3.0/src/learner.cc:1061: Starting in XGBoost 1.3.0, the default evaluation metric used with the objective 'multi:softprob' was changed from 'merror' to 'mlogloss'. Explicitly set eval_metric if you'd like to restore the old behavior.\n",
      "[23:55:36] WARNING: C:/Users/Administrator/workspace/xgboost-win64_release_1.3.0/src/learner.cc:541: \n",
      "Parameters: { gamma } might not be used.\n",
      "\n",
      "  This may not be accurate due to some parameters are only used in language bindings but\n",
      "  passed down to XGBoost core.  Or some parameters are not used but slip through this\n",
      "  verification. Please open an issue if you find above cases.\n",
      "\n",
      "\n",
      "[23:55:36] WARNING: C:/Users/Administrator/workspace/xgboost-win64_release_1.3.0/src/learner.cc:1061: Starting in XGBoost 1.3.0, the default evaluation metric used with the objective 'multi:softprob' was changed from 'merror' to 'mlogloss'. Explicitly set eval_metric if you'd like to restore the old behavior.\n",
      "[23:55:36] WARNING: C:/Users/Administrator/workspace/xgboost-win64_release_1.3.0/src/learner.cc:541: \n",
      "Parameters: { gamma } might not be used.\n",
      "\n",
      "  This may not be accurate due to some parameters are only used in language bindings but\n",
      "  passed down to XGBoost core.  Or some parameters are not used but slip through this\n",
      "  verification. Please open an issue if you find above cases.\n",
      "\n",
      "\n",
      "[23:55:36] WARNING: C:/Users/Administrator/workspace/xgboost-win64_release_1.3.0/src/learner.cc:1061: Starting in XGBoost 1.3.0, the default evaluation metric used with the objective 'multi:softprob' was changed from 'merror' to 'mlogloss'. Explicitly set eval_metric if you'd like to restore the old behavior.\n",
      "[23:55:37] WARNING: C:/Users/Administrator/workspace/xgboost-win64_release_1.3.0/src/learner.cc:541: \n",
      "Parameters: { gamma } might not be used.\n",
      "\n",
      "  This may not be accurate due to some parameters are only used in language bindings but\n",
      "  passed down to XGBoost core.  Or some parameters are not used but slip through this\n",
      "  verification. Please open an issue if you find above cases.\n",
      "\n",
      "\n",
      "[23:55:37] WARNING: C:/Users/Administrator/workspace/xgboost-win64_release_1.3.0/src/learner.cc:1061: Starting in XGBoost 1.3.0, the default evaluation metric used with the objective 'multi:softprob' was changed from 'merror' to 'mlogloss'. Explicitly set eval_metric if you'd like to restore the old behavior.\n",
      "[23:55:37] WARNING: C:/Users/Administrator/workspace/xgboost-win64_release_1.3.0/src/learner.cc:541: \n",
      "Parameters: { gamma } might not be used.\n",
      "\n",
      "  This may not be accurate due to some parameters are only used in language bindings but\n",
      "  passed down to XGBoost core.  Or some parameters are not used but slip through this\n",
      "  verification. Please open an issue if you find above cases.\n",
      "\n",
      "\n",
      "[23:55:37] WARNING: C:/Users/Administrator/workspace/xgboost-win64_release_1.3.0/src/learner.cc:1061: Starting in XGBoost 1.3.0, the default evaluation metric used with the objective 'multi:softprob' was changed from 'merror' to 'mlogloss'. Explicitly set eval_metric if you'd like to restore the old behavior.\n",
      "[23:55:37] WARNING: C:/Users/Administrator/workspace/xgboost-win64_release_1.3.0/src/learner.cc:541: \n",
      "Parameters: { gamma } might not be used.\n",
      "\n",
      "  This may not be accurate due to some parameters are only used in language bindings but\n",
      "  passed down to XGBoost core.  Or some parameters are not used but slip through this\n",
      "  verification. Please open an issue if you find above cases.\n",
      "\n",
      "\n",
      "[23:55:37] WARNING: C:/Users/Administrator/workspace/xgboost-win64_release_1.3.0/src/learner.cc:1061: Starting in XGBoost 1.3.0, the default evaluation metric used with the objective 'multi:softprob' was changed from 'merror' to 'mlogloss'. Explicitly set eval_metric if you'd like to restore the old behavior.\n",
      "[23:55:37] WARNING: C:/Users/Administrator/workspace/xgboost-win64_release_1.3.0/src/learner.cc:541: \n",
      "Parameters: { gamma } might not be used.\n",
      "\n",
      "  This may not be accurate due to some parameters are only used in language bindings but\n",
      "  passed down to XGBoost core.  Or some parameters are not used but slip through this\n",
      "  verification. Please open an issue if you find above cases.\n",
      "\n",
      "\n",
      "[23:55:37] WARNING: C:/Users/Administrator/workspace/xgboost-win64_release_1.3.0/src/learner.cc:1061: Starting in XGBoost 1.3.0, the default evaluation metric used with the objective 'multi:softprob' was changed from 'merror' to 'mlogloss'. Explicitly set eval_metric if you'd like to restore the old behavior.\n",
      "[23:55:37] WARNING: C:/Users/Administrator/workspace/xgboost-win64_release_1.3.0/src/learner.cc:541: \n",
      "Parameters: { gamma } might not be used.\n",
      "\n",
      "  This may not be accurate due to some parameters are only used in language bindings but\n",
      "  passed down to XGBoost core.  Or some parameters are not used but slip through this\n",
      "  verification. Please open an issue if you find above cases.\n",
      "\n",
      "\n",
      "[23:55:37] WARNING: C:/Users/Administrator/workspace/xgboost-win64_release_1.3.0/src/learner.cc:1061: Starting in XGBoost 1.3.0, the default evaluation metric used with the objective 'multi:softprob' was changed from 'merror' to 'mlogloss'. Explicitly set eval_metric if you'd like to restore the old behavior.\n",
      "[23:55:38] WARNING: C:/Users/Administrator/workspace/xgboost-win64_release_1.3.0/src/learner.cc:541: \n",
      "Parameters: { gamma } might not be used.\n",
      "\n",
      "  This may not be accurate due to some parameters are only used in language bindings but\n",
      "  passed down to XGBoost core.  Or some parameters are not used but slip through this\n",
      "  verification. Please open an issue if you find above cases.\n",
      "\n",
      "\n",
      "[23:55:38] WARNING: C:/Users/Administrator/workspace/xgboost-win64_release_1.3.0/src/learner.cc:1061: Starting in XGBoost 1.3.0, the default evaluation metric used with the objective 'multi:softprob' was changed from 'merror' to 'mlogloss'. Explicitly set eval_metric if you'd like to restore the old behavior.\n",
      "[23:55:38] WARNING: C:/Users/Administrator/workspace/xgboost-win64_release_1.3.0/src/learner.cc:541: \n",
      "Parameters: { gamma } might not be used.\n",
      "\n",
      "  This may not be accurate due to some parameters are only used in language bindings but\n",
      "  passed down to XGBoost core.  Or some parameters are not used but slip through this\n",
      "  verification. Please open an issue if you find above cases.\n",
      "\n",
      "\n",
      "[23:55:38] WARNING: C:/Users/Administrator/workspace/xgboost-win64_release_1.3.0/src/learner.cc:1061: Starting in XGBoost 1.3.0, the default evaluation metric used with the objective 'multi:softprob' was changed from 'merror' to 'mlogloss'. Explicitly set eval_metric if you'd like to restore the old behavior.\n",
      "[23:55:38] WARNING: C:/Users/Administrator/workspace/xgboost-win64_release_1.3.0/src/learner.cc:541: \n",
      "Parameters: { gamma } might not be used.\n",
      "\n",
      "  This may not be accurate due to some parameters are only used in language bindings but\n",
      "  passed down to XGBoost core.  Or some parameters are not used but slip through this\n",
      "  verification. Please open an issue if you find above cases.\n",
      "\n",
      "\n",
      "[23:55:38] WARNING: C:/Users/Administrator/workspace/xgboost-win64_release_1.3.0/src/learner.cc:1061: Starting in XGBoost 1.3.0, the default evaluation metric used with the objective 'multi:softprob' was changed from 'merror' to 'mlogloss'. Explicitly set eval_metric if you'd like to restore the old behavior.\n",
      "[23:55:38] WARNING: C:/Users/Administrator/workspace/xgboost-win64_release_1.3.0/src/learner.cc:541: \n",
      "Parameters: { gamma } might not be used.\n",
      "\n",
      "  This may not be accurate due to some parameters are only used in language bindings but\n",
      "  passed down to XGBoost core.  Or some parameters are not used but slip through this\n",
      "  verification. Please open an issue if you find above cases.\n",
      "\n",
      "\n",
      "[23:55:38] WARNING: C:/Users/Administrator/workspace/xgboost-win64_release_1.3.0/src/learner.cc:1061: Starting in XGBoost 1.3.0, the default evaluation metric used with the objective 'multi:softprob' was changed from 'merror' to 'mlogloss'. Explicitly set eval_metric if you'd like to restore the old behavior.\n"
     ]
    },
    {
     "name": "stdout",
     "output_type": "stream",
     "text": [
      "[23:55:39] WARNING: C:/Users/Administrator/workspace/xgboost-win64_release_1.3.0/src/learner.cc:541: \n",
      "Parameters: { gamma } might not be used.\n",
      "\n",
      "  This may not be accurate due to some parameters are only used in language bindings but\n",
      "  passed down to XGBoost core.  Or some parameters are not used but slip through this\n",
      "  verification. Please open an issue if you find above cases.\n",
      "\n",
      "\n",
      "[23:55:39] WARNING: C:/Users/Administrator/workspace/xgboost-win64_release_1.3.0/src/learner.cc:1061: Starting in XGBoost 1.3.0, the default evaluation metric used with the objective 'multi:softprob' was changed from 'merror' to 'mlogloss'. Explicitly set eval_metric if you'd like to restore the old behavior.\n",
      "[23:55:39] WARNING: C:/Users/Administrator/workspace/xgboost-win64_release_1.3.0/src/learner.cc:541: \n",
      "Parameters: { gamma } might not be used.\n",
      "\n",
      "  This may not be accurate due to some parameters are only used in language bindings but\n",
      "  passed down to XGBoost core.  Or some parameters are not used but slip through this\n",
      "  verification. Please open an issue if you find above cases.\n",
      "\n",
      "\n",
      "[23:55:39] WARNING: C:/Users/Administrator/workspace/xgboost-win64_release_1.3.0/src/learner.cc:1061: Starting in XGBoost 1.3.0, the default evaluation metric used with the objective 'multi:softprob' was changed from 'merror' to 'mlogloss'. Explicitly set eval_metric if you'd like to restore the old behavior.\n",
      "[23:55:39] WARNING: C:/Users/Administrator/workspace/xgboost-win64_release_1.3.0/src/learner.cc:541: \n",
      "Parameters: { gamma } might not be used.\n",
      "\n",
      "  This may not be accurate due to some parameters are only used in language bindings but\n",
      "  passed down to XGBoost core.  Or some parameters are not used but slip through this\n",
      "  verification. Please open an issue if you find above cases.\n",
      "\n",
      "\n",
      "[23:55:39] WARNING: C:/Users/Administrator/workspace/xgboost-win64_release_1.3.0/src/learner.cc:1061: Starting in XGBoost 1.3.0, the default evaluation metric used with the objective 'multi:softprob' was changed from 'merror' to 'mlogloss'. Explicitly set eval_metric if you'd like to restore the old behavior.\n",
      "[23:55:39] WARNING: C:/Users/Administrator/workspace/xgboost-win64_release_1.3.0/src/learner.cc:541: \n",
      "Parameters: { gamma } might not be used.\n",
      "\n",
      "  This may not be accurate due to some parameters are only used in language bindings but\n",
      "  passed down to XGBoost core.  Or some parameters are not used but slip through this\n",
      "  verification. Please open an issue if you find above cases.\n",
      "\n",
      "\n",
      "[23:55:39] WARNING: C:/Users/Administrator/workspace/xgboost-win64_release_1.3.0/src/learner.cc:1061: Starting in XGBoost 1.3.0, the default evaluation metric used with the objective 'multi:softprob' was changed from 'merror' to 'mlogloss'. Explicitly set eval_metric if you'd like to restore the old behavior.\n",
      "[23:55:40] WARNING: C:/Users/Administrator/workspace/xgboost-win64_release_1.3.0/src/learner.cc:541: \n",
      "Parameters: { gamma } might not be used.\n",
      "\n",
      "  This may not be accurate due to some parameters are only used in language bindings but\n",
      "  passed down to XGBoost core.  Or some parameters are not used but slip through this\n",
      "  verification. Please open an issue if you find above cases.\n",
      "\n",
      "\n",
      "[23:55:40] WARNING: C:/Users/Administrator/workspace/xgboost-win64_release_1.3.0/src/learner.cc:1061: Starting in XGBoost 1.3.0, the default evaluation metric used with the objective 'multi:softprob' was changed from 'merror' to 'mlogloss'. Explicitly set eval_metric if you'd like to restore the old behavior.\n",
      "[23:55:40] WARNING: C:/Users/Administrator/workspace/xgboost-win64_release_1.3.0/src/learner.cc:541: \n",
      "Parameters: { gamma } might not be used.\n",
      "\n",
      "  This may not be accurate due to some parameters are only used in language bindings but\n",
      "  passed down to XGBoost core.  Or some parameters are not used but slip through this\n",
      "  verification. Please open an issue if you find above cases.\n",
      "\n",
      "\n",
      "[23:55:40] WARNING: C:/Users/Administrator/workspace/xgboost-win64_release_1.3.0/src/learner.cc:1061: Starting in XGBoost 1.3.0, the default evaluation metric used with the objective 'multi:softprob' was changed from 'merror' to 'mlogloss'. Explicitly set eval_metric if you'd like to restore the old behavior.\n",
      "[23:55:40] WARNING: C:/Users/Administrator/workspace/xgboost-win64_release_1.3.0/src/learner.cc:541: \n",
      "Parameters: { gamma } might not be used.\n",
      "\n",
      "  This may not be accurate due to some parameters are only used in language bindings but\n",
      "  passed down to XGBoost core.  Or some parameters are not used but slip through this\n",
      "  verification. Please open an issue if you find above cases.\n",
      "\n",
      "\n",
      "[23:55:40] WARNING: C:/Users/Administrator/workspace/xgboost-win64_release_1.3.0/src/learner.cc:1061: Starting in XGBoost 1.3.0, the default evaluation metric used with the objective 'multi:softprob' was changed from 'merror' to 'mlogloss'. Explicitly set eval_metric if you'd like to restore the old behavior.\n",
      "[23:55:41] WARNING: C:/Users/Administrator/workspace/xgboost-win64_release_1.3.0/src/learner.cc:1061: Starting in XGBoost 1.3.0, the default evaluation metric used with the objective 'multi:softprob' was changed from 'merror' to 'mlogloss'. Explicitly set eval_metric if you'd like to restore the old behavior.\n",
      "[23:55:42] WARNING: C:/Users/Administrator/workspace/xgboost-win64_release_1.3.0/src/learner.cc:1061: Starting in XGBoost 1.3.0, the default evaluation metric used with the objective 'multi:softprob' was changed from 'merror' to 'mlogloss'. Explicitly set eval_metric if you'd like to restore the old behavior.\n",
      "[23:55:43] WARNING: C:/Users/Administrator/workspace/xgboost-win64_release_1.3.0/src/learner.cc:1061: Starting in XGBoost 1.3.0, the default evaluation metric used with the objective 'multi:softprob' was changed from 'merror' to 'mlogloss'. Explicitly set eval_metric if you'd like to restore the old behavior.\n",
      "[23:55:44] WARNING: C:/Users/Administrator/workspace/xgboost-win64_release_1.3.0/src/learner.cc:1061: Starting in XGBoost 1.3.0, the default evaluation metric used with the objective 'multi:softprob' was changed from 'merror' to 'mlogloss'. Explicitly set eval_metric if you'd like to restore the old behavior.\n",
      "[23:55:45] WARNING: C:/Users/Administrator/workspace/xgboost-win64_release_1.3.0/src/learner.cc:1061: Starting in XGBoost 1.3.0, the default evaluation metric used with the objective 'multi:softprob' was changed from 'merror' to 'mlogloss'. Explicitly set eval_metric if you'd like to restore the old behavior.\n",
      "[23:55:47] WARNING: C:/Users/Administrator/workspace/xgboost-win64_release_1.3.0/src/learner.cc:1061: Starting in XGBoost 1.3.0, the default evaluation metric used with the objective 'multi:softprob' was changed from 'merror' to 'mlogloss'. Explicitly set eval_metric if you'd like to restore the old behavior.\n",
      "[23:55:51] WARNING: C:/Users/Administrator/workspace/xgboost-win64_release_1.3.0/src/learner.cc:1061: Starting in XGBoost 1.3.0, the default evaluation metric used with the objective 'multi:softprob' was changed from 'merror' to 'mlogloss'. Explicitly set eval_metric if you'd like to restore the old behavior.\n",
      "[23:55:55] WARNING: C:/Users/Administrator/workspace/xgboost-win64_release_1.3.0/src/learner.cc:1061: Starting in XGBoost 1.3.0, the default evaluation metric used with the objective 'multi:softprob' was changed from 'merror' to 'mlogloss'. Explicitly set eval_metric if you'd like to restore the old behavior.\n",
      "[23:55:58] WARNING: C:/Users/Administrator/workspace/xgboost-win64_release_1.3.0/src/learner.cc:1061: Starting in XGBoost 1.3.0, the default evaluation metric used with the objective 'multi:softprob' was changed from 'merror' to 'mlogloss'. Explicitly set eval_metric if you'd like to restore the old behavior.\n",
      "[23:56:02] WARNING: C:/Users/Administrator/workspace/xgboost-win64_release_1.3.0/src/learner.cc:1061: Starting in XGBoost 1.3.0, the default evaluation metric used with the objective 'multi:softprob' was changed from 'merror' to 'mlogloss'. Explicitly set eval_metric if you'd like to restore the old behavior.\n",
      "[23:56:06] WARNING: C:/Users/Administrator/workspace/xgboost-win64_release_1.3.0/src/learner.cc:1061: Starting in XGBoost 1.3.0, the default evaluation metric used with the objective 'multi:softprob' was changed from 'merror' to 'mlogloss'. Explicitly set eval_metric if you'd like to restore the old behavior.\n"
     ]
    },
    {
     "name": "stdout",
     "output_type": "stream",
     "text": [
      "[23:56:12] WARNING: C:/Users/Administrator/workspace/xgboost-win64_release_1.3.0/src/learner.cc:1061: Starting in XGBoost 1.3.0, the default evaluation metric used with the objective 'multi:softprob' was changed from 'merror' to 'mlogloss'. Explicitly set eval_metric if you'd like to restore the old behavior.\n",
      "[23:56:17] WARNING: C:/Users/Administrator/workspace/xgboost-win64_release_1.3.0/src/learner.cc:1061: Starting in XGBoost 1.3.0, the default evaluation metric used with the objective 'multi:softprob' was changed from 'merror' to 'mlogloss'. Explicitly set eval_metric if you'd like to restore the old behavior.\n",
      "[23:56:22] WARNING: C:/Users/Administrator/workspace/xgboost-win64_release_1.3.0/src/learner.cc:1061: Starting in XGBoost 1.3.0, the default evaluation metric used with the objective 'multi:softprob' was changed from 'merror' to 'mlogloss'. Explicitly set eval_metric if you'd like to restore the old behavior.\n",
      "[23:56:27] WARNING: C:/Users/Administrator/workspace/xgboost-win64_release_1.3.0/src/learner.cc:1061: Starting in XGBoost 1.3.0, the default evaluation metric used with the objective 'multi:softprob' was changed from 'merror' to 'mlogloss'. Explicitly set eval_metric if you'd like to restore the old behavior.\n",
      "[23:56:32] WARNING: C:/Users/Administrator/workspace/xgboost-win64_release_1.3.0/src/learner.cc:1061: Starting in XGBoost 1.3.0, the default evaluation metric used with the objective 'multi:softprob' was changed from 'merror' to 'mlogloss'. Explicitly set eval_metric if you'd like to restore the old behavior.\n",
      "[23:56:34] WARNING: C:/Users/Administrator/workspace/xgboost-win64_release_1.3.0/src/learner.cc:1061: Starting in XGBoost 1.3.0, the default evaluation metric used with the objective 'multi:softprob' was changed from 'merror' to 'mlogloss'. Explicitly set eval_metric if you'd like to restore the old behavior.\n",
      "[23:56:35] WARNING: C:/Users/Administrator/workspace/xgboost-win64_release_1.3.0/src/learner.cc:1061: Starting in XGBoost 1.3.0, the default evaluation metric used with the objective 'multi:softprob' was changed from 'merror' to 'mlogloss'. Explicitly set eval_metric if you'd like to restore the old behavior.\n",
      "[23:56:37] WARNING: C:/Users/Administrator/workspace/xgboost-win64_release_1.3.0/src/learner.cc:1061: Starting in XGBoost 1.3.0, the default evaluation metric used with the objective 'multi:softprob' was changed from 'merror' to 'mlogloss'. Explicitly set eval_metric if you'd like to restore the old behavior.\n",
      "[23:56:38] WARNING: C:/Users/Administrator/workspace/xgboost-win64_release_1.3.0/src/learner.cc:1061: Starting in XGBoost 1.3.0, the default evaluation metric used with the objective 'multi:softprob' was changed from 'merror' to 'mlogloss'. Explicitly set eval_metric if you'd like to restore the old behavior.\n",
      "[23:56:39] WARNING: C:/Users/Administrator/workspace/xgboost-win64_release_1.3.0/src/learner.cc:1061: Starting in XGBoost 1.3.0, the default evaluation metric used with the objective 'multi:softprob' was changed from 'merror' to 'mlogloss'. Explicitly set eval_metric if you'd like to restore the old behavior.\n",
      "[23:56:43] WARNING: C:/Users/Administrator/workspace/xgboost-win64_release_1.3.0/src/learner.cc:1061: Starting in XGBoost 1.3.0, the default evaluation metric used with the objective 'multi:softprob' was changed from 'merror' to 'mlogloss'. Explicitly set eval_metric if you'd like to restore the old behavior.\n",
      "[23:56:46] WARNING: C:/Users/Administrator/workspace/xgboost-win64_release_1.3.0/src/learner.cc:1061: Starting in XGBoost 1.3.0, the default evaluation metric used with the objective 'multi:softprob' was changed from 'merror' to 'mlogloss'. Explicitly set eval_metric if you'd like to restore the old behavior.\n",
      "[23:56:50] WARNING: C:/Users/Administrator/workspace/xgboost-win64_release_1.3.0/src/learner.cc:1061: Starting in XGBoost 1.3.0, the default evaluation metric used with the objective 'multi:softprob' was changed from 'merror' to 'mlogloss'. Explicitly set eval_metric if you'd like to restore the old behavior.\n",
      "[23:56:54] WARNING: C:/Users/Administrator/workspace/xgboost-win64_release_1.3.0/src/learner.cc:1061: Starting in XGBoost 1.3.0, the default evaluation metric used with the objective 'multi:softprob' was changed from 'merror' to 'mlogloss'. Explicitly set eval_metric if you'd like to restore the old behavior.\n",
      "[23:56:58] WARNING: C:/Users/Administrator/workspace/xgboost-win64_release_1.3.0/src/learner.cc:1061: Starting in XGBoost 1.3.0, the default evaluation metric used with the objective 'multi:softprob' was changed from 'merror' to 'mlogloss'. Explicitly set eval_metric if you'd like to restore the old behavior.\n",
      "[23:57:03] WARNING: C:/Users/Administrator/workspace/xgboost-win64_release_1.3.0/src/learner.cc:1061: Starting in XGBoost 1.3.0, the default evaluation metric used with the objective 'multi:softprob' was changed from 'merror' to 'mlogloss'. Explicitly set eval_metric if you'd like to restore the old behavior.\n",
      "[23:57:09] WARNING: C:/Users/Administrator/workspace/xgboost-win64_release_1.3.0/src/learner.cc:1061: Starting in XGBoost 1.3.0, the default evaluation metric used with the objective 'multi:softprob' was changed from 'merror' to 'mlogloss'. Explicitly set eval_metric if you'd like to restore the old behavior.\n",
      "[23:57:14] WARNING: C:/Users/Administrator/workspace/xgboost-win64_release_1.3.0/src/learner.cc:1061: Starting in XGBoost 1.3.0, the default evaluation metric used with the objective 'multi:softprob' was changed from 'merror' to 'mlogloss'. Explicitly set eval_metric if you'd like to restore the old behavior.\n",
      "[23:57:19] WARNING: C:/Users/Administrator/workspace/xgboost-win64_release_1.3.0/src/learner.cc:1061: Starting in XGBoost 1.3.0, the default evaluation metric used with the objective 'multi:softprob' was changed from 'merror' to 'mlogloss'. Explicitly set eval_metric if you'd like to restore the old behavior.\n",
      "[23:57:25] WARNING: C:/Users/Administrator/workspace/xgboost-win64_release_1.3.0/src/learner.cc:1061: Starting in XGBoost 1.3.0, the default evaluation metric used with the objective 'multi:softprob' was changed from 'merror' to 'mlogloss'. Explicitly set eval_metric if you'd like to restore the old behavior.\n",
      "[23:57:27] WARNING: C:/Users/Administrator/workspace/xgboost-win64_release_1.3.0/src/learner.cc:1061: Starting in XGBoost 1.3.0, the default evaluation metric used with the objective 'multi:softprob' was changed from 'merror' to 'mlogloss'. Explicitly set eval_metric if you'd like to restore the old behavior.\n",
      "[23:57:28] WARNING: C:/Users/Administrator/workspace/xgboost-win64_release_1.3.0/src/learner.cc:1061: Starting in XGBoost 1.3.0, the default evaluation metric used with the objective 'multi:softprob' was changed from 'merror' to 'mlogloss'. Explicitly set eval_metric if you'd like to restore the old behavior.\n",
      "[23:57:29] WARNING: C:/Users/Administrator/workspace/xgboost-win64_release_1.3.0/src/learner.cc:1061: Starting in XGBoost 1.3.0, the default evaluation metric used with the objective 'multi:softprob' was changed from 'merror' to 'mlogloss'. Explicitly set eval_metric if you'd like to restore the old behavior.\n",
      "[23:57:30] WARNING: C:/Users/Administrator/workspace/xgboost-win64_release_1.3.0/src/learner.cc:1061: Starting in XGBoost 1.3.0, the default evaluation metric used with the objective 'multi:softprob' was changed from 'merror' to 'mlogloss'. Explicitly set eval_metric if you'd like to restore the old behavior.\n",
      "[23:57:31] WARNING: C:/Users/Administrator/workspace/xgboost-win64_release_1.3.0/src/learner.cc:1061: Starting in XGBoost 1.3.0, the default evaluation metric used with the objective 'multi:softprob' was changed from 'merror' to 'mlogloss'. Explicitly set eval_metric if you'd like to restore the old behavior.\n",
      "[23:57:35] WARNING: C:/Users/Administrator/workspace/xgboost-win64_release_1.3.0/src/learner.cc:1061: Starting in XGBoost 1.3.0, the default evaluation metric used with the objective 'multi:softprob' was changed from 'merror' to 'mlogloss'. Explicitly set eval_metric if you'd like to restore the old behavior.\n",
      "[23:57:39] WARNING: C:/Users/Administrator/workspace/xgboost-win64_release_1.3.0/src/learner.cc:1061: Starting in XGBoost 1.3.0, the default evaluation metric used with the objective 'multi:softprob' was changed from 'merror' to 'mlogloss'. Explicitly set eval_metric if you'd like to restore the old behavior.\n"
     ]
    },
    {
     "name": "stdout",
     "output_type": "stream",
     "text": [
      "[23:57:44] WARNING: C:/Users/Administrator/workspace/xgboost-win64_release_1.3.0/src/learner.cc:1061: Starting in XGBoost 1.3.0, the default evaluation metric used with the objective 'multi:softprob' was changed from 'merror' to 'mlogloss'. Explicitly set eval_metric if you'd like to restore the old behavior.\n",
      "[23:57:47] WARNING: C:/Users/Administrator/workspace/xgboost-win64_release_1.3.0/src/learner.cc:1061: Starting in XGBoost 1.3.0, the default evaluation metric used with the objective 'multi:softprob' was changed from 'merror' to 'mlogloss'. Explicitly set eval_metric if you'd like to restore the old behavior.\n",
      "[23:57:51] WARNING: C:/Users/Administrator/workspace/xgboost-win64_release_1.3.0/src/learner.cc:1061: Starting in XGBoost 1.3.0, the default evaluation metric used with the objective 'multi:softprob' was changed from 'merror' to 'mlogloss'. Explicitly set eval_metric if you'd like to restore the old behavior.\n",
      "[23:57:57] WARNING: C:/Users/Administrator/workspace/xgboost-win64_release_1.3.0/src/learner.cc:1061: Starting in XGBoost 1.3.0, the default evaluation metric used with the objective 'multi:softprob' was changed from 'merror' to 'mlogloss'. Explicitly set eval_metric if you'd like to restore the old behavior.\n",
      "[23:58:03] WARNING: C:/Users/Administrator/workspace/xgboost-win64_release_1.3.0/src/learner.cc:1061: Starting in XGBoost 1.3.0, the default evaluation metric used with the objective 'multi:softprob' was changed from 'merror' to 'mlogloss'. Explicitly set eval_metric if you'd like to restore the old behavior.\n",
      "[23:58:08] WARNING: C:/Users/Administrator/workspace/xgboost-win64_release_1.3.0/src/learner.cc:1061: Starting in XGBoost 1.3.0, the default evaluation metric used with the objective 'multi:softprob' was changed from 'merror' to 'mlogloss'. Explicitly set eval_metric if you'd like to restore the old behavior.\n",
      "[23:58:14] WARNING: C:/Users/Administrator/workspace/xgboost-win64_release_1.3.0/src/learner.cc:1061: Starting in XGBoost 1.3.0, the default evaluation metric used with the objective 'multi:softprob' was changed from 'merror' to 'mlogloss'. Explicitly set eval_metric if you'd like to restore the old behavior.\n",
      "[23:58:19] WARNING: C:/Users/Administrator/workspace/xgboost-win64_release_1.3.0/src/learner.cc:1061: Starting in XGBoost 1.3.0, the default evaluation metric used with the objective 'multi:softprob' was changed from 'merror' to 'mlogloss'. Explicitly set eval_metric if you'd like to restore the old behavior.\n",
      "[23:58:20] WARNING: C:/Users/Administrator/workspace/xgboost-win64_release_1.3.0/src/learner.cc:1061: Starting in XGBoost 1.3.0, the default evaluation metric used with the objective 'multi:softprob' was changed from 'merror' to 'mlogloss'. Explicitly set eval_metric if you'd like to restore the old behavior.\n",
      "[23:58:22] WARNING: C:/Users/Administrator/workspace/xgboost-win64_release_1.3.0/src/learner.cc:1061: Starting in XGBoost 1.3.0, the default evaluation metric used with the objective 'multi:softprob' was changed from 'merror' to 'mlogloss'. Explicitly set eval_metric if you'd like to restore the old behavior.\n",
      "[23:58:23] WARNING: C:/Users/Administrator/workspace/xgboost-win64_release_1.3.0/src/learner.cc:1061: Starting in XGBoost 1.3.0, the default evaluation metric used with the objective 'multi:softprob' was changed from 'merror' to 'mlogloss'. Explicitly set eval_metric if you'd like to restore the old behavior.\n",
      "[23:58:24] WARNING: C:/Users/Administrator/workspace/xgboost-win64_release_1.3.0/src/learner.cc:1061: Starting in XGBoost 1.3.0, the default evaluation metric used with the objective 'multi:softprob' was changed from 'merror' to 'mlogloss'. Explicitly set eval_metric if you'd like to restore the old behavior.\n",
      "[23:58:25] WARNING: C:/Users/Administrator/workspace/xgboost-win64_release_1.3.0/src/learner.cc:1061: Starting in XGBoost 1.3.0, the default evaluation metric used with the objective 'multi:softprob' was changed from 'merror' to 'mlogloss'. Explicitly set eval_metric if you'd like to restore the old behavior.\n",
      "[23:58:29] WARNING: C:/Users/Administrator/workspace/xgboost-win64_release_1.3.0/src/learner.cc:1061: Starting in XGBoost 1.3.0, the default evaluation metric used with the objective 'multi:softprob' was changed from 'merror' to 'mlogloss'. Explicitly set eval_metric if you'd like to restore the old behavior.\n",
      "[23:58:34] WARNING: C:/Users/Administrator/workspace/xgboost-win64_release_1.3.0/src/learner.cc:1061: Starting in XGBoost 1.3.0, the default evaluation metric used with the objective 'multi:softprob' was changed from 'merror' to 'mlogloss'. Explicitly set eval_metric if you'd like to restore the old behavior.\n",
      "[23:58:37] WARNING: C:/Users/Administrator/workspace/xgboost-win64_release_1.3.0/src/learner.cc:1061: Starting in XGBoost 1.3.0, the default evaluation metric used with the objective 'multi:softprob' was changed from 'merror' to 'mlogloss'. Explicitly set eval_metric if you'd like to restore the old behavior.\n",
      "[23:58:41] WARNING: C:/Users/Administrator/workspace/xgboost-win64_release_1.3.0/src/learner.cc:1061: Starting in XGBoost 1.3.0, the default evaluation metric used with the objective 'multi:softprob' was changed from 'merror' to 'mlogloss'. Explicitly set eval_metric if you'd like to restore the old behavior.\n",
      "[23:58:45] WARNING: C:/Users/Administrator/workspace/xgboost-win64_release_1.3.0/src/learner.cc:1061: Starting in XGBoost 1.3.0, the default evaluation metric used with the objective 'multi:softprob' was changed from 'merror' to 'mlogloss'. Explicitly set eval_metric if you'd like to restore the old behavior.\n",
      "[23:58:50] WARNING: C:/Users/Administrator/workspace/xgboost-win64_release_1.3.0/src/learner.cc:1061: Starting in XGBoost 1.3.0, the default evaluation metric used with the objective 'multi:softprob' was changed from 'merror' to 'mlogloss'. Explicitly set eval_metric if you'd like to restore the old behavior.\n",
      "[23:58:55] WARNING: C:/Users/Administrator/workspace/xgboost-win64_release_1.3.0/src/learner.cc:1061: Starting in XGBoost 1.3.0, the default evaluation metric used with the objective 'multi:softprob' was changed from 'merror' to 'mlogloss'. Explicitly set eval_metric if you'd like to restore the old behavior.\n",
      "[23:59:01] WARNING: C:/Users/Administrator/workspace/xgboost-win64_release_1.3.0/src/learner.cc:1061: Starting in XGBoost 1.3.0, the default evaluation metric used with the objective 'multi:softprob' was changed from 'merror' to 'mlogloss'. Explicitly set eval_metric if you'd like to restore the old behavior.\n",
      "[23:59:06] WARNING: C:/Users/Administrator/workspace/xgboost-win64_release_1.3.0/src/learner.cc:1061: Starting in XGBoost 1.3.0, the default evaluation metric used with the objective 'multi:softprob' was changed from 'merror' to 'mlogloss'. Explicitly set eval_metric if you'd like to restore the old behavior.\n",
      "[23:59:11] WARNING: C:/Users/Administrator/workspace/xgboost-win64_release_1.3.0/src/learner.cc:1061: Starting in XGBoost 1.3.0, the default evaluation metric used with the objective 'multi:softprob' was changed from 'merror' to 'mlogloss'. Explicitly set eval_metric if you'd like to restore the old behavior.\n",
      "[23:59:12] WARNING: C:/Users/Administrator/workspace/xgboost-win64_release_1.3.0/src/learner.cc:1061: Starting in XGBoost 1.3.0, the default evaluation metric used with the objective 'multi:softprob' was changed from 'merror' to 'mlogloss'. Explicitly set eval_metric if you'd like to restore the old behavior.\n",
      "[23:59:14] WARNING: C:/Users/Administrator/workspace/xgboost-win64_release_1.3.0/src/learner.cc:1061: Starting in XGBoost 1.3.0, the default evaluation metric used with the objective 'multi:softprob' was changed from 'merror' to 'mlogloss'. Explicitly set eval_metric if you'd like to restore the old behavior.\n",
      "[23:59:15] WARNING: C:/Users/Administrator/workspace/xgboost-win64_release_1.3.0/src/learner.cc:1061: Starting in XGBoost 1.3.0, the default evaluation metric used with the objective 'multi:softprob' was changed from 'merror' to 'mlogloss'. Explicitly set eval_metric if you'd like to restore the old behavior.\n",
      "[23:59:16] WARNING: C:/Users/Administrator/workspace/xgboost-win64_release_1.3.0/src/learner.cc:1061: Starting in XGBoost 1.3.0, the default evaluation metric used with the objective 'multi:softprob' was changed from 'merror' to 'mlogloss'. Explicitly set eval_metric if you'd like to restore the old behavior.\n"
     ]
    },
    {
     "name": "stdout",
     "output_type": "stream",
     "text": [
      "[23:59:18] WARNING: C:/Users/Administrator/workspace/xgboost-win64_release_1.3.0/src/learner.cc:1061: Starting in XGBoost 1.3.0, the default evaluation metric used with the objective 'multi:softprob' was changed from 'merror' to 'mlogloss'. Explicitly set eval_metric if you'd like to restore the old behavior.\n",
      "[23:59:21] WARNING: C:/Users/Administrator/workspace/xgboost-win64_release_1.3.0/src/learner.cc:1061: Starting in XGBoost 1.3.0, the default evaluation metric used with the objective 'multi:softprob' was changed from 'merror' to 'mlogloss'. Explicitly set eval_metric if you'd like to restore the old behavior.\n",
      "[23:59:25] WARNING: C:/Users/Administrator/workspace/xgboost-win64_release_1.3.0/src/learner.cc:1061: Starting in XGBoost 1.3.0, the default evaluation metric used with the objective 'multi:softprob' was changed from 'merror' to 'mlogloss'. Explicitly set eval_metric if you'd like to restore the old behavior.\n",
      "[23:59:29] WARNING: C:/Users/Administrator/workspace/xgboost-win64_release_1.3.0/src/learner.cc:1061: Starting in XGBoost 1.3.0, the default evaluation metric used with the objective 'multi:softprob' was changed from 'merror' to 'mlogloss'. Explicitly set eval_metric if you'd like to restore the old behavior.\n",
      "[23:59:33] WARNING: C:/Users/Administrator/workspace/xgboost-win64_release_1.3.0/src/learner.cc:1061: Starting in XGBoost 1.3.0, the default evaluation metric used with the objective 'multi:softprob' was changed from 'merror' to 'mlogloss'. Explicitly set eval_metric if you'd like to restore the old behavior.\n",
      "[23:59:37] WARNING: C:/Users/Administrator/workspace/xgboost-win64_release_1.3.0/src/learner.cc:1061: Starting in XGBoost 1.3.0, the default evaluation metric used with the objective 'multi:softprob' was changed from 'merror' to 'mlogloss'. Explicitly set eval_metric if you'd like to restore the old behavior.\n",
      "[23:59:42] WARNING: C:/Users/Administrator/workspace/xgboost-win64_release_1.3.0/src/learner.cc:1061: Starting in XGBoost 1.3.0, the default evaluation metric used with the objective 'multi:softprob' was changed from 'merror' to 'mlogloss'. Explicitly set eval_metric if you'd like to restore the old behavior.\n",
      "[23:59:48] WARNING: C:/Users/Administrator/workspace/xgboost-win64_release_1.3.0/src/learner.cc:1061: Starting in XGBoost 1.3.0, the default evaluation metric used with the objective 'multi:softprob' was changed from 'merror' to 'mlogloss'. Explicitly set eval_metric if you'd like to restore the old behavior.\n",
      "[23:59:53] WARNING: C:/Users/Administrator/workspace/xgboost-win64_release_1.3.0/src/learner.cc:1061: Starting in XGBoost 1.3.0, the default evaluation metric used with the objective 'multi:softprob' was changed from 'merror' to 'mlogloss'. Explicitly set eval_metric if you'd like to restore the old behavior.\n",
      "[23:59:58] WARNING: C:/Users/Administrator/workspace/xgboost-win64_release_1.3.0/src/learner.cc:1061: Starting in XGBoost 1.3.0, the default evaluation metric used with the objective 'multi:softprob' was changed from 'merror' to 'mlogloss'. Explicitly set eval_metric if you'd like to restore the old behavior.\n",
      "[00:00:05] WARNING: C:/Users/Administrator/workspace/xgboost-win64_release_1.3.0/src/learner.cc:1061: Starting in XGBoost 1.3.0, the default evaluation metric used with the objective 'multi:softprob' was changed from 'merror' to 'mlogloss'. Explicitly set eval_metric if you'd like to restore the old behavior.\n",
      "[00:00:06] WARNING: C:/Users/Administrator/workspace/xgboost-win64_release_1.3.0/src/learner.cc:1061: Starting in XGBoost 1.3.0, the default evaluation metric used with the objective 'multi:softprob' was changed from 'merror' to 'mlogloss'. Explicitly set eval_metric if you'd like to restore the old behavior.\n",
      "[00:00:08] WARNING: C:/Users/Administrator/workspace/xgboost-win64_release_1.3.0/src/learner.cc:1061: Starting in XGBoost 1.3.0, the default evaluation metric used with the objective 'multi:softprob' was changed from 'merror' to 'mlogloss'. Explicitly set eval_metric if you'd like to restore the old behavior.\n",
      "[00:00:09] WARNING: C:/Users/Administrator/workspace/xgboost-win64_release_1.3.0/src/learner.cc:1061: Starting in XGBoost 1.3.0, the default evaluation metric used with the objective 'multi:softprob' was changed from 'merror' to 'mlogloss'. Explicitly set eval_metric if you'd like to restore the old behavior.\n",
      "[00:00:10] WARNING: C:/Users/Administrator/workspace/xgboost-win64_release_1.3.0/src/learner.cc:1061: Starting in XGBoost 1.3.0, the default evaluation metric used with the objective 'multi:softprob' was changed from 'merror' to 'mlogloss'. Explicitly set eval_metric if you'd like to restore the old behavior.\n",
      "[00:00:11] WARNING: C:/Users/Administrator/workspace/xgboost-win64_release_1.3.0/src/learner.cc:1061: Starting in XGBoost 1.3.0, the default evaluation metric used with the objective 'multi:softprob' was changed from 'merror' to 'mlogloss'. Explicitly set eval_metric if you'd like to restore the old behavior.\n",
      "[00:00:15] WARNING: C:/Users/Administrator/workspace/xgboost-win64_release_1.3.0/src/learner.cc:1061: Starting in XGBoost 1.3.0, the default evaluation metric used with the objective 'multi:softprob' was changed from 'merror' to 'mlogloss'. Explicitly set eval_metric if you'd like to restore the old behavior.\n",
      "[00:00:20] WARNING: C:/Users/Administrator/workspace/xgboost-win64_release_1.3.0/src/learner.cc:1061: Starting in XGBoost 1.3.0, the default evaluation metric used with the objective 'multi:softprob' was changed from 'merror' to 'mlogloss'. Explicitly set eval_metric if you'd like to restore the old behavior.\n",
      "[00:00:24] WARNING: C:/Users/Administrator/workspace/xgboost-win64_release_1.3.0/src/learner.cc:1061: Starting in XGBoost 1.3.0, the default evaluation metric used with the objective 'multi:softprob' was changed from 'merror' to 'mlogloss'. Explicitly set eval_metric if you'd like to restore the old behavior.\n",
      "[00:00:28] WARNING: C:/Users/Administrator/workspace/xgboost-win64_release_1.3.0/src/learner.cc:1061: Starting in XGBoost 1.3.0, the default evaluation metric used with the objective 'multi:softprob' was changed from 'merror' to 'mlogloss'. Explicitly set eval_metric if you'd like to restore the old behavior.\n",
      "[00:00:32] WARNING: C:/Users/Administrator/workspace/xgboost-win64_release_1.3.0/src/learner.cc:1061: Starting in XGBoost 1.3.0, the default evaluation metric used with the objective 'multi:softprob' was changed from 'merror' to 'mlogloss'. Explicitly set eval_metric if you'd like to restore the old behavior.\n",
      "[00:00:38] WARNING: C:/Users/Administrator/workspace/xgboost-win64_release_1.3.0/src/learner.cc:1061: Starting in XGBoost 1.3.0, the default evaluation metric used with the objective 'multi:softprob' was changed from 'merror' to 'mlogloss'. Explicitly set eval_metric if you'd like to restore the old behavior.\n",
      "[00:00:43] WARNING: C:/Users/Administrator/workspace/xgboost-win64_release_1.3.0/src/learner.cc:1061: Starting in XGBoost 1.3.0, the default evaluation metric used with the objective 'multi:softprob' was changed from 'merror' to 'mlogloss'. Explicitly set eval_metric if you'd like to restore the old behavior.\n",
      "[00:00:49] WARNING: C:/Users/Administrator/workspace/xgboost-win64_release_1.3.0/src/learner.cc:1061: Starting in XGBoost 1.3.0, the default evaluation metric used with the objective 'multi:softprob' was changed from 'merror' to 'mlogloss'. Explicitly set eval_metric if you'd like to restore the old behavior.\n",
      "[00:00:55] WARNING: C:/Users/Administrator/workspace/xgboost-win64_release_1.3.0/src/learner.cc:1061: Starting in XGBoost 1.3.0, the default evaluation metric used with the objective 'multi:softprob' was changed from 'merror' to 'mlogloss'. Explicitly set eval_metric if you'd like to restore the old behavior.\n",
      "[00:01:01] WARNING: C:/Users/Administrator/workspace/xgboost-win64_release_1.3.0/src/learner.cc:1061: Starting in XGBoost 1.3.0, the default evaluation metric used with the objective 'multi:softprob' was changed from 'merror' to 'mlogloss'. Explicitly set eval_metric if you'd like to restore the old behavior.\n",
      "{'booster': 'gbtree', 'gamma': 0.1, 'learning_rate': 0.2, 'n_estimators': 120}\n"
     ]
    }
   ],
   "source": [
    "xg = XGBClassifier()\n",
    "parameters = {'n_estimators':[50,100,120],'learning_rate':[0.01,0.1,0.2],'gamma':[0.01,0.1],'booster':['gbtree','gblinear','dart']}\n",
    "clf = GridSearchCV(xg,parameters)\n",
    "clf.fit(x_train,y_train)\n",
    "print(clf.best_params_)"
   ]
  },
  {
   "cell_type": "code",
   "execution_count": 55,
   "metadata": {},
   "outputs": [
    {
     "name": "stdout",
     "output_type": "stream",
     "text": [
      "[00:01:42] WARNING: C:/Users/Administrator/workspace/xgboost-win64_release_1.3.0/src/learner.cc:1061: Starting in XGBoost 1.3.0, the default evaluation metric used with the objective 'multi:softprob' was changed from 'merror' to 'mlogloss'. Explicitly set eval_metric if you'd like to restore the old behavior.\n",
      "Accuracy of training model is: 0.9621398257761894\n",
      "Accuracy score: 92.00535953550693\n",
      "Confusion matrix: \n",
      " [[636 131  25]\n",
      " [ 18 693   5]\n",
      " [  0   0 731]]\n",
      "Classification report: \n",
      "               precision    recall  f1-score   support\n",
      "\n",
      "           0       0.97      0.80      0.88       792\n",
      "           1       0.84      0.97      0.90       716\n",
      "           2       0.96      1.00      0.98       731\n",
      "\n",
      "    accuracy                           0.92      2239\n",
      "   macro avg       0.92      0.92      0.92      2239\n",
      "weighted avg       0.93      0.92      0.92      2239\n",
      "\n"
     ]
    }
   ],
   "source": [
    "xg = XGBClassifier(booster='gbtree',gamma=0.1,learning_rate=0.2,n_estimators=120)\n",
    "xg.fit(x_train,y_train)\n",
    "train = xg.score(x_train,y_train)\n",
    "predxg = xg.predict(x_test)\n",
    "print(\"Accuracy of training model is:\",train)\n",
    "print(\"Accuracy score:\",accuracy_score(y_test,predxg)*100)\n",
    "print(\"Confusion matrix:\",\"\\n\",confusion_matrix(y_test,predxg))\n",
    "print(\"Classification report:\",\"\\n\",classification_report(y_test,predxg))"
   ]
  },
  {
   "cell_type": "code",
   "execution_count": 56,
   "metadata": {},
   "outputs": [
    {
     "name": "stdout",
     "output_type": "stream",
     "text": [
      "[0.88392857 0.97232143 0.96696429 0.99106345 0.95710456 0.86237712\n",
      " 0.90080429 0.98033959 0.96782842 0.98480786]\n",
      "Accuracy of the model is: 94.67539576152177\n"
     ]
    }
   ],
   "source": [
    "#check best model accuracy using cross validation\n",
    "from sklearn.model_selection import cross_val_score\n",
    "accuracy = cross_val_score(ExtraTreesClassifier(),x_t,y_ros,cv=10)\n",
    "print(accuracy)\n",
    "print(\"Accuracy of the model is:\",accuracy.mean()*100)"
   ]
  },
  {
   "cell_type": "markdown",
   "metadata": {},
   "source": [
    "we get best training and test accuacy using ExtraTreesClassifier."
   ]
  },
  {
   "cell_type": "code",
   "execution_count": 57,
   "metadata": {},
   "outputs": [
    {
     "name": "stdout",
     "output_type": "stream",
     "text": [
      "Accuracy of training model is: 0.9974313156131338\n",
      "Accuracy score: 97.40955783832068\n",
      "Confusion matrix: \n",
      " [[735  52   5]\n",
      " [  1 715   0]\n",
      " [  0   0 731]]\n",
      "Classification report: \n",
      "               precision    recall  f1-score   support\n",
      "\n",
      "           0       1.00      0.93      0.96       792\n",
      "           1       0.93      1.00      0.96       716\n",
      "           2       0.99      1.00      1.00       731\n",
      "\n",
      "    accuracy                           0.97      2239\n",
      "   macro avg       0.97      0.98      0.97      2239\n",
      "weighted avg       0.98      0.97      0.97      2239\n",
      "\n"
     ]
    }
   ],
   "source": [
    "#best model\n",
    "etc = ExtraTreesClassifier()\n",
    "etc.fit(x_train,y_train)\n",
    "train = etc.score(x_train,y_train)\n",
    "predetc = etc.predict(x_test)\n",
    "print(\"Accuracy of training model is:\",train)\n",
    "print(\"Accuracy score:\",accuracy_score(y_test,predetc)*100)\n",
    "print(\"Confusion matrix:\",\"\\n\",confusion_matrix(y_test,predetc))\n",
    "print(\"Classification report:\",\"\\n\",classification_report(y_test,predetc))"
   ]
  },
  {
   "cell_type": "code",
   "execution_count": 58,
   "metadata": {},
   "outputs": [
    {
     "data": {
      "text/plain": [
       "['etc_agriculture.obj']"
      ]
     },
     "execution_count": 58,
     "metadata": {},
     "output_type": "execute_result"
    }
   ],
   "source": [
    "#save best result\n",
    "df1 = pd.DataFrame(predetc)\n",
    "df1.to_csv(\"etc_agriculture.csv\")\n",
    "#save best model\n",
    "import joblib\n",
    "joblib.dump(etc,\"etc_agriculture.obj\")"
   ]
  },
  {
   "cell_type": "markdown",
   "metadata": {},
   "source": [
    "## check test data result"
   ]
  },
  {
   "cell_type": "code",
   "execution_count": 59,
   "metadata": {},
   "outputs": [
    {
     "data": {
      "text/html": [
       "<div>\n",
       "<style scoped>\n",
       "    .dataframe tbody tr th:only-of-type {\n",
       "        vertical-align: middle;\n",
       "    }\n",
       "\n",
       "    .dataframe tbody tr th {\n",
       "        vertical-align: top;\n",
       "    }\n",
       "\n",
       "    .dataframe thead th {\n",
       "        text-align: right;\n",
       "    }\n",
       "</style>\n",
       "<table border=\"1\" class=\"dataframe\">\n",
       "  <thead>\n",
       "    <tr style=\"text-align: right;\">\n",
       "      <th></th>\n",
       "      <th>ID</th>\n",
       "      <th>Estimated_Insects_Count</th>\n",
       "      <th>Crop_Type</th>\n",
       "      <th>Soil_Type</th>\n",
       "      <th>Pesticide_Use_Category</th>\n",
       "      <th>Number_Doses_Week</th>\n",
       "      <th>Number_Weeks_Used</th>\n",
       "      <th>Number_Weeks_Quit</th>\n",
       "      <th>Season</th>\n",
       "    </tr>\n",
       "  </thead>\n",
       "  <tbody>\n",
       "    <tr>\n",
       "      <th>0</th>\n",
       "      <td>F00000002</td>\n",
       "      <td>188</td>\n",
       "      <td>1</td>\n",
       "      <td>1</td>\n",
       "      <td>1</td>\n",
       "      <td>0</td>\n",
       "      <td>NaN</td>\n",
       "      <td>0</td>\n",
       "      <td>2</td>\n",
       "    </tr>\n",
       "    <tr>\n",
       "      <th>1</th>\n",
       "      <td>F00000007</td>\n",
       "      <td>410</td>\n",
       "      <td>1</td>\n",
       "      <td>1</td>\n",
       "      <td>1</td>\n",
       "      <td>0</td>\n",
       "      <td>0.0</td>\n",
       "      <td>0</td>\n",
       "      <td>2</td>\n",
       "    </tr>\n",
       "    <tr>\n",
       "      <th>2</th>\n",
       "      <td>F00000011</td>\n",
       "      <td>626</td>\n",
       "      <td>1</td>\n",
       "      <td>0</td>\n",
       "      <td>1</td>\n",
       "      <td>0</td>\n",
       "      <td>0.0</td>\n",
       "      <td>0</td>\n",
       "      <td>2</td>\n",
       "    </tr>\n",
       "    <tr>\n",
       "      <th>3</th>\n",
       "      <td>F00000013</td>\n",
       "      <td>731</td>\n",
       "      <td>1</td>\n",
       "      <td>0</td>\n",
       "      <td>1</td>\n",
       "      <td>0</td>\n",
       "      <td>0.0</td>\n",
       "      <td>0</td>\n",
       "      <td>2</td>\n",
       "    </tr>\n",
       "    <tr>\n",
       "      <th>4</th>\n",
       "      <td>F00000014</td>\n",
       "      <td>789</td>\n",
       "      <td>0</td>\n",
       "      <td>0</td>\n",
       "      <td>1</td>\n",
       "      <td>0</td>\n",
       "      <td>0.0</td>\n",
       "      <td>0</td>\n",
       "      <td>1</td>\n",
       "    </tr>\n",
       "  </tbody>\n",
       "</table>\n",
       "</div>"
      ],
      "text/plain": [
       "          ID  Estimated_Insects_Count  Crop_Type  Soil_Type  \\\n",
       "0  F00000002                      188          1          1   \n",
       "1  F00000007                      410          1          1   \n",
       "2  F00000011                      626          1          0   \n",
       "3  F00000013                      731          1          0   \n",
       "4  F00000014                      789          0          0   \n",
       "\n",
       "   Pesticide_Use_Category  Number_Doses_Week  Number_Weeks_Used  \\\n",
       "0                       1                  0                NaN   \n",
       "1                       1                  0                0.0   \n",
       "2                       1                  0                0.0   \n",
       "3                       1                  0                0.0   \n",
       "4                       1                  0                0.0   \n",
       "\n",
       "   Number_Weeks_Quit  Season  \n",
       "0                  0       2  \n",
       "1                  0       2  \n",
       "2                  0       2  \n",
       "3                  0       2  \n",
       "4                  0       1  "
      ]
     },
     "execution_count": 59,
     "metadata": {},
     "output_type": "execute_result"
    }
   ],
   "source": [
    "df_test.head()"
   ]
  },
  {
   "cell_type": "code",
   "execution_count": 60,
   "metadata": {},
   "outputs": [
    {
     "data": {
      "text/plain": [
       "ID                           0\n",
       "Estimated_Insects_Count      0\n",
       "Crop_Type                    0\n",
       "Soil_Type                    0\n",
       "Pesticide_Use_Category       0\n",
       "Number_Doses_Week            0\n",
       "Number_Weeks_Used          119\n",
       "Number_Weeks_Quit            0\n",
       "Season                       0\n",
       "dtype: int64"
      ]
     },
     "execution_count": 60,
     "metadata": {},
     "output_type": "execute_result"
    }
   ],
   "source": [
    "df_test.isnull().sum()"
   ]
  },
  {
   "cell_type": "code",
   "execution_count": 61,
   "metadata": {},
   "outputs": [],
   "source": [
    "df_test[\"Number_Weeks_Used\"] = df_test[\"Number_Weeks_Used\"].fillna(df_test[\"Number_Weeks_Used\"].mode()[0])"
   ]
  },
  {
   "cell_type": "code",
   "execution_count": 62,
   "metadata": {},
   "outputs": [],
   "source": [
    "df_test.drop([\"ID\"],axis=1,inplace=True)"
   ]
  },
  {
   "cell_type": "code",
   "execution_count": 63,
   "metadata": {},
   "outputs": [],
   "source": [
    "categorical_col = df_test.drop([\"Estimated_Insects_Count\",\"Number_Doses_Week\",\"Number_Weeks_Used\",\"Number_Weeks_Quit\"],axis=1)\n",
    "numeric_col = df_test.drop([\"Crop_Type\",\"Soil_Type\",\"Pesticide_Use_Category\",\"Season\"],axis=1)"
   ]
  },
  {
   "cell_type": "code",
   "execution_count": 64,
   "metadata": {},
   "outputs": [
    {
     "name": "stdout",
     "output_type": "stream",
     "text": [
      "(array([  50,   83,  129,  136,  179,  255,  280,  281,  282,  501,  502,\n",
      "        503,  535,  574,  613,  630,  751,  775,  827,  829,  853,  868,\n",
      "        870,  871,  883,  890,  895,  897,  902,  904,  910,  911,  912,\n",
      "        913,  914,  915,  916, 1030, 1152], dtype=int64), array([1, 1, 1, 1, 1, 1, 0, 0, 0, 0, 0, 0, 1, 1, 1, 1, 1, 3, 3, 3, 3, 3,\n",
      "       3, 3, 3, 3, 3, 3, 3, 3, 0, 0, 0, 0, 0, 0, 0, 1, 1], dtype=int64))\n"
     ]
    }
   ],
   "source": [
    "from scipy.stats import zscore\n",
    "z = np.abs(zscore(numeric_col))\n",
    "threshold=3\n",
    "print(np.where(z>3))"
   ]
  },
  {
   "cell_type": "code",
   "execution_count": 65,
   "metadata": {},
   "outputs": [
    {
     "data": {
      "text/html": [
       "<div>\n",
       "<style scoped>\n",
       "    .dataframe tbody tr th:only-of-type {\n",
       "        vertical-align: middle;\n",
       "    }\n",
       "\n",
       "    .dataframe tbody tr th {\n",
       "        vertical-align: top;\n",
       "    }\n",
       "\n",
       "    .dataframe thead th {\n",
       "        text-align: right;\n",
       "    }\n",
       "</style>\n",
       "<table border=\"1\" class=\"dataframe\">\n",
       "  <thead>\n",
       "    <tr style=\"text-align: right;\">\n",
       "      <th></th>\n",
       "      <th>Estimated_Insects_Count</th>\n",
       "      <th>Number_Doses_Week</th>\n",
       "      <th>Number_Weeks_Used</th>\n",
       "      <th>Number_Weeks_Quit</th>\n",
       "    </tr>\n",
       "  </thead>\n",
       "  <tbody>\n",
       "    <tr>\n",
       "      <th>0</th>\n",
       "      <td>188</td>\n",
       "      <td>0</td>\n",
       "      <td>20.0</td>\n",
       "      <td>0</td>\n",
       "    </tr>\n",
       "    <tr>\n",
       "      <th>1</th>\n",
       "      <td>410</td>\n",
       "      <td>0</td>\n",
       "      <td>0.0</td>\n",
       "      <td>0</td>\n",
       "    </tr>\n",
       "    <tr>\n",
       "      <th>2</th>\n",
       "      <td>626</td>\n",
       "      <td>0</td>\n",
       "      <td>0.0</td>\n",
       "      <td>0</td>\n",
       "    </tr>\n",
       "    <tr>\n",
       "      <th>3</th>\n",
       "      <td>731</td>\n",
       "      <td>0</td>\n",
       "      <td>0.0</td>\n",
       "      <td>0</td>\n",
       "    </tr>\n",
       "    <tr>\n",
       "      <th>4</th>\n",
       "      <td>789</td>\n",
       "      <td>0</td>\n",
       "      <td>0.0</td>\n",
       "      <td>0</td>\n",
       "    </tr>\n",
       "    <tr>\n",
       "      <th>...</th>\n",
       "      <td>...</td>\n",
       "      <td>...</td>\n",
       "      <td>...</td>\n",
       "      <td>...</td>\n",
       "    </tr>\n",
       "    <tr>\n",
       "      <th>1194</th>\n",
       "      <td>1132</td>\n",
       "      <td>40</td>\n",
       "      <td>34.0</td>\n",
       "      <td>7</td>\n",
       "    </tr>\n",
       "    <tr>\n",
       "      <th>1195</th>\n",
       "      <td>1132</td>\n",
       "      <td>40</td>\n",
       "      <td>25.0</td>\n",
       "      <td>3</td>\n",
       "    </tr>\n",
       "    <tr>\n",
       "      <th>1196</th>\n",
       "      <td>1132</td>\n",
       "      <td>20</td>\n",
       "      <td>13.0</td>\n",
       "      <td>23</td>\n",
       "    </tr>\n",
       "    <tr>\n",
       "      <th>1197</th>\n",
       "      <td>1212</td>\n",
       "      <td>10</td>\n",
       "      <td>35.0</td>\n",
       "      <td>5</td>\n",
       "    </tr>\n",
       "    <tr>\n",
       "      <th>1198</th>\n",
       "      <td>1212</td>\n",
       "      <td>15</td>\n",
       "      <td>20.0</td>\n",
       "      <td>20</td>\n",
       "    </tr>\n",
       "  </tbody>\n",
       "</table>\n",
       "<p>1160 rows × 4 columns</p>\n",
       "</div>"
      ],
      "text/plain": [
       "      Estimated_Insects_Count  Number_Doses_Week  Number_Weeks_Used  \\\n",
       "0                         188                  0               20.0   \n",
       "1                         410                  0                0.0   \n",
       "2                         626                  0                0.0   \n",
       "3                         731                  0                0.0   \n",
       "4                         789                  0                0.0   \n",
       "...                       ...                ...                ...   \n",
       "1194                     1132                 40               34.0   \n",
       "1195                     1132                 40               25.0   \n",
       "1196                     1132                 20               13.0   \n",
       "1197                     1212                 10               35.0   \n",
       "1198                     1212                 15               20.0   \n",
       "\n",
       "      Number_Weeks_Quit  \n",
       "0                     0  \n",
       "1                     0  \n",
       "2                     0  \n",
       "3                     0  \n",
       "4                     0  \n",
       "...                 ...  \n",
       "1194                  7  \n",
       "1195                  3  \n",
       "1196                 23  \n",
       "1197                  5  \n",
       "1198                 20  \n",
       "\n",
       "[1160 rows x 4 columns]"
      ]
     },
     "execution_count": 65,
     "metadata": {},
     "output_type": "execute_result"
    }
   ],
   "source": [
    "df_test_1 = numeric_col[(z<3).all(axis=1)]\n",
    "df_test_1"
   ]
  },
  {
   "cell_type": "code",
   "execution_count": 66,
   "metadata": {},
   "outputs": [
    {
     "data": {
      "text/plain": [
       "3.252710592160134"
      ]
     },
     "execution_count": 66,
     "metadata": {},
     "output_type": "execute_result"
    }
   ],
   "source": [
    "percentage_loss = ((1199-1160)/1199)*100\n",
    "percentage_loss"
   ]
  },
  {
   "cell_type": "code",
   "execution_count": 67,
   "metadata": {},
   "outputs": [],
   "source": [
    "categorical_col_1 = categorical_col.drop([50,   83,  129,  136,  179,  255,  280,  281,  282,  501,  502,\n",
    "        503,  535,  574,  613,  630,  751,  775,  827,  829,  853,  868,\n",
    "        870,  871,  883,  890,  895,  897,  902,  904,  910,  911,  912,\n",
    "        913,  914,  915,  916, 1030, 1152],axis=0)"
   ]
  },
  {
   "cell_type": "code",
   "execution_count": 68,
   "metadata": {},
   "outputs": [],
   "source": [
    "df_test_new = pd.concat([df_test_1,categorical_col_1],axis=1)"
   ]
  },
  {
   "cell_type": "code",
   "execution_count": 70,
   "metadata": {},
   "outputs": [],
   "source": [
    "#remove skewness by power transform method\n",
    "from sklearn.preprocessing import power_transform\n",
    "x_test_data = power_transform(df_test_new,method='yeo-johnson')"
   ]
  },
  {
   "cell_type": "code",
   "execution_count": 71,
   "metadata": {},
   "outputs": [],
   "source": [
    "from sklearn.preprocessing import StandardScaler\n",
    "sc = StandardScaler()\n",
    "x_test = sc.fit_transform(x_test_data)"
   ]
  },
  {
   "cell_type": "code",
   "execution_count": 72,
   "metadata": {},
   "outputs": [],
   "source": [
    "predetc = etc.predict(x_test)"
   ]
  },
  {
   "cell_type": "code",
   "execution_count": 73,
   "metadata": {},
   "outputs": [
    {
     "name": "stdout",
     "output_type": "stream",
     "text": [
      "[0 0 0 ... 1 1 2]\n"
     ]
    }
   ],
   "source": [
    "print(preddtc)"
   ]
  },
  {
   "cell_type": "code",
   "execution_count": 74,
   "metadata": {},
   "outputs": [],
   "source": [
    "#Save test data result\n",
    "df2 = pd.DataFrame(predetc)\n",
    "df2.to_csv(\"etc_test_agriculture.csv\")"
   ]
  },
  {
   "cell_type": "code",
   "execution_count": null,
   "metadata": {},
   "outputs": [],
   "source": []
  }
 ],
 "metadata": {
  "kernelspec": {
   "display_name": "Python 3",
   "language": "python",
   "name": "python3"
  },
  "language_info": {
   "codemirror_mode": {
    "name": "ipython",
    "version": 3
   },
   "file_extension": ".py",
   "mimetype": "text/x-python",
   "name": "python",
   "nbconvert_exporter": "python",
   "pygments_lexer": "ipython3",
   "version": "3.8.5"
  }
 },
 "nbformat": 4,
 "nbformat_minor": 4
}
