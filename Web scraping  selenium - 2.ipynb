{
 "cells": [
  {
   "cell_type": "markdown",
   "metadata": {},
   "source": [
    "# Web scraping assignment-2"
   ]
  },
  {
   "cell_type": "markdown",
   "metadata": {},
   "source": [
    "#### Q1: Write a python program to scrape data for “Data Analyst” Job position in “Bangalore” location. You have to scrape the job-title, job-location, company_name, experience_required. You have to scrape first 10 jobs data."
   ]
  },
  {
   "cell_type": "code",
   "execution_count": 65,
   "metadata": {},
   "outputs": [],
   "source": [
    "# import useful libraries\n",
    "import selenium\n",
    "from selenium import webdriver\n",
    "import time\n",
    "import pandas as pd\n",
    "from selenium.common.exceptions import StaleElementReferenceException\n",
    "from selenium.common.exceptions import NoSuchElementException"
   ]
  },
  {
   "cell_type": "code",
   "execution_count": 2,
   "metadata": {},
   "outputs": [],
   "source": [
    "# open chromedriver using path\n",
    "driver = webdriver.Chrome(\"I:\\Software//chromedriver.exe\")"
   ]
  },
  {
   "cell_type": "code",
   "execution_count": 3,
   "metadata": {},
   "outputs": [],
   "source": [
    "driver.get(\"https://www.naukri.com/\") # open url in driver\n",
    "\n",
    "# send job title(Data Analysit) in “Skill,Designations,Companies” box\n",
    "job_title = driver.find_element_by_name(\"keyword\").send_keys(\"Data Analyst\")\n",
    "\n",
    "# send job location(Bangalore) in “Enter location” box\n",
    "job_location = driver.find_element_by_name(\"location\").send_keys(\"Bangalore\")\n",
    "\n",
    "#Click on search button\n",
    "click = driver.find_element_by_xpath(\"//button[@class='btn']\").click()\n",
    "\n",
    "time.sleep(5)  # sleep code for 5 seconds"
   ]
  },
  {
   "cell_type": "code",
   "execution_count": 4,
   "metadata": {},
   "outputs": [
    {
     "data": {
      "text/plain": [
       "[<selenium.webdriver.remote.webelement.WebElement (session=\"225be405713baf06dd356194ba1c8fb0\", element=\"5c5e8896-e049-4d5a-ac51-2f50d8f168ff\")>,\n",
       " <selenium.webdriver.remote.webelement.WebElement (session=\"225be405713baf06dd356194ba1c8fb0\", element=\"dd360a92-a2b9-4fd3-9956-75554c08332b\")>,\n",
       " <selenium.webdriver.remote.webelement.WebElement (session=\"225be405713baf06dd356194ba1c8fb0\", element=\"21428f56-5bce-4250-88f4-18e6c04af3a6\")>,\n",
       " <selenium.webdriver.remote.webelement.WebElement (session=\"225be405713baf06dd356194ba1c8fb0\", element=\"0c2e4984-2fd4-4bcb-a2d6-4caa51bc340f\")>,\n",
       " <selenium.webdriver.remote.webelement.WebElement (session=\"225be405713baf06dd356194ba1c8fb0\", element=\"dafe18b6-9387-4c03-80ca-b3a4bcfdcff1\")>,\n",
       " <selenium.webdriver.remote.webelement.WebElement (session=\"225be405713baf06dd356194ba1c8fb0\", element=\"7db03026-b4bd-4a5a-939d-37519914c0f8\")>,\n",
       " <selenium.webdriver.remote.webelement.WebElement (session=\"225be405713baf06dd356194ba1c8fb0\", element=\"8655436c-ab5b-4ad4-bf54-f59b641ffcac\")>,\n",
       " <selenium.webdriver.remote.webelement.WebElement (session=\"225be405713baf06dd356194ba1c8fb0\", element=\"f3cc16bf-da29-4f74-a42b-aba48b0830d9\")>,\n",
       " <selenium.webdriver.remote.webelement.WebElement (session=\"225be405713baf06dd356194ba1c8fb0\", element=\"00f4c2fd-581c-42a1-8d2e-e1aca46f894d\")>,\n",
       " <selenium.webdriver.remote.webelement.WebElement (session=\"225be405713baf06dd356194ba1c8fb0\", element=\"37e4c178-4656-4dca-91a5-97a0019cded3\")>]"
      ]
     },
     "execution_count": 4,
     "metadata": {},
     "output_type": "execute_result"
    }
   ],
   "source": [
    "# extract links of job titles\n",
    "job_titles = driver.find_elements_by_xpath(\"//a[@class='title fw500 ellipsis']\")\n",
    "job_titles[0:10]"
   ]
  },
  {
   "cell_type": "code",
   "execution_count": 5,
   "metadata": {},
   "outputs": [
    {
     "data": {
      "text/plain": [
       "[<selenium.webdriver.remote.webelement.WebElement (session=\"225be405713baf06dd356194ba1c8fb0\", element=\"848a18c4-191b-4cf8-99dc-1f9a6973de44\")>,\n",
       " <selenium.webdriver.remote.webelement.WebElement (session=\"225be405713baf06dd356194ba1c8fb0\", element=\"e4c42275-0f04-43a7-a042-12c589f6f412\")>,\n",
       " <selenium.webdriver.remote.webelement.WebElement (session=\"225be405713baf06dd356194ba1c8fb0\", element=\"21bce7fe-fa97-48da-a8d1-33ac5ae97209\")>,\n",
       " <selenium.webdriver.remote.webelement.WebElement (session=\"225be405713baf06dd356194ba1c8fb0\", element=\"56383b95-9b1b-4700-88f9-ac78ca400e18\")>,\n",
       " <selenium.webdriver.remote.webelement.WebElement (session=\"225be405713baf06dd356194ba1c8fb0\", element=\"fac48e5a-e1a9-448c-8694-60248e14701c\")>,\n",
       " <selenium.webdriver.remote.webelement.WebElement (session=\"225be405713baf06dd356194ba1c8fb0\", element=\"2942b40b-e52f-4a38-af77-d993accb9ba4\")>,\n",
       " <selenium.webdriver.remote.webelement.WebElement (session=\"225be405713baf06dd356194ba1c8fb0\", element=\"b6cf08ef-d3b6-41dd-a1fe-2a58c821cc8d\")>,\n",
       " <selenium.webdriver.remote.webelement.WebElement (session=\"225be405713baf06dd356194ba1c8fb0\", element=\"88745523-3563-4a8a-b8b6-d4f2e0ced490\")>,\n",
       " <selenium.webdriver.remote.webelement.WebElement (session=\"225be405713baf06dd356194ba1c8fb0\", element=\"1fa215ed-11ce-4bf5-b447-db7d352561bb\")>,\n",
       " <selenium.webdriver.remote.webelement.WebElement (session=\"225be405713baf06dd356194ba1c8fb0\", element=\"5bd007ec-9bac-462c-85ef-11e062b6a79c\")>]"
      ]
     },
     "execution_count": 5,
     "metadata": {},
     "output_type": "execute_result"
    }
   ],
   "source": [
    "# extract links of job-locations\n",
    "location = driver.find_elements_by_xpath(\"//li[@class='fleft grey-text br2 placeHolderLi location']/span[1]\")\n",
    "location[0:10]"
   ]
  },
  {
   "cell_type": "code",
   "execution_count": 6,
   "metadata": {},
   "outputs": [
    {
     "data": {
      "text/plain": [
       "[<selenium.webdriver.remote.webelement.WebElement (session=\"225be405713baf06dd356194ba1c8fb0\", element=\"9c4050f4-22e2-4074-aacb-47ff8b8cd55d\")>,\n",
       " <selenium.webdriver.remote.webelement.WebElement (session=\"225be405713baf06dd356194ba1c8fb0\", element=\"77015642-4e9e-4c38-9f91-8ad2495895b9\")>,\n",
       " <selenium.webdriver.remote.webelement.WebElement (session=\"225be405713baf06dd356194ba1c8fb0\", element=\"35205e13-f82b-4d38-90d9-188937e23ba7\")>,\n",
       " <selenium.webdriver.remote.webelement.WebElement (session=\"225be405713baf06dd356194ba1c8fb0\", element=\"a6038df2-748d-45eb-9a31-a2abc792fe51\")>,\n",
       " <selenium.webdriver.remote.webelement.WebElement (session=\"225be405713baf06dd356194ba1c8fb0\", element=\"009911b8-af1c-40e7-ab4d-827943feef4f\")>,\n",
       " <selenium.webdriver.remote.webelement.WebElement (session=\"225be405713baf06dd356194ba1c8fb0\", element=\"ce091780-a779-43b2-93e0-d7262356d833\")>,\n",
       " <selenium.webdriver.remote.webelement.WebElement (session=\"225be405713baf06dd356194ba1c8fb0\", element=\"adc97e07-0059-4859-8a18-78eacbf45347\")>,\n",
       " <selenium.webdriver.remote.webelement.WebElement (session=\"225be405713baf06dd356194ba1c8fb0\", element=\"ed0dab6a-9a9d-4ad3-9e92-cc5513a9cb03\")>,\n",
       " <selenium.webdriver.remote.webelement.WebElement (session=\"225be405713baf06dd356194ba1c8fb0\", element=\"b9b7be7a-7f25-4ae0-bf32-28229905c09b\")>,\n",
       " <selenium.webdriver.remote.webelement.WebElement (session=\"225be405713baf06dd356194ba1c8fb0\", element=\"2a6c8d8e-de1e-45e8-a102-9193dbe4974a\")>]"
      ]
     },
     "execution_count": 6,
     "metadata": {},
     "output_type": "execute_result"
    }
   ],
   "source": [
    "# extract links of company name\n",
    "company = driver.find_elements_by_xpath(\"//a[@class='subTitle ellipsis fleft']\")\n",
    "company[0:10]"
   ]
  },
  {
   "cell_type": "code",
   "execution_count": 7,
   "metadata": {},
   "outputs": [
    {
     "data": {
      "text/plain": [
       "[<selenium.webdriver.remote.webelement.WebElement (session=\"225be405713baf06dd356194ba1c8fb0\", element=\"01313c32-c4de-429b-ac83-aea997682e02\")>,\n",
       " <selenium.webdriver.remote.webelement.WebElement (session=\"225be405713baf06dd356194ba1c8fb0\", element=\"a6538950-4ea2-4204-9d59-fc8991910b94\")>,\n",
       " <selenium.webdriver.remote.webelement.WebElement (session=\"225be405713baf06dd356194ba1c8fb0\", element=\"b7eaea8d-ca5c-4dae-ac82-6efae7c11b39\")>,\n",
       " <selenium.webdriver.remote.webelement.WebElement (session=\"225be405713baf06dd356194ba1c8fb0\", element=\"99566edd-c1cd-4981-be6a-2465f609e39a\")>,\n",
       " <selenium.webdriver.remote.webelement.WebElement (session=\"225be405713baf06dd356194ba1c8fb0\", element=\"067bdd17-4682-458e-8b47-457b2e2c73a5\")>,\n",
       " <selenium.webdriver.remote.webelement.WebElement (session=\"225be405713baf06dd356194ba1c8fb0\", element=\"d6946122-7695-4239-8004-a42f49ceae6a\")>,\n",
       " <selenium.webdriver.remote.webelement.WebElement (session=\"225be405713baf06dd356194ba1c8fb0\", element=\"81567d45-c533-4908-a3f4-e172965d4662\")>,\n",
       " <selenium.webdriver.remote.webelement.WebElement (session=\"225be405713baf06dd356194ba1c8fb0\", element=\"79387ca9-8b8c-4573-942e-5a7c63c52ab1\")>,\n",
       " <selenium.webdriver.remote.webelement.WebElement (session=\"225be405713baf06dd356194ba1c8fb0\", element=\"7ad94d94-bfca-44e2-baae-76f5f057fcb6\")>,\n",
       " <selenium.webdriver.remote.webelement.WebElement (session=\"225be405713baf06dd356194ba1c8fb0\", element=\"f746ebf5-c449-4585-9cfc-b59540520263\")>]"
      ]
     },
     "execution_count": 7,
     "metadata": {},
     "output_type": "execute_result"
    }
   ],
   "source": [
    "# extract links of experience\n",
    "experience = driver.find_elements_by_xpath(\"//li[@class='fleft grey-text br2 placeHolderLi experience']/span[1]\")\n",
    "experience[0:10]"
   ]
  },
  {
   "cell_type": "code",
   "execution_count": 8,
   "metadata": {},
   "outputs": [
    {
     "name": "stdout",
     "output_type": "stream",
     "text": [
      "['Assistant Manager II - Data Analyst', 'Data Analyst', 'Data Analyst', 'Data Analyst', 'Data Analyst', 'Hiring For Data Analyst', 'Senior Data Analyst', 'Data Analyst with Marketing Analytics-Capco', 'Business Data Analyst - MIS & Reporting', 'Junior Data Analyst']\n",
      "['Bangalore/Bengaluru', 'Bangalore/Bengaluru(Devalapur)', 'Bangalore/Bengaluru', 'Bangalore/Bengaluru', 'Bangalore/Bengaluru', 'Hyderabad/Secunderabad, Pune, Chennai, Bangalore/Bengaluru, Delhi / NCR, Mumbai (All Areas)', 'Bangalore/Bengaluru', 'Pune, Bangalore/Bengaluru', 'Mumbai, Bangalore/Bengaluru', 'Bangalore/Bengaluru, Mumbai (All Areas)']\n",
      "['Flipkart Internet Private Limited', 'Super India Tech Mark', 'tech mahindra ltd', 'GlaxoSmithKline Pharmaceuticals Limited', 'Xiaomi', 'Concentrix Daksh Services India Private Limited.', 'Cerner', 'Capco Technologies Pvt Ltd', 'INTERTRUST GROUP', 'Happy Marketer Private Ltd']\n",
      "['4-8 Yrs', '0-2 Yrs', '4-8 Yrs', '2-7 Yrs', '2-6 Yrs', '2-7 Yrs', '3-5 Yrs', '4-9 Yrs', '3-7 Yrs', '1-3 Yrs']\n"
     ]
    }
   ],
   "source": [
    "# extract text from links\n",
    "titles = []\n",
    "for i in job_titles[0:10]:\n",
    "    titles.append(i.text)\n",
    "print(titles)\n",
    "\n",
    "locations=[]\n",
    "for j in location[0:10]:\n",
    "    locations.append(j.text)\n",
    "print(locations)\n",
    "\n",
    "entities = []\n",
    "for k in company[0:10]:\n",
    "    entities.append(k.text)\n",
    "print(entities)\n",
    "\n",
    "re_experience = []\n",
    "for l in experience[0:10]:\n",
    "    re_experience.append(l.text)\n",
    "print(re_experience)"
   ]
  },
  {
   "cell_type": "code",
   "execution_count": 9,
   "metadata": {},
   "outputs": [],
   "source": [
    "# close browser\n",
    "driver.close()"
   ]
  },
  {
   "cell_type": "code",
   "execution_count": 10,
   "metadata": {},
   "outputs": [
    {
     "data": {
      "text/html": [
       "<div>\n",
       "<style scoped>\n",
       "    .dataframe tbody tr th:only-of-type {\n",
       "        vertical-align: middle;\n",
       "    }\n",
       "\n",
       "    .dataframe tbody tr th {\n",
       "        vertical-align: top;\n",
       "    }\n",
       "\n",
       "    .dataframe thead th {\n",
       "        text-align: right;\n",
       "    }\n",
       "</style>\n",
       "<table border=\"1\" class=\"dataframe\">\n",
       "  <thead>\n",
       "    <tr style=\"text-align: right;\">\n",
       "      <th></th>\n",
       "      <th>Index</th>\n",
       "      <th>Job Titles</th>\n",
       "      <th>Job Location</th>\n",
       "      <th>Company Name</th>\n",
       "      <th>Experience required</th>\n",
       "    </tr>\n",
       "  </thead>\n",
       "  <tbody>\n",
       "    <tr>\n",
       "      <th>0</th>\n",
       "      <td>1</td>\n",
       "      <td>Assistant Manager II - Data Analyst</td>\n",
       "      <td>Bangalore/Bengaluru</td>\n",
       "      <td>Flipkart Internet Private Limited</td>\n",
       "      <td>4-8 Yrs</td>\n",
       "    </tr>\n",
       "    <tr>\n",
       "      <th>1</th>\n",
       "      <td>2</td>\n",
       "      <td>Data Analyst</td>\n",
       "      <td>Bangalore/Bengaluru(Devalapur)</td>\n",
       "      <td>Super India Tech Mark</td>\n",
       "      <td>0-2 Yrs</td>\n",
       "    </tr>\n",
       "    <tr>\n",
       "      <th>2</th>\n",
       "      <td>3</td>\n",
       "      <td>Data Analyst</td>\n",
       "      <td>Bangalore/Bengaluru</td>\n",
       "      <td>tech mahindra ltd</td>\n",
       "      <td>4-8 Yrs</td>\n",
       "    </tr>\n",
       "    <tr>\n",
       "      <th>3</th>\n",
       "      <td>4</td>\n",
       "      <td>Data Analyst</td>\n",
       "      <td>Bangalore/Bengaluru</td>\n",
       "      <td>GlaxoSmithKline Pharmaceuticals Limited</td>\n",
       "      <td>2-7 Yrs</td>\n",
       "    </tr>\n",
       "    <tr>\n",
       "      <th>4</th>\n",
       "      <td>5</td>\n",
       "      <td>Data Analyst</td>\n",
       "      <td>Bangalore/Bengaluru</td>\n",
       "      <td>Xiaomi</td>\n",
       "      <td>2-6 Yrs</td>\n",
       "    </tr>\n",
       "    <tr>\n",
       "      <th>5</th>\n",
       "      <td>6</td>\n",
       "      <td>Hiring For Data Analyst</td>\n",
       "      <td>Hyderabad/Secunderabad, Pune, Chennai, Bangalo...</td>\n",
       "      <td>Concentrix Daksh Services India Private Limited.</td>\n",
       "      <td>2-7 Yrs</td>\n",
       "    </tr>\n",
       "    <tr>\n",
       "      <th>6</th>\n",
       "      <td>7</td>\n",
       "      <td>Senior Data Analyst</td>\n",
       "      <td>Bangalore/Bengaluru</td>\n",
       "      <td>Cerner</td>\n",
       "      <td>3-5 Yrs</td>\n",
       "    </tr>\n",
       "    <tr>\n",
       "      <th>7</th>\n",
       "      <td>8</td>\n",
       "      <td>Data Analyst with Marketing Analytics-Capco</td>\n",
       "      <td>Pune, Bangalore/Bengaluru</td>\n",
       "      <td>Capco Technologies Pvt Ltd</td>\n",
       "      <td>4-9 Yrs</td>\n",
       "    </tr>\n",
       "    <tr>\n",
       "      <th>8</th>\n",
       "      <td>9</td>\n",
       "      <td>Business Data Analyst - MIS &amp; Reporting</td>\n",
       "      <td>Mumbai, Bangalore/Bengaluru</td>\n",
       "      <td>INTERTRUST GROUP</td>\n",
       "      <td>3-7 Yrs</td>\n",
       "    </tr>\n",
       "    <tr>\n",
       "      <th>9</th>\n",
       "      <td>10</td>\n",
       "      <td>Junior Data Analyst</td>\n",
       "      <td>Bangalore/Bengaluru, Mumbai (All Areas)</td>\n",
       "      <td>Happy Marketer Private Ltd</td>\n",
       "      <td>1-3 Yrs</td>\n",
       "    </tr>\n",
       "  </tbody>\n",
       "</table>\n",
       "</div>"
      ],
      "text/plain": [
       "   Index                                   Job Titles  \\\n",
       "0      1          Assistant Manager II - Data Analyst   \n",
       "1      2                                 Data Analyst   \n",
       "2      3                                 Data Analyst   \n",
       "3      4                                 Data Analyst   \n",
       "4      5                                 Data Analyst   \n",
       "5      6                      Hiring For Data Analyst   \n",
       "6      7                          Senior Data Analyst   \n",
       "7      8  Data Analyst with Marketing Analytics-Capco   \n",
       "8      9      Business Data Analyst - MIS & Reporting   \n",
       "9     10                          Junior Data Analyst   \n",
       "\n",
       "                                        Job Location  \\\n",
       "0                                Bangalore/Bengaluru   \n",
       "1                     Bangalore/Bengaluru(Devalapur)   \n",
       "2                                Bangalore/Bengaluru   \n",
       "3                                Bangalore/Bengaluru   \n",
       "4                                Bangalore/Bengaluru   \n",
       "5  Hyderabad/Secunderabad, Pune, Chennai, Bangalo...   \n",
       "6                                Bangalore/Bengaluru   \n",
       "7                          Pune, Bangalore/Bengaluru   \n",
       "8                        Mumbai, Bangalore/Bengaluru   \n",
       "9            Bangalore/Bengaluru, Mumbai (All Areas)   \n",
       "\n",
       "                                       Company Name Experience required  \n",
       "0                 Flipkart Internet Private Limited             4-8 Yrs  \n",
       "1                             Super India Tech Mark             0-2 Yrs  \n",
       "2                                 tech mahindra ltd             4-8 Yrs  \n",
       "3           GlaxoSmithKline Pharmaceuticals Limited             2-7 Yrs  \n",
       "4                                            Xiaomi             2-6 Yrs  \n",
       "5  Concentrix Daksh Services India Private Limited.             2-7 Yrs  \n",
       "6                                            Cerner             3-5 Yrs  \n",
       "7                        Capco Technologies Pvt Ltd             4-9 Yrs  \n",
       "8                                  INTERTRUST GROUP             3-7 Yrs  \n",
       "9                        Happy Marketer Private Ltd             1-3 Yrs  "
      ]
     },
     "execution_count": 10,
     "metadata": {},
     "output_type": "execute_result"
    }
   ],
   "source": [
    "# create dataframe\n",
    "df = pd.DataFrame({})\n",
    "df[\"Index\"] = list(range(1,11))\n",
    "df[\"Job Titles\"]=titles\n",
    "df[\"Job Location\"]=locations\n",
    "df[\"Company Name\"]=entities\n",
    "df[\"Experience required\"]=re_experience\n",
    "df"
   ]
  },
  {
   "cell_type": "markdown",
   "metadata": {},
   "source": [
    "#### Q2: Write a python program to scrape data for “Data Scientist” Job position in “Bangalore” location. You have to scrape the job-title, job-location, company_name, full job-description. You have to scrape first 10 jobs data."
   ]
  },
  {
   "cell_type": "code",
   "execution_count": 156,
   "metadata": {},
   "outputs": [],
   "source": [
    "# open chromedriver using path\n",
    "driver = webdriver.Chrome(\"I:\\Software//chromedriver.exe\")"
   ]
  },
  {
   "cell_type": "code",
   "execution_count": 157,
   "metadata": {},
   "outputs": [],
   "source": [
    "driver.get(\"https://www.naukri.com/\") # open url in driver\n",
    "\n",
    "# send job title(Data scientist) in “Skill,Designations,Companies” box\n",
    "job_title = driver.find_element_by_name(\"keyword\").send_keys(\"Data scientist\")\n",
    "\n",
    "# send job location(Bangalore) in “Enter location” box\n",
    "job_location = driver.find_element_by_name(\"location\").send_keys(\"Bangalore\")\n",
    "\n",
    "#Click on search button\n",
    "click = driver.find_element_by_xpath(\"//button[@class='btn']\").click()\n",
    "\n",
    "time.sleep(5)  # sleep code for 5 seconds"
   ]
  },
  {
   "cell_type": "code",
   "execution_count": 158,
   "metadata": {},
   "outputs": [
    {
     "name": "stdout",
     "output_type": "stream",
     "text": [
      "[<selenium.webdriver.remote.webelement.WebElement (session=\"c6173453b91344e9c595f7fea050af16\", element=\"18fd13d6-2790-44ff-af7e-916ea8228f42\")>, <selenium.webdriver.remote.webelement.WebElement (session=\"c6173453b91344e9c595f7fea050af16\", element=\"f8da4e27-44cd-4ae5-9820-c54bcf5f77b9\")>, <selenium.webdriver.remote.webelement.WebElement (session=\"c6173453b91344e9c595f7fea050af16\", element=\"abfb32f8-9fda-4cd7-91dc-22e3cff7a389\")>, <selenium.webdriver.remote.webelement.WebElement (session=\"c6173453b91344e9c595f7fea050af16\", element=\"dcac2dd8-c98e-4e5b-83e2-917003a94b59\")>, <selenium.webdriver.remote.webelement.WebElement (session=\"c6173453b91344e9c595f7fea050af16\", element=\"7039f142-113f-4db7-a635-95adac59ff66\")>, <selenium.webdriver.remote.webelement.WebElement (session=\"c6173453b91344e9c595f7fea050af16\", element=\"af7baf80-109b-420c-af84-fb02cb4a2924\")>, <selenium.webdriver.remote.webelement.WebElement (session=\"c6173453b91344e9c595f7fea050af16\", element=\"74e5f008-b301-45b1-a46f-20b26d7b0175\")>, <selenium.webdriver.remote.webelement.WebElement (session=\"c6173453b91344e9c595f7fea050af16\", element=\"49433a9b-b6f6-4ff8-8b2e-c5b0946eb447\")>, <selenium.webdriver.remote.webelement.WebElement (session=\"c6173453b91344e9c595f7fea050af16\", element=\"af1b5c30-2757-4f8b-9754-cf856f8456c6\")>, <selenium.webdriver.remote.webelement.WebElement (session=\"c6173453b91344e9c595f7fea050af16\", element=\"9fe3a389-ad13-4a18-a25e-d538e936fed0\")>]\n",
      "[<selenium.webdriver.remote.webelement.WebElement (session=\"c6173453b91344e9c595f7fea050af16\", element=\"9274b275-d8e3-45df-8e38-9c600ed63aee\")>, <selenium.webdriver.remote.webelement.WebElement (session=\"c6173453b91344e9c595f7fea050af16\", element=\"32978199-5505-48d1-8009-abee725371ba\")>, <selenium.webdriver.remote.webelement.WebElement (session=\"c6173453b91344e9c595f7fea050af16\", element=\"eaa8e625-758b-4615-b174-9a03e617b135\")>, <selenium.webdriver.remote.webelement.WebElement (session=\"c6173453b91344e9c595f7fea050af16\", element=\"29ecc145-731b-46d7-85ca-b9466f989f4c\")>, <selenium.webdriver.remote.webelement.WebElement (session=\"c6173453b91344e9c595f7fea050af16\", element=\"4e68fc7a-637a-41a8-93e6-91826ae52bcf\")>, <selenium.webdriver.remote.webelement.WebElement (session=\"c6173453b91344e9c595f7fea050af16\", element=\"bc994f8f-c235-4436-a806-2a85a665039b\")>, <selenium.webdriver.remote.webelement.WebElement (session=\"c6173453b91344e9c595f7fea050af16\", element=\"03d7a1f0-a228-430f-99b0-2c0a76887292\")>, <selenium.webdriver.remote.webelement.WebElement (session=\"c6173453b91344e9c595f7fea050af16\", element=\"195bbab6-9cbb-48e6-8a7a-10a32f90b6ec\")>, <selenium.webdriver.remote.webelement.WebElement (session=\"c6173453b91344e9c595f7fea050af16\", element=\"38b91b05-3737-4ebc-96c2-bbf9c8b6aaf0\")>, <selenium.webdriver.remote.webelement.WebElement (session=\"c6173453b91344e9c595f7fea050af16\", element=\"e3df3760-845a-444b-9d16-cd432440bce5\")>]\n",
      "[<selenium.webdriver.remote.webelement.WebElement (session=\"c6173453b91344e9c595f7fea050af16\", element=\"e909536f-d9bd-4be4-870c-d3836ad61281\")>, <selenium.webdriver.remote.webelement.WebElement (session=\"c6173453b91344e9c595f7fea050af16\", element=\"509117c3-bc71-4cbe-8c3a-fcf89a77343a\")>, <selenium.webdriver.remote.webelement.WebElement (session=\"c6173453b91344e9c595f7fea050af16\", element=\"704fe3a6-7a53-4a04-9515-d1d234c40a5f\")>, <selenium.webdriver.remote.webelement.WebElement (session=\"c6173453b91344e9c595f7fea050af16\", element=\"dc5b96a7-c00e-4edf-bde8-807131be03d7\")>, <selenium.webdriver.remote.webelement.WebElement (session=\"c6173453b91344e9c595f7fea050af16\", element=\"0909cfd0-218c-47b2-a304-3dd4f5c035da\")>, <selenium.webdriver.remote.webelement.WebElement (session=\"c6173453b91344e9c595f7fea050af16\", element=\"5220cc81-f0de-470f-9b73-26ca678f1e65\")>, <selenium.webdriver.remote.webelement.WebElement (session=\"c6173453b91344e9c595f7fea050af16\", element=\"cfc5e17b-8caf-41c2-aefb-288089131fda\")>, <selenium.webdriver.remote.webelement.WebElement (session=\"c6173453b91344e9c595f7fea050af16\", element=\"3911b645-802e-4ddf-ad4d-e43d0d670ef2\")>, <selenium.webdriver.remote.webelement.WebElement (session=\"c6173453b91344e9c595f7fea050af16\", element=\"17bd80d7-c72b-4e30-bf51-8067849fad7f\")>, <selenium.webdriver.remote.webelement.WebElement (session=\"c6173453b91344e9c595f7fea050af16\", element=\"396a440c-71e9-4088-b66f-ab1b785fa7a4\")>]\n"
     ]
    }
   ],
   "source": [
    "# extract links of job titles\n",
    "job_titles = driver.find_elements_by_xpath(\"//a[@class='title fw500 ellipsis']\")\n",
    "print(job_titles[0:10])\n",
    "\n",
    "# extract links of job-locations\n",
    "location = driver.find_elements_by_xpath(\"//li[@class='fleft grey-text br2 placeHolderLi location']/span[1]\")\n",
    "print(location[0:10])\n",
    "\n",
    "# extract links of company name\n",
    "company = driver.find_elements_by_xpath(\"//a[@class='subTitle ellipsis fleft']\")\n",
    "print(company[0:10])"
   ]
  },
  {
   "cell_type": "code",
   "execution_count": 159,
   "metadata": {},
   "outputs": [
    {
     "name": "stdout",
     "output_type": "stream",
     "text": [
      "['Data Scientist', 'Opportunity For Data Scientist Internship - Bengaluru', 'Data Scientist/ Analyst', 'Data Scientist - Machine Learning', 'Data Scientist || Data Analyst || Data science', 'DBCG IND - GAMMA Senior Data Scientist', 'Data Scientist/Senior Data Scientist', 'Senior Data Scientist | CES IT LTD | CMMI Level 5', 'Global Medical Data Scientist', 'Associate Data Scientist - CRM & Loyalty']\n",
      "['Bangalore/Bengaluru', 'Bangalore/Bengaluru', 'Bangalore/Bengaluru', 'Bangalore/Bengaluru', 'Navi Mumbai, Bangalore/Bengaluru', 'Mumbai, New Delhi, Chennai, Bangalore/Bengaluru', 'Hyderabad/Secunderabad, Pune, Chennai, Bangalore/Bengaluru, Mumbai (All Areas)', 'Kolkata, Mumbai, Hyderabad/Secunderabad, Pune, Chennai, Bangalore/Bengaluru, Delhi / NCR', 'Bangalore/Bengaluru', 'Bangalore/Bengaluru']\n",
      "['CronJ IT Technologies Private Limited', 'Corner Stone Solutions', 'Becton Dickinson India Pvt. Ltd', 'AugmatrixGo', 'Inspiration Manpower Consultancy Pvt. Ltd.', 'Boston Consulting Group', 'GANIT BUSINESS SOLUTIONS PRIVATE LIMITED', 'CES Ltd.', 'GlaxoSmithKline Pharmaceuticals Limited', 'Shell India Markets Private Limited']\n"
     ]
    }
   ],
   "source": [
    "# extract text from path\n",
    "titles = []\n",
    "for i in job_titles[0:10]:\n",
    "    titles.append(i.text)\n",
    "print(titles)\n",
    "\n",
    "locations=[]\n",
    "for j in location[0:10]:\n",
    "    locations.append(j.text)\n",
    "print(locations)\n",
    "\n",
    "entities = []\n",
    "for k in company[0:10]:\n",
    "    entities.append(k.text)\n",
    "print(entities)"
   ]
  },
  {
   "cell_type": "code",
   "execution_count": 160,
   "metadata": {},
   "outputs": [
    {
     "data": {
      "text/plain": [
       "[<selenium.webdriver.remote.webelement.WebElement (session=\"c6173453b91344e9c595f7fea050af16\", element=\"18fd13d6-2790-44ff-af7e-916ea8228f42\")>,\n",
       " <selenium.webdriver.remote.webelement.WebElement (session=\"c6173453b91344e9c595f7fea050af16\", element=\"f8da4e27-44cd-4ae5-9820-c54bcf5f77b9\")>,\n",
       " <selenium.webdriver.remote.webelement.WebElement (session=\"c6173453b91344e9c595f7fea050af16\", element=\"abfb32f8-9fda-4cd7-91dc-22e3cff7a389\")>,\n",
       " <selenium.webdriver.remote.webelement.WebElement (session=\"c6173453b91344e9c595f7fea050af16\", element=\"dcac2dd8-c98e-4e5b-83e2-917003a94b59\")>,\n",
       " <selenium.webdriver.remote.webelement.WebElement (session=\"c6173453b91344e9c595f7fea050af16\", element=\"7039f142-113f-4db7-a635-95adac59ff66\")>,\n",
       " <selenium.webdriver.remote.webelement.WebElement (session=\"c6173453b91344e9c595f7fea050af16\", element=\"af7baf80-109b-420c-af84-fb02cb4a2924\")>,\n",
       " <selenium.webdriver.remote.webelement.WebElement (session=\"c6173453b91344e9c595f7fea050af16\", element=\"74e5f008-b301-45b1-a46f-20b26d7b0175\")>,\n",
       " <selenium.webdriver.remote.webelement.WebElement (session=\"c6173453b91344e9c595f7fea050af16\", element=\"49433a9b-b6f6-4ff8-8b2e-c5b0946eb447\")>,\n",
       " <selenium.webdriver.remote.webelement.WebElement (session=\"c6173453b91344e9c595f7fea050af16\", element=\"af1b5c30-2757-4f8b-9754-cf856f8456c6\")>,\n",
       " <selenium.webdriver.remote.webelement.WebElement (session=\"c6173453b91344e9c595f7fea050af16\", element=\"9fe3a389-ad13-4a18-a25e-d538e936fed0\")>]"
      ]
     },
     "execution_count": 160,
     "metadata": {},
     "output_type": "execute_result"
    }
   ],
   "source": [
    "# get links of job discription\n",
    "links =  driver.find_elements_by_xpath(\"//div[@class='info fleft']/a[1]\")\n",
    "links[0:10]"
   ]
  },
  {
   "cell_type": "code",
   "execution_count": 161,
   "metadata": {},
   "outputs": [],
   "source": [
    "# click on all job-descrption link\n",
    "for i in links[0:10]:\n",
    "    i.click()"
   ]
  },
  {
   "cell_type": "code",
   "execution_count": 162,
   "metadata": {},
   "outputs": [
    {
     "name": "stdout",
     "output_type": "stream",
     "text": [
      "This is an ideal role for an experienced candidate passionate about applying their Healthcare data science skills and wishing to grow their career towards finding critical solutions for unmet patient needs. It is a brand new role supporting the newly formed GSK md2i (Medical Data 2 Insights) organization.\n",
      "The Global (Medical Data to Insight) Data Scientist designs and develops advanced AI/ML models to Medical Insight Leads, Product teams and Data Analysts to help them translate medical data into actionable insights that drive decision making. The successful candidate uses Natural Language Processing (NLP) to enable the generation of insights from customer feedback and perspectives from a variety of unstructured sources e.g. medical voice of customer feedback, customer listening, feedback from surveys and research, forums, online communities, social media/publicly available information, call center voice, publications etc. He/she works closely with the data analysts as well as the ML production team to align their solutions with the functional and non-functional requirements elicited. The successful candidate is a self-starter team player who will become a member of a cross-functional team that brings together best in class Informatics, AI, engineering, medical, product and customer expertise to help md2i tackle challenges it is focused on.\n",
      "This role will provide YOU the opportunity to lead key activities to progress YOUR career. These responsibilities include some of the following:\n",
      "Building, enhancing, and applying advanced analytics methods and capabilities to reveal findings and potential insights from medical data.\n",
      "Apply natural language processing and text analytics capabilities to translate unstructured data into key topics, context summaries and sentiments for insight discovery.\n",
      "Focus on key findings and insights priorities in alignment with stakeholders' goals and business needs with proper validation techniques to build confidence in the results\n",
      "Appropriately train and maintain machine learning models for accuracy and relevance\n",
      "Stay on top of the latest external methods and approaches, current and emerging industry trends and advanced methods/best practices\n",
      "Apply analytics and business acumen to select methods fit for purpose that reveal customer patterns in the data that may spark additional data analysis or research for deeper customer insight\n",
      "Proactively identify opportunities and apply advanced analytics methods aligned with and guided by medical priorities\n",
      "We are looking for professionals with these required skills to achieve our goals:\n",
      "MA/MS/PhD in quantitative sciences in a Healthcare related field\n",
      "5+ years of experience in natural language processing and/or machine learning applied to healthcare-related problems.\n",
      "Proven track record of processing and deriving novel insights from big datasets for Medical or Life Science projects a plus.\n",
      "Expert programmer in Python and some experience coding in pySpark.\n",
      "Knowledge and routine exercise of SDLC best practices applicable to data science productization, i.e. code structure and documentation, frequent commits in Git, unit testing, continuous integration, etc.\n",
      "Experience in Microsoft Azure, SQL, Spark, Databricks, Jupyter, Neo4j and ElasticSearch/SOLR a plus.\n",
      "Experience in Life Sciences preferred.\n",
      "Experience in designing experiments to generate findings and gain insights from medical information sources e.g. medical voice of customer feedback, customer listening, feedback from surveys and research, forums, online communities, social media/publicly available information, call center voice, scientific publications etc preferred\n",
      "Excellent communicator, both verbal and written, with the ability to influence across departments.\n",
      "Demonstrate analytic curiosity and a desire to understand challenges to contribute to matrix team reviews and strategic discussions for insight discovery\n",
      "This role will be responsible for building, enhancing, and applying advanced analytics methods and capabilities to reveal powerful findings and potential insights from synthesized data.This role will apply natural language processing and text analytics capabilities to translate unstructured data (human language and voice such as Medical voice of customer) into key topics, context summaries, and sentiment for additional insight discovery.This role will appropriately translate unstructured data into structured data to integrate with other data and analyses for use with insight discovery.\n"
     ]
    }
   ],
   "source": [
    "# get job-description path and extract job-description text.\n",
    "job1 = driver.get(\"https://www.naukri.com/job-listings-required-data-scientist-nlp-axis-bank-6-months-contract-axis-bank-limited-kolkata-new-delhi-hyderabad-secunderabad-pune-chennai-bangalore-bengaluru-mumbai-all-areas-4-to-9-years-150321006568?src=jobsearchDesk&sid=16170188126296793&xp=1&px=1\")\n",
    "des1 = driver.find_element_by_xpath(\"//div[@class='clearboth description']\").text\n",
    "\n",
    "job2 = driver.get(\"https://www.naukri.com/job-listings-data-scientist-python-matlab-machine-learning-algorithms-wrackle-technologies-pvt-ltd-bangalore-bengaluru-3-to-8-years-160321901025?src=jobsearchDesk&sid=16170208384939764&xp=2&px=1\")\n",
    "des2 = driver.find_element_by_xpath(\"//div[@class='dang-inner-html']\").text\n",
    "\n",
    "job3 = driver.get(\"https://www.naukri.com/job-listings-principal-data-scientist-machine-deep-learning-nlp-tensorflow-fidius-advisory-bangalore-bengaluru-8-to-13-years-070720900498?src=jobsearchDesk&sid=16170208384939764&xp=3&px=1\")\n",
    "des3 = driver.find_element_by_xpath(\"//div[@class='dang-inner-html']\").text\n",
    "\n",
    "job4 = driver.get(\"https://www.naukri.com/job-listings-data-scientist-analyst-becton-dickinson-india-pvt-ltd-bangalore-bengaluru-5-to-10-years-220321002877?src=jobsearchDesk&sid=16170208384939764&xp=4&px=1\")\n",
    "des4 = driver.find_element_by_xpath(\"//div[@class='dang-inner-html']\").text\n",
    "\n",
    "job5 = driver.get(\"https://www.naukri.com/job-listings-opportunity-for-data-scientist-internship-bengaluru-corner-stone-solutions-bangalore-bengaluru-0-to-1-years-240620007489?src=jobsearchDesk&sid=16170215271562348&xp=5&px=1\")\n",
    "des5 = driver.find_element_by_xpath(\"//div[@class='dang-inner-html']\").text\n",
    "\n",
    "job6 = driver.get(\"https://www.naukri.com/job-listings-data-scientist-data-analyst-data-science-inspiration-manpower-consultancy-pvt-ltd-navi-mumbai-bangalore-bengaluru-6-to-11-years-250321005167?src=jobsearchDesk&sid=16170215271562348&xp=6&px=1\")\n",
    "des6 = driver.find_element_by_xpath(\"//div[@class='dang-inner-html']\").text\n",
    "\n",
    "job7 = driver.get(\"https://www.naukri.com/job-listings-data-scientist-senior-data-scientist-ganit-business-solutions-private-limited-hyderabad-secunderabad-pune-chennai-bangalore-bengaluru-mumbai-all-areas-4-to-8-years-290321001979?src=jobsearchDesk&sid=16170215271562348&xp=7&px=1\")\n",
    "des7 = driver.find_element_by_xpath(\"//div[@class='dang-inner-html']\").text\n",
    "\n",
    "job8 = driver.get(\"https://www.naukri.com/job-listings-senior-data-scientist-ces-it-ltd-cmmi-level-5-ces-ltd-kolkata-mumbai-hyderabad-secunderabad-pune-chennai-bangalore-bengaluru-delhi-ncr-2-to-7-years-151220006902?src=jobsearchDesk&sid=16176311302479903&xp=8&px=1\")\n",
    "des8 = driver.find_element_by_xpath(\"//div[@class='dang-inner-html']\").text\n",
    "\n",
    "job9 = driver.get(\"https://www.naukri.com/job-listings-senior-data-scientist-machine-vision-solutions-onx-software-systems-pvt-ltd-bangalore-bengaluru-5-to-9-years-230321001143?src=jobsearchDesk&sid=16170215271562348&xp=9&px=1\")\n",
    "des9 = driver.find_element_by_xpath(\"//div[@class='dang-inner-html']\").text\n",
    "\n",
    "job10 = driver.get(\"https://www.naukri.com/job-listings-global-medical-data-scientist-glaxosmithkline-pharmaceuticals-limited-bangalore-bengaluru-5-to-10-years-240321907599?src=jobsearchDesk&sid=16170215271562348&xp=10&px=1\")\n",
    "des10 = driver.find_element_by_xpath(\"//div[@class='clearboth description']\").text\n",
    "print(des10)"
   ]
  },
  {
   "cell_type": "code",
   "execution_count": 163,
   "metadata": {},
   "outputs": [
    {
     "name": "stdout",
     "output_type": "stream",
     "text": [
      "['Roles and Responsibilities - The bank generates a vast amount of data like customer data, logs from their financial products,transaction data that can be used in order to support decision making, together with unstructureddata, like social media data and customer emails etc. As the unstructured data and the technology toprocess it grows, there is a natural demand to tap the insights from this data.The Bank wants to classify customer emails into different issue buckets to act on them quickly. In thisproject the candidate has to new age DL algorithms to train supervised and unsupervisedalgorithms to achieve ~90% accuracy.Desired Candidate Profile2-8 years of relevant industry experience (NLP & Deep learning), with excellent mathematical, programming and problem-solving skills, as well as a passion for AI and researchThe candidate should be an expert at analysing large amounts of raw information to find patterns and extract valuable insights.Fluency in Python hands on relevant experienceExperience with NLP libraries like core NLP, spacy, genism, etcHigh-performance processing with robust analytic data pipelineFluency in at least one deep learning framework: PyTorch, TensorFlow / KerasAdvanced knowledge of the HuggingFace libraries (transformers and tokenizers)Perks and BenefitsWork from Home', 'Data Scientist - Data Mining/ Machine Learning/ Statistical AnalysisRequirements :- 3-9 years of strong experience in data mining, machine learning, and statistical analysis.- BS/ MS/ Ph.D. in Computer Science, Statistics, Applied Math, or related areas from Premier institutes ( only IITs / IISc / BITS / Top NITs or top US university should apply)- Ability to lead and deliver in a fast-paced start-up environment.- Fluency in tools such as Matlab, Python, etc.- Strong intuition for data and Keen aptitude on large scale data analysis- Excellent written and verbal communication skills.- Ability to collaborate across teams and strong interpersonal skills.', \"Job Description :- We are looking for a researcher who specializes in building personalization/recommender systems algorithm (ML APIs) for the applications mentioned above and work with our engineers to deploy them as scale.What you will do :- Apply your research expertise to build our ML-driven recommender system products, help us develop new solutions and unlock new directions, as well as analyse and optimise the systems we already. - You'll work closely with product teams and mentor them on best practices for modern ML, and keep the wider team informed on the state-of-the-art. In addition, you will be in a strategic position to influence future roadmaps for recommender system products.- Collaborate with a cross-functional agile team spanning user research, design, data science, product management, and engineering to build new product features that advance our mission to connect artists and fans in personalized and relevant ways.- Prototype new approaches and production-ize solutions at scale for our hundreds of thousands of active users. Help drive optimization, testing, and tools to improve quality.Requirements :- Master, Post-graduate or Ph.D. in computer science, machine learning, information retrieval, recommendation systems, natural language processing, statistics, math, engineering, operations research, or another quantitative discipline; or equivalent work experience.- Good theoretical grounding in core machine learning concepts and techniques.- Ability to perform comprehensive literature reviews and provide critical feedback on state-of-the-art solutions and how they may fit different operating constraints.- Experience with a number of ML techniques and frameworks, e.g. Natural Language Processing, Recommender Systems, sampling, linear regression, decision trees, SVMs, deep neural networks, etc.- Familiarity with one or more Deep learning software frameworks such as Tensorflow, PyTorch.\", 'Roles and Responsibilitiesob Description Summary:As a member of the BD Advanced Analytics team, the Data Scientist role will collect, interpret, and deploy predictive analytics and machine learning models to assist our business partners in delivering advanced data analytics solutions to address key strategic business initiatives. The primary focus being the development and deployment of actionable insights that have a positive impact on BD’s business operations.Job Description:Evaluating business requirements and developing compelling user stories in collaboration with business stakeholders across various functions and regionsCollecting, interpreting, preparing and modelling data to provide actionable insightsPrototyping advanced data analytics solutions for presentation to business partners and stakeholdersApplying predictive analytics and machine learning methods and techniques appropriately to address business requirementsProvide expertise to guide business stakeholders in identifying opportunities for the use of BD’s data assets for the purpose of advanced data analyticsWork closely with data engineering and DataOps peers to productionalize advanced data analytics use casesQualificationsMaster’s degree in STEM field or equivalent demonstrated work experienceExperience with Python, R, Hadoop, HIVE, SPARK, Jupyter and related advanced analytics / machine learning libraries (Scikitlearn, Tensorflow, Keras, )Minimum 2 years of relevant work experienceAbility to translate complex solutions to a non-technical audience (storytelling & visualization)Expertise in machine learning, neural networks, clustering, classification, regression and other common advanced analytics methods and techniquesMature competency for critical thinking, problem solving, working with ambiguity, communications and collaborationPreferredExperience with technologies related to data preparation, processing & optimization (e.g. Azure, HQL, SPARK SQL)Experience with data visualization tools (Power BI)Flexibility to accommodate meetings with international stakeholders in their respective time-zone', 'Location - Bangalore / BengaluruDuration- 6 MonthsResponsibilities and DutiesCreate innovative solutions using data across sales, health care and related fields for building object detection models, chatbots, classification models etc.Familiarity with deep learning algorithms and frameworks like Pytorch, Keras, TensorFlow.Good to go with NLP and NLTKDay-to-day responsibilities include use, customize and create algorithms for specific tasks in data science.Get exposed to and work on cutting-edge products based on ML and AI to create innovative industry solutions..Work on real-life projects involving Computer Vision, NLP and other AI techniques,Using innovative ideas to collect, curate or synthesize data.Model the problem into an ML/DL framework.Deploy models to real time staging servers.Flexibility in working independently and do needful research whenever required.Required Experience, Skills and QualificationsKnowledge of PythonKnowledge in libraries like OpenCV, Scikit Learn, NumPy etc.Understanding of different frameworks like Pytorch, TensorFlow, Keras etc.Knowledge on NLPGood Knowledge on OOP and programing in python adapting to requirementUnderstanding of awsUnderstanding of any annotation toolAbility to write robust and testable code.Strong knowledge in computer science fundamentals, algorithms, mathematics, linear algebra, probability and statistics.Strong communication skills.An analytical mind with problem-solving abilities.Degree in Computer Science, Mathematics, Computational Linguistics or similar field.Qualification:Looking for IIT, IIIT IISc, NIT, BIT & Equivalent colleges (Preferred)', 'Job descriptionJob Summary and Key ResponsibilitiesManage, architect, and analyze big data to build data driven business insights and high impact data models to generate significant business value. Create models and processes to collect, distill and interpret data with a view to aid better, more informed decision making. Examine and explore data from multiple disparate sources with the goal of discovering insights which in turn can provide competitive advantage for our stakeholders.The role involves but not limited to the following:Create insights from predictive statistical modeling, mathematical knowledge, tools, and techniques to solve complex problems and deliver valueCollaborate with Accenture teams to address business issues and influence change using strategy, industry, and analytical skillsDeliver large-scale programs that integrate processes with technology to help clients achieve high performanceMining and EDA of large datasets to assist in developing analytics solutionIndividual contributor and/or oversees a small work effortWork with minimal supervision on daily tasks and moderate level of instruction on new assignmentsKey SkillsMust HaveAnalytical skillsKnowledge of statistical techniques and machine learning algorithmsKnowledge of analysis tools like R, PythonAdvanced Excel, PowerPoint skillsAdvanced communication (written and oral) and strong interpersonal skillsAbility to work cross-culturallyGood to haveKnowledge on Google Cloud PlatformHuman Resources experienceAdditional Accenture HR systems experienceUnderstanding of Text analysis, VBA, Java, Python, .Net and visualization tools like Qliksense, Qlikview, Tableau will be an added advantageInterested CandidatesPlease Contact: Geethanjali9900044693hr1@inspirationmanpower.co.in', 'About Ganit IncFounded by senior industry experts, Ganit is the fastest-growing data science company in Chennai with offices in Bengaluru, Mumbai & New Jersey.Ganit has flipped the data science value chain as we do not start with a technique but for us, consumption comes first. With this philosophy, we have successfully scaled from being a small start-up to a 200 resource company with clients in the US, Singapore, Africa, UAE, and India.We are looking for experienced data enthusiasts who can make the data talk to them.What you will be doing.Understand business problems and translate business requirements into technical requirements.Conduct complex data analysis to ensure data quality & reliability i.e., make the data talk by extracting, preparing, and transforming it.Identify, develop and implement statistical techniques and algorithms to address business challenges and add value to the organization.Gather requirements and communicate findings in the form of a meaningful story with the Stakeholders.Build & implement data models using predictive modeling techniques. Interact with clients and provide support for queries and delivery adoption.Lead and mentor data analysts.What we are looking for:Apart from your love for data and ability to code even while sleeping you would need the following.Minimum of 04 years of experience in designing and delivery of data science solutions.You should have successful projects in Manufacturing in your kitty to show-off. (Experience on manufacturing analytics is a MUST)Deep understanding of various statistical techniques, mathematical models, and algorithms to start the conversation with the data in hand.Ability to choose the right model for the data and translate that into a code using R, Python, VBA, SQL, etc.Bachelors/Masters degree in Engineering/Technology orMBA from Tier-1 B School orMSc. in Statistics or MathematicsWhat is in it for you:Be a part of building the biggest brand in Data science.An opportunity to be a part of a young and energetic team with a strong pedigree.Work on awesome projects across industries and learn from the best in the industry, while growing at a hyper rate.', 'Roles and ResponsibilitiesMust have strong Python Programming SkillsStrong analytical & algorithm development skillsLogical and Analytical skills must be really strongMust have worked in DeepLearning Efforts - Especially computer vision.Must have experinece with Object Detection - Custom model training for Object detectionShould have experience with atleast one or more of these - Tensorflow, Keras, PyTorchPrimary Skills - Python + tensorflow - Keras / PyTorch, OpenCVPerks and BenefitsKindly share your resume to kandavelkumar.lakshmanan @cesltd.com', 'Senior Data Scientist (Machine Vision solutions)ONX is a Silicon Valley technology startup, bringing fresh minds and tools to the worldof Smart Buildings, Smart Infrastructure, Sustainability, architecture and construction.With a credible team from world renowned institutions, we are leading the way intransforming the way buildings and Infrastructure comes to life.Position SummaryExciting career opportunity in a Worldwide Engineering Organization, in designing andimplementing a new generation of products and solutions that are transformational innature. In this position, you will play a key role in designing and building a state-of-the-art AI system to modernize the Smart Buildings and Infrastructure space. Uniqueopportunity to work with some of the brightest minds in this space and create AIsolutions from ground up.Location: BangaloreData Scientist ResponsibilitiesIn this position, you will have a unique opportunity to use your Machine Vision and dataengineering skills to AI enable the smart construction industry.Analyze product requirements and come up with data science solutions.Identify and develop data engineering scripts (example: image processing)necessary to build training datasets.Build deep learning vision model(s), customize as required to meet therequirements.Write production quality python code for model development and as well as forinference.Ability to think out-of-the-box and implement custom loss functions andquantitative methods to increase accuracy of AI solutions.Take complete ownership of the solution in all phases - analysis, proof ofconcept, data engineering, model development, model tuning, and modelimplementation.Skills and Experience7+ years of experience in data scienceStrong Python skills with focus in data engineering and data analysisStrong understanding of machine learning models, model training, and hyperparameter tuning.Working knowledge of deep learning models, loss functions, and accuracymeasuresWorking knowledge of one deep learning framework(PyTorch/TensorFlow/Keras)Experience in using deep learning models solve vision problems (CNN,Pretrained models)Experience in image processing, OpenCV, inference optimizationHands-on proficiency with PyTorch/TensorFlow/KerasExperience with statistical regression, neural nets, deep learning, decision trees,SVM, ensembles is expected.Multi-Cloud experience and proficiency with providers AWS, GCP or AzureComfortable in working in a micro services environmentSelf-motivated, enthusiasm to build next generation AI systems.', \"This is an ideal role for an experienced candidate passionate about applying their Healthcare data science skills and wishing to grow their career towards finding critical solutions for unmet patient needs. It is a brand new role supporting the newly formed GSK md2i (Medical Data 2 Insights) organization.The Global (Medical Data to Insight) Data Scientist designs and develops advanced AI/ML models to Medical Insight Leads, Product teams and Data Analysts to help them translate medical data into actionable insights that drive decision making. The successful candidate uses Natural Language Processing (NLP) to enable the generation of insights from customer feedback and perspectives from a variety of unstructured sources e.g. medical voice of customer feedback, customer listening, feedback from surveys and research, forums, online communities, social media/publicly available information, call center voice, publications etc. He/she works closely with the data analysts as well as the ML production team to align their solutions with the functional and non-functional requirements elicited. The successful candidate is a self-starter team player who will become a member of a cross-functional team that brings together best in class Informatics, AI, engineering, medical, product and customer expertise to help md2i tackle challenges it is focused on.This role will provide YOU the opportunity to lead key activities to progress YOUR career. These responsibilities include some of the following:Building, enhancing, and applying advanced analytics methods and capabilities to reveal findings and potential insights from medical data.Apply natural language processing and text analytics capabilities to translate unstructured data into key topics, context summaries and sentiments for insight discovery.Focus on key findings and insights priorities in alignment with stakeholders' goals and business needs with proper validation techniques to build confidence in the resultsAppropriately train and maintain machine learning models for accuracy and relevanceStay on top of the latest external methods and approaches, current and emerging industry trends and advanced methods/best practicesApply analytics and business acumen to select methods fit for purpose that reveal customer patterns in the data that may spark additional data analysis or research for deeper customer insightProactively identify opportunities and apply advanced analytics methods aligned with and guided by medical prioritiesWe are looking for professionals with these required skills to achieve our goals:MA/MS/PhD in quantitative sciences in a Healthcare related field5+ years of experience in natural language processing and/or machine learning applied to healthcare-related problems.Proven track record of processing and deriving novel insights from big datasets for Medical or Life Science projects a plus.Expert programmer in Python and some experience coding in pySpark.Knowledge and routine exercise of SDLC best practices applicable to data science productization, i.e. code structure and documentation, frequent commits in Git, unit testing, continuous integration, etc.Experience in Microsoft Azure, SQL, Spark, Databricks, Jupyter, Neo4j and ElasticSearch/SOLR a plus.Experience in Life Sciences preferred.Experience in designing experiments to generate findings and gain insights from medical information sources e.g. medical voice of customer feedback, customer listening, feedback from surveys and research, forums, online communities, social media/publicly available information, call center voice, scientific publications etc preferredExcellent communicator, both verbal and written, with the ability to influence across departments.Demonstrate analytic curiosity and a desire to understand challenges to contribute to matrix team reviews and strategic discussions for insight discoveryThis role will be responsible for building, enhancing, and applying advanced analytics methods and capabilities to reveal powerful findings and potential insights from synthesized data.This role will apply natural language processing and text analytics capabilities to translate unstructured data (human language and voice such as Medical voice of customer) into key topics, context summaries, and sentiment for additional insight discovery.This role will appropriately translate unstructured data into structured data to integrate with other data and analyses for use with insight discovery.\"]\n"
     ]
    }
   ],
   "source": [
    "# clean text and append job-description in one variable\n",
    "descr=[]\n",
    "descr.append(des1.replace('\\n',\"\"))\n",
    "descr.append(des2.replace('\\n',\"\"))\n",
    "descr.append(des3.replace('\\n',\"\"))\n",
    "descr.append(des4.replace('\\n',\"\"))\n",
    "descr.append(des5.replace('\\n',\"\"))\n",
    "descr.append(des6.replace('\\n',\"\"))\n",
    "descr.append(des7.replace('\\n',\"\"))\n",
    "descr.append(des8.replace('\\n',\"\"))\n",
    "descr.append(des9.replace('\\n',\"\"))\n",
    "descr.append(des10.replace('\\n',\"\"))\n",
    "print(descr)"
   ]
  },
  {
   "cell_type": "code",
   "execution_count": 164,
   "metadata": {},
   "outputs": [],
   "source": [
    "# close all tab in driver\n",
    "driver.quit()"
   ]
  },
  {
   "cell_type": "code",
   "execution_count": 165,
   "metadata": {},
   "outputs": [
    {
     "data": {
      "text/html": [
       "<div>\n",
       "<style scoped>\n",
       "    .dataframe tbody tr th:only-of-type {\n",
       "        vertical-align: middle;\n",
       "    }\n",
       "\n",
       "    .dataframe tbody tr th {\n",
       "        vertical-align: top;\n",
       "    }\n",
       "\n",
       "    .dataframe thead th {\n",
       "        text-align: right;\n",
       "    }\n",
       "</style>\n",
       "<table border=\"1\" class=\"dataframe\">\n",
       "  <thead>\n",
       "    <tr style=\"text-align: right;\">\n",
       "      <th></th>\n",
       "      <th>index</th>\n",
       "      <th>job_titles</th>\n",
       "      <th>job-location</th>\n",
       "      <th>Company_name</th>\n",
       "      <th>job_description</th>\n",
       "    </tr>\n",
       "  </thead>\n",
       "  <tbody>\n",
       "    <tr>\n",
       "      <th>0</th>\n",
       "      <td>1</td>\n",
       "      <td>Data Scientist</td>\n",
       "      <td>Bangalore/Bengaluru</td>\n",
       "      <td>CronJ IT Technologies Private Limited</td>\n",
       "      <td>Roles and Responsibilities - The bank generate...</td>\n",
       "    </tr>\n",
       "    <tr>\n",
       "      <th>1</th>\n",
       "      <td>2</td>\n",
       "      <td>Opportunity For Data Scientist Internship - Be...</td>\n",
       "      <td>Bangalore/Bengaluru</td>\n",
       "      <td>Corner Stone Solutions</td>\n",
       "      <td>Data Scientist - Data Mining/ Machine Learning...</td>\n",
       "    </tr>\n",
       "    <tr>\n",
       "      <th>2</th>\n",
       "      <td>3</td>\n",
       "      <td>Data Scientist/ Analyst</td>\n",
       "      <td>Bangalore/Bengaluru</td>\n",
       "      <td>Becton Dickinson India Pvt. Ltd</td>\n",
       "      <td>Job Description :- We are looking for a resear...</td>\n",
       "    </tr>\n",
       "    <tr>\n",
       "      <th>3</th>\n",
       "      <td>4</td>\n",
       "      <td>Data Scientist - Machine Learning</td>\n",
       "      <td>Bangalore/Bengaluru</td>\n",
       "      <td>AugmatrixGo</td>\n",
       "      <td>Roles and Responsibilitiesob Description Summa...</td>\n",
       "    </tr>\n",
       "    <tr>\n",
       "      <th>4</th>\n",
       "      <td>5</td>\n",
       "      <td>Data Scientist || Data Analyst || Data science</td>\n",
       "      <td>Navi Mumbai, Bangalore/Bengaluru</td>\n",
       "      <td>Inspiration Manpower Consultancy Pvt. Ltd.</td>\n",
       "      <td>Location - Bangalore / BengaluruDuration- 6 Mo...</td>\n",
       "    </tr>\n",
       "    <tr>\n",
       "      <th>5</th>\n",
       "      <td>6</td>\n",
       "      <td>DBCG IND - GAMMA Senior Data Scientist</td>\n",
       "      <td>Mumbai, New Delhi, Chennai, Bangalore/Bengaluru</td>\n",
       "      <td>Boston Consulting Group</td>\n",
       "      <td>Job descriptionJob Summary and Key Responsibil...</td>\n",
       "    </tr>\n",
       "    <tr>\n",
       "      <th>6</th>\n",
       "      <td>7</td>\n",
       "      <td>Data Scientist/Senior Data Scientist</td>\n",
       "      <td>Hyderabad/Secunderabad, Pune, Chennai, Bangalo...</td>\n",
       "      <td>GANIT BUSINESS SOLUTIONS PRIVATE LIMITED</td>\n",
       "      <td>About Ganit IncFounded by senior industry expe...</td>\n",
       "    </tr>\n",
       "    <tr>\n",
       "      <th>7</th>\n",
       "      <td>8</td>\n",
       "      <td>Senior Data Scientist | CES IT LTD | CMMI Level 5</td>\n",
       "      <td>Kolkata, Mumbai, Hyderabad/Secunderabad, Pune,...</td>\n",
       "      <td>CES Ltd.</td>\n",
       "      <td>Roles and ResponsibilitiesMust have strong Pyt...</td>\n",
       "    </tr>\n",
       "    <tr>\n",
       "      <th>8</th>\n",
       "      <td>9</td>\n",
       "      <td>Global Medical Data Scientist</td>\n",
       "      <td>Bangalore/Bengaluru</td>\n",
       "      <td>GlaxoSmithKline Pharmaceuticals Limited</td>\n",
       "      <td>Senior Data Scientist (Machine Vision solution...</td>\n",
       "    </tr>\n",
       "    <tr>\n",
       "      <th>9</th>\n",
       "      <td>10</td>\n",
       "      <td>Associate Data Scientist - CRM &amp; Loyalty</td>\n",
       "      <td>Bangalore/Bengaluru</td>\n",
       "      <td>Shell India Markets Private Limited</td>\n",
       "      <td>This is an ideal role for an experienced candi...</td>\n",
       "    </tr>\n",
       "  </tbody>\n",
       "</table>\n",
       "</div>"
      ],
      "text/plain": [
       "   index                                         job_titles  \\\n",
       "0      1                                     Data Scientist   \n",
       "1      2  Opportunity For Data Scientist Internship - Be...   \n",
       "2      3                            Data Scientist/ Analyst   \n",
       "3      4                  Data Scientist - Machine Learning   \n",
       "4      5     Data Scientist || Data Analyst || Data science   \n",
       "5      6             DBCG IND - GAMMA Senior Data Scientist   \n",
       "6      7               Data Scientist/Senior Data Scientist   \n",
       "7      8  Senior Data Scientist | CES IT LTD | CMMI Level 5   \n",
       "8      9                      Global Medical Data Scientist   \n",
       "9     10           Associate Data Scientist - CRM & Loyalty   \n",
       "\n",
       "                                        job-location  \\\n",
       "0                                Bangalore/Bengaluru   \n",
       "1                                Bangalore/Bengaluru   \n",
       "2                                Bangalore/Bengaluru   \n",
       "3                                Bangalore/Bengaluru   \n",
       "4                   Navi Mumbai, Bangalore/Bengaluru   \n",
       "5    Mumbai, New Delhi, Chennai, Bangalore/Bengaluru   \n",
       "6  Hyderabad/Secunderabad, Pune, Chennai, Bangalo...   \n",
       "7  Kolkata, Mumbai, Hyderabad/Secunderabad, Pune,...   \n",
       "8                                Bangalore/Bengaluru   \n",
       "9                                Bangalore/Bengaluru   \n",
       "\n",
       "                                 Company_name  \\\n",
       "0       CronJ IT Technologies Private Limited   \n",
       "1                      Corner Stone Solutions   \n",
       "2             Becton Dickinson India Pvt. Ltd   \n",
       "3                                 AugmatrixGo   \n",
       "4  Inspiration Manpower Consultancy Pvt. Ltd.   \n",
       "5                     Boston Consulting Group   \n",
       "6    GANIT BUSINESS SOLUTIONS PRIVATE LIMITED   \n",
       "7                                    CES Ltd.   \n",
       "8     GlaxoSmithKline Pharmaceuticals Limited   \n",
       "9         Shell India Markets Private Limited   \n",
       "\n",
       "                                     job_description  \n",
       "0  Roles and Responsibilities - The bank generate...  \n",
       "1  Data Scientist - Data Mining/ Machine Learning...  \n",
       "2  Job Description :- We are looking for a resear...  \n",
       "3  Roles and Responsibilitiesob Description Summa...  \n",
       "4  Location - Bangalore / BengaluruDuration- 6 Mo...  \n",
       "5  Job descriptionJob Summary and Key Responsibil...  \n",
       "6  About Ganit IncFounded by senior industry expe...  \n",
       "7  Roles and ResponsibilitiesMust have strong Pyt...  \n",
       "8  Senior Data Scientist (Machine Vision solution...  \n",
       "9  This is an ideal role for an experienced candi...  "
      ]
     },
     "execution_count": 165,
     "metadata": {},
     "output_type": "execute_result"
    }
   ],
   "source": [
    "# create dataframe\n",
    "df=pd.DataFrame({})\n",
    "df['index'] = list(range(1,11))\n",
    "df['job_titles'] = titles\n",
    "df['job-location'] = locations\n",
    "df['Company_name'] = entities\n",
    "df['job_description'] = descr\n",
    "df"
   ]
  },
  {
   "cell_type": "markdown",
   "metadata": {},
   "source": [
    "#### Q3: In this question you have to scrape data using the filters available on the webpage.You have to scrape the job-title, job-location, company_name, experience_required."
   ]
  },
  {
   "cell_type": "code",
   "execution_count": 167,
   "metadata": {},
   "outputs": [],
   "source": [
    "# open chromedriver using path\n",
    "driver=webdriver.Chrome(\"I:\\Software//chromedriver.exe\")"
   ]
  },
  {
   "cell_type": "code",
   "execution_count": 168,
   "metadata": {},
   "outputs": [],
   "source": [
    "driver.get(\"https://www.naukri.com/\") # open url in driver\n",
    "\n",
    "driver.maximize_window() # maximize driver window\n",
    "\n",
    "# send job title(Data scientist) in “Skill,Designations,Companies” box\n",
    "job_title = driver.find_element_by_name(\"keyword\").send_keys(\"Data scientist\")\n",
    "\n",
    "# send job location(Delhi/NCR) in “Enter location” box\n",
    "job_location = driver.find_element_by_name(\"location\").send_keys(\"Delhi/NCR\")\n",
    "\n",
    "#Click on search button\n",
    "click = driver.find_element_by_xpath(\"//button[@class='btn']\").click()\n",
    "\n",
    "time.sleep(7)  # sleep code for 7 seconds"
   ]
  },
  {
   "cell_type": "code",
   "execution_count": 169,
   "metadata": {},
   "outputs": [],
   "source": [
    "filter_1 = driver.find_element_by_xpath(\"//span[@title='Delhi / NCR']\").click() # click on Delhi/NCR filterbox\n",
    "\n",
    "driver.implicitly_wait(10) # wait for open all elements of the page"
   ]
  },
  {
   "cell_type": "code",
   "execution_count": 170,
   "metadata": {},
   "outputs": [],
   "source": [
    "filter_2 = driver.find_element_by_xpath(\"//span[@title='3-6 Lakhs']\").click() # click on 3-6 Lakhs filterbox"
   ]
  },
  {
   "cell_type": "code",
   "execution_count": 171,
   "metadata": {},
   "outputs": [],
   "source": [
    "driver.find_element_by_id(\"block\").click() # remove popup"
   ]
  },
  {
   "cell_type": "code",
   "execution_count": 172,
   "metadata": {},
   "outputs": [
    {
     "name": "stdout",
     "output_type": "stream",
     "text": [
      "[<selenium.webdriver.remote.webelement.WebElement (session=\"f7fb2b95848dcad71efdfcb8fe5070e1\", element=\"2eb38b2f-f8fe-4cd6-bf21-958bd9fdb72e\")>, <selenium.webdriver.remote.webelement.WebElement (session=\"f7fb2b95848dcad71efdfcb8fe5070e1\", element=\"47a3ff7a-a376-43cf-adf5-524e2438ccca\")>, <selenium.webdriver.remote.webelement.WebElement (session=\"f7fb2b95848dcad71efdfcb8fe5070e1\", element=\"3db72311-2943-4fcf-af51-6fbaae18c5d9\")>, <selenium.webdriver.remote.webelement.WebElement (session=\"f7fb2b95848dcad71efdfcb8fe5070e1\", element=\"c651fe63-3c74-42ee-8da6-127560b42631\")>, <selenium.webdriver.remote.webelement.WebElement (session=\"f7fb2b95848dcad71efdfcb8fe5070e1\", element=\"c340bd4e-a108-486f-818d-54e5f41d8263\")>, <selenium.webdriver.remote.webelement.WebElement (session=\"f7fb2b95848dcad71efdfcb8fe5070e1\", element=\"f2b16f2d-8b68-432a-8952-6b37cf535a5f\")>, <selenium.webdriver.remote.webelement.WebElement (session=\"f7fb2b95848dcad71efdfcb8fe5070e1\", element=\"eb2c9c98-2b97-4964-a182-88d51afa05cf\")>, <selenium.webdriver.remote.webelement.WebElement (session=\"f7fb2b95848dcad71efdfcb8fe5070e1\", element=\"154249ec-9160-4430-94c7-6ed3e533ae36\")>, <selenium.webdriver.remote.webelement.WebElement (session=\"f7fb2b95848dcad71efdfcb8fe5070e1\", element=\"f8f77a7c-25a2-4dff-bdd8-96d91adf06cc\")>, <selenium.webdriver.remote.webelement.WebElement (session=\"f7fb2b95848dcad71efdfcb8fe5070e1\", element=\"e77a9da4-c5f5-4597-be2a-84a56d63e6d3\")>]\n",
      "[<selenium.webdriver.remote.webelement.WebElement (session=\"f7fb2b95848dcad71efdfcb8fe5070e1\", element=\"4a0325d6-eafa-4c81-941c-12a36277b346\")>, <selenium.webdriver.remote.webelement.WebElement (session=\"f7fb2b95848dcad71efdfcb8fe5070e1\", element=\"874dfacb-3586-4853-b74b-1ac78178bb56\")>, <selenium.webdriver.remote.webelement.WebElement (session=\"f7fb2b95848dcad71efdfcb8fe5070e1\", element=\"5666aafc-e849-4510-8e9b-fe850db65927\")>, <selenium.webdriver.remote.webelement.WebElement (session=\"f7fb2b95848dcad71efdfcb8fe5070e1\", element=\"1ecf6820-06c7-4edd-81cc-daf2e9a20330\")>, <selenium.webdriver.remote.webelement.WebElement (session=\"f7fb2b95848dcad71efdfcb8fe5070e1\", element=\"d6ba35a9-2a41-4d56-ad88-a51a8f9f679b\")>, <selenium.webdriver.remote.webelement.WebElement (session=\"f7fb2b95848dcad71efdfcb8fe5070e1\", element=\"fecea2d1-7899-4342-b9c8-b00d79ca6b63\")>, <selenium.webdriver.remote.webelement.WebElement (session=\"f7fb2b95848dcad71efdfcb8fe5070e1\", element=\"fccc8ba9-8f18-4e7e-bade-19001d982ad2\")>, <selenium.webdriver.remote.webelement.WebElement (session=\"f7fb2b95848dcad71efdfcb8fe5070e1\", element=\"95fce6e0-ca68-4425-9f26-2d2469dcbf0c\")>, <selenium.webdriver.remote.webelement.WebElement (session=\"f7fb2b95848dcad71efdfcb8fe5070e1\", element=\"5bc96253-644a-431e-813b-3302d395b8c0\")>, <selenium.webdriver.remote.webelement.WebElement (session=\"f7fb2b95848dcad71efdfcb8fe5070e1\", element=\"22ededfc-f97c-4953-89a1-9a912c03673c\")>]\n",
      "[<selenium.webdriver.remote.webelement.WebElement (session=\"f7fb2b95848dcad71efdfcb8fe5070e1\", element=\"7ca308ed-4104-4e7a-b8ea-54569e9d9d82\")>, <selenium.webdriver.remote.webelement.WebElement (session=\"f7fb2b95848dcad71efdfcb8fe5070e1\", element=\"a085292b-e5cb-494b-9c2d-a99e1355e7a9\")>, <selenium.webdriver.remote.webelement.WebElement (session=\"f7fb2b95848dcad71efdfcb8fe5070e1\", element=\"9ceab881-42db-4b35-bfa0-b11506fa8983\")>, <selenium.webdriver.remote.webelement.WebElement (session=\"f7fb2b95848dcad71efdfcb8fe5070e1\", element=\"3185e27c-29ee-4704-9914-f9a633191e9d\")>, <selenium.webdriver.remote.webelement.WebElement (session=\"f7fb2b95848dcad71efdfcb8fe5070e1\", element=\"5a73baa0-ebd7-498b-a77a-40f5260b28f2\")>, <selenium.webdriver.remote.webelement.WebElement (session=\"f7fb2b95848dcad71efdfcb8fe5070e1\", element=\"37de86f9-99b4-43ec-a465-c3601b7e9f32\")>, <selenium.webdriver.remote.webelement.WebElement (session=\"f7fb2b95848dcad71efdfcb8fe5070e1\", element=\"47901cd4-fa02-419d-b57f-df05738c3632\")>, <selenium.webdriver.remote.webelement.WebElement (session=\"f7fb2b95848dcad71efdfcb8fe5070e1\", element=\"1eb97b8d-7996-4602-89f0-8fc9e67125fc\")>, <selenium.webdriver.remote.webelement.WebElement (session=\"f7fb2b95848dcad71efdfcb8fe5070e1\", element=\"38bcb3af-c1b1-4b20-a690-538eaf49c9f2\")>, <selenium.webdriver.remote.webelement.WebElement (session=\"f7fb2b95848dcad71efdfcb8fe5070e1\", element=\"f708cf5b-d4a5-4a09-a407-608598214ef8\")>]\n"
     ]
    },
    {
     "data": {
      "text/plain": [
       "[<selenium.webdriver.remote.webelement.WebElement (session=\"f7fb2b95848dcad71efdfcb8fe5070e1\", element=\"6cf316cb-d214-4cab-b2dd-1d84a108744f\")>,\n",
       " <selenium.webdriver.remote.webelement.WebElement (session=\"f7fb2b95848dcad71efdfcb8fe5070e1\", element=\"adfae9bf-79a7-42a1-83cf-f4b38af008e2\")>,\n",
       " <selenium.webdriver.remote.webelement.WebElement (session=\"f7fb2b95848dcad71efdfcb8fe5070e1\", element=\"e7d3fb54-799b-405c-821a-85bddd0f77b5\")>,\n",
       " <selenium.webdriver.remote.webelement.WebElement (session=\"f7fb2b95848dcad71efdfcb8fe5070e1\", element=\"fef09031-ac16-47d4-8bf7-06abc11f7f31\")>,\n",
       " <selenium.webdriver.remote.webelement.WebElement (session=\"f7fb2b95848dcad71efdfcb8fe5070e1\", element=\"bc796b36-e209-43c2-a163-bd3c49c0408e\")>,\n",
       " <selenium.webdriver.remote.webelement.WebElement (session=\"f7fb2b95848dcad71efdfcb8fe5070e1\", element=\"603c82c5-30c8-4ce4-a54f-e9ebff031c57\")>,\n",
       " <selenium.webdriver.remote.webelement.WebElement (session=\"f7fb2b95848dcad71efdfcb8fe5070e1\", element=\"8ada68a7-07f1-4d9e-b5e0-b1618f0cf2bc\")>,\n",
       " <selenium.webdriver.remote.webelement.WebElement (session=\"f7fb2b95848dcad71efdfcb8fe5070e1\", element=\"6838fb7f-88e0-4040-a4d0-f8a2cb910f77\")>,\n",
       " <selenium.webdriver.remote.webelement.WebElement (session=\"f7fb2b95848dcad71efdfcb8fe5070e1\", element=\"88f9c362-4bde-4dec-9b07-9d982d684812\")>,\n",
       " <selenium.webdriver.remote.webelement.WebElement (session=\"f7fb2b95848dcad71efdfcb8fe5070e1\", element=\"477d8c06-22ca-4d80-bdaf-9d53a5f28723\")>]"
      ]
     },
     "execution_count": 172,
     "metadata": {},
     "output_type": "execute_result"
    }
   ],
   "source": [
    "# extract links of job titles\n",
    "job_titles = driver.find_elements_by_xpath(\"//a[@class='title fw500 ellipsis']\")\n",
    "print(job_titles[0:10])\n",
    "\n",
    "# extract links of job-locations\n",
    "location = driver.find_elements_by_xpath(\"//li[@class='fleft grey-text br2 placeHolderLi location']/span[1]\")\n",
    "print(location[0:10])\n",
    "\n",
    "# extract links of company name\n",
    "company = driver.find_elements_by_xpath(\"//a[@class='subTitle ellipsis fleft']\")\n",
    "print(company[0:10])\n",
    "\n",
    "# extract links of experience\n",
    "experience = driver.find_elements_by_xpath(\"//li[@class='fleft grey-text br2 placeHolderLi experience']/span[1]\")\n",
    "experience[0:10]"
   ]
  },
  {
   "cell_type": "code",
   "execution_count": 173,
   "metadata": {},
   "outputs": [
    {
     "name": "stdout",
     "output_type": "stream",
     "text": [
      "['Data Scientist/Data Analyst - Python/Machine Learning', 'Data Scientist', 'Data Scientist - Python & Machine Learning', 'Data Scientist - Python & Machine Learning', 'Data Scientist - Python / Machine Learning / Tableau / Power BI', 'Data Scientist - Python & Machine Learning', 'Hiring For Data Scientist', 'Required- Data Scientist (NLP)-Axis Bank - 6 months contract', 'Data Scientist - Python / Machine Learning / Tableau / Power BI', 'Data Scientist - Python & Machine Learning (ISO 20022)']\n",
      "['Mumbai, Ghaziabad', 'Ghaziabad, Faridabad, Delhi / NCR', 'Hyderabad/Secunderabad, Pune, Bangalore/Bengaluru, Delhi / NCR, Mumbai (All Areas)', 'Hyderabad/Secunderabad, Pune, Chennai, Bangalore/Bengaluru, Delhi / NCR, Mumbai (All Areas)', 'Mumbai, Hyderabad/Secunderabad, Bangalore/Bengaluru, Delhi / NCR', 'Hyderabad/Secunderabad, Bangalore/Bengaluru, Delhi / NCR, Mumbai (All Areas)', 'Gurgaon/Gurugram, Delhi / NCR', 'Kolkata, New Delhi, Hyderabad/Secunderabad, Pune, Chennai, Bangalore/Bengaluru, Mumbai (All Areas)', 'Hyderabad/Secunderabad, Bangalore/Bengaluru, Delhi / NCR', 'Hyderabad/Secunderabad, Bangalore/Bengaluru, Delhi / NCR']\n",
      "['Change leaders', 'Amity University', 'FUTURES AND CAREERS', 'FUTURES AND CAREERS', 'FUTURES AND CAREERS', 'FUTURES AND CAREERS', 'Max Bupa Health Insurance Company Limited', 'Axis Bank Limited', 'FUTURES AND CAREERS', 'FUTURES AND CAREERS']\n",
      "['5-10 Yrs', '6-8 Yrs', '2-7 Yrs', '2-7 Yrs', '3-8 Yrs', '2-7 Yrs', '1-6 Yrs', '4-9 Yrs', '3-8 Yrs', '3-8 Yrs']\n"
     ]
    }
   ],
   "source": [
    "# extract text from links\n",
    "titles = []\n",
    "for i in job_titles[0:10]:\n",
    "    titles.append(i.text)\n",
    "print(titles)\n",
    "\n",
    "locations=[]\n",
    "for j in location[0:10]:\n",
    "    locations.append(j.text)\n",
    "print(locations)\n",
    "\n",
    "entities = []\n",
    "for k in company[0:10]:\n",
    "    entities.append(k.text)\n",
    "print(entities)\n",
    "\n",
    "re_experience = []\n",
    "for l in experience[0:10]:\n",
    "    re_experience.append(l.text)\n",
    "print(re_experience)"
   ]
  },
  {
   "cell_type": "code",
   "execution_count": 174,
   "metadata": {},
   "outputs": [],
   "source": [
    "# close driver\n",
    "driver.close()"
   ]
  },
  {
   "cell_type": "code",
   "execution_count": 175,
   "metadata": {},
   "outputs": [
    {
     "data": {
      "text/html": [
       "<div>\n",
       "<style scoped>\n",
       "    .dataframe tbody tr th:only-of-type {\n",
       "        vertical-align: middle;\n",
       "    }\n",
       "\n",
       "    .dataframe tbody tr th {\n",
       "        vertical-align: top;\n",
       "    }\n",
       "\n",
       "    .dataframe thead th {\n",
       "        text-align: right;\n",
       "    }\n",
       "</style>\n",
       "<table border=\"1\" class=\"dataframe\">\n",
       "  <thead>\n",
       "    <tr style=\"text-align: right;\">\n",
       "      <th></th>\n",
       "      <th>Index</th>\n",
       "      <th>Job Titles</th>\n",
       "      <th>Job Location</th>\n",
       "      <th>Company Name</th>\n",
       "      <th>Experience required</th>\n",
       "    </tr>\n",
       "  </thead>\n",
       "  <tbody>\n",
       "    <tr>\n",
       "      <th>0</th>\n",
       "      <td>1</td>\n",
       "      <td>Data Scientist/Data Analyst - Python/Machine L...</td>\n",
       "      <td>Mumbai, Ghaziabad</td>\n",
       "      <td>Change leaders</td>\n",
       "      <td>5-10 Yrs</td>\n",
       "    </tr>\n",
       "    <tr>\n",
       "      <th>1</th>\n",
       "      <td>2</td>\n",
       "      <td>Data Scientist</td>\n",
       "      <td>Ghaziabad, Faridabad, Delhi / NCR</td>\n",
       "      <td>Amity University</td>\n",
       "      <td>6-8 Yrs</td>\n",
       "    </tr>\n",
       "    <tr>\n",
       "      <th>2</th>\n",
       "      <td>3</td>\n",
       "      <td>Data Scientist - Python &amp; Machine Learning</td>\n",
       "      <td>Hyderabad/Secunderabad, Pune, Bangalore/Bengal...</td>\n",
       "      <td>FUTURES AND CAREERS</td>\n",
       "      <td>2-7 Yrs</td>\n",
       "    </tr>\n",
       "    <tr>\n",
       "      <th>3</th>\n",
       "      <td>4</td>\n",
       "      <td>Data Scientist - Python &amp; Machine Learning</td>\n",
       "      <td>Hyderabad/Secunderabad, Pune, Chennai, Bangalo...</td>\n",
       "      <td>FUTURES AND CAREERS</td>\n",
       "      <td>2-7 Yrs</td>\n",
       "    </tr>\n",
       "    <tr>\n",
       "      <th>4</th>\n",
       "      <td>5</td>\n",
       "      <td>Data Scientist - Python / Machine Learning / T...</td>\n",
       "      <td>Mumbai, Hyderabad/Secunderabad, Bangalore/Beng...</td>\n",
       "      <td>FUTURES AND CAREERS</td>\n",
       "      <td>3-8 Yrs</td>\n",
       "    </tr>\n",
       "    <tr>\n",
       "      <th>5</th>\n",
       "      <td>6</td>\n",
       "      <td>Data Scientist - Python &amp; Machine Learning</td>\n",
       "      <td>Hyderabad/Secunderabad, Bangalore/Bengaluru, D...</td>\n",
       "      <td>FUTURES AND CAREERS</td>\n",
       "      <td>2-7 Yrs</td>\n",
       "    </tr>\n",
       "    <tr>\n",
       "      <th>6</th>\n",
       "      <td>7</td>\n",
       "      <td>Hiring For Data Scientist</td>\n",
       "      <td>Gurgaon/Gurugram, Delhi / NCR</td>\n",
       "      <td>Max Bupa Health Insurance Company Limited</td>\n",
       "      <td>1-6 Yrs</td>\n",
       "    </tr>\n",
       "    <tr>\n",
       "      <th>7</th>\n",
       "      <td>8</td>\n",
       "      <td>Required- Data Scientist (NLP)-Axis Bank - 6 m...</td>\n",
       "      <td>Kolkata, New Delhi, Hyderabad/Secunderabad, Pu...</td>\n",
       "      <td>Axis Bank Limited</td>\n",
       "      <td>4-9 Yrs</td>\n",
       "    </tr>\n",
       "    <tr>\n",
       "      <th>8</th>\n",
       "      <td>9</td>\n",
       "      <td>Data Scientist - Python / Machine Learning / T...</td>\n",
       "      <td>Hyderabad/Secunderabad, Bangalore/Bengaluru, D...</td>\n",
       "      <td>FUTURES AND CAREERS</td>\n",
       "      <td>3-8 Yrs</td>\n",
       "    </tr>\n",
       "    <tr>\n",
       "      <th>9</th>\n",
       "      <td>10</td>\n",
       "      <td>Data Scientist - Python &amp; Machine Learning (IS...</td>\n",
       "      <td>Hyderabad/Secunderabad, Bangalore/Bengaluru, D...</td>\n",
       "      <td>FUTURES AND CAREERS</td>\n",
       "      <td>3-8 Yrs</td>\n",
       "    </tr>\n",
       "  </tbody>\n",
       "</table>\n",
       "</div>"
      ],
      "text/plain": [
       "   Index                                         Job Titles  \\\n",
       "0      1  Data Scientist/Data Analyst - Python/Machine L...   \n",
       "1      2                                     Data Scientist   \n",
       "2      3         Data Scientist - Python & Machine Learning   \n",
       "3      4         Data Scientist - Python & Machine Learning   \n",
       "4      5  Data Scientist - Python / Machine Learning / T...   \n",
       "5      6         Data Scientist - Python & Machine Learning   \n",
       "6      7                          Hiring For Data Scientist   \n",
       "7      8  Required- Data Scientist (NLP)-Axis Bank - 6 m...   \n",
       "8      9  Data Scientist - Python / Machine Learning / T...   \n",
       "9     10  Data Scientist - Python & Machine Learning (IS...   \n",
       "\n",
       "                                        Job Location  \\\n",
       "0                                  Mumbai, Ghaziabad   \n",
       "1                  Ghaziabad, Faridabad, Delhi / NCR   \n",
       "2  Hyderabad/Secunderabad, Pune, Bangalore/Bengal...   \n",
       "3  Hyderabad/Secunderabad, Pune, Chennai, Bangalo...   \n",
       "4  Mumbai, Hyderabad/Secunderabad, Bangalore/Beng...   \n",
       "5  Hyderabad/Secunderabad, Bangalore/Bengaluru, D...   \n",
       "6                      Gurgaon/Gurugram, Delhi / NCR   \n",
       "7  Kolkata, New Delhi, Hyderabad/Secunderabad, Pu...   \n",
       "8  Hyderabad/Secunderabad, Bangalore/Bengaluru, D...   \n",
       "9  Hyderabad/Secunderabad, Bangalore/Bengaluru, D...   \n",
       "\n",
       "                                Company Name Experience required  \n",
       "0                             Change leaders            5-10 Yrs  \n",
       "1                           Amity University             6-8 Yrs  \n",
       "2                        FUTURES AND CAREERS             2-7 Yrs  \n",
       "3                        FUTURES AND CAREERS             2-7 Yrs  \n",
       "4                        FUTURES AND CAREERS             3-8 Yrs  \n",
       "5                        FUTURES AND CAREERS             2-7 Yrs  \n",
       "6  Max Bupa Health Insurance Company Limited             1-6 Yrs  \n",
       "7                          Axis Bank Limited             4-9 Yrs  \n",
       "8                        FUTURES AND CAREERS             3-8 Yrs  \n",
       "9                        FUTURES AND CAREERS             3-8 Yrs  "
      ]
     },
     "execution_count": 175,
     "metadata": {},
     "output_type": "execute_result"
    }
   ],
   "source": [
    "# create dataframe\n",
    "df = pd.DataFrame({})\n",
    "df[\"Index\"] = list(range(1,11))\n",
    "df[\"Job Titles\"]=titles\n",
    "df[\"Job Location\"]=locations\n",
    "df[\"Company Name\"]=entities\n",
    "df[\"Experience required\"]=re_experience\n",
    "df"
   ]
  },
  {
   "cell_type": "markdown",
   "metadata": {},
   "source": [
    "#### Q4: Write a python program to scrape data for first 10 job results for Data scientist Designation in Noida location. You have to scrape company_name, No. of days ago when job was posted, Rating of the company."
   ]
  },
  {
   "cell_type": "code",
   "execution_count": 74,
   "metadata": {},
   "outputs": [],
   "source": [
    "# open chromedriver using path\n",
    "driver=webdriver.Chrome(\"I:\\Software//chromedriver.exe\")"
   ]
  },
  {
   "cell_type": "code",
   "execution_count": 75,
   "metadata": {},
   "outputs": [],
   "source": [
    "driver.get(\"https://www.glassdoor.co.in/index.htm\") # open url in driver\n",
    "\n",
    "driver.maximize_window() # maximize driver window\n",
    "\n",
    "# click on job to get search window\n",
    "driver.find_element_by_xpath(\"//span[@class='sepafter pr-xxsm']/a[1]\").click()\n",
    "time.sleep(3)  # sleep code for 3 seconds\n",
    "\n",
    "# send job title(Data scientist) in “Job Titles,Keywords or Company” field\n",
    "job_title = driver.find_element_by_id(\"sc.keyword\").send_keys(\"Data scientist\")\n",
    "\n",
    "driver.find_element_by_id(\"sc.location\").clear() #clear already filled location box \n",
    "\n",
    "# send job location(Noida) in “location” field\n",
    "job_location = driver.find_element_by_id(\"sc.location\").send_keys(\"Noida\")\n",
    "\n",
    "#Click on search button\n",
    "click = driver.find_element_by_id(\"HeroSearchButton\").click()\n",
    "\n",
    "time.sleep(5)  # sleep code for 5 seconds"
   ]
  },
  {
   "cell_type": "code",
   "execution_count": 76,
   "metadata": {},
   "outputs": [
    {
     "name": "stdout",
     "output_type": "stream",
     "text": [
      "[<selenium.webdriver.remote.webelement.WebElement (session=\"013ca03693caa4ea7c7a0668f01e3530\", element=\"564a8973-f99f-45f4-a51c-e4729f8c47d0\")>, <selenium.webdriver.remote.webelement.WebElement (session=\"013ca03693caa4ea7c7a0668f01e3530\", element=\"629fc19e-e85f-4e73-b6f1-69a5925042e1\")>, <selenium.webdriver.remote.webelement.WebElement (session=\"013ca03693caa4ea7c7a0668f01e3530\", element=\"aee55da6-9e44-4f04-83d4-1809e7f7138d\")>, <selenium.webdriver.remote.webelement.WebElement (session=\"013ca03693caa4ea7c7a0668f01e3530\", element=\"35b5abd8-96d0-4248-9c0b-f1d9655dd9c5\")>, <selenium.webdriver.remote.webelement.WebElement (session=\"013ca03693caa4ea7c7a0668f01e3530\", element=\"24a7fea9-70b9-43c8-8652-9c2ce07ea70e\")>, <selenium.webdriver.remote.webelement.WebElement (session=\"013ca03693caa4ea7c7a0668f01e3530\", element=\"3e58eaa0-4d06-44cc-a168-b737278d8a75\")>, <selenium.webdriver.remote.webelement.WebElement (session=\"013ca03693caa4ea7c7a0668f01e3530\", element=\"64087c39-7d92-42e5-8755-ac00a40c7ba7\")>, <selenium.webdriver.remote.webelement.WebElement (session=\"013ca03693caa4ea7c7a0668f01e3530\", element=\"444ea391-c25d-4684-848e-7b4004f3dd34\")>, <selenium.webdriver.remote.webelement.WebElement (session=\"013ca03693caa4ea7c7a0668f01e3530\", element=\"a2bf2d27-0210-4121-95d8-15f4bef2954f\")>, <selenium.webdriver.remote.webelement.WebElement (session=\"013ca03693caa4ea7c7a0668f01e3530\", element=\"9072ea80-3a08-4669-882a-50d2ed66511e\")>]\n",
      "[<selenium.webdriver.remote.webelement.WebElement (session=\"013ca03693caa4ea7c7a0668f01e3530\", element=\"c3b9caa1-acbd-4b64-93f1-4c76ecab039c\")>, <selenium.webdriver.remote.webelement.WebElement (session=\"013ca03693caa4ea7c7a0668f01e3530\", element=\"200dd4de-4d27-4c14-8f30-9a952139fbae\")>, <selenium.webdriver.remote.webelement.WebElement (session=\"013ca03693caa4ea7c7a0668f01e3530\", element=\"2ee20e62-6527-4f61-ab1a-5f506e75da11\")>, <selenium.webdriver.remote.webelement.WebElement (session=\"013ca03693caa4ea7c7a0668f01e3530\", element=\"e672d50d-b617-4461-99fc-ac31c04f55bb\")>, <selenium.webdriver.remote.webelement.WebElement (session=\"013ca03693caa4ea7c7a0668f01e3530\", element=\"16b412fb-cefa-4327-963b-b7426e2c40f5\")>, <selenium.webdriver.remote.webelement.WebElement (session=\"013ca03693caa4ea7c7a0668f01e3530\", element=\"cdabb0f4-b9f5-427c-9160-1dec2ff0e6c9\")>, <selenium.webdriver.remote.webelement.WebElement (session=\"013ca03693caa4ea7c7a0668f01e3530\", element=\"c65d5015-d1db-4886-ac75-27f5c3ba91fe\")>, <selenium.webdriver.remote.webelement.WebElement (session=\"013ca03693caa4ea7c7a0668f01e3530\", element=\"fa861105-d94c-43cc-b178-4a84fd655d19\")>, <selenium.webdriver.remote.webelement.WebElement (session=\"013ca03693caa4ea7c7a0668f01e3530\", element=\"cb7a139a-969a-412a-b00a-96ff3830c480\")>, <selenium.webdriver.remote.webelement.WebElement (session=\"013ca03693caa4ea7c7a0668f01e3530\", element=\"589dd528-3393-4bdd-89d8-5c170d8438af\")>]\n",
      "[[<selenium.webdriver.remote.webelement.WebElement (session=\"013ca03693caa4ea7c7a0668f01e3530\", element=\"bae5e179-a275-462b-b741-6a46f9126c41\")>, <selenium.webdriver.remote.webelement.WebElement (session=\"013ca03693caa4ea7c7a0668f01e3530\", element=\"b3b2b8f4-709e-479b-92ea-1ecf7efdbd15\")>, <selenium.webdriver.remote.webelement.WebElement (session=\"013ca03693caa4ea7c7a0668f01e3530\", element=\"a4efc899-3bb6-4faf-bf31-cf3a5cbfbd60\")>, <selenium.webdriver.remote.webelement.WebElement (session=\"013ca03693caa4ea7c7a0668f01e3530\", element=\"80687273-5705-474d-8f12-a37186303a00\")>, <selenium.webdriver.remote.webelement.WebElement (session=\"013ca03693caa4ea7c7a0668f01e3530\", element=\"59237e9b-1af9-4a39-a0fa-f4536cf9c65a\")>, <selenium.webdriver.remote.webelement.WebElement (session=\"013ca03693caa4ea7c7a0668f01e3530\", element=\"285f68ea-e686-4e76-8823-087177164547\")>, <selenium.webdriver.remote.webelement.WebElement (session=\"013ca03693caa4ea7c7a0668f01e3530\", element=\"5b2d221e-b019-4845-84a1-d0c3fd0a047b\")>, <selenium.webdriver.remote.webelement.WebElement (session=\"013ca03693caa4ea7c7a0668f01e3530\", element=\"f4fa50ec-429d-4a51-92da-996419a6cc62\")>, <selenium.webdriver.remote.webelement.WebElement (session=\"013ca03693caa4ea7c7a0668f01e3530\", element=\"67b95cdc-3ace-492c-b0e3-6936cf9fad1a\")>, <selenium.webdriver.remote.webelement.WebElement (session=\"013ca03693caa4ea7c7a0668f01e3530\", element=\"b50d5b58-db8c-4a90-bd7f-c2196c1372c3\")>]]\n"
     ]
    }
   ],
   "source": [
    "# extract links of the company name\n",
    "company = driver.find_elements_by_xpath(\"//a[@class=' css-l2wjgv e1n63ojh0 jobLink']/span[1]\")\n",
    "print(company[0:10])\n",
    "\n",
    "# extract links no.of days ago when job was posted\n",
    "day = driver.find_elements_by_xpath(\"//div[@data-test='job-age']\")\n",
    "print(day[0:10])\n",
    "\n",
    "# extract links of rating of the company\n",
    "rating = driver.find_elements_by_xpath(\"//span[@class='css-19pjha7 e1cjmv6j1']\")\n",
    "print([rating[0:10]])"
   ]
  },
  {
   "cell_type": "code",
   "execution_count": 77,
   "metadata": {},
   "outputs": [
    {
     "name": "stdout",
     "output_type": "stream",
     "text": [
      "['Elsevier', 'Ericsson-Worldwide', 'Luxoft', 'dunnhumby', 'Biz2Credit Inc', 'Techlive', 'itForte', 'WishFin', 'Microsoft', 'Futures and Careers']\n",
      "['9d', '4d', '1d', '1d', '4d', '1d', '23d', '6d', '14d', '24h']\n",
      "['4.3', '4.1', '4.2', '4.2', '3.8', '5.0', '5.0', '3.8', '4.4', '4.5']\n"
     ]
    }
   ],
   "source": [
    "# extract text from links\n",
    "entities = []\n",
    "for i in company[0:10]:\n",
    "    entities.append(i.text)\n",
    "print(entities)\n",
    "\n",
    "days=[]\n",
    "for i in day[0:10]:\n",
    "    days.append(i.text)\n",
    "print(days\n",
    "     )\n",
    "ratings=[]\n",
    "for i in rating[0:10]:\n",
    "    ratings.append(i.text)\n",
    "print(ratings)"
   ]
  },
  {
   "cell_type": "code",
   "execution_count": 79,
   "metadata": {},
   "outputs": [],
   "source": [
    "# close driver\n",
    "driver.close()"
   ]
  },
  {
   "cell_type": "code",
   "execution_count": 78,
   "metadata": {},
   "outputs": [
    {
     "data": {
      "text/html": [
       "<div>\n",
       "<style scoped>\n",
       "    .dataframe tbody tr th:only-of-type {\n",
       "        vertical-align: middle;\n",
       "    }\n",
       "\n",
       "    .dataframe tbody tr th {\n",
       "        vertical-align: top;\n",
       "    }\n",
       "\n",
       "    .dataframe thead th {\n",
       "        text-align: right;\n",
       "    }\n",
       "</style>\n",
       "<table border=\"1\" class=\"dataframe\">\n",
       "  <thead>\n",
       "    <tr style=\"text-align: right;\">\n",
       "      <th></th>\n",
       "      <th>Index</th>\n",
       "      <th>Company_name</th>\n",
       "      <th>Days_ago_job_posted</th>\n",
       "      <th>Ratings</th>\n",
       "    </tr>\n",
       "  </thead>\n",
       "  <tbody>\n",
       "    <tr>\n",
       "      <th>0</th>\n",
       "      <td>1</td>\n",
       "      <td>Elsevier</td>\n",
       "      <td>9d</td>\n",
       "      <td>4.3</td>\n",
       "    </tr>\n",
       "    <tr>\n",
       "      <th>1</th>\n",
       "      <td>2</td>\n",
       "      <td>Ericsson-Worldwide</td>\n",
       "      <td>4d</td>\n",
       "      <td>4.1</td>\n",
       "    </tr>\n",
       "    <tr>\n",
       "      <th>2</th>\n",
       "      <td>3</td>\n",
       "      <td>Luxoft</td>\n",
       "      <td>1d</td>\n",
       "      <td>4.2</td>\n",
       "    </tr>\n",
       "    <tr>\n",
       "      <th>3</th>\n",
       "      <td>4</td>\n",
       "      <td>dunnhumby</td>\n",
       "      <td>1d</td>\n",
       "      <td>4.2</td>\n",
       "    </tr>\n",
       "    <tr>\n",
       "      <th>4</th>\n",
       "      <td>5</td>\n",
       "      <td>Biz2Credit Inc</td>\n",
       "      <td>4d</td>\n",
       "      <td>3.8</td>\n",
       "    </tr>\n",
       "    <tr>\n",
       "      <th>5</th>\n",
       "      <td>6</td>\n",
       "      <td>Techlive</td>\n",
       "      <td>1d</td>\n",
       "      <td>5.0</td>\n",
       "    </tr>\n",
       "    <tr>\n",
       "      <th>6</th>\n",
       "      <td>7</td>\n",
       "      <td>itForte</td>\n",
       "      <td>23d</td>\n",
       "      <td>5.0</td>\n",
       "    </tr>\n",
       "    <tr>\n",
       "      <th>7</th>\n",
       "      <td>8</td>\n",
       "      <td>WishFin</td>\n",
       "      <td>6d</td>\n",
       "      <td>3.8</td>\n",
       "    </tr>\n",
       "    <tr>\n",
       "      <th>8</th>\n",
       "      <td>9</td>\n",
       "      <td>Microsoft</td>\n",
       "      <td>14d</td>\n",
       "      <td>4.4</td>\n",
       "    </tr>\n",
       "    <tr>\n",
       "      <th>9</th>\n",
       "      <td>10</td>\n",
       "      <td>Futures and Careers</td>\n",
       "      <td>24h</td>\n",
       "      <td>4.5</td>\n",
       "    </tr>\n",
       "  </tbody>\n",
       "</table>\n",
       "</div>"
      ],
      "text/plain": [
       "   Index         Company_name Days_ago_job_posted Ratings\n",
       "0      1             Elsevier                  9d     4.3\n",
       "1      2   Ericsson-Worldwide                  4d     4.1\n",
       "2      3               Luxoft                  1d     4.2\n",
       "3      4            dunnhumby                  1d     4.2\n",
       "4      5       Biz2Credit Inc                  4d     3.8\n",
       "5      6             Techlive                  1d     5.0\n",
       "6      7              itForte                 23d     5.0\n",
       "7      8              WishFin                  6d     3.8\n",
       "8      9            Microsoft                 14d     4.4\n",
       "9     10  Futures and Careers                 24h     4.5"
      ]
     },
     "execution_count": 78,
     "metadata": {},
     "output_type": "execute_result"
    }
   ],
   "source": [
    "df=pd.DataFrame({})\n",
    "df['Index'] = list(range(1,11))\n",
    "df['Company_name'] = entities\n",
    "df['Days_ago_job_posted'] = days\n",
    "df['Ratings'] = ratings\n",
    "df"
   ]
  },
  {
   "cell_type": "markdown",
   "metadata": {},
   "source": [
    "#### Q5: Write a python program to scrape the salary data for Data Scientist designation in Noida location.you have to scrape Company name, Number of salaries, Average salary, Min salary, Max Salary."
   ]
  },
  {
   "cell_type": "code",
   "execution_count": 101,
   "metadata": {},
   "outputs": [],
   "source": [
    "# open chromedriver using path\n",
    "driver=webdriver.Chrome(\"I:\\Software//chromedriver.exe\")"
   ]
  },
  {
   "cell_type": "code",
   "execution_count": 102,
   "metadata": {},
   "outputs": [],
   "source": [
    "driver.get(\"https://www.glassdoor.co.in/Salaries/index.htm\") # open url in driver\n",
    "\n",
    "driver.maximize_window() # maximize driver window\n",
    "\n",
    "# send job title(Data scientist) in “Job Title or Company” field\n",
    "job_title = driver.find_element_by_id(\"KeywordSearch\").send_keys(\"Data Scientist\")\n",
    "\n",
    "driver.find_element_by_id(\"LocationSearch\").clear() #clear already filled location box \n",
    "\n",
    "# send job location(Noida) in “location” field\n",
    "job_location = driver.find_element_by_id(\"LocationSearch\").send_keys(\"Noida\")\n",
    "\n",
    "#Click on search icon\n",
    "click = driver.find_element_by_id(\"HeroSearchButton\").click()\n",
    "\n",
    "time.sleep(5)  # sleep code for 5 seconds"
   ]
  },
  {
   "cell_type": "code",
   "execution_count": 103,
   "metadata": {},
   "outputs": [
    {
     "name": "stdout",
     "output_type": "stream",
     "text": [
      "[<selenium.webdriver.remote.webelement.WebElement (session=\"c5811ce13cd7c8794a3f029e442ed514\", element=\"df079b55-cf55-46b2-8772-97511c2438c6\")>, <selenium.webdriver.remote.webelement.WebElement (session=\"c5811ce13cd7c8794a3f029e442ed514\", element=\"91944f10-3dc7-4365-9d4c-c6197eea00a0\")>, <selenium.webdriver.remote.webelement.WebElement (session=\"c5811ce13cd7c8794a3f029e442ed514\", element=\"6c850115-c89c-4d09-819f-f30b632229c4\")>, <selenium.webdriver.remote.webelement.WebElement (session=\"c5811ce13cd7c8794a3f029e442ed514\", element=\"43c17f5d-ead0-450e-a73e-508a18fcdba0\")>, <selenium.webdriver.remote.webelement.WebElement (session=\"c5811ce13cd7c8794a3f029e442ed514\", element=\"3cf9cdd0-2c2d-480d-b14e-eedea842568d\")>, <selenium.webdriver.remote.webelement.WebElement (session=\"c5811ce13cd7c8794a3f029e442ed514\", element=\"855ce623-f261-44de-8fd7-fbe39683f9bc\")>, <selenium.webdriver.remote.webelement.WebElement (session=\"c5811ce13cd7c8794a3f029e442ed514\", element=\"a47c2ea9-d892-4b61-a012-26c5144122fe\")>, <selenium.webdriver.remote.webelement.WebElement (session=\"c5811ce13cd7c8794a3f029e442ed514\", element=\"eccbfeab-2430-40cb-be6c-8d5cfb162b2b\")>, <selenium.webdriver.remote.webelement.WebElement (session=\"c5811ce13cd7c8794a3f029e442ed514\", element=\"803fc141-0231-4117-bd3d-f0d889065d13\")>, <selenium.webdriver.remote.webelement.WebElement (session=\"c5811ce13cd7c8794a3f029e442ed514\", element=\"09844777-b726-49d9-8ceb-8bf5be94d04e\")>]\n",
      "[<selenium.webdriver.remote.webelement.WebElement (session=\"c5811ce13cd7c8794a3f029e442ed514\", element=\"6e25f7bd-bb35-4227-bbcf-2dfd7e1d8515\")>, <selenium.webdriver.remote.webelement.WebElement (session=\"c5811ce13cd7c8794a3f029e442ed514\", element=\"66321bab-4814-414b-9fdf-a6bf70736584\")>, <selenium.webdriver.remote.webelement.WebElement (session=\"c5811ce13cd7c8794a3f029e442ed514\", element=\"d44f9421-5b16-4d25-93b5-ad9fbe813eee\")>, <selenium.webdriver.remote.webelement.WebElement (session=\"c5811ce13cd7c8794a3f029e442ed514\", element=\"82b828aa-5087-4be6-ad5f-a515a8934b30\")>, <selenium.webdriver.remote.webelement.WebElement (session=\"c5811ce13cd7c8794a3f029e442ed514\", element=\"bdfc4468-2df1-4e1a-be69-a3de2ce06aa5\")>, <selenium.webdriver.remote.webelement.WebElement (session=\"c5811ce13cd7c8794a3f029e442ed514\", element=\"b802afa8-3f88-4ead-8c1e-dd56759d809a\")>, <selenium.webdriver.remote.webelement.WebElement (session=\"c5811ce13cd7c8794a3f029e442ed514\", element=\"1baa5d50-984c-4abd-ac2f-47ba75b2800a\")>, <selenium.webdriver.remote.webelement.WebElement (session=\"c5811ce13cd7c8794a3f029e442ed514\", element=\"a54592bb-a913-4b51-a3ac-214313d70c5e\")>, <selenium.webdriver.remote.webelement.WebElement (session=\"c5811ce13cd7c8794a3f029e442ed514\", element=\"867c25f9-f16c-43e5-8e90-5b2fb12fa8e3\")>, <selenium.webdriver.remote.webelement.WebElement (session=\"c5811ce13cd7c8794a3f029e442ed514\", element=\"84973755-29f0-4f85-9aa2-76a68887cf4b\")>]\n",
      "[<selenium.webdriver.remote.webelement.WebElement (session=\"c5811ce13cd7c8794a3f029e442ed514\", element=\"d3b66ab4-4697-4794-90a9-2c6834bc7eec\")>, <selenium.webdriver.remote.webelement.WebElement (session=\"c5811ce13cd7c8794a3f029e442ed514\", element=\"06ad9937-6567-4d93-b4ba-45f155f7ef91\")>, <selenium.webdriver.remote.webelement.WebElement (session=\"c5811ce13cd7c8794a3f029e442ed514\", element=\"22a1f929-1b57-42b8-9f4c-2279fa773717\")>, <selenium.webdriver.remote.webelement.WebElement (session=\"c5811ce13cd7c8794a3f029e442ed514\", element=\"fbeab4be-809d-4ba0-9808-6a62e380301c\")>, <selenium.webdriver.remote.webelement.WebElement (session=\"c5811ce13cd7c8794a3f029e442ed514\", element=\"e16d19a5-846c-4528-bc5c-4f7277ae9164\")>, <selenium.webdriver.remote.webelement.WebElement (session=\"c5811ce13cd7c8794a3f029e442ed514\", element=\"a865a598-f966-4666-804d-09f62a570c0a\")>, <selenium.webdriver.remote.webelement.WebElement (session=\"c5811ce13cd7c8794a3f029e442ed514\", element=\"61a23a1b-0788-47e4-afe2-566703806580\")>, <selenium.webdriver.remote.webelement.WebElement (session=\"c5811ce13cd7c8794a3f029e442ed514\", element=\"bf9cf8fd-fd78-41a4-9a93-7e98631831a2\")>, <selenium.webdriver.remote.webelement.WebElement (session=\"c5811ce13cd7c8794a3f029e442ed514\", element=\"c952301b-a3b9-48ae-8359-c24757a84443\")>, <selenium.webdriver.remote.webelement.WebElement (session=\"c5811ce13cd7c8794a3f029e442ed514\", element=\"d8cf4faf-3da1-43e3-bb07-05d0461cd960\")>]\n",
      "[<selenium.webdriver.remote.webelement.WebElement (session=\"c5811ce13cd7c8794a3f029e442ed514\", element=\"ee4f3208-2c64-4657-8e76-7276a54aaf6a\")>, <selenium.webdriver.remote.webelement.WebElement (session=\"c5811ce13cd7c8794a3f029e442ed514\", element=\"8dbb2be6-ac78-4775-8f72-ad9683f5c709\")>, <selenium.webdriver.remote.webelement.WebElement (session=\"c5811ce13cd7c8794a3f029e442ed514\", element=\"c49fbcd9-9384-4a47-a3d9-db9ceceec3b4\")>, <selenium.webdriver.remote.webelement.WebElement (session=\"c5811ce13cd7c8794a3f029e442ed514\", element=\"b8dcc8d1-d1b6-46bf-b8eb-5f4785e97ff7\")>, <selenium.webdriver.remote.webelement.WebElement (session=\"c5811ce13cd7c8794a3f029e442ed514\", element=\"153324e9-a6bc-48d7-935c-7d196f8691e7\")>, <selenium.webdriver.remote.webelement.WebElement (session=\"c5811ce13cd7c8794a3f029e442ed514\", element=\"ad291fc3-2726-4632-b3c8-646f9e40d06d\")>, <selenium.webdriver.remote.webelement.WebElement (session=\"c5811ce13cd7c8794a3f029e442ed514\", element=\"0b7ecf09-fa46-407e-b6b0-13ed46895889\")>, <selenium.webdriver.remote.webelement.WebElement (session=\"c5811ce13cd7c8794a3f029e442ed514\", element=\"668408cb-1ada-4703-bf43-89ff308afb4a\")>, <selenium.webdriver.remote.webelement.WebElement (session=\"c5811ce13cd7c8794a3f029e442ed514\", element=\"2db88377-5dd2-4f83-a596-0aa3f53ca9f3\")>, <selenium.webdriver.remote.webelement.WebElement (session=\"c5811ce13cd7c8794a3f029e442ed514\", element=\"5f2a6a4f-0486-4b5d-839c-c68904e79d69\")>]\n",
      "[<selenium.webdriver.remote.webelement.WebElement (session=\"c5811ce13cd7c8794a3f029e442ed514\", element=\"51091d5a-5b21-4c96-bd2e-2dbfcc405bf7\")>, <selenium.webdriver.remote.webelement.WebElement (session=\"c5811ce13cd7c8794a3f029e442ed514\", element=\"c7cfa46a-ca54-41d3-9eb4-2d02fe0d9edc\")>, <selenium.webdriver.remote.webelement.WebElement (session=\"c5811ce13cd7c8794a3f029e442ed514\", element=\"86f42a8d-64f6-4e94-b78c-a4c4268481de\")>, <selenium.webdriver.remote.webelement.WebElement (session=\"c5811ce13cd7c8794a3f029e442ed514\", element=\"2512853f-95c4-4424-a01d-36293b1ca6ac\")>, <selenium.webdriver.remote.webelement.WebElement (session=\"c5811ce13cd7c8794a3f029e442ed514\", element=\"9c7db97f-8823-4703-8813-3c2fa5ac7015\")>, <selenium.webdriver.remote.webelement.WebElement (session=\"c5811ce13cd7c8794a3f029e442ed514\", element=\"09f3cf7e-e00d-4cec-952a-141602439f7f\")>, <selenium.webdriver.remote.webelement.WebElement (session=\"c5811ce13cd7c8794a3f029e442ed514\", element=\"25831557-063c-4e43-880a-d5ca5ae8fd50\")>, <selenium.webdriver.remote.webelement.WebElement (session=\"c5811ce13cd7c8794a3f029e442ed514\", element=\"f183bf46-db5a-4f44-9dbb-2fce7f1f274a\")>, <selenium.webdriver.remote.webelement.WebElement (session=\"c5811ce13cd7c8794a3f029e442ed514\", element=\"abce95c0-81c2-465e-b7a2-848fb15f812f\")>, <selenium.webdriver.remote.webelement.WebElement (session=\"c5811ce13cd7c8794a3f029e442ed514\", element=\"a8a53e58-8746-44d7-a38e-54915882e950\")>]\n"
     ]
    }
   ],
   "source": [
    "# extract links of company name\n",
    "company = driver.find_elements_by_xpath(\"//div[@data-test='job-info']/p[2]\")\n",
    "print(company[0:10])\n",
    "\n",
    "#  extract links of number of salaries\n",
    "no_salary = driver.find_elements_by_xpath(\"//p[@class='css-1uyte9r css-1kuy7z7 m-0 ']\")\n",
    "print(no_salary[0:10])\n",
    "\n",
    "# extract links of average salary\n",
    "avg_salary = driver.find_elements_by_xpath(\"//div[@class='col-2 d-none d-md-flex flex-row justify-content-end']\")\n",
    "print(avg_salary[0:10])\n",
    "\n",
    "# extract links of minimum salary\n",
    "min_salary = driver.find_elements_by_xpath(\"//div[@class='common__RangeBarStyle__values d-flex justify-content-between ']/span[1]\")\n",
    "print(min_salary[0:10])\n",
    "\n",
    "# extract links of maximum salary\n",
    "max_salary = driver.find_elements_by_xpath(\"//div[@class='common__RangeBarStyle__values d-flex justify-content-between ']/span[2]\")\n",
    "print(max_salary[0:10])"
   ]
  },
  {
   "cell_type": "code",
   "execution_count": 104,
   "metadata": {},
   "outputs": [
    {
     "name": "stdout",
     "output_type": "stream",
     "text": [
      "['Tata Consultancy Services', 'Accenture', 'Delhivery', 'IBM', 'Ericsson-Worldwide', 'UnitedHealth Group', 'Valiance Solutions', 'Innovaccer', 'EXL Service', 'Cognizant Technology Solutions']\n",
      "['14 salaries', '14 salaries', '14 salaries', '13 salaries', '12 salaries', '10 salaries', '9 salaries', '8 salaries', '7 salaries', '6 salaries']\n",
      "['₹ 6,01,000/yr', '₹ 11,51,207/yr', '₹ 12,34,207/yr', '₹ 7,63,825/yr', '₹ 7,32,209/yr', '₹ 13,88,910/yr', '₹ 8,18,515/yr', '₹ 12,01,403/yr', '₹ 11,90,000/yr', '₹ 10,11,517/yr']\n",
      "['₹336L', '₹579L', '₹452L', '₹589L', '₹350L', '₹1,050L', '₹504L', '₹623L', '₹578L', '₹796L']\n",
      "['₹1,080L', '₹2,222L', '₹11,669L', '₹2,741L', '₹1,619L', '₹1,500L', '₹1,471L', '₹1,702L', '₹1,500L', '₹1,268L']\n"
     ]
    }
   ],
   "source": [
    "# extract text from links\n",
    "company_name = []\n",
    "for i in company[0:10]:\n",
    "    company_name.append(i.text)\n",
    "print(company_name)\n",
    "\n",
    "n_salary = []\n",
    "for j in no_salary[0:10]:\n",
    "    n_salary.append(j.text)\n",
    "print(n_salary)\n",
    "\n",
    "Avg_salary=[]\n",
    "for k in avg_salary[0:10]:\n",
    "    Avg_salary.append(k.text.replace(\"\\n\",\"\"))\n",
    "print(Avg_salary)\n",
    "\n",
    "minsalary=[]\n",
    "for l in min_salary[0:10]:\n",
    "    minsalary.append(l.text)\n",
    "print(minsalary)\n",
    "\n",
    "maxsalary=[]\n",
    "for m in max_salary[0:10]:\n",
    "    maxsalary.append(m.text)\n",
    "print(maxsalary)"
   ]
  },
  {
   "cell_type": "code",
   "execution_count": 105,
   "metadata": {},
   "outputs": [
    {
     "data": {
      "text/html": [
       "<div>\n",
       "<style scoped>\n",
       "    .dataframe tbody tr th:only-of-type {\n",
       "        vertical-align: middle;\n",
       "    }\n",
       "\n",
       "    .dataframe tbody tr th {\n",
       "        vertical-align: top;\n",
       "    }\n",
       "\n",
       "    .dataframe thead th {\n",
       "        text-align: right;\n",
       "    }\n",
       "</style>\n",
       "<table border=\"1\" class=\"dataframe\">\n",
       "  <thead>\n",
       "    <tr style=\"text-align: right;\">\n",
       "      <th></th>\n",
       "      <th>Index</th>\n",
       "      <th>Company_name</th>\n",
       "      <th>Number_of_salaries</th>\n",
       "      <th>Average_salary</th>\n",
       "      <th>Minimum_salary</th>\n",
       "      <th>Maximum_salary</th>\n",
       "    </tr>\n",
       "  </thead>\n",
       "  <tbody>\n",
       "    <tr>\n",
       "      <th>0</th>\n",
       "      <td>1</td>\n",
       "      <td>Tata Consultancy Services</td>\n",
       "      <td>14 salaries</td>\n",
       "      <td>₹ 6,01,000/yr</td>\n",
       "      <td>₹336L</td>\n",
       "      <td>₹1,080L</td>\n",
       "    </tr>\n",
       "    <tr>\n",
       "      <th>1</th>\n",
       "      <td>2</td>\n",
       "      <td>Accenture</td>\n",
       "      <td>14 salaries</td>\n",
       "      <td>₹ 11,51,207/yr</td>\n",
       "      <td>₹579L</td>\n",
       "      <td>₹2,222L</td>\n",
       "    </tr>\n",
       "    <tr>\n",
       "      <th>2</th>\n",
       "      <td>3</td>\n",
       "      <td>Delhivery</td>\n",
       "      <td>14 salaries</td>\n",
       "      <td>₹ 12,34,207/yr</td>\n",
       "      <td>₹452L</td>\n",
       "      <td>₹11,669L</td>\n",
       "    </tr>\n",
       "    <tr>\n",
       "      <th>3</th>\n",
       "      <td>4</td>\n",
       "      <td>IBM</td>\n",
       "      <td>13 salaries</td>\n",
       "      <td>₹ 7,63,825/yr</td>\n",
       "      <td>₹589L</td>\n",
       "      <td>₹2,741L</td>\n",
       "    </tr>\n",
       "    <tr>\n",
       "      <th>4</th>\n",
       "      <td>5</td>\n",
       "      <td>Ericsson-Worldwide</td>\n",
       "      <td>12 salaries</td>\n",
       "      <td>₹ 7,32,209/yr</td>\n",
       "      <td>₹350L</td>\n",
       "      <td>₹1,619L</td>\n",
       "    </tr>\n",
       "    <tr>\n",
       "      <th>5</th>\n",
       "      <td>6</td>\n",
       "      <td>UnitedHealth Group</td>\n",
       "      <td>10 salaries</td>\n",
       "      <td>₹ 13,88,910/yr</td>\n",
       "      <td>₹1,050L</td>\n",
       "      <td>₹1,500L</td>\n",
       "    </tr>\n",
       "    <tr>\n",
       "      <th>6</th>\n",
       "      <td>7</td>\n",
       "      <td>Valiance Solutions</td>\n",
       "      <td>9 salaries</td>\n",
       "      <td>₹ 8,18,515/yr</td>\n",
       "      <td>₹504L</td>\n",
       "      <td>₹1,471L</td>\n",
       "    </tr>\n",
       "    <tr>\n",
       "      <th>7</th>\n",
       "      <td>8</td>\n",
       "      <td>Innovaccer</td>\n",
       "      <td>8 salaries</td>\n",
       "      <td>₹ 12,01,403/yr</td>\n",
       "      <td>₹623L</td>\n",
       "      <td>₹1,702L</td>\n",
       "    </tr>\n",
       "    <tr>\n",
       "      <th>8</th>\n",
       "      <td>9</td>\n",
       "      <td>EXL Service</td>\n",
       "      <td>7 salaries</td>\n",
       "      <td>₹ 11,90,000/yr</td>\n",
       "      <td>₹578L</td>\n",
       "      <td>₹1,500L</td>\n",
       "    </tr>\n",
       "    <tr>\n",
       "      <th>9</th>\n",
       "      <td>10</td>\n",
       "      <td>Cognizant Technology Solutions</td>\n",
       "      <td>6 salaries</td>\n",
       "      <td>₹ 10,11,517/yr</td>\n",
       "      <td>₹796L</td>\n",
       "      <td>₹1,268L</td>\n",
       "    </tr>\n",
       "  </tbody>\n",
       "</table>\n",
       "</div>"
      ],
      "text/plain": [
       "   Index                    Company_name Number_of_salaries  Average_salary  \\\n",
       "0      1       Tata Consultancy Services        14 salaries   ₹ 6,01,000/yr   \n",
       "1      2                       Accenture        14 salaries  ₹ 11,51,207/yr   \n",
       "2      3                       Delhivery        14 salaries  ₹ 12,34,207/yr   \n",
       "3      4                             IBM        13 salaries   ₹ 7,63,825/yr   \n",
       "4      5              Ericsson-Worldwide        12 salaries   ₹ 7,32,209/yr   \n",
       "5      6              UnitedHealth Group        10 salaries  ₹ 13,88,910/yr   \n",
       "6      7              Valiance Solutions         9 salaries   ₹ 8,18,515/yr   \n",
       "7      8                      Innovaccer         8 salaries  ₹ 12,01,403/yr   \n",
       "8      9                     EXL Service         7 salaries  ₹ 11,90,000/yr   \n",
       "9     10  Cognizant Technology Solutions         6 salaries  ₹ 10,11,517/yr   \n",
       "\n",
       "  Minimum_salary Maximum_salary  \n",
       "0          ₹336L        ₹1,080L  \n",
       "1          ₹579L        ₹2,222L  \n",
       "2          ₹452L       ₹11,669L  \n",
       "3          ₹589L        ₹2,741L  \n",
       "4          ₹350L        ₹1,619L  \n",
       "5        ₹1,050L        ₹1,500L  \n",
       "6          ₹504L        ₹1,471L  \n",
       "7          ₹623L        ₹1,702L  \n",
       "8          ₹578L        ₹1,500L  \n",
       "9          ₹796L        ₹1,268L  "
      ]
     },
     "execution_count": 105,
     "metadata": {},
     "output_type": "execute_result"
    }
   ],
   "source": [
    "# create dataframe\n",
    "df = pd.DataFrame({})\n",
    "df['Index'] = list(range(1,11))\n",
    "df['Company_name'] = company_name\n",
    "df['Number_of_salaries'] = n_salary\n",
    "df['Average_salary'] = Avg_salary\n",
    "df['Minimum_salary'] = minsalary\n",
    "df['Maximum_salary'] = maxsalary\n",
    "df"
   ]
  },
  {
   "cell_type": "markdown",
   "metadata": {},
   "source": [
    "#### Q6 : Scrape data of first 100 sunglasses listings on flipkart.com. You have to scrape four attributes:Brand,Product Description,Price,Discount %"
   ]
  },
  {
   "cell_type": "code",
   "execution_count": 175,
   "metadata": {},
   "outputs": [],
   "source": [
    "# open chromedriver using path\n",
    "driver=webdriver.Chrome(\"I:\\Software//chromedriver.exe\")"
   ]
  },
  {
   "cell_type": "code",
   "execution_count": 176,
   "metadata": {},
   "outputs": [],
   "source": [
    "driver.get(\"https://www.flipkart.com/\") # open url in driver\n",
    "\n",
    "driver.maximize_window() # maximize driver window\n",
    "time.sleep(4)  # sleep code for 4 second\n",
    "\n",
    "driver.find_element_by_xpath(\"//button[@class='_2KpZ6l _2doB4z']\").click()  # close login window\n",
    "\n",
    "# write sunglasses in search field\n",
    "driver.find_element_by_name(\"q\").send_keys(\"sunglasses\")\n",
    "\n",
    "# click on search icon\n",
    "driver.find_element_by_xpath(\"//button[@class='L0Z3Pu']\").click()\n",
    "\n",
    "driver.implicitly_wait(10) # wait for open all elements of the page"
   ]
  },
  {
   "cell_type": "code",
   "execution_count": 177,
   "metadata": {},
   "outputs": [
    {
     "name": "stdout",
     "output_type": "stream",
     "text": [
      "[<selenium.webdriver.remote.webelement.WebElement (session=\"41f2e7ecfde973ad5455ef1f70cf68ef\", element=\"ec237cf1-a357-4396-863d-34c596d1ce9c\")>, <selenium.webdriver.remote.webelement.WebElement (session=\"41f2e7ecfde973ad5455ef1f70cf68ef\", element=\"a83189dc-5c6c-4b20-a291-94066d7ac464\")>, <selenium.webdriver.remote.webelement.WebElement (session=\"41f2e7ecfde973ad5455ef1f70cf68ef\", element=\"fec07ec4-8411-44c0-9440-f1ba48ea5c88\")>, <selenium.webdriver.remote.webelement.WebElement (session=\"41f2e7ecfde973ad5455ef1f70cf68ef\", element=\"d2192056-c29e-4128-850c-4a5e2de48d30\")>, <selenium.webdriver.remote.webelement.WebElement (session=\"41f2e7ecfde973ad5455ef1f70cf68ef\", element=\"5afd454a-671f-4551-9b9f-084694ef843d\")>, <selenium.webdriver.remote.webelement.WebElement (session=\"41f2e7ecfde973ad5455ef1f70cf68ef\", element=\"d50915c5-0139-463e-bbef-cd81b9acd5c2\")>, <selenium.webdriver.remote.webelement.WebElement (session=\"41f2e7ecfde973ad5455ef1f70cf68ef\", element=\"57225966-7bf8-438d-8340-81ffeb34ed41\")>, <selenium.webdriver.remote.webelement.WebElement (session=\"41f2e7ecfde973ad5455ef1f70cf68ef\", element=\"2be08055-277b-4bec-aed8-556d9547ae26\")>, <selenium.webdriver.remote.webelement.WebElement (session=\"41f2e7ecfde973ad5455ef1f70cf68ef\", element=\"c0ac7b14-738a-4c43-8548-f1bef14ecc5f\")>, <selenium.webdriver.remote.webelement.WebElement (session=\"41f2e7ecfde973ad5455ef1f70cf68ef\", element=\"537a4297-6c1a-4368-b92b-4cf3a6df17f7\")>, <selenium.webdriver.remote.webelement.WebElement (session=\"41f2e7ecfde973ad5455ef1f70cf68ef\", element=\"95c4a8cf-4295-4913-aa34-dc935e362c7e\")>, <selenium.webdriver.remote.webelement.WebElement (session=\"41f2e7ecfde973ad5455ef1f70cf68ef\", element=\"ee19982c-6054-4689-849b-bf99c1fac988\")>, <selenium.webdriver.remote.webelement.WebElement (session=\"41f2e7ecfde973ad5455ef1f70cf68ef\", element=\"5f5a282d-2e1b-45ab-b554-4d387addab19\")>, <selenium.webdriver.remote.webelement.WebElement (session=\"41f2e7ecfde973ad5455ef1f70cf68ef\", element=\"ff5417be-f105-4b60-8ec1-9c923107e66a\")>, <selenium.webdriver.remote.webelement.WebElement (session=\"41f2e7ecfde973ad5455ef1f70cf68ef\", element=\"f803b64e-e1d1-4bcd-99f4-af967ac64553\")>, <selenium.webdriver.remote.webelement.WebElement (session=\"41f2e7ecfde973ad5455ef1f70cf68ef\", element=\"23361a3d-8dc7-4bd7-bcb9-78f4cb632450\")>, <selenium.webdriver.remote.webelement.WebElement (session=\"41f2e7ecfde973ad5455ef1f70cf68ef\", element=\"71c8f728-8bd5-45ef-9804-15906c7c5293\")>, <selenium.webdriver.remote.webelement.WebElement (session=\"41f2e7ecfde973ad5455ef1f70cf68ef\", element=\"ef003545-4ccf-4b2e-9bc9-92be4d87b337\")>, <selenium.webdriver.remote.webelement.WebElement (session=\"41f2e7ecfde973ad5455ef1f70cf68ef\", element=\"6d8cc84d-4a39-4a8c-9b46-48b2d74842a3\")>, <selenium.webdriver.remote.webelement.WebElement (session=\"41f2e7ecfde973ad5455ef1f70cf68ef\", element=\"d1b182f5-092e-4f39-8d10-2398fe1bea39\")>, <selenium.webdriver.remote.webelement.WebElement (session=\"41f2e7ecfde973ad5455ef1f70cf68ef\", element=\"beaf3e27-08a2-4d0f-9396-342557c2876b\")>, <selenium.webdriver.remote.webelement.WebElement (session=\"41f2e7ecfde973ad5455ef1f70cf68ef\", element=\"7ae10313-ae14-48ec-8166-49a8c11efabb\")>, <selenium.webdriver.remote.webelement.WebElement (session=\"41f2e7ecfde973ad5455ef1f70cf68ef\", element=\"2ad8a878-449f-407a-a2da-ad515e748d71\")>, <selenium.webdriver.remote.webelement.WebElement (session=\"41f2e7ecfde973ad5455ef1f70cf68ef\", element=\"adc7e197-70f7-4c1f-b863-28cb0c18db2d\")>, <selenium.webdriver.remote.webelement.WebElement (session=\"41f2e7ecfde973ad5455ef1f70cf68ef\", element=\"bc481b03-1405-45a5-853a-2803112d8996\")>, <selenium.webdriver.remote.webelement.WebElement (session=\"41f2e7ecfde973ad5455ef1f70cf68ef\", element=\"ad9ca157-6738-4efc-846d-3762038442b9\")>, <selenium.webdriver.remote.webelement.WebElement (session=\"41f2e7ecfde973ad5455ef1f70cf68ef\", element=\"ef6ed954-c93c-4b3e-9aac-a93f812299fc\")>, <selenium.webdriver.remote.webelement.WebElement (session=\"41f2e7ecfde973ad5455ef1f70cf68ef\", element=\"56884e00-d8a6-4637-a65c-8801ae6c2447\")>, <selenium.webdriver.remote.webelement.WebElement (session=\"41f2e7ecfde973ad5455ef1f70cf68ef\", element=\"27e92e44-4002-4085-92e2-3978e5a24321\")>, <selenium.webdriver.remote.webelement.WebElement (session=\"41f2e7ecfde973ad5455ef1f70cf68ef\", element=\"db80712b-4eb0-4e33-8cc7-4cfb8fd5fe54\")>, <selenium.webdriver.remote.webelement.WebElement (session=\"41f2e7ecfde973ad5455ef1f70cf68ef\", element=\"e1b3627c-e6de-4fc0-9738-2cf6ed562167\")>, <selenium.webdriver.remote.webelement.WebElement (session=\"41f2e7ecfde973ad5455ef1f70cf68ef\", element=\"2d0e2d94-1cfe-4e2c-912e-8148332b5175\")>, <selenium.webdriver.remote.webelement.WebElement (session=\"41f2e7ecfde973ad5455ef1f70cf68ef\", element=\"ae070a21-bf10-42ed-8c83-6f70fa667e38\")>, <selenium.webdriver.remote.webelement.WebElement (session=\"41f2e7ecfde973ad5455ef1f70cf68ef\", element=\"4c5580ad-50e9-42ae-9a63-9ead909c63d9\")>, <selenium.webdriver.remote.webelement.WebElement (session=\"41f2e7ecfde973ad5455ef1f70cf68ef\", element=\"755fc0ec-6e0d-4030-9837-d7263760ea51\")>, <selenium.webdriver.remote.webelement.WebElement (session=\"41f2e7ecfde973ad5455ef1f70cf68ef\", element=\"5da918b7-d153-4426-9bc9-854122411384\")>, <selenium.webdriver.remote.webelement.WebElement (session=\"41f2e7ecfde973ad5455ef1f70cf68ef\", element=\"ddbd9691-08c0-4feb-b46a-74c568157233\")>, <selenium.webdriver.remote.webelement.WebElement (session=\"41f2e7ecfde973ad5455ef1f70cf68ef\", element=\"f7300e8f-bae7-4aac-811e-33018634857b\")>, <selenium.webdriver.remote.webelement.WebElement (session=\"41f2e7ecfde973ad5455ef1f70cf68ef\", element=\"f2135b32-3960-425f-b893-9f1762bd8c05\")>, <selenium.webdriver.remote.webelement.WebElement (session=\"41f2e7ecfde973ad5455ef1f70cf68ef\", element=\"cb1818af-e1f4-45b5-be1d-6cafd0cdd62d\")>]\n",
      "[<selenium.webdriver.remote.webelement.WebElement (session=\"41f2e7ecfde973ad5455ef1f70cf68ef\", element=\"bd402552-b0f8-4ed1-9918-0167fc0d2d0e\")>, <selenium.webdriver.remote.webelement.WebElement (session=\"41f2e7ecfde973ad5455ef1f70cf68ef\", element=\"70c8e542-baef-41d0-941a-646b3368bcca\")>, <selenium.webdriver.remote.webelement.WebElement (session=\"41f2e7ecfde973ad5455ef1f70cf68ef\", element=\"649ed9da-25ce-4dfa-9484-05d386122207\")>, <selenium.webdriver.remote.webelement.WebElement (session=\"41f2e7ecfde973ad5455ef1f70cf68ef\", element=\"d7defea5-87ae-430b-b53d-44e9c2b9c033\")>, <selenium.webdriver.remote.webelement.WebElement (session=\"41f2e7ecfde973ad5455ef1f70cf68ef\", element=\"4484ab04-bab4-47cc-8679-918fdf5d5448\")>, <selenium.webdriver.remote.webelement.WebElement (session=\"41f2e7ecfde973ad5455ef1f70cf68ef\", element=\"0aa26d16-12ea-4707-bc98-23d147381c69\")>, <selenium.webdriver.remote.webelement.WebElement (session=\"41f2e7ecfde973ad5455ef1f70cf68ef\", element=\"0a6de91e-6669-4d6c-b9d2-335fc427b4a0\")>, <selenium.webdriver.remote.webelement.WebElement (session=\"41f2e7ecfde973ad5455ef1f70cf68ef\", element=\"eab4e7b4-4230-43db-b6af-998d208cdd2c\")>, <selenium.webdriver.remote.webelement.WebElement (session=\"41f2e7ecfde973ad5455ef1f70cf68ef\", element=\"871cc55c-8d0c-475c-82fe-0c9f041634c8\")>, <selenium.webdriver.remote.webelement.WebElement (session=\"41f2e7ecfde973ad5455ef1f70cf68ef\", element=\"0644a9a5-ee1a-4beb-b834-4af60509b723\")>, <selenium.webdriver.remote.webelement.WebElement (session=\"41f2e7ecfde973ad5455ef1f70cf68ef\", element=\"a076e6fe-adbc-4994-876d-95f1c76bade1\")>, <selenium.webdriver.remote.webelement.WebElement (session=\"41f2e7ecfde973ad5455ef1f70cf68ef\", element=\"ad53f57d-e2ab-49bf-9658-8024aac9f22e\")>, <selenium.webdriver.remote.webelement.WebElement (session=\"41f2e7ecfde973ad5455ef1f70cf68ef\", element=\"f303481f-44a8-478e-944b-08369d279bf2\")>, <selenium.webdriver.remote.webelement.WebElement (session=\"41f2e7ecfde973ad5455ef1f70cf68ef\", element=\"31e03a3a-8349-4776-865e-d5bd23ed81f4\")>, <selenium.webdriver.remote.webelement.WebElement (session=\"41f2e7ecfde973ad5455ef1f70cf68ef\", element=\"ad8376c4-11c9-414a-ab33-2655890890a0\")>, <selenium.webdriver.remote.webelement.WebElement (session=\"41f2e7ecfde973ad5455ef1f70cf68ef\", element=\"e4041dc1-4a36-449b-a4b6-df681a76be76\")>, <selenium.webdriver.remote.webelement.WebElement (session=\"41f2e7ecfde973ad5455ef1f70cf68ef\", element=\"5e2afb31-e19d-488a-bcd7-d2d3b6537677\")>, <selenium.webdriver.remote.webelement.WebElement (session=\"41f2e7ecfde973ad5455ef1f70cf68ef\", element=\"192d898f-2800-4336-9637-828f8776779d\")>, <selenium.webdriver.remote.webelement.WebElement (session=\"41f2e7ecfde973ad5455ef1f70cf68ef\", element=\"9e9a96c4-408e-429b-a601-d86177feacc9\")>, <selenium.webdriver.remote.webelement.WebElement (session=\"41f2e7ecfde973ad5455ef1f70cf68ef\", element=\"04fe7159-3ed5-4864-a04c-c9c6cee699ff\")>, <selenium.webdriver.remote.webelement.WebElement (session=\"41f2e7ecfde973ad5455ef1f70cf68ef\", element=\"abd583b9-7b0f-429e-b16e-5e6719a17762\")>, <selenium.webdriver.remote.webelement.WebElement (session=\"41f2e7ecfde973ad5455ef1f70cf68ef\", element=\"fd645966-cbc3-42c2-83d0-96b061aa7070\")>, <selenium.webdriver.remote.webelement.WebElement (session=\"41f2e7ecfde973ad5455ef1f70cf68ef\", element=\"caca9f1b-b3ac-4814-96fa-44ebc93457a8\")>, <selenium.webdriver.remote.webelement.WebElement (session=\"41f2e7ecfde973ad5455ef1f70cf68ef\", element=\"2a90c7b0-3bfe-4554-8b76-d3ccffe7ee0b\")>, <selenium.webdriver.remote.webelement.WebElement (session=\"41f2e7ecfde973ad5455ef1f70cf68ef\", element=\"af29887c-7b04-4d1c-bb24-27f3810511dc\")>, <selenium.webdriver.remote.webelement.WebElement (session=\"41f2e7ecfde973ad5455ef1f70cf68ef\", element=\"03526e5c-0256-4277-85be-48fc2f63356f\")>, <selenium.webdriver.remote.webelement.WebElement (session=\"41f2e7ecfde973ad5455ef1f70cf68ef\", element=\"60aca574-f1ec-4daf-9a3a-6e9cff3a28a0\")>, <selenium.webdriver.remote.webelement.WebElement (session=\"41f2e7ecfde973ad5455ef1f70cf68ef\", element=\"4f05f5a2-9430-4f22-8cc3-9b4d11671841\")>, <selenium.webdriver.remote.webelement.WebElement (session=\"41f2e7ecfde973ad5455ef1f70cf68ef\", element=\"688153bd-5ab0-41f7-94a4-21b88e57ac9e\")>, <selenium.webdriver.remote.webelement.WebElement (session=\"41f2e7ecfde973ad5455ef1f70cf68ef\", element=\"ecf3f0db-c62b-43da-9b0c-6c23ac285341\")>, <selenium.webdriver.remote.webelement.WebElement (session=\"41f2e7ecfde973ad5455ef1f70cf68ef\", element=\"c0d13ff3-6a78-43d0-843f-da544bb20918\")>, <selenium.webdriver.remote.webelement.WebElement (session=\"41f2e7ecfde973ad5455ef1f70cf68ef\", element=\"3687a29a-9e43-4b63-8ee9-1de4342cca75\")>, <selenium.webdriver.remote.webelement.WebElement (session=\"41f2e7ecfde973ad5455ef1f70cf68ef\", element=\"272cf3a0-6389-49a1-876a-a3cdb169e91c\")>, <selenium.webdriver.remote.webelement.WebElement (session=\"41f2e7ecfde973ad5455ef1f70cf68ef\", element=\"4f03c2b9-d908-44c2-903c-aad19933bc5f\")>, <selenium.webdriver.remote.webelement.WebElement (session=\"41f2e7ecfde973ad5455ef1f70cf68ef\", element=\"10e3c8a1-b37f-4d3e-8220-e9d096081b49\")>, <selenium.webdriver.remote.webelement.WebElement (session=\"41f2e7ecfde973ad5455ef1f70cf68ef\", element=\"d0e62e8e-2bd4-4fd9-ab0c-108c3bfffd0d\")>, <selenium.webdriver.remote.webelement.WebElement (session=\"41f2e7ecfde973ad5455ef1f70cf68ef\", element=\"31a8755b-c804-4d42-b875-7bce349bdbdc\")>, <selenium.webdriver.remote.webelement.WebElement (session=\"41f2e7ecfde973ad5455ef1f70cf68ef\", element=\"1fc1517e-3298-401e-9158-12f0854b3580\")>, <selenium.webdriver.remote.webelement.WebElement (session=\"41f2e7ecfde973ad5455ef1f70cf68ef\", element=\"0d1dc685-bed6-45b0-bdb8-9f48050ac9f0\")>, <selenium.webdriver.remote.webelement.WebElement (session=\"41f2e7ecfde973ad5455ef1f70cf68ef\", element=\"c2c2dfae-9720-49c7-b5f1-c9adb62f5d81\")>]\n",
      "[<selenium.webdriver.remote.webelement.WebElement (session=\"41f2e7ecfde973ad5455ef1f70cf68ef\", element=\"77501c9f-8a3d-4e3b-bee7-013f3d9d1b2f\")>, <selenium.webdriver.remote.webelement.WebElement (session=\"41f2e7ecfde973ad5455ef1f70cf68ef\", element=\"ae854cd8-e7b7-416f-9a1c-2800bf7e94e0\")>, <selenium.webdriver.remote.webelement.WebElement (session=\"41f2e7ecfde973ad5455ef1f70cf68ef\", element=\"07346d0c-c96a-4de8-84af-2610610370b5\")>, <selenium.webdriver.remote.webelement.WebElement (session=\"41f2e7ecfde973ad5455ef1f70cf68ef\", element=\"d5da85cf-ff88-41b9-a572-4aaeb54e7668\")>, <selenium.webdriver.remote.webelement.WebElement (session=\"41f2e7ecfde973ad5455ef1f70cf68ef\", element=\"ec73a24e-f99f-4efc-bca9-25808313dfcc\")>, <selenium.webdriver.remote.webelement.WebElement (session=\"41f2e7ecfde973ad5455ef1f70cf68ef\", element=\"fcc607eb-e913-411a-b010-2df572c8a040\")>, <selenium.webdriver.remote.webelement.WebElement (session=\"41f2e7ecfde973ad5455ef1f70cf68ef\", element=\"29bc8e52-0784-4d95-8dbf-6d03df979409\")>, <selenium.webdriver.remote.webelement.WebElement (session=\"41f2e7ecfde973ad5455ef1f70cf68ef\", element=\"82f36b23-492f-41ef-88a9-4883426d45aa\")>, <selenium.webdriver.remote.webelement.WebElement (session=\"41f2e7ecfde973ad5455ef1f70cf68ef\", element=\"317bc175-55ef-4cfb-981e-8ce5002af50b\")>, <selenium.webdriver.remote.webelement.WebElement (session=\"41f2e7ecfde973ad5455ef1f70cf68ef\", element=\"d71195ff-0798-41a1-a882-4d03f1aaa366\")>, <selenium.webdriver.remote.webelement.WebElement (session=\"41f2e7ecfde973ad5455ef1f70cf68ef\", element=\"90046f67-1db5-44f5-b8d7-0b26c48f2ae8\")>, <selenium.webdriver.remote.webelement.WebElement (session=\"41f2e7ecfde973ad5455ef1f70cf68ef\", element=\"4146125a-a83d-4fe0-a0d0-653eec83097c\")>, <selenium.webdriver.remote.webelement.WebElement (session=\"41f2e7ecfde973ad5455ef1f70cf68ef\", element=\"197db372-2e0e-48d0-b4b8-d5e35698b421\")>, <selenium.webdriver.remote.webelement.WebElement (session=\"41f2e7ecfde973ad5455ef1f70cf68ef\", element=\"6b3c12e3-bad6-4bf7-ba19-dd43aeee5972\")>, <selenium.webdriver.remote.webelement.WebElement (session=\"41f2e7ecfde973ad5455ef1f70cf68ef\", element=\"16b09a9a-3a08-4cd2-a789-7aafd63374d6\")>, <selenium.webdriver.remote.webelement.WebElement (session=\"41f2e7ecfde973ad5455ef1f70cf68ef\", element=\"1d441299-edd1-40e8-a77b-6ef21106e830\")>, <selenium.webdriver.remote.webelement.WebElement (session=\"41f2e7ecfde973ad5455ef1f70cf68ef\", element=\"6168d115-918d-484f-beed-f7485a26911c\")>, <selenium.webdriver.remote.webelement.WebElement (session=\"41f2e7ecfde973ad5455ef1f70cf68ef\", element=\"8e681f57-685c-4dda-a677-8574ced43395\")>, <selenium.webdriver.remote.webelement.WebElement (session=\"41f2e7ecfde973ad5455ef1f70cf68ef\", element=\"b2df5584-b661-49a8-b0e0-98343ece0525\")>, <selenium.webdriver.remote.webelement.WebElement (session=\"41f2e7ecfde973ad5455ef1f70cf68ef\", element=\"493b9f0e-b473-4bb8-9080-1a59f5eacf1c\")>, <selenium.webdriver.remote.webelement.WebElement (session=\"41f2e7ecfde973ad5455ef1f70cf68ef\", element=\"e55f8983-d001-48ae-9044-8a63489e6308\")>, <selenium.webdriver.remote.webelement.WebElement (session=\"41f2e7ecfde973ad5455ef1f70cf68ef\", element=\"92ec35d9-5189-4aee-9024-bff1dbd7a10d\")>, <selenium.webdriver.remote.webelement.WebElement (session=\"41f2e7ecfde973ad5455ef1f70cf68ef\", element=\"891b26cf-4549-4f27-9a75-24e5346c13a4\")>, <selenium.webdriver.remote.webelement.WebElement (session=\"41f2e7ecfde973ad5455ef1f70cf68ef\", element=\"676a2631-a431-434e-8936-5f010392105f\")>, <selenium.webdriver.remote.webelement.WebElement (session=\"41f2e7ecfde973ad5455ef1f70cf68ef\", element=\"e8c8ceab-cf1d-445b-93f3-24a53489ab22\")>, <selenium.webdriver.remote.webelement.WebElement (session=\"41f2e7ecfde973ad5455ef1f70cf68ef\", element=\"d8f16dbf-c2ef-4b94-b52a-0efdf4aac7e4\")>, <selenium.webdriver.remote.webelement.WebElement (session=\"41f2e7ecfde973ad5455ef1f70cf68ef\", element=\"b2d95ab8-c8b1-4081-8843-98095e89c65e\")>, <selenium.webdriver.remote.webelement.WebElement (session=\"41f2e7ecfde973ad5455ef1f70cf68ef\", element=\"f047ec2d-ce11-4ae2-a338-059d5bd17acc\")>, <selenium.webdriver.remote.webelement.WebElement (session=\"41f2e7ecfde973ad5455ef1f70cf68ef\", element=\"c4b0c977-8b48-4796-8cf2-a807d910e43c\")>, <selenium.webdriver.remote.webelement.WebElement (session=\"41f2e7ecfde973ad5455ef1f70cf68ef\", element=\"05c2059e-9464-4dfa-93b3-9e4e1d6dd307\")>, <selenium.webdriver.remote.webelement.WebElement (session=\"41f2e7ecfde973ad5455ef1f70cf68ef\", element=\"6b07db66-b55e-4b7c-a4cc-f1700dcf8293\")>, <selenium.webdriver.remote.webelement.WebElement (session=\"41f2e7ecfde973ad5455ef1f70cf68ef\", element=\"51ebf64d-838d-4733-8e0c-f8a89c63066d\")>, <selenium.webdriver.remote.webelement.WebElement (session=\"41f2e7ecfde973ad5455ef1f70cf68ef\", element=\"8ef95661-2929-4d23-8abb-e66ce21c841a\")>, <selenium.webdriver.remote.webelement.WebElement (session=\"41f2e7ecfde973ad5455ef1f70cf68ef\", element=\"fac70df2-b194-4873-9b64-53954ea31704\")>, <selenium.webdriver.remote.webelement.WebElement (session=\"41f2e7ecfde973ad5455ef1f70cf68ef\", element=\"37c83c64-b9e9-43a5-ac23-49b2cc3d6a1e\")>, <selenium.webdriver.remote.webelement.WebElement (session=\"41f2e7ecfde973ad5455ef1f70cf68ef\", element=\"af48f990-9bf9-4493-bb45-2370925e91a3\")>, <selenium.webdriver.remote.webelement.WebElement (session=\"41f2e7ecfde973ad5455ef1f70cf68ef\", element=\"5d90a9ae-080f-40c0-a364-eb0385c11c41\")>, <selenium.webdriver.remote.webelement.WebElement (session=\"41f2e7ecfde973ad5455ef1f70cf68ef\", element=\"9ad59535-8009-4629-b3d3-3e8fd91575e4\")>, <selenium.webdriver.remote.webelement.WebElement (session=\"41f2e7ecfde973ad5455ef1f70cf68ef\", element=\"64d995a5-7985-47d5-b21b-e5ff63b5352f\")>, <selenium.webdriver.remote.webelement.WebElement (session=\"41f2e7ecfde973ad5455ef1f70cf68ef\", element=\"6ec58897-a66c-4370-bcde-69da1354cd76\")>]\n",
      "[<selenium.webdriver.remote.webelement.WebElement (session=\"41f2e7ecfde973ad5455ef1f70cf68ef\", element=\"92cb4d79-382a-4272-86ca-94a093410af0\")>, <selenium.webdriver.remote.webelement.WebElement (session=\"41f2e7ecfde973ad5455ef1f70cf68ef\", element=\"e756832c-c5fd-46d6-a673-9ddfcbd495e6\")>, <selenium.webdriver.remote.webelement.WebElement (session=\"41f2e7ecfde973ad5455ef1f70cf68ef\", element=\"137d296f-56a7-413f-95e8-6a79d4a39fd1\")>, <selenium.webdriver.remote.webelement.WebElement (session=\"41f2e7ecfde973ad5455ef1f70cf68ef\", element=\"d0a44bb4-44d3-4372-b456-481eca61d343\")>, <selenium.webdriver.remote.webelement.WebElement (session=\"41f2e7ecfde973ad5455ef1f70cf68ef\", element=\"e9df4184-43fb-4a44-be41-c975237916f8\")>, <selenium.webdriver.remote.webelement.WebElement (session=\"41f2e7ecfde973ad5455ef1f70cf68ef\", element=\"b6e06d6b-bedd-41f6-91e0-1b8da4d575a2\")>, <selenium.webdriver.remote.webelement.WebElement (session=\"41f2e7ecfde973ad5455ef1f70cf68ef\", element=\"ae144fcc-f79b-4e90-a27f-f416bfb75693\")>, <selenium.webdriver.remote.webelement.WebElement (session=\"41f2e7ecfde973ad5455ef1f70cf68ef\", element=\"95a5cc77-ea0d-4380-86a9-a7fc5a804b06\")>, <selenium.webdriver.remote.webelement.WebElement (session=\"41f2e7ecfde973ad5455ef1f70cf68ef\", element=\"59a489f5-f031-463e-ba8e-da5a486a44c3\")>, <selenium.webdriver.remote.webelement.WebElement (session=\"41f2e7ecfde973ad5455ef1f70cf68ef\", element=\"ddb7ca8b-7c7a-456c-a8c3-d57de91b625d\")>, <selenium.webdriver.remote.webelement.WebElement (session=\"41f2e7ecfde973ad5455ef1f70cf68ef\", element=\"1d677a01-08c9-49ce-a32e-ccb53f7efe7b\")>, <selenium.webdriver.remote.webelement.WebElement (session=\"41f2e7ecfde973ad5455ef1f70cf68ef\", element=\"b07b06df-a0b4-48ac-8c69-119e896fbe09\")>, <selenium.webdriver.remote.webelement.WebElement (session=\"41f2e7ecfde973ad5455ef1f70cf68ef\", element=\"f95bea16-1d34-4b52-8d95-e8306b5f451f\")>, <selenium.webdriver.remote.webelement.WebElement (session=\"41f2e7ecfde973ad5455ef1f70cf68ef\", element=\"392cb223-8d53-4237-8a44-746682c7f08a\")>, <selenium.webdriver.remote.webelement.WebElement (session=\"41f2e7ecfde973ad5455ef1f70cf68ef\", element=\"18f11785-80eb-42b0-b752-6df8e516312f\")>, <selenium.webdriver.remote.webelement.WebElement (session=\"41f2e7ecfde973ad5455ef1f70cf68ef\", element=\"8e424c0c-9f19-41c4-8784-e3cdd455c7cf\")>, <selenium.webdriver.remote.webelement.WebElement (session=\"41f2e7ecfde973ad5455ef1f70cf68ef\", element=\"ff7e69fc-366d-4e87-86c4-3063f9976009\")>, <selenium.webdriver.remote.webelement.WebElement (session=\"41f2e7ecfde973ad5455ef1f70cf68ef\", element=\"7ca79165-002f-4597-a3a0-426878b510bc\")>, <selenium.webdriver.remote.webelement.WebElement (session=\"41f2e7ecfde973ad5455ef1f70cf68ef\", element=\"e4376eee-479f-410f-9cd7-8c333a5088bf\")>, <selenium.webdriver.remote.webelement.WebElement (session=\"41f2e7ecfde973ad5455ef1f70cf68ef\", element=\"f9265fcc-8908-4187-9695-483a8564bfdf\")>, <selenium.webdriver.remote.webelement.WebElement (session=\"41f2e7ecfde973ad5455ef1f70cf68ef\", element=\"f8ca2b81-3ca8-45ca-894d-def399d621a3\")>, <selenium.webdriver.remote.webelement.WebElement (session=\"41f2e7ecfde973ad5455ef1f70cf68ef\", element=\"42008072-ea96-4e37-bffd-fb09ce6cce6a\")>, <selenium.webdriver.remote.webelement.WebElement (session=\"41f2e7ecfde973ad5455ef1f70cf68ef\", element=\"29346b8a-15db-4c67-b3b1-15750f396026\")>, <selenium.webdriver.remote.webelement.WebElement (session=\"41f2e7ecfde973ad5455ef1f70cf68ef\", element=\"76c244bb-7f26-47a5-831e-4c18d42310e1\")>, <selenium.webdriver.remote.webelement.WebElement (session=\"41f2e7ecfde973ad5455ef1f70cf68ef\", element=\"19bc9b72-3564-4125-8c70-f3adafedd94f\")>, <selenium.webdriver.remote.webelement.WebElement (session=\"41f2e7ecfde973ad5455ef1f70cf68ef\", element=\"b7e72b14-76f8-404c-97db-6f7d05c070c5\")>, <selenium.webdriver.remote.webelement.WebElement (session=\"41f2e7ecfde973ad5455ef1f70cf68ef\", element=\"8a0b01b2-aa03-4cf8-9078-379a55c38d4a\")>, <selenium.webdriver.remote.webelement.WebElement (session=\"41f2e7ecfde973ad5455ef1f70cf68ef\", element=\"f064780f-63c8-42c0-b581-93216ed3060d\")>, <selenium.webdriver.remote.webelement.WebElement (session=\"41f2e7ecfde973ad5455ef1f70cf68ef\", element=\"6243e526-ce19-449b-93bd-f40ee318f044\")>, <selenium.webdriver.remote.webelement.WebElement (session=\"41f2e7ecfde973ad5455ef1f70cf68ef\", element=\"9b4c713d-2016-4fe1-a310-49d9cc50fbcb\")>, <selenium.webdriver.remote.webelement.WebElement (session=\"41f2e7ecfde973ad5455ef1f70cf68ef\", element=\"f801dce4-4d07-408f-9add-43467b2eb7e3\")>, <selenium.webdriver.remote.webelement.WebElement (session=\"41f2e7ecfde973ad5455ef1f70cf68ef\", element=\"5d6008e5-e489-4309-ae6c-525f1c62323a\")>, <selenium.webdriver.remote.webelement.WebElement (session=\"41f2e7ecfde973ad5455ef1f70cf68ef\", element=\"2d869d2d-cc3f-4fc3-b9a3-95b9d283f516\")>, <selenium.webdriver.remote.webelement.WebElement (session=\"41f2e7ecfde973ad5455ef1f70cf68ef\", element=\"d6dbead9-8e4c-4a4b-be56-f51ae0396c65\")>, <selenium.webdriver.remote.webelement.WebElement (session=\"41f2e7ecfde973ad5455ef1f70cf68ef\", element=\"5275c06e-1776-4544-bfbc-45e12f662d72\")>, <selenium.webdriver.remote.webelement.WebElement (session=\"41f2e7ecfde973ad5455ef1f70cf68ef\", element=\"e6296a2e-17db-4657-ae28-f78502c1ba42\")>, <selenium.webdriver.remote.webelement.WebElement (session=\"41f2e7ecfde973ad5455ef1f70cf68ef\", element=\"22d33f1f-be08-4721-b78d-54c18066a64f\")>, <selenium.webdriver.remote.webelement.WebElement (session=\"41f2e7ecfde973ad5455ef1f70cf68ef\", element=\"53dec3a3-30fb-45fc-8022-fdfa560075ee\")>, <selenium.webdriver.remote.webelement.WebElement (session=\"41f2e7ecfde973ad5455ef1f70cf68ef\", element=\"933d0046-3238-4684-b202-78889ef24dbb\")>, <selenium.webdriver.remote.webelement.WebElement (session=\"41f2e7ecfde973ad5455ef1f70cf68ef\", element=\"13a1e4a9-edcb-436e-9346-29aa18b6f5eb\")>]\n"
     ]
    }
   ],
   "source": [
    "# extract page-1 elements\n",
    "# extract links of brands(1-40)\n",
    "brands_40 =  driver.find_elements_by_xpath(\"//div[@class='_2WkVRV']\")\n",
    "print(brands_40)\n",
    "\n",
    "# extract links of product description(1-40)\n",
    "des_40 = driver.find_elements_by_xpath(\"//div[@class='_2B099V']/a[1]\")\n",
    "print(des_40)\n",
    "\n",
    "# extract links of price(1-40)\n",
    "price_40 = driver.find_elements_by_xpath(\"//div[@class='_30jeq3']\")\n",
    "print(price_40)\n",
    "\n",
    "# extract links of discount%(1-40)\n",
    "discount_40 = driver.find_elements_by_xpath(\"//div[@class='_3Ay6Sb']\")\n",
    "print(discount_40)"
   ]
  },
  {
   "cell_type": "code",
   "execution_count": 178,
   "metadata": {},
   "outputs": [
    {
     "name": "stdout",
     "output_type": "stream",
     "text": [
      "['ROYAL SON', 'ROYAL SON', 'Fastrack', 'Fastrack', 'PIRASO', 'Fastrack', 'PIRASO', 'ROZZETTA CRAFT', 'Singco India', 'PIRASO', 'Fastrack', 'Fastrack', 'ROZZETTA CRAFT', 'Aislin', 'Singco India', 'Fastrack', 'Fastrack', 'HIPPON', 'DEIXELS', 'hipe', 'PIRASO', 'Silver Kartz', 'ROZZETTA CRAFT', 'ROYAL SON', 'NuVew', 'Fastrack', 'Fastrack', 'ROYAL SON', 'DEIXELS', 'ROYAL SON', 'hipe', 'ROZZETTA CRAFT', 'Singco', 'Aislin', 'DEIXELS', 'Fastrack', 'hipe', 'Silver Kartz', 'hipe', 'SAAR ENTERPRISES']\n",
      "['Mirrored Aviator Sunglasses (55)', 'UV Protection Retro Square Sunglasses (88)', 'UV Protection Wayfarer Sunglasses (Free Size)', 'UV Protection Rectangular Sunglasses (Free Size)', 'UV Protection Aviator Sunglasses (Free Size)', 'Mirrored, UV Protection Wayfarer Sunglasses (Free Size)', 'UV Protection Aviator Sunglasses (54)', 'UV Protection Retro Square Sunglasses (Free Size)', 'UV Protection, Polarized Aviator Sunglasses (Free Size)', 'UV Protection Aviator Sunglasses (54)', 'Gradient, UV Protection Wayfarer Sunglasses (Free Size)', 'UV Protection Aviator Sunglasses (Free Size)', 'UV Protection, Gradient Rectangular Sunglasses (Free Si...', 'UV Protection Oval Sunglasses (60)', 'UV Protection Aviator Sunglasses (Free Size)', 'UV Protection Wayfarer Sunglasses (Free Size)', 'UV Protection Wayfarer Sunglasses (56)', 'UV Protection Wayfarer Sunglasses (55)', 'UV Protection Aviator, Wayfarer Sunglasses (Free Size)', 'Gradient, Mirrored, UV Protection Retro Square Sunglass...', 'UV Protection Wayfarer Sunglasses (32)', 'UV Protection Oval Sunglasses (56)', 'UV Protection Rectangular Sunglasses (Free Size)', 'UV Protection Over-sized Sunglasses (60)', 'UV Protection Aviator Sunglasses (58)', 'UV Protection Aviator Sunglasses (58)', 'UV Protection Aviator Sunglasses (58)', 'Mirrored Aviator Sunglasses (58)', 'UV Protection Round Sunglasses (Free Size)', 'UV Protection Retro Square Sunglasses (49)', 'UV Protection Sports Sunglasses (Free Size)', 'UV Protection Retro Square Sunglasses (Free Size)', 'UV Protection, Others Aviator Sunglasses (32)', 'UV Protection, Gradient Butterfly, Over-sized Sunglasse...', 'UV Protection Wayfarer Sunglasses (Free Size)', 'Gradient, UV Protection Wayfarer Sunglasses (Free Size)', 'UV Protection, Mirrored Aviator Sunglasses (Free Size)', 'UV Protection Wayfarer Sunglasses (Free Size)', 'Mirrored, UV Protection, Gradient Round Sunglasses (55)', 'UV Protection Round Sunglasses (Free Size)']\n",
      "['₹379', '₹599', '₹758', '₹569', '₹314', '₹499', '₹225', '₹499', '₹195', '₹225', '₹674', '₹674', '₹404', '₹764', '₹315', '₹733', '₹759', '₹247', '₹202', '₹221', '₹225', '₹299', '₹398', '₹664', '₹215', '₹1,115', '₹1,091', '₹399', '₹189', '₹664', '₹299', '₹499', '₹345', '₹756', '₹200', '₹843', '₹179', '₹246', '₹210', '₹325']\n",
      "['74% off', '70% off', '15% off', '28% off', '80% off', '50% off', '85% off', '77% off', '72% off', '85% off', '15% off', '25% off', '79% off', '69% off', '73% off', '18% off', '15% off', '79% off', '83% off', '77% off', '85% off', '75% off', '73% off', '66% off', '72% off', '14% off', '16% off', '73% off', '76% off', '66% off', '84% off', '77% off', '82% off', '72% off', '59% off', '15% off', '82% off', '83% off', '85% off', '80% off']\n"
     ]
    }
   ],
   "source": [
    "# extract text from links\n",
    "Brands_40 = []\n",
    "for i in brands_40:\n",
    "    Brands_40.append(i.text)\n",
    "print(Brands_40)\n",
    "\n",
    "description_40=[]\n",
    "for j in des_40:\n",
    "    description_40.append(j.text)\n",
    "print(description_40)\n",
    "\n",
    "Price_40=[]\n",
    "for k in price_40:\n",
    "    Price_40.append(k.text)\n",
    "print(Price_40)\n",
    "\n",
    "Discount_40=[]\n",
    "for l in discount_40:\n",
    "    Discount_40.append(l.text)\n",
    "print(Discount_40)"
   ]
  },
  {
   "cell_type": "code",
   "execution_count": 179,
   "metadata": {},
   "outputs": [],
   "source": [
    "# click on page-2\n",
    "driver.find_element_by_xpath(\"//nav[@class='yFHi8N']/a[2]\").click()\n",
    "\n",
    "time.sleep(8)  # sleep code for 8 second"
   ]
  },
  {
   "cell_type": "code",
   "execution_count": 180,
   "metadata": {},
   "outputs": [
    {
     "name": "stdout",
     "output_type": "stream",
     "text": [
      "[<selenium.webdriver.remote.webelement.WebElement (session=\"41f2e7ecfde973ad5455ef1f70cf68ef\", element=\"e7c84fb8-497f-440b-919c-f5aebba25e4c\")>, <selenium.webdriver.remote.webelement.WebElement (session=\"41f2e7ecfde973ad5455ef1f70cf68ef\", element=\"3e8ac755-3c6b-4701-a69a-ce42efdf3eef\")>, <selenium.webdriver.remote.webelement.WebElement (session=\"41f2e7ecfde973ad5455ef1f70cf68ef\", element=\"1c99d34d-2786-4615-bd28-0e5c9d54a3fd\")>, <selenium.webdriver.remote.webelement.WebElement (session=\"41f2e7ecfde973ad5455ef1f70cf68ef\", element=\"cfed016e-b440-49d7-a4f6-9b957ab9b627\")>, <selenium.webdriver.remote.webelement.WebElement (session=\"41f2e7ecfde973ad5455ef1f70cf68ef\", element=\"0a9ac17d-9b4c-4570-be20-7ac276cd85d7\")>, <selenium.webdriver.remote.webelement.WebElement (session=\"41f2e7ecfde973ad5455ef1f70cf68ef\", element=\"ba9e50f5-a58f-49cf-af06-65151bc693fc\")>, <selenium.webdriver.remote.webelement.WebElement (session=\"41f2e7ecfde973ad5455ef1f70cf68ef\", element=\"5323d0ee-c2c6-4821-9318-07a2825b814e\")>, <selenium.webdriver.remote.webelement.WebElement (session=\"41f2e7ecfde973ad5455ef1f70cf68ef\", element=\"b97ea2a6-0bee-461c-87ed-e726b88e46dd\")>, <selenium.webdriver.remote.webelement.WebElement (session=\"41f2e7ecfde973ad5455ef1f70cf68ef\", element=\"5b8a24ed-429d-4c16-a16f-c24da8b69d25\")>, <selenium.webdriver.remote.webelement.WebElement (session=\"41f2e7ecfde973ad5455ef1f70cf68ef\", element=\"257ffbac-0085-4d75-b4cf-8533624e2b50\")>, <selenium.webdriver.remote.webelement.WebElement (session=\"41f2e7ecfde973ad5455ef1f70cf68ef\", element=\"705c232c-e549-40c5-baa6-f44561993a31\")>, <selenium.webdriver.remote.webelement.WebElement (session=\"41f2e7ecfde973ad5455ef1f70cf68ef\", element=\"badf0b43-855e-4ef4-b821-1b53f29233b9\")>, <selenium.webdriver.remote.webelement.WebElement (session=\"41f2e7ecfde973ad5455ef1f70cf68ef\", element=\"9e2ac587-cd53-46e7-b791-98d7b6bda5a5\")>, <selenium.webdriver.remote.webelement.WebElement (session=\"41f2e7ecfde973ad5455ef1f70cf68ef\", element=\"0f2b8467-fbb4-401b-ab4b-5c97b7535e0b\")>, <selenium.webdriver.remote.webelement.WebElement (session=\"41f2e7ecfde973ad5455ef1f70cf68ef\", element=\"1d4ea76c-66d9-4c90-86e4-616af19c21ec\")>, <selenium.webdriver.remote.webelement.WebElement (session=\"41f2e7ecfde973ad5455ef1f70cf68ef\", element=\"cab22a65-41ab-4cca-a00c-973314b2866c\")>, <selenium.webdriver.remote.webelement.WebElement (session=\"41f2e7ecfde973ad5455ef1f70cf68ef\", element=\"d5b22e23-a4a6-40fa-bd6c-a8d016ae9594\")>, <selenium.webdriver.remote.webelement.WebElement (session=\"41f2e7ecfde973ad5455ef1f70cf68ef\", element=\"eb8e1cad-4b4d-4177-aa05-93515489d3ca\")>, <selenium.webdriver.remote.webelement.WebElement (session=\"41f2e7ecfde973ad5455ef1f70cf68ef\", element=\"94352673-6784-409e-bcf9-659ce72095c7\")>, <selenium.webdriver.remote.webelement.WebElement (session=\"41f2e7ecfde973ad5455ef1f70cf68ef\", element=\"87201df8-a7f9-4dcd-9fd3-0f956cd02cd3\")>, <selenium.webdriver.remote.webelement.WebElement (session=\"41f2e7ecfde973ad5455ef1f70cf68ef\", element=\"726082ed-f611-4b61-9b2d-c2c92e5cc863\")>, <selenium.webdriver.remote.webelement.WebElement (session=\"41f2e7ecfde973ad5455ef1f70cf68ef\", element=\"232e9d0d-2ec7-4879-8473-4230b6319491\")>, <selenium.webdriver.remote.webelement.WebElement (session=\"41f2e7ecfde973ad5455ef1f70cf68ef\", element=\"0312e87a-e85a-4581-8835-411ce92d9989\")>, <selenium.webdriver.remote.webelement.WebElement (session=\"41f2e7ecfde973ad5455ef1f70cf68ef\", element=\"a060590c-9a6b-4720-bf3d-060167ba92ec\")>, <selenium.webdriver.remote.webelement.WebElement (session=\"41f2e7ecfde973ad5455ef1f70cf68ef\", element=\"8ea092ea-2310-45d6-8ecc-73a7072ef566\")>, <selenium.webdriver.remote.webelement.WebElement (session=\"41f2e7ecfde973ad5455ef1f70cf68ef\", element=\"964c04f1-6584-4f47-a7b9-32fa27b04c1e\")>, <selenium.webdriver.remote.webelement.WebElement (session=\"41f2e7ecfde973ad5455ef1f70cf68ef\", element=\"edfbfa8e-299b-49eb-8171-01e95435f06e\")>, <selenium.webdriver.remote.webelement.WebElement (session=\"41f2e7ecfde973ad5455ef1f70cf68ef\", element=\"ab6abf00-af20-414c-8d67-7deac339a7bf\")>, <selenium.webdriver.remote.webelement.WebElement (session=\"41f2e7ecfde973ad5455ef1f70cf68ef\", element=\"839918cf-89f5-4e19-accc-1214292bf511\")>, <selenium.webdriver.remote.webelement.WebElement (session=\"41f2e7ecfde973ad5455ef1f70cf68ef\", element=\"485b5576-8f1f-4997-bdfb-d483fdf8c86b\")>, <selenium.webdriver.remote.webelement.WebElement (session=\"41f2e7ecfde973ad5455ef1f70cf68ef\", element=\"0fd6685f-1ccd-442b-8852-f99f69b3bf42\")>, <selenium.webdriver.remote.webelement.WebElement (session=\"41f2e7ecfde973ad5455ef1f70cf68ef\", element=\"be4200b0-abc4-4331-bff7-64305e5a3325\")>, <selenium.webdriver.remote.webelement.WebElement (session=\"41f2e7ecfde973ad5455ef1f70cf68ef\", element=\"1fcd12a8-378c-43a5-a31b-6b2c8df38899\")>, <selenium.webdriver.remote.webelement.WebElement (session=\"41f2e7ecfde973ad5455ef1f70cf68ef\", element=\"a84ce565-1fe0-47ed-ad9a-545ff4f881e1\")>, <selenium.webdriver.remote.webelement.WebElement (session=\"41f2e7ecfde973ad5455ef1f70cf68ef\", element=\"a5ad9d5e-a6b1-48a1-a995-6eb89d8706d4\")>, <selenium.webdriver.remote.webelement.WebElement (session=\"41f2e7ecfde973ad5455ef1f70cf68ef\", element=\"f435a7cf-4f85-4ff3-8a1e-57f41f42697c\")>, <selenium.webdriver.remote.webelement.WebElement (session=\"41f2e7ecfde973ad5455ef1f70cf68ef\", element=\"eebc51ab-c90c-4d38-89df-e953fe039105\")>, <selenium.webdriver.remote.webelement.WebElement (session=\"41f2e7ecfde973ad5455ef1f70cf68ef\", element=\"ca94f5c6-0bcd-46db-912d-e9e20e9a7ea0\")>, <selenium.webdriver.remote.webelement.WebElement (session=\"41f2e7ecfde973ad5455ef1f70cf68ef\", element=\"69e7be49-f846-46c0-b480-d80c592b8d82\")>, <selenium.webdriver.remote.webelement.WebElement (session=\"41f2e7ecfde973ad5455ef1f70cf68ef\", element=\"e8aa55b4-1634-4b5c-83f5-9ad1ec4a23a3\")>]\n",
      "[<selenium.webdriver.remote.webelement.WebElement (session=\"41f2e7ecfde973ad5455ef1f70cf68ef\", element=\"f12e33af-022c-4403-8f4c-e5becd1e9b1e\")>, <selenium.webdriver.remote.webelement.WebElement (session=\"41f2e7ecfde973ad5455ef1f70cf68ef\", element=\"ac69442d-c491-46e7-87b0-3e67dcbab9d6\")>, <selenium.webdriver.remote.webelement.WebElement (session=\"41f2e7ecfde973ad5455ef1f70cf68ef\", element=\"2f7c5a1f-9baa-4a0c-b694-8d0d1a9a4b2d\")>, <selenium.webdriver.remote.webelement.WebElement (session=\"41f2e7ecfde973ad5455ef1f70cf68ef\", element=\"553cafd6-9eb1-4ebc-ab1f-53a46b6baa86\")>, <selenium.webdriver.remote.webelement.WebElement (session=\"41f2e7ecfde973ad5455ef1f70cf68ef\", element=\"8ca863f2-0724-42de-80d6-89ee99553dfd\")>, <selenium.webdriver.remote.webelement.WebElement (session=\"41f2e7ecfde973ad5455ef1f70cf68ef\", element=\"c4cdec37-e807-4a0e-8399-edd01be67fef\")>, <selenium.webdriver.remote.webelement.WebElement (session=\"41f2e7ecfde973ad5455ef1f70cf68ef\", element=\"441b94c1-b5bb-4a44-bac1-96fc97990d02\")>, <selenium.webdriver.remote.webelement.WebElement (session=\"41f2e7ecfde973ad5455ef1f70cf68ef\", element=\"89b76023-7c18-4edb-8cda-24e349e21d68\")>, <selenium.webdriver.remote.webelement.WebElement (session=\"41f2e7ecfde973ad5455ef1f70cf68ef\", element=\"f0ced794-2fcc-4afc-9b06-5875506f8b81\")>, <selenium.webdriver.remote.webelement.WebElement (session=\"41f2e7ecfde973ad5455ef1f70cf68ef\", element=\"ffe20ac1-b936-4c17-8b1f-ed16664f5909\")>, <selenium.webdriver.remote.webelement.WebElement (session=\"41f2e7ecfde973ad5455ef1f70cf68ef\", element=\"4be57cdc-3fda-44ef-aca5-648d0909f40c\")>, <selenium.webdriver.remote.webelement.WebElement (session=\"41f2e7ecfde973ad5455ef1f70cf68ef\", element=\"e31e59a3-5655-4bfe-87d7-910e502ed28b\")>, <selenium.webdriver.remote.webelement.WebElement (session=\"41f2e7ecfde973ad5455ef1f70cf68ef\", element=\"1794e8f6-60fd-4f7e-ade4-19407fc5459a\")>, <selenium.webdriver.remote.webelement.WebElement (session=\"41f2e7ecfde973ad5455ef1f70cf68ef\", element=\"bda68d9a-2fb6-476f-99f4-3247cedf6121\")>, <selenium.webdriver.remote.webelement.WebElement (session=\"41f2e7ecfde973ad5455ef1f70cf68ef\", element=\"8ad8cd20-7d62-40bf-9543-2523e26c2e3f\")>, <selenium.webdriver.remote.webelement.WebElement (session=\"41f2e7ecfde973ad5455ef1f70cf68ef\", element=\"f28e3358-4bdc-49ff-814b-6f0a5c8fc191\")>, <selenium.webdriver.remote.webelement.WebElement (session=\"41f2e7ecfde973ad5455ef1f70cf68ef\", element=\"7e431da7-5d76-4811-a841-b86ce4b020b8\")>, <selenium.webdriver.remote.webelement.WebElement (session=\"41f2e7ecfde973ad5455ef1f70cf68ef\", element=\"4d8527a2-48d0-4f67-8ace-80cf6473d6e3\")>, <selenium.webdriver.remote.webelement.WebElement (session=\"41f2e7ecfde973ad5455ef1f70cf68ef\", element=\"0b3e25b9-d5a5-4c19-8257-812b87e91ff9\")>, <selenium.webdriver.remote.webelement.WebElement (session=\"41f2e7ecfde973ad5455ef1f70cf68ef\", element=\"056eb218-ee40-424d-a1b1-72c60fb49e57\")>, <selenium.webdriver.remote.webelement.WebElement (session=\"41f2e7ecfde973ad5455ef1f70cf68ef\", element=\"df0315c4-d534-4cb7-bc1d-33bc241c7b6d\")>, <selenium.webdriver.remote.webelement.WebElement (session=\"41f2e7ecfde973ad5455ef1f70cf68ef\", element=\"67e14ff3-d488-47cd-9fa8-ad9553a26062\")>, <selenium.webdriver.remote.webelement.WebElement (session=\"41f2e7ecfde973ad5455ef1f70cf68ef\", element=\"d9a39e55-0364-47d9-88ee-36edecb625d5\")>, <selenium.webdriver.remote.webelement.WebElement (session=\"41f2e7ecfde973ad5455ef1f70cf68ef\", element=\"94f3682b-c93d-4b31-8288-ca233b211b56\")>, <selenium.webdriver.remote.webelement.WebElement (session=\"41f2e7ecfde973ad5455ef1f70cf68ef\", element=\"b361b153-b485-4a5c-821c-ce15a0337819\")>, <selenium.webdriver.remote.webelement.WebElement (session=\"41f2e7ecfde973ad5455ef1f70cf68ef\", element=\"19e9136d-b9c2-4d88-bb4b-2888a7d91196\")>, <selenium.webdriver.remote.webelement.WebElement (session=\"41f2e7ecfde973ad5455ef1f70cf68ef\", element=\"c9befc9e-3410-493d-bc73-8a0f43697112\")>, <selenium.webdriver.remote.webelement.WebElement (session=\"41f2e7ecfde973ad5455ef1f70cf68ef\", element=\"92076b1a-899a-4cf9-b18e-e872bf317102\")>, <selenium.webdriver.remote.webelement.WebElement (session=\"41f2e7ecfde973ad5455ef1f70cf68ef\", element=\"5ac9a89e-7fb2-49d6-859d-c8f5da5bbecf\")>, <selenium.webdriver.remote.webelement.WebElement (session=\"41f2e7ecfde973ad5455ef1f70cf68ef\", element=\"a18a3247-565f-4134-9199-be6b617c41ae\")>, <selenium.webdriver.remote.webelement.WebElement (session=\"41f2e7ecfde973ad5455ef1f70cf68ef\", element=\"9c44ea65-a8b9-4432-88bd-a5647859aaa3\")>, <selenium.webdriver.remote.webelement.WebElement (session=\"41f2e7ecfde973ad5455ef1f70cf68ef\", element=\"7b9615a2-6a8f-4571-b0a6-ce62fcaaada3\")>, <selenium.webdriver.remote.webelement.WebElement (session=\"41f2e7ecfde973ad5455ef1f70cf68ef\", element=\"cef7dedc-6503-4427-9281-e9e14676e292\")>, <selenium.webdriver.remote.webelement.WebElement (session=\"41f2e7ecfde973ad5455ef1f70cf68ef\", element=\"eb5583c1-3b33-409b-82f0-dcf9e17b3208\")>, <selenium.webdriver.remote.webelement.WebElement (session=\"41f2e7ecfde973ad5455ef1f70cf68ef\", element=\"d4ff011a-3e24-46cc-b51f-3cd9eaa92c49\")>, <selenium.webdriver.remote.webelement.WebElement (session=\"41f2e7ecfde973ad5455ef1f70cf68ef\", element=\"4a41008b-fe55-43ba-bcef-c8a0526e61e7\")>, <selenium.webdriver.remote.webelement.WebElement (session=\"41f2e7ecfde973ad5455ef1f70cf68ef\", element=\"c132d39b-42c9-4c58-bfb8-febe00035d0b\")>, <selenium.webdriver.remote.webelement.WebElement (session=\"41f2e7ecfde973ad5455ef1f70cf68ef\", element=\"ba0080da-1f9c-4eb5-8172-f15204c573f2\")>, <selenium.webdriver.remote.webelement.WebElement (session=\"41f2e7ecfde973ad5455ef1f70cf68ef\", element=\"0a27b719-8dd4-4c98-896a-d1d994e8cbf2\")>, <selenium.webdriver.remote.webelement.WebElement (session=\"41f2e7ecfde973ad5455ef1f70cf68ef\", element=\"3dbfc3be-e25f-4535-804a-37a0c6340fda\")>]\n",
      "[<selenium.webdriver.remote.webelement.WebElement (session=\"41f2e7ecfde973ad5455ef1f70cf68ef\", element=\"468358d5-4b79-4bae-acef-85243376ef2a\")>, <selenium.webdriver.remote.webelement.WebElement (session=\"41f2e7ecfde973ad5455ef1f70cf68ef\", element=\"5c304879-1a44-4783-a401-bccf0927d65e\")>, <selenium.webdriver.remote.webelement.WebElement (session=\"41f2e7ecfde973ad5455ef1f70cf68ef\", element=\"8c26a4ab-4b96-482b-a45d-bac26113834f\")>, <selenium.webdriver.remote.webelement.WebElement (session=\"41f2e7ecfde973ad5455ef1f70cf68ef\", element=\"5b86313a-eb15-4e2f-a29a-19cb29759fd2\")>, <selenium.webdriver.remote.webelement.WebElement (session=\"41f2e7ecfde973ad5455ef1f70cf68ef\", element=\"6edd9f52-64bd-4dd7-8b44-0cad44bab5bf\")>, <selenium.webdriver.remote.webelement.WebElement (session=\"41f2e7ecfde973ad5455ef1f70cf68ef\", element=\"baa581f6-5fba-4588-8a22-2bf1ab46f78f\")>, <selenium.webdriver.remote.webelement.WebElement (session=\"41f2e7ecfde973ad5455ef1f70cf68ef\", element=\"e44dc903-7ef1-4e92-a544-07c7c542f3bb\")>, <selenium.webdriver.remote.webelement.WebElement (session=\"41f2e7ecfde973ad5455ef1f70cf68ef\", element=\"9c33bda9-757d-4450-b508-67810037c6bd\")>, <selenium.webdriver.remote.webelement.WebElement (session=\"41f2e7ecfde973ad5455ef1f70cf68ef\", element=\"e714b2a6-7802-47bd-bed1-49895591cb7d\")>, <selenium.webdriver.remote.webelement.WebElement (session=\"41f2e7ecfde973ad5455ef1f70cf68ef\", element=\"cee9fbc1-1869-42f1-9732-ed8fe69f1ce9\")>, <selenium.webdriver.remote.webelement.WebElement (session=\"41f2e7ecfde973ad5455ef1f70cf68ef\", element=\"dbd829ab-a286-44d4-b663-f59702d082fa\")>, <selenium.webdriver.remote.webelement.WebElement (session=\"41f2e7ecfde973ad5455ef1f70cf68ef\", element=\"0109f909-481e-4251-8db7-2a6ae100d133\")>, <selenium.webdriver.remote.webelement.WebElement (session=\"41f2e7ecfde973ad5455ef1f70cf68ef\", element=\"e74f97a3-04f7-4a32-9045-fdcd21a84b61\")>, <selenium.webdriver.remote.webelement.WebElement (session=\"41f2e7ecfde973ad5455ef1f70cf68ef\", element=\"a9a5d11d-79e1-4454-a010-736b97ee33f1\")>, <selenium.webdriver.remote.webelement.WebElement (session=\"41f2e7ecfde973ad5455ef1f70cf68ef\", element=\"a998c52c-a9c7-4b81-9b46-67a802860d5a\")>, <selenium.webdriver.remote.webelement.WebElement (session=\"41f2e7ecfde973ad5455ef1f70cf68ef\", element=\"14cfdeb4-fa09-4b3f-b47c-84157e66366c\")>, <selenium.webdriver.remote.webelement.WebElement (session=\"41f2e7ecfde973ad5455ef1f70cf68ef\", element=\"40f97c5e-5f13-42a4-8065-22d6a4c70ccc\")>, <selenium.webdriver.remote.webelement.WebElement (session=\"41f2e7ecfde973ad5455ef1f70cf68ef\", element=\"800a66d8-ca63-49bc-b4c3-e48ba61dcd6a\")>, <selenium.webdriver.remote.webelement.WebElement (session=\"41f2e7ecfde973ad5455ef1f70cf68ef\", element=\"4401feee-b49a-4775-90a1-6a6b752996da\")>, <selenium.webdriver.remote.webelement.WebElement (session=\"41f2e7ecfde973ad5455ef1f70cf68ef\", element=\"07863663-3ff1-41e5-a614-0386f2289a23\")>, <selenium.webdriver.remote.webelement.WebElement (session=\"41f2e7ecfde973ad5455ef1f70cf68ef\", element=\"2d6eada9-1d6d-4c60-bb17-689d3d3b9bd4\")>, <selenium.webdriver.remote.webelement.WebElement (session=\"41f2e7ecfde973ad5455ef1f70cf68ef\", element=\"80a39bb1-4a75-4077-be62-2f2f3356760b\")>, <selenium.webdriver.remote.webelement.WebElement (session=\"41f2e7ecfde973ad5455ef1f70cf68ef\", element=\"ef0bde10-9166-4534-822b-834930d8e9e0\")>, <selenium.webdriver.remote.webelement.WebElement (session=\"41f2e7ecfde973ad5455ef1f70cf68ef\", element=\"c6743c32-ae9e-4940-a4f5-6fd775067933\")>, <selenium.webdriver.remote.webelement.WebElement (session=\"41f2e7ecfde973ad5455ef1f70cf68ef\", element=\"d9cdffd6-1262-49de-9928-d8e089a5eea2\")>, <selenium.webdriver.remote.webelement.WebElement (session=\"41f2e7ecfde973ad5455ef1f70cf68ef\", element=\"1551e0a4-726f-41a3-a416-4eb11caf31e3\")>, <selenium.webdriver.remote.webelement.WebElement (session=\"41f2e7ecfde973ad5455ef1f70cf68ef\", element=\"e2c28b12-78bc-468e-85c0-f91889412d6b\")>, <selenium.webdriver.remote.webelement.WebElement (session=\"41f2e7ecfde973ad5455ef1f70cf68ef\", element=\"a4565c40-8c2e-4081-809f-f006721c97c5\")>, <selenium.webdriver.remote.webelement.WebElement (session=\"41f2e7ecfde973ad5455ef1f70cf68ef\", element=\"da195e86-81ed-4cb2-8621-5d2961da4aef\")>, <selenium.webdriver.remote.webelement.WebElement (session=\"41f2e7ecfde973ad5455ef1f70cf68ef\", element=\"eac178c0-fee6-4a26-9fd5-812b854d4b5b\")>, <selenium.webdriver.remote.webelement.WebElement (session=\"41f2e7ecfde973ad5455ef1f70cf68ef\", element=\"3a4c6b00-a217-46ae-8313-7d8d15b5ac4b\")>, <selenium.webdriver.remote.webelement.WebElement (session=\"41f2e7ecfde973ad5455ef1f70cf68ef\", element=\"54e7a234-39f8-4db6-9045-28fc1bbaf9b1\")>, <selenium.webdriver.remote.webelement.WebElement (session=\"41f2e7ecfde973ad5455ef1f70cf68ef\", element=\"38009924-d731-45ae-a500-6f18624ae132\")>, <selenium.webdriver.remote.webelement.WebElement (session=\"41f2e7ecfde973ad5455ef1f70cf68ef\", element=\"ab4ec409-2142-4bdd-9095-e5164756dda3\")>, <selenium.webdriver.remote.webelement.WebElement (session=\"41f2e7ecfde973ad5455ef1f70cf68ef\", element=\"16b6b08e-1e25-4b88-bfaa-885bc549f1ce\")>, <selenium.webdriver.remote.webelement.WebElement (session=\"41f2e7ecfde973ad5455ef1f70cf68ef\", element=\"4de60411-60b5-4984-86fa-ee8acc43d1dc\")>, <selenium.webdriver.remote.webelement.WebElement (session=\"41f2e7ecfde973ad5455ef1f70cf68ef\", element=\"b49bb067-09c4-4bef-bdf4-5553b904edaa\")>, <selenium.webdriver.remote.webelement.WebElement (session=\"41f2e7ecfde973ad5455ef1f70cf68ef\", element=\"8b122408-9d68-4a3e-8149-d4de248e13fc\")>, <selenium.webdriver.remote.webelement.WebElement (session=\"41f2e7ecfde973ad5455ef1f70cf68ef\", element=\"9b0f4be3-c6e7-450e-8f4b-569b2bfbaf6c\")>, <selenium.webdriver.remote.webelement.WebElement (session=\"41f2e7ecfde973ad5455ef1f70cf68ef\", element=\"815c0d9d-a488-4682-8738-b09debb45f62\")>]\n",
      "[<selenium.webdriver.remote.webelement.WebElement (session=\"41f2e7ecfde973ad5455ef1f70cf68ef\", element=\"b1af4665-c49e-402d-868f-534ba4628929\")>, <selenium.webdriver.remote.webelement.WebElement (session=\"41f2e7ecfde973ad5455ef1f70cf68ef\", element=\"35ed4b95-8956-4025-a136-a969a6df08a2\")>, <selenium.webdriver.remote.webelement.WebElement (session=\"41f2e7ecfde973ad5455ef1f70cf68ef\", element=\"fde5768a-a78f-4794-9ab9-c774a22cf069\")>, <selenium.webdriver.remote.webelement.WebElement (session=\"41f2e7ecfde973ad5455ef1f70cf68ef\", element=\"06a84d66-f675-48ba-8b53-22193e104874\")>, <selenium.webdriver.remote.webelement.WebElement (session=\"41f2e7ecfde973ad5455ef1f70cf68ef\", element=\"c4786870-3292-48f9-b082-233632c2cd20\")>, <selenium.webdriver.remote.webelement.WebElement (session=\"41f2e7ecfde973ad5455ef1f70cf68ef\", element=\"b257907a-9d64-4299-ad37-4ade64b5eebc\")>, <selenium.webdriver.remote.webelement.WebElement (session=\"41f2e7ecfde973ad5455ef1f70cf68ef\", element=\"bbd686bd-45bc-49ac-8e58-6c251e2e0fd7\")>, <selenium.webdriver.remote.webelement.WebElement (session=\"41f2e7ecfde973ad5455ef1f70cf68ef\", element=\"e7240877-3ded-477e-9a64-55f43bf41a52\")>, <selenium.webdriver.remote.webelement.WebElement (session=\"41f2e7ecfde973ad5455ef1f70cf68ef\", element=\"0d0a4453-45f0-4fb6-a481-2f97d29f6494\")>, <selenium.webdriver.remote.webelement.WebElement (session=\"41f2e7ecfde973ad5455ef1f70cf68ef\", element=\"761c0ba8-8ec8-4c48-818c-cd71c9488e8b\")>, <selenium.webdriver.remote.webelement.WebElement (session=\"41f2e7ecfde973ad5455ef1f70cf68ef\", element=\"334289f3-6071-447e-90dc-48dc27026e1f\")>, <selenium.webdriver.remote.webelement.WebElement (session=\"41f2e7ecfde973ad5455ef1f70cf68ef\", element=\"5d027fd2-7357-4788-a7fe-0c238a54d236\")>, <selenium.webdriver.remote.webelement.WebElement (session=\"41f2e7ecfde973ad5455ef1f70cf68ef\", element=\"c5d434ab-f28b-4c74-a8f6-ba815268e747\")>, <selenium.webdriver.remote.webelement.WebElement (session=\"41f2e7ecfde973ad5455ef1f70cf68ef\", element=\"116402c7-a678-4833-bcb8-55ab734939a7\")>, <selenium.webdriver.remote.webelement.WebElement (session=\"41f2e7ecfde973ad5455ef1f70cf68ef\", element=\"37723b12-7d08-4473-98c2-395ce647000b\")>, <selenium.webdriver.remote.webelement.WebElement (session=\"41f2e7ecfde973ad5455ef1f70cf68ef\", element=\"0b52fef2-9856-449e-aee3-c12f1ea54146\")>, <selenium.webdriver.remote.webelement.WebElement (session=\"41f2e7ecfde973ad5455ef1f70cf68ef\", element=\"f32c56be-d2cb-4e97-a189-c97830307b1b\")>, <selenium.webdriver.remote.webelement.WebElement (session=\"41f2e7ecfde973ad5455ef1f70cf68ef\", element=\"26b7c478-0341-4163-8edc-f5085760fc06\")>, <selenium.webdriver.remote.webelement.WebElement (session=\"41f2e7ecfde973ad5455ef1f70cf68ef\", element=\"886607e7-5f80-4615-8e1c-55877706992d\")>, <selenium.webdriver.remote.webelement.WebElement (session=\"41f2e7ecfde973ad5455ef1f70cf68ef\", element=\"ffea5dbb-c418-488c-88af-336a280c3957\")>, <selenium.webdriver.remote.webelement.WebElement (session=\"41f2e7ecfde973ad5455ef1f70cf68ef\", element=\"85cdb573-f380-4817-9331-a773ecfe1875\")>, <selenium.webdriver.remote.webelement.WebElement (session=\"41f2e7ecfde973ad5455ef1f70cf68ef\", element=\"28c92256-b963-4bd9-ab59-b4b82fba765b\")>, <selenium.webdriver.remote.webelement.WebElement (session=\"41f2e7ecfde973ad5455ef1f70cf68ef\", element=\"015a1264-fcb3-4570-9ba1-2ad51d21388c\")>, <selenium.webdriver.remote.webelement.WebElement (session=\"41f2e7ecfde973ad5455ef1f70cf68ef\", element=\"4b3d99d2-80fe-49f7-b977-ac46f06106b0\")>, <selenium.webdriver.remote.webelement.WebElement (session=\"41f2e7ecfde973ad5455ef1f70cf68ef\", element=\"f0c23a09-a997-4600-8992-24c33a532867\")>, <selenium.webdriver.remote.webelement.WebElement (session=\"41f2e7ecfde973ad5455ef1f70cf68ef\", element=\"2c41eb47-c230-45df-918d-f2ae284e0e15\")>, <selenium.webdriver.remote.webelement.WebElement (session=\"41f2e7ecfde973ad5455ef1f70cf68ef\", element=\"188ab509-3f92-4df2-ad08-d5d57659245a\")>, <selenium.webdriver.remote.webelement.WebElement (session=\"41f2e7ecfde973ad5455ef1f70cf68ef\", element=\"89f209d2-b048-4e61-9742-ecc7bc0658fd\")>, <selenium.webdriver.remote.webelement.WebElement (session=\"41f2e7ecfde973ad5455ef1f70cf68ef\", element=\"e94ec84c-280e-4782-b1f9-0b1129806dc9\")>, <selenium.webdriver.remote.webelement.WebElement (session=\"41f2e7ecfde973ad5455ef1f70cf68ef\", element=\"d5f5dd1f-e468-4a11-be24-4bef48df874d\")>, <selenium.webdriver.remote.webelement.WebElement (session=\"41f2e7ecfde973ad5455ef1f70cf68ef\", element=\"b1714e43-5be6-43bd-819b-1dc92d50d4aa\")>, <selenium.webdriver.remote.webelement.WebElement (session=\"41f2e7ecfde973ad5455ef1f70cf68ef\", element=\"db32ee47-94ef-40f2-8fee-7e0c2d1110fe\")>, <selenium.webdriver.remote.webelement.WebElement (session=\"41f2e7ecfde973ad5455ef1f70cf68ef\", element=\"6c672043-f394-4fd8-8d32-57433517dabe\")>, <selenium.webdriver.remote.webelement.WebElement (session=\"41f2e7ecfde973ad5455ef1f70cf68ef\", element=\"e5949684-1c60-4ee2-8b4c-72a01cb7846e\")>, <selenium.webdriver.remote.webelement.WebElement (session=\"41f2e7ecfde973ad5455ef1f70cf68ef\", element=\"63b17191-7233-4746-a68f-93f9f9583165\")>, <selenium.webdriver.remote.webelement.WebElement (session=\"41f2e7ecfde973ad5455ef1f70cf68ef\", element=\"fb1a5ceb-e451-440e-a81f-3cf843c2034e\")>, <selenium.webdriver.remote.webelement.WebElement (session=\"41f2e7ecfde973ad5455ef1f70cf68ef\", element=\"e0ada3a3-6319-4d41-9078-a130125c6dad\")>, <selenium.webdriver.remote.webelement.WebElement (session=\"41f2e7ecfde973ad5455ef1f70cf68ef\", element=\"92eb92bc-c6dd-41fa-ac91-8cfb76b4365e\")>, <selenium.webdriver.remote.webelement.WebElement (session=\"41f2e7ecfde973ad5455ef1f70cf68ef\", element=\"e3bc4138-8f88-4866-9415-120fcd6a2afc\")>, <selenium.webdriver.remote.webelement.WebElement (session=\"41f2e7ecfde973ad5455ef1f70cf68ef\", element=\"85b7dff1-6ebc-421f-ba31-2f24363d81cb\")>]\n"
     ]
    }
   ],
   "source": [
    "# extract page-2 elements\n",
    "# extract links of brands(41-80)\n",
    "brands_80 = driver.find_elements_by_xpath(\"//div[@class='_2WkVRV']\")\n",
    "print(brands_80)\n",
    "\n",
    "time.sleep(8)  # sleep code for 8 second\n",
    "\n",
    "# extract links of product description(41-80)\n",
    "des_80 = driver.find_elements_by_xpath(\"//div[@class='_2B099V']/a[1]\")\n",
    "print(des_80)\n",
    "\n",
    "# extract links of price(41-80)\n",
    "price_80 = driver.find_elements_by_xpath(\"//div[@class='_30jeq3']\")\n",
    "print(price_80)\n",
    "\n",
    "# extract links of discount%(41-80)\n",
    "discount_80 = driver.find_elements_by_xpath(\"//div[@class='_3Ay6Sb']\")\n",
    "print(discount_80)\n",
    "\n",
    "time.sleep(8)  # sleep code for 8 second"
   ]
  },
  {
   "cell_type": "code",
   "execution_count": 181,
   "metadata": {},
   "outputs": [
    {
     "name": "stdout",
     "output_type": "stream",
     "text": [
      "['Fastrack', 'Fastrack', 'Fastrack', 'Aislin', 'Fastrack', 'PIRASO', 'Fastrack', 'Fastrack', 'Fastrack', 'Aislin', 'Fastrack', 'Singco India', 'Fastrack', 'Tom Martin', 'ALEYBEE', 'GANSTA', 'GANSTA', 'hipe', 'hipe', 'ROYAL SON', 'NuVew', 'BKGE', 'ROYAL SON', 'ROYAL SON', 'Silver Kartz', 'Fastrack', 'ROYAL SON', 'ROZZETTA CRAFT', 'ROZZETTA CRAFT', 'Aislin', 'Fastrack', 'Aislin', 'Fastrack', 'Aislin', 'PIRASO', 'NuVew', 'GANSTA', 'Aislin', 'ROYAL SON', 'Tom Martin']\n",
      "['UV Protection Wayfarer Sunglasses (Free Size)', 'UV Protection Wayfarer Sunglasses (Free Size)', 'UV Protection Shield Sunglasses (Free Size)', 'UV Protection Aviator, Wrap-around Sunglasses (63)', 'UV Protection Aviator Sunglasses (Free Size)', 'UV Protection Aviator Sunglasses (54)', 'UV Protection Shield Sunglasses (Free Size)', 'Gradient, UV Protection Wayfarer Sunglasses (Free Size)', 'UV Protection Wayfarer Sunglasses (57)', 'UV Protection Rectangular, Cat-eye Sunglasses (58)', 'UV Protection Aviator Sunglasses (Free Size)', 'Mirrored, Riding Glasses, Others Sports Sunglasses (50)', 'UV Protection Aviator Sunglasses (Free Size)', 'UV Protection Rectangular, Aviator Sunglasses (Free Siz...', 'UV Protection Round Sunglasses (54)', 'UV Protection, Gradient Wayfarer Sunglasses (53)', 'UV Protection Aviator Sunglasses (57)', 'Mirrored Wayfarer Sunglasses (55)', 'UV Protection, Mirrored Round Sunglasses (Free Size)', 'Mirrored Aviator Sunglasses (Free Size)', 'UV Protection, Night Vision, Riding Glasses Sports Sung...', 'UV Protection, Polarized Rectangular, Retro Square Sung...', 'Mirrored Aviator Sunglasses (55)', 'UV Protection Aviator Sunglasses (60)', 'UV Protection Oval Sunglasses (56)', 'UV Protection Wayfarer Sunglasses (Free Size)', 'Mirrored Aviator Sunglasses (Free Size)', 'UV Protection, Riding Glasses Rectangular Sunglasses (F...', 'Mirrored, UV Protection Round Sunglasses (Free Size)', 'UV Protection Aviator Sunglasses (58)', 'UV Protection Rectangular Sunglasses (56)', 'UV Protection, Gradient Oval Sunglasses (58)', 'UV Protection Wayfarer Sunglasses (54)', 'UV Protection Aviator Sunglasses (60)', 'UV Protection Aviator Sunglasses (50)', 'UV Protection Aviator Sunglasses (57)', 'UV Protection Wrap-around Sunglasses (63)', 'UV Protection, Others Wayfarer, Rectangular Sunglasses ...', 'UV Protection Rectangular Sunglasses (58)', 'UV Protection Aviator Sunglasses (Free Size)']\n",
      "['₹759', '₹837', '₹761', '₹975', '₹754', '₹225', '₹759', '₹674', '₹559', '₹675', '₹725', '₹249', '₹759', '₹979', '₹189', '₹284', '₹288', '₹219', '₹219', '₹399', '₹198', '₹394', '₹379', '₹749', '₹299', '₹627', '₹399', '₹426', '₹399', '₹898', '₹689', '₹498', '₹647', '₹895', '₹314', '₹195', '₹269', '₹945', '₹474', '₹934']\n",
      "['15% off', '6% off', '15% off', '73% off', '5% off', '85% off', '15% off', '15% off', '30% off', '72% off', '9% off', '83% off', '15% off', '59% off', '87% off', '85% off', '85% off', '78% off', '86% off', '73% off', '79% off', '78% off', '74% off', '62% off', '75% off', '21% off', '73% off', '80% off', '72% off', '75% off', '13% off', '67% off', '28% off', '75% off', '80% off', '75% off', '86% off', '74% off', '68% off', '61% off']\n"
     ]
    }
   ],
   "source": [
    "# extract text from links\n",
    "Brands_80 = []\n",
    "for i in brands_80:\n",
    "    Brands_80.append(i.text)\n",
    "print(Brands_80)\n",
    "\n",
    "time.sleep(4)  # sleep code for 4 second\n",
    "\n",
    "description_80=[]\n",
    "for j in des_80:\n",
    "    description_80.append(j.text)\n",
    "print(description_80)\n",
    "\n",
    "Price_80=[]\n",
    "for k in price_80:\n",
    "    Price_80.append(k.text)\n",
    "print(Price_80)\n",
    "\n",
    "Discount_80=[]\n",
    "for l in discount_80:\n",
    "    Discount_80.append(l.text)\n",
    "print(Discount_80)"
   ]
  },
  {
   "cell_type": "code",
   "execution_count": 182,
   "metadata": {},
   "outputs": [],
   "source": [
    "# click on page-3\n",
    "driver.find_element_by_xpath(\"//nav[@class='yFHi8N']/a[4]\").click()\n",
    "\n",
    "time.sleep(8)  # sleep code for 8 second"
   ]
  },
  {
   "cell_type": "code",
   "execution_count": 183,
   "metadata": {},
   "outputs": [
    {
     "name": "stdout",
     "output_type": "stream",
     "text": [
      "[<selenium.webdriver.remote.webelement.WebElement (session=\"41f2e7ecfde973ad5455ef1f70cf68ef\", element=\"e3554658-0998-41cd-ac33-87660d88c248\")>, <selenium.webdriver.remote.webelement.WebElement (session=\"41f2e7ecfde973ad5455ef1f70cf68ef\", element=\"80091065-9dc7-4532-a7cf-98d6efec63e9\")>, <selenium.webdriver.remote.webelement.WebElement (session=\"41f2e7ecfde973ad5455ef1f70cf68ef\", element=\"35659cdf-fc65-4c22-95bc-89d308368700\")>, <selenium.webdriver.remote.webelement.WebElement (session=\"41f2e7ecfde973ad5455ef1f70cf68ef\", element=\"bd620913-7d95-4e43-83d0-57b32ba82271\")>, <selenium.webdriver.remote.webelement.WebElement (session=\"41f2e7ecfde973ad5455ef1f70cf68ef\", element=\"845eb3c4-8b30-4c17-9a60-90b660816f72\")>, <selenium.webdriver.remote.webelement.WebElement (session=\"41f2e7ecfde973ad5455ef1f70cf68ef\", element=\"4c7fae8a-9eba-41f8-9b97-496f418e7d6c\")>, <selenium.webdriver.remote.webelement.WebElement (session=\"41f2e7ecfde973ad5455ef1f70cf68ef\", element=\"afe1ed03-50e6-4d8a-ad50-441d58c6bb66\")>, <selenium.webdriver.remote.webelement.WebElement (session=\"41f2e7ecfde973ad5455ef1f70cf68ef\", element=\"fccca0f4-672b-4908-871a-a2703d5daf44\")>, <selenium.webdriver.remote.webelement.WebElement (session=\"41f2e7ecfde973ad5455ef1f70cf68ef\", element=\"702a34d6-b291-4ea7-9d7d-0ac0b8e65070\")>, <selenium.webdriver.remote.webelement.WebElement (session=\"41f2e7ecfde973ad5455ef1f70cf68ef\", element=\"ee803ebc-d139-4585-917e-bd0e498f72d3\")>, <selenium.webdriver.remote.webelement.WebElement (session=\"41f2e7ecfde973ad5455ef1f70cf68ef\", element=\"26cf3ccd-7a8e-4bd1-89ba-773e1b4dba9e\")>, <selenium.webdriver.remote.webelement.WebElement (session=\"41f2e7ecfde973ad5455ef1f70cf68ef\", element=\"6d28b8e1-e7c0-4337-95ff-8a38e930a8a1\")>, <selenium.webdriver.remote.webelement.WebElement (session=\"41f2e7ecfde973ad5455ef1f70cf68ef\", element=\"952f8f07-65eb-40f1-85a3-003d118887f3\")>, <selenium.webdriver.remote.webelement.WebElement (session=\"41f2e7ecfde973ad5455ef1f70cf68ef\", element=\"a48d2ea1-a66b-4347-9005-041eb810acb4\")>, <selenium.webdriver.remote.webelement.WebElement (session=\"41f2e7ecfde973ad5455ef1f70cf68ef\", element=\"dd2f44d6-2750-491d-ad81-c8f1a4a29a4b\")>, <selenium.webdriver.remote.webelement.WebElement (session=\"41f2e7ecfde973ad5455ef1f70cf68ef\", element=\"9f61e2b4-a1b3-4e3c-9b0c-8f7e6226a7ef\")>, <selenium.webdriver.remote.webelement.WebElement (session=\"41f2e7ecfde973ad5455ef1f70cf68ef\", element=\"ac3d8d7c-6fa0-4b2a-8dd9-24b335309e78\")>, <selenium.webdriver.remote.webelement.WebElement (session=\"41f2e7ecfde973ad5455ef1f70cf68ef\", element=\"23b89394-605b-456f-af82-e84f3dc33594\")>, <selenium.webdriver.remote.webelement.WebElement (session=\"41f2e7ecfde973ad5455ef1f70cf68ef\", element=\"c65e05e7-78a4-4aea-817c-d963ae74d341\")>, <selenium.webdriver.remote.webelement.WebElement (session=\"41f2e7ecfde973ad5455ef1f70cf68ef\", element=\"e9a43095-c595-4b15-9d6e-d8cdad6d76ab\")>]\n",
      "[<selenium.webdriver.remote.webelement.WebElement (session=\"41f2e7ecfde973ad5455ef1f70cf68ef\", element=\"0e390e36-d026-4253-aa5e-a2bfa4c72d44\")>, <selenium.webdriver.remote.webelement.WebElement (session=\"41f2e7ecfde973ad5455ef1f70cf68ef\", element=\"255bcf83-7e0d-40dc-ad4e-d8d8e7b1f17d\")>, <selenium.webdriver.remote.webelement.WebElement (session=\"41f2e7ecfde973ad5455ef1f70cf68ef\", element=\"4e7a14e3-7722-44ef-ad90-c7bfdf66a6fb\")>, <selenium.webdriver.remote.webelement.WebElement (session=\"41f2e7ecfde973ad5455ef1f70cf68ef\", element=\"e169ffce-f1b9-46d3-a8df-e748b8036168\")>, <selenium.webdriver.remote.webelement.WebElement (session=\"41f2e7ecfde973ad5455ef1f70cf68ef\", element=\"c41e0f9f-247f-472f-8f8b-d8c8ff91ee87\")>, <selenium.webdriver.remote.webelement.WebElement (session=\"41f2e7ecfde973ad5455ef1f70cf68ef\", element=\"94c83b87-959e-4499-8b1d-9070470e859b\")>, <selenium.webdriver.remote.webelement.WebElement (session=\"41f2e7ecfde973ad5455ef1f70cf68ef\", element=\"0b628ec1-0cc9-4fc5-b496-0bb8129b9ede\")>, <selenium.webdriver.remote.webelement.WebElement (session=\"41f2e7ecfde973ad5455ef1f70cf68ef\", element=\"091c6588-fed1-4a9f-b855-e55298d96a0a\")>, <selenium.webdriver.remote.webelement.WebElement (session=\"41f2e7ecfde973ad5455ef1f70cf68ef\", element=\"9c84df88-f0b7-4204-9de7-c9c9b8685421\")>, <selenium.webdriver.remote.webelement.WebElement (session=\"41f2e7ecfde973ad5455ef1f70cf68ef\", element=\"db3753a4-3651-47dc-9b9d-ce29efe3aacf\")>, <selenium.webdriver.remote.webelement.WebElement (session=\"41f2e7ecfde973ad5455ef1f70cf68ef\", element=\"8d1a5381-5efd-4368-9d25-e7412fbc0426\")>, <selenium.webdriver.remote.webelement.WebElement (session=\"41f2e7ecfde973ad5455ef1f70cf68ef\", element=\"7df06464-2a9a-424d-bae1-7a8d22a58b70\")>, <selenium.webdriver.remote.webelement.WebElement (session=\"41f2e7ecfde973ad5455ef1f70cf68ef\", element=\"a39228d7-d8fb-4e93-ad67-8867b12db392\")>, <selenium.webdriver.remote.webelement.WebElement (session=\"41f2e7ecfde973ad5455ef1f70cf68ef\", element=\"b72ce039-0ea2-437f-a933-df36ec043035\")>, <selenium.webdriver.remote.webelement.WebElement (session=\"41f2e7ecfde973ad5455ef1f70cf68ef\", element=\"8464babe-2c18-455a-b72b-1679e02ff19f\")>, <selenium.webdriver.remote.webelement.WebElement (session=\"41f2e7ecfde973ad5455ef1f70cf68ef\", element=\"819ff53a-a7ea-4495-bdfc-df1447e23bcd\")>, <selenium.webdriver.remote.webelement.WebElement (session=\"41f2e7ecfde973ad5455ef1f70cf68ef\", element=\"666b91df-19bc-4cdb-afad-fd8d6a57df10\")>, <selenium.webdriver.remote.webelement.WebElement (session=\"41f2e7ecfde973ad5455ef1f70cf68ef\", element=\"c868e23e-6828-4063-8357-a62b5ccaf8a7\")>, <selenium.webdriver.remote.webelement.WebElement (session=\"41f2e7ecfde973ad5455ef1f70cf68ef\", element=\"d46c0c3f-7b4f-45a2-86bc-e85ec0e62b4f\")>, <selenium.webdriver.remote.webelement.WebElement (session=\"41f2e7ecfde973ad5455ef1f70cf68ef\", element=\"94ecc565-62d5-420f-9183-b881d65ffd23\")>]\n",
      "[<selenium.webdriver.remote.webelement.WebElement (session=\"41f2e7ecfde973ad5455ef1f70cf68ef\", element=\"10f6de90-9be6-427d-b839-824017311ff9\")>, <selenium.webdriver.remote.webelement.WebElement (session=\"41f2e7ecfde973ad5455ef1f70cf68ef\", element=\"14d2bfcf-3b9f-44c9-9f8a-707916c5d69c\")>, <selenium.webdriver.remote.webelement.WebElement (session=\"41f2e7ecfde973ad5455ef1f70cf68ef\", element=\"9b86f758-09dc-4461-b42b-1be1e120ce5f\")>, <selenium.webdriver.remote.webelement.WebElement (session=\"41f2e7ecfde973ad5455ef1f70cf68ef\", element=\"b157a815-111e-4fde-954a-c6a27562ac19\")>, <selenium.webdriver.remote.webelement.WebElement (session=\"41f2e7ecfde973ad5455ef1f70cf68ef\", element=\"9dd219b3-c62e-4a8d-828e-9e186f4c4584\")>, <selenium.webdriver.remote.webelement.WebElement (session=\"41f2e7ecfde973ad5455ef1f70cf68ef\", element=\"d0b12453-e270-447d-a6d0-cd5a51d273a9\")>, <selenium.webdriver.remote.webelement.WebElement (session=\"41f2e7ecfde973ad5455ef1f70cf68ef\", element=\"1f7571e6-e096-4d58-a1ed-caecaef09865\")>, <selenium.webdriver.remote.webelement.WebElement (session=\"41f2e7ecfde973ad5455ef1f70cf68ef\", element=\"b264c574-6674-49ac-bbeb-ef04a64cd65e\")>, <selenium.webdriver.remote.webelement.WebElement (session=\"41f2e7ecfde973ad5455ef1f70cf68ef\", element=\"86a12ac9-861f-4994-8a8b-05746693fdb7\")>, <selenium.webdriver.remote.webelement.WebElement (session=\"41f2e7ecfde973ad5455ef1f70cf68ef\", element=\"f18cc2d8-e449-42cb-be35-c24cbc100839\")>, <selenium.webdriver.remote.webelement.WebElement (session=\"41f2e7ecfde973ad5455ef1f70cf68ef\", element=\"68f7e8ac-a970-499c-a039-5e5a5e85e229\")>, <selenium.webdriver.remote.webelement.WebElement (session=\"41f2e7ecfde973ad5455ef1f70cf68ef\", element=\"3180f336-cf17-4723-b441-afc6c4b8c25a\")>, <selenium.webdriver.remote.webelement.WebElement (session=\"41f2e7ecfde973ad5455ef1f70cf68ef\", element=\"45febcd7-afaa-4222-a133-89b537a36e3f\")>, <selenium.webdriver.remote.webelement.WebElement (session=\"41f2e7ecfde973ad5455ef1f70cf68ef\", element=\"3d041cd3-6a30-4edb-a137-26eff81782de\")>, <selenium.webdriver.remote.webelement.WebElement (session=\"41f2e7ecfde973ad5455ef1f70cf68ef\", element=\"0fc4c90d-9b60-4dbb-bbd1-4f0df7fa55f0\")>, <selenium.webdriver.remote.webelement.WebElement (session=\"41f2e7ecfde973ad5455ef1f70cf68ef\", element=\"800fb281-5081-42d2-ba13-2b9a92f88942\")>, <selenium.webdriver.remote.webelement.WebElement (session=\"41f2e7ecfde973ad5455ef1f70cf68ef\", element=\"82d7f42e-ce7b-417b-ac2d-c82af3dc6881\")>, <selenium.webdriver.remote.webelement.WebElement (session=\"41f2e7ecfde973ad5455ef1f70cf68ef\", element=\"7fafa778-8466-4432-bd36-bf815280a45e\")>, <selenium.webdriver.remote.webelement.WebElement (session=\"41f2e7ecfde973ad5455ef1f70cf68ef\", element=\"4348a2c5-c1b8-4cf8-bf4d-e1f160f61781\")>, <selenium.webdriver.remote.webelement.WebElement (session=\"41f2e7ecfde973ad5455ef1f70cf68ef\", element=\"3ad581fd-b8bf-4a8b-9ad9-b11a65c6ff37\")>]\n",
      "[<selenium.webdriver.remote.webelement.WebElement (session=\"41f2e7ecfde973ad5455ef1f70cf68ef\", element=\"55373e3a-b8cf-441a-8a47-c8924990bb9e\")>, <selenium.webdriver.remote.webelement.WebElement (session=\"41f2e7ecfde973ad5455ef1f70cf68ef\", element=\"9aa2c683-d355-43b8-a238-3ecc71850677\")>, <selenium.webdriver.remote.webelement.WebElement (session=\"41f2e7ecfde973ad5455ef1f70cf68ef\", element=\"3f2c7027-fbba-491e-a729-3ab329e36f80\")>, <selenium.webdriver.remote.webelement.WebElement (session=\"41f2e7ecfde973ad5455ef1f70cf68ef\", element=\"699910a8-b676-4510-bc3a-ff84f4b11be1\")>, <selenium.webdriver.remote.webelement.WebElement (session=\"41f2e7ecfde973ad5455ef1f70cf68ef\", element=\"644163cb-9107-4c35-b4a4-aea6981b7424\")>, <selenium.webdriver.remote.webelement.WebElement (session=\"41f2e7ecfde973ad5455ef1f70cf68ef\", element=\"90b26076-1ee9-42b0-ab95-bbb7f5f7b926\")>, <selenium.webdriver.remote.webelement.WebElement (session=\"41f2e7ecfde973ad5455ef1f70cf68ef\", element=\"6c05c317-14f9-4587-af3d-ef11073389c8\")>, <selenium.webdriver.remote.webelement.WebElement (session=\"41f2e7ecfde973ad5455ef1f70cf68ef\", element=\"9fe608fd-47aa-449a-8882-2232c22f3635\")>, <selenium.webdriver.remote.webelement.WebElement (session=\"41f2e7ecfde973ad5455ef1f70cf68ef\", element=\"22355b20-4b56-48de-909e-625ecc8289ef\")>, <selenium.webdriver.remote.webelement.WebElement (session=\"41f2e7ecfde973ad5455ef1f70cf68ef\", element=\"9f143fdd-7af5-411f-b511-986e670abc4c\")>, <selenium.webdriver.remote.webelement.WebElement (session=\"41f2e7ecfde973ad5455ef1f70cf68ef\", element=\"a1b5e36d-e4f9-4e20-835d-ea43bd23bcb7\")>, <selenium.webdriver.remote.webelement.WebElement (session=\"41f2e7ecfde973ad5455ef1f70cf68ef\", element=\"516dc6a6-d363-438a-9606-c6bffa90bf1b\")>, <selenium.webdriver.remote.webelement.WebElement (session=\"41f2e7ecfde973ad5455ef1f70cf68ef\", element=\"c2e9528a-f890-44ec-a110-517db41bd64a\")>, <selenium.webdriver.remote.webelement.WebElement (session=\"41f2e7ecfde973ad5455ef1f70cf68ef\", element=\"1f418a4d-f9cc-43c9-b04c-1715813f17e2\")>, <selenium.webdriver.remote.webelement.WebElement (session=\"41f2e7ecfde973ad5455ef1f70cf68ef\", element=\"fed35c35-9fdb-4f6f-a5ec-c09fd8079b90\")>, <selenium.webdriver.remote.webelement.WebElement (session=\"41f2e7ecfde973ad5455ef1f70cf68ef\", element=\"2285c811-c9b2-4a6d-b7d6-56590fe4115c\")>, <selenium.webdriver.remote.webelement.WebElement (session=\"41f2e7ecfde973ad5455ef1f70cf68ef\", element=\"4b393fdf-5b12-4f54-a791-6a50eac0e45b\")>, <selenium.webdriver.remote.webelement.WebElement (session=\"41f2e7ecfde973ad5455ef1f70cf68ef\", element=\"df897c9a-3fd2-40da-941e-9373b247e789\")>, <selenium.webdriver.remote.webelement.WebElement (session=\"41f2e7ecfde973ad5455ef1f70cf68ef\", element=\"2d667654-bfcd-4ddb-b5cc-83cf77943a43\")>, <selenium.webdriver.remote.webelement.WebElement (session=\"41f2e7ecfde973ad5455ef1f70cf68ef\", element=\"21d2bbb9-9f2c-4d07-9b9c-3708b1d5bb2f\")>]\n"
     ]
    }
   ],
   "source": [
    "# extract page-3 elements\n",
    "# extract links of brands(81-100)\n",
    "brands_100 = driver.find_elements_by_xpath(\"//div[@class='_2WkVRV']\")\n",
    "print(brands_100[0:20])\n",
    "\n",
    "time.sleep(8)  # sleep code for 8 second\n",
    "\n",
    "# extract links of product description(81-100)\n",
    "des_100 = driver.find_elements_by_xpath(\"//div[@class='_2B099V']/a[1]\")\n",
    "print(des_100[0:20])\n",
    "\n",
    "# extract links of price(81-100)\n",
    "price_100 = driver.find_elements_by_xpath(\"//div[@class='_30jeq3']\")\n",
    "print(price_100[0:20])\n",
    "\n",
    "# extract links of discount%(81-100)\n",
    "discount_100 = driver.find_elements_by_xpath(\"//div[@class='_3Ay6Sb']\")\n",
    "print(discount_100[0:20])\n",
    "\n",
    "time.sleep(8)  # sleep code for 8 second"
   ]
  },
  {
   "cell_type": "code",
   "execution_count": 184,
   "metadata": {},
   "outputs": [
    {
     "name": "stdout",
     "output_type": "stream",
     "text": [
      "['GANSTA', 'ROZZETTA CRAFT', 'hipe', 'Tom Martin', 'ROYAL SON', 'hipe', 'NuVew', 'ROYAL SON', 'Ray-Ban', 'Tom Martin', 'Redleaf', 'FLYING MACHINE', 'Fastrack', 'Aislin', 'Fastrack', 'Fastrack', 'Fastrack', 'GANSTA', 'BKGE', 'Tom Martin']\n",
      "['UV Protection Aviator Sunglasses (57)', 'Gradient, UV Protection Round Sunglasses (Free Size)', 'UV Protection, Gradient, Riding Glasses Wayfarer Sungla...', 'Mirrored, UV Protection Aviator Sunglasses (Free Size)', 'Mirrored Aviator Sunglasses (55)', 'Mirrored, Gradient, UV Protection, Night Vision, Riding...', 'UV Protection, Riding Glasses Wayfarer Sunglasses (56)', 'UV Protection Wayfarer Sunglasses (55)', 'UV Protection Aviator Sunglasses (58)', 'UV Protection Rectangular, Aviator Sunglasses (Free Siz...', 'UV Protection Sports Sunglasses (Free Size)', 'UV Protection Wayfarer Sunglasses (Free Size)', 'UV Protection Wayfarer Sunglasses (Free Size)', 'UV Protection Cat-eye Sunglasses (58)', 'UV Protection Aviator Sunglasses (Free Size)', 'Gradient, UV Protection Wayfarer Sunglasses (Free Size)', 'UV Protection Aviator Sunglasses (Free Size)', 'UV Protection Aviator Sunglasses (57)', 'UV Protection, Polarized Rectangular Sunglasses (53)', 'Polarized, UV Protection Round Sunglasses (Free Size)']\n",
      "['₹289', '₹449', '₹230', '₹999', '₹399', '₹199', '₹240', '₹265', '₹6,069', '₹979', '₹339', '₹695', '₹668', '₹592', '₹737', '₹757', '₹679', '₹284', '₹389', '₹934']\n",
      "['85% off', '77% off', '76% off', '61% off', '73% off', '86% off', '75% off', '79% off', '17% off', '59% off', '86% off', '56% off', '16% off', '76% off', '7% off', '5% off', '24% off', '85% off', '80% off', '61% off']\n"
     ]
    }
   ],
   "source": [
    "# extract text from links\n",
    "Brands_100 = []\n",
    "for i in brands_100[0:20]:\n",
    "    Brands_100.append(i.text)\n",
    "print(Brands_100)\n",
    "\n",
    "time.sleep(4)  # sleep code for 4 second\n",
    "\n",
    "description_100=[]\n",
    "for j in des_100[0:20]:\n",
    "    description_100.append(j.text)\n",
    "print(description_100)\n",
    "\n",
    "Price_100=[]\n",
    "for k in price_100[0:20]:\n",
    "    Price_100.append(k.text)\n",
    "print(Price_100)\n",
    "\n",
    "Discount_100=[]\n",
    "for l in discount_100[0:20]:\n",
    "    Discount_100.append(l.text)\n",
    "print(Discount_100)"
   ]
  },
  {
   "cell_type": "code",
   "execution_count": 185,
   "metadata": {},
   "outputs": [],
   "source": [
    "# close driver\n",
    "driver.close()"
   ]
  },
  {
   "cell_type": "code",
   "execution_count": 186,
   "metadata": {},
   "outputs": [
    {
     "name": "stdout",
     "output_type": "stream",
     "text": [
      "['ROYAL SON', 'ROYAL SON', 'Fastrack', 'Fastrack', 'PIRASO', 'Fastrack', 'PIRASO', 'ROZZETTA CRAFT', 'Singco India', 'PIRASO', 'Fastrack', 'Fastrack', 'ROZZETTA CRAFT', 'Aislin', 'Singco India', 'Fastrack', 'Fastrack', 'HIPPON', 'DEIXELS', 'hipe', 'PIRASO', 'Silver Kartz', 'ROZZETTA CRAFT', 'ROYAL SON', 'NuVew', 'Fastrack', 'Fastrack', 'ROYAL SON', 'DEIXELS', 'ROYAL SON', 'hipe', 'ROZZETTA CRAFT', 'Singco', 'Aislin', 'DEIXELS', 'Fastrack', 'hipe', 'Silver Kartz', 'hipe', 'SAAR ENTERPRISES', 'Fastrack', 'Fastrack', 'Fastrack', 'Aislin', 'Fastrack', 'PIRASO', 'Fastrack', 'Fastrack', 'Fastrack', 'Aislin', 'Fastrack', 'Singco India', 'Fastrack', 'Tom Martin', 'ALEYBEE', 'GANSTA', 'GANSTA', 'hipe', 'hipe', 'ROYAL SON', 'NuVew', 'BKGE', 'ROYAL SON', 'ROYAL SON', 'Silver Kartz', 'Fastrack', 'ROYAL SON', 'ROZZETTA CRAFT', 'ROZZETTA CRAFT', 'Aislin', 'Fastrack', 'Aislin', 'Fastrack', 'Aislin', 'PIRASO', 'NuVew', 'GANSTA', 'Aislin', 'ROYAL SON', 'Tom Martin', 'GANSTA', 'ROZZETTA CRAFT', 'hipe', 'Tom Martin', 'ROYAL SON', 'hipe', 'NuVew', 'ROYAL SON', 'Ray-Ban', 'Tom Martin', 'Redleaf', 'FLYING MACHINE', 'Fastrack', 'Aislin', 'Fastrack', 'Fastrack', 'Fastrack', 'GANSTA', 'BKGE', 'Tom Martin']\n",
      "['Mirrored Aviator Sunglasses (55)', 'UV Protection Retro Square Sunglasses (88)', 'UV Protection Wayfarer Sunglasses (Free Size)', 'UV Protection Rectangular Sunglasses (Free Size)', 'UV Protection Aviator Sunglasses (Free Size)', 'Mirrored, UV Protection Wayfarer Sunglasses (Free Size)', 'UV Protection Aviator Sunglasses (54)', 'UV Protection Retro Square Sunglasses (Free Size)', 'UV Protection, Polarized Aviator Sunglasses (Free Size)', 'UV Protection Aviator Sunglasses (54)', 'Gradient, UV Protection Wayfarer Sunglasses (Free Size)', 'UV Protection Aviator Sunglasses (Free Size)', 'UV Protection, Gradient Rectangular Sunglasses (Free Si...', 'UV Protection Oval Sunglasses (60)', 'UV Protection Aviator Sunglasses (Free Size)', 'UV Protection Wayfarer Sunglasses (Free Size)', 'UV Protection Wayfarer Sunglasses (56)', 'UV Protection Wayfarer Sunglasses (55)', 'UV Protection Aviator, Wayfarer Sunglasses (Free Size)', 'Gradient, Mirrored, UV Protection Retro Square Sunglass...', 'UV Protection Wayfarer Sunglasses (32)', 'UV Protection Oval Sunglasses (56)', 'UV Protection Rectangular Sunglasses (Free Size)', 'UV Protection Over-sized Sunglasses (60)', 'UV Protection Aviator Sunglasses (58)', 'UV Protection Aviator Sunglasses (58)', 'UV Protection Aviator Sunglasses (58)', 'Mirrored Aviator Sunglasses (58)', 'UV Protection Round Sunglasses (Free Size)', 'UV Protection Retro Square Sunglasses (49)', 'UV Protection Sports Sunglasses (Free Size)', 'UV Protection Retro Square Sunglasses (Free Size)', 'UV Protection, Others Aviator Sunglasses (32)', 'UV Protection, Gradient Butterfly, Over-sized Sunglasse...', 'UV Protection Wayfarer Sunglasses (Free Size)', 'Gradient, UV Protection Wayfarer Sunglasses (Free Size)', 'UV Protection, Mirrored Aviator Sunglasses (Free Size)', 'UV Protection Wayfarer Sunglasses (Free Size)', 'Mirrored, UV Protection, Gradient Round Sunglasses (55)', 'UV Protection Round Sunglasses (Free Size)', 'UV Protection Wayfarer Sunglasses (Free Size)', 'UV Protection Wayfarer Sunglasses (Free Size)', 'UV Protection Shield Sunglasses (Free Size)', 'UV Protection Aviator, Wrap-around Sunglasses (63)', 'UV Protection Aviator Sunglasses (Free Size)', 'UV Protection Aviator Sunglasses (54)', 'UV Protection Shield Sunglasses (Free Size)', 'Gradient, UV Protection Wayfarer Sunglasses (Free Size)', 'UV Protection Wayfarer Sunglasses (57)', 'UV Protection Rectangular, Cat-eye Sunglasses (58)', 'UV Protection Aviator Sunglasses (Free Size)', 'Mirrored, Riding Glasses, Others Sports Sunglasses (50)', 'UV Protection Aviator Sunglasses (Free Size)', 'UV Protection Rectangular, Aviator Sunglasses (Free Siz...', 'UV Protection Round Sunglasses (54)', 'UV Protection, Gradient Wayfarer Sunglasses (53)', 'UV Protection Aviator Sunglasses (57)', 'Mirrored Wayfarer Sunglasses (55)', 'UV Protection, Mirrored Round Sunglasses (Free Size)', 'Mirrored Aviator Sunglasses (Free Size)', 'UV Protection, Night Vision, Riding Glasses Sports Sung...', 'UV Protection, Polarized Rectangular, Retro Square Sung...', 'Mirrored Aviator Sunglasses (55)', 'UV Protection Aviator Sunglasses (60)', 'UV Protection Oval Sunglasses (56)', 'UV Protection Wayfarer Sunglasses (Free Size)', 'Mirrored Aviator Sunglasses (Free Size)', 'UV Protection, Riding Glasses Rectangular Sunglasses (F...', 'Mirrored, UV Protection Round Sunglasses (Free Size)', 'UV Protection Aviator Sunglasses (58)', 'UV Protection Rectangular Sunglasses (56)', 'UV Protection, Gradient Oval Sunglasses (58)', 'UV Protection Wayfarer Sunglasses (54)', 'UV Protection Aviator Sunglasses (60)', 'UV Protection Aviator Sunglasses (50)', 'UV Protection Aviator Sunglasses (57)', 'UV Protection Wrap-around Sunglasses (63)', 'UV Protection, Others Wayfarer, Rectangular Sunglasses ...', 'UV Protection Rectangular Sunglasses (58)', 'UV Protection Aviator Sunglasses (Free Size)', 'UV Protection Aviator Sunglasses (57)', 'Gradient, UV Protection Round Sunglasses (Free Size)', 'UV Protection, Gradient, Riding Glasses Wayfarer Sungla...', 'Mirrored, UV Protection Aviator Sunglasses (Free Size)', 'Mirrored Aviator Sunglasses (55)', 'Mirrored, Gradient, UV Protection, Night Vision, Riding...', 'UV Protection, Riding Glasses Wayfarer Sunglasses (56)', 'UV Protection Wayfarer Sunglasses (55)', 'UV Protection Aviator Sunglasses (58)', 'UV Protection Rectangular, Aviator Sunglasses (Free Siz...', 'UV Protection Sports Sunglasses (Free Size)', 'UV Protection Wayfarer Sunglasses (Free Size)', 'UV Protection Wayfarer Sunglasses (Free Size)', 'UV Protection Cat-eye Sunglasses (58)', 'UV Protection Aviator Sunglasses (Free Size)', 'Gradient, UV Protection Wayfarer Sunglasses (Free Size)', 'UV Protection Aviator Sunglasses (Free Size)', 'UV Protection Aviator Sunglasses (57)', 'UV Protection, Polarized Rectangular Sunglasses (53)', 'Polarized, UV Protection Round Sunglasses (Free Size)']\n",
      "['₹379', '₹599', '₹758', '₹569', '₹314', '₹499', '₹225', '₹499', '₹195', '₹225', '₹674', '₹674', '₹404', '₹764', '₹315', '₹733', '₹759', '₹247', '₹202', '₹221', '₹225', '₹299', '₹398', '₹664', '₹215', '₹1,115', '₹1,091', '₹399', '₹189', '₹664', '₹299', '₹499', '₹345', '₹756', '₹200', '₹843', '₹179', '₹246', '₹210', '₹325', '₹759', '₹837', '₹761', '₹975', '₹754', '₹225', '₹759', '₹674', '₹559', '₹675', '₹725', '₹249', '₹759', '₹979', '₹189', '₹284', '₹288', '₹219', '₹219', '₹399', '₹198', '₹394', '₹379', '₹749', '₹299', '₹627', '₹399', '₹426', '₹399', '₹898', '₹689', '₹498', '₹647', '₹895', '₹314', '₹195', '₹269', '₹945', '₹474', '₹934', '₹289', '₹449', '₹230', '₹999', '₹399', '₹199', '₹240', '₹265', '₹6,069', '₹979', '₹339', '₹695', '₹668', '₹592', '₹737', '₹757', '₹679', '₹284', '₹389', '₹934']\n",
      "['74% off', '70% off', '15% off', '28% off', '80% off', '50% off', '85% off', '77% off', '72% off', '85% off', '15% off', '25% off', '79% off', '69% off', '73% off', '18% off', '15% off', '79% off', '83% off', '77% off', '85% off', '75% off', '73% off', '66% off', '72% off', '14% off', '16% off', '73% off', '76% off', '66% off', '84% off', '77% off', '82% off', '72% off', '59% off', '15% off', '82% off', '83% off', '85% off', '80% off', '15% off', '6% off', '15% off', '73% off', '5% off', '85% off', '15% off', '15% off', '30% off', '72% off', '9% off', '83% off', '15% off', '59% off', '87% off', '85% off', '85% off', '78% off', '86% off', '73% off', '79% off', '78% off', '74% off', '62% off', '75% off', '21% off', '73% off', '80% off', '72% off', '75% off', '13% off', '67% off', '28% off', '75% off', '80% off', '75% off', '86% off', '74% off', '68% off', '61% off', '85% off', '77% off', '76% off', '61% off', '73% off', '86% off', '75% off', '79% off', '17% off', '59% off', '86% off', '56% off', '16% off', '76% off', '7% off', '5% off', '24% off', '85% off', '80% off', '61% off']\n"
     ]
    }
   ],
   "source": [
    "# merge all data \n",
    "brands_all=Brands_40+Brands_80+Brands_100\n",
    "print(brands_all)\n",
    "\n",
    "description_all=description_40+description_80+description_100\n",
    "print(description_all)\n",
    "\n",
    "price_all=Price_40+Price_80+Price_100\n",
    "print(price_all)\n",
    "\n",
    "discount_all=Discount_40+Discount_80+Discount_100\n",
    "print(discount_all)"
   ]
  },
  {
   "cell_type": "code",
   "execution_count": 187,
   "metadata": {},
   "outputs": [
    {
     "data": {
      "text/html": [
       "<div>\n",
       "<style scoped>\n",
       "    .dataframe tbody tr th:only-of-type {\n",
       "        vertical-align: middle;\n",
       "    }\n",
       "\n",
       "    .dataframe tbody tr th {\n",
       "        vertical-align: top;\n",
       "    }\n",
       "\n",
       "    .dataframe thead th {\n",
       "        text-align: right;\n",
       "    }\n",
       "</style>\n",
       "<table border=\"1\" class=\"dataframe\">\n",
       "  <thead>\n",
       "    <tr style=\"text-align: right;\">\n",
       "      <th></th>\n",
       "      <th>Brands</th>\n",
       "      <th>Description</th>\n",
       "      <th>Price</th>\n",
       "      <th>Discount%</th>\n",
       "    </tr>\n",
       "  </thead>\n",
       "  <tbody>\n",
       "    <tr>\n",
       "      <th>0</th>\n",
       "      <td>ROYAL SON</td>\n",
       "      <td>Mirrored Aviator Sunglasses (55)</td>\n",
       "      <td>₹379</td>\n",
       "      <td>74% off</td>\n",
       "    </tr>\n",
       "    <tr>\n",
       "      <th>1</th>\n",
       "      <td>ROYAL SON</td>\n",
       "      <td>UV Protection Retro Square Sunglasses (88)</td>\n",
       "      <td>₹599</td>\n",
       "      <td>70% off</td>\n",
       "    </tr>\n",
       "    <tr>\n",
       "      <th>2</th>\n",
       "      <td>Fastrack</td>\n",
       "      <td>UV Protection Wayfarer Sunglasses (Free Size)</td>\n",
       "      <td>₹758</td>\n",
       "      <td>15% off</td>\n",
       "    </tr>\n",
       "    <tr>\n",
       "      <th>3</th>\n",
       "      <td>Fastrack</td>\n",
       "      <td>UV Protection Rectangular Sunglasses (Free Size)</td>\n",
       "      <td>₹569</td>\n",
       "      <td>28% off</td>\n",
       "    </tr>\n",
       "    <tr>\n",
       "      <th>4</th>\n",
       "      <td>PIRASO</td>\n",
       "      <td>UV Protection Aviator Sunglasses (Free Size)</td>\n",
       "      <td>₹314</td>\n",
       "      <td>80% off</td>\n",
       "    </tr>\n",
       "    <tr>\n",
       "      <th>...</th>\n",
       "      <td>...</td>\n",
       "      <td>...</td>\n",
       "      <td>...</td>\n",
       "      <td>...</td>\n",
       "    </tr>\n",
       "    <tr>\n",
       "      <th>95</th>\n",
       "      <td>Fastrack</td>\n",
       "      <td>Gradient, UV Protection Wayfarer Sunglasses (F...</td>\n",
       "      <td>₹757</td>\n",
       "      <td>5% off</td>\n",
       "    </tr>\n",
       "    <tr>\n",
       "      <th>96</th>\n",
       "      <td>Fastrack</td>\n",
       "      <td>UV Protection Aviator Sunglasses (Free Size)</td>\n",
       "      <td>₹679</td>\n",
       "      <td>24% off</td>\n",
       "    </tr>\n",
       "    <tr>\n",
       "      <th>97</th>\n",
       "      <td>GANSTA</td>\n",
       "      <td>UV Protection Aviator Sunglasses (57)</td>\n",
       "      <td>₹284</td>\n",
       "      <td>85% off</td>\n",
       "    </tr>\n",
       "    <tr>\n",
       "      <th>98</th>\n",
       "      <td>BKGE</td>\n",
       "      <td>UV Protection, Polarized Rectangular Sunglasse...</td>\n",
       "      <td>₹389</td>\n",
       "      <td>80% off</td>\n",
       "    </tr>\n",
       "    <tr>\n",
       "      <th>99</th>\n",
       "      <td>Tom Martin</td>\n",
       "      <td>Polarized, UV Protection Round Sunglasses (Fre...</td>\n",
       "      <td>₹934</td>\n",
       "      <td>61% off</td>\n",
       "    </tr>\n",
       "  </tbody>\n",
       "</table>\n",
       "<p>100 rows × 4 columns</p>\n",
       "</div>"
      ],
      "text/plain": [
       "        Brands                                        Description Price  \\\n",
       "0    ROYAL SON                   Mirrored Aviator Sunglasses (55)  ₹379   \n",
       "1    ROYAL SON         UV Protection Retro Square Sunglasses (88)  ₹599   \n",
       "2     Fastrack      UV Protection Wayfarer Sunglasses (Free Size)  ₹758   \n",
       "3     Fastrack   UV Protection Rectangular Sunglasses (Free Size)  ₹569   \n",
       "4       PIRASO       UV Protection Aviator Sunglasses (Free Size)  ₹314   \n",
       "..         ...                                                ...   ...   \n",
       "95    Fastrack  Gradient, UV Protection Wayfarer Sunglasses (F...  ₹757   \n",
       "96    Fastrack       UV Protection Aviator Sunglasses (Free Size)  ₹679   \n",
       "97      GANSTA              UV Protection Aviator Sunglasses (57)  ₹284   \n",
       "98        BKGE  UV Protection, Polarized Rectangular Sunglasse...  ₹389   \n",
       "99  Tom Martin  Polarized, UV Protection Round Sunglasses (Fre...  ₹934   \n",
       "\n",
       "   Discount%  \n",
       "0    74% off  \n",
       "1    70% off  \n",
       "2    15% off  \n",
       "3    28% off  \n",
       "4    80% off  \n",
       "..       ...  \n",
       "95    5% off  \n",
       "96   24% off  \n",
       "97   85% off  \n",
       "98   80% off  \n",
       "99   61% off  \n",
       "\n",
       "[100 rows x 4 columns]"
      ]
     },
     "execution_count": 187,
     "metadata": {},
     "output_type": "execute_result"
    }
   ],
   "source": [
    "df = pd.DataFrame({})\n",
    "df['Brands'] = brands_all\n",
    "df['Description'] = description_all\n",
    "df['Price'] = price_all\n",
    "df['Discount%'] = discount_all\n",
    "df"
   ]
  },
  {
   "cell_type": "markdown",
   "metadata": {},
   "source": [
    "#### Q7: Scrape 100 reviews data from flipkart.com for iphone11 phone.you have to scrape Rating, Review_summary and Full review"
   ]
  },
  {
   "cell_type": "code",
   "execution_count": 177,
   "metadata": {},
   "outputs": [],
   "source": [
    "# open chromedriver using path\n",
    "driver=webdriver.Chrome(\"I:\\Software//chromedriver.exe\")"
   ]
  },
  {
   "cell_type": "code",
   "execution_count": 178,
   "metadata": {},
   "outputs": [],
   "source": [
    "# open url in driver\n",
    "driver.get(\"https://www.flipkart.com/apple-iphone-11-black-64-gb-includes-earpods-power-adapter/p/itm0f37c2240b217?pid=MOBFKCTSVZAXUHGR&lid=LSTMOBFKCTSVZAXUHGREPBFGI&marketplace\") \n",
    "\n",
    "driver.implicitly_wait(10) # wait for open all elements of the page\n",
    "\n",
    "driver.maximize_window() # maximize driver window\n",
    "\n",
    "time.sleep(5)  # sleep code for 5 second"
   ]
  },
  {
   "cell_type": "code",
   "execution_count": 179,
   "metadata": {},
   "outputs": [],
   "source": [
    "# click on all 3063 reviews\n",
    "driver.find_element_by_xpath(\"//div[@class='_3UAT2v _16PBlm']/span[1]\").click()\n",
    "\n",
    "driver.implicitly_wait(10) # wait for open all elements of the page\n",
    "\n",
    "driver.find_element_by_xpath(\"//nav[@class='yFHi8N']/a[2]\").click() # click on 2 page\n",
    "time.sleep(8)  # sleep code for 8 second\n",
    "\n",
    "# again click on 1 page to get url with page=1 at the end, which is extract below\n",
    "driver.find_element_by_xpath(\"//nav[@class='yFHi8N']/a[1]\").click()"
   ]
  },
  {
   "cell_type": "code",
   "execution_count": 180,
   "metadata": {},
   "outputs": [
    {
     "data": {
      "text/plain": [
       "'https://www.flipkart.com/apple-iphone-11-black-64-gb-includes-earpods-power-adapter/product-reviews/itm0f37c2240b217?pid=MOBFKCTSVZAXUHGR&lid=LSTMOBFKCTSVZAXUHGREPBFGI&marketplace=FLIPKART&page=1'"
      ]
     },
     "execution_count": 180,
     "metadata": {},
     "output_type": "execute_result"
    }
   ],
   "source": [
    "# extract page 1 url for apply loop of all pages\n",
    "driver.current_url"
   ]
  },
  {
   "cell_type": "code",
   "execution_count": 181,
   "metadata": {},
   "outputs": [
    {
     "name": "stdout",
     "output_type": "stream",
     "text": [
      "['5\\nBrilliant', '5\\nPerfect product!', '5\\nGreat product', '5\\nWorth every penny', '5\\nHighly recommended', '5\\nPerfect product!', '5\\nPerfect product!', '5\\nFabulous!', '5\\nWonderful', '5\\nWorth every penny', '5\\nWorth every penny', '5\\nSimply awesome', '5\\nPerfect product!', '4\\nNice product', '5\\nTerrific', '5\\nBrilliant', '5\\nMust buy!', '5\\nTerrific purchase', '5\\nWonderful', '5\\nMind-blowing purchase', '5\\nGreat product', '5\\nTerrific purchase', '5\\nSimply awesome', '4\\nGood quality product', '1\\nVery poor', '5\\nFabulous!', '5\\nHighly recommended', '5\\nMind-blowing purchase', '5\\nMind-blowing purchase', '5\\nWonderful', '4\\nGood choice', '5\\nPerfect product!', '5\\nClassy product', '5\\nPerfect product!', '5\\nJust wow!', '5\\nAwesome', '4\\nGood choice', '5\\nTerrific purchase', '5\\nPerfect product!', '5\\nHighly recommended', '5\\nPerfect product!', '5\\nExcellent', '5\\nFabulous!', '5\\nExcellent', '5\\nJust wow!', '5\\nSimply awesome', '5\\nTerrific purchase', '5\\nSimply awesome', '5\\nWorth every penny', '5\\nClassy product', '5\\nBrilliant', '5\\nMind-blowing purchase', '5\\nAwesome', '4\\nValue-for-money', '4\\nGood quality product', '5\\nSuper!', '4\\nGood quality product', '5\\nTerrific purchase', '5\\nSuper!', '5\\nFabulous!', '5\\nMust buy!', '4\\nWonderful', '5\\nExcellent', '5\\nMind-blowing purchase', '5\\nAwesome', '3\\nDecent product', '5\\nBrilliant', '5\\nWonderful', '5\\nJust wow!', '4\\nGood quality product', '5\\nMust buy!', '5\\nMind-blowing purchase', '5\\nExcellent', '5\\nJust wow!', '5\\nExcellent', '5\\nAwesome', '5\\nSuper!', '5\\nFabulous!', '4\\nValue-for-money', '5\\nPerfect product!', '5\\nTerrific purchase', '5\\nAwesome', '5\\nClassy product', '5\\nSuper!', '5\\nTerrific', '5\\nTerrific', '4\\nVery Good', '5\\nPerfect product!', '5\\nFabulous!', '5\\nTerrific', '5\\nWorth every penny', '5\\nMust buy!', '5\\nWorth every penny', '5\\nFabulous!', '5\\nWonderful', '5\\nFabulous!', '5\\nClassy product', '5\\nMust buy!', '5\\nClassy product', '5\\nAwesome']\n",
      "['Brilliant', 'Perfect product!', 'Great product', 'Worth every penny', 'Highly recommended', 'Perfect product!', 'Perfect product!', 'Fabulous!', 'Wonderful', 'Worth every penny', 'Worth every penny', 'Simply awesome', 'Perfect product!', 'Nice product', 'Terrific', 'Brilliant', 'Must buy!', 'Terrific purchase', 'Wonderful', 'Mind-blowing purchase', 'Great product', 'Terrific purchase', 'Simply awesome', 'Good quality product', 'Very poor', 'Fabulous!', 'Highly recommended', 'Mind-blowing purchase', 'Mind-blowing purchase', 'Wonderful', 'Good choice', 'Perfect product!', 'Classy product', 'Perfect product!', 'Just wow!', 'Awesome', 'Good choice', 'Terrific purchase', 'Perfect product!', 'Highly recommended', 'Perfect product!', 'Excellent', 'Fabulous!', 'Excellent', 'Just wow!', 'Simply awesome', 'Terrific purchase', 'Simply awesome', 'Worth every penny', 'Classy product', 'Brilliant', 'Mind-blowing purchase', 'Awesome', 'Value-for-money', 'Good quality product', 'Super!', 'Good quality product', 'Terrific purchase', 'Super!', 'Fabulous!', 'Must buy!', 'Wonderful', 'Excellent', 'Mind-blowing purchase', 'Awesome', 'Decent product', 'Brilliant', 'Wonderful', 'Just wow!', 'Good quality product', 'Must buy!', 'Mind-blowing purchase', 'Excellent', 'Just wow!', 'Excellent', 'Awesome', 'Super!', 'Fabulous!', 'Value-for-money', 'Perfect product!', 'Terrific purchase', 'Awesome', 'Classy product', 'Super!', 'Terrific', 'Terrific', 'Very Good', 'Perfect product!', 'Fabulous!', 'Terrific', 'Worth every penny', 'Must buy!', 'Worth every penny', 'Fabulous!', 'Wonderful', 'Fabulous!', 'Classy product', 'Must buy!', 'Classy product', 'Awesome']\n",
      "['The Best Phone for the Money\\n\\nThe iPhone 11 offers superb cameras, a more durable design and excellent battery life for an affordable price.\\n\\nCompelling ultra-wide camera\\nNew Night mode is excellent\\nLong battery life', 'Amazing phone with great cameras and better battery which gives you the best performance. I just love the camera .', 'Amazing Powerful and Durable Gadget.\\n\\nI’m am very happy with the camera picture quality, Amazing face id unlocked in dark room, Strong battery with perfect screen size as you can carry easily in pocket. This is my third iPhone.\\n\\nI shifted from android Samsung Note series to iPhone because of the strong build quality and peace of mind for next 3-4 years.\\n\\nDon’t think to much just go for it and I suggest you to go for minimum 128gb variant or more 256gb.\\n\\nI’ve attached my puppy pics and no fi...\\nREAD MORE', 'Previously I was using one plus 3t it was a great phone\\nAnd then I decided to upgrade I am stuck between Samsung s10 plus or iPhone 11\\nI have seen the specs and everything were good except the display it’s somewhere between 720-1080 and it’s not even an amoled it’s an LCD display\\nBut I decided to go with iPhone because I have never used an IOS device I have Been an android user from the past 9 years I ordered IPhone 11 (128gb) product red\\nMy experience after using 3 weeks\\n1. The delivery ...\\nREAD MORE', 'iphone 11 is a very good phone to buy only if you can compromise for the display. The display on this is device is pretty good but you can get other options with better displays in this price segment.\\nIf you can survive with an HD+ LCD panel with thicker bezels and a notch up top then this is a very good phone for you.\\nCameras are awesome, battery backup excellent, great performance and a decent premium look. Good job Apple !', 'It’s a must buy who is looking for an upgrade from previous generation of iPhones. If you are using XR then still you can hold on for sometime and upgrade to 2020 model else this phone is a must buy . Camera quality is amazing and wide angle is something to count upon. Performance wise it’s amazing and feels premium while holding in hand. So a big YES for this device. Go for 128 GB variant as the 4K videos will occupy lots of space and the storage can get over very quickly. Try to buy it with...\\nREAD MORE', 'Value for money❤️❤️\\nIts awesome mobile phone in the world ...\\nDisplay was very good and bright ..\\nTrust me freinds you r never regret after Buying..\\nJust go for it....\\nI love this phone and i switch to iphone x to 11', 'This is my first iOS phone. I am very happy with this product. Very much satisfied with this. I love this phone.', '*Review after 10 months of usage*\\nDoesn\\'t seem bulky with decent touch and camera. The \"standard maintained\" quality of IPhone. Go for it, if your budget is not more enough for pro models. It\\'s a value for money among the 11 series Stereo speakers are so good, you will love the stereo sound. Battery backup is not decent but still better than Iphone 7 and 8.Processor is fast, the phone doesn\\'t lag at all even with heavy games, waterproof, faster face id and with no fingerprint scanners. The ca...\\nREAD MORE', 'Best budget Iphone till date ❤️ go for it guys without second thought. Let me explain you guys about Camera, Display, battery, and performance.\\n\\nCamera: at this price range there is no comparison of camera, you’ll love the picture quality as well as video quality. I am a Vlogger I wanted an iPhone with 4k video by front camera and I got this phone and I am more than happy 😃\\n\\nBattery: I use this phone roughly as I am active social media person and I have a youtube channel. so the battery ba...\\nREAD MORE', 'It’s been almost a month since I have been using this phone. I upgraded from an iPhone 8. The main issue with my 8 was battery and this phone is just awesome when it comes to battery. It lasts a day and a half for me with my regular use , internet connected always with 4g\\nCan’t move forward without saying this. Battery of this phone is a life saver when I am traveling or at work when I don’t get the option to charge\\nCamera is superb. Front cam selfies and back cam photos are just awesome.\\n...\\nREAD MORE', 'Excellent camera, good performance, no lag. The lcd display is also good.. but difference come when we watch movie in prime and Netflix, the colours are not vibrant.. as we see in amoled display.. and the charger in box is of 5 watts.. takes more than 3 hours to charge from 0 to 100.. so guys be prepare to buy 18 watts charger . Finally I am an android user, it was my first Iapple phone, I promise u guys the iOS is so smooth.. overall the phone is damn good.... close eyes to buy it.. thanks t...\\nREAD MORE', \"Iphone is just awesome.. battery backup is very very nice.. continuously for 10 hours we can use it.camera is just awesome.. display is just fab.i love it alot..i had to wait 15 days for it as i pre ordered it..overalll it's worth the price..these all images are clicked by my iPhone..and i love it.\", 'Awesome Phone. Slightly high price but worth. Better than iPhone XR.\\nCamera is superb and wide angle camera is very clear.\\n12MP selfie camera is also very good.\\nA13 Chip gives a very good and smooth performance.', 'Really worth of money. i just love it. It is the best phone ever.', 'I have migrated from OP 7pro... and trust me, iPhone 11 is totally worth it.. following are the reasons:-\\n1)there is ABSOLUTELY NO ISSUE WITH THE DISPLAY... its crisp, sharp and I found it to be much much better than OP7 pro. Netflix, Prime video all run crisply... you won’t miss a thing. True Tone works flawlessly...the display brightness is perfect. OP have not calibrated their screens properly.\\n2) iPhone 11 series have really good cameras... others have spoken in depth about them.\\n3) bat...\\nREAD MORE', 'It’s an amazing product from apple and the camera is simply superb. Phone is faster.Night shot is simply superb and detailing and colour differentiation from camera is an added advantage\\n\\nThis review I have written from iPhone 11 only and I am glad to say outside.\\n\\nCons wise if we see HD+ display only, no battery percentage indicator as in older iPhone 8.\\nNo assistive touch control button in it\\nNo oleophobic coating on back panel glass and finger prints are visible but since I bought mint gr...\\nREAD MORE', 'Upgraded from iphone 6 to 11 best phone for iphone users battery is much better than other iphones camera is awesome love to use it.camera is so clear in night.', 'This is my first ever I phone. Before this I was using my google nexus 5. But moving from android to iOS is a great experience. It’s worth at this price. I will highly recommend it if you want to move to iOS. The best part of this phone is it’s camera and it’s battery life. This two things have won my heart. I loved it. Happy to have it in my hand. Still exploring its features. And can’t forget to mention Flipkart service. Very prompt service and fast delivery.', 'This will help you more. See if you are planning to buy iPhone 11. I will say. Yes. But there are some plans I just want to disclose before you buy. 1) If you are an existing iPhone X/XS/XS Max/ XR user, better you guys do not think it to buy. You guys have more or less better gadget. 2) If you are an android user and planning to buy premium phone. I will suggest them to please buy iPhone instead of buying an Android. I bet you will never go back to android after using IOS. Now I want to shar...\\nREAD MORE', 'Well you all know the specifications . One of a kind. Best iPhone till date. Many enhancements to the camera app with many options. Love the glass body with matte finish in the lens area on the back. Lovely colours to choose from. Best battery in an iPhone till date, enough to last more than a day in normal usage. I tested my iPhone 11 battery and lasted for than 24 hours after full charge still with 30% battery charge left. Watched movies for some time. Normal usage on calls, browsing, musi...\\nREAD MORE', 'The built quality is not very premium.\\nThe battery back is great .\\nThe LCD panel is not so sharp but the brightness level is very High .\\nCamera is super duper awesome.\\nThe red colour which people think is bright is actually very soothing and excellent colour to choose from .\\nThe A13 Bionic chip is really a flagship processor and can beat any phone which even has 12 gb ram .\\nCamera module is very great and looks very stylish.', 'Really good actually this is my first apple product am using its really awesome performance wise excellent. Am really happy with this iphone11', 'it is very good at performance. Camera is best like before and very smooth response even in water. Don’t buy 12 mini buy iPhone 11 , it is far better than 12 mini believe me ! Have a nice day \\uf8ff ☺️', 'Reviewing again after 5 months. At the beginning the battery and performance was good but it degraded soon. Also I was facing heating issues. The mobile will heat up like a stove sometimes. You cannot even play Pubg even in low settings properly, performance is not a problem but heating is. Also if you play that game for 10 mins the brightness will be automatically down due to over heating even when the auto brightness is set to off. This will not be solved even if u manually increase the bri...\\nREAD MORE', \"I can say I'm damn impressed with iPhone 11. As they says iPhone 11 have the toughest glass ever in the smartphone which you'll find on the front and back and it's totally smooth. The fit and finish is full apple quality - there's no sense that any cheaping out has happened in the construction. Without saying it's camera features this review won't complete. The iPhone 11 has a dual camera system, consisting of a wide angle len's that's pretty much same as found on the iPhone XR last year, but...\\nREAD MORE\", \"It's my first time to use iOS phone and I am loving my upgradation 😍😍 I love the color, I love the assebility of the phone....I need to learn more about its functionality, but as far as I have seen, it's quite easy and it has a lot of functions to work on, specially if you are a content writer or a blogger you get a lot of content creation platforms and they are really amazing.\\n\\nThis phone not only for good quality photography but a lot of other task too.😍💯\", 'Best Quality Product OF iPhone Series , Sound Quality & Camera quality is very awesome, Battery Life is very Sufficient for 24 hr Backup With Full Internet Access , I love this this Product too much , It is very fast & making me Very fast in all my daily Routine\\nHighlights;\\n1.Camera: 5 STAR\\n2.Video Recording: 5 star\\n3.Night mODE sHOOTING & Camera:4 star\\n4. Audio Quality: Awesome\\n5. Battery : 5 Star\\n6. Touch:5 Star\\n7. Processor: Very Fast\\nThe M...\\nREAD MORE', 'First thanks to Flipkart for this amazing deal and phone is outstanding. I upgraded from iPhone 7 and this is like very big upgrade. But the packaging was very basic I expected a good packaging as they only wrapped one layer of bubble wrap which I don’t think is enough to protect this expensive phone. And I recommend this phone and seller as well.\\n\\nAnd I’m posting this review after using it for 4 days.', 'I just directly switch from iphone 6s to iphone 11 .The best premium smartphone I recommend to everyone. Excellent quality and colors the iphone have in 11 series.\\nCamera quality is just awesome and the major feel when we hold in our hands. The sound quality and volume is also higher then the previous models.\\nI will recommend to buy iphone 11 instead of pro models , there is nothing much difference as this model contains everything which fulfill our needs.\\n\\nOnly one thing that I dislike abo...\\nREAD MORE', 'Looking so good 👍 😍 super 👌 stylish 😎 phone\\nClean box 📦 good 👍 delivery 👌 fast delivery\\nOriginal box Original iphone 📱 👌 😍😍😍', 'Battery backup is extraordinary, camera is decent & performance offered by A13 bionic is awsome. The display is good in practical usage like the visibility of display is very good in direct sun light compare to pro models. Iam extremely satisfied for the money I spent.', 'Well while switching from android to iOS the first thing you need to be careful about is that you will loose all your whatsapp chat backups as both are different operating systems. Camera clarity is awesome and though being an lcd screen clarity and resolution is good. Battery backup is also good unlike previous gen iPhone. So far the experience is good will Padre after a few months of usage.\\n\\nP.S the black is more of a dark grey shade and not jet black', 'In love with this iphone great performance,camera ,battery everything. Go for it have a uncompareble battery backup, no doubts in iPhone camera here You can see the picture which is shot on my iPhone In love with this iphone great performance,camera ,battery everything. Go for it have a uncompareble battery backup, no doubts in iPhone camera here You can see the picture which is shot on my iPhone In love with this iphone great performance,camera ,battery everything. Go for it have a uncompare...\\nREAD MORE', 'Best in class. Battery backup is good especially when you play games like Pubg COD. But it is sort of heavy when you hold in hands. Portrait mode is best to click pictures. Stage light effect is awesome. Try to click photos outside in nature because photos inside home or room will not give you the quality in any phone even in DSLR.', 'Very excited to have this phone. This phone has the real power unlike the android phones having SD 855 . The battery life is very good and the camera quality is excellent as comapred to redmi and other phones except google pixel. I M enjoying every single bit of it. Would recommed only if you have the budget.', 'So far it’s been an AMAZING experience coming back to iOS after nearly a decade but it’s not as versatile as android though phone is sturdy dropped it accidentally a couple of times and nothing happened fortunately camera is awesome', 'Its Very awesome product working and good camera quality and all about best product and also flipkart is very great deal and offer nice price', 'After 1 month use I found camera quality best compared to my previous Samsung note 10+.Display not good as note 10 also charging too slow.Apple should add fast charger like 11 plus and pro.Best phone for daily use', 'What a camera .....just awesome ..you can feel this iPhone just awesome . Good for gaming also ...try pubg in hd it’s just wow', 'Awesome purchase. Amazing phone with good battery backup. It’s a top notch device. White colour looks amazing. Phone has a few extra feature than iPhone XR. Overall, this is value for money', 'Amazing camera and feel super machine I am not describe my feeling but this is amazing Phone I am so lucky I have this', 'awesome phone to have. it has got many smart features apart from mind blowing looks, camera, display, battery and sound. have fallen in love with this phone. must buy phone if you have got enough money. thanks to flipkart and apple of course..', 'Its a fabulous mobile look awesome performance unbeaten camera like dslr battery good i think this is a beast of mobile', 'Dear friends... I want to share my experience with you about this amazing I phone 11....this is my first iPhone and special things about this mobile is it has great camera, battery backup and awesome display.... I mean everything is perfect.loved it 👍👍👍', \"It's very high performances devise i am like the service of flipkart delevary very fast and packing very nice perfect phone\", 'finally an iPhone with very nice battery backup. update from iPhone 7 and happy to have it. camera is not up to the mark in low light but overall a recommended phone if your budget allows 😀', 'Really satisfied with the Product I received... It’s totally genuine and the packaging was also really good so if ur planning to buy just go for it.', 'i11 is worthy to buy, too much happy with the product. Thank u flipkart I received the item on time..loved it..', 'Superb Product !!!\\nA big and worthy upgrade from mi 3S to iphone 11 .\\nTotally loved it !', 'Amazing phone and on great deal I received with super fast delivery by Flipkart...', 'awesome Phone Smooth Touch Too good Sexyy looks one word Awesome', 'Always love the apple products, upgraded from old iPhone 6S plus to this after having my first baby. I just love to click baby’s photos with it. Overall I just love this phone. Battery back up is okay, sound quality is good. Haven’t tested yet waterproof yet. Only one thing I hate is apple could have given charger & headphones in box.', \"I'm Really happy with the product\\nDelivery was fast as well\\n..it was a gift for my sister and she loved it so much.\", \"I'm switching this phone to oppo reno 10x zoom\\nIt's really impressive\\nRarely I'm missing smooth display touch response like oppo reno but\\nI really loved it.\\nCamera really impressive\", \"It's a great phone. From camera to display everything is best for the price.\\nBest camera , best performance. I think everyone should buy it . This phone has best battery life so far in iphone series which I had used earlier. Happy to have it. Thanks Flipkart\", 'I was torn between the oneplus 8 pro and the iphone 11. I had to shell out extra money for this, but I say if you can afford it, this truely is the best package.\\nMind blowing camera, battery and overall performance. Face Id works like magic even in complete darkness without firing up the screen brightness. The phones with in display fingerprint scanners do this at night time and it really burns your eyes.\\nI wanted the oneplus for its display but tbh the OLEDs on oneplus is really bad. Flick...\\nREAD MORE', 'I use a Note10+ and have been using both iOS and Android devices.\\n\\nCamera has really good features and portraits are super good, better than Samsung flagship. Overall camera setup can still be enhanced and hopeful for better upgrades on software in next release\\n\\nOperating system is quite a breeze and user experience of daily usage is very high as compared to Android. I moved to iOS very swiftly in 2 days for all my office work from Note10+\\n\\nBattery holds up quite well with 4 hrs of call and ...\\nREAD MORE', 'Did an upgrade from 6s plus to iphone 11.\\nAo far the experience is well and good. Felt smoother than 6s plus. The camera quality is superb. Battery backup is descent. Not a heavy user, and gets power more than a day. Go for it if you need an alrounder iphone in a competitve price.', 'I purchased the iPhone 11 a month back. I must say Apple has impressed me yet again . I have been an Apple user for past 5 years . The phone is power packed with amazing features . What impressed me the most was the battery backup the phone offers . Battery can easily run upto 1.5 days in single charge with moderate to\\nHeavy usage . If you’re looking for a value for money device , I don’t see any other phone in the price range which can match the iPhone 11 .\\nOne thing I didn’t like was that ...\\nREAD MORE', 'Best Apple iPhone that i have bought at a very reasonable price, camera quality is next level just awesome n of superior quality android phones not even close(RIP) to that and also battery is really good but packaging by Flipkart of iPhone was very poor of such a expensive product, firstly im bit worried about the quality of product if i purchased it through online how was the product but i think now this was mine best decision to bought it through Flipkart online because i got genuine Apple...\\nREAD MORE', \"I genuinely liked it. One of the best mobile phones I have used. It's sho smooth and it's security is very astonishing. Plus it has a very good camera quality. so overall it's a win win.\", \"Just go for it.\\nThis phone is really amazing. I ordered it for my wife and we click photos on this thing which are better than dslr. I own OnePlus 6t but it's camera sucks. iPhone is really amazing when it comes to camera. It's worth spending 50k on this. Cons- only display is lcd. While using u don't feel it but if u compare with other phone then u can see difference quite easily.\\nChanging from Android to iphone is bit difficult coz most of things u don't know but I liked it. Some of the a...\\nREAD MORE\", 'Absolutely powerful gadget. Loved it’s look! Soo glassy and classy. I would definitely recommend this model of Apple. Only disappointed with the 5W charger, one should purchase an 18W adapter for fast charging. Though battery backup is great. Bought it in September 2020, reviewing after so long so I’m gonna put the genuine review here.✅', 'The phone is completely good\\nAs far as camera Apple is king of it\\nAnd its a beast in performance\\nAnd the battery is pretty good too', 'Everything u ll like it when u use this iPhone. Simple changes only not many to lower models but it’s nice to use. Little heavy compared to previous models like 7,8', 'Excellent camera and display touching very nice and smooth very improvement against iPhone XR and new processor is very fast', 'Superfast delivery by Flipkart. Thanks.\\n\\n1. iPhone 11 is a pretty solid phone for the money you are paying.\\n2. All the bad reviews about the display is confusing. It’s not that bad.\\n3. I switched from a Oneplus 7t. I have no complaints about the display quality of iPhone. Yes, it’s not OLED, so, we are missing on the deep blacks. But that’s it. It is a very colour accurate display. Gets adequately bright and I could not find any pixelation.\\n4. Performance is one of the best, if not best, in ...\\nREAD MORE', 'Great iphone.\\nI am writing this review after 2 months of usage.\\nCamera is excellent, especially the nightmode\\nDisplay perfect\\nBattery backup awesome\\nSound quality very good\\nOverall Apple gives you a perfect iphone in this range.\\nReally in love with iPhone 11', 'Awesome camera, smooth and fast UI, display is great (though not LED) but the black area at the top could have been reduced. Battery remains a day even if used heavily. Charger in the box is ok, but 12 or 18W could have been nothing like anything. Overall an excellent product and comfortable to use. I have got it almost a month back and so far so good.', 'I rate this product 5* as it has got amazing user experience with the best performing A13 bionic processor. The screen responds and graphics rendering is top notch. With casual gaming and internet browsing, the battery lasts for approx. 1 day. Camera is very good. You will fall in love with the portrait mode. You can call me a loyal Apple customer or whatever but I won’t stop praising the products and overall experience. That user experience matters and is worth every penny you pay.\\n\\nBelow ar...\\nREAD MORE', \"i was confused between 11 and 11 pro. i was going towards 11 pro, but the screen size was not enough for me.\\nAnd i saw 11 in the showroom. i didn't find much difference in screen quality.And cameras seems to be ok with me. And i saw offer's in flipkart and made the purchase.\\nthe device is fabulous. The hardware and software quality is excellent. The new iOS is something you need to experience yourself. The drawback i found was absence of fast charger, but the pricing can compensate that. Am...\\nREAD MORE\", 'Value for money product. This iphone 11 is really amazing. Again nice release by apple. Great camera, battery backup is excellent. I just love this phone', 'The ultimate performance\\nCamera is superb\\nThe battery backup also very good i never saw iphone gives this much of battery backup\\nIf any one wana buy iphone 11 definitely i will recommend this mobile\\nIt has the better battery and powerfull processer peak performance glorious camera and the display also 100% high quality lcd display if u had money for for 12 if u dont wana invest much money on that then go for iphone 11 it has maximum same specs only main difference between the 12 and 11 is...\\nREAD MORE', 'Seller - SuperComNet ( my trust in you has grown deeper. Thanks for the genuine product )\\nThe package came packed perfectly. The box was sealed which gave me a big relief.\\n\\nApple needs no introduction since its the dominant market player. I just love the way how IPhone 11 stands out so boldly. The moment I took it out from the box, I could feel the premium intensity. The body is remarkable and crafted for giving you a elite vibe.\\n\\nCamera is to die for. There is no other phone that can beat...\\nREAD MORE', 'Can’t beat the software and hardware integration of apple.\\nPerforms like a beast. Great quality camera\\n6-7 hours screen on time which is good. Nothing much to complaint about the screen. Good connectivity speeds.\\nGreat buy and Flipkart’s delivery top notch as usual', 'This is my first ever iPhone.\\nAnd I truly don’t regret switching to IOS from my Android.\\n\\nIt is easily an alternative to a DSLR camera.\\nIf you’re obsessed with photos and videos, just don’t think twice or don’t compare to other androids(Samsung S10 lite or OnePlus 8/8T), as it’s far better from them in every field.\\nComparing will only make you confused.\\n\\nI am getting an average Screen on Time of around 10 hours with 30 percent left. I haven’t let my device discharged below 30 % as it aff...\\nREAD MORE', \"Just an awesome phone...upgraded from 6s to 11 and trust me guys it's super cool with amazing features..loved it ♥️ and a big thank you to Flipkart for delivering it in just 2 days ?\", 'As usual a great product from Apple. but the look wise there were some scope to make it more attractive. from the back it looks nice. picture quality is awesome . face id is blazing fast. The lightning fast bionic processor makes the phone butter smooth.Battery back up is unbeatable and best of the released iPhone.full display is still missing. however, a iPhone is a iPhone. The iPhone lovers know the value of an iPhone 🙂', 'Worth the money’ starting first from its performance it beats out all phones , second the smoothness of camera is awesome, contrast ratio is much than expected. Price will not matter if u r a quality person, if not other phones are available with better discount', 'Well , as we all know if its not an Iphone , its not an iphone . The iphones are always beast . The camera game has been level up . The A13 Bionic is just fabulous . The update this year are certainly the camera which is damn good with d addition of wide angle lens as well as ultra wide . If anyones purchasing an iphone for the first time , do opt for the black color . Its just feels more than premium . Battery life is damn good with lasting fully a day . Overall a nice package . Well managed...\\nREAD MORE', 'Value for money\\n5 star rating\\nExcellent camera\\nBattery backup full day in single charge.\\n\\nTougher and water resistant design, glossy back.\\nThe screen has excellent brightness and contrast.\\nApple A13 Bionic is the fastest smartphone chip on the planet.\\nExcellent battery life, fast charging support.\\nStereo speakers with great quality.', 'This is very second time I am using iphone I am not a huge fan of I phone but as my past experience iphone is always iphone whn you use it in your hand and it feel firmly buildup and camera quality is awesome processing is fast and realy smooth while using it.Night mode is awesome and photography is brilliant. Go for it and it will be great if you buy it worth it', 'I’d like to start by saying that the overall experience with the iPhone 11 is super smooth and amazing in every aspect. It’s an absolute powerhouse.\\n\\nPerformance - The Apple A13 Bionic is super optimised. You will not face any performance issue at all. You will never have to worry about the lag on this one.\\n\\nBattery - Battery life is one of the best you can get in a iPhone at this time. It’s better than the XR. Average use can get you more than a day and heavy use will get you through the da...\\nREAD MORE', 'Have used both iPhone X and iPhone XR and I can say upgrade only if you want better camera it’s awesome with great display even though lcd but still better than oled on iPhone X or XS.\\nThe camera is huge improvement in low light and very nice improvement in less light and times better than iPhone X but not that big improvement on iPhone XR in day light but very big improvement in low light.', 'Good buy.. working perfectly !\\n\\nThat was upgrade from 6S to 11. I see no deference in both the phones except:\\n1. Battery performance\\n2. Camera quality\\n3. Face detection unlock\\n\\nGo for it..!', 'impressive super phone and best in class camera ,sound and face unlock is super fast just see and phone is unlock and fast in daily apps use', 'Best and amazing product.....phone looks so premium.... battary is also good as expected .... Wide angle camera is so addictive ...if you are a IOS lover....then this phone will be the best choice for you all!!💯🔥', 'Everything is perfect pictures come out so clearly and at first I wasn’t sure when I got it then when I started to use it and get the hang of it it was amazing!! I can’t wait to see what the next future phones will be like. The screen display on this bad boy are unbelievable they are so clear and never fail me. The performance is super cool there is a lot of cool features as well I like this phone because I feel that it is easy to use and one of my favorite things about this phone is the Face...\\nREAD MORE', \"I got this beast today. And I must say the picture quality of its camera is awesome. Both the cameras works fine.\\n\\nAs for as the processing is concerned, it runs without any lag. You can play and do whatever you want without a glitch.\\n\\nThe battery runs for a day with medium and high workload.\\n\\nThe display is good and the speakers are working fine.\\n\\nThe earphones doesn't have any base and you can use it for calling mostly.\\n\\nThe charging time is approximately for 90 minutes for full charging...\\nREAD MORE\", 'iPhone is delivered on time. Display is great u won’t feel that it’s a hd panel. Quality is excellent. Sounds is great it has stereo setup. Camera is good. iOS 14.2 comes in the box. U roughly get 113 gb free if u buy 128 gb. This is my second iPhone and i love it. Value for money.', 'I will just say its an awesome phone. Starting from speed , battery life, resolutions, camera quality, features it is superior in all department versus its predecessor. Also would like to state that at this price point it is an extraordinary value product. Recommend anyone who is looking for a highend smart phone within a range of 60k to 100K. .', 'Just go for it without a second thought, if you are looking for a best phone in the market and want to save 40k to not go for iPhone 11 pro, the only thing i think this product is feel missing is Oled display software do the job of portrait, so go for it rather than 11 pro. Everything is at top with this phone. I am writing this review after using this phone for more than 2 months.', 'I really liked the budget iPhone. First I thought display would be issue as it is a LCD with less pixels, then after using my perception changed and I never felt like I am using an outdated display. Though I also use S 10+ with Amoled display.\\n\\nSo this is perfect iPhone and a real value for money.', 'Dont think too much guys. perfect phone for day today use. If you are familiar with apple then go for it. camera is good which can match up with next 3 years, battery is good than all other iPhones. Definitely morning to evening-8 it can do. Display is not that bad, you will be satisfied. Best mobile worth for the money. Best for one handed issue. Very less overheating than other mobiles in market. Go for 128 gb or 256. This iphone can live upto next 3-4 years for sure. Enjoy Apple👌🏾', \"This is my first I phone and I'm very happy to have it but it's battery life is not good as Android have that's all. All over phone is Awesome\", 'Amazing delivery. Got my phone a day before expected delivery date. The phone was in an excellent condition and the delivery guy was also very humble. Love my new phone. Switched from android to ios and im already loving it!', 'Damn this phone is a blast . Upgraded from android to ios and is a duperb experience. Battery backup is top notch and display also pretty good', 'Finally switched to iOS from android\\nThere is some things which u can’t do like using android but it’s worth to iOS. Battery backup is good holds for a day in average. Cam quality is okay. Good night mode visibility.', 'So good look comfortable iPhone 11 I am so very happy my life first time iPhone used camera is 👌 sound quality is clear sounds']\n"
     ]
    }
   ],
   "source": [
    "# set loop of 10 pages for extract information from all 10 pages. \n",
    "Rating=[]\n",
    "Short_review=[]\n",
    "Full_review=[]\n",
    "\n",
    "for page in range(1, 11, 1):\n",
    "    # below url take from the above code result\n",
    "    page_url = \"https://www.flipkart.com/apple-iphone-11-black-64-gb-includes-earpods-power-adapter/product-reviews/itm0f37c2240b217?pid=MOBFKCTSVZAXUHGR&lid=LSTMOBFKCTSVZAXUHGREPBFGI&marketplace=FLIPKART&page=\" + str(page)\n",
    "    driver.get(page_url)\n",
    "    rating = driver.find_elements_by_xpath(\"//div[@class='col _2wzgFH K0kLPL']/div[1]\")\n",
    "    review_summary = driver.find_elements_by_xpath(\"//p[@class='_2-N8zT']\")\n",
    "    review = driver.find_elements_by_xpath(\"//div[@class='t-ZTKy']\")\n",
    "  \n",
    "    for i in rating:\n",
    "        Rating.append(i.text)\n",
    "    for j in review_summary:\n",
    "        Short_review.append(j.text)\n",
    "    for k in review:\n",
    "        Full_review.append(k.text)\n",
    "\n",
    "print(Rating)\n",
    "print(Short_review)\n",
    "print(Full_review)"
   ]
  },
  {
   "cell_type": "code",
   "execution_count": 182,
   "metadata": {},
   "outputs": [
    {
     "name": "stdout",
     "output_type": "stream",
     "text": [
      "['5', '5', '5', '5', '5', '5', '5', '5', '5', '5', '5', '5', '5', '4', '5', '5', '5', '5', '5', '5', '5', '5', '5', '4', '1', '5', '5', '5', '5', '5', '4', '5', '5', '5', '5', '5', '4', '5', '5', '5', '5', '5', '5', '5', '5', '5', '5', '5', '5', '5', '5', '5', '5', '4', '4', '5', '4', '5', '5', '5', '5', '4', '5', '5', '5', '3', '5', '5', '5', '4', '5', '5', '5', '5', '5', '5', '5', '5', '4', '5', '5', '5', '5', '5', '5', '5', '4', '5', '5', '5', '5', '5', '5', '5', '5', '5', '5', '5', '5', '5']\n"
     ]
    }
   ],
   "source": [
    "# Remove extra information from ratings.\n",
    "ratings = []\n",
    "for x in Rating:\n",
    "    ratings.append(x.split(\"\\n\")[0])\n",
    "print(ratings)"
   ]
  },
  {
   "cell_type": "code",
   "execution_count": 183,
   "metadata": {},
   "outputs": [],
   "source": [
    "# close driver\n",
    "driver.close()"
   ]
  },
  {
   "cell_type": "code",
   "execution_count": 184,
   "metadata": {},
   "outputs": [
    {
     "data": {
      "text/html": [
       "<div>\n",
       "<style scoped>\n",
       "    .dataframe tbody tr th:only-of-type {\n",
       "        vertical-align: middle;\n",
       "    }\n",
       "\n",
       "    .dataframe tbody tr th {\n",
       "        vertical-align: top;\n",
       "    }\n",
       "\n",
       "    .dataframe thead th {\n",
       "        text-align: right;\n",
       "    }\n",
       "</style>\n",
       "<table border=\"1\" class=\"dataframe\">\n",
       "  <thead>\n",
       "    <tr style=\"text-align: right;\">\n",
       "      <th></th>\n",
       "      <th>Index</th>\n",
       "      <th>Ratings</th>\n",
       "      <th>short_review</th>\n",
       "      <th>full_review</th>\n",
       "    </tr>\n",
       "  </thead>\n",
       "  <tbody>\n",
       "    <tr>\n",
       "      <th>0</th>\n",
       "      <td>1</td>\n",
       "      <td>5</td>\n",
       "      <td>Brilliant</td>\n",
       "      <td>The Best Phone for the Money\\n\\nThe iPhone 11 ...</td>\n",
       "    </tr>\n",
       "    <tr>\n",
       "      <th>1</th>\n",
       "      <td>2</td>\n",
       "      <td>5</td>\n",
       "      <td>Perfect product!</td>\n",
       "      <td>Amazing phone with great cameras and better ba...</td>\n",
       "    </tr>\n",
       "    <tr>\n",
       "      <th>2</th>\n",
       "      <td>3</td>\n",
       "      <td>5</td>\n",
       "      <td>Great product</td>\n",
       "      <td>Amazing Powerful and Durable Gadget.\\n\\nI’m am...</td>\n",
       "    </tr>\n",
       "    <tr>\n",
       "      <th>3</th>\n",
       "      <td>4</td>\n",
       "      <td>5</td>\n",
       "      <td>Worth every penny</td>\n",
       "      <td>Previously I was using one plus 3t it was a gr...</td>\n",
       "    </tr>\n",
       "    <tr>\n",
       "      <th>4</th>\n",
       "      <td>5</td>\n",
       "      <td>5</td>\n",
       "      <td>Highly recommended</td>\n",
       "      <td>iphone 11 is a very good phone to buy only if ...</td>\n",
       "    </tr>\n",
       "    <tr>\n",
       "      <th>...</th>\n",
       "      <td>...</td>\n",
       "      <td>...</td>\n",
       "      <td>...</td>\n",
       "      <td>...</td>\n",
       "    </tr>\n",
       "    <tr>\n",
       "      <th>95</th>\n",
       "      <td>96</td>\n",
       "      <td>5</td>\n",
       "      <td>Fabulous!</td>\n",
       "      <td>This is my first I phone and I'm very happy to...</td>\n",
       "    </tr>\n",
       "    <tr>\n",
       "      <th>96</th>\n",
       "      <td>97</td>\n",
       "      <td>5</td>\n",
       "      <td>Classy product</td>\n",
       "      <td>Amazing delivery. Got my phone a day before ex...</td>\n",
       "    </tr>\n",
       "    <tr>\n",
       "      <th>97</th>\n",
       "      <td>98</td>\n",
       "      <td>5</td>\n",
       "      <td>Must buy!</td>\n",
       "      <td>Damn this phone is a blast . Upgraded from and...</td>\n",
       "    </tr>\n",
       "    <tr>\n",
       "      <th>98</th>\n",
       "      <td>99</td>\n",
       "      <td>5</td>\n",
       "      <td>Classy product</td>\n",
       "      <td>Finally switched to iOS from android\\nThere is...</td>\n",
       "    </tr>\n",
       "    <tr>\n",
       "      <th>99</th>\n",
       "      <td>100</td>\n",
       "      <td>5</td>\n",
       "      <td>Awesome</td>\n",
       "      <td>So good look comfortable iPhone 11 I am so ver...</td>\n",
       "    </tr>\n",
       "  </tbody>\n",
       "</table>\n",
       "<p>100 rows × 4 columns</p>\n",
       "</div>"
      ],
      "text/plain": [
       "    Index Ratings        short_review  \\\n",
       "0       1       5           Brilliant   \n",
       "1       2       5    Perfect product!   \n",
       "2       3       5       Great product   \n",
       "3       4       5   Worth every penny   \n",
       "4       5       5  Highly recommended   \n",
       "..    ...     ...                 ...   \n",
       "95     96       5           Fabulous!   \n",
       "96     97       5      Classy product   \n",
       "97     98       5           Must buy!   \n",
       "98     99       5      Classy product   \n",
       "99    100       5             Awesome   \n",
       "\n",
       "                                          full_review  \n",
       "0   The Best Phone for the Money\\n\\nThe iPhone 11 ...  \n",
       "1   Amazing phone with great cameras and better ba...  \n",
       "2   Amazing Powerful and Durable Gadget.\\n\\nI’m am...  \n",
       "3   Previously I was using one plus 3t it was a gr...  \n",
       "4   iphone 11 is a very good phone to buy only if ...  \n",
       "..                                                ...  \n",
       "95  This is my first I phone and I'm very happy to...  \n",
       "96  Amazing delivery. Got my phone a day before ex...  \n",
       "97  Damn this phone is a blast . Upgraded from and...  \n",
       "98  Finally switched to iOS from android\\nThere is...  \n",
       "99  So good look comfortable iPhone 11 I am so ver...  \n",
       "\n",
       "[100 rows x 4 columns]"
      ]
     },
     "execution_count": 184,
     "metadata": {},
     "output_type": "execute_result"
    }
   ],
   "source": [
    "# create dataframe\n",
    "df = pd.DataFrame({})\n",
    "df['Index'] = list(range(1,101))\n",
    "df['Ratings'] = ratings\n",
    "df['short_review'] = Short_review\n",
    "df['full_review'] = Full_review\n",
    "df"
   ]
  },
  {
   "cell_type": "markdown",
   "metadata": {},
   "source": [
    "#### Q8: Scrape data for first 100 sneakers you find when you visit flipkart.com and search for “sneakers” in the search field."
   ]
  },
  {
   "cell_type": "code",
   "execution_count": 80,
   "metadata": {},
   "outputs": [],
   "source": [
    "# open chromedriver using path\n",
    "driver = webdriver.Chrome(\"I:\\Software//chromedriver.exe\")"
   ]
  },
  {
   "cell_type": "code",
   "execution_count": 81,
   "metadata": {},
   "outputs": [],
   "source": [
    "driver.get(\"https://www.flipkart.com/\") # open url\n",
    "\n",
    "driver.maximize_window() # maximize driver window\n",
    "time.sleep(4)  # sleep code for 4 second\n",
    "\n",
    "driver.find_element_by_xpath(\"//button[@class='_2KpZ6l _2doB4z']\").click()  # close login window\n",
    "\n",
    "# write sneakers in search field\n",
    "driver.find_element_by_name(\"q\").send_keys(\"sneakers\")\n",
    "\n",
    "# click on search icon\n",
    "driver.find_element_by_xpath(\"//button[@class='L0Z3Pu']\").click()\n",
    "\n",
    "driver.implicitly_wait(10) # wait for open all elements of the page"
   ]
  },
  {
   "cell_type": "code",
   "execution_count": 82,
   "metadata": {},
   "outputs": [],
   "source": [
    "driver.find_element_by_xpath(\"//nav[@class='yFHi8N']/a[2]\").click() # click on 2 page \n",
    "time.sleep(8)  # sleep code for 8 second"
   ]
  },
  {
   "cell_type": "code",
   "execution_count": 83,
   "metadata": {},
   "outputs": [
    {
     "data": {
      "text/plain": [
       "'https://www.flipkart.com/search?q=sneakers&otracker=search&otracker1=search&marketplace=FLIPKART&as-show=off&as=off&page=2'"
      ]
     },
     "execution_count": 83,
     "metadata": {},
     "output_type": "execute_result"
    }
   ],
   "source": [
    "# extract page url for apply loop of all pages\n",
    "driver.current_url"
   ]
  },
  {
   "cell_type": "code",
   "execution_count": 84,
   "metadata": {},
   "outputs": [
    {
     "name": "stdout",
     "output_type": "stream",
     "text": [
      "['French Connection', 'Extoes', 'Chevit', 'Robbie jones', 'Chevit', 'Robbie jones', 'Chevit', 'aadi', 'ORICUM', 'Shoes Bank', 'Stefano Rads', 'Chevit', 'Zsyto', 'BRUTON', 'Red Rose', 'Chevit', '\"trend\"', 'HOTSTYLE', 'Birde', 'World Wear Footwear', 'Echor', 'Echor', 'believe', 'Magnolia', 'TR', 'T-ROCK', 'HOTSTYLE', 'BRUTON', 'Chevit', 'HOTSTYLE', 'SPARX', 'Chevit', 'Red Rose', 'ROCKFIELD', 'Magnolia', 'ROCKFIELD', 'Chevit', 'SCATCHITE', 'TR', 'METRONAUT', 'LEATHERKRAFT', 'ROCKFIELD', 'VORII', 'French Connection', 'Absolute comfort', 'Aura', 'bluemaker', 'Jabra', 'Axter', 'Extoes', 'Chevit', 'D-SNEAKERZ', 'Chevit', 'Chevit', 'Edoeviv', 'World Wear Footwear', 'SHOEFLY', 'T-ROCK', 'Chevit', 'Chevit', 'Numenzo', 'SHOEFLY', 'Jokatoo', 'World Wear Footwear', 'Birde', 'M K FOOTWEAR', 'zovim', 'SPARX', 'SPARX', 'BRUTON', 'Fzzirok', 'Absolute comfort', 'shoelife', 'Magnolia', 'SPARX', 'Airland', 'Zorth', 'World Wear Footwear', 'Ktiz', 'ROCKFIELD', 'Magnolia', 'Bonexy', 'D-SNEAKERZ', 'Extoes', 'Qtsy', 'ASTEROID', 'bacca bucci', 'GRSHOE', 'Absolute comfort', 'Chevit', 'India hub', 'KANEGGYE', 'Ktiz', 'Chevit', 'Adies', 'Chevit', 'Bonexy', 'Birde', 'ROCKFIELD', 'French Connection']\n",
      "['Sneakers For Men', 'Modern Trendy Shoes Combo pack of 4 Sneakers For Men', 'Perfect & Affordable Combo Pack of 02 Pairs Sneakers Ou...', 'Casual Sneakers Shoes For Men Sneakers For Men', 'Combo Pack of 4 Casual Sneakers With Sneakers For Men', 'Sneakers For Men', \"Super & Trendy Men's Pack of 02 Pair Shoes for Boys Cas...\", 'Sneakers For Men', 'Combo pack of 2 casual sneaker shoes for men Sneakers F...', \"White Sneaker For Men's/Boy's Sneakers For Men\", 'Classy Sneakers For Men', '171 Smart Tan Lace-Ups Casuals for Men Sneakers For Men', 'Sneakers For Men', 'Combo Pack Of 4 Casual Sneakers For Men', 'Sneakers For Men', 'Speed Set of 5 Pairs Sneakers Outdoors Casuals for Men ...', 'Fashionable casual sneakers shoes for men Sneakers For ...', 'Sneakers For Men', \"Men's Stylish Casual Shoes Sneakers For Men\", 'Combo Pack of 2 Latest Collection Stylish casual Sports...', 'shoes for boys Sneakers For Men', 'shoes for boys Sneakers For Men', 'Sneakers for men(black_6) Sneakers For Men', 'Sneakers For Men', 'Sneakers For Men', 'Synthetic Leather Casual Partywear Wedding Sneakers Sho...', 'Sneakers Sneakers For Men', 'Combo Pack Of 4 Casual Sneakers For Men', '168 Smart Red Lace-Ups Casuals for Men Sneakers For Men', 'Sneakers Sneakers For Men', 'SM-322 Sneakers For Men', 'Smart Casuals Canvas Shoes Combo pack of 2 Sneakers For...', 'Sneakers For Men', 'Sneakers For Men', 'White Sneakers Sneakers For Men', 'Sneakers For Men', '516 Trendy Star Perfect Sneakers For Men', 'Sneakers Sneakers For Men', 'Sneakers For Men', 'Casuals Sneakers For Men', 'Sneakers For Men', 'Sneakers For Men', 'Latest Stylish Casual sneakers for men | Lace up lightw...', 'Sneakers For Men', 'EVAW2 Sneakers For Men', 'Combo Pack of 3 Casual Shoes Sneakers For Men', 'casual for men (blue 06) Sneakers For Men', 'Sneakers For Men', 'Combo Pack of 2 Latest Collection Stylish Casual Loafer...', 'Modern Trendy Shoes Combo pack of 4 Sneakers For Men', '170 Smart Grey Lace-Ups Casuals for Men Sneakers For Me...', \"Casual , Partywear Sneakers Shoes For Men's And Boys Wh...\", 'Lightweight Combo Pack of 02 Trendy Sneakers Casuals Fo...', '171 Smart Tan Lace-Ups Casuals for Men Sneakers For Men', 'Sneakers For Men  (White 8) Sneakers For Men', 'Combo Pack of 4 Latest Collection Stylish Casual Loafer...', 'Combo Men Pack of 2 Loafers Shoes Sneakers For Men', 'Sneakers For Men', 'Smart Casuals Canvas Shoes Combo pack of 2 Sneakers For...', 'Perfect & Affordable Combo Pack of 02 Pairs Sneakers Ou...', 'Sneakers For Men', 'Combo Men Pack of 2 Loafers Shoes Sneakers For Men', 'casual sneaker shoes and partywear shoes Casuals For Me...', 'Combo Pack of 2 Latest Collection Stylish casual Sports...', 'Combo Pack of 4 Casual Shoes Sneakers For Men', 'M K Footwear 702_Blue Sneakers For Men', \"casual , Partywear Sneakers Shoes For Men's and Boys bl...\", 'SM-482 Sneakers For Men', 'SM-162 Sneakers For Men', 'Combo Pack Of 4 Casual Sneakers For Men', 'Premium quality Sneakers For Men', 'Sneakers For Men', 'Sneakers For Men', 'Sneakers For Men', 'Sneakers For Men', 'shoe Sneakers For Men', 'New Fashion Outdoor Trendy Lightweight Casual,Canvas St...', '5011-Latest Collection Stylish Casual Loafer Sneakers S...', 'Sneakers For Men', 'Sneakers For Men', 'Sneakers For Men', 'Sneakers For Men', \"Casual , Partywear Sneakers Shoes For Men's And Boys Wh...\", 'Modern Trendy Shoes Combo pack of 4 Sneakers For Men', 'Stylish Design Sneakers Shoes Combo For Men & Boys - Pa...', 'Feather Print New Spring Season White Shoes Men Running...', 'Sneakers For Men', 'SUP FANCY IMPORTED RUNNING SHOES FOR MEN. Sneakers For ...', 'COMBO-(2)-RWT Sneakers For Men', '171 Smart Tan Lace-Ups Casuals for Men Sneakers For Men', 'Fashionable casual sneakers shoes Sneakers For Men', 'Sneakers For Men', 'Rockstyle Trending Multicolor Ultralight canvas Sport/ ...', 'Perfect & Affordable Combo Pack of 02 Pairs Sneakers Ou...', 'Sneakers For Men', \"Men's Combo Pack of 02 Shoes for Men Casual Sneakers Ou...\", 'Sneakers For Men', 'Combo Pack of 2 Casual Shoes Sneakers For Men', 'Sneakers For Men', 'Sneakers For Men']\n",
      "['₹799', '₹798', '₹499', '₹379', '₹474', '₹499', '₹420', '₹298', '₹398', '₹349', '₹242', '₹211', '₹298', '₹424', '₹359', '₹759', '₹479', '₹199', '₹299', '₹499', '₹570', '₹570', '₹446', '₹404', '₹569', '₹366', '₹283', '₹499', '₹211', '₹283', '₹769', '₹322', '₹359', '₹426', '₹323', '₹341', '₹319', '₹398', '₹312', '₹524', '₹269', '₹341', '₹390', '₹799', '₹199', '₹664', '₹499', '₹455', '₹299', '₹798', '₹211', '₹367', '₹510', '₹211', '₹464', '₹474', '₹299', '₹424', '₹339', '₹499', '₹429', '₹343', '₹398', '₹499', '₹898', '₹349', '₹399', '₹990', '₹730', '₹424', '₹399', '₹244', '₹499', '₹404', '₹630', '₹258', '₹499', '₹240', '₹449', '₹426', '₹377', '₹363', '₹384', '₹798', '₹376', '₹355', '₹1,299', '₹399', '₹348', '₹211', '₹448', '₹399', '₹418', '₹499', '₹395', '₹420', '₹426', '₹599', '₹399', '₹799']\n",
      "['60% off', '46% off', '72% off', '62% off', '76% off', '50% off', '78% off', '70% off', '60% off', '65% off', '65% off', '57% off', '77% off', '89% off', '64% off', '69% off', '88% off', '60% off', '40% off', '50% off', '42% off', '42% off', '55% off', '73% off', '71% off', '63% off', '43% off', '87% off', '57% off', '43% off', '23% off', '67% off', '28% off', '57% off', '67% off', '65% off', '60% off', '60% off', '68% off', '59% off', '73% off', '65% off', '60% off', '60% off', '60% off', '55% off', '50% off', '54% off', '70% off', '46% off', '57% off', '44% off', '48% off', '57% off', '41% off', '76% off', '70% off', '57% off', '66% off', '72% off', '57% off', '65% off', '73% off', '50% off', '55% off', '65% off', '60% off', '26% off', '23% off', '89% off', '60% off', '75% off', '50% off', '73% off', '15% off', '48% off', '50% off', '51% off', '55% off', '57% off', '62% off', '63% off', '61% off', '46% off', '52% off', '64% off', '56% off', '60% off', '65% off', '57% off', '85% off', '20% off', '67% off', '72% off', '60% off', '57% off', '57% off', '60% off', '60% off', '60% off']\n"
     ]
    }
   ],
   "source": [
    "# set loop of 3 pages for extract information from all 3 pages. \n",
    "Brand=[]\n",
    "Description=[]\n",
    "Price=[]\n",
    "Discount=[]\n",
    "\n",
    "for page in range(1, 4, 1):\n",
    "    # below url take from the above code result\n",
    "    page_url = \"https://www.flipkart.com/search?q=sneakers&otracker=search&otracker1=search&marketplace=FLIPKART&as-show=off&as=off&page=\" + str(page)\n",
    "    driver.get(page_url)\n",
    "    \n",
    "    brand = driver.find_elements_by_xpath(\"//div[@class='_2WkVRV']\")\n",
    "    description = driver.find_elements_by_xpath(\"//div[@class='_2B099V']/a[1]\")\n",
    "    price = driver.find_elements_by_xpath(\"//div[@class='_30jeq3']\")\n",
    "    discount = driver.find_elements_by_xpath(\"//div[@class='_3Ay6Sb']\")\n",
    "    \n",
    "    for i in brand:\n",
    "        Brand.append(i.text)\n",
    "    for j in description:\n",
    "        Description.append(j.text)\n",
    "    for k in price:\n",
    "        Price.append(k.text)\n",
    "    for l in discount:\n",
    "        Discount.append(l.text)\n",
    "\n",
    "print(Brand[0:100])\n",
    "print(Description[0:100])\n",
    "print(Price[0:100])\n",
    "print(Discount[0:100])"
   ]
  },
  {
   "cell_type": "code",
   "execution_count": 87,
   "metadata": {},
   "outputs": [],
   "source": [
    "# close driver\n",
    "driver.close()"
   ]
  },
  {
   "cell_type": "code",
   "execution_count": 86,
   "metadata": {},
   "outputs": [
    {
     "data": {
      "text/html": [
       "<div>\n",
       "<style scoped>\n",
       "    .dataframe tbody tr th:only-of-type {\n",
       "        vertical-align: middle;\n",
       "    }\n",
       "\n",
       "    .dataframe tbody tr th {\n",
       "        vertical-align: top;\n",
       "    }\n",
       "\n",
       "    .dataframe thead th {\n",
       "        text-align: right;\n",
       "    }\n",
       "</style>\n",
       "<table border=\"1\" class=\"dataframe\">\n",
       "  <thead>\n",
       "    <tr style=\"text-align: right;\">\n",
       "      <th></th>\n",
       "      <th>Index</th>\n",
       "      <th>Brands</th>\n",
       "      <th>Product_description</th>\n",
       "      <th>Price</th>\n",
       "      <th>Discount %</th>\n",
       "    </tr>\n",
       "  </thead>\n",
       "  <tbody>\n",
       "    <tr>\n",
       "      <th>0</th>\n",
       "      <td>1</td>\n",
       "      <td>French Connection</td>\n",
       "      <td>Sneakers For Men</td>\n",
       "      <td>₹799</td>\n",
       "      <td>60% off</td>\n",
       "    </tr>\n",
       "    <tr>\n",
       "      <th>1</th>\n",
       "      <td>2</td>\n",
       "      <td>Extoes</td>\n",
       "      <td>Modern Trendy Shoes Combo pack of 4 Sneakers F...</td>\n",
       "      <td>₹798</td>\n",
       "      <td>46% off</td>\n",
       "    </tr>\n",
       "    <tr>\n",
       "      <th>2</th>\n",
       "      <td>3</td>\n",
       "      <td>Chevit</td>\n",
       "      <td>Perfect &amp; Affordable Combo Pack of 02 Pairs Sn...</td>\n",
       "      <td>₹499</td>\n",
       "      <td>72% off</td>\n",
       "    </tr>\n",
       "    <tr>\n",
       "      <th>3</th>\n",
       "      <td>4</td>\n",
       "      <td>Robbie jones</td>\n",
       "      <td>Casual Sneakers Shoes For Men Sneakers For Men</td>\n",
       "      <td>₹379</td>\n",
       "      <td>62% off</td>\n",
       "    </tr>\n",
       "    <tr>\n",
       "      <th>4</th>\n",
       "      <td>5</td>\n",
       "      <td>Chevit</td>\n",
       "      <td>Combo Pack of 4 Casual Sneakers With Sneakers ...</td>\n",
       "      <td>₹474</td>\n",
       "      <td>76% off</td>\n",
       "    </tr>\n",
       "    <tr>\n",
       "      <th>...</th>\n",
       "      <td>...</td>\n",
       "      <td>...</td>\n",
       "      <td>...</td>\n",
       "      <td>...</td>\n",
       "      <td>...</td>\n",
       "    </tr>\n",
       "    <tr>\n",
       "      <th>95</th>\n",
       "      <td>96</td>\n",
       "      <td>Chevit</td>\n",
       "      <td>Men's Combo Pack of 02 Shoes for Men Casual Sn...</td>\n",
       "      <td>₹420</td>\n",
       "      <td>57% off</td>\n",
       "    </tr>\n",
       "    <tr>\n",
       "      <th>96</th>\n",
       "      <td>97</td>\n",
       "      <td>Bonexy</td>\n",
       "      <td>Sneakers For Men</td>\n",
       "      <td>₹426</td>\n",
       "      <td>57% off</td>\n",
       "    </tr>\n",
       "    <tr>\n",
       "      <th>97</th>\n",
       "      <td>98</td>\n",
       "      <td>Birde</td>\n",
       "      <td>Combo Pack of 2 Casual Shoes Sneakers For Men</td>\n",
       "      <td>₹599</td>\n",
       "      <td>60% off</td>\n",
       "    </tr>\n",
       "    <tr>\n",
       "      <th>98</th>\n",
       "      <td>99</td>\n",
       "      <td>ROCKFIELD</td>\n",
       "      <td>Sneakers For Men</td>\n",
       "      <td>₹399</td>\n",
       "      <td>60% off</td>\n",
       "    </tr>\n",
       "    <tr>\n",
       "      <th>99</th>\n",
       "      <td>100</td>\n",
       "      <td>French Connection</td>\n",
       "      <td>Sneakers For Men</td>\n",
       "      <td>₹799</td>\n",
       "      <td>60% off</td>\n",
       "    </tr>\n",
       "  </tbody>\n",
       "</table>\n",
       "<p>100 rows × 5 columns</p>\n",
       "</div>"
      ],
      "text/plain": [
       "    Index             Brands  \\\n",
       "0       1  French Connection   \n",
       "1       2             Extoes   \n",
       "2       3             Chevit   \n",
       "3       4       Robbie jones   \n",
       "4       5             Chevit   \n",
       "..    ...                ...   \n",
       "95     96             Chevit   \n",
       "96     97             Bonexy   \n",
       "97     98              Birde   \n",
       "98     99          ROCKFIELD   \n",
       "99    100  French Connection   \n",
       "\n",
       "                                  Product_description Price Discount %  \n",
       "0                                    Sneakers For Men  ₹799    60% off  \n",
       "1   Modern Trendy Shoes Combo pack of 4 Sneakers F...  ₹798    46% off  \n",
       "2   Perfect & Affordable Combo Pack of 02 Pairs Sn...  ₹499    72% off  \n",
       "3      Casual Sneakers Shoes For Men Sneakers For Men  ₹379    62% off  \n",
       "4   Combo Pack of 4 Casual Sneakers With Sneakers ...  ₹474    76% off  \n",
       "..                                                ...   ...        ...  \n",
       "95  Men's Combo Pack of 02 Shoes for Men Casual Sn...  ₹420    57% off  \n",
       "96                                   Sneakers For Men  ₹426    57% off  \n",
       "97      Combo Pack of 2 Casual Shoes Sneakers For Men  ₹599    60% off  \n",
       "98                                   Sneakers For Men  ₹399    60% off  \n",
       "99                                   Sneakers For Men  ₹799    60% off  \n",
       "\n",
       "[100 rows x 5 columns]"
      ]
     },
     "execution_count": 86,
     "metadata": {},
     "output_type": "execute_result"
    }
   ],
   "source": [
    "# create dataframe\n",
    "df=pd.DataFrame({})\n",
    "df['Index'] = list(range(1,101))\n",
    "df['Brands'] = Brand[0:100]\n",
    "df['Product_description'] = Description[0:100]\n",
    "df['Price'] = Price[0:100]\n",
    "df['Discount %'] = Discount[0:100]\n",
    "df"
   ]
  },
  {
   "cell_type": "markdown",
   "metadata": {},
   "source": [
    "#### Q9: Go to the link - https://www.myntra.com/shoes, Set Price filter to “Rs. 6649 to Rs. 13099” and Color filter to “Black”.scrape First 100 shoes data you get. The data should include “Brand” of the shoes , Short Shoe description and price of the shoe"
   ]
  },
  {
   "cell_type": "code",
   "execution_count": 56,
   "metadata": {},
   "outputs": [],
   "source": [
    "# open chromedriver using path\n",
    "driver = webdriver.Chrome(\"I:\\Software//chromedriver.exe\")"
   ]
  },
  {
   "cell_type": "code",
   "execution_count": 57,
   "metadata": {},
   "outputs": [],
   "source": [
    "driver.get(\"https://www.myntra.com/shoes\") # open url\n",
    "\n",
    "driver.maximize_window() # maximize driver window\n",
    "time.sleep(4)  # sleep code for 4 second\n",
    "\n",
    "#click on color filter of \"black\"\n",
    "driver.find_element_by_xpath(\"//span[@data-colorhex='black']\").click()\n",
    "time.sleep(5)   # sleep code for 5 second\n",
    "\n",
    "#click on Price filter of \"Rs.6649 to Rs.13099\"\n",
    "driver.find_element_by_xpath(\"//ul[@class='price-list']/li[2]/label[1]\").click()"
   ]
  },
  {
   "cell_type": "code",
   "execution_count": 58,
   "metadata": {},
   "outputs": [
    {
     "name": "stdout",
     "output_type": "stream",
     "text": [
      "['MENGLER', 'Provogue', 'Nike', 'Sparx', 'No brands', 'No brands', 'No brands', 'No brands', 'No brands', 'No brands', 'No brands', 'No brands', 'Bugatti', 'No brands', 'No brands', 'No brands', 'No brands', 'No brands', 'No brands', 'Nike', 'No brands', 'No brands', 'No brands', 'No brands', 'No brands', 'No brands', 'No brands', 'Nike', 'No brands', 'No brands', 'No brands', 'No brands', 'No brands', 'No brands', 'No brands', 'No brands', 'No brands', 'No brands', 'No brands', 'No brands', 'Nike', 'No brands', 'No brands', 'Nike', 'No brands', 'No brands', 'No brands', 'No brands', 'No brands', 'No brands']\n",
      "[<selenium.webdriver.remote.webelement.WebElement (session=\"29848ec5ea5d19f787d628db53299461\", element=\"835fe694-090d-4279-9a61-af5ad408afb9\")>, <selenium.webdriver.remote.webelement.WebElement (session=\"29848ec5ea5d19f787d628db53299461\", element=\"935a19a8-0500-4cc0-89da-9bc2b6b59c2d\")>, <selenium.webdriver.remote.webelement.WebElement (session=\"29848ec5ea5d19f787d628db53299461\", element=\"6d60aa2a-fd98-4cbe-851e-54d2b9707aaa\")>, <selenium.webdriver.remote.webelement.WebElement (session=\"29848ec5ea5d19f787d628db53299461\", element=\"740e88ec-28a8-463f-a024-e00b02c6f57e\")>, <selenium.webdriver.remote.webelement.WebElement (session=\"29848ec5ea5d19f787d628db53299461\", element=\"cb8eff7a-1fb5-4b89-b939-09e3e3cb5b00\")>, <selenium.webdriver.remote.webelement.WebElement (session=\"29848ec5ea5d19f787d628db53299461\", element=\"80e03040-d5c0-42dc-a8c7-1760dcb692e2\")>, <selenium.webdriver.remote.webelement.WebElement (session=\"29848ec5ea5d19f787d628db53299461\", element=\"d0613e9e-2930-4fe6-a3e3-9d579bbe0967\")>, <selenium.webdriver.remote.webelement.WebElement (session=\"29848ec5ea5d19f787d628db53299461\", element=\"f40b1e99-026c-473a-803c-beb1fd9bbf92\")>, <selenium.webdriver.remote.webelement.WebElement (session=\"29848ec5ea5d19f787d628db53299461\", element=\"befbc1ff-6fc8-47c9-b4f2-ee6201d2f1f3\")>, <selenium.webdriver.remote.webelement.WebElement (session=\"29848ec5ea5d19f787d628db53299461\", element=\"7803fdcd-cea6-4902-a451-7e03dd329bbe\")>, <selenium.webdriver.remote.webelement.WebElement (session=\"29848ec5ea5d19f787d628db53299461\", element=\"d14b3f1a-5942-4852-8e12-e98ac77c19b7\")>, <selenium.webdriver.remote.webelement.WebElement (session=\"29848ec5ea5d19f787d628db53299461\", element=\"90c4c8af-fd45-4c82-874e-4e7390d3c2f5\")>, <selenium.webdriver.remote.webelement.WebElement (session=\"29848ec5ea5d19f787d628db53299461\", element=\"d49fdd84-bcfe-4487-8db4-9fa997880988\")>, <selenium.webdriver.remote.webelement.WebElement (session=\"29848ec5ea5d19f787d628db53299461\", element=\"731b6845-06d5-4a06-9b19-b5b8e1d80c1b\")>, <selenium.webdriver.remote.webelement.WebElement (session=\"29848ec5ea5d19f787d628db53299461\", element=\"58038448-9c73-4de3-96a3-c728bdc502e7\")>, <selenium.webdriver.remote.webelement.WebElement (session=\"29848ec5ea5d19f787d628db53299461\", element=\"2b65a17d-5ef6-40c0-8d13-1c6b6d53e1d7\")>, <selenium.webdriver.remote.webelement.WebElement (session=\"29848ec5ea5d19f787d628db53299461\", element=\"8d1b86f0-498d-4a24-8c90-5cf351cc81a6\")>, <selenium.webdriver.remote.webelement.WebElement (session=\"29848ec5ea5d19f787d628db53299461\", element=\"13c0f4a4-b182-4f4a-839d-a70109406e65\")>, <selenium.webdriver.remote.webelement.WebElement (session=\"29848ec5ea5d19f787d628db53299461\", element=\"97bb157a-3a19-44a2-bf72-e69747e0c56c\")>, <selenium.webdriver.remote.webelement.WebElement (session=\"29848ec5ea5d19f787d628db53299461\", element=\"ac2b6f46-7a52-4d10-ae32-90bf25d683f3\")>, <selenium.webdriver.remote.webelement.WebElement (session=\"29848ec5ea5d19f787d628db53299461\", element=\"64b82c97-f26f-4899-82d8-5017ed7c935c\")>, <selenium.webdriver.remote.webelement.WebElement (session=\"29848ec5ea5d19f787d628db53299461\", element=\"5c013c70-728f-4c21-ac14-55c633853fb6\")>, <selenium.webdriver.remote.webelement.WebElement (session=\"29848ec5ea5d19f787d628db53299461\", element=\"a44bf0dd-fda7-4945-8019-abf482dba6a0\")>, <selenium.webdriver.remote.webelement.WebElement (session=\"29848ec5ea5d19f787d628db53299461\", element=\"e9c75138-a114-4031-85a8-0168b13fd36c\")>, <selenium.webdriver.remote.webelement.WebElement (session=\"29848ec5ea5d19f787d628db53299461\", element=\"ca01bbc5-5467-40bb-a0a4-f6e0c16df7d1\")>, <selenium.webdriver.remote.webelement.WebElement (session=\"29848ec5ea5d19f787d628db53299461\", element=\"ef7e1491-33c0-4ead-a812-192623462228\")>, <selenium.webdriver.remote.webelement.WebElement (session=\"29848ec5ea5d19f787d628db53299461\", element=\"689fd672-3e80-4bb8-8f07-46c0dc495581\")>, <selenium.webdriver.remote.webelement.WebElement (session=\"29848ec5ea5d19f787d628db53299461\", element=\"308f1f90-edb0-486c-8a8e-fc73da1e623f\")>, <selenium.webdriver.remote.webelement.WebElement (session=\"29848ec5ea5d19f787d628db53299461\", element=\"4076393d-278f-4889-ba6c-ccec091c9481\")>, <selenium.webdriver.remote.webelement.WebElement (session=\"29848ec5ea5d19f787d628db53299461\", element=\"1969ebc7-170e-44a6-9ae9-99ee56f822b0\")>, <selenium.webdriver.remote.webelement.WebElement (session=\"29848ec5ea5d19f787d628db53299461\", element=\"2f3cd6d8-d3e5-4252-b921-bf9a57c8ff13\")>, <selenium.webdriver.remote.webelement.WebElement (session=\"29848ec5ea5d19f787d628db53299461\", element=\"72f041b8-9d6a-4a48-80e5-1a337d11e84b\")>, <selenium.webdriver.remote.webelement.WebElement (session=\"29848ec5ea5d19f787d628db53299461\", element=\"61cb3243-0451-4442-9557-5457b4c4bfcb\")>, <selenium.webdriver.remote.webelement.WebElement (session=\"29848ec5ea5d19f787d628db53299461\", element=\"46325888-4b72-4fdd-b9b4-c30ddc4f71b4\")>, <selenium.webdriver.remote.webelement.WebElement (session=\"29848ec5ea5d19f787d628db53299461\", element=\"6d53a7e9-3762-4eb1-939a-77028cb12b43\")>, <selenium.webdriver.remote.webelement.WebElement (session=\"29848ec5ea5d19f787d628db53299461\", element=\"941e9f1f-549e-44cf-9a6c-8322ce7c2804\")>, <selenium.webdriver.remote.webelement.WebElement (session=\"29848ec5ea5d19f787d628db53299461\", element=\"706e6f1d-bda1-4ee0-9408-818cb14b8aae\")>, <selenium.webdriver.remote.webelement.WebElement (session=\"29848ec5ea5d19f787d628db53299461\", element=\"2519758c-b822-43e1-b92b-ce4fe11eac55\")>, <selenium.webdriver.remote.webelement.WebElement (session=\"29848ec5ea5d19f787d628db53299461\", element=\"8aa31524-04a2-4edb-9913-93b07b8a1337\")>, <selenium.webdriver.remote.webelement.WebElement (session=\"29848ec5ea5d19f787d628db53299461\", element=\"6a88fceb-e096-4a7c-8d31-8482cc05fb14\")>, <selenium.webdriver.remote.webelement.WebElement (session=\"29848ec5ea5d19f787d628db53299461\", element=\"d2c4ed91-0006-45f1-83d0-43cf35bce119\")>, <selenium.webdriver.remote.webelement.WebElement (session=\"29848ec5ea5d19f787d628db53299461\", element=\"3501deb0-74c8-48ea-81c2-19b1894e9c43\")>, <selenium.webdriver.remote.webelement.WebElement (session=\"29848ec5ea5d19f787d628db53299461\", element=\"809b8b94-bebb-43b7-9a7f-8956377631b0\")>, <selenium.webdriver.remote.webelement.WebElement (session=\"29848ec5ea5d19f787d628db53299461\", element=\"597937e2-cb25-445e-a866-a60785e1390d\")>, <selenium.webdriver.remote.webelement.WebElement (session=\"29848ec5ea5d19f787d628db53299461\", element=\"2eed646d-9887-46c4-a64e-0991db84b236\")>, <selenium.webdriver.remote.webelement.WebElement (session=\"29848ec5ea5d19f787d628db53299461\", element=\"400c3a2a-8894-48bf-8562-5ef6a6ec332c\")>, <selenium.webdriver.remote.webelement.WebElement (session=\"29848ec5ea5d19f787d628db53299461\", element=\"3a31d096-76e8-4893-b393-9625b59d4397\")>, <selenium.webdriver.remote.webelement.WebElement (session=\"29848ec5ea5d19f787d628db53299461\", element=\"22252c06-95eb-44c4-92d5-56608654b3a1\")>, <selenium.webdriver.remote.webelement.WebElement (session=\"29848ec5ea5d19f787d628db53299461\", element=\"abe8bf58-dcbe-48d9-a2e2-1a46ed67901e\")>, <selenium.webdriver.remote.webelement.WebElement (session=\"29848ec5ea5d19f787d628db53299461\", element=\"64d61a1e-98cc-49ca-833d-ee327b202164\")>]\n",
      "[<selenium.webdriver.remote.webelement.WebElement (session=\"29848ec5ea5d19f787d628db53299461\", element=\"2295a103-02b3-4015-9629-4664c823995b\")>, <selenium.webdriver.remote.webelement.WebElement (session=\"29848ec5ea5d19f787d628db53299461\", element=\"842ec296-6adc-41e7-9a5d-284135d9a41d\")>, <selenium.webdriver.remote.webelement.WebElement (session=\"29848ec5ea5d19f787d628db53299461\", element=\"db35ced4-4787-4de7-a4de-1cf459439122\")>, <selenium.webdriver.remote.webelement.WebElement (session=\"29848ec5ea5d19f787d628db53299461\", element=\"a8f9b873-d43c-4d89-9108-f55e1f16be25\")>, <selenium.webdriver.remote.webelement.WebElement (session=\"29848ec5ea5d19f787d628db53299461\", element=\"82bae8aa-4afb-49ad-a40c-53a087ccc3e3\")>, <selenium.webdriver.remote.webelement.WebElement (session=\"29848ec5ea5d19f787d628db53299461\", element=\"b0d08a4f-2cb9-428a-9ae9-83244cce7117\")>, <selenium.webdriver.remote.webelement.WebElement (session=\"29848ec5ea5d19f787d628db53299461\", element=\"0b789a24-c452-4412-bbca-df783d59184a\")>, <selenium.webdriver.remote.webelement.WebElement (session=\"29848ec5ea5d19f787d628db53299461\", element=\"5bf1edd6-fd99-49f4-b275-2e4373d43f55\")>, <selenium.webdriver.remote.webelement.WebElement (session=\"29848ec5ea5d19f787d628db53299461\", element=\"f3fb3338-0397-442a-b979-1146e9759bd8\")>, <selenium.webdriver.remote.webelement.WebElement (session=\"29848ec5ea5d19f787d628db53299461\", element=\"e7b10614-31e8-4ff5-9392-9872b453cf9f\")>, <selenium.webdriver.remote.webelement.WebElement (session=\"29848ec5ea5d19f787d628db53299461\", element=\"b1ea38c2-4b3a-413a-9d32-e305fea5c2aa\")>, <selenium.webdriver.remote.webelement.WebElement (session=\"29848ec5ea5d19f787d628db53299461\", element=\"f849029f-0b96-44db-bdb3-8a0c6239ee12\")>, <selenium.webdriver.remote.webelement.WebElement (session=\"29848ec5ea5d19f787d628db53299461\", element=\"7453638f-b246-427c-b106-bc58fb46da70\")>, <selenium.webdriver.remote.webelement.WebElement (session=\"29848ec5ea5d19f787d628db53299461\", element=\"a5aa07f2-27a9-4a76-a354-f2acd0ab1abd\")>, <selenium.webdriver.remote.webelement.WebElement (session=\"29848ec5ea5d19f787d628db53299461\", element=\"de2f782e-a3f7-4304-9931-b29cd6d5e984\")>, <selenium.webdriver.remote.webelement.WebElement (session=\"29848ec5ea5d19f787d628db53299461\", element=\"375428f9-3d5d-47c7-870d-b3fa8020fb21\")>, <selenium.webdriver.remote.webelement.WebElement (session=\"29848ec5ea5d19f787d628db53299461\", element=\"37c3ecaf-f8b6-4621-98cc-2347c8eaa5d0\")>, <selenium.webdriver.remote.webelement.WebElement (session=\"29848ec5ea5d19f787d628db53299461\", element=\"89fcc4bf-5181-445c-aa05-fa7dfb129554\")>, <selenium.webdriver.remote.webelement.WebElement (session=\"29848ec5ea5d19f787d628db53299461\", element=\"98364323-e45d-4186-8bf4-6c1447569e7a\")>, <selenium.webdriver.remote.webelement.WebElement (session=\"29848ec5ea5d19f787d628db53299461\", element=\"a8539928-afcd-4728-93e2-0924de2a583f\")>, <selenium.webdriver.remote.webelement.WebElement (session=\"29848ec5ea5d19f787d628db53299461\", element=\"a9723223-3feb-4576-82c4-c59656407dc3\")>, <selenium.webdriver.remote.webelement.WebElement (session=\"29848ec5ea5d19f787d628db53299461\", element=\"0b22e9ed-9f73-4e71-8dfd-4577995152f0\")>, <selenium.webdriver.remote.webelement.WebElement (session=\"29848ec5ea5d19f787d628db53299461\", element=\"050567d9-724f-4b9b-bf06-0a26fcc90c27\")>, <selenium.webdriver.remote.webelement.WebElement (session=\"29848ec5ea5d19f787d628db53299461\", element=\"07043e36-9296-45ff-a607-f2da0f96ae5d\")>, <selenium.webdriver.remote.webelement.WebElement (session=\"29848ec5ea5d19f787d628db53299461\", element=\"18396ed4-0658-4519-a5e4-891f72b7c75b\")>, <selenium.webdriver.remote.webelement.WebElement (session=\"29848ec5ea5d19f787d628db53299461\", element=\"2358dfed-447e-4c91-9059-61764328682d\")>, <selenium.webdriver.remote.webelement.WebElement (session=\"29848ec5ea5d19f787d628db53299461\", element=\"1aef45c3-2d35-455c-bc08-f434c6d3281c\")>, <selenium.webdriver.remote.webelement.WebElement (session=\"29848ec5ea5d19f787d628db53299461\", element=\"015ed301-c15e-4b18-bb5d-00d46059b259\")>, <selenium.webdriver.remote.webelement.WebElement (session=\"29848ec5ea5d19f787d628db53299461\", element=\"01e539de-e80f-473f-9432-8e15fd78a921\")>, <selenium.webdriver.remote.webelement.WebElement (session=\"29848ec5ea5d19f787d628db53299461\", element=\"1ac9b86d-797d-410d-a89f-d749c19b7a02\")>, <selenium.webdriver.remote.webelement.WebElement (session=\"29848ec5ea5d19f787d628db53299461\", element=\"566dae8d-a11b-4632-a93e-c22e28f9370e\")>, <selenium.webdriver.remote.webelement.WebElement (session=\"29848ec5ea5d19f787d628db53299461\", element=\"d4c474a0-6d9c-4a4c-ac20-27b447ba4bc6\")>, <selenium.webdriver.remote.webelement.WebElement (session=\"29848ec5ea5d19f787d628db53299461\", element=\"27a1fd8b-04db-443e-b12d-f7eb0d266eb5\")>, <selenium.webdriver.remote.webelement.WebElement (session=\"29848ec5ea5d19f787d628db53299461\", element=\"2e408f9f-ddb1-42a6-8090-4dab7b9f413c\")>, <selenium.webdriver.remote.webelement.WebElement (session=\"29848ec5ea5d19f787d628db53299461\", element=\"96a0c93e-c8b5-4d34-9084-0b050f9ac30d\")>, <selenium.webdriver.remote.webelement.WebElement (session=\"29848ec5ea5d19f787d628db53299461\", element=\"e0b55076-58c6-4520-a3a8-5df49091ece2\")>, <selenium.webdriver.remote.webelement.WebElement (session=\"29848ec5ea5d19f787d628db53299461\", element=\"7314aa59-c738-4ae7-8bac-8c8076d3adcc\")>, <selenium.webdriver.remote.webelement.WebElement (session=\"29848ec5ea5d19f787d628db53299461\", element=\"12f041c3-2afd-40d8-9423-d4a46091faa7\")>, <selenium.webdriver.remote.webelement.WebElement (session=\"29848ec5ea5d19f787d628db53299461\", element=\"542e99b1-9ea0-475a-b8b3-7ac41fc43ef6\")>, <selenium.webdriver.remote.webelement.WebElement (session=\"29848ec5ea5d19f787d628db53299461\", element=\"3c692214-35c8-420e-b6fc-1b58c2d2dceb\")>, <selenium.webdriver.remote.webelement.WebElement (session=\"29848ec5ea5d19f787d628db53299461\", element=\"e055b060-36a5-4a41-9707-96566f419e37\")>, <selenium.webdriver.remote.webelement.WebElement (session=\"29848ec5ea5d19f787d628db53299461\", element=\"dc217f37-a2c4-470c-8eb9-4effdfc0e9a3\")>, <selenium.webdriver.remote.webelement.WebElement (session=\"29848ec5ea5d19f787d628db53299461\", element=\"2b1d2dd6-fda9-4867-9a10-355c53ae5504\")>, <selenium.webdriver.remote.webelement.WebElement (session=\"29848ec5ea5d19f787d628db53299461\", element=\"1890fc84-3ed5-42ca-8d99-7ec4a8c4835c\")>, <selenium.webdriver.remote.webelement.WebElement (session=\"29848ec5ea5d19f787d628db53299461\", element=\"77c38603-cb8b-4ba9-9f6d-ea885235c4c5\")>, <selenium.webdriver.remote.webelement.WebElement (session=\"29848ec5ea5d19f787d628db53299461\", element=\"631d7ba4-7177-4c02-a40e-cc6b53eca928\")>, <selenium.webdriver.remote.webelement.WebElement (session=\"29848ec5ea5d19f787d628db53299461\", element=\"6e228487-ab40-4e5e-8861-2bd3a1160e1b\")>, <selenium.webdriver.remote.webelement.WebElement (session=\"29848ec5ea5d19f787d628db53299461\", element=\"be787149-aea6-496e-878e-041c550375d0\")>, <selenium.webdriver.remote.webelement.WebElement (session=\"29848ec5ea5d19f787d628db53299461\", element=\"d31ba277-cb3d-44a9-9ebb-c96e3951fd3e\")>, <selenium.webdriver.remote.webelement.WebElement (session=\"29848ec5ea5d19f787d628db53299461\", element=\"22fc51b3-c022-4635-823b-32381d3bfeb3\")>]\n"
     ]
    }
   ],
   "source": [
    "# extract links and text of the shoe brands(1-50)\n",
    "brand_50 = driver.find_elements_by_xpath(\"//h3[@class='product-brand']\")\n",
    "Brands_50=[]\n",
    "for i in brand_50:\n",
    "    try:\n",
    "        brand=driver.find_elements_by_xpath(\"//h3[@class='product-brand']\")\n",
    "        Brands_50.append(i.text)\n",
    "    except StaleElementReferenceException as e:\n",
    "        Brands_50.append(\"No brands\") \n",
    "print(Brands_50)\n",
    "time.sleep(5)   # sleep code for 5 second\n",
    "\n",
    "# extract links of the short description(1-50)\n",
    "description_50 = driver.find_elements_by_xpath(\"//h4[@class='product-product']\")\n",
    "print(description_50)\n",
    "time.sleep(5)   # sleep code for 5 second\n",
    "\n",
    "# extract links of the shoe price(1-50)\n",
    "price_50 = driver.find_elements_by_xpath(\"//div[@class='product-price']/span[1]\")\n",
    "print(price_50)\n",
    "\n",
    "driver.implicitly_wait(10) # wait for open all elements of the page"
   ]
  },
  {
   "cell_type": "code",
   "execution_count": 59,
   "metadata": {},
   "outputs": [
    {
     "name": "stdout",
     "output_type": "stream",
     "text": [
      "['Men JORDAN DELTA Basketball', 'Men AF1/1 Sneakers', 'Men AIR ZOOM Running Shoes', 'Women Running Shoes', 'Men REACT MILER Running Shoes', 'Men KD13 EP Basketball Shoes', 'Men Fuse Training Sports Shoes', 'Men REACT MILER PRM Running', 'Women AIR ZOOM Running Shoes', 'AIR ZOOM PEGASUS Running Shoes', 'Men Perforated Mule Sneakers', 'Women REACT Running Shoes', 'Men React Infinity Running', 'Women AIR ZOOM Running', 'Women AIR ZOOM Running Shoes', 'Men JOYRIDE Running Shoes', 'Unisex Mercedes Running Shoes', 'Men SPEED 500 2 Running Shoes', 'HOVR Guardian 2 Sports Shoes', 'SPEED Orbiter Running Shoes', 'Charged Impulse Running Shoes', 'Men Solid Casual Sneakers', 'HOVR Sonic 3 Running Shoes', 'Men Mesh Fuse Training Or Gym Shoes', 'Men Liquify Running Shoes', 'NIKE DBREAK Sneakers', 'Men Charged Impulse Knit', 'Men Leather Slip-On Shoes', 'Men VIPER COMPETITOR Training', 'Men JORDAN DELTA Sneakers', 'Men Synthetic Running Shoes', 'Men NITE JOGGER Sneakers', 'Men Formal Derbys', 'Men Liquify Running Shoes', 'Charged Rogue 2 Wide 2E Shoes', 'Men Solid Leather Formal Slip-Ons', 'Men Textured Leather Formal Loafers', 'Women Suede Boots', \"Women D'LITES 3.0 Sneakers\", 'Men Colourblocked Driving Shoes', 'Unisex Woven-Design Sneakers', 'Men Leather Sneakers', 'Men Leather Formal Derbys', 'Men Heritage Leather Sneakers', 'Men Solid Leather Formal Slip-Ons', 'Men Leather Formal Slip-Ons', 'Men Leather Formal Slip-Ons', 'Ustraa black', 'Men Solid Leather Formal Derbys', 'Women AIR MAX VIVA Sneakers']\n",
      "['Rs. 12495', 'Rs. 10620Rs. 12495', 'Rs. 10796Rs. 13495', 'Rs. 7796Rs. 11995', 'Rs. 8796Rs. 10995', 'Rs. 12995', 'Rs. 7999', 'Rs. 9996Rs. 12495', 'Rs. 7496Rs. 9995', 'Rs. 11495', 'Rs. 6999', 'Rs. 8996Rs. 11995', 'Rs. 11621Rs. 15495', 'Rs. 10796Rs. 13495', 'Rs. 8236Rs. 10295', 'Rs. 11246Rs. 14995', 'Rs. 7999', 'Rs. 6999Rs. 9999', 'Rs. 11999', 'Rs. 7799Rs. 12999', 'Rs. 7999', 'Rs. 8999', 'Rs. 10999', 'Rs. 7999', 'Rs. 10999', 'Rs. 6795Rs. 7995', 'Rs. 8999', 'Rs. 6999', 'Rs. 6999', 'Rs. 10995', 'Rs. 9999Rs. 19999', 'Rs. 11199Rs. 13999', 'Rs. 9999', 'Rs. 10999', 'Rs. 7999', 'Rs. 8999', 'Rs. 7999', 'Rs. 6999', 'Rs. 6999', 'Rs. 8999', 'Rs. 7999', 'Rs. 6993Rs. 9990', 'Rs. 11490', 'Rs. 6749Rs. 8999', 'Rs. 9999', 'Rs. 9490', 'Rs. 8999', 'Rs. 8990', 'Rs. 9999', 'Rs. 10620Rs. 12495']\n"
     ]
    }
   ],
   "source": [
    "# extract text from links\n",
    "Description_50=[]\n",
    "for j in description_50:\n",
    "    Description_50.append(j.text)\n",
    "print(Description_50)\n",
    "\n",
    "Price_50=[]\n",
    "for k in price_50:\n",
    "    Price_50.append(k.text)\n",
    "print(Price_50)"
   ]
  },
  {
   "cell_type": "code",
   "execution_count": 60,
   "metadata": {},
   "outputs": [],
   "source": [
    "# click on next page\n",
    "driver.find_element_by_xpath(\"//a[@rel='next']\").click()"
   ]
  },
  {
   "cell_type": "code",
   "execution_count": 61,
   "metadata": {},
   "outputs": [
    {
     "name": "stdout",
     "output_type": "stream",
     "text": [
      "['Nike', 'Nike', 'Nike', 'Nike', 'Nike', 'Nike', 'Puma', 'Nike', 'Nike', 'No brands', 'No brands', 'No brands', 'No brands', 'No brands', 'No brands', 'No brands', 'No brands', 'No brands', 'No brands', 'No brands', 'No brands', 'No brands', 'No brands', 'No brands', 'No brands', 'No brands', 'No brands', 'No brands', 'No brands', 'No brands', 'No brands', 'No brands', 'No brands', 'No brands', 'No brands', 'No brands', 'No brands', 'No brands', 'No brands', 'No brands', 'No brands', 'No brands', 'No brands', 'No brands', 'No brands', 'No brands', 'No brands', 'No brands', 'Bugatti', 'No brands']\n",
      "['Men Textured Leather Penny Loafers', 'Men Solid Leather Formal Derbys', 'Men Running Shoes', 'Men Leather Formal Oxfords', 'Men Formal Derbys', 'Men Leather Formal Derbys', 'Men Solid Leather Formal Derbys', 'Men Leather Slip-On Shoes', 'Women Peep Toe Heels', 'Women HOVR Rise 2 Training', 'Men Leather Formal Brogues', 'Men IGNITE Ronin Unrest', 'Women Liquify Rebel Running', 'Men IGNITE Dual Running Shoes', 'Women TriBase Reign 2 Training', 'Men Running Shoes', 'Women Charged Breathe TR 2', 'Women Running Shoes', 'Men Textured Formal Slip-Ons', 'Men Running Shoes', 'HOVR Sonic 3 Running Shoes', 'Men Leather Mid-Top Derbys', 'Men Leather Driving Shoes', 'Men Leather Sneakers', 'Men Leather Driving Shoes', 'Men Leather Driving Shoes', 'Men Leather Derbys', 'Women UNO Sneakers', 'Men Formal Brogues', 'Men Running Shoes', 'Women Leather Block Heels', 'Women Leather Solid Pumps', 'Men Solid Leather Formal Derbys', 'Men HOVR CTW Sneakers', 'Women Solid Block Heels', 'Men Textured Sneakers', 'Women Leather Heeled Boots', 'Men Leather Slip-On Sneakers', 'Men Leather Formal Oxfords', 'Women Leather Pumps', 'Women Solid Flat Boots', 'Leather Heeled Boots', 'Men Solid Sneakers', 'Men Leather Slip-On Shoes', 'Men Solid Leather Formal Monks', 'Men Leather Derbys', 'Men Textured Leather Monks', 'Women Black Sneakers', 'Men Textured Oxfords', 'Men Solid Leather Formal Derbys']\n",
      "['Rs. 8792Rs. 10990', 'Rs. 9999', 'Rs. 9349Rs. 10999', 'Rs. 7693Rs. 10990', 'Rs. 7413Rs. 10590', 'Rs. 6999', 'Rs. 6995', 'Rs. 6990', 'Rs. 7192Rs. 8990', 'Rs. 9999', 'Rs. 6990', 'Rs. 6999', 'Rs. 8999', 'Rs. 6999', 'Rs. 11999', 'Rs. 7499', 'Rs. 7999', 'Rs. 7006Rs. 7149', 'Rs. 8990', 'Rs. 8499', 'Rs. 10999', 'Rs. 8999', 'Rs. 9499', 'Rs. 9999', 'Rs. 9999', 'Rs. 7999', 'Rs. 6749Rs. 8999', 'Rs. 6799Rs. 7999', 'Rs. 6990', 'Rs. 6999', 'Rs. 9990', 'Rs. 11990', 'Rs. 8990', 'Rs. 8499Rs. 9999', 'Rs. 8499', 'Rs. 7039Rs. 10999', 'Rs. 9900', 'Rs. 9999', 'Rs. 10490', 'Rs. 7192Rs. 8990', 'Rs. 9513Rs. 13590', 'Rs. 11800', 'Rs. 6749Rs. 8999', 'Rs. 6990', 'Rs. 6990', 'Rs. 7999', 'Rs. 6990', 'Rs. 7999', 'Rs. 6999', 'Rs. 9999']\n"
     ]
    }
   ],
   "source": [
    "# extract links and text of the shoe brands(51-100)\n",
    "brand_100 = driver.find_elements_by_xpath(\"//h3[@class='product-brand']\")\n",
    "Brands_100=[]\n",
    "for i in brand_100:\n",
    "    try:\n",
    "        brand=driver.find_elements_by_xpath(\"//h3[@class='product-brand']\")\n",
    "        Brands_100.append(i.text)\n",
    "    except StaleElementReferenceException as e:\n",
    "        Brands_100.append(\"No brands\") \n",
    "print(Brands_100)\n",
    "time.sleep(5)   # sleep code for 5 second\n",
    "\n",
    "# extract links and text of the short description(51-100)\n",
    "description_100 = driver.find_elements_by_xpath(\"//h4[@class='product-product']\")\n",
    "Description_100=[]\n",
    "for i in description_100:\n",
    "    try:\n",
    "        description=driver.find_elements_by_xpath(\"//h4[@class='product-product']\")\n",
    "        Description_100.append(i.text)\n",
    "    except StaleElementReferenceException as e:\n",
    "        Description_100.append(\"No brands\") \n",
    "print(Description_100)\n",
    "time.sleep(5)   # sleep code for 5 second\n",
    "\n",
    "# extract links and text of the shoe price(51-100)\n",
    "price_100 = driver.find_elements_by_xpath(\"//div[@class='product-price']/span[1]\")\n",
    "Price_100=[]\n",
    "for i in price_100:\n",
    "    try:\n",
    "        price=driver.find_elements_by_xpath(\"//div[@class='product-price']/span[1]\")\n",
    "        Price_100.append(i.text)\n",
    "    except StaleElementReferenceException as e:\n",
    "        Price_100.append(\"No brands\") \n",
    "print(Price_100)\n",
    "\n",
    "driver.implicitly_wait(10) # wait for open all elements of the page"
   ]
  },
  {
   "cell_type": "code",
   "execution_count": 62,
   "metadata": {},
   "outputs": [],
   "source": [
    "# close driver\n",
    "driver.close()"
   ]
  },
  {
   "cell_type": "code",
   "execution_count": 63,
   "metadata": {},
   "outputs": [
    {
     "name": "stdout",
     "output_type": "stream",
     "text": [
      "['MENGLER', 'Provogue', 'Nike', 'Sparx', 'No brands', 'No brands', 'No brands', 'No brands', 'No brands', 'No brands', 'No brands', 'No brands', 'Bugatti', 'No brands', 'No brands', 'No brands', 'No brands', 'No brands', 'No brands', 'Nike', 'No brands', 'No brands', 'No brands', 'No brands', 'No brands', 'No brands', 'No brands', 'Nike', 'No brands', 'No brands', 'No brands', 'No brands', 'No brands', 'No brands', 'No brands', 'No brands', 'No brands', 'No brands', 'No brands', 'No brands', 'Nike', 'No brands', 'No brands', 'Nike', 'No brands', 'No brands', 'No brands', 'No brands', 'No brands', 'No brands', 'Nike', 'Nike', 'Nike', 'Nike', 'Nike', 'Nike', 'Puma', 'Nike', 'Nike', 'No brands', 'No brands', 'No brands', 'No brands', 'No brands', 'No brands', 'No brands', 'No brands', 'No brands', 'No brands', 'No brands', 'No brands', 'No brands', 'No brands', 'No brands', 'No brands', 'No brands', 'No brands', 'No brands', 'No brands', 'No brands', 'No brands', 'No brands', 'No brands', 'No brands', 'No brands', 'No brands', 'No brands', 'No brands', 'No brands', 'No brands', 'No brands', 'No brands', 'No brands', 'No brands', 'No brands', 'No brands', 'No brands', 'No brands', 'Bugatti', 'No brands']\n",
      "['Men JORDAN DELTA Basketball', 'Men AF1/1 Sneakers', 'Men AIR ZOOM Running Shoes', 'Women Running Shoes', 'Men REACT MILER Running Shoes', 'Men KD13 EP Basketball Shoes', 'Men Fuse Training Sports Shoes', 'Men REACT MILER PRM Running', 'Women AIR ZOOM Running Shoes', 'AIR ZOOM PEGASUS Running Shoes', 'Men Perforated Mule Sneakers', 'Women REACT Running Shoes', 'Men React Infinity Running', 'Women AIR ZOOM Running', 'Women AIR ZOOM Running Shoes', 'Men JOYRIDE Running Shoes', 'Unisex Mercedes Running Shoes', 'Men SPEED 500 2 Running Shoes', 'HOVR Guardian 2 Sports Shoes', 'SPEED Orbiter Running Shoes', 'Charged Impulse Running Shoes', 'Men Solid Casual Sneakers', 'HOVR Sonic 3 Running Shoes', 'Men Mesh Fuse Training Or Gym Shoes', 'Men Liquify Running Shoes', 'NIKE DBREAK Sneakers', 'Men Charged Impulse Knit', 'Men Leather Slip-On Shoes', 'Men VIPER COMPETITOR Training', 'Men JORDAN DELTA Sneakers', 'Men Synthetic Running Shoes', 'Men NITE JOGGER Sneakers', 'Men Formal Derbys', 'Men Liquify Running Shoes', 'Charged Rogue 2 Wide 2E Shoes', 'Men Solid Leather Formal Slip-Ons', 'Men Textured Leather Formal Loafers', 'Women Suede Boots', \"Women D'LITES 3.0 Sneakers\", 'Men Colourblocked Driving Shoes', 'Unisex Woven-Design Sneakers', 'Men Leather Sneakers', 'Men Leather Formal Derbys', 'Men Heritage Leather Sneakers', 'Men Solid Leather Formal Slip-Ons', 'Men Leather Formal Slip-Ons', 'Men Leather Formal Slip-Ons', 'Ustraa black', 'Men Solid Leather Formal Derbys', 'Women AIR MAX VIVA Sneakers', 'Men Textured Leather Penny Loafers', 'Men Solid Leather Formal Derbys', 'Men Running Shoes', 'Men Leather Formal Oxfords', 'Men Formal Derbys', 'Men Leather Formal Derbys', 'Men Solid Leather Formal Derbys', 'Men Leather Slip-On Shoes', 'Women Peep Toe Heels', 'Women HOVR Rise 2 Training', 'Men Leather Formal Brogues', 'Men IGNITE Ronin Unrest', 'Women Liquify Rebel Running', 'Men IGNITE Dual Running Shoes', 'Women TriBase Reign 2 Training', 'Men Running Shoes', 'Women Charged Breathe TR 2', 'Women Running Shoes', 'Men Textured Formal Slip-Ons', 'Men Running Shoes', 'HOVR Sonic 3 Running Shoes', 'Men Leather Mid-Top Derbys', 'Men Leather Driving Shoes', 'Men Leather Sneakers', 'Men Leather Driving Shoes', 'Men Leather Driving Shoes', 'Men Leather Derbys', 'Women UNO Sneakers', 'Men Formal Brogues', 'Men Running Shoes', 'Women Leather Block Heels', 'Women Leather Solid Pumps', 'Men Solid Leather Formal Derbys', 'Men HOVR CTW Sneakers', 'Women Solid Block Heels', 'Men Textured Sneakers', 'Women Leather Heeled Boots', 'Men Leather Slip-On Sneakers', 'Men Leather Formal Oxfords', 'Women Leather Pumps', 'Women Solid Flat Boots', 'Leather Heeled Boots', 'Men Solid Sneakers', 'Men Leather Slip-On Shoes', 'Men Solid Leather Formal Monks', 'Men Leather Derbys', 'Men Textured Leather Monks', 'Women Black Sneakers', 'Men Textured Oxfords', 'Men Solid Leather Formal Derbys']\n",
      "['Rs. 12495', 'Rs. 10620Rs. 12495', 'Rs. 10796Rs. 13495', 'Rs. 7796Rs. 11995', 'Rs. 8796Rs. 10995', 'Rs. 12995', 'Rs. 7999', 'Rs. 9996Rs. 12495', 'Rs. 7496Rs. 9995', 'Rs. 11495', 'Rs. 6999', 'Rs. 8996Rs. 11995', 'Rs. 11621Rs. 15495', 'Rs. 10796Rs. 13495', 'Rs. 8236Rs. 10295', 'Rs. 11246Rs. 14995', 'Rs. 7999', 'Rs. 6999Rs. 9999', 'Rs. 11999', 'Rs. 7799Rs. 12999', 'Rs. 7999', 'Rs. 8999', 'Rs. 10999', 'Rs. 7999', 'Rs. 10999', 'Rs. 6795Rs. 7995', 'Rs. 8999', 'Rs. 6999', 'Rs. 6999', 'Rs. 10995', 'Rs. 9999Rs. 19999', 'Rs. 11199Rs. 13999', 'Rs. 9999', 'Rs. 10999', 'Rs. 7999', 'Rs. 8999', 'Rs. 7999', 'Rs. 6999', 'Rs. 6999', 'Rs. 8999', 'Rs. 7999', 'Rs. 6993Rs. 9990', 'Rs. 11490', 'Rs. 6749Rs. 8999', 'Rs. 9999', 'Rs. 9490', 'Rs. 8999', 'Rs. 8990', 'Rs. 9999', 'Rs. 10620Rs. 12495', 'Rs. 8792Rs. 10990', 'Rs. 9999', 'Rs. 9349Rs. 10999', 'Rs. 7693Rs. 10990', 'Rs. 7413Rs. 10590', 'Rs. 6999', 'Rs. 6995', 'Rs. 6990', 'Rs. 7192Rs. 8990', 'Rs. 9999', 'Rs. 6990', 'Rs. 6999', 'Rs. 8999', 'Rs. 6999', 'Rs. 11999', 'Rs. 7499', 'Rs. 7999', 'Rs. 7006Rs. 7149', 'Rs. 8990', 'Rs. 8499', 'Rs. 10999', 'Rs. 8999', 'Rs. 9499', 'Rs. 9999', 'Rs. 9999', 'Rs. 7999', 'Rs. 6749Rs. 8999', 'Rs. 6799Rs. 7999', 'Rs. 6990', 'Rs. 6999', 'Rs. 9990', 'Rs. 11990', 'Rs. 8990', 'Rs. 8499Rs. 9999', 'Rs. 8499', 'Rs. 7039Rs. 10999', 'Rs. 9900', 'Rs. 9999', 'Rs. 10490', 'Rs. 7192Rs. 8990', 'Rs. 9513Rs. 13590', 'Rs. 11800', 'Rs. 6749Rs. 8999', 'Rs. 6990', 'Rs. 6990', 'Rs. 7999', 'Rs. 6990', 'Rs. 7999', 'Rs. 6999', 'Rs. 9999']\n"
     ]
    }
   ],
   "source": [
    "# merge all data \n",
    "brands_all=Brands_50+Brands_100\n",
    "print(brands_all)\n",
    "\n",
    "description_all=Description_50+Description_100\n",
    "print(description_all)\n",
    "\n",
    "price_all=Price_50+Price_100\n",
    "print(price_all)"
   ]
  },
  {
   "cell_type": "code",
   "execution_count": 64,
   "metadata": {},
   "outputs": [
    {
     "data": {
      "text/html": [
       "<div>\n",
       "<style scoped>\n",
       "    .dataframe tbody tr th:only-of-type {\n",
       "        vertical-align: middle;\n",
       "    }\n",
       "\n",
       "    .dataframe tbody tr th {\n",
       "        vertical-align: top;\n",
       "    }\n",
       "\n",
       "    .dataframe thead th {\n",
       "        text-align: right;\n",
       "    }\n",
       "</style>\n",
       "<table border=\"1\" class=\"dataframe\">\n",
       "  <thead>\n",
       "    <tr style=\"text-align: right;\">\n",
       "      <th></th>\n",
       "      <th>Index</th>\n",
       "      <th>Brands</th>\n",
       "      <th>Description</th>\n",
       "      <th>Price</th>\n",
       "    </tr>\n",
       "  </thead>\n",
       "  <tbody>\n",
       "    <tr>\n",
       "      <th>0</th>\n",
       "      <td>1</td>\n",
       "      <td>MENGLER</td>\n",
       "      <td>Men JORDAN DELTA Basketball</td>\n",
       "      <td>Rs. 12495</td>\n",
       "    </tr>\n",
       "    <tr>\n",
       "      <th>1</th>\n",
       "      <td>2</td>\n",
       "      <td>Provogue</td>\n",
       "      <td>Men AF1/1 Sneakers</td>\n",
       "      <td>Rs. 10620Rs. 12495</td>\n",
       "    </tr>\n",
       "    <tr>\n",
       "      <th>2</th>\n",
       "      <td>3</td>\n",
       "      <td>Nike</td>\n",
       "      <td>Men AIR ZOOM Running Shoes</td>\n",
       "      <td>Rs. 10796Rs. 13495</td>\n",
       "    </tr>\n",
       "    <tr>\n",
       "      <th>3</th>\n",
       "      <td>4</td>\n",
       "      <td>Sparx</td>\n",
       "      <td>Women Running Shoes</td>\n",
       "      <td>Rs. 7796Rs. 11995</td>\n",
       "    </tr>\n",
       "    <tr>\n",
       "      <th>4</th>\n",
       "      <td>5</td>\n",
       "      <td>No brands</td>\n",
       "      <td>Men REACT MILER Running Shoes</td>\n",
       "      <td>Rs. 8796Rs. 10995</td>\n",
       "    </tr>\n",
       "    <tr>\n",
       "      <th>...</th>\n",
       "      <td>...</td>\n",
       "      <td>...</td>\n",
       "      <td>...</td>\n",
       "      <td>...</td>\n",
       "    </tr>\n",
       "    <tr>\n",
       "      <th>95</th>\n",
       "      <td>96</td>\n",
       "      <td>No brands</td>\n",
       "      <td>Men Leather Derbys</td>\n",
       "      <td>Rs. 7999</td>\n",
       "    </tr>\n",
       "    <tr>\n",
       "      <th>96</th>\n",
       "      <td>97</td>\n",
       "      <td>No brands</td>\n",
       "      <td>Men Textured Leather Monks</td>\n",
       "      <td>Rs. 6990</td>\n",
       "    </tr>\n",
       "    <tr>\n",
       "      <th>97</th>\n",
       "      <td>98</td>\n",
       "      <td>No brands</td>\n",
       "      <td>Women Black Sneakers</td>\n",
       "      <td>Rs. 7999</td>\n",
       "    </tr>\n",
       "    <tr>\n",
       "      <th>98</th>\n",
       "      <td>99</td>\n",
       "      <td>Bugatti</td>\n",
       "      <td>Men Textured Oxfords</td>\n",
       "      <td>Rs. 6999</td>\n",
       "    </tr>\n",
       "    <tr>\n",
       "      <th>99</th>\n",
       "      <td>100</td>\n",
       "      <td>No brands</td>\n",
       "      <td>Men Solid Leather Formal Derbys</td>\n",
       "      <td>Rs. 9999</td>\n",
       "    </tr>\n",
       "  </tbody>\n",
       "</table>\n",
       "<p>100 rows × 4 columns</p>\n",
       "</div>"
      ],
      "text/plain": [
       "    Index     Brands                      Description               Price\n",
       "0       1    MENGLER      Men JORDAN DELTA Basketball           Rs. 12495\n",
       "1       2   Provogue               Men AF1/1 Sneakers  Rs. 10620Rs. 12495\n",
       "2       3       Nike       Men AIR ZOOM Running Shoes  Rs. 10796Rs. 13495\n",
       "3       4      Sparx              Women Running Shoes   Rs. 7796Rs. 11995\n",
       "4       5  No brands    Men REACT MILER Running Shoes   Rs. 8796Rs. 10995\n",
       "..    ...        ...                              ...                 ...\n",
       "95     96  No brands               Men Leather Derbys            Rs. 7999\n",
       "96     97  No brands       Men Textured Leather Monks            Rs. 6990\n",
       "97     98  No brands             Women Black Sneakers            Rs. 7999\n",
       "98     99    Bugatti             Men Textured Oxfords            Rs. 6999\n",
       "99    100  No brands  Men Solid Leather Formal Derbys            Rs. 9999\n",
       "\n",
       "[100 rows x 4 columns]"
      ]
     },
     "execution_count": 64,
     "metadata": {},
     "output_type": "execute_result"
    }
   ],
   "source": [
    "# create dataframe\n",
    "df = pd.DataFrame({})\n",
    "df['Index'] = list(range(1,101))\n",
    "df['Brands'] = brands_all\n",
    "df['Description'] = description_all\n",
    "df['Price'] = price_all\n",
    "df"
   ]
  },
  {
   "cell_type": "markdown",
   "metadata": {},
   "source": [
    "#### Q10: Go to webpage https://www.amazon.in/. Enter “Laptop” in the search field and then click the search icon.Then set CPU Type filter to “Intel Core i7” and “Intel Core i9”.After setting the filters scrape first 10 laptops data. You have to scrape 3 attributes for each laptop:title, Ratings, Price."
   ]
  },
  {
   "cell_type": "code",
   "execution_count": 114,
   "metadata": {},
   "outputs": [],
   "source": [
    "# open chromedriver using path\n",
    "driver = webdriver.Chrome(\"I:\\Software//chromedriver.exe\")"
   ]
  },
  {
   "cell_type": "code",
   "execution_count": 115,
   "metadata": {},
   "outputs": [],
   "source": [
    "driver.get(\"https://www.amazon.in/\") # open url\n",
    "\n",
    "driver.maximize_window() # maximize driver window\n",
    "time.sleep(4)  # sleep code for 4 second\n",
    "\n",
    "# enter laptop in search field\n",
    "driver.find_element_by_id(\"twotabsearchtextbox\").send_keys(\"Laptop\")\n",
    "\n",
    "# click on search icon\n",
    "driver.find_element_by_id(\"nav-search-submit-button\").click()\n",
    "\n",
    "driver.implicitly_wait(10) # wait for open all elements of the page"
   ]
  },
  {
   "cell_type": "code",
   "execution_count": 116,
   "metadata": {},
   "outputs": [],
   "source": [
    "# click on intel core i-7 filter\n",
    "filter_i7=driver.find_elements_by_xpath(\"//a[@class='a-link-normal s-navigation-item']/span\")\n",
    "for x in filter_i7:\n",
    "    if x.text=='Intel Core i7':\n",
    "        x.click()\n",
    "        break"
   ]
  },
  {
   "cell_type": "code",
   "execution_count": 117,
   "metadata": {},
   "outputs": [],
   "source": [
    "# click on intel core i-9 filter\n",
    "filter_i9=driver.find_elements_by_xpath(\"//a[@class='a-link-normal s-navigation-item']/span\")\n",
    "for z in filter_i9:\n",
    "    if z.text=='Intel Core i9':\n",
    "        z.click()\n",
    "        break"
   ]
  },
  {
   "cell_type": "code",
   "execution_count": 118,
   "metadata": {},
   "outputs": [],
   "source": [
    "# scraping titles\n",
    "Title=[]\n",
    "titles = driver.find_elements_by_xpath(\"//span[@class='a-size-medium a-color-base a-text-normal']\")\n",
    "for i in titles[0:10]:\n",
    "    Title.append(i.text)"
   ]
  },
  {
   "cell_type": "code",
   "execution_count": 119,
   "metadata": {},
   "outputs": [],
   "source": [
    "# scraping price\n",
    "price=[]\n",
    "prices = driver.find_elements_by_xpath(\"//span[@class='a-price-whole']\")\n",
    "for i in prices[0:10]:\n",
    "    price.append(i.text)"
   ]
  },
  {
   "cell_type": "code",
   "execution_count": 120,
   "metadata": {},
   "outputs": [],
   "source": [
    "# locating ratings\n",
    "urls=driver.find_elements_by_xpath(\"//a[@class='a-link-normal a-text-normal']\") # collecting urls of all the laptops\n",
    "URL=[]\n",
    "Ratings=[]\n",
    "for i in urls[0:10]:\n",
    "    URL.append(i.get_attribute('href')) # getting the url of first ten laptops\n",
    "for url in URL: # loop for every laptops in the list\n",
    "    driver.get(url)\n",
    "    try:\n",
    "        rate=driver.find_element_by_xpath(\"//span[@id='acrCustomerReviewText']\") # locating the ratings link\n",
    "        rate.click() # click the rating link found\n",
    "        rating=driver.find_element_by_xpath(\"//span[@class='a-size-medium a-color-base']\") # locating the rating\n",
    "        Ratings.append(rating.text) # appending the ratings in Rating list\n",
    "        \n",
    "    except NoSuchElementException as e:\n",
    "        Ratings.append(\"No rating\") # appending the No rating if no rating is there"
   ]
  },
  {
   "cell_type": "code",
   "execution_count": 121,
   "metadata": {},
   "outputs": [
    {
     "data": {
      "text/plain": [
       "['https://www.amazon.in/gp/slredirect/picassoRedirect.html/ref=pa_sp_atf_computers_sr_pg1_1?ie=UTF8&adId=A06217033LJ2SY85WPSRC&url=%2FLenovo-14-inch-Touchscreen-Fingerprint-82BG005JIN%2Fdp%2FB08P3MLZFM%2Fref%3Dsr_1_1_sspa%3Fdchild%3D1%26keywords%3DLaptop%26qid%3D1617629945%26refinements%3Dp_n_feature_thirteen_browse-bin%253A12598163031%257C16757432031%26rnid%3D12598141031%26s%3Dcomputers%26sr%3D1-1-spons%26psc%3D1&qualifier=1617629945&id=543603704096533&widgetName=sp_atf',\n",
       " 'https://www.amazon.in/gp/slredirect/picassoRedirect.html/ref=pa_sp_atf_computers_sr_pg1_1?ie=UTF8&adId=A09866312ASWFYJMAFWNZ&url=%2FRenewed-HP-ZBook-Mobile-Workstation%2Fdp%2FB091265WFP%2Fref%3Dsr_1_2_sspa%3Fdchild%3D1%26keywords%3DLaptop%26qid%3D1617629945%26refinements%3Dp_n_feature_thirteen_browse-bin%253A12598163031%257C16757432031%26rnid%3D12598141031%26s%3Dcomputers%26sr%3D1-2-spons%26psc%3D1&qualifier=1617629945&id=543603704096533&widgetName=sp_atf',\n",
       " 'https://www.amazon.in/Renewed-Lenovo-Thinkpad-Laptop-Windows/dp/B08ZJFTZMJ/ref=sr_1_3?dchild=1&keywords=Laptop&qid=1617629945&refinements=p_n_feature_thirteen_browse-bin%3A12598163031%7C16757432031&rnid=12598141031&s=computers&sr=1-3',\n",
       " 'https://www.amazon.in/HP-14-inch-i7-1165G7-Windows-14s-dr2007TU/dp/B08N57LR4X/ref=sr_1_4?dchild=1&keywords=Laptop&qid=1617629945&refinements=p_n_feature_thirteen_browse-bin%3A12598163031%7C16757432031&rnid=12598141031&s=computers&sr=1-4',\n",
       " 'https://www.amazon.in/Notebook-Horizon-i5-10210U-Graphics-XMA1904-AR/dp/B089F5JGM1/ref=sr_1_5?dchild=1&keywords=Laptop&qid=1617629945&refinements=p_n_feature_thirteen_browse-bin%3A12598163031%7C16757432031&rnid=12598141031&s=computers&sr=1-5',\n",
       " 'https://www.amazon.in/Dell-Alienware-m15-R3-15-6-inch/dp/B08BZR715W/ref=sr_1_6?dchild=1&keywords=Laptop&qid=1617629945&refinements=p_n_feature_thirteen_browse-bin%3A12598163031%7C16757432031&rnid=12598141031&s=computers&sr=1-6',\n",
       " 'https://www.amazon.in/Lenovo-Legion-Gaming-Windows-82AW005SIN/dp/B08CQ21154/ref=sr_1_7?dchild=1&keywords=Laptop&qid=1617629945&refinements=p_n_feature_thirteen_browse-bin%3A12598163031%7C16757432031&rnid=12598141031&s=computers&sr=1-7',\n",
       " 'https://www.amazon.in/Acer-17-3-inch-Display-Graphics-AN517-51/dp/B08D1HF9PS/ref=sr_1_8?dchild=1&keywords=Laptop&qid=1617629945&refinements=p_n_feature_thirteen_browse-bin%3A12598163031%7C16757432031&rnid=12598141031&s=computers&sr=1-8',\n",
       " 'https://www.amazon.in/LifeDigital-Laptop-Intel%C2%AE-Storage-Windows/dp/B08HRHFV23/ref=sr_1_9?dchild=1&keywords=Laptop&qid=1617629945&refinements=p_n_feature_thirteen_browse-bin%3A12598163031%7C16757432031&rnid=12598141031&s=computers&sr=1-9',\n",
       " 'https://www.amazon.in/Lenovo-Legion-Y530-Intel-Core/dp/B07H2NNJ85/ref=sr_1_10?dchild=1&keywords=Laptop&qid=1617629945&refinements=p_n_feature_thirteen_browse-bin%3A12598163031%7C16757432031&rnid=12598141031&s=computers&sr=1-10']"
      ]
     },
     "execution_count": 121,
     "metadata": {},
     "output_type": "execute_result"
    }
   ],
   "source": [
    "URL"
   ]
  },
  {
   "cell_type": "code",
   "execution_count": 122,
   "metadata": {},
   "outputs": [],
   "source": [
    "# close driver\n",
    "driver.close()"
   ]
  },
  {
   "cell_type": "code",
   "execution_count": 123,
   "metadata": {},
   "outputs": [
    {
     "data": {
      "text/html": [
       "<div>\n",
       "<style scoped>\n",
       "    .dataframe tbody tr th:only-of-type {\n",
       "        vertical-align: middle;\n",
       "    }\n",
       "\n",
       "    .dataframe tbody tr th {\n",
       "        vertical-align: top;\n",
       "    }\n",
       "\n",
       "    .dataframe thead th {\n",
       "        text-align: right;\n",
       "    }\n",
       "</style>\n",
       "<table border=\"1\" class=\"dataframe\">\n",
       "  <thead>\n",
       "    <tr style=\"text-align: right;\">\n",
       "      <th></th>\n",
       "      <th>Title</th>\n",
       "      <th>Price</th>\n",
       "      <th>Ratings</th>\n",
       "    </tr>\n",
       "  </thead>\n",
       "  <tbody>\n",
       "    <tr>\n",
       "      <th>0</th>\n",
       "      <td>Lenovo Yoga 9 11th Gen Intel Core i7 14-inch 4...</td>\n",
       "      <td>1,67,990</td>\n",
       "      <td>5 out of 5</td>\n",
       "    </tr>\n",
       "    <tr>\n",
       "      <th>1</th>\n",
       "      <td>(Renewed) HP ZBook 15 G3 Mobile Workstation - ...</td>\n",
       "      <td>1,39,490</td>\n",
       "      <td>No rating</td>\n",
       "    </tr>\n",
       "    <tr>\n",
       "      <th>2</th>\n",
       "      <td>(Renewed) Lenovo Thinkpad Yoga S1 Laptop (CORE...</td>\n",
       "      <td>38,990</td>\n",
       "      <td>1 out of 5</td>\n",
       "    </tr>\n",
       "    <tr>\n",
       "      <th>3</th>\n",
       "      <td>HP 14 Thin &amp; Light 14-inch FHD Laptop (11th Ge...</td>\n",
       "      <td>76,500</td>\n",
       "      <td>4.6 out of 5</td>\n",
       "    </tr>\n",
       "    <tr>\n",
       "      <th>4</th>\n",
       "      <td>Mi Notebook Horizon Edition 14 Intel Core i5-1...</td>\n",
       "      <td>54,999</td>\n",
       "      <td>4.3 out of 5</td>\n",
       "    </tr>\n",
       "    <tr>\n",
       "      <th>5</th>\n",
       "      <td>Dell Alienware m15(R3) 15.6-inch FHD Gaming La...</td>\n",
       "      <td>1,98,590</td>\n",
       "      <td>3 out of 5</td>\n",
       "    </tr>\n",
       "    <tr>\n",
       "      <th>6</th>\n",
       "      <td>Lenovo Legion 5Pi 10th Gen Intel Core i7 15.6\"...</td>\n",
       "      <td>1,35,490</td>\n",
       "      <td>4.3 out of 5</td>\n",
       "    </tr>\n",
       "    <tr>\n",
       "      <th>7</th>\n",
       "      <td>Acer Nitro 5 Intel Core i7-9th Gen 17.3-inch D...</td>\n",
       "      <td>90,990</td>\n",
       "      <td>4.1 out of 5</td>\n",
       "    </tr>\n",
       "    <tr>\n",
       "      <th>8</th>\n",
       "      <td>LifeDigital ZED AIR CX7 15.6 IPS FHD Screen Bl...</td>\n",
       "      <td>36,990</td>\n",
       "      <td>3.5 out of 5</td>\n",
       "    </tr>\n",
       "    <tr>\n",
       "      <th>9</th>\n",
       "      <td>Lenovo Legion Y530 Intel Core I7 8th Gen 15.6 ...</td>\n",
       "      <td>89,990</td>\n",
       "      <td>3.9 out of 5</td>\n",
       "    </tr>\n",
       "  </tbody>\n",
       "</table>\n",
       "</div>"
      ],
      "text/plain": [
       "                                               Title     Price       Ratings\n",
       "0  Lenovo Yoga 9 11th Gen Intel Core i7 14-inch 4...  1,67,990    5 out of 5\n",
       "1  (Renewed) HP ZBook 15 G3 Mobile Workstation - ...  1,39,490     No rating\n",
       "2  (Renewed) Lenovo Thinkpad Yoga S1 Laptop (CORE...    38,990    1 out of 5\n",
       "3  HP 14 Thin & Light 14-inch FHD Laptop (11th Ge...    76,500  4.6 out of 5\n",
       "4  Mi Notebook Horizon Edition 14 Intel Core i5-1...    54,999  4.3 out of 5\n",
       "5  Dell Alienware m15(R3) 15.6-inch FHD Gaming La...  1,98,590    3 out of 5\n",
       "6  Lenovo Legion 5Pi 10th Gen Intel Core i7 15.6\"...  1,35,490  4.3 out of 5\n",
       "7  Acer Nitro 5 Intel Core i7-9th Gen 17.3-inch D...    90,990  4.1 out of 5\n",
       "8  LifeDigital ZED AIR CX7 15.6 IPS FHD Screen Bl...    36,990  3.5 out of 5\n",
       "9  Lenovo Legion Y530 Intel Core I7 8th Gen 15.6 ...    89,990  3.9 out of 5"
      ]
     },
     "execution_count": 123,
     "metadata": {},
     "output_type": "execute_result"
    }
   ],
   "source": [
    "# creating dataframe\n",
    "df = pd.DataFrame({})\n",
    "df['Title'] = Title\n",
    "df['Price'] = price\n",
    "df['Ratings'] = Ratings\n",
    "df"
   ]
  }
 ],
 "metadata": {
  "kernelspec": {
   "display_name": "Python 3",
   "language": "python",
   "name": "python3"
  },
  "language_info": {
   "codemirror_mode": {
    "name": "ipython",
    "version": 3
   },
   "file_extension": ".py",
   "mimetype": "text/x-python",
   "name": "python",
   "nbconvert_exporter": "python",
   "pygments_lexer": "ipython3",
   "version": "3.8.5"
  }
 },
 "nbformat": 4,
 "nbformat_minor": 4
}
