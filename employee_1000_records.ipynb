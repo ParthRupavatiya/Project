{
 "cells": [
  {
   "cell_type": "code",
   "execution_count": 1,
   "metadata": {},
   "outputs": [],
   "source": [
    "import pandas as pd\n",
    "import numpy as np\n",
    "import matplotlib.pyplot as plt\n",
    "import seaborn as sns\n",
    "import warnings\n",
    "warnings.filterwarnings('ignore')"
   ]
  },
  {
   "cell_type": "code",
   "execution_count": 2,
   "metadata": {},
   "outputs": [
    {
     "data": {
      "text/html": [
       "<div>\n",
       "<style scoped>\n",
       "    .dataframe tbody tr th:only-of-type {\n",
       "        vertical-align: middle;\n",
       "    }\n",
       "\n",
       "    .dataframe tbody tr th {\n",
       "        vertical-align: top;\n",
       "    }\n",
       "\n",
       "    .dataframe thead th {\n",
       "        text-align: right;\n",
       "    }\n",
       "</style>\n",
       "<table border=\"1\" class=\"dataframe\">\n",
       "  <thead>\n",
       "    <tr style=\"text-align: right;\">\n",
       "      <th></th>\n",
       "      <th>Emp ID</th>\n",
       "      <th>Name Prefix</th>\n",
       "      <th>First Name</th>\n",
       "      <th>Middle Initial</th>\n",
       "      <th>Last Name</th>\n",
       "      <th>Gender</th>\n",
       "      <th>E Mail</th>\n",
       "      <th>Father's Name</th>\n",
       "      <th>Mother's Name</th>\n",
       "      <th>Mother's Maiden Name</th>\n",
       "      <th>...</th>\n",
       "      <th>SSN</th>\n",
       "      <th>Phone No.</th>\n",
       "      <th>Place Name</th>\n",
       "      <th>County</th>\n",
       "      <th>City</th>\n",
       "      <th>State</th>\n",
       "      <th>Zip</th>\n",
       "      <th>Region</th>\n",
       "      <th>User Name</th>\n",
       "      <th>Password</th>\n",
       "    </tr>\n",
       "  </thead>\n",
       "  <tbody>\n",
       "    <tr>\n",
       "      <th>0</th>\n",
       "      <td>850297</td>\n",
       "      <td>Ms.</td>\n",
       "      <td>Shawna</td>\n",
       "      <td>W</td>\n",
       "      <td>Buck</td>\n",
       "      <td>F</td>\n",
       "      <td>shawna.buck@gmail.com</td>\n",
       "      <td>Rosario Buck</td>\n",
       "      <td>Keisha Buck</td>\n",
       "      <td>Hendricks</td>\n",
       "      <td>...</td>\n",
       "      <td>222-11-7603</td>\n",
       "      <td>702-771-7149</td>\n",
       "      <td>Las Vegas</td>\n",
       "      <td>Clark</td>\n",
       "      <td>Las Vegas</td>\n",
       "      <td>NV</td>\n",
       "      <td>89128</td>\n",
       "      <td>West</td>\n",
       "      <td>swbuck</td>\n",
       "      <td>ja8?k3BTF^]o@&lt;&amp;</td>\n",
       "    </tr>\n",
       "    <tr>\n",
       "      <th>1</th>\n",
       "      <td>304721</td>\n",
       "      <td>Mr.</td>\n",
       "      <td>Nathaniel</td>\n",
       "      <td>Z</td>\n",
       "      <td>Burke</td>\n",
       "      <td>M</td>\n",
       "      <td>nathaniel.burke@walmart.com</td>\n",
       "      <td>Derrick Burke</td>\n",
       "      <td>Phoebe Burke</td>\n",
       "      <td>Pugh</td>\n",
       "      <td>...</td>\n",
       "      <td>550-99-9897</td>\n",
       "      <td>231-765-6923</td>\n",
       "      <td>Irons</td>\n",
       "      <td>Lake</td>\n",
       "      <td>Irons</td>\n",
       "      <td>MI</td>\n",
       "      <td>49644</td>\n",
       "      <td>Midwest</td>\n",
       "      <td>nzburke</td>\n",
       "      <td>tPA@4Wh9Ja$+Ln</td>\n",
       "    </tr>\n",
       "    <tr>\n",
       "      <th>2</th>\n",
       "      <td>412317</td>\n",
       "      <td>Drs.</td>\n",
       "      <td>Elisabeth</td>\n",
       "      <td>W</td>\n",
       "      <td>Foster</td>\n",
       "      <td>F</td>\n",
       "      <td>elisabeth.foster@gmail.com</td>\n",
       "      <td>Irwin Foster</td>\n",
       "      <td>Janie Foster</td>\n",
       "      <td>Delaney</td>\n",
       "      <td>...</td>\n",
       "      <td>215-91-0004</td>\n",
       "      <td>270-749-4774</td>\n",
       "      <td>Lexington</td>\n",
       "      <td>Fayette</td>\n",
       "      <td>Lexington</td>\n",
       "      <td>KY</td>\n",
       "      <td>40501</td>\n",
       "      <td>South</td>\n",
       "      <td>ewfoster</td>\n",
       "      <td>5D.B4IGNkWJfG&lt;~</td>\n",
       "    </tr>\n",
       "    <tr>\n",
       "      <th>3</th>\n",
       "      <td>621375</td>\n",
       "      <td>Mrs.</td>\n",
       "      <td>Briana</td>\n",
       "      <td>C</td>\n",
       "      <td>Lancaster</td>\n",
       "      <td>F</td>\n",
       "      <td>briana.lancaster@yahoo.com</td>\n",
       "      <td>Jeffrey Lancaster</td>\n",
       "      <td>Shelby Lancaster</td>\n",
       "      <td>Weiss</td>\n",
       "      <td>...</td>\n",
       "      <td>534-71-1053</td>\n",
       "      <td>219-623-8216</td>\n",
       "      <td>Munster</td>\n",
       "      <td>Lake</td>\n",
       "      <td>Munster</td>\n",
       "      <td>IN</td>\n",
       "      <td>46321</td>\n",
       "      <td>Midwest</td>\n",
       "      <td>bclancaster</td>\n",
       "      <td>I%?JDM;pW</td>\n",
       "    </tr>\n",
       "    <tr>\n",
       "      <th>4</th>\n",
       "      <td>787549</td>\n",
       "      <td>Hon.</td>\n",
       "      <td>Estella</td>\n",
       "      <td>L</td>\n",
       "      <td>Potter</td>\n",
       "      <td>F</td>\n",
       "      <td>estella.potter@gmail.com</td>\n",
       "      <td>Booker Potter</td>\n",
       "      <td>Katelyn Potter</td>\n",
       "      <td>Pate</td>\n",
       "      <td>...</td>\n",
       "      <td>644-29-6396</td>\n",
       "      <td>907-677-8486</td>\n",
       "      <td>Fairbanks</td>\n",
       "      <td>Fairbanks North Star</td>\n",
       "      <td>Fairbanks</td>\n",
       "      <td>AK</td>\n",
       "      <td>99709</td>\n",
       "      <td>West</td>\n",
       "      <td>elpotter</td>\n",
       "      <td>j4jkEXfC&amp;Rh</td>\n",
       "    </tr>\n",
       "  </tbody>\n",
       "</table>\n",
       "<p>5 rows × 37 columns</p>\n",
       "</div>"
      ],
      "text/plain": [
       "   Emp ID Name Prefix First Name Middle Initial  Last Name Gender  \\\n",
       "0  850297         Ms.     Shawna              W       Buck      F   \n",
       "1  304721         Mr.  Nathaniel              Z      Burke      M   \n",
       "2  412317        Drs.  Elisabeth              W     Foster      F   \n",
       "3  621375        Mrs.     Briana              C  Lancaster      F   \n",
       "4  787549        Hon.    Estella              L     Potter      F   \n",
       "\n",
       "                        E Mail      Father's Name     Mother's Name  \\\n",
       "0        shawna.buck@gmail.com       Rosario Buck       Keisha Buck   \n",
       "1  nathaniel.burke@walmart.com      Derrick Burke      Phoebe Burke   \n",
       "2   elisabeth.foster@gmail.com       Irwin Foster      Janie Foster   \n",
       "3   briana.lancaster@yahoo.com  Jeffrey Lancaster  Shelby Lancaster   \n",
       "4     estella.potter@gmail.com      Booker Potter    Katelyn Potter   \n",
       "\n",
       "  Mother's Maiden Name  ...          SSN    Phone No.   Place Name  \\\n",
       "0            Hendricks  ...  222-11-7603  702-771-7149   Las Vegas   \n",
       "1                 Pugh  ...  550-99-9897  231-765-6923       Irons   \n",
       "2              Delaney  ...  215-91-0004  270-749-4774   Lexington   \n",
       "3                Weiss  ...  534-71-1053  219-623-8216     Munster   \n",
       "4                 Pate  ...  644-29-6396  907-677-8486   Fairbanks   \n",
       "\n",
       "                 County       City State    Zip   Region    User Name  \\\n",
       "0                 Clark  Las Vegas    NV  89128     West       swbuck   \n",
       "1                  Lake      Irons    MI  49644  Midwest      nzburke   \n",
       "2               Fayette  Lexington    KY  40501    South     ewfoster   \n",
       "3                  Lake    Munster    IN  46321  Midwest  bclancaster   \n",
       "4  Fairbanks North Star  Fairbanks    AK  99709     West     elpotter   \n",
       "\n",
       "          Password  \n",
       "0  ja8?k3BTF^]o@<&  \n",
       "1   tPA@4Wh9Ja$+Ln  \n",
       "2  5D.B4IGNkWJfG<~  \n",
       "3        I%?JDM;pW  \n",
       "4      j4jkEXfC&Rh  \n",
       "\n",
       "[5 rows x 37 columns]"
      ]
     },
     "execution_count": 2,
     "metadata": {},
     "output_type": "execute_result"
    }
   ],
   "source": [
    "df = pd.read_csv(\"employee_1000_records.csv\")\n",
    "df.head()"
   ]
  },
  {
   "cell_type": "code",
   "execution_count": 3,
   "metadata": {},
   "outputs": [
    {
     "data": {
      "text/plain": [
       "(1000, 37)"
      ]
     },
     "execution_count": 3,
     "metadata": {},
     "output_type": "execute_result"
    }
   ],
   "source": [
    "df.shape"
   ]
  },
  {
   "cell_type": "code",
   "execution_count": 4,
   "metadata": {},
   "outputs": [
    {
     "data": {
      "text/plain": [
       "Index(['Emp ID', 'Name Prefix', 'First Name', 'Middle Initial', 'Last Name',\n",
       "       'Gender', 'E Mail', 'Father's Name', 'Mother's Name',\n",
       "       'Mother's Maiden Name', 'Date of Birth', 'Time of Birth', 'Age in Yrs.',\n",
       "       'Weight in Kgs.', 'Date of Joining', 'Quarter of Joining',\n",
       "       'Half of Joining', 'Year of Joining', 'Month of Joining',\n",
       "       'Month Name of Joining', 'Short Month', 'Day of Joining',\n",
       "       'DOW of Joining', 'Short DOW', 'Age in Company (Years)', 'Salary',\n",
       "       'Last % Hike', 'SSN', 'Phone No. ', 'Place Name', 'County', 'City',\n",
       "       'State', 'Zip', 'Region', 'User Name', 'Password'],\n",
       "      dtype='object')"
      ]
     },
     "execution_count": 4,
     "metadata": {},
     "output_type": "execute_result"
    }
   ],
   "source": [
    "df.columns"
   ]
  },
  {
   "cell_type": "code",
   "execution_count": 5,
   "metadata": {},
   "outputs": [
    {
     "data": {
      "text/plain": [
       "Emp ID                    0\n",
       "Name Prefix               0\n",
       "First Name                0\n",
       "Middle Initial            0\n",
       "Last Name                 0\n",
       "Gender                    0\n",
       "E Mail                    0\n",
       "Father's Name             0\n",
       "Mother's Name             0\n",
       "Mother's Maiden Name      0\n",
       "Date of Birth             0\n",
       "Time of Birth             0\n",
       "Age in Yrs.               0\n",
       "Weight in Kgs.            0\n",
       "Date of Joining           0\n",
       "Quarter of Joining        0\n",
       "Half of Joining           0\n",
       "Year of Joining           0\n",
       "Month of Joining          0\n",
       "Month Name of Joining     0\n",
       "Short Month               0\n",
       "Day of Joining            0\n",
       "DOW of Joining            0\n",
       "Short DOW                 0\n",
       "Age in Company (Years)    0\n",
       "Salary                    0\n",
       "Last % Hike               0\n",
       "SSN                       0\n",
       "Phone No.                 0\n",
       "Place Name                0\n",
       "County                    0\n",
       "City                      0\n",
       "State                     0\n",
       "Zip                       0\n",
       "Region                    0\n",
       "User Name                 0\n",
       "Password                  0\n",
       "dtype: int64"
      ]
     },
     "execution_count": 5,
     "metadata": {},
     "output_type": "execute_result"
    }
   ],
   "source": [
    "df.isnull().sum()"
   ]
  },
  {
   "cell_type": "code",
   "execution_count": 6,
   "metadata": {},
   "outputs": [
    {
     "name": "stdout",
     "output_type": "stream",
     "text": [
      "<class 'pandas.core.frame.DataFrame'>\n",
      "RangeIndex: 1000 entries, 0 to 999\n",
      "Data columns (total 37 columns):\n",
      " #   Column                  Non-Null Count  Dtype  \n",
      "---  ------                  --------------  -----  \n",
      " 0   Emp ID                  1000 non-null   int64  \n",
      " 1   Name Prefix             1000 non-null   object \n",
      " 2   First Name              1000 non-null   object \n",
      " 3   Middle Initial          1000 non-null   object \n",
      " 4   Last Name               1000 non-null   object \n",
      " 5   Gender                  1000 non-null   object \n",
      " 6   E Mail                  1000 non-null   object \n",
      " 7   Father's Name           1000 non-null   object \n",
      " 8   Mother's Name           1000 non-null   object \n",
      " 9   Mother's Maiden Name    1000 non-null   object \n",
      " 10  Date of Birth           1000 non-null   object \n",
      " 11  Time of Birth           1000 non-null   object \n",
      " 12  Age in Yrs.             1000 non-null   float64\n",
      " 13  Weight in Kgs.          1000 non-null   int64  \n",
      " 14  Date of Joining         1000 non-null   object \n",
      " 15  Quarter of Joining      1000 non-null   object \n",
      " 16  Half of Joining         1000 non-null   object \n",
      " 17  Year of Joining         1000 non-null   int64  \n",
      " 18  Month of Joining        1000 non-null   int64  \n",
      " 19  Month Name of Joining   1000 non-null   object \n",
      " 20  Short Month             1000 non-null   object \n",
      " 21  Day of Joining          1000 non-null   int64  \n",
      " 22  DOW of Joining          1000 non-null   object \n",
      " 23  Short DOW               1000 non-null   object \n",
      " 24  Age in Company (Years)  1000 non-null   float64\n",
      " 25  Salary                  1000 non-null   int64  \n",
      " 26  Last % Hike             1000 non-null   object \n",
      " 27  SSN                     1000 non-null   object \n",
      " 28  Phone No.               1000 non-null   object \n",
      " 29  Place Name              1000 non-null   object \n",
      " 30  County                  1000 non-null   object \n",
      " 31  City                    1000 non-null   object \n",
      " 32  State                   1000 non-null   object \n",
      " 33  Zip                     1000 non-null   int64  \n",
      " 34  Region                  1000 non-null   object \n",
      " 35  User Name               1000 non-null   object \n",
      " 36  Password                1000 non-null   object \n",
      "dtypes: float64(2), int64(7), object(28)\n",
      "memory usage: 289.2+ KB\n"
     ]
    }
   ],
   "source": [
    "df.info()"
   ]
  },
  {
   "cell_type": "code",
   "execution_count": 7,
   "metadata": {},
   "outputs": [
    {
     "data": {
      "text/html": [
       "<div>\n",
       "<style scoped>\n",
       "    .dataframe tbody tr th:only-of-type {\n",
       "        vertical-align: middle;\n",
       "    }\n",
       "\n",
       "    .dataframe tbody tr th {\n",
       "        vertical-align: top;\n",
       "    }\n",
       "\n",
       "    .dataframe thead th {\n",
       "        text-align: right;\n",
       "    }\n",
       "</style>\n",
       "<table border=\"1\" class=\"dataframe\">\n",
       "  <thead>\n",
       "    <tr style=\"text-align: right;\">\n",
       "      <th></th>\n",
       "      <th>Emp ID</th>\n",
       "      <th>Age in Yrs.</th>\n",
       "      <th>Weight in Kgs.</th>\n",
       "      <th>Year of Joining</th>\n",
       "      <th>Month of Joining</th>\n",
       "      <th>Day of Joining</th>\n",
       "      <th>Age in Company (Years)</th>\n",
       "      <th>Salary</th>\n",
       "      <th>Zip</th>\n",
       "    </tr>\n",
       "  </thead>\n",
       "  <tbody>\n",
       "    <tr>\n",
       "      <th>count</th>\n",
       "      <td>1000.000000</td>\n",
       "      <td>1000.000000</td>\n",
       "      <td>1000.000000</td>\n",
       "      <td>1000.000000</td>\n",
       "      <td>1000.000000</td>\n",
       "      <td>1000.000000</td>\n",
       "      <td>1000.000000</td>\n",
       "      <td>1000.000000</td>\n",
       "      <td>1000.000000</td>\n",
       "    </tr>\n",
       "    <tr>\n",
       "      <th>mean</th>\n",
       "      <td>549097.583000</td>\n",
       "      <td>40.377250</td>\n",
       "      <td>59.409000</td>\n",
       "      <td>2006.992000</td>\n",
       "      <td>6.415000</td>\n",
       "      <td>16.481000</td>\n",
       "      <td>10.093720</td>\n",
       "      <td>120288.528000</td>\n",
       "      <td>48698.499000</td>\n",
       "    </tr>\n",
       "    <tr>\n",
       "      <th>std</th>\n",
       "      <td>264810.879315</td>\n",
       "      <td>11.107729</td>\n",
       "      <td>13.900322</td>\n",
       "      <td>8.565588</td>\n",
       "      <td>3.428488</td>\n",
       "      <td>8.831514</td>\n",
       "      <td>8.568863</td>\n",
       "      <td>45178.339916</td>\n",
       "      <td>27396.021481</td>\n",
       "    </tr>\n",
       "    <tr>\n",
       "      <th>min</th>\n",
       "      <td>114425.000000</td>\n",
       "      <td>21.040000</td>\n",
       "      <td>40.000000</td>\n",
       "      <td>1980.000000</td>\n",
       "      <td>1.000000</td>\n",
       "      <td>1.000000</td>\n",
       "      <td>0.000000</td>\n",
       "      <td>40040.000000</td>\n",
       "      <td>1002.000000</td>\n",
       "    </tr>\n",
       "    <tr>\n",
       "      <th>25%</th>\n",
       "      <td>307757.000000</td>\n",
       "      <td>30.925000</td>\n",
       "      <td>49.000000</td>\n",
       "      <td>2002.000000</td>\n",
       "      <td>4.000000</td>\n",
       "      <td>9.000000</td>\n",
       "      <td>3.152500</td>\n",
       "      <td>82122.000000</td>\n",
       "      <td>25421.750000</td>\n",
       "    </tr>\n",
       "    <tr>\n",
       "      <th>50%</th>\n",
       "      <td>543073.000000</td>\n",
       "      <td>40.730000</td>\n",
       "      <td>57.000000</td>\n",
       "      <td>2009.000000</td>\n",
       "      <td>6.000000</td>\n",
       "      <td>17.000000</td>\n",
       "      <td>7.815000</td>\n",
       "      <td>119409.000000</td>\n",
       "      <td>47416.500000</td>\n",
       "    </tr>\n",
       "    <tr>\n",
       "      <th>75%</th>\n",
       "      <td>788450.250000</td>\n",
       "      <td>49.852500</td>\n",
       "      <td>68.000000</td>\n",
       "      <td>2014.000000</td>\n",
       "      <td>10.000000</td>\n",
       "      <td>24.000000</td>\n",
       "      <td>15.465000</td>\n",
       "      <td>159109.000000</td>\n",
       "      <td>71101.000000</td>\n",
       "    </tr>\n",
       "    <tr>\n",
       "      <th>max</th>\n",
       "      <td>999475.000000</td>\n",
       "      <td>59.980000</td>\n",
       "      <td>90.000000</td>\n",
       "      <td>2017.000000</td>\n",
       "      <td>12.000000</td>\n",
       "      <td>31.000000</td>\n",
       "      <td>37.570000</td>\n",
       "      <td>199943.000000</td>\n",
       "      <td>99791.000000</td>\n",
       "    </tr>\n",
       "  </tbody>\n",
       "</table>\n",
       "</div>"
      ],
      "text/plain": [
       "              Emp ID  Age in Yrs.  Weight in Kgs.  Year of Joining  \\\n",
       "count    1000.000000  1000.000000     1000.000000      1000.000000   \n",
       "mean   549097.583000    40.377250       59.409000      2006.992000   \n",
       "std    264810.879315    11.107729       13.900322         8.565588   \n",
       "min    114425.000000    21.040000       40.000000      1980.000000   \n",
       "25%    307757.000000    30.925000       49.000000      2002.000000   \n",
       "50%    543073.000000    40.730000       57.000000      2009.000000   \n",
       "75%    788450.250000    49.852500       68.000000      2014.000000   \n",
       "max    999475.000000    59.980000       90.000000      2017.000000   \n",
       "\n",
       "       Month of Joining  Day of Joining  Age in Company (Years)  \\\n",
       "count       1000.000000     1000.000000             1000.000000   \n",
       "mean           6.415000       16.481000               10.093720   \n",
       "std            3.428488        8.831514                8.568863   \n",
       "min            1.000000        1.000000                0.000000   \n",
       "25%            4.000000        9.000000                3.152500   \n",
       "50%            6.000000       17.000000                7.815000   \n",
       "75%           10.000000       24.000000               15.465000   \n",
       "max           12.000000       31.000000               37.570000   \n",
       "\n",
       "              Salary           Zip  \n",
       "count    1000.000000   1000.000000  \n",
       "mean   120288.528000  48698.499000  \n",
       "std     45178.339916  27396.021481  \n",
       "min     40040.000000   1002.000000  \n",
       "25%     82122.000000  25421.750000  \n",
       "50%    119409.000000  47416.500000  \n",
       "75%    159109.000000  71101.000000  \n",
       "max    199943.000000  99791.000000  "
      ]
     },
     "execution_count": 7,
     "metadata": {},
     "output_type": "execute_result"
    }
   ],
   "source": [
    "df.describe()"
   ]
  },
  {
   "cell_type": "code",
   "execution_count": 8,
   "metadata": {},
   "outputs": [
    {
     "data": {
      "text/html": [
       "<div>\n",
       "<style scoped>\n",
       "    .dataframe tbody tr th:only-of-type {\n",
       "        vertical-align: middle;\n",
       "    }\n",
       "\n",
       "    .dataframe tbody tr th {\n",
       "        vertical-align: top;\n",
       "    }\n",
       "\n",
       "    .dataframe thead th {\n",
       "        text-align: right;\n",
       "    }\n",
       "</style>\n",
       "<table border=\"1\" class=\"dataframe\">\n",
       "  <thead>\n",
       "    <tr style=\"text-align: right;\">\n",
       "      <th></th>\n",
       "      <th>Gender</th>\n",
       "      <th>Age in Yrs.</th>\n",
       "      <th>Year of Joining</th>\n",
       "      <th>Month of Joining</th>\n",
       "      <th>Day of Joining</th>\n",
       "      <th>Age in Company (Years)</th>\n",
       "      <th>Salary</th>\n",
       "      <th>Last % Hike</th>\n",
       "    </tr>\n",
       "  </thead>\n",
       "  <tbody>\n",
       "    <tr>\n",
       "      <th>0</th>\n",
       "      <td>F</td>\n",
       "      <td>45.66</td>\n",
       "      <td>2010</td>\n",
       "      <td>12</td>\n",
       "      <td>18</td>\n",
       "      <td>6.61</td>\n",
       "      <td>119090</td>\n",
       "      <td>17%</td>\n",
       "    </tr>\n",
       "    <tr>\n",
       "      <th>1</th>\n",
       "      <td>M</td>\n",
       "      <td>23.76</td>\n",
       "      <td>2017</td>\n",
       "      <td>4</td>\n",
       "      <td>25</td>\n",
       "      <td>0.26</td>\n",
       "      <td>117991</td>\n",
       "      <td>14%</td>\n",
       "    </tr>\n",
       "    <tr>\n",
       "      <th>2</th>\n",
       "      <td>F</td>\n",
       "      <td>22.68</td>\n",
       "      <td>2017</td>\n",
       "      <td>3</td>\n",
       "      <td>27</td>\n",
       "      <td>0.34</td>\n",
       "      <td>161045</td>\n",
       "      <td>28%</td>\n",
       "    </tr>\n",
       "    <tr>\n",
       "      <th>3</th>\n",
       "      <td>F</td>\n",
       "      <td>41.70</td>\n",
       "      <td>2003</td>\n",
       "      <td>2</td>\n",
       "      <td>25</td>\n",
       "      <td>14.43</td>\n",
       "      <td>142616</td>\n",
       "      <td>16%</td>\n",
       "    </tr>\n",
       "    <tr>\n",
       "      <th>4</th>\n",
       "      <td>F</td>\n",
       "      <td>22.39</td>\n",
       "      <td>2016</td>\n",
       "      <td>10</td>\n",
       "      <td>11</td>\n",
       "      <td>0.79</td>\n",
       "      <td>135706</td>\n",
       "      <td>11%</td>\n",
       "    </tr>\n",
       "  </tbody>\n",
       "</table>\n",
       "</div>"
      ],
      "text/plain": [
       "  Gender  Age in Yrs.  Year of Joining  Month of Joining  Day of Joining  \\\n",
       "0      F        45.66             2010                12              18   \n",
       "1      M        23.76             2017                 4              25   \n",
       "2      F        22.68             2017                 3              27   \n",
       "3      F        41.70             2003                 2              25   \n",
       "4      F        22.39             2016                10              11   \n",
       "\n",
       "   Age in Company (Years)  Salary Last % Hike  \n",
       "0                    6.61  119090         17%  \n",
       "1                    0.26  117991         14%  \n",
       "2                    0.34  161045         28%  \n",
       "3                   14.43  142616         16%  \n",
       "4                    0.79  135706         11%  "
      ]
     },
     "execution_count": 8,
     "metadata": {},
     "output_type": "execute_result"
    }
   ],
   "source": [
    "df = df.drop(['Emp ID', 'Name Prefix', 'First Name', 'Middle Initial', 'Last Name',\n",
    "              'E Mail', \"Father's Name\", \"Mother's Name\",\"Mother's Maiden Name\", 'Date of Birth', 'Time of Birth',\n",
    "              'Weight in Kgs.', 'Quarter of Joining','Half of Joining','Month Name of Joining', 'Short Month',\n",
    "              'DOW of Joining', 'Short DOW', 'SSN', 'Phone No. ', 'Place Name', 'County', 'City','State', 'Zip',\n",
    "              'Region', 'User Name', 'Password','Date of Joining'],axis=1)\n",
    "df.head()"
   ]
  },
  {
   "cell_type": "code",
   "execution_count": 9,
   "metadata": {},
   "outputs": [
    {
     "data": {
      "text/plain": [
       "Gender                     object\n",
       "Age in Yrs.               float64\n",
       "Year of Joining             int64\n",
       "Month of Joining            int64\n",
       "Day of Joining              int64\n",
       "Age in Company (Years)    float64\n",
       "Salary                      int64\n",
       "Last % Hike               float64\n",
       "dtype: object"
      ]
     },
     "execution_count": 9,
     "metadata": {},
     "output_type": "execute_result"
    }
   ],
   "source": [
    "df['Last % Hike']=df['Last % Hike'].apply(lambda x: x.replace('%', '')).astype('float') / 100\n",
    "df.dtypes"
   ]
  },
  {
   "cell_type": "code",
   "execution_count": 10,
   "metadata": {},
   "outputs": [
    {
     "data": {
      "text/html": [
       "<div>\n",
       "<style scoped>\n",
       "    .dataframe tbody tr th:only-of-type {\n",
       "        vertical-align: middle;\n",
       "    }\n",
       "\n",
       "    .dataframe tbody tr th {\n",
       "        vertical-align: top;\n",
       "    }\n",
       "\n",
       "    .dataframe thead th {\n",
       "        text-align: right;\n",
       "    }\n",
       "</style>\n",
       "<table border=\"1\" class=\"dataframe\">\n",
       "  <thead>\n",
       "    <tr style=\"text-align: right;\">\n",
       "      <th></th>\n",
       "      <th>Gender</th>\n",
       "      <th>Age in Yrs.</th>\n",
       "      <th>Year of Joining</th>\n",
       "      <th>Month of Joining</th>\n",
       "      <th>Day of Joining</th>\n",
       "      <th>Age in Company (Years)</th>\n",
       "      <th>Salary</th>\n",
       "      <th>Last % Hike</th>\n",
       "    </tr>\n",
       "  </thead>\n",
       "  <tbody>\n",
       "    <tr>\n",
       "      <th>0</th>\n",
       "      <td>F</td>\n",
       "      <td>45.66</td>\n",
       "      <td>2010</td>\n",
       "      <td>12</td>\n",
       "      <td>18</td>\n",
       "      <td>6.61</td>\n",
       "      <td>119090</td>\n",
       "      <td>0.17</td>\n",
       "    </tr>\n",
       "    <tr>\n",
       "      <th>1</th>\n",
       "      <td>M</td>\n",
       "      <td>23.76</td>\n",
       "      <td>2017</td>\n",
       "      <td>4</td>\n",
       "      <td>25</td>\n",
       "      <td>0.26</td>\n",
       "      <td>117991</td>\n",
       "      <td>0.14</td>\n",
       "    </tr>\n",
       "    <tr>\n",
       "      <th>2</th>\n",
       "      <td>F</td>\n",
       "      <td>22.68</td>\n",
       "      <td>2017</td>\n",
       "      <td>3</td>\n",
       "      <td>27</td>\n",
       "      <td>0.34</td>\n",
       "      <td>161045</td>\n",
       "      <td>0.28</td>\n",
       "    </tr>\n",
       "    <tr>\n",
       "      <th>3</th>\n",
       "      <td>F</td>\n",
       "      <td>41.70</td>\n",
       "      <td>2003</td>\n",
       "      <td>2</td>\n",
       "      <td>25</td>\n",
       "      <td>14.43</td>\n",
       "      <td>142616</td>\n",
       "      <td>0.16</td>\n",
       "    </tr>\n",
       "    <tr>\n",
       "      <th>4</th>\n",
       "      <td>F</td>\n",
       "      <td>22.39</td>\n",
       "      <td>2016</td>\n",
       "      <td>10</td>\n",
       "      <td>11</td>\n",
       "      <td>0.79</td>\n",
       "      <td>135706</td>\n",
       "      <td>0.11</td>\n",
       "    </tr>\n",
       "  </tbody>\n",
       "</table>\n",
       "</div>"
      ],
      "text/plain": [
       "  Gender  Age in Yrs.  Year of Joining  Month of Joining  Day of Joining  \\\n",
       "0      F        45.66             2010                12              18   \n",
       "1      M        23.76             2017                 4              25   \n",
       "2      F        22.68             2017                 3              27   \n",
       "3      F        41.70             2003                 2              25   \n",
       "4      F        22.39             2016                10              11   \n",
       "\n",
       "   Age in Company (Years)  Salary  Last % Hike  \n",
       "0                    6.61  119090         0.17  \n",
       "1                    0.26  117991         0.14  \n",
       "2                    0.34  161045         0.28  \n",
       "3                   14.43  142616         0.16  \n",
       "4                    0.79  135706         0.11  "
      ]
     },
     "execution_count": 10,
     "metadata": {},
     "output_type": "execute_result"
    }
   ],
   "source": [
    "df.head()"
   ]
  },
  {
   "cell_type": "code",
   "execution_count": 11,
   "metadata": {},
   "outputs": [
    {
     "data": {
      "text/plain": [
       "(1000, 8)"
      ]
     },
     "execution_count": 11,
     "metadata": {},
     "output_type": "execute_result"
    }
   ],
   "source": [
    "df.shape"
   ]
  },
  {
   "cell_type": "code",
   "execution_count": 12,
   "metadata": {},
   "outputs": [
    {
     "data": {
      "text/html": [
       "<div>\n",
       "<style scoped>\n",
       "    .dataframe tbody tr th:only-of-type {\n",
       "        vertical-align: middle;\n",
       "    }\n",
       "\n",
       "    .dataframe tbody tr th {\n",
       "        vertical-align: top;\n",
       "    }\n",
       "\n",
       "    .dataframe thead th {\n",
       "        text-align: right;\n",
       "    }\n",
       "</style>\n",
       "<table border=\"1\" class=\"dataframe\">\n",
       "  <thead>\n",
       "    <tr style=\"text-align: right;\">\n",
       "      <th></th>\n",
       "      <th>Age in Yrs.</th>\n",
       "      <th>Year of Joining</th>\n",
       "      <th>Month of Joining</th>\n",
       "      <th>Day of Joining</th>\n",
       "      <th>Age in Company (Years)</th>\n",
       "      <th>Salary</th>\n",
       "      <th>Last % Hike</th>\n",
       "    </tr>\n",
       "  </thead>\n",
       "  <tbody>\n",
       "    <tr>\n",
       "      <th>Age in Yrs.</th>\n",
       "      <td>1.000000</td>\n",
       "      <td>-0.676875</td>\n",
       "      <td>0.022617</td>\n",
       "      <td>-0.026387</td>\n",
       "      <td>0.676408</td>\n",
       "      <td>0.041422</td>\n",
       "      <td>-0.030761</td>\n",
       "    </tr>\n",
       "    <tr>\n",
       "      <th>Year of Joining</th>\n",
       "      <td>-0.676875</td>\n",
       "      <td>1.000000</td>\n",
       "      <td>-0.029644</td>\n",
       "      <td>0.040820</td>\n",
       "      <td>-0.999435</td>\n",
       "      <td>-0.053501</td>\n",
       "      <td>0.008960</td>\n",
       "    </tr>\n",
       "    <tr>\n",
       "      <th>Month of Joining</th>\n",
       "      <td>0.022617</td>\n",
       "      <td>-0.029644</td>\n",
       "      <td>1.000000</td>\n",
       "      <td>0.046362</td>\n",
       "      <td>-0.003848</td>\n",
       "      <td>-0.019298</td>\n",
       "      <td>-0.021718</td>\n",
       "    </tr>\n",
       "    <tr>\n",
       "      <th>Day of Joining</th>\n",
       "      <td>-0.026387</td>\n",
       "      <td>0.040820</td>\n",
       "      <td>0.046362</td>\n",
       "      <td>1.000000</td>\n",
       "      <td>-0.045185</td>\n",
       "      <td>-0.018947</td>\n",
       "      <td>0.003387</td>\n",
       "    </tr>\n",
       "    <tr>\n",
       "      <th>Age in Company (Years)</th>\n",
       "      <td>0.676408</td>\n",
       "      <td>-0.999435</td>\n",
       "      <td>-0.003848</td>\n",
       "      <td>-0.045185</td>\n",
       "      <td>1.000000</td>\n",
       "      <td>0.054212</td>\n",
       "      <td>-0.008238</td>\n",
       "    </tr>\n",
       "    <tr>\n",
       "      <th>Salary</th>\n",
       "      <td>0.041422</td>\n",
       "      <td>-0.053501</td>\n",
       "      <td>-0.019298</td>\n",
       "      <td>-0.018947</td>\n",
       "      <td>0.054212</td>\n",
       "      <td>1.000000</td>\n",
       "      <td>-0.005366</td>\n",
       "    </tr>\n",
       "    <tr>\n",
       "      <th>Last % Hike</th>\n",
       "      <td>-0.030761</td>\n",
       "      <td>0.008960</td>\n",
       "      <td>-0.021718</td>\n",
       "      <td>0.003387</td>\n",
       "      <td>-0.008238</td>\n",
       "      <td>-0.005366</td>\n",
       "      <td>1.000000</td>\n",
       "    </tr>\n",
       "  </tbody>\n",
       "</table>\n",
       "</div>"
      ],
      "text/plain": [
       "                        Age in Yrs.  Year of Joining  Month of Joining  \\\n",
       "Age in Yrs.                1.000000        -0.676875          0.022617   \n",
       "Year of Joining           -0.676875         1.000000         -0.029644   \n",
       "Month of Joining           0.022617        -0.029644          1.000000   \n",
       "Day of Joining            -0.026387         0.040820          0.046362   \n",
       "Age in Company (Years)     0.676408        -0.999435         -0.003848   \n",
       "Salary                     0.041422        -0.053501         -0.019298   \n",
       "Last % Hike               -0.030761         0.008960         -0.021718   \n",
       "\n",
       "                        Day of Joining  Age in Company (Years)    Salary  \\\n",
       "Age in Yrs.                  -0.026387                0.676408  0.041422   \n",
       "Year of Joining               0.040820               -0.999435 -0.053501   \n",
       "Month of Joining              0.046362               -0.003848 -0.019298   \n",
       "Day of Joining                1.000000               -0.045185 -0.018947   \n",
       "Age in Company (Years)       -0.045185                1.000000  0.054212   \n",
       "Salary                       -0.018947                0.054212  1.000000   \n",
       "Last % Hike                   0.003387               -0.008238 -0.005366   \n",
       "\n",
       "                        Last % Hike  \n",
       "Age in Yrs.               -0.030761  \n",
       "Year of Joining            0.008960  \n",
       "Month of Joining          -0.021718  \n",
       "Day of Joining             0.003387  \n",
       "Age in Company (Years)    -0.008238  \n",
       "Salary                    -0.005366  \n",
       "Last % Hike                1.000000  "
      ]
     },
     "execution_count": 12,
     "metadata": {},
     "output_type": "execute_result"
    }
   ],
   "source": [
    "df.corr()"
   ]
  },
  {
   "cell_type": "code",
   "execution_count": 13,
   "metadata": {},
   "outputs": [
    {
     "data": {
      "text/plain": [
       "<AxesSubplot:>"
      ]
     },
     "execution_count": 13,
     "metadata": {},
     "output_type": "execute_result"
    },
    {
     "data": {
      "image/png": "[encoded data removed]",
      "text/plain": [
       "<Figure size 1296x648 with 2 Axes>"
      ]
     },
     "metadata": {
      "needs_background": "light"
     },
     "output_type": "display_data"
    }
   ],
   "source": [
    "plt.figure(figsize=(18,9))\n",
    "sns.heatmap(df.corr(),annot=True)"
   ]
  },
  {
   "cell_type": "code",
   "execution_count": 14,
   "metadata": {},
   "outputs": [
    {
     "data": {
      "text/plain": [
       "<AxesSubplot:xlabel='Age in Yrs.', ylabel='Year of Joining'>"
      ]
     },
     "execution_count": 14,
     "metadata": {},
     "output_type": "execute_result"
    },
    {
     "data": {
      "image/png": "[encoded data removed]",
      "text/plain": [
       "<Figure size 432x288 with 1 Axes>"
      ]
     },
     "metadata": {
      "needs_background": "light"
     },
     "output_type": "display_data"
    }
   ],
   "source": [
    "sns.scatterplot(x='Age in Yrs.',y='Year of Joining',data=df)"
   ]
  },
  {
   "cell_type": "code",
   "execution_count": 15,
   "metadata": {},
   "outputs": [
    {
     "data": {
      "text/plain": [
       "<AxesSubplot:xlabel='Year of Joining', ylabel='Age in Company (Years)'>"
      ]
     },
     "execution_count": 15,
     "metadata": {},
     "output_type": "execute_result"
    },
    {
     "data": {
      "image/png": "[encoded data removed]",
      "text/plain": [
       "<Figure size 432x288 with 1 Axes>"
      ]
     },
     "metadata": {
      "needs_background": "light"
     },
     "output_type": "display_data"
    }
   ],
   "source": [
    "sns.scatterplot(x='Year of Joining',y='Age in Company (Years)',data=df)"
   ]
  },
  {
   "cell_type": "code",
   "execution_count": 16,
   "metadata": {},
   "outputs": [
    {
     "data": {
      "text/plain": [
       "<AxesSubplot:xlabel='Age in Yrs.', ylabel='Age in Company (Years)'>"
      ]
     },
     "execution_count": 16,
     "metadata": {},
     "output_type": "execute_result"
    },
    {
     "data": {
      "image/png": "[encoded data removed]",
      "text/plain": [
       "<Figure size 432x288 with 1 Axes>"
      ]
     },
     "metadata": {
      "needs_background": "light"
     },
     "output_type": "display_data"
    }
   ],
   "source": [
    "sns.scatterplot(x='Age in Yrs.',y='Age in Company (Years)',data=df)"
   ]
  },
  {
   "cell_type": "code",
   "execution_count": 17,
   "metadata": {},
   "outputs": [
    {
     "data": {
      "text/html": [
       "<div>\n",
       "<style scoped>\n",
       "    .dataframe tbody tr th:only-of-type {\n",
       "        vertical-align: middle;\n",
       "    }\n",
       "\n",
       "    .dataframe tbody tr th {\n",
       "        vertical-align: top;\n",
       "    }\n",
       "\n",
       "    .dataframe thead th {\n",
       "        text-align: right;\n",
       "    }\n",
       "</style>\n",
       "<table border=\"1\" class=\"dataframe\">\n",
       "  <thead>\n",
       "    <tr style=\"text-align: right;\">\n",
       "      <th></th>\n",
       "      <th>Age in Yrs.</th>\n",
       "      <th>Year of Joining</th>\n",
       "      <th>Month of Joining</th>\n",
       "      <th>Day of Joining</th>\n",
       "      <th>Age in Company (Years)</th>\n",
       "      <th>Salary</th>\n",
       "      <th>Last % Hike</th>\n",
       "      <th>Gender_M</th>\n",
       "    </tr>\n",
       "  </thead>\n",
       "  <tbody>\n",
       "    <tr>\n",
       "      <th>0</th>\n",
       "      <td>45.66</td>\n",
       "      <td>2010</td>\n",
       "      <td>12</td>\n",
       "      <td>18</td>\n",
       "      <td>6.61</td>\n",
       "      <td>119090</td>\n",
       "      <td>0.17</td>\n",
       "      <td>0</td>\n",
       "    </tr>\n",
       "    <tr>\n",
       "      <th>1</th>\n",
       "      <td>23.76</td>\n",
       "      <td>2017</td>\n",
       "      <td>4</td>\n",
       "      <td>25</td>\n",
       "      <td>0.26</td>\n",
       "      <td>117991</td>\n",
       "      <td>0.14</td>\n",
       "      <td>1</td>\n",
       "    </tr>\n",
       "    <tr>\n",
       "      <th>2</th>\n",
       "      <td>22.68</td>\n",
       "      <td>2017</td>\n",
       "      <td>3</td>\n",
       "      <td>27</td>\n",
       "      <td>0.34</td>\n",
       "      <td>161045</td>\n",
       "      <td>0.28</td>\n",
       "      <td>0</td>\n",
       "    </tr>\n",
       "    <tr>\n",
       "      <th>3</th>\n",
       "      <td>41.70</td>\n",
       "      <td>2003</td>\n",
       "      <td>2</td>\n",
       "      <td>25</td>\n",
       "      <td>14.43</td>\n",
       "      <td>142616</td>\n",
       "      <td>0.16</td>\n",
       "      <td>0</td>\n",
       "    </tr>\n",
       "    <tr>\n",
       "      <th>4</th>\n",
       "      <td>22.39</td>\n",
       "      <td>2016</td>\n",
       "      <td>10</td>\n",
       "      <td>11</td>\n",
       "      <td>0.79</td>\n",
       "      <td>135706</td>\n",
       "      <td>0.11</td>\n",
       "      <td>0</td>\n",
       "    </tr>\n",
       "  </tbody>\n",
       "</table>\n",
       "</div>"
      ],
      "text/plain": [
       "   Age in Yrs.  Year of Joining  Month of Joining  Day of Joining  \\\n",
       "0        45.66             2010                12              18   \n",
       "1        23.76             2017                 4              25   \n",
       "2        22.68             2017                 3              27   \n",
       "3        41.70             2003                 2              25   \n",
       "4        22.39             2016                10              11   \n",
       "\n",
       "   Age in Company (Years)  Salary  Last % Hike  Gender_M  \n",
       "0                    6.61  119090         0.17         0  \n",
       "1                    0.26  117991         0.14         1  \n",
       "2                    0.34  161045         0.28         0  \n",
       "3                   14.43  142616         0.16         0  \n",
       "4                    0.79  135706         0.11         0  "
      ]
     },
     "execution_count": 17,
     "metadata": {},
     "output_type": "execute_result"
    }
   ],
   "source": [
    "df = pd.get_dummies(df,drop_first=True)\n",
    "df.head()"
   ]
  },
  {
   "cell_type": "code",
   "execution_count": 18,
   "metadata": {},
   "outputs": [],
   "source": [
    "x = df.drop(['Salary'],axis=1)\n",
    "y = df['Salary']"
   ]
  },
  {
   "cell_type": "code",
   "execution_count": 19,
   "metadata": {},
   "outputs": [],
   "source": [
    "from sklearn.preprocessing import StandardScaler\n",
    "sc = StandardScaler()\n",
    "x_t = sc.fit_transform(x)\n",
    "\n",
    "from sklearn.model_selection import train_test_split\n",
    "from sklearn.linear_model import LinearRegression\n",
    "lr=LinearRegression()\n",
    "from sklearn.metrics import mean_squared_error,mean_absolute_error,r2_score"
   ]
  },
  {
   "cell_type": "code",
   "execution_count": 20,
   "metadata": {},
   "outputs": [],
   "source": [
    "x_train,x_test,y_train,y_test=train_test_split(x,y,random_state=0,test_size=0.20)"
   ]
  },
  {
   "cell_type": "code",
   "execution_count": 21,
   "metadata": {},
   "outputs": [
    {
     "name": "stdout",
     "output_type": "stream",
     "text": [
      "(800, 7)\n",
      "(200, 7)\n",
      "(800,)\n",
      "(200,)\n"
     ]
    }
   ],
   "source": [
    "print(x_train.shape)\n",
    "print(x_test.shape)\n",
    "print(y_train.shape)\n",
    "print(y_test.shape)"
   ]
  },
  {
   "cell_type": "code",
   "execution_count": 22,
   "metadata": {},
   "outputs": [
    {
     "name": "stdout",
     "output_type": "stream",
     "text": [
      "mean absolute error: 34916.015132285356\n",
      "mean squared error 1762031336.2986588\n",
      "Root mean squared error: 41976.556984805924\n",
      "r2_score: -0.0009669927930966438\n"
     ]
    }
   ],
   "source": [
    "lr.fit(x_train,y_train)\n",
    "lr.score(x_train,y_train)\n",
    "pred = lr.predict(x_test)\n",
    "print(\"mean absolute error:\",mean_absolute_error(y_test,pred))\n",
    "print(\"mean squared error\", mean_squared_error(y_test,pred))\n",
    "print(\"Root mean squared error:\",np.sqrt(mean_squared_error(y_test,pred)))\n",
    "print(\"r2_score:\",r2_score(y_test,pred))"
   ]
  },
  {
   "cell_type": "code",
   "execution_count": 23,
   "metadata": {},
   "outputs": [],
   "source": [
    "from sklearn.model_selection import GridSearchCV\n",
    "import warnings\n",
    "warnings.filterwarnings('ignore')"
   ]
  },
  {
   "cell_type": "code",
   "execution_count": 24,
   "metadata": {},
   "outputs": [
    {
     "name": "stdout",
     "output_type": "stream",
     "text": [
      "{'alpha': 10, 'random_state': 0}\n"
     ]
    }
   ],
   "source": [
    "from sklearn.linear_model import Lasso\n",
    "\n",
    "parameters={'alpha':[0.0001,0.001,0.01,0.1,1,10],'random_state':list(range(0,25))}\n",
    "ls = Lasso()\n",
    "clf = GridSearchCV(ls,parameters)\n",
    "clf.fit(x_train,y_train)\n",
    "\n",
    "print(clf.best_params_)"
   ]
  },
  {
   "cell_type": "code",
   "execution_count": 25,
   "metadata": {},
   "outputs": [
    {
     "name": "stdout",
     "output_type": "stream",
     "text": [
      "mean absolute error: 34923.846470123455\n",
      "mean squared error 1762125092.4275587\n",
      "Root mean squared error: 41977.673737685356\n",
      "r2_score: -0.001020253361434742\n"
     ]
    }
   ],
   "source": [
    "ls = Lasso(alpha=10,random_state=0)\n",
    "ls.fit(x_train,y_train)\n",
    "ls.score(x_train,y_train)\n",
    "pred=ls.predict(x_test)\n",
    "\n",
    "print(\"mean absolute error:\",mean_absolute_error(y_test,pred))\n",
    "print(\"mean squared error\", mean_squared_error(y_test,pred))\n",
    "print(\"Root mean squared error:\",np.sqrt(mean_squared_error(y_test,pred)))\n",
    "print(\"r2_score:\",r2_score(y_test,pred))"
   ]
  },
  {
   "cell_type": "code",
   "execution_count": 26,
   "metadata": {},
   "outputs": [
    {
     "name": "stdout",
     "output_type": "stream",
     "text": [
      "{'alpha': 1, 'copy_X': True, 'fit_intercept': True, 'normalize': True, 'random_state': 0}\n"
     ]
    }
   ],
   "source": [
    "from sklearn.linear_model import Ridge\n",
    "\n",
    "parameters={'alpha':[0.0001,0.001,0.01,0.1,1],'fit_intercept':[True,False],'normalize':[True,False],'copy_X':[True,False],'random_state':list(range(0,10))}\n",
    "rd = Ridge()\n",
    "clf = GridSearchCV(rd,parameters)\n",
    "clf.fit(x_train,y_train)\n",
    "\n",
    "print(clf.best_params_)"
   ]
  },
  {
   "cell_type": "code",
   "execution_count": 27,
   "metadata": {},
   "outputs": [
    {
     "name": "stdout",
     "output_type": "stream",
     "text": [
      "R2 score: -0.0006003902267346373\n"
     ]
    }
   ],
   "source": [
    "rd = Ridge(alpha=1, copy_X=True, fit_intercept=True, normalize=True, random_state=0)\n",
    "rd.fit(x_train,y_train)\n",
    "rd.score(x_train,y_train)\n",
    "pred_rd=rd.predict(x_test)\n",
    "\n",
    "rds=r2_score(y_test,pred_rd)\n",
    "print('R2 score:',rds)"
   ]
  },
  {
   "cell_type": "code",
   "execution_count": 28,
   "metadata": {},
   "outputs": [
    {
     "name": "stdout",
     "output_type": "stream",
     "text": [
      "{'criterion': 'friedman_mse', 'splitter': 'best'}\n"
     ]
    }
   ],
   "source": [
    "from sklearn.tree import DecisionTreeRegressor\n",
    "\n",
    "parameters = {'criterion':['mse', 'friedman_mse', 'mae'], 'splitter':['best','random']}\n",
    "dt = DecisionTreeRegressor()\n",
    "clf = GridSearchCV(dt,parameters)\n",
    "clf.fit(x_train,y_train)\n",
    "\n",
    "print(clf.best_params_)"
   ]
  },
  {
   "cell_type": "code",
   "execution_count": 36,
   "metadata": {},
   "outputs": [
    {
     "name": "stdout",
     "output_type": "stream",
     "text": [
      "R2 score: -1.401829205843455\n"
     ]
    }
   ],
   "source": [
    "dt = DecisionTreeRegressor(criterion='friedman_mse',splitter='best')\n",
    "dt.fit(x_train,y_train)\n",
    "dt.score(x_train,y_train)\n",
    "pred_decision=dt.predict(x_test)\n",
    "\n",
    "dts=r2_score(y_test,pred_decision)\n",
    "print('R2 score:',dts)"
   ]
  },
  {
   "cell_type": "code",
   "execution_count": 30,
   "metadata": {},
   "outputs": [],
   "source": [
    "from sklearn.ensemble import RandomForestRegressor"
   ]
  },
  {
   "cell_type": "code",
   "execution_count": 31,
   "metadata": {},
   "outputs": [
    {
     "name": "stdout",
     "output_type": "stream",
     "text": [
      "R2 score: -18.588722806482384\n"
     ]
    }
   ],
   "source": [
    "rf = RandomForestRegressor(criterion='mae', n_estimators=200)\n",
    "rf.fit(x_train,y_train)\n",
    "rf.score(x_train,y_train)\n",
    "pred_random=rf.predict(x_test)\n",
    "\n",
    "rfs=r2_score(y_test,pred_random)\n",
    "print('R2 score:',rfs*100)"
   ]
  },
  {
   "cell_type": "code",
   "execution_count": 32,
   "metadata": {},
   "outputs": [
    {
     "name": "stdout",
     "output_type": "stream",
     "text": [
      "R2 score: -0.0009918713843231064\n"
     ]
    }
   ],
   "source": [
    "from sklearn.linear_model import ElasticNet\n",
    "enr = ElasticNet(alpha = 0.01)\n",
    "enr.fit(x_train,y_train)\n",
    "enrpred = enr.predict(x_test)\n",
    "enr.score(x_train,y_train)\n",
    "rfs=r2_score(y_test,enrpred)\n",
    "print('R2 score:',rfs)"
   ]
  },
  {
   "cell_type": "code",
   "execution_count": 33,
   "metadata": {},
   "outputs": [
    {
     "name": "stdout",
     "output_type": "stream",
     "text": [
      "R2 score: -0.0052629079757693376\n",
      "R2 score: -0.0030300878606832615\n",
      "R2 score: -0.003030152627205185\n"
     ]
    }
   ],
   "source": [
    "from sklearn.svm import SVR\n",
    "\n",
    "svr = SVR(kernel = \"linear\")\n",
    "svr.fit(x_train,y_train)\n",
    "svr.score(x_train,y_train)\n",
    "pred_y = svr.predict(x_test)\n",
    "rfs=r2_score(y_test,pred_y)\n",
    "print('R2 score:',rfs)\n",
    "\n",
    "svr = SVR(kernel = \"poly\")\n",
    "svr.fit(x_train,y_train)\n",
    "svr.score(x_train,y_train)\n",
    "pred_b = svr.predict(x_test)\n",
    "rfs=r2_score(y_test,pred_b)\n",
    "print('R2 score:',rfs)\n",
    "\n",
    "svr = SVR(kernel = \"rbf\")\n",
    "svr.fit(x_train,y_train)\n",
    "svr.score(x_train,y_train)\n",
    "pred_c = svr.predict(x_test)\n",
    "rfs=r2_score(y_test,pred_c)\n",
    "print('R2 score:',rfs)"
   ]
  },
  {
   "cell_type": "code",
   "execution_count": 34,
   "metadata": {},
   "outputs": [
    {
     "name": "stdout",
     "output_type": "stream",
     "text": [
      "Accuracy= -23.795719149840956, Cross_val_score= -11.553818872786822 & difference = -12.241900277054134\n"
     ]
    }
   ],
   "source": [
    "from sklearn.model_selection import cross_val_score\n",
    "from sklearn.ensemble import AdaBoostRegressor\n",
    "adb = RandomForestRegressor()\n",
    "adb.fit(x_train,y_train)\n",
    "y_pred=adb.predict(x_test)\n",
    "r2score=r2_score(y_test,y_pred)\n",
    "cvscore=cross_val_score(RandomForestRegressor(),x_train,y_train,cv=5).mean()\n",
    "print(f\"Accuracy= {r2score*100}, Cross_val_score= {cvscore*100} & difference = {(r2score*100)-(cvscore*100)}\")"
   ]
  },
  {
   "cell_type": "code",
   "execution_count": 35,
   "metadata": {},
   "outputs": [
    {
     "name": "stdout",
     "output_type": "stream",
     "text": [
      "Accuracy= -22.48653690965967, Cross_val_score= -13.710279447422751 & difference = -8.776257462236918\n"
     ]
    }
   ],
   "source": [
    "from sklearn.linear_model import SGDRegressor \n",
    "SGD = RandomForestRegressor()\n",
    "SGD.fit(x_train,y_train)\n",
    "y_pred=SGD.predict(x_test)\n",
    "r2score=r2_score(y_test,y_pred)\n",
    "cvscore=cross_val_score(RandomForestRegressor(),x_train,y_train,cv=5).mean()\n",
    "print(f\"Accuracy= {r2score*100}, Cross_val_score= {cvscore*100} & difference = {(r2score*100)-(cvscore*100)}\")"
   ]
  },
  {
   "cell_type": "code",
   "execution_count": null,
   "metadata": {},
   "outputs": [],
   "source": []
  }
 ],
 "metadata": {
  "kernelspec": {
   "display_name": "Python 3",
   "language": "python",
   "name": "python3"
  },
  "language_info": {
   "codemirror_mode": {
    "name": "ipython",
    "version": 3
   },
   "file_extension": ".py",
   "mimetype": "text/x-python",
   "name": "python",
   "nbconvert_exporter": "python",
   "pygments_lexer": "ipython3",
   "version": "3.8.5"
  }
 },
 "nbformat": 4,
 "nbformat_minor": 4
}
