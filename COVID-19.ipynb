{
 "cells": [
  {
   "cell_type": "code",
   "execution_count": 1,
   "metadata": {},
   "outputs": [],
   "source": [
    "import pandas as pd\n",
    "import numpy as np\n",
    "import matplotlib.pyplot as plt\n",
    "import seaborn as sns\n",
    "import warnings\n",
    "warnings.filterwarnings('ignore')"
   ]
  },
  {
   "cell_type": "code",
   "execution_count": 2,
   "metadata": {},
   "outputs": [
    {
     "data": {
      "text/html": [
       "<div>\n",
       "<style scoped>\n",
       "    .dataframe tbody tr th:only-of-type {\n",
       "        vertical-align: middle;\n",
       "    }\n",
       "\n",
       "    .dataframe tbody tr th {\n",
       "        vertical-align: top;\n",
       "    }\n",
       "\n",
       "    .dataframe thead th {\n",
       "        text-align: right;\n",
       "    }\n",
       "</style>\n",
       "<table border=\"1\" class=\"dataframe\">\n",
       "  <thead>\n",
       "    <tr style=\"text-align: right;\">\n",
       "      <th></th>\n",
       "      <th>Date</th>\n",
       "      <th>Country</th>\n",
       "      <th>Confirmed</th>\n",
       "      <th>Recovered</th>\n",
       "      <th>Deaths</th>\n",
       "    </tr>\n",
       "  </thead>\n",
       "  <tbody>\n",
       "    <tr>\n",
       "      <th>0</th>\n",
       "      <td>2020-01-22</td>\n",
       "      <td>Afghanistan</td>\n",
       "      <td>0</td>\n",
       "      <td>0</td>\n",
       "      <td>0</td>\n",
       "    </tr>\n",
       "    <tr>\n",
       "      <th>1</th>\n",
       "      <td>2020-01-22</td>\n",
       "      <td>Albania</td>\n",
       "      <td>0</td>\n",
       "      <td>0</td>\n",
       "      <td>0</td>\n",
       "    </tr>\n",
       "    <tr>\n",
       "      <th>2</th>\n",
       "      <td>2020-01-22</td>\n",
       "      <td>Algeria</td>\n",
       "      <td>0</td>\n",
       "      <td>0</td>\n",
       "      <td>0</td>\n",
       "    </tr>\n",
       "    <tr>\n",
       "      <th>3</th>\n",
       "      <td>2020-01-22</td>\n",
       "      <td>Andorra</td>\n",
       "      <td>0</td>\n",
       "      <td>0</td>\n",
       "      <td>0</td>\n",
       "    </tr>\n",
       "    <tr>\n",
       "      <th>4</th>\n",
       "      <td>2020-01-22</td>\n",
       "      <td>Angola</td>\n",
       "      <td>0</td>\n",
       "      <td>0</td>\n",
       "      <td>0</td>\n",
       "    </tr>\n",
       "    <tr>\n",
       "      <th>...</th>\n",
       "      <td>...</td>\n",
       "      <td>...</td>\n",
       "      <td>...</td>\n",
       "      <td>...</td>\n",
       "      <td>...</td>\n",
       "    </tr>\n",
       "    <tr>\n",
       "      <th>23683</th>\n",
       "      <td>2020-05-26</td>\n",
       "      <td>West Bank and Gaza</td>\n",
       "      <td>429</td>\n",
       "      <td>365</td>\n",
       "      <td>3</td>\n",
       "    </tr>\n",
       "    <tr>\n",
       "      <th>23684</th>\n",
       "      <td>2020-05-26</td>\n",
       "      <td>Western Sahara</td>\n",
       "      <td>9</td>\n",
       "      <td>6</td>\n",
       "      <td>1</td>\n",
       "    </tr>\n",
       "    <tr>\n",
       "      <th>23685</th>\n",
       "      <td>2020-05-26</td>\n",
       "      <td>Yemen</td>\n",
       "      <td>249</td>\n",
       "      <td>10</td>\n",
       "      <td>49</td>\n",
       "    </tr>\n",
       "    <tr>\n",
       "      <th>23686</th>\n",
       "      <td>2020-05-26</td>\n",
       "      <td>Zambia</td>\n",
       "      <td>920</td>\n",
       "      <td>336</td>\n",
       "      <td>7</td>\n",
       "    </tr>\n",
       "    <tr>\n",
       "      <th>23687</th>\n",
       "      <td>2020-05-26</td>\n",
       "      <td>Zimbabwe</td>\n",
       "      <td>56</td>\n",
       "      <td>25</td>\n",
       "      <td>4</td>\n",
       "    </tr>\n",
       "  </tbody>\n",
       "</table>\n",
       "<p>23688 rows × 5 columns</p>\n",
       "</div>"
      ],
      "text/plain": [
       "             Date             Country  Confirmed  Recovered  Deaths\n",
       "0      2020-01-22         Afghanistan          0          0       0\n",
       "1      2020-01-22             Albania          0          0       0\n",
       "2      2020-01-22             Algeria          0          0       0\n",
       "3      2020-01-22             Andorra          0          0       0\n",
       "4      2020-01-22              Angola          0          0       0\n",
       "...           ...                 ...        ...        ...     ...\n",
       "23683  2020-05-26  West Bank and Gaza        429        365       3\n",
       "23684  2020-05-26      Western Sahara          9          6       1\n",
       "23685  2020-05-26               Yemen        249         10      49\n",
       "23686  2020-05-26              Zambia        920        336       7\n",
       "23687  2020-05-26            Zimbabwe         56         25       4\n",
       "\n",
       "[23688 rows x 5 columns]"
      ]
     },
     "execution_count": 2,
     "metadata": {},
     "output_type": "execute_result"
    }
   ],
   "source": [
    "df = pd.read_csv(\"COVID-19.csv\")\n",
    "df"
   ]
  },
  {
   "cell_type": "code",
   "execution_count": 3,
   "metadata": {},
   "outputs": [
    {
     "data": {
      "text/html": [
       "<div>\n",
       "<style scoped>\n",
       "    .dataframe tbody tr th:only-of-type {\n",
       "        vertical-align: middle;\n",
       "    }\n",
       "\n",
       "    .dataframe tbody tr th {\n",
       "        vertical-align: top;\n",
       "    }\n",
       "\n",
       "    .dataframe thead th {\n",
       "        text-align: right;\n",
       "    }\n",
       "</style>\n",
       "<table border=\"1\" class=\"dataframe\">\n",
       "  <thead>\n",
       "    <tr style=\"text-align: right;\">\n",
       "      <th></th>\n",
       "      <th>Date</th>\n",
       "      <th>Country</th>\n",
       "      <th>Confirmed</th>\n",
       "      <th>Recovered</th>\n",
       "      <th>Deaths</th>\n",
       "    </tr>\n",
       "  </thead>\n",
       "  <tbody>\n",
       "    <tr>\n",
       "      <th>20497</th>\n",
       "      <td>2020-05-10</td>\n",
       "      <td>Antigua and Barbuda</td>\n",
       "      <td>25</td>\n",
       "      <td>19</td>\n",
       "      <td>3</td>\n",
       "    </tr>\n",
       "    <tr>\n",
       "      <th>15338</th>\n",
       "      <td>2020-04-12</td>\n",
       "      <td>Malta</td>\n",
       "      <td>378</td>\n",
       "      <td>44</td>\n",
       "      <td>3</td>\n",
       "    </tr>\n",
       "    <tr>\n",
       "      <th>1390</th>\n",
       "      <td>2020-01-29</td>\n",
       "      <td>Haiti</td>\n",
       "      <td>0</td>\n",
       "      <td>0</td>\n",
       "      <td>0</td>\n",
       "    </tr>\n",
       "    <tr>\n",
       "      <th>3029</th>\n",
       "      <td>2020-02-07</td>\n",
       "      <td>Bosnia and Herzegovina</td>\n",
       "      <td>0</td>\n",
       "      <td>0</td>\n",
       "      <td>0</td>\n",
       "    </tr>\n",
       "    <tr>\n",
       "      <th>4674</th>\n",
       "      <td>2020-02-15</td>\n",
       "      <td>Sweden</td>\n",
       "      <td>1</td>\n",
       "      <td>0</td>\n",
       "      <td>0</td>\n",
       "    </tr>\n",
       "  </tbody>\n",
       "</table>\n",
       "</div>"
      ],
      "text/plain": [
       "             Date                 Country  Confirmed  Recovered  Deaths\n",
       "20497  2020-05-10     Antigua and Barbuda         25         19       3\n",
       "15338  2020-04-12                   Malta        378         44       3\n",
       "1390   2020-01-29                   Haiti          0          0       0\n",
       "3029   2020-02-07  Bosnia and Herzegovina          0          0       0\n",
       "4674   2020-02-15                  Sweden          1          0       0"
      ]
     },
     "execution_count": 3,
     "metadata": {},
     "output_type": "execute_result"
    }
   ],
   "source": [
    "df.sample(5)"
   ]
  },
  {
   "cell_type": "code",
   "execution_count": 4,
   "metadata": {},
   "outputs": [
    {
     "data": {
      "text/plain": [
       "Date         0\n",
       "Country      0\n",
       "Confirmed    0\n",
       "Recovered    0\n",
       "Deaths       0\n",
       "dtype: int64"
      ]
     },
     "execution_count": 4,
     "metadata": {},
     "output_type": "execute_result"
    }
   ],
   "source": [
    "df.isnull().sum()"
   ]
  },
  {
   "cell_type": "markdown",
   "metadata": {},
   "source": [
    "There is no null value in any attributes."
   ]
  },
  {
   "cell_type": "code",
   "execution_count": 5,
   "metadata": {},
   "outputs": [
    {
     "name": "stdout",
     "output_type": "stream",
     "text": [
      "<class 'pandas.core.frame.DataFrame'>\n",
      "RangeIndex: 23688 entries, 0 to 23687\n",
      "Data columns (total 5 columns):\n",
      " #   Column     Non-Null Count  Dtype \n",
      "---  ------     --------------  ----- \n",
      " 0   Date       23688 non-null  object\n",
      " 1   Country    23688 non-null  object\n",
      " 2   Confirmed  23688 non-null  int64 \n",
      " 3   Recovered  23688 non-null  int64 \n",
      " 4   Deaths     23688 non-null  int64 \n",
      "dtypes: int64(3), object(2)\n",
      "memory usage: 925.4+ KB\n"
     ]
    }
   ],
   "source": [
    "df.info()"
   ]
  },
  {
   "cell_type": "code",
   "execution_count": 6,
   "metadata": {},
   "outputs": [
    {
     "data": {
      "text/plain": [
       "Iran           126\n",
       "Cyprus         126\n",
       "Andorra        126\n",
       "Nicaragua      126\n",
       "Armenia        126\n",
       "              ... \n",
       "Philippines    126\n",
       "Djibouti       126\n",
       "Uzbekistan     126\n",
       "Belarus        126\n",
       "Maldives       126\n",
       "Name: Country, Length: 188, dtype: int64"
      ]
     },
     "execution_count": 6,
     "metadata": {},
     "output_type": "execute_result"
    }
   ],
   "source": [
    "df[\"Country\"].value_counts()"
   ]
  },
  {
   "cell_type": "code",
   "execution_count": 7,
   "metadata": {},
   "outputs": [
    {
     "data": {
      "text/plain": [
       "array(['Afghanistan', 'Albania', 'Algeria', 'Andorra', 'Angola',\n",
       "       'Antigua and Barbuda', 'Argentina', 'Armenia', 'Australia',\n",
       "       'Austria', 'Azerbaijan', 'Bahamas', 'Bahrain', 'Bangladesh',\n",
       "       'Barbados', 'Belarus', 'Belgium', 'Belize', 'Benin', 'Bhutan',\n",
       "       'Bolivia', 'Bosnia and Herzegovina', 'Botswana', 'Brazil',\n",
       "       'Brunei', 'Bulgaria', 'Burkina Faso', 'Burma', 'Burundi',\n",
       "       'Cabo Verde', 'Cambodia', 'Cameroon', 'Canada',\n",
       "       'Central African Republic', 'Chad', 'Chile', 'China', 'Colombia',\n",
       "       'Comoros', 'Congo (Brazzaville)', 'Congo (Kinshasa)', 'Costa Rica',\n",
       "       \"Cote d'Ivoire\", 'Croatia', 'Cuba', 'Cyprus', 'Czechia', 'Denmark',\n",
       "       'Diamond Princess', 'Djibouti', 'Dominica', 'Dominican Republic',\n",
       "       'Ecuador', 'Egypt', 'El Salvador', 'Equatorial Guinea', 'Eritrea',\n",
       "       'Estonia', 'Eswatini', 'Ethiopia', 'Fiji', 'Finland', 'France',\n",
       "       'Gabon', 'Gambia', 'Georgia', 'Germany', 'Ghana', 'Greece',\n",
       "       'Grenada', 'Guatemala', 'Guinea', 'Guinea-Bissau', 'Guyana',\n",
       "       'Haiti', 'Holy See', 'Honduras', 'Hungary', 'Iceland', 'India',\n",
       "       'Indonesia', 'Iran', 'Iraq', 'Ireland', 'Israel', 'Italy',\n",
       "       'Jamaica', 'Japan', 'Jordan', 'Kazakhstan', 'Kenya',\n",
       "       'Korea, South', 'Kosovo', 'Kuwait', 'Kyrgyzstan', 'Laos', 'Latvia',\n",
       "       'Lebanon', 'Lesotho', 'Liberia', 'Libya', 'Liechtenstein',\n",
       "       'Lithuania', 'Luxembourg', 'MS Zaandam', 'Madagascar', 'Malawi',\n",
       "       'Malaysia', 'Maldives', 'Mali', 'Malta', 'Mauritania', 'Mauritius',\n",
       "       'Mexico', 'Moldova', 'Monaco', 'Mongolia', 'Montenegro', 'Morocco',\n",
       "       'Mozambique', 'Namibia', 'Nepal', 'Netherlands', 'New Zealand',\n",
       "       'Nicaragua', 'Niger', 'Nigeria', 'North Macedonia', 'Norway',\n",
       "       'Oman', 'Pakistan', 'Panama', 'Papua New Guinea', 'Paraguay',\n",
       "       'Peru', 'Philippines', 'Poland', 'Portugal', 'Qatar', 'Romania',\n",
       "       'Russia', 'Rwanda', 'Saint Kitts and Nevis', 'Saint Lucia',\n",
       "       'Saint Vincent and the Grenadines', 'San Marino',\n",
       "       'Sao Tome and Principe', 'Saudi Arabia', 'Senegal', 'Serbia',\n",
       "       'Seychelles', 'Sierra Leone', 'Singapore', 'Slovakia', 'Slovenia',\n",
       "       'Somalia', 'South Africa', 'South Sudan', 'Spain', 'Sri Lanka',\n",
       "       'Sudan', 'Suriname', 'Sweden', 'Switzerland', 'Syria', 'Taiwan*',\n",
       "       'Tajikistan', 'Tanzania', 'Thailand', 'Timor-Leste', 'Togo',\n",
       "       'Trinidad and Tobago', 'Tunisia', 'Turkey', 'US', 'Uganda',\n",
       "       'Ukraine', 'United Arab Emirates', 'United Kingdom', 'Uruguay',\n",
       "       'Uzbekistan', 'Venezuela', 'Vietnam', 'West Bank and Gaza',\n",
       "       'Western Sahara', 'Yemen', 'Zambia', 'Zimbabwe'], dtype=object)"
      ]
     },
     "execution_count": 7,
     "metadata": {},
     "output_type": "execute_result"
    }
   ],
   "source": [
    "df[\"Country\"].unique()"
   ]
  },
  {
   "cell_type": "raw",
   "metadata": {},
   "source": [
    "In country column two data is from ship.so,we don't need this data and remove them.(Diamond Princess,MS Zaandam). "
   ]
  },
  {
   "cell_type": "code",
   "execution_count": 8,
   "metadata": {},
   "outputs": [
    {
     "data": {
      "text/plain": [
       "array([   48,   236,   424,   612,   800,   988,  1176,  1364,  1552,\n",
       "        1740,  1928,  2116,  2304,  2492,  2680,  2868,  3056,  3244,\n",
       "        3432,  3620,  3808,  3996,  4184,  4372,  4560,  4748,  4936,\n",
       "        5124,  5312,  5500,  5688,  5876,  6064,  6252,  6440,  6628,\n",
       "        6816,  7004,  7192,  7380,  7568,  7756,  7944,  8132,  8320,\n",
       "        8508,  8696,  8884,  9072,  9260,  9448,  9636,  9824, 10012,\n",
       "       10200, 10388, 10576, 10764, 10952, 11140, 11328, 11516, 11704,\n",
       "       11892, 12080, 12268, 12456, 12644, 12832, 13020, 13208, 13396,\n",
       "       13584, 13772, 13960, 14148, 14336, 14524, 14712, 14900, 15088,\n",
       "       15276, 15464, 15652, 15840, 16028, 16216, 16404, 16592, 16780,\n",
       "       16968, 17156, 17344, 17532, 17720, 17908, 18096, 18284, 18472,\n",
       "       18660, 18848, 19036, 19224, 19412, 19600, 19788, 19976, 20164,\n",
       "       20352, 20540, 20728, 20916, 21104, 21292, 21480, 21668, 21856,\n",
       "       22044, 22232, 22420, 22608, 22796, 22984, 23172, 23360, 23548],\n",
       "      dtype=int64)"
      ]
     },
     "execution_count": 8,
     "metadata": {},
     "output_type": "execute_result"
    }
   ],
   "source": [
    "df[df['Country']=='Diamond Princess'].index.values"
   ]
  },
  {
   "cell_type": "code",
   "execution_count": 9,
   "metadata": {},
   "outputs": [
    {
     "data": {
      "text/plain": [
       "array([  104,   292,   480,   668,   856,  1044,  1232,  1420,  1608,\n",
       "        1796,  1984,  2172,  2360,  2548,  2736,  2924,  3112,  3300,\n",
       "        3488,  3676,  3864,  4052,  4240,  4428,  4616,  4804,  4992,\n",
       "        5180,  5368,  5556,  5744,  5932,  6120,  6308,  6496,  6684,\n",
       "        6872,  7060,  7248,  7436,  7624,  7812,  8000,  8188,  8376,\n",
       "        8564,  8752,  8940,  9128,  9316,  9504,  9692,  9880, 10068,\n",
       "       10256, 10444, 10632, 10820, 11008, 11196, 11384, 11572, 11760,\n",
       "       11948, 12136, 12324, 12512, 12700, 12888, 13076, 13264, 13452,\n",
       "       13640, 13828, 14016, 14204, 14392, 14580, 14768, 14956, 15144,\n",
       "       15332, 15520, 15708, 15896, 16084, 16272, 16460, 16648, 16836,\n",
       "       17024, 17212, 17400, 17588, 17776, 17964, 18152, 18340, 18528,\n",
       "       18716, 18904, 19092, 19280, 19468, 19656, 19844, 20032, 20220,\n",
       "       20408, 20596, 20784, 20972, 21160, 21348, 21536, 21724, 21912,\n",
       "       22100, 22288, 22476, 22664, 22852, 23040, 23228, 23416, 23604],\n",
       "      dtype=int64)"
      ]
     },
     "execution_count": 9,
     "metadata": {},
     "output_type": "execute_result"
    }
   ],
   "source": [
    "df[df['Country']=='MS Zaandam'].index.values"
   ]
  },
  {
   "cell_type": "code",
   "execution_count": 10,
   "metadata": {},
   "outputs": [],
   "source": [
    "df = df.drop([48,   236,   424,   612,   800,   988,  1176,  1364,1552,1740,  1928,  2116,  2304,  2492,  2680,  2868,  3056,\n",
    "3244,3432,  3620,  3808,  3996,  4184,  4372,  4560,  4748, 4936,5124,  5312,  5500,  5688,  5876,  6064,  6252,  6440,  6628,\n",
    "6816,  7004,  7192,  7380,  7568,  7756,  7944,  8132,  8320,8508,  8696,  8884,  9072,  9260,  9448,  9636,  9824, 10012,\n",
    "10200, 10388, 10576, 10764, 10952, 11140, 11328, 11516, 11704,11892, 12080, 12268, 12456, 12644, 12832, 13020, 13208, 13396,\n",
    "13584, 13772, 13960, 14148, 14336, 14524, 14712, 14900, 15088,15276, 15464, 15652, 15840, 16028, 16216, 16404, 16592, 16780,\n",
    "16968, 17156, 17344, 17532, 17720, 17908, 18096, 18284, 18472,18660, 18848, 19036, 19224, 19412, 19600, 19788, 19976, 20164,\n",
    "20352, 20540, 20728, 20916, 21104, 21292, 21480, 21668, 21856,22044, 22232, 22420, 22608, 22796, 22984, 23172, 23360, 23548,\n",
    "104,  292,   480,   668,   856,  1044,  1232,  1420,  1608,1796,  1984,  2172,  2360,  2548,  2736,  2924,  3112,  3300,3488,  \n",
    "3676,  3864,  4052,  4240,  4428,  4616,  4804,  4992,5180,  5368,  5556,  5744,  5932,  6120,  6308,  6496,  6684, 23416,\n",
    "6872,  7060,  7248,  7436,  7624,  7812,  8000,  8188,  8376,8564,  8752,  8940,  9128,  9316,  9504,  9692,  9880, 10068,\n",
    "10256, 10444, 10632, 10820, 11008, 11196, 11384, 11572, 11760,11948, 12136, 12324, 12512, 12700, 12888, 13076, 13264, 13452,\n",
    "13640, 13828, 14016, 14204, 14392, 14580, 14768, 14956, 15144,15332, 15520, 15708, 15896, 16084, 16272, 16460, 16648, 16836,\n",
    "17024, 17212, 17400, 17588, 17776, 17964, 18152, 18340, 18528,18716, 18904, 19092, 19280, 19468, 19656, 19844, 20032, 20220,\n",
    "20408, 20596, 20784, 20972, 21160, 21348, 21536, 21724, 21912,22100, 22288, 22476, 22664, 22852, 23040, 23228,23604],axis=0)"
   ]
  },
  {
   "cell_type": "code",
   "execution_count": 11,
   "metadata": {},
   "outputs": [],
   "source": [
    "# rename of country name to South Korea\n",
    "df[\"Country\"] = df[\"Country\"].replace(\"Korea, South\",\"South Korea\")"
   ]
  },
  {
   "cell_type": "code",
   "execution_count": 12,
   "metadata": {},
   "outputs": [],
   "source": [
    "#convert date to datetime datatype \n",
    "df[\"Date\"] = pd.to_datetime(df[\"Date\"])"
   ]
  },
  {
   "cell_type": "code",
   "execution_count": 13,
   "metadata": {},
   "outputs": [
    {
     "data": {
      "text/html": [
       "<div>\n",
       "<style scoped>\n",
       "    .dataframe tbody tr th:only-of-type {\n",
       "        vertical-align: middle;\n",
       "    }\n",
       "\n",
       "    .dataframe tbody tr th {\n",
       "        vertical-align: top;\n",
       "    }\n",
       "\n",
       "    .dataframe thead th {\n",
       "        text-align: right;\n",
       "    }\n",
       "</style>\n",
       "<table border=\"1\" class=\"dataframe\">\n",
       "  <thead>\n",
       "    <tr style=\"text-align: right;\">\n",
       "      <th></th>\n",
       "      <th>Date</th>\n",
       "      <th>Country</th>\n",
       "      <th>Confirmed</th>\n",
       "      <th>Recovered</th>\n",
       "      <th>Deaths</th>\n",
       "      <th>active case</th>\n",
       "    </tr>\n",
       "  </thead>\n",
       "  <tbody>\n",
       "    <tr>\n",
       "      <th>12578</th>\n",
       "      <td>2020-03-28</td>\n",
       "      <td>Togo</td>\n",
       "      <td>25</td>\n",
       "      <td>1</td>\n",
       "      <td>1</td>\n",
       "      <td>23</td>\n",
       "    </tr>\n",
       "    <tr>\n",
       "      <th>9924</th>\n",
       "      <td>2020-03-14</td>\n",
       "      <td>Senegal</td>\n",
       "      <td>10</td>\n",
       "      <td>1</td>\n",
       "      <td>0</td>\n",
       "      <td>9</td>\n",
       "    </tr>\n",
       "    <tr>\n",
       "      <th>1165</th>\n",
       "      <td>2020-01-28</td>\n",
       "      <td>Colombia</td>\n",
       "      <td>0</td>\n",
       "      <td>0</td>\n",
       "      <td>0</td>\n",
       "      <td>0</td>\n",
       "    </tr>\n",
       "    <tr>\n",
       "      <th>12046</th>\n",
       "      <td>2020-03-26</td>\n",
       "      <td>Barbados</td>\n",
       "      <td>18</td>\n",
       "      <td>0</td>\n",
       "      <td>0</td>\n",
       "      <td>18</td>\n",
       "    </tr>\n",
       "    <tr>\n",
       "      <th>6722</th>\n",
       "      <td>2020-02-26</td>\n",
       "      <td>Saint Kitts and Nevis</td>\n",
       "      <td>0</td>\n",
       "      <td>0</td>\n",
       "      <td>0</td>\n",
       "      <td>0</td>\n",
       "    </tr>\n",
       "  </tbody>\n",
       "</table>\n",
       "</div>"
      ],
      "text/plain": [
       "            Date                Country  Confirmed  Recovered  Deaths  \\\n",
       "12578 2020-03-28                   Togo         25          1       1   \n",
       "9924  2020-03-14                Senegal         10          1       0   \n",
       "1165  2020-01-28               Colombia          0          0       0   \n",
       "12046 2020-03-26               Barbados         18          0       0   \n",
       "6722  2020-02-26  Saint Kitts and Nevis          0          0       0   \n",
       "\n",
       "       active case  \n",
       "12578           23  \n",
       "9924             9  \n",
       "1165             0  \n",
       "12046           18  \n",
       "6722             0  "
      ]
     },
     "execution_count": 13,
     "metadata": {},
     "output_type": "execute_result"
    }
   ],
   "source": [
    "# add new column in dataset as active case\n",
    "df[\"active case\"] = df[\"Confirmed\"]-df[\"Recovered\"]-df[\"Deaths\"]\n",
    "df.sample(5)"
   ]
  },
  {
   "cell_type": "code",
   "execution_count": 14,
   "metadata": {},
   "outputs": [
    {
     "data": {
      "text/html": [
       "<div>\n",
       "<style scoped>\n",
       "    .dataframe tbody tr th:only-of-type {\n",
       "        vertical-align: middle;\n",
       "    }\n",
       "\n",
       "    .dataframe tbody tr th {\n",
       "        vertical-align: top;\n",
       "    }\n",
       "\n",
       "    .dataframe thead th {\n",
       "        text-align: right;\n",
       "    }\n",
       "</style>\n",
       "<table border=\"1\" class=\"dataframe\">\n",
       "  <thead>\n",
       "    <tr style=\"text-align: right;\">\n",
       "      <th></th>\n",
       "      <th>Country</th>\n",
       "      <th>Confirmed</th>\n",
       "      <th>Deaths</th>\n",
       "      <th>Recovered</th>\n",
       "      <th>active case</th>\n",
       "    </tr>\n",
       "  </thead>\n",
       "  <tbody>\n",
       "    <tr>\n",
       "      <th>0</th>\n",
       "      <td>Afghanistan</td>\n",
       "      <td>185236</td>\n",
       "      <td>4669</td>\n",
       "      <td>20845</td>\n",
       "      <td>159722</td>\n",
       "    </tr>\n",
       "    <tr>\n",
       "      <th>1</th>\n",
       "      <td>Albania</td>\n",
       "      <td>41253</td>\n",
       "      <td>1629</td>\n",
       "      <td>25688</td>\n",
       "      <td>13936</td>\n",
       "    </tr>\n",
       "    <tr>\n",
       "      <th>2</th>\n",
       "      <td>Algeria</td>\n",
       "      <td>240070</td>\n",
       "      <td>23232</td>\n",
       "      <td>107345</td>\n",
       "      <td>109493</td>\n",
       "    </tr>\n",
       "    <tr>\n",
       "      <th>3</th>\n",
       "      <td>Andorra</td>\n",
       "      <td>41573</td>\n",
       "      <td>2219</td>\n",
       "      <td>20751</td>\n",
       "      <td>18603</td>\n",
       "    </tr>\n",
       "    <tr>\n",
       "      <th>4</th>\n",
       "      <td>Angola</td>\n",
       "      <td>1892</td>\n",
       "      <td>131</td>\n",
       "      <td>506</td>\n",
       "      <td>1255</td>\n",
       "    </tr>\n",
       "    <tr>\n",
       "      <th>...</th>\n",
       "      <td>...</td>\n",
       "      <td>...</td>\n",
       "      <td>...</td>\n",
       "      <td>...</td>\n",
       "      <td>...</td>\n",
       "    </tr>\n",
       "    <tr>\n",
       "      <th>181</th>\n",
       "      <td>West Bank and Gaza</td>\n",
       "      <td>19971</td>\n",
       "      <td>113</td>\n",
       "      <td>8798</td>\n",
       "      <td>11060</td>\n",
       "    </tr>\n",
       "    <tr>\n",
       "      <th>182</th>\n",
       "      <td>Western Sahara</td>\n",
       "      <td>307</td>\n",
       "      <td>1</td>\n",
       "      <td>186</td>\n",
       "      <td>120</td>\n",
       "    </tr>\n",
       "    <tr>\n",
       "      <th>183</th>\n",
       "      <td>Yemen</td>\n",
       "      <td>2696</td>\n",
       "      <td>460</td>\n",
       "      <td>92</td>\n",
       "      <td>2144</td>\n",
       "    </tr>\n",
       "    <tr>\n",
       "      <th>184</th>\n",
       "      <td>Zambia</td>\n",
       "      <td>15285</td>\n",
       "      <td>215</td>\n",
       "      <td>5281</td>\n",
       "      <td>9789</td>\n",
       "    </tr>\n",
       "    <tr>\n",
       "      <th>185</th>\n",
       "      <td>Zimbabwe</td>\n",
       "      <td>1760</td>\n",
       "      <td>199</td>\n",
       "      <td>373</td>\n",
       "      <td>1188</td>\n",
       "    </tr>\n",
       "  </tbody>\n",
       "</table>\n",
       "<p>186 rows × 5 columns</p>\n",
       "</div>"
      ],
      "text/plain": [
       "                Country  Confirmed  Deaths  Recovered  active case\n",
       "0           Afghanistan     185236    4669      20845       159722\n",
       "1               Albania      41253    1629      25688        13936\n",
       "2               Algeria     240070   23232     107345       109493\n",
       "3               Andorra      41573    2219      20751        18603\n",
       "4                Angola       1892     131        506         1255\n",
       "..                  ...        ...     ...        ...          ...\n",
       "181  West Bank and Gaza      19971     113       8798        11060\n",
       "182      Western Sahara        307       1        186          120\n",
       "183               Yemen       2696     460         92         2144\n",
       "184              Zambia      15285     215       5281         9789\n",
       "185            Zimbabwe       1760     199        373         1188\n",
       "\n",
       "[186 rows x 5 columns]"
      ]
     },
     "execution_count": 14,
     "metadata": {},
     "output_type": "execute_result"
    }
   ],
   "source": [
    "#grouped data by country for analysis perpose\n",
    "df_country_wise = df.groupby('Country')['Confirmed', 'Deaths', 'Recovered', 'active case'].sum().reset_index()\n",
    "df_country_wise"
   ]
  },
  {
   "cell_type": "code",
   "execution_count": 15,
   "metadata": {},
   "outputs": [],
   "source": [
    "#add new column to know deaths per 100 cases(country wise)\n",
    "df_country_wise[\"deaths/100 cases\"] = (df_country_wise[\"Deaths\"]/df_country_wise[\"Confirmed\"])*100"
   ]
  },
  {
   "cell_type": "code",
   "execution_count": 16,
   "metadata": {},
   "outputs": [
    {
     "data": {
      "text/html": [
       "<div>\n",
       "<style scoped>\n",
       "    .dataframe tbody tr th:only-of-type {\n",
       "        vertical-align: middle;\n",
       "    }\n",
       "\n",
       "    .dataframe tbody tr th {\n",
       "        vertical-align: top;\n",
       "    }\n",
       "\n",
       "    .dataframe thead th {\n",
       "        text-align: right;\n",
       "    }\n",
       "</style>\n",
       "<table border=\"1\" class=\"dataframe\">\n",
       "  <thead>\n",
       "    <tr style=\"text-align: right;\">\n",
       "      <th></th>\n",
       "      <th>Country</th>\n",
       "      <th>Confirmed</th>\n",
       "      <th>Deaths</th>\n",
       "      <th>Recovered</th>\n",
       "      <th>active case</th>\n",
       "      <th>deaths/100 cases</th>\n",
       "    </tr>\n",
       "  </thead>\n",
       "  <tbody>\n",
       "    <tr>\n",
       "      <th>0</th>\n",
       "      <td>Afghanistan</td>\n",
       "      <td>185236</td>\n",
       "      <td>4669</td>\n",
       "      <td>20845</td>\n",
       "      <td>159722</td>\n",
       "      <td>2.520568</td>\n",
       "    </tr>\n",
       "    <tr>\n",
       "      <th>1</th>\n",
       "      <td>Albania</td>\n",
       "      <td>41253</td>\n",
       "      <td>1629</td>\n",
       "      <td>25688</td>\n",
       "      <td>13936</td>\n",
       "      <td>3.948804</td>\n",
       "    </tr>\n",
       "    <tr>\n",
       "      <th>2</th>\n",
       "      <td>Algeria</td>\n",
       "      <td>240070</td>\n",
       "      <td>23232</td>\n",
       "      <td>107345</td>\n",
       "      <td>109493</td>\n",
       "      <td>9.677177</td>\n",
       "    </tr>\n",
       "    <tr>\n",
       "      <th>3</th>\n",
       "      <td>Andorra</td>\n",
       "      <td>41573</td>\n",
       "      <td>2219</td>\n",
       "      <td>20751</td>\n",
       "      <td>18603</td>\n",
       "      <td>5.337599</td>\n",
       "    </tr>\n",
       "    <tr>\n",
       "      <th>4</th>\n",
       "      <td>Angola</td>\n",
       "      <td>1892</td>\n",
       "      <td>131</td>\n",
       "      <td>506</td>\n",
       "      <td>1255</td>\n",
       "      <td>6.923890</td>\n",
       "    </tr>\n",
       "    <tr>\n",
       "      <th>...</th>\n",
       "      <td>...</td>\n",
       "      <td>...</td>\n",
       "      <td>...</td>\n",
       "      <td>...</td>\n",
       "      <td>...</td>\n",
       "      <td>...</td>\n",
       "    </tr>\n",
       "    <tr>\n",
       "      <th>181</th>\n",
       "      <td>West Bank and Gaza</td>\n",
       "      <td>19971</td>\n",
       "      <td>113</td>\n",
       "      <td>8798</td>\n",
       "      <td>11060</td>\n",
       "      <td>0.565820</td>\n",
       "    </tr>\n",
       "    <tr>\n",
       "      <th>182</th>\n",
       "      <td>Western Sahara</td>\n",
       "      <td>307</td>\n",
       "      <td>1</td>\n",
       "      <td>186</td>\n",
       "      <td>120</td>\n",
       "      <td>0.325733</td>\n",
       "    </tr>\n",
       "    <tr>\n",
       "      <th>183</th>\n",
       "      <td>Yemen</td>\n",
       "      <td>2696</td>\n",
       "      <td>460</td>\n",
       "      <td>92</td>\n",
       "      <td>2144</td>\n",
       "      <td>17.062315</td>\n",
       "    </tr>\n",
       "    <tr>\n",
       "      <th>184</th>\n",
       "      <td>Zambia</td>\n",
       "      <td>15285</td>\n",
       "      <td>215</td>\n",
       "      <td>5281</td>\n",
       "      <td>9789</td>\n",
       "      <td>1.406608</td>\n",
       "    </tr>\n",
       "    <tr>\n",
       "      <th>185</th>\n",
       "      <td>Zimbabwe</td>\n",
       "      <td>1760</td>\n",
       "      <td>199</td>\n",
       "      <td>373</td>\n",
       "      <td>1188</td>\n",
       "      <td>11.306818</td>\n",
       "    </tr>\n",
       "  </tbody>\n",
       "</table>\n",
       "<p>186 rows × 6 columns</p>\n",
       "</div>"
      ],
      "text/plain": [
       "                Country  Confirmed  Deaths  Recovered  active case  \\\n",
       "0           Afghanistan     185236    4669      20845       159722   \n",
       "1               Albania      41253    1629      25688        13936   \n",
       "2               Algeria     240070   23232     107345       109493   \n",
       "3               Andorra      41573    2219      20751        18603   \n",
       "4                Angola       1892     131        506         1255   \n",
       "..                  ...        ...     ...        ...          ...   \n",
       "181  West Bank and Gaza      19971     113       8798        11060   \n",
       "182      Western Sahara        307       1        186          120   \n",
       "183               Yemen       2696     460         92         2144   \n",
       "184              Zambia      15285     215       5281         9789   \n",
       "185            Zimbabwe       1760     199        373         1188   \n",
       "\n",
       "     deaths/100 cases  \n",
       "0            2.520568  \n",
       "1            3.948804  \n",
       "2            9.677177  \n",
       "3            5.337599  \n",
       "4            6.923890  \n",
       "..                ...  \n",
       "181          0.565820  \n",
       "182          0.325733  \n",
       "183         17.062315  \n",
       "184          1.406608  \n",
       "185         11.306818  \n",
       "\n",
       "[186 rows x 6 columns]"
      ]
     },
     "execution_count": 16,
     "metadata": {},
     "output_type": "execute_result"
    }
   ],
   "source": [
    "df_country_wise"
   ]
  },
  {
   "cell_type": "code",
   "execution_count": 17,
   "metadata": {},
   "outputs": [
    {
     "data": {
      "text/html": [
       "<div>\n",
       "<style scoped>\n",
       "    .dataframe tbody tr th:only-of-type {\n",
       "        vertical-align: middle;\n",
       "    }\n",
       "\n",
       "    .dataframe tbody tr th {\n",
       "        vertical-align: top;\n",
       "    }\n",
       "\n",
       "    .dataframe thead th {\n",
       "        text-align: right;\n",
       "    }\n",
       "</style>\n",
       "<table border=\"1\" class=\"dataframe\">\n",
       "  <thead>\n",
       "    <tr style=\"text-align: right;\">\n",
       "      <th></th>\n",
       "      <th>Country</th>\n",
       "      <th>Confirmed</th>\n",
       "      <th>Deaths</th>\n",
       "      <th>Recovered</th>\n",
       "      <th>active case</th>\n",
       "      <th>deaths/100 cases</th>\n",
       "      <th>recoverd/100 cases</th>\n",
       "    </tr>\n",
       "  </thead>\n",
       "  <tbody>\n",
       "    <tr>\n",
       "      <th>0</th>\n",
       "      <td>Afghanistan</td>\n",
       "      <td>185236</td>\n",
       "      <td>4669</td>\n",
       "      <td>20845</td>\n",
       "      <td>159722</td>\n",
       "      <td>2.520568</td>\n",
       "      <td>11.253212</td>\n",
       "    </tr>\n",
       "    <tr>\n",
       "      <th>1</th>\n",
       "      <td>Albania</td>\n",
       "      <td>41253</td>\n",
       "      <td>1629</td>\n",
       "      <td>25688</td>\n",
       "      <td>13936</td>\n",
       "      <td>3.948804</td>\n",
       "      <td>62.269411</td>\n",
       "    </tr>\n",
       "    <tr>\n",
       "      <th>2</th>\n",
       "      <td>Algeria</td>\n",
       "      <td>240070</td>\n",
       "      <td>23232</td>\n",
       "      <td>107345</td>\n",
       "      <td>109493</td>\n",
       "      <td>9.677177</td>\n",
       "      <td>44.714042</td>\n",
       "    </tr>\n",
       "    <tr>\n",
       "      <th>3</th>\n",
       "      <td>Andorra</td>\n",
       "      <td>41573</td>\n",
       "      <td>2219</td>\n",
       "      <td>20751</td>\n",
       "      <td>18603</td>\n",
       "      <td>5.337599</td>\n",
       "      <td>49.914608</td>\n",
       "    </tr>\n",
       "    <tr>\n",
       "      <th>4</th>\n",
       "      <td>Angola</td>\n",
       "      <td>1892</td>\n",
       "      <td>131</td>\n",
       "      <td>506</td>\n",
       "      <td>1255</td>\n",
       "      <td>6.923890</td>\n",
       "      <td>26.744186</td>\n",
       "    </tr>\n",
       "    <tr>\n",
       "      <th>...</th>\n",
       "      <td>...</td>\n",
       "      <td>...</td>\n",
       "      <td>...</td>\n",
       "      <td>...</td>\n",
       "      <td>...</td>\n",
       "      <td>...</td>\n",
       "      <td>...</td>\n",
       "    </tr>\n",
       "    <tr>\n",
       "      <th>181</th>\n",
       "      <td>West Bank and Gaza</td>\n",
       "      <td>19971</td>\n",
       "      <td>113</td>\n",
       "      <td>8798</td>\n",
       "      <td>11060</td>\n",
       "      <td>0.565820</td>\n",
       "      <td>44.053878</td>\n",
       "    </tr>\n",
       "    <tr>\n",
       "      <th>182</th>\n",
       "      <td>Western Sahara</td>\n",
       "      <td>307</td>\n",
       "      <td>1</td>\n",
       "      <td>186</td>\n",
       "      <td>120</td>\n",
       "      <td>0.325733</td>\n",
       "      <td>60.586319</td>\n",
       "    </tr>\n",
       "    <tr>\n",
       "      <th>183</th>\n",
       "      <td>Yemen</td>\n",
       "      <td>2696</td>\n",
       "      <td>460</td>\n",
       "      <td>92</td>\n",
       "      <td>2144</td>\n",
       "      <td>17.062315</td>\n",
       "      <td>3.412463</td>\n",
       "    </tr>\n",
       "    <tr>\n",
       "      <th>184</th>\n",
       "      <td>Zambia</td>\n",
       "      <td>15285</td>\n",
       "      <td>215</td>\n",
       "      <td>5281</td>\n",
       "      <td>9789</td>\n",
       "      <td>1.406608</td>\n",
       "      <td>34.550213</td>\n",
       "    </tr>\n",
       "    <tr>\n",
       "      <th>185</th>\n",
       "      <td>Zimbabwe</td>\n",
       "      <td>1760</td>\n",
       "      <td>199</td>\n",
       "      <td>373</td>\n",
       "      <td>1188</td>\n",
       "      <td>11.306818</td>\n",
       "      <td>21.193182</td>\n",
       "    </tr>\n",
       "  </tbody>\n",
       "</table>\n",
       "<p>186 rows × 7 columns</p>\n",
       "</div>"
      ],
      "text/plain": [
       "                Country  Confirmed  Deaths  Recovered  active case  \\\n",
       "0           Afghanistan     185236    4669      20845       159722   \n",
       "1               Albania      41253    1629      25688        13936   \n",
       "2               Algeria     240070   23232     107345       109493   \n",
       "3               Andorra      41573    2219      20751        18603   \n",
       "4                Angola       1892     131        506         1255   \n",
       "..                  ...        ...     ...        ...          ...   \n",
       "181  West Bank and Gaza      19971     113       8798        11060   \n",
       "182      Western Sahara        307       1        186          120   \n",
       "183               Yemen       2696     460         92         2144   \n",
       "184              Zambia      15285     215       5281         9789   \n",
       "185            Zimbabwe       1760     199        373         1188   \n",
       "\n",
       "     deaths/100 cases  recoverd/100 cases  \n",
       "0            2.520568           11.253212  \n",
       "1            3.948804           62.269411  \n",
       "2            9.677177           44.714042  \n",
       "3            5.337599           49.914608  \n",
       "4            6.923890           26.744186  \n",
       "..                ...                 ...  \n",
       "181          0.565820           44.053878  \n",
       "182          0.325733           60.586319  \n",
       "183         17.062315            3.412463  \n",
       "184          1.406608           34.550213  \n",
       "185         11.306818           21.193182  \n",
       "\n",
       "[186 rows x 7 columns]"
      ]
     },
     "execution_count": 17,
     "metadata": {},
     "output_type": "execute_result"
    }
   ],
   "source": [
    "#add new column to know recoverd per 100 cases(country wise)\n",
    "df_country_wise[\"recoverd/100 cases\"] = (df_country_wise[\"Recovered\"]/df_country_wise[\"Confirmed\"])*100\n",
    "df_country_wise"
   ]
  },
  {
   "cell_type": "code",
   "execution_count": 18,
   "metadata": {},
   "outputs": [
    {
     "data": {
      "text/plain": [
       "<AxesSubplot:>"
      ]
     },
     "execution_count": 18,
     "metadata": {},
     "output_type": "execute_result"
    },
    {
     "data": {
      "image/png": "[encoded data removed]",
      "text/plain": [
       "<Figure size 720x360 with 2 Axes>"
      ]
     },
     "metadata": {
      "needs_background": "light"
     },
     "output_type": "display_data"
    }
   ],
   "source": [
    "plt.figure(figsize=(10,5))\n",
    "sns.heatmap(df.corr(),annot=True,linewidth=0.7,linecolor='black')"
   ]
  },
  {
   "cell_type": "markdown",
   "metadata": {},
   "source": [
    "Every attributes have strong positive coreelation with our target varieble(Deaths)."
   ]
  },
  {
   "cell_type": "code",
   "execution_count": 19,
   "metadata": {},
   "outputs": [
    {
     "data": {
      "text/plain": [
       "<AxesSubplot:xlabel='Deaths', ylabel='Confirmed'>"
      ]
     },
     "execution_count": 19,
     "metadata": {},
     "output_type": "execute_result"
    },
    {
     "data": {
      "image/png": "[encoded data removed]",
      "text/plain": [
       "<Figure size 432x288 with 1 Axes>"
      ]
     },
     "metadata": {
      "needs_background": "light"
     },
     "output_type": "display_data"
    }
   ],
   "source": [
    "sns.scatterplot(x=\"Deaths\",y=\"Confirmed\",data=df)"
   ]
  },
  {
   "cell_type": "code",
   "execution_count": 20,
   "metadata": {},
   "outputs": [
    {
     "data": {
      "text/plain": [
       "<AxesSubplot:xlabel='Deaths', ylabel='Recovered'>"
      ]
     },
     "execution_count": 20,
     "metadata": {},
     "output_type": "execute_result"
    },
    {
     "data": {
      "image/png": "[encoded data removed]",
      "text/plain": [
       "<Figure size 432x288 with 1 Axes>"
      ]
     },
     "metadata": {
      "needs_background": "light"
     },
     "output_type": "display_data"
    }
   ],
   "source": [
    "sns.scatterplot(x=\"Deaths\",y=\"Recovered\",data=df)"
   ]
  },
  {
   "cell_type": "code",
   "execution_count": 21,
   "metadata": {},
   "outputs": [
    {
     "data": {
      "text/plain": [
       "<AxesSubplot:xlabel='Deaths', ylabel='active case'>"
      ]
     },
     "execution_count": 21,
     "metadata": {},
     "output_type": "execute_result"
    },
    {
     "data": {
      "image/png": "[encoded data removed]",
      "text/plain": [
       "<Figure size 432x288 with 1 Axes>"
      ]
     },
     "metadata": {
      "needs_background": "light"
     },
     "output_type": "display_data"
    }
   ],
   "source": [
    "sns.scatterplot(x=\"Deaths\",y=\"active case\",data=df)"
   ]
  },
  {
   "cell_type": "code",
   "execution_count": 22,
   "metadata": {},
   "outputs": [
    {
     "data": {
      "text/plain": [
       "<AxesSubplot:xlabel='deaths/100 cases', ylabel='Density'>"
      ]
     },
     "execution_count": 22,
     "metadata": {},
     "output_type": "execute_result"
    },
    {
     "data": {
      "image/png": "[encoded data removed]",
      "text/plain": [
       "<Figure size 432x288 with 1 Axes>"
      ]
     },
     "metadata": {
      "needs_background": "light"
     },
     "output_type": "display_data"
    }
   ],
   "source": [
    "sns.distplot(df_country_wise[\"deaths/100 cases\"])"
   ]
  },
  {
   "cell_type": "code",
   "execution_count": 23,
   "metadata": {},
   "outputs": [
    {
     "data": {
      "text/plain": [
       "<AxesSubplot:xlabel='recoverd/100 cases', ylabel='Density'>"
      ]
     },
     "execution_count": 23,
     "metadata": {},
     "output_type": "execute_result"
    },
    {
     "data": {
      "image/png": "[encoded data removed]",
      "text/plain": [
       "<Figure size 432x288 with 1 Axes>"
      ]
     },
     "metadata": {
      "needs_background": "light"
     },
     "output_type": "display_data"
    }
   ],
   "source": [
    "sns.distplot(df_country_wise[\"recoverd/100 cases\"])"
   ]
  },
  {
   "cell_type": "code",
   "execution_count": 24,
   "metadata": {},
   "outputs": [
    {
     "data": {
      "text/plain": [
       "Text(0, 0.5, 'Confirmed')"
      ]
     },
     "execution_count": 24,
     "metadata": {},
     "output_type": "execute_result"
    },
    {
     "data": {
      "image/png": "[encoded data removed]",
      "text/plain": [
       "<Figure size 1152x576 with 1 Axes>"
      ]
     },
     "metadata": {
      "needs_background": "light"
     },
     "output_type": "display_data"
    }
   ],
   "source": [
    "plt.figure(figsize=(16,8))\n",
    "plt.bar(df[\"Date\"],df[\"Confirmed\"],color=\"black\")\n",
    "plt.title(\"Confirmed cases\",fontsize=18)\n",
    "plt.xlabel(\"Date\",fontsize=14)\n",
    "plt.ylabel(\"Confirmed\",fontsize=14)"
   ]
  },
  {
   "cell_type": "markdown",
   "metadata": {},
   "source": [
    "Confrimed cases is almost similar from february to mid march.But,after that there are drasticaly increase in confirmed cases. "
   ]
  },
  {
   "cell_type": "code",
   "execution_count": 25,
   "metadata": {},
   "outputs": [
    {
     "data": {
      "text/plain": [
       "Text(0, 0.5, 'Deaths')"
      ]
     },
     "execution_count": 25,
     "metadata": {},
     "output_type": "execute_result"
    },
    {
     "data": {
      "image/png": "[encoded data removed]",
      "text/plain": [
       "<Figure size 1152x576 with 1 Axes>"
      ]
     },
     "metadata": {
      "needs_background": "light"
     },
     "output_type": "display_data"
    }
   ],
   "source": [
    "plt.figure(figsize=(16,8))\n",
    "plt.bar(df[\"Date\"],df[\"Deaths\"],color=\"y\")\n",
    "plt.title(\"Total Deaths\",fontsize=18)\n",
    "plt.xlabel(\"Date\",fontsize=14)\n",
    "plt.ylabel(\"Deaths\",fontsize=14)"
   ]
  },
  {
   "cell_type": "markdown",
   "metadata": {},
   "source": [
    "Above graph Shows dathes due to covid-19.which have almost similar pattern as confirmed cases graph. "
   ]
  },
  {
   "cell_type": "code",
   "execution_count": 26,
   "metadata": {},
   "outputs": [
    {
     "data": {
      "text/plain": [
       "Text(0, 0.5, 'Recorved')"
      ]
     },
     "execution_count": 26,
     "metadata": {},
     "output_type": "execute_result"
    },
    {
     "data": {
      "image/png": "[encoded data removed]",
      "text/plain": [
       "<Figure size 1152x576 with 1 Axes>"
      ]
     },
     "metadata": {
      "needs_background": "light"
     },
     "output_type": "display_data"
    }
   ],
   "source": [
    "plt.figure(figsize=(16,8))\n",
    "plt.bar(df[\"Date\"],df[\"Recovered\"],color=\"b\")\n",
    "plt.title(\"Total Recorved\",fontsize=18)\n",
    "plt.xlabel(\"Date\",fontsize=14)\n",
    "plt.ylabel(\"Recorved\",fontsize=14)"
   ]
  },
  {
   "cell_type": "markdown",
   "metadata": {},
   "source": [
    "This graph shows recoverd cases over time."
   ]
  },
  {
   "cell_type": "code",
   "execution_count": 27,
   "metadata": {},
   "outputs": [
    {
     "data": {
      "text/html": [
       "<div>\n",
       "<style scoped>\n",
       "    .dataframe tbody tr th:only-of-type {\n",
       "        vertical-align: middle;\n",
       "    }\n",
       "\n",
       "    .dataframe tbody tr th {\n",
       "        vertical-align: top;\n",
       "    }\n",
       "\n",
       "    .dataframe thead th {\n",
       "        text-align: right;\n",
       "    }\n",
       "</style>\n",
       "<table border=\"1\" class=\"dataframe\">\n",
       "  <thead>\n",
       "    <tr style=\"text-align: right;\">\n",
       "      <th></th>\n",
       "      <th>Date</th>\n",
       "      <th>Confirmed</th>\n",
       "      <th>Deaths</th>\n",
       "      <th>Recovered</th>\n",
       "      <th>active case</th>\n",
       "    </tr>\n",
       "  </thead>\n",
       "  <tbody>\n",
       "    <tr>\n",
       "      <th>0</th>\n",
       "      <td>2020-01-22</td>\n",
       "      <td>555</td>\n",
       "      <td>17</td>\n",
       "      <td>28</td>\n",
       "      <td>510</td>\n",
       "    </tr>\n",
       "    <tr>\n",
       "      <th>1</th>\n",
       "      <td>2020-01-23</td>\n",
       "      <td>654</td>\n",
       "      <td>18</td>\n",
       "      <td>30</td>\n",
       "      <td>606</td>\n",
       "    </tr>\n",
       "    <tr>\n",
       "      <th>2</th>\n",
       "      <td>2020-01-24</td>\n",
       "      <td>941</td>\n",
       "      <td>26</td>\n",
       "      <td>36</td>\n",
       "      <td>879</td>\n",
       "    </tr>\n",
       "    <tr>\n",
       "      <th>3</th>\n",
       "      <td>2020-01-25</td>\n",
       "      <td>1434</td>\n",
       "      <td>42</td>\n",
       "      <td>39</td>\n",
       "      <td>1353</td>\n",
       "    </tr>\n",
       "    <tr>\n",
       "      <th>4</th>\n",
       "      <td>2020-01-26</td>\n",
       "      <td>2118</td>\n",
       "      <td>56</td>\n",
       "      <td>52</td>\n",
       "      <td>2010</td>\n",
       "    </tr>\n",
       "    <tr>\n",
       "      <th>...</th>\n",
       "      <td>...</td>\n",
       "      <td>...</td>\n",
       "      <td>...</td>\n",
       "      <td>...</td>\n",
       "      <td>...</td>\n",
       "    </tr>\n",
       "    <tr>\n",
       "      <th>121</th>\n",
       "      <td>2020-05-22</td>\n",
       "      <td>5210096</td>\n",
       "      <td>338145</td>\n",
       "      <td>2055992</td>\n",
       "      <td>2815959</td>\n",
       "    </tr>\n",
       "    <tr>\n",
       "      <th>122</th>\n",
       "      <td>2020-05-23</td>\n",
       "      <td>5309641</td>\n",
       "      <td>342082</td>\n",
       "      <td>2111534</td>\n",
       "      <td>2856025</td>\n",
       "    </tr>\n",
       "    <tr>\n",
       "      <th>123</th>\n",
       "      <td>2020-05-24</td>\n",
       "      <td>5406892</td>\n",
       "      <td>345044</td>\n",
       "      <td>2167912</td>\n",
       "      <td>2893936</td>\n",
       "    </tr>\n",
       "    <tr>\n",
       "      <th>124</th>\n",
       "      <td>2020-05-25</td>\n",
       "      <td>5494340</td>\n",
       "      <td>346217</td>\n",
       "      <td>2231087</td>\n",
       "      <td>2917036</td>\n",
       "    </tr>\n",
       "    <tr>\n",
       "      <th>125</th>\n",
       "      <td>2020-05-26</td>\n",
       "      <td>5588905</td>\n",
       "      <td>350438</td>\n",
       "      <td>2286305</td>\n",
       "      <td>2952162</td>\n",
       "    </tr>\n",
       "  </tbody>\n",
       "</table>\n",
       "<p>126 rows × 5 columns</p>\n",
       "</div>"
      ],
      "text/plain": [
       "          Date  Confirmed  Deaths  Recovered  active case\n",
       "0   2020-01-22        555      17         28          510\n",
       "1   2020-01-23        654      18         30          606\n",
       "2   2020-01-24        941      26         36          879\n",
       "3   2020-01-25       1434      42         39         1353\n",
       "4   2020-01-26       2118      56         52         2010\n",
       "..         ...        ...     ...        ...          ...\n",
       "121 2020-05-22    5210096  338145    2055992      2815959\n",
       "122 2020-05-23    5309641  342082    2111534      2856025\n",
       "123 2020-05-24    5406892  345044    2167912      2893936\n",
       "124 2020-05-25    5494340  346217    2231087      2917036\n",
       "125 2020-05-26    5588905  350438    2286305      2952162\n",
       "\n",
       "[126 rows x 5 columns]"
      ]
     },
     "execution_count": 27,
     "metadata": {},
     "output_type": "execute_result"
    }
   ],
   "source": [
    "#grouped data by date for analysis perpose\n",
    "df_date_wise = df.groupby('Date')['Confirmed', 'Deaths', 'Recovered', 'active case'].sum().reset_index()\n",
    "df_date_wise"
   ]
  },
  {
   "cell_type": "code",
   "execution_count": 28,
   "metadata": {},
   "outputs": [
    {
     "data": {
      "text/html": [
       "<div>\n",
       "<style scoped>\n",
       "    .dataframe tbody tr th:only-of-type {\n",
       "        vertical-align: middle;\n",
       "    }\n",
       "\n",
       "    .dataframe tbody tr th {\n",
       "        vertical-align: top;\n",
       "    }\n",
       "\n",
       "    .dataframe thead th {\n",
       "        text-align: right;\n",
       "    }\n",
       "</style>\n",
       "<table border=\"1\" class=\"dataframe\">\n",
       "  <thead>\n",
       "    <tr style=\"text-align: right;\">\n",
       "      <th></th>\n",
       "      <th>Date</th>\n",
       "      <th>Confirmed</th>\n",
       "      <th>Deaths</th>\n",
       "      <th>Recovered</th>\n",
       "      <th>active case</th>\n",
       "      <th>deaths/100 cases</th>\n",
       "    </tr>\n",
       "  </thead>\n",
       "  <tbody>\n",
       "    <tr>\n",
       "      <th>0</th>\n",
       "      <td>2020-01-22</td>\n",
       "      <td>555</td>\n",
       "      <td>17</td>\n",
       "      <td>28</td>\n",
       "      <td>510</td>\n",
       "      <td>3.063063</td>\n",
       "    </tr>\n",
       "    <tr>\n",
       "      <th>1</th>\n",
       "      <td>2020-01-23</td>\n",
       "      <td>654</td>\n",
       "      <td>18</td>\n",
       "      <td>30</td>\n",
       "      <td>606</td>\n",
       "      <td>2.752294</td>\n",
       "    </tr>\n",
       "    <tr>\n",
       "      <th>2</th>\n",
       "      <td>2020-01-24</td>\n",
       "      <td>941</td>\n",
       "      <td>26</td>\n",
       "      <td>36</td>\n",
       "      <td>879</td>\n",
       "      <td>2.763018</td>\n",
       "    </tr>\n",
       "    <tr>\n",
       "      <th>3</th>\n",
       "      <td>2020-01-25</td>\n",
       "      <td>1434</td>\n",
       "      <td>42</td>\n",
       "      <td>39</td>\n",
       "      <td>1353</td>\n",
       "      <td>2.928870</td>\n",
       "    </tr>\n",
       "    <tr>\n",
       "      <th>4</th>\n",
       "      <td>2020-01-26</td>\n",
       "      <td>2118</td>\n",
       "      <td>56</td>\n",
       "      <td>52</td>\n",
       "      <td>2010</td>\n",
       "      <td>2.644004</td>\n",
       "    </tr>\n",
       "    <tr>\n",
       "      <th>...</th>\n",
       "      <td>...</td>\n",
       "      <td>...</td>\n",
       "      <td>...</td>\n",
       "      <td>...</td>\n",
       "      <td>...</td>\n",
       "      <td>...</td>\n",
       "    </tr>\n",
       "    <tr>\n",
       "      <th>121</th>\n",
       "      <td>2020-05-22</td>\n",
       "      <td>5210096</td>\n",
       "      <td>338145</td>\n",
       "      <td>2055992</td>\n",
       "      <td>2815959</td>\n",
       "      <td>6.490188</td>\n",
       "    </tr>\n",
       "    <tr>\n",
       "      <th>122</th>\n",
       "      <td>2020-05-23</td>\n",
       "      <td>5309641</td>\n",
       "      <td>342082</td>\n",
       "      <td>2111534</td>\n",
       "      <td>2856025</td>\n",
       "      <td>6.442658</td>\n",
       "    </tr>\n",
       "    <tr>\n",
       "      <th>123</th>\n",
       "      <td>2020-05-24</td>\n",
       "      <td>5406892</td>\n",
       "      <td>345044</td>\n",
       "      <td>2167912</td>\n",
       "      <td>2893936</td>\n",
       "      <td>6.381559</td>\n",
       "    </tr>\n",
       "    <tr>\n",
       "      <th>124</th>\n",
       "      <td>2020-05-25</td>\n",
       "      <td>5494340</td>\n",
       "      <td>346217</td>\n",
       "      <td>2231087</td>\n",
       "      <td>2917036</td>\n",
       "      <td>6.301339</td>\n",
       "    </tr>\n",
       "    <tr>\n",
       "      <th>125</th>\n",
       "      <td>2020-05-26</td>\n",
       "      <td>5588905</td>\n",
       "      <td>350438</td>\n",
       "      <td>2286305</td>\n",
       "      <td>2952162</td>\n",
       "      <td>6.270244</td>\n",
       "    </tr>\n",
       "  </tbody>\n",
       "</table>\n",
       "<p>126 rows × 6 columns</p>\n",
       "</div>"
      ],
      "text/plain": [
       "          Date  Confirmed  Deaths  Recovered  active case  deaths/100 cases\n",
       "0   2020-01-22        555      17         28          510          3.063063\n",
       "1   2020-01-23        654      18         30          606          2.752294\n",
       "2   2020-01-24        941      26         36          879          2.763018\n",
       "3   2020-01-25       1434      42         39         1353          2.928870\n",
       "4   2020-01-26       2118      56         52         2010          2.644004\n",
       "..         ...        ...     ...        ...          ...               ...\n",
       "121 2020-05-22    5210096  338145    2055992      2815959          6.490188\n",
       "122 2020-05-23    5309641  342082    2111534      2856025          6.442658\n",
       "123 2020-05-24    5406892  345044    2167912      2893936          6.381559\n",
       "124 2020-05-25    5494340  346217    2231087      2917036          6.301339\n",
       "125 2020-05-26    5588905  350438    2286305      2952162          6.270244\n",
       "\n",
       "[126 rows x 6 columns]"
      ]
     },
     "execution_count": 28,
     "metadata": {},
     "output_type": "execute_result"
    }
   ],
   "source": [
    "#add new column to know deaths per 100 cases(date wise)\n",
    "df_date_wise[\"deaths/100 cases\"] = (df_date_wise[\"Deaths\"]/df_date_wise[\"Confirmed\"])*100\n",
    "df_date_wise"
   ]
  },
  {
   "cell_type": "code",
   "execution_count": 29,
   "metadata": {},
   "outputs": [
    {
     "data": {
      "text/html": [
       "<div>\n",
       "<style scoped>\n",
       "    .dataframe tbody tr th:only-of-type {\n",
       "        vertical-align: middle;\n",
       "    }\n",
       "\n",
       "    .dataframe tbody tr th {\n",
       "        vertical-align: top;\n",
       "    }\n",
       "\n",
       "    .dataframe thead th {\n",
       "        text-align: right;\n",
       "    }\n",
       "</style>\n",
       "<table border=\"1\" class=\"dataframe\">\n",
       "  <thead>\n",
       "    <tr style=\"text-align: right;\">\n",
       "      <th></th>\n",
       "      <th>Date</th>\n",
       "      <th>Confirmed</th>\n",
       "      <th>Deaths</th>\n",
       "      <th>Recovered</th>\n",
       "      <th>active case</th>\n",
       "      <th>deaths/100 cases</th>\n",
       "      <th>recoverd/100 cases</th>\n",
       "    </tr>\n",
       "  </thead>\n",
       "  <tbody>\n",
       "    <tr>\n",
       "      <th>0</th>\n",
       "      <td>2020-01-22</td>\n",
       "      <td>555</td>\n",
       "      <td>17</td>\n",
       "      <td>28</td>\n",
       "      <td>510</td>\n",
       "      <td>3.063063</td>\n",
       "      <td>5.045045</td>\n",
       "    </tr>\n",
       "    <tr>\n",
       "      <th>1</th>\n",
       "      <td>2020-01-23</td>\n",
       "      <td>654</td>\n",
       "      <td>18</td>\n",
       "      <td>30</td>\n",
       "      <td>606</td>\n",
       "      <td>2.752294</td>\n",
       "      <td>4.587156</td>\n",
       "    </tr>\n",
       "    <tr>\n",
       "      <th>2</th>\n",
       "      <td>2020-01-24</td>\n",
       "      <td>941</td>\n",
       "      <td>26</td>\n",
       "      <td>36</td>\n",
       "      <td>879</td>\n",
       "      <td>2.763018</td>\n",
       "      <td>3.825717</td>\n",
       "    </tr>\n",
       "    <tr>\n",
       "      <th>3</th>\n",
       "      <td>2020-01-25</td>\n",
       "      <td>1434</td>\n",
       "      <td>42</td>\n",
       "      <td>39</td>\n",
       "      <td>1353</td>\n",
       "      <td>2.928870</td>\n",
       "      <td>2.719665</td>\n",
       "    </tr>\n",
       "    <tr>\n",
       "      <th>4</th>\n",
       "      <td>2020-01-26</td>\n",
       "      <td>2118</td>\n",
       "      <td>56</td>\n",
       "      <td>52</td>\n",
       "      <td>2010</td>\n",
       "      <td>2.644004</td>\n",
       "      <td>2.455146</td>\n",
       "    </tr>\n",
       "    <tr>\n",
       "      <th>...</th>\n",
       "      <td>...</td>\n",
       "      <td>...</td>\n",
       "      <td>...</td>\n",
       "      <td>...</td>\n",
       "      <td>...</td>\n",
       "      <td>...</td>\n",
       "      <td>...</td>\n",
       "    </tr>\n",
       "    <tr>\n",
       "      <th>121</th>\n",
       "      <td>2020-05-22</td>\n",
       "      <td>5210096</td>\n",
       "      <td>338145</td>\n",
       "      <td>2055992</td>\n",
       "      <td>2815959</td>\n",
       "      <td>6.490188</td>\n",
       "      <td>39.461691</td>\n",
       "    </tr>\n",
       "    <tr>\n",
       "      <th>122</th>\n",
       "      <td>2020-05-23</td>\n",
       "      <td>5309641</td>\n",
       "      <td>342082</td>\n",
       "      <td>2111534</td>\n",
       "      <td>2856025</td>\n",
       "      <td>6.442658</td>\n",
       "      <td>39.767924</td>\n",
       "    </tr>\n",
       "    <tr>\n",
       "      <th>123</th>\n",
       "      <td>2020-05-24</td>\n",
       "      <td>5406892</td>\n",
       "      <td>345044</td>\n",
       "      <td>2167912</td>\n",
       "      <td>2893936</td>\n",
       "      <td>6.381559</td>\n",
       "      <td>40.095345</td>\n",
       "    </tr>\n",
       "    <tr>\n",
       "      <th>124</th>\n",
       "      <td>2020-05-25</td>\n",
       "      <td>5494340</td>\n",
       "      <td>346217</td>\n",
       "      <td>2231087</td>\n",
       "      <td>2917036</td>\n",
       "      <td>6.301339</td>\n",
       "      <td>40.607006</td>\n",
       "    </tr>\n",
       "    <tr>\n",
       "      <th>125</th>\n",
       "      <td>2020-05-26</td>\n",
       "      <td>5588905</td>\n",
       "      <td>350438</td>\n",
       "      <td>2286305</td>\n",
       "      <td>2952162</td>\n",
       "      <td>6.270244</td>\n",
       "      <td>40.907924</td>\n",
       "    </tr>\n",
       "  </tbody>\n",
       "</table>\n",
       "<p>126 rows × 7 columns</p>\n",
       "</div>"
      ],
      "text/plain": [
       "          Date  Confirmed  Deaths  Recovered  active case  deaths/100 cases  \\\n",
       "0   2020-01-22        555      17         28          510          3.063063   \n",
       "1   2020-01-23        654      18         30          606          2.752294   \n",
       "2   2020-01-24        941      26         36          879          2.763018   \n",
       "3   2020-01-25       1434      42         39         1353          2.928870   \n",
       "4   2020-01-26       2118      56         52         2010          2.644004   \n",
       "..         ...        ...     ...        ...          ...               ...   \n",
       "121 2020-05-22    5210096  338145    2055992      2815959          6.490188   \n",
       "122 2020-05-23    5309641  342082    2111534      2856025          6.442658   \n",
       "123 2020-05-24    5406892  345044    2167912      2893936          6.381559   \n",
       "124 2020-05-25    5494340  346217    2231087      2917036          6.301339   \n",
       "125 2020-05-26    5588905  350438    2286305      2952162          6.270244   \n",
       "\n",
       "     recoverd/100 cases  \n",
       "0              5.045045  \n",
       "1              4.587156  \n",
       "2              3.825717  \n",
       "3              2.719665  \n",
       "4              2.455146  \n",
       "..                  ...  \n",
       "121           39.461691  \n",
       "122           39.767924  \n",
       "123           40.095345  \n",
       "124           40.607006  \n",
       "125           40.907924  \n",
       "\n",
       "[126 rows x 7 columns]"
      ]
     },
     "execution_count": 29,
     "metadata": {},
     "output_type": "execute_result"
    }
   ],
   "source": [
    "#add new column to know recoverd per 100 cases(Date wise)\n",
    "df_date_wise[\"recoverd/100 cases\"] = (df_date_wise[\"Recovered\"]/df_date_wise[\"Confirmed\"])*100\n",
    "df_date_wise"
   ]
  },
  {
   "cell_type": "code",
   "execution_count": 30,
   "metadata": {},
   "outputs": [
    {
     "data": {
      "image/png": "[encoded data removed]",
      "text/plain": [
       "<Figure size 1152x576 with 1 Axes>"
      ]
     },
     "metadata": {
      "needs_background": "light"
     },
     "output_type": "display_data"
    }
   ],
   "source": [
    "plt.figure(figsize=(16,8))\n",
    "plt.plot(df_date_wise[\"Date\"],df_date_wise[\"deaths/100 cases\"],\"go--\",linewidth = 2,markersize = 7,label = \"deaths/100 cases\")\n",
    "\n",
    "plt.plot(df_date_wise[\"Date\"],df_date_wise[\"recoverd/100 cases\"],\"ro:\",linewidth = 2,markersize = 7,label = \"recoverd/100 cases\")\n",
    "plt.title(\"deaths/100 & recoverd/100 cases\",fontsize = 20)\n",
    "plt.xlabel(\"Dates\",fontsize = 13)\n",
    "plt.ylabel(\"Cases\",fontsize = 13)\n",
    "plt.legend(loc = 2,fontsize=16)\n",
    "plt.show()"
   ]
  },
  {
   "cell_type": "markdown",
   "metadata": {},
   "source": [
    "This shows deaths/100 cases and recoverd/100 cases date wise. Recovered cases is much larger than deaths."
   ]
  },
  {
   "cell_type": "code",
   "execution_count": 31,
   "metadata": {},
   "outputs": [
    {
     "data": {
      "image/png": "[encoded data removed]",
      "text/plain": [
       "<Figure size 1152x576 with 1 Axes>"
      ]
     },
     "metadata": {
      "needs_background": "light"
     },
     "output_type": "display_data"
    }
   ],
   "source": [
    "plt.figure(figsize=(16,8))\n",
    "\n",
    "plt.plot(df_date_wise[\"Date\"],df_date_wise[\"Confirmed\"],\"ro--\",linewidth = 2,markersize = 7,label = \"Confirmed\")\n",
    "plt.plot(df_date_wise[\"Date\"],df_date_wise[\"Deaths\"],\"ko:\",linewidth = 2,markersize = 7,label = \"Deathss\")\n",
    "plt.plot(df_date_wise[\"Date\"],df_date_wise[\"Recovered\"],\"go\",linewidth = 2,markersize = 7,label = \"Recovered\")\n",
    "plt.plot(df_date_wise[\"Date\"],df_date_wise[\"active case\"],\"bo-\",linewidth = 2,markersize = 7,label = \"active case\")\n",
    "\n",
    "plt.title(\"Date Wise Graph\",fontsize = 20)\n",
    "plt.xlabel(\"Dates\",fontsize = 13)\n",
    "plt.ylabel(\"Cases\",fontsize = 13)\n",
    "plt.legend(loc = 2,fontsize=16)\n",
    "plt.show()"
   ]
  },
  {
   "cell_type": "markdown",
   "metadata": {},
   "source": [
    "This line graph shows confirmed,Death,recovered and active cases over time.All four cases increase over time but increasing ratio is different."
   ]
  },
  {
   "cell_type": "code",
   "execution_count": 32,
   "metadata": {},
   "outputs": [],
   "source": [
    "#split date column in year,month and day columns\n",
    "df[\"year\"] = df[\"Date\"].dt.year\n",
    "df[\"Month\"] = df[\"Date\"].dt.month\n",
    "df[\"Day\"] = df[\"Date\"].dt.day"
   ]
  },
  {
   "cell_type": "code",
   "execution_count": 33,
   "metadata": {},
   "outputs": [],
   "source": [
    "df = df.drop(\"Date\",axis=1)"
   ]
  },
  {
   "cell_type": "code",
   "execution_count": 34,
   "metadata": {},
   "outputs": [
    {
     "data": {
      "text/html": [
       "<div>\n",
       "<style scoped>\n",
       "    .dataframe tbody tr th:only-of-type {\n",
       "        vertical-align: middle;\n",
       "    }\n",
       "\n",
       "    .dataframe tbody tr th {\n",
       "        vertical-align: top;\n",
       "    }\n",
       "\n",
       "    .dataframe thead th {\n",
       "        text-align: right;\n",
       "    }\n",
       "</style>\n",
       "<table border=\"1\" class=\"dataframe\">\n",
       "  <thead>\n",
       "    <tr style=\"text-align: right;\">\n",
       "      <th></th>\n",
       "      <th>Country</th>\n",
       "      <th>Confirmed</th>\n",
       "      <th>Recovered</th>\n",
       "      <th>Deaths</th>\n",
       "      <th>active case</th>\n",
       "      <th>year</th>\n",
       "      <th>Month</th>\n",
       "      <th>Day</th>\n",
       "    </tr>\n",
       "  </thead>\n",
       "  <tbody>\n",
       "    <tr>\n",
       "      <th>5046</th>\n",
       "      <td>Spain</td>\n",
       "      <td>2</td>\n",
       "      <td>2</td>\n",
       "      <td>0</td>\n",
       "      <td>0</td>\n",
       "      <td>2020</td>\n",
       "      <td>2</td>\n",
       "      <td>17</td>\n",
       "    </tr>\n",
       "    <tr>\n",
       "      <th>15198</th>\n",
       "      <td>Spain</td>\n",
       "      <td>163027</td>\n",
       "      <td>59109</td>\n",
       "      <td>16606</td>\n",
       "      <td>87312</td>\n",
       "      <td>2020</td>\n",
       "      <td>4</td>\n",
       "      <td>11</td>\n",
       "    </tr>\n",
       "    <tr>\n",
       "      <th>20656</th>\n",
       "      <td>Syria</td>\n",
       "      <td>47</td>\n",
       "      <td>29</td>\n",
       "      <td>3</td>\n",
       "      <td>15</td>\n",
       "      <td>2020</td>\n",
       "      <td>5</td>\n",
       "      <td>10</td>\n",
       "    </tr>\n",
       "    <tr>\n",
       "      <th>13014</th>\n",
       "      <td>Cote d'Ivoire</td>\n",
       "      <td>179</td>\n",
       "      <td>7</td>\n",
       "      <td>1</td>\n",
       "      <td>171</td>\n",
       "      <td>2020</td>\n",
       "      <td>3</td>\n",
       "      <td>31</td>\n",
       "    </tr>\n",
       "    <tr>\n",
       "      <th>22135</th>\n",
       "      <td>Romania</td>\n",
       "      <td>17036</td>\n",
       "      <td>9930</td>\n",
       "      <td>1120</td>\n",
       "      <td>5986</td>\n",
       "      <td>2020</td>\n",
       "      <td>5</td>\n",
       "      <td>18</td>\n",
       "    </tr>\n",
       "  </tbody>\n",
       "</table>\n",
       "</div>"
      ],
      "text/plain": [
       "             Country  Confirmed  Recovered  Deaths  active case  year  Month  \\\n",
       "5046           Spain          2          2       0            0  2020      2   \n",
       "15198          Spain     163027      59109   16606        87312  2020      4   \n",
       "20656          Syria         47         29       3           15  2020      5   \n",
       "13014  Cote d'Ivoire        179          7       1          171  2020      3   \n",
       "22135        Romania      17036       9930    1120         5986  2020      5   \n",
       "\n",
       "       Day  \n",
       "5046    17  \n",
       "15198   11  \n",
       "20656   10  \n",
       "13014   31  \n",
       "22135   18  "
      ]
     },
     "execution_count": 34,
     "metadata": {},
     "output_type": "execute_result"
    }
   ],
   "source": [
    "df.sample(5)"
   ]
  },
  {
   "cell_type": "code",
   "execution_count": 35,
   "metadata": {},
   "outputs": [],
   "source": [
    "#convert categorical data into numerical data by label encoder.\n",
    "from sklearn.preprocessing import LabelEncoder\n",
    "le = LabelEncoder()\n",
    "df[\"Country\"] = le.fit_transform(df[\"Country\"])"
   ]
  },
  {
   "cell_type": "code",
   "execution_count": 36,
   "metadata": {},
   "outputs": [],
   "source": [
    "x = df.drop(\"Deaths\",axis=1)\n",
    "y = df[\"Deaths\"]"
   ]
  },
  {
   "cell_type": "code",
   "execution_count": 37,
   "metadata": {},
   "outputs": [],
   "source": [
    "#scaling data with mean=0 by standerd scaler\n",
    "from sklearn.preprocessing import StandardScaler\n",
    "sc = StandardScaler()\n",
    "x = sc.fit_transform(x)"
   ]
  },
  {
   "cell_type": "code",
   "execution_count": 38,
   "metadata": {},
   "outputs": [],
   "source": [
    "from sklearn.model_selection import train_test_split"
   ]
  },
  {
   "cell_type": "code",
   "execution_count": 39,
   "metadata": {},
   "outputs": [],
   "source": [
    "x_train,x_test,y_train,y_test = train_test_split(x,y,test_size=0.20,random_state=0)"
   ]
  },
  {
   "cell_type": "code",
   "execution_count": 40,
   "metadata": {},
   "outputs": [
    {
     "name": "stdout",
     "output_type": "stream",
     "text": [
      "(18748, 7)\n",
      "(4688, 7)\n",
      "(18748,)\n",
      "(4688,)\n"
     ]
    }
   ],
   "source": [
    "print(x_train.shape)\n",
    "print(x_test.shape)\n",
    "print(y_train.shape)\n",
    "print(y_test.shape)"
   ]
  },
  {
   "cell_type": "code",
   "execution_count": 41,
   "metadata": {},
   "outputs": [],
   "source": [
    "from sklearn.linear_model import LinearRegression\n",
    "from sklearn.metrics import r2_score,mean_squared_error"
   ]
  },
  {
   "cell_type": "code",
   "execution_count": 42,
   "metadata": {},
   "outputs": [
    {
     "name": "stdout",
     "output_type": "stream",
     "text": [
      "Training accuracy: 1.0\n",
      "r2 score: 1.0\n",
      "mean squared error: 5.5928165055864706e-21\n",
      "root mean squared error: 7.478513559248569e-11\n"
     ]
    }
   ],
   "source": [
    "lr = LinearRegression()\n",
    "lr.fit(x_train,y_train)\n",
    "predlr = lr.predict(x_test)\n",
    "print(\"Training accuracy:\",lr.score(x_train,y_train))\n",
    "print(\"r2 score:\",r2_score(y_test,predlr))\n",
    "print(\"mean squared error:\",mean_squared_error(y_test,predlr))\n",
    "print(\"root mean squared error:\",np.sqrt(mean_squared_error(y_test,predlr)))"
   ]
  },
  {
   "cell_type": "code",
   "execution_count": 43,
   "metadata": {},
   "outputs": [],
   "source": [
    "from sklearn.model_selection import cross_val_score"
   ]
  },
  {
   "cell_type": "code",
   "execution_count": 44,
   "metadata": {},
   "outputs": [
    {
     "name": "stdout",
     "output_type": "stream",
     "text": [
      "[1. 1. 1. 1. 1. 1. 1. 1. 1. 1.]\n",
      "Accuracy of Model with Cross Validation is: 100.0\n"
     ]
    }
   ],
   "source": [
    "accuracy = cross_val_score(lr,x,y,cv = 10,scoring=\"r2\")\n",
    "print(accuracy)\n",
    "print(\"Accuracy of Model with Cross Validation is:\",accuracy.mean() * 100)"
   ]
  },
  {
   "cell_type": "markdown",
   "metadata": {},
   "source": [
    "We get 100% training accuracy and one r2_score using linear rigression and then accuracy is checked with cross_val_score."
   ]
  },
  {
   "cell_type": "code",
   "execution_count": 45,
   "metadata": {},
   "outputs": [
    {
     "data": {
      "text/plain": [
       "['COVID-19Project.obj']"
      ]
     },
     "execution_count": 45,
     "metadata": {},
     "output_type": "execute_result"
    }
   ],
   "source": [
    "import joblib\n",
    "joblib.dump(lr,\"COVID-19Project.obj\")"
   ]
  },
  {
   "cell_type": "code",
   "execution_count": null,
   "metadata": {},
   "outputs": [],
   "source": []
  }
 ],
 "metadata": {
  "kernelspec": {
   "display_name": "Python 3",
   "language": "python",
   "name": "python3"
  },
  "language_info": {
   "codemirror_mode": {
    "name": "ipython",
    "version": 3
   },
   "file_extension": ".py",
   "mimetype": "text/x-python",
   "name": "python",
   "nbconvert_exporter": "python",
   "pygments_lexer": "ipython3",
   "version": "3.8.5"
  }
 },
 "nbformat": 4,
 "nbformat_minor": 4
}
